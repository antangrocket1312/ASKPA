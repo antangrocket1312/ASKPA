{
 "cells": [
  {
   "cell_type": "code",
   "execution_count": 1,
   "id": "ce931368",
   "metadata": {
    "pycharm": {
     "name": "#%%\n"
    }
   },
   "outputs": [],
   "source": [
    "import torch\n",
    "torch.cuda.empty_cache()"
   ]
  },
  {
   "cell_type": "code",
   "execution_count": 2,
   "id": "85f9856c",
   "metadata": {
    "pycharm": {
     "name": "#%%\n"
    }
   },
   "outputs": [],
   "source": [
    "import json\n",
    "import pandas as pd\n",
    "import numpy as np\n",
    "# import spacy\n",
    "import matplotlib.pyplot as plt\n",
    "\n",
    "pd.set_option('display.max_colwidth', None)"
   ]
  },
  {
   "cell_type": "code",
   "execution_count": 3,
   "id": "212e92fb",
   "metadata": {
    "pycharm": {
     "name": "#%%\n"
    }
   },
   "outputs": [],
   "source": [
    "from datasets import concatenate_datasets, load_dataset\n",
    "from datasets import Dataset, DatasetDict"
   ]
  },
  {
   "cell_type": "markdown",
   "id": "fe0421ec",
   "metadata": {
    "pycharm": {
     "name": "#%% md\n"
    }
   },
   "source": [
    "# Read Data"
   ]
  },
  {
   "cell_type": "code",
   "execution_count": 4,
   "id": "be48cd32",
   "metadata": {
    "pycharm": {
     "name": "#%%\n"
    }
   },
   "outputs": [],
   "source": [
    "rev_kp_dataset_df = pd.read_pickle(\"../data/training/train_data.pkl\")"
   ]
  },
  {
   "cell_type": "code",
   "execution_count": 5,
   "id": "3ba34012",
   "metadata": {
    "pycharm": {
     "name": "#%%\n"
    }
   },
   "outputs": [
    {
     "data": {
      "text/html": [
       "<div>\n",
       "<style scoped>\n",
       "    .dataframe tbody tr th:only-of-type {\n",
       "        vertical-align: middle;\n",
       "    }\n",
       "\n",
       "    .dataframe tbody tr th {\n",
       "        vertical-align: top;\n",
       "    }\n",
       "\n",
       "    .dataframe thead th {\n",
       "        text-align: right;\n",
       "    }\n",
       "</style>\n",
       "<table border=\"1\" class=\"dataframe\">\n",
       "  <thead>\n",
       "    <tr style=\"text-align: right;\">\n",
       "      <th></th>\n",
       "      <th>id_pair</th>\n",
       "      <th>sentences</th>\n",
       "      <th>key_point</th>\n",
       "      <th>business_name</th>\n",
       "      <th>domain</th>\n",
       "      <th>opinions_x</th>\n",
       "      <th>aspects_x</th>\n",
       "      <th>opinion_phrases_x</th>\n",
       "      <th>attributes</th>\n",
       "      <th>aspects_y</th>\n",
       "      <th>opinions_y</th>\n",
       "      <th>opinion_phrases_y</th>\n",
       "      <th>sentiments_x</th>\n",
       "      <th>sentiments_y</th>\n",
       "      <th>label</th>\n",
       "    </tr>\n",
       "  </thead>\n",
       "  <tbody>\n",
       "    <tr>\n",
       "      <th>0</th>\n",
       "      <td>459751_0##966072_0</td>\n",
       "      <td>I am in love with this hotel .</td>\n",
       "      <td>Hotel was clean and modern .</td>\n",
       "      <td>Kimpton Hotel Monaco Pittsburgh</td>\n",
       "      <td>hotel</td>\n",
       "      <td>[love]</td>\n",
       "      <td>[hotel]</td>\n",
       "      <td>[love hotel]</td>\n",
       "      <td>[restaurant -&gt; atmosphere]</td>\n",
       "      <td>[hotel]</td>\n",
       "      <td>[clean]</td>\n",
       "      <td>[clean hotel]</td>\n",
       "      <td>[positive]</td>\n",
       "      <td>[positive]</td>\n",
       "      <td>1.0</td>\n",
       "    </tr>\n",
       "    <tr>\n",
       "      <th>1</th>\n",
       "      <td>459751_1##922097_1</td>\n",
       "      <td>The staff is just amazing !</td>\n",
       "      <td>Staff goes above and beyond .</td>\n",
       "      <td>Kimpton Hotel Monaco Pittsburgh</td>\n",
       "      <td>hotel</td>\n",
       "      <td>[amazing]</td>\n",
       "      <td>[staff]</td>\n",
       "      <td>[amazing staff]</td>\n",
       "      <td>[staff]</td>\n",
       "      <td>[staff]</td>\n",
       "      <td>[above and beyond]</td>\n",
       "      <td>[above and beyond staff]</td>\n",
       "      <td>[positive]</td>\n",
       "      <td>[positive]</td>\n",
       "      <td>1.0</td>\n",
       "    </tr>\n",
       "    <tr>\n",
       "      <th>2</th>\n",
       "      <td>459751_1##459760_2</td>\n",
       "      <td>The staff is just amazing !</td>\n",
       "      <td>The staff accommodated our needs .</td>\n",
       "      <td>Kimpton Hotel Monaco Pittsburgh</td>\n",
       "      <td>hotel</td>\n",
       "      <td>[amazing]</td>\n",
       "      <td>[staff]</td>\n",
       "      <td>[amazing staff]</td>\n",
       "      <td>[staff]</td>\n",
       "      <td>[staff]</td>\n",
       "      <td>[accommodated]</td>\n",
       "      <td>[accommodated staff]</td>\n",
       "      <td>[positive]</td>\n",
       "      <td>[positive]</td>\n",
       "      <td>1.0</td>\n",
       "    </tr>\n",
       "    <tr>\n",
       "      <th>3</th>\n",
       "      <td>459751_1##820265_1</td>\n",
       "      <td>The staff is just amazing !</td>\n",
       "      <td>Staff was accommodating and friendly .</td>\n",
       "      <td>Kimpton Hotel Monaco Pittsburgh</td>\n",
       "      <td>hotel</td>\n",
       "      <td>[amazing]</td>\n",
       "      <td>[staff]</td>\n",
       "      <td>[amazing staff]</td>\n",
       "      <td>[staff]</td>\n",
       "      <td>[staff]</td>\n",
       "      <td>[accommodating]</td>\n",
       "      <td>[accommodating staff]</td>\n",
       "      <td>[positive]</td>\n",
       "      <td>[positive]</td>\n",
       "      <td>1.0</td>\n",
       "    </tr>\n",
       "    <tr>\n",
       "      <th>4</th>\n",
       "      <td>459751_1##671070_1</td>\n",
       "      <td>The staff is just amazing !</td>\n",
       "      <td>Attentive staff and housekeeping .</td>\n",
       "      <td>Kimpton Hotel Monaco Pittsburgh</td>\n",
       "      <td>hotel</td>\n",
       "      <td>[amazing]</td>\n",
       "      <td>[staff]</td>\n",
       "      <td>[amazing staff]</td>\n",
       "      <td>[staff]</td>\n",
       "      <td>[staff]</td>\n",
       "      <td>[attentive]</td>\n",
       "      <td>[attentive staff]</td>\n",
       "      <td>[positive]</td>\n",
       "      <td>[positive]</td>\n",
       "      <td>1.0</td>\n",
       "    </tr>\n",
       "    <tr>\n",
       "      <th>...</th>\n",
       "      <td>...</td>\n",
       "      <td>...</td>\n",
       "      <td>...</td>\n",
       "      <td>...</td>\n",
       "      <td>...</td>\n",
       "      <td>...</td>\n",
       "      <td>...</td>\n",
       "      <td>...</td>\n",
       "      <td>...</td>\n",
       "      <td>...</td>\n",
       "      <td>...</td>\n",
       "      <td>...</td>\n",
       "      <td>...</td>\n",
       "      <td>...</td>\n",
       "      <td>...</td>\n",
       "    </tr>\n",
       "    <tr>\n",
       "      <th>68485</th>\n",
       "      <td>1013513_2##998143_2</td>\n",
       "      <td>We started with the complementary ( refillable ) bread .</td>\n",
       "      <td>Crispy and perfectly seasoned .</td>\n",
       "      <td>Smith Bros.</td>\n",
       "      <td>restaurant</td>\n",
       "      <td>[refillable]</td>\n",
       "      <td>[bread]</td>\n",
       "      <td>[refillable bread]</td>\n",
       "      <td>[food -&gt; quality]</td>\n",
       "      <td>[seasoned]</td>\n",
       "      <td>[perfectly]</td>\n",
       "      <td>[perfectly seasoned]</td>\n",
       "      <td>[positive]</td>\n",
       "      <td>[positive]</td>\n",
       "      <td>0.0</td>\n",
       "    </tr>\n",
       "    <tr>\n",
       "      <th>68486</th>\n",
       "      <td>991573_5##998143_2</td>\n",
       "      <td>So fresh and full of amazing flavor soft not chewy perfection .</td>\n",
       "      <td>Crispy and perfectly seasoned .</td>\n",
       "      <td>Bavette's Steakhouse &amp; Bar</td>\n",
       "      <td>restaurant</td>\n",
       "      <td>[amazing]</td>\n",
       "      <td>[flavor]</td>\n",
       "      <td>[amazing flavor]</td>\n",
       "      <td>[food -&gt; quality]</td>\n",
       "      <td>[seasoned]</td>\n",
       "      <td>[perfectly]</td>\n",
       "      <td>[perfectly seasoned]</td>\n",
       "      <td>[positive]</td>\n",
       "      <td>[positive]</td>\n",
       "      <td>0.0</td>\n",
       "    </tr>\n",
       "    <tr>\n",
       "      <th>68487</th>\n",
       "      <td>1025790_0##998143_2</td>\n",
       "      <td>We also ordered an assortment of their thoughtfully created pizzas .</td>\n",
       "      <td>Crispy and perfectly seasoned .</td>\n",
       "      <td>Bar Cento</td>\n",
       "      <td>restaurant</td>\n",
       "      <td>[thoughtfully created]</td>\n",
       "      <td>[pizzas]</td>\n",
       "      <td>[thoughtfully created pizzas]</td>\n",
       "      <td>[food -&gt; quality]</td>\n",
       "      <td>[seasoned]</td>\n",
       "      <td>[perfectly]</td>\n",
       "      <td>[perfectly seasoned]</td>\n",
       "      <td>[positive]</td>\n",
       "      <td>[positive]</td>\n",
       "      <td>0.0</td>\n",
       "    </tr>\n",
       "    <tr>\n",
       "      <th>68488</th>\n",
       "      <td>994763_3##998143_2</td>\n",
       "      <td>We ordered the lamb , which had no seasoning .</td>\n",
       "      <td>Crispy and perfectly seasoned .</td>\n",
       "      <td>Indigo Crow Restaurant &amp; Bar</td>\n",
       "      <td>restaurant</td>\n",
       "      <td>[no seasoning]</td>\n",
       "      <td>[lamb]</td>\n",
       "      <td>[no seasoning lamb]</td>\n",
       "      <td>[food -&gt; quality]</td>\n",
       "      <td>[seasoned]</td>\n",
       "      <td>[perfectly]</td>\n",
       "      <td>[perfectly seasoned]</td>\n",
       "      <td>[negative]</td>\n",
       "      <td>[positive]</td>\n",
       "      <td>0.0</td>\n",
       "    </tr>\n",
       "    <tr>\n",
       "      <th>68489</th>\n",
       "      <td>1004226_0##998143_2</td>\n",
       "      <td>This location is so much more consistent on food and drink quality -</td>\n",
       "      <td>Crispy and perfectly seasoned .</td>\n",
       "      <td>Que Onda Cantina Highland Creek</td>\n",
       "      <td>restaurant</td>\n",
       "      <td>[consistent]</td>\n",
       "      <td>[food]</td>\n",
       "      <td>[consistent food]</td>\n",
       "      <td>[food -&gt; quality]</td>\n",
       "      <td>[seasoned]</td>\n",
       "      <td>[perfectly]</td>\n",
       "      <td>[perfectly seasoned]</td>\n",
       "      <td>[positive]</td>\n",
       "      <td>[positive]</td>\n",
       "      <td>0.0</td>\n",
       "    </tr>\n",
       "  </tbody>\n",
       "</table>\n",
       "<p>68490 rows × 15 columns</p>\n",
       "</div>"
      ],
      "text/plain": [
       "                   id_pair  \\\n",
       "0       459751_0##966072_0   \n",
       "1       459751_1##922097_1   \n",
       "2       459751_1##459760_2   \n",
       "3       459751_1##820265_1   \n",
       "4       459751_1##671070_1   \n",
       "...                    ...   \n",
       "68485  1013513_2##998143_2   \n",
       "68486   991573_5##998143_2   \n",
       "68487  1025790_0##998143_2   \n",
       "68488   994763_3##998143_2   \n",
       "68489  1004226_0##998143_2   \n",
       "\n",
       "                                                                  sentences  \\\n",
       "0                                          I am in love with this hotel .     \n",
       "1                                               The staff is just amazing !   \n",
       "2                                               The staff is just amazing !   \n",
       "3                                               The staff is just amazing !   \n",
       "4                                               The staff is just amazing !   \n",
       "...                                                                     ...   \n",
       "68485              We started with the complementary ( refillable ) bread .   \n",
       "68486       So fresh and full of amazing flavor soft not chewy perfection .   \n",
       "68487  We also ordered an assortment of their thoughtfully created pizzas .   \n",
       "68488                        We ordered the lamb , which had no seasoning .   \n",
       "68489  This location is so much more consistent on food and drink quality -   \n",
       "\n",
       "                                    key_point  \\\n",
       "0                Hotel was clean and modern .   \n",
       "1               Staff goes above and beyond .   \n",
       "2          The staff accommodated our needs .   \n",
       "3      Staff was accommodating and friendly .   \n",
       "4          Attentive staff and housekeeping .   \n",
       "...                                       ...   \n",
       "68485         Crispy and perfectly seasoned .   \n",
       "68486         Crispy and perfectly seasoned .   \n",
       "68487         Crispy and perfectly seasoned .   \n",
       "68488         Crispy and perfectly seasoned .   \n",
       "68489         Crispy and perfectly seasoned .   \n",
       "\n",
       "                         business_name      domain              opinions_x  \\\n",
       "0      Kimpton Hotel Monaco Pittsburgh       hotel                  [love]   \n",
       "1      Kimpton Hotel Monaco Pittsburgh       hotel               [amazing]   \n",
       "2      Kimpton Hotel Monaco Pittsburgh       hotel               [amazing]   \n",
       "3      Kimpton Hotel Monaco Pittsburgh       hotel               [amazing]   \n",
       "4      Kimpton Hotel Monaco Pittsburgh       hotel               [amazing]   \n",
       "...                                ...         ...                     ...   \n",
       "68485                      Smith Bros.  restaurant            [refillable]   \n",
       "68486       Bavette's Steakhouse & Bar  restaurant               [amazing]   \n",
       "68487                        Bar Cento  restaurant  [thoughtfully created]   \n",
       "68488     Indigo Crow Restaurant & Bar  restaurant          [no seasoning]   \n",
       "68489  Que Onda Cantina Highland Creek  restaurant            [consistent]   \n",
       "\n",
       "      aspects_x              opinion_phrases_x                  attributes  \\\n",
       "0       [hotel]                   [love hotel]  [restaurant -> atmosphere]   \n",
       "1       [staff]                [amazing staff]                     [staff]   \n",
       "2       [staff]                [amazing staff]                     [staff]   \n",
       "3       [staff]                [amazing staff]                     [staff]   \n",
       "4       [staff]                [amazing staff]                     [staff]   \n",
       "...         ...                            ...                         ...   \n",
       "68485   [bread]             [refillable bread]           [food -> quality]   \n",
       "68486  [flavor]               [amazing flavor]           [food -> quality]   \n",
       "68487  [pizzas]  [thoughtfully created pizzas]           [food -> quality]   \n",
       "68488    [lamb]            [no seasoning lamb]           [food -> quality]   \n",
       "68489    [food]              [consistent food]           [food -> quality]   \n",
       "\n",
       "        aspects_y          opinions_y         opinion_phrases_y sentiments_x  \\\n",
       "0         [hotel]             [clean]             [clean hotel]   [positive]   \n",
       "1         [staff]  [above and beyond]  [above and beyond staff]   [positive]   \n",
       "2         [staff]      [accommodated]      [accommodated staff]   [positive]   \n",
       "3         [staff]     [accommodating]     [accommodating staff]   [positive]   \n",
       "4         [staff]         [attentive]         [attentive staff]   [positive]   \n",
       "...           ...                 ...                       ...          ...   \n",
       "68485  [seasoned]         [perfectly]      [perfectly seasoned]   [positive]   \n",
       "68486  [seasoned]         [perfectly]      [perfectly seasoned]   [positive]   \n",
       "68487  [seasoned]         [perfectly]      [perfectly seasoned]   [positive]   \n",
       "68488  [seasoned]         [perfectly]      [perfectly seasoned]   [negative]   \n",
       "68489  [seasoned]         [perfectly]      [perfectly seasoned]   [positive]   \n",
       "\n",
       "      sentiments_y  label  \n",
       "0       [positive]    1.0  \n",
       "1       [positive]    1.0  \n",
       "2       [positive]    1.0  \n",
       "3       [positive]    1.0  \n",
       "4       [positive]    1.0  \n",
       "...            ...    ...  \n",
       "68485   [positive]    0.0  \n",
       "68486   [positive]    0.0  \n",
       "68487   [positive]    0.0  \n",
       "68488   [positive]    0.0  \n",
       "68489   [positive]    0.0  \n",
       "\n",
       "[68490 rows x 15 columns]"
      ]
     },
     "execution_count": 5,
     "metadata": {},
     "output_type": "execute_result"
    }
   ],
   "source": [
    "rev_kp_dataset_df"
   ]
  },
  {
   "cell_type": "code",
   "execution_count": 6,
   "id": "d2278d99",
   "metadata": {
    "pycharm": {
     "name": "#%%\n"
    }
   },
   "outputs": [],
   "source": [
    "rev_kp_dataset_df = rev_kp_dataset_df.rename(columns={'attributes': 'topic', 'sentences': 'text'})\n",
    "rev_kp_dataset_df['topic'] = rev_kp_dataset_df['topic'].apply(lambda x: ','.join(x))"
   ]
  },
  {
   "cell_type": "markdown",
   "id": "65a51c73",
   "metadata": {
    "pycharm": {
     "name": "#%% md\n"
    }
   },
   "source": [
    "# Prepare Contrastive Input"
   ]
  },
  {
   "cell_type": "code",
   "execution_count": 7,
   "id": "eee39e8f",
   "metadata": {
    "pycharm": {
     "name": "#%%\n"
    }
   },
   "outputs": [],
   "source": [
    "rev_kp_dataset_df = rev_kp_dataset_df.rename(columns={'text': 'full_comment', 'key_point': 'full_keypoint'})"
   ]
  },
  {
   "cell_type": "code",
   "execution_count": 8,
   "id": "708ad724",
   "metadata": {
    "pycharm": {
     "name": "#%%\n"
    }
   },
   "outputs": [],
   "source": [
    "def prepare_contrastive_input(row):\n",
    "    return row.iloc[0][0] + ' <SEP> ' + row.iloc[1][0]"
   ]
  },
  {
   "cell_type": "code",
   "execution_count": 9,
   "id": "703882f2",
   "metadata": {
    "pycharm": {
     "name": "#%%\n"
    }
   },
   "outputs": [
    {
     "data": {
      "text/plain": [
       "0                         love hotel <SEP> positive\n",
       "1                      amazing staff <SEP> positive\n",
       "2                      amazing staff <SEP> positive\n",
       "3                      amazing staff <SEP> positive\n",
       "4                      amazing staff <SEP> positive\n",
       "                            ...                    \n",
       "68485               refillable bread <SEP> positive\n",
       "68486                 amazing flavor <SEP> positive\n",
       "68487    thoughtfully created pizzas <SEP> positive\n",
       "68488              no seasoning lamb <SEP> negative\n",
       "68489                consistent food <SEP> positive\n",
       "Name: comment, Length: 68490, dtype: object"
      ]
     },
     "execution_count": 9,
     "metadata": {},
     "output_type": "execute_result"
    }
   ],
   "source": [
    "rev_kp_dataset_df['comment'] = rev_kp_dataset_df[['opinion_phrases_x', 'sentiments_x']].apply(prepare_contrastive_input, axis=1)\n",
    "rev_kp_dataset_df['comment']"
   ]
  },
  {
   "cell_type": "code",
   "execution_count": 10,
   "id": "e0b84fd8",
   "metadata": {
    "pycharm": {
     "name": "#%%\n"
    }
   },
   "outputs": [
    {
     "data": {
      "text/plain": [
       "0                   clean hotel <SEP> positive\n",
       "1        above and beyond staff <SEP> positive\n",
       "2            accommodated staff <SEP> positive\n",
       "3           accommodating staff <SEP> positive\n",
       "4               attentive staff <SEP> positive\n",
       "                         ...                  \n",
       "68485        perfectly seasoned <SEP> positive\n",
       "68486        perfectly seasoned <SEP> positive\n",
       "68487        perfectly seasoned <SEP> positive\n",
       "68488        perfectly seasoned <SEP> positive\n",
       "68489        perfectly seasoned <SEP> positive\n",
       "Name: keypoint, Length: 68490, dtype: object"
      ]
     },
     "execution_count": 10,
     "metadata": {},
     "output_type": "execute_result"
    }
   ],
   "source": [
    "rev_kp_dataset_df['keypoint'] = rev_kp_dataset_df[['opinion_phrases_y', 'sentiments_y']].apply(prepare_contrastive_input, axis=1)\n",
    "rev_kp_dataset_df['keypoint']"
   ]
  },
  {
   "cell_type": "markdown",
   "id": "fb3d277e",
   "metadata": {
    "pycharm": {
     "name": "#%% md\n"
    }
   },
   "source": [
    "# Train-Dev Split"
   ]
  },
  {
   "cell_type": "code",
   "execution_count": 11,
   "id": "1b9b7f9d",
   "metadata": {
    "pycharm": {
     "name": "#%%\n"
    }
   },
   "outputs": [],
   "source": [
    "dataset = Dataset.from_pandas(rev_kp_dataset_df[['topic', 'comment', 'full_comment',\n",
    "                                                 'keypoint', 'full_keypoint', \n",
    "                                                 'domain', 'label']]).shuffle(seed=42)"
   ]
  },
  {
   "cell_type": "code",
   "execution_count": 12,
   "id": "193958a6",
   "metadata": {
    "pycharm": {
     "name": "#%%\n"
    }
   },
   "outputs": [],
   "source": [
    "from sklearn.model_selection import KFold, GroupKFold\n",
    "from sklearn.model_selection import GroupShuffleSplit, ShuffleSplit"
   ]
  },
  {
   "cell_type": "code",
   "execution_count": 13,
   "id": "b1fe6213",
   "metadata": {
    "pycharm": {
     "name": "#%%\n"
    }
   },
   "outputs": [
    {
     "name": "stdout",
     "output_type": "stream",
     "text": [
      "TRAIN CLASSES:  11\n",
      "VAL CLASSES:  3\n"
     ]
    }
   ],
   "source": [
    "## Train/Val Split by group\n",
    "groups = dataset['topic']\n",
    "gss = GroupShuffleSplit(n_splits=1, train_size=0.85, random_state=32)\n",
    "\n",
    "for train_idx, val_idx in gss.split(dataset, groups=groups):\n",
    "    dataset.set_format(None)\n",
    "    \n",
    "    # Define data loaders for training and testing data in this fold\n",
    "    train_dataset = Dataset.from_dict(dataset[train_idx])\n",
    "    val_dataset = Dataset.from_dict(dataset[val_idx])\n",
    "    \n",
    "    train_dataset.set_format(\"pandas\")\n",
    "    d = train_dataset[:]\n",
    "    print(\"TRAIN CLASSES: \", len(d['topic'].unique()))\n",
    "    train_dataset.set_format(None)\n",
    "\n",
    "    val_dataset.set_format(\"pandas\")\n",
    "    d = val_dataset[:]\n",
    "    print(\"VAL CLASSES: \", len(d['topic'].unique()))\n",
    "    val_dataset.set_format(None)"
   ]
  },
  {
   "cell_type": "code",
   "execution_count": 14,
   "id": "5494cfda",
   "metadata": {
    "pycharm": {
     "name": "#%%\n"
    }
   },
   "outputs": [
    {
     "data": {
      "text/plain": [
       "DatasetDict({\n",
       "    train: Dataset({\n",
       "        features: ['topic', 'comment', 'full_comment', 'keypoint', 'full_keypoint', 'domain', 'label'],\n",
       "        num_rows: 64344\n",
       "    })\n",
       "    valid: Dataset({\n",
       "        features: ['topic', 'comment', 'full_comment', 'keypoint', 'full_keypoint', 'domain', 'label'],\n",
       "        num_rows: 4146\n",
       "    })\n",
       "})"
      ]
     },
     "execution_count": 14,
     "metadata": {},
     "output_type": "execute_result"
    }
   ],
   "source": [
    "datasets = DatasetDict({\n",
    "    \"train\": train_dataset,\n",
    "    \"valid\": val_dataset})\n",
    "datasets"
   ]
  },
  {
   "cell_type": "code",
   "execution_count": 15,
   "id": "ed02d1b9",
   "metadata": {
    "pycharm": {
     "name": "#%%\n"
    }
   },
   "outputs": [],
   "source": [
    "datasets.set_format(\"pandas\")"
   ]
  },
  {
   "cell_type": "code",
   "execution_count": 16,
   "id": "378275ac",
   "metadata": {
    "pycharm": {
     "name": "#%%\n"
    }
   },
   "outputs": [],
   "source": [
    "training_df = datasets['train'][:]\n",
    "valid_df = datasets['valid'][:]"
   ]
  },
  {
   "cell_type": "code",
   "execution_count": 17,
   "id": "3d6cfce8",
   "metadata": {
    "pycharm": {
     "name": "#%%\n"
    }
   },
   "outputs": [
    {
     "data": {
      "text/html": [
       "<div>\n",
       "<style scoped>\n",
       "    .dataframe tbody tr th:only-of-type {\n",
       "        vertical-align: middle;\n",
       "    }\n",
       "\n",
       "    .dataframe tbody tr th {\n",
       "        vertical-align: top;\n",
       "    }\n",
       "\n",
       "    .dataframe thead th {\n",
       "        text-align: right;\n",
       "    }\n",
       "</style>\n",
       "<table border=\"1\" class=\"dataframe\">\n",
       "  <thead>\n",
       "    <tr style=\"text-align: right;\">\n",
       "      <th></th>\n",
       "      <th>topic</th>\n",
       "      <th>comment</th>\n",
       "      <th>full_comment</th>\n",
       "      <th>keypoint</th>\n",
       "      <th>full_keypoint</th>\n",
       "      <th>domain</th>\n",
       "      <th>label</th>\n",
       "    </tr>\n",
       "  </thead>\n",
       "  <tbody>\n",
       "    <tr>\n",
       "      <th>0</th>\n",
       "      <td>restaurant -&gt; atmosphere</td>\n",
       "      <td>awesome vibe &lt;SEP&gt; positive</td>\n",
       "      <td>The vibe was awesome .</td>\n",
       "      <td>great furniture &lt;SEP&gt; positive</td>\n",
       "      <td>Great furniture and decor .</td>\n",
       "      <td>restaurant</td>\n",
       "      <td>0.0</td>\n",
       "    </tr>\n",
       "    <tr>\n",
       "      <th>1</th>\n",
       "      <td>restaurant -&gt; atmosphere</td>\n",
       "      <td>wonderful resort &lt;SEP&gt; positive</td>\n",
       "      <td>The montelucia is a wonderful resort .</td>\n",
       "      <td>worst experience &lt;SEP&gt; negative</td>\n",
       "      <td>Worst experience of my life .</td>\n",
       "      <td>hotel</td>\n",
       "      <td>0.0</td>\n",
       "    </tr>\n",
       "    <tr>\n",
       "      <th>2</th>\n",
       "      <td>food -&gt; quality</td>\n",
       "      <td>great indian food &lt;SEP&gt; positive</td>\n",
       "      <td>GO TO THIS PLACE FOR GREAT INDIAN FOOD !</td>\n",
       "      <td>great food &lt;SEP&gt; positive</td>\n",
       "      <td>Great food and beer selection .</td>\n",
       "      <td>restaurant</td>\n",
       "      <td>1.0</td>\n",
       "    </tr>\n",
       "    <tr>\n",
       "      <th>3</th>\n",
       "      <td>staff</td>\n",
       "      <td>always been great service &lt;SEP&gt; positive</td>\n",
       "      <td>the service has always been great .</td>\n",
       "      <td>very attentive service &lt;SEP&gt; positive</td>\n",
       "      <td>Service was very attentive .</td>\n",
       "      <td>restaurant</td>\n",
       "      <td>1.0</td>\n",
       "    </tr>\n",
       "    <tr>\n",
       "      <th>4</th>\n",
       "      <td>food -&gt; quality</td>\n",
       "      <td>excellent indian food &lt;SEP&gt; positive</td>\n",
       "      <td>Excellent Indian food .</td>\n",
       "      <td>very authentic indian cuisine &lt;SEP&gt; positive</td>\n",
       "      <td>Very authentic Indian cuisine .</td>\n",
       "      <td>restaurant</td>\n",
       "      <td>0.0</td>\n",
       "    </tr>\n",
       "    <tr>\n",
       "      <th>...</th>\n",
       "      <td>...</td>\n",
       "      <td>...</td>\n",
       "      <td>...</td>\n",
       "      <td>...</td>\n",
       "      <td>...</td>\n",
       "      <td>...</td>\n",
       "      <td>...</td>\n",
       "    </tr>\n",
       "    <tr>\n",
       "      <th>64339</th>\n",
       "      <td>staff</td>\n",
       "      <td>very friendly staff &lt;SEP&gt; positive</td>\n",
       "      <td>Staff was very friendly .</td>\n",
       "      <td>customer based staff &lt;SEP&gt; positive</td>\n",
       "      <td>The Staff were customer based .</td>\n",
       "      <td>hotel</td>\n",
       "      <td>1.0</td>\n",
       "    </tr>\n",
       "    <tr>\n",
       "      <th>64340</th>\n",
       "      <td>staff</td>\n",
       "      <td>nice accommodating &lt;SEP&gt; positive</td>\n",
       "      <td>He was very accommodating , nice , and detailed .</td>\n",
       "      <td>good service &lt;SEP&gt; positive</td>\n",
       "      <td>keep up the good service .</td>\n",
       "      <td>hotel</td>\n",
       "      <td>0.0</td>\n",
       "    </tr>\n",
       "    <tr>\n",
       "      <th>64341</th>\n",
       "      <td>food -&gt; quality</td>\n",
       "      <td>excellent rolls &lt;SEP&gt; positive</td>\n",
       "      <td>Lots of excellent rolls for under $ 6 .</td>\n",
       "      <td>authentic mexican food &lt;SEP&gt; positive</td>\n",
       "      <td>Authentic Mexican food .</td>\n",
       "      <td>restaurant</td>\n",
       "      <td>0.0</td>\n",
       "    </tr>\n",
       "    <tr>\n",
       "      <th>64342</th>\n",
       "      <td>food -&gt; quality</td>\n",
       "      <td>terrible food &lt;SEP&gt; negative</td>\n",
       "      <td>Come here only if you want to pay $ 150 Canadian for terrible food .</td>\n",
       "      <td>poorly cooked food &lt;SEP&gt; negative</td>\n",
       "      <td>Poorly cooked food</td>\n",
       "      <td>restaurant</td>\n",
       "      <td>1.0</td>\n",
       "    </tr>\n",
       "    <tr>\n",
       "      <th>64343</th>\n",
       "      <td>food -&gt; quality</td>\n",
       "      <td>thoughtfully created pizzas &lt;SEP&gt; positive</td>\n",
       "      <td>We also ordered an assortment of their thoughtfully created pizzas .</td>\n",
       "      <td>great authentic indian food &lt;SEP&gt; positive</td>\n",
       "      <td>Great authentic Indian food .</td>\n",
       "      <td>restaurant</td>\n",
       "      <td>0.0</td>\n",
       "    </tr>\n",
       "  </tbody>\n",
       "</table>\n",
       "<p>64344 rows × 7 columns</p>\n",
       "</div>"
      ],
      "text/plain": [
       "                          topic                                     comment  \\\n",
       "0      restaurant -> atmosphere                 awesome vibe <SEP> positive   \n",
       "1      restaurant -> atmosphere             wonderful resort <SEP> positive   \n",
       "2               food -> quality            great indian food <SEP> positive   \n",
       "3                         staff    always been great service <SEP> positive   \n",
       "4               food -> quality        excellent indian food <SEP> positive   \n",
       "...                         ...                                         ...   \n",
       "64339                     staff          very friendly staff <SEP> positive   \n",
       "64340                     staff           nice accommodating <SEP> positive   \n",
       "64341           food -> quality              excellent rolls <SEP> positive   \n",
       "64342           food -> quality                terrible food <SEP> negative   \n",
       "64343           food -> quality  thoughtfully created pizzas <SEP> positive   \n",
       "\n",
       "                                                               full_comment  \\\n",
       "0                                                    The vibe was awesome .   \n",
       "1                                    The montelucia is a wonderful resort .   \n",
       "2                                  GO TO THIS PLACE FOR GREAT INDIAN FOOD !   \n",
       "3                                       the service has always been great .   \n",
       "4                                                   Excellent Indian food .   \n",
       "...                                                                     ...   \n",
       "64339                                             Staff was very friendly .   \n",
       "64340                     He was very accommodating , nice , and detailed .   \n",
       "64341                             Lots of excellent rolls for under $ 6 .     \n",
       "64342  Come here only if you want to pay $ 150 Canadian for terrible food .   \n",
       "64343  We also ordered an assortment of their thoughtfully created pizzas .   \n",
       "\n",
       "                                           keypoint  \\\n",
       "0                    great furniture <SEP> positive   \n",
       "1                   worst experience <SEP> negative   \n",
       "2                         great food <SEP> positive   \n",
       "3             very attentive service <SEP> positive   \n",
       "4      very authentic indian cuisine <SEP> positive   \n",
       "...                                             ...   \n",
       "64339           customer based staff <SEP> positive   \n",
       "64340                   good service <SEP> positive   \n",
       "64341         authentic mexican food <SEP> positive   \n",
       "64342             poorly cooked food <SEP> negative   \n",
       "64343    great authentic indian food <SEP> positive   \n",
       "\n",
       "                           full_keypoint      domain  label  \n",
       "0          Great furniture and decor .    restaurant    0.0  \n",
       "1          Worst experience of my life .       hotel    0.0  \n",
       "2        Great food and beer selection .  restaurant    1.0  \n",
       "3           Service was very attentive .  restaurant    1.0  \n",
       "4        Very authentic Indian cuisine .  restaurant    0.0  \n",
       "...                                  ...         ...    ...  \n",
       "64339  The Staff were customer based .         hotel    1.0  \n",
       "64340         keep up the good service .       hotel    0.0  \n",
       "64341           Authentic Mexican food .  restaurant    0.0  \n",
       "64342                 Poorly cooked food  restaurant    1.0  \n",
       "64343      Great authentic Indian food .  restaurant    0.0  \n",
       "\n",
       "[64344 rows x 7 columns]"
      ]
     },
     "execution_count": 17,
     "metadata": {},
     "output_type": "execute_result"
    }
   ],
   "source": [
    "training_df"
   ]
  },
  {
   "cell_type": "code",
   "execution_count": 18,
   "id": "0e13954b",
   "metadata": {
    "pycharm": {
     "name": "#%%\n"
    }
   },
   "outputs": [
    {
     "data": {
      "text/html": [
       "<div>\n",
       "<style scoped>\n",
       "    .dataframe tbody tr th:only-of-type {\n",
       "        vertical-align: middle;\n",
       "    }\n",
       "\n",
       "    .dataframe tbody tr th {\n",
       "        vertical-align: top;\n",
       "    }\n",
       "\n",
       "    .dataframe thead th {\n",
       "        text-align: right;\n",
       "    }\n",
       "</style>\n",
       "<table border=\"1\" class=\"dataframe\">\n",
       "  <thead>\n",
       "    <tr style=\"text-align: right;\">\n",
       "      <th></th>\n",
       "      <th>topic</th>\n",
       "      <th>comment</th>\n",
       "      <th>full_comment</th>\n",
       "      <th>keypoint</th>\n",
       "      <th>full_keypoint</th>\n",
       "      <th>domain</th>\n",
       "      <th>label</th>\n",
       "    </tr>\n",
       "  </thead>\n",
       "  <tbody>\n",
       "    <tr>\n",
       "      <th>0</th>\n",
       "      <td>drink -&gt; alcohol</td>\n",
       "      <td>very nice wine bar &lt;SEP&gt; positive</td>\n",
       "      <td>We ate in the wine bar behind the actual restaurant which was very nice and cozy .</td>\n",
       "      <td>disappointment beer sampler &lt;SEP&gt; negative</td>\n",
       "      <td>Beer sampler a disappointment</td>\n",
       "      <td>restaurant</td>\n",
       "      <td>0.0</td>\n",
       "    </tr>\n",
       "    <tr>\n",
       "      <th>1</th>\n",
       "      <td>wait-time</td>\n",
       "      <td>better detour &lt;SEP&gt; positive</td>\n",
       "      <td>Detour was better than any of these yelp reviews could rate !</td>\n",
       "      <td>very poor wifi &lt;SEP&gt; negative</td>\n",
       "      <td>WiFi was very poor also .</td>\n",
       "      <td>hotel</td>\n",
       "      <td>0.0</td>\n",
       "    </tr>\n",
       "    <tr>\n",
       "      <th>2</th>\n",
       "      <td>drink -&gt; alcohol</td>\n",
       "      <td>extensive knowledge of wine list &lt;SEP&gt; positive</td>\n",
       "      <td>She had extensive knowledge of the wine list and the food menu and offered up great suggestions for combos .</td>\n",
       "      <td>hidden gem &lt;SEP&gt; positive</td>\n",
       "      <td>What a hidden gem .</td>\n",
       "      <td>restaurant</td>\n",
       "      <td>0.0</td>\n",
       "    </tr>\n",
       "    <tr>\n",
       "      <th>3</th>\n",
       "      <td>drink -&gt; alcohol</td>\n",
       "      <td>out of this world infused cocktails &lt;SEP&gt; positive</td>\n",
       "      <td>The infused cocktails are out of this world ! ! ! !</td>\n",
       "      <td>impressive wine list &lt;SEP&gt; positive</td>\n",
       "      <td>Wine list is also impressive .</td>\n",
       "      <td>restaurant</td>\n",
       "      <td>0.0</td>\n",
       "    </tr>\n",
       "    <tr>\n",
       "      <th>4</th>\n",
       "      <td>drink -&gt; alcohol</td>\n",
       "      <td>lovely cocktails &lt;SEP&gt; positive</td>\n",
       "      <td>We chose two lovely cocktails off their menu before ordering dinner .</td>\n",
       "      <td>disappointment beer sampler &lt;SEP&gt; negative</td>\n",
       "      <td>Beer sampler a disappointment</td>\n",
       "      <td>restaurant</td>\n",
       "      <td>0.0</td>\n",
       "    </tr>\n",
       "    <tr>\n",
       "      <th>...</th>\n",
       "      <td>...</td>\n",
       "      <td>...</td>\n",
       "      <td>...</td>\n",
       "      <td>...</td>\n",
       "      <td>...</td>\n",
       "      <td>...</td>\n",
       "      <td>...</td>\n",
       "    </tr>\n",
       "    <tr>\n",
       "      <th>4141</th>\n",
       "      <td>wait-time</td>\n",
       "      <td>24 hour room service &lt;SEP&gt; positive</td>\n",
       "      <td>24 hour room service ( life saver when my flight arrived at 2 am from the west coast and I was really hungry ) .</td>\n",
       "      <td>heavily congested elevators &lt;SEP&gt; negative</td>\n",
       "      <td>Elevators were heavily congested .</td>\n",
       "      <td>hotel</td>\n",
       "      <td>0.0</td>\n",
       "    </tr>\n",
       "    <tr>\n",
       "      <th>4142</th>\n",
       "      <td>drink -&gt; alcohol</td>\n",
       "      <td>very nice wine list &lt;SEP&gt; positive</td>\n",
       "      <td>VERY nice wine list and decor .</td>\n",
       "      <td>great cocktails &lt;SEP&gt; positive</td>\n",
       "      <td>Great cocktails and wines .</td>\n",
       "      <td>restaurant</td>\n",
       "      <td>0.0</td>\n",
       "    </tr>\n",
       "    <tr>\n",
       "      <th>4143</th>\n",
       "      <td>drink -&gt; alcohol</td>\n",
       "      <td>robust flavors &lt;SEP&gt; positive</td>\n",
       "      <td>wow the robust flavors .</td>\n",
       "      <td>great cocktails &lt;SEP&gt; positive</td>\n",
       "      <td>Great cocktails and wines .</td>\n",
       "      <td>restaurant</td>\n",
       "      <td>0.0</td>\n",
       "    </tr>\n",
       "    <tr>\n",
       "      <th>4144</th>\n",
       "      <td>drink -&gt; alcohol</td>\n",
       "      <td>locally made ohio vodka &lt;SEP&gt; positive</td>\n",
       "      <td>I liked that they used locally made Ohio vodka from watershed distillery .</td>\n",
       "      <td>good bang for your buck &lt;SEP&gt; positive</td>\n",
       "      <td>good bang for your buck .</td>\n",
       "      <td>restaurant</td>\n",
       "      <td>0.0</td>\n",
       "    </tr>\n",
       "    <tr>\n",
       "      <th>4145</th>\n",
       "      <td>drink -&gt; alcohol</td>\n",
       "      <td>solid house brew &lt;SEP&gt; positive</td>\n",
       "      <td>Solid house brew .</td>\n",
       "      <td>great selection of beers &lt;SEP&gt; positive</td>\n",
       "      <td>Great selection of Beers .</td>\n",
       "      <td>restaurant</td>\n",
       "      <td>0.0</td>\n",
       "    </tr>\n",
       "  </tbody>\n",
       "</table>\n",
       "<p>4146 rows × 7 columns</p>\n",
       "</div>"
      ],
      "text/plain": [
       "                 topic                                             comment  \\\n",
       "0     drink -> alcohol                   very nice wine bar <SEP> positive   \n",
       "1            wait-time                        better detour <SEP> positive   \n",
       "2     drink -> alcohol     extensive knowledge of wine list <SEP> positive   \n",
       "3     drink -> alcohol  out of this world infused cocktails <SEP> positive   \n",
       "4     drink -> alcohol                     lovely cocktails <SEP> positive   \n",
       "...                ...                                                 ...   \n",
       "4141         wait-time                 24 hour room service <SEP> positive   \n",
       "4142  drink -> alcohol                  very nice wine list <SEP> positive   \n",
       "4143  drink -> alcohol                       robust flavors <SEP> positive   \n",
       "4144  drink -> alcohol              locally made ohio vodka <SEP> positive   \n",
       "4145  drink -> alcohol                     solid house brew <SEP> positive   \n",
       "\n",
       "                                                                                                              full_comment  \\\n",
       "0                                       We ate in the wine bar behind the actual restaurant which was very nice and cozy .   \n",
       "1                                                            Detour was better than any of these yelp reviews could rate !   \n",
       "2             She had extensive knowledge of the wine list and the food menu and offered up great suggestions for combos .   \n",
       "3                                                                      The infused cocktails are out of this world ! ! ! !   \n",
       "4                                                    We chose two lovely cocktails off their menu before ordering dinner .   \n",
       "...                                                                                                                    ...   \n",
       "4141  24 hour room service ( life saver when my flight arrived at 2 am from the west coast and I was really hungry ) .       \n",
       "4142                                                                                       VERY nice wine list and decor .   \n",
       "4143                                                                                            wow the robust flavors .     \n",
       "4144                                            I liked that they used locally made Ohio vodka from watershed distillery .   \n",
       "4145                                                                                                    Solid house brew .   \n",
       "\n",
       "                                        keypoint  \\\n",
       "0     disappointment beer sampler <SEP> negative   \n",
       "1                  very poor wifi <SEP> negative   \n",
       "2                      hidden gem <SEP> positive   \n",
       "3            impressive wine list <SEP> positive   \n",
       "4     disappointment beer sampler <SEP> negative   \n",
       "...                                          ...   \n",
       "4141  heavily congested elevators <SEP> negative   \n",
       "4142              great cocktails <SEP> positive   \n",
       "4143              great cocktails <SEP> positive   \n",
       "4144      good bang for your buck <SEP> positive   \n",
       "4145     great selection of beers <SEP> positive   \n",
       "\n",
       "                             full_keypoint      domain  label  \n",
       "0            Beer sampler a disappointment  restaurant    0.0  \n",
       "1              WiFi was very poor also .         hotel    0.0  \n",
       "2                   What a hidden gem .     restaurant    0.0  \n",
       "3         Wine list is also impressive .    restaurant    0.0  \n",
       "4            Beer sampler a disappointment  restaurant    0.0  \n",
       "...                                    ...         ...    ...  \n",
       "4141  Elevators were heavily congested .         hotel    0.0  \n",
       "4142           Great cocktails and wines .  restaurant    0.0  \n",
       "4143           Great cocktails and wines .  restaurant    0.0  \n",
       "4144             good bang for your buck .  restaurant    0.0  \n",
       "4145          Great selection of Beers .    restaurant    0.0  \n",
       "\n",
       "[4146 rows x 7 columns]"
      ]
     },
     "execution_count": 18,
     "metadata": {},
     "output_type": "execute_result"
    }
   ],
   "source": [
    "valid_df"
   ]
  },
  {
   "cell_type": "code",
   "execution_count": 19,
   "id": "ced5b808",
   "metadata": {
    "pycharm": {
     "name": "#%%\n"
    }
   },
   "outputs": [],
   "source": [
    "training_df['label'] = training_df.label.apply(lambda x: int(x))\n",
    "training_df[['comment', 'keypoint', 'domain', 'label']].to_csv('./training_material/siamese-data/training_df_contrastive.csv')\n",
    "\n",
    "valid_df['label'] = valid_df.label.apply(lambda x: int(x))\n",
    "valid_df[['comment', 'keypoint', 'domain', 'label']].to_csv('./training_material/siamese-data/valid_df_contrastive.csv')"
   ]
  },
  {
   "cell_type": "markdown",
   "id": "6fd7349b",
   "metadata": {
    "pycharm": {
     "name": "#%% md\n"
    }
   },
   "source": [
    "## Create separate sets of comments/KPs"
   ]
  },
  {
   "cell_type": "code",
   "execution_count": 20,
   "id": "c1fe9e30",
   "metadata": {
    "pycharm": {
     "name": "#%%\n"
    }
   },
   "outputs": [
    {
     "data": {
      "text/plain": [
       "DatasetDict({\n",
       "    train: Dataset({\n",
       "        features: ['topic', 'comment', 'full_comment', 'keypoint', 'full_keypoint', 'domain', 'label'],\n",
       "        num_rows: 64344\n",
       "    })\n",
       "    valid: Dataset({\n",
       "        features: ['topic', 'comment', 'full_comment', 'keypoint', 'full_keypoint', 'domain', 'label'],\n",
       "        num_rows: 4146\n",
       "    })\n",
       "})"
      ]
     },
     "execution_count": 20,
     "metadata": {},
     "output_type": "execute_result"
    }
   ],
   "source": [
    "contrastive_datasets = datasets\n",
    "contrastive_datasets"
   ]
  },
  {
   "cell_type": "code",
   "execution_count": 21,
   "id": "f67968ef",
   "metadata": {
    "pycharm": {
     "name": "#%%\n"
    }
   },
   "outputs": [],
   "source": [
    "contrastive_datasets = contrastive_datasets.rename_columns({'full_keypoint': 'full_key_point', 'keypoint': 'key_point'})"
   ]
  },
  {
   "cell_type": "code",
   "execution_count": 22,
   "id": "e516da9d",
   "metadata": {
    "pycharm": {
     "name": "#%%\n"
    }
   },
   "outputs": [],
   "source": [
    "# Functions to label id\n",
    "i = 0\n",
    "curr_topic = \"\"\n",
    "def label_group_id(grp_df):\n",
    "    global i\n",
    "    grp_df['group_id'] = i\n",
    "    grp_df = grp_df.reset_index(drop=True)\n",
    "    grp_df = grp_df.reset_index()\n",
    "    i += 1\n",
    "    return grp_df\n",
    "\n",
    "def label_kp_id(grp_df):\n",
    "    global i\n",
    "    global curr_topic\n",
    "    if grp_df['topic'].iloc[0] != curr_topic:\n",
    "        i = 0\n",
    "        curr_topic = grp_df['topic'].iloc[0]\n",
    "    grp_df['kp_id'] = i\n",
    "    grp_df = grp_df.reset_index(drop=True)\n",
    "    i += 1\n",
    "    return grp_df\n",
    "\n",
    "def label_comment_id(grp_df):\n",
    "    global i\n",
    "    global curr_topic\n",
    "    if grp_df['topic'].iloc[0] != curr_topic:\n",
    "        i = 0\n",
    "        curr_topic = grp_df['topic'].iloc[0]\n",
    "    grp_df['comm_id'] = i\n",
    "    grp_df = grp_df.reset_index(drop=True)\n",
    "    i += 1\n",
    "    return grp_df"
   ]
  },
  {
   "cell_type": "code",
   "execution_count": 23,
   "id": "710bdb34",
   "metadata": {
    "pycharm": {
     "name": "#%%\n"
    }
   },
   "outputs": [],
   "source": [
    "def create_comment_kp_label_dfs(datasets, subset):\n",
    "    dataset = datasets[subset].shuffle(seed=42)\n",
    "    dataset.set_format(\"pandas\")\n",
    "    df = dataset[:]\n",
    "    df = df.rename(columns={'text': 'comment'})\n",
    "    \n",
    "    global i\n",
    "    i = 0\n",
    "    df = df.groupby(['topic']).apply(label_group_id).reset_index(drop=True)  \n",
    "    \n",
    "    i = 0\n",
    "    df = df.groupby(['topic', 'comment']).apply(label_comment_id).reset_index(drop=True)\n",
    "    \n",
    "    i = 0\n",
    "    df = df.groupby(['topic', 'key_point']).apply(label_kp_id).reset_index(drop=True)\n",
    "    \n",
    "    df['comment_id'] = \"comment_\" + df['group_id'].astype(str) + \"_\" + df['comm_id'].astype(str)\n",
    "    df['key_point_id'] = \"kp_\" + df['group_id'].astype(str) + \"_\" + df['kp_id'].astype(str)\n",
    "    \n",
    "    comments_df = df[:].sort_values(by=['group_id', 'comm_id'])\\\n",
    "        [['comment_id', 'comment', 'full_comment', 'topic', 'domain']].\\\n",
    "        drop_duplicates().reset_index(drop=True)\n",
    "    \n",
    "    keypoints_df = df[:].sort_values(by=['group_id', 'kp_id'])\\\n",
    "        [['key_point_id', 'key_point', 'full_key_point', 'topic', 'domain']].\\\n",
    "        drop_duplicates().reset_index(drop=True)\n",
    "    \n",
    "    labels_df = df[:].sort_values(by=['group_id', 'index'])[['comment_id', 'key_point_id', 'label']]\n",
    "    labels_df['label'] = labels_df.label.apply(lambda x: int(x))\n",
    "    \n",
    "    return comments_df.reset_index(drop=True), keypoints_df.reset_index(drop=True), labels_df.reset_index(drop=True)"
   ]
  },
  {
   "cell_type": "code",
   "execution_count": 24,
   "id": "2e3a4db4",
   "metadata": {
    "pycharm": {
     "name": "#%%\n"
    }
   },
   "outputs": [],
   "source": [
    "for subset, subset_save in zip(['train', 'valid'], ['train', 'dev']):\n",
    "    comments_df, keypoints_df, labels_df = create_comment_kp_label_dfs(contrastive_datasets, subset)\n",
    "    comments_df.to_csv(f\"./training_material/siamese-data/comments_{subset_save}.csv\", index=False)\n",
    "    keypoints_df.to_csv(f\"./training_material/siamese-data/key_points_{subset_save}.csv\", index=False)\n",
    "    labels_df.to_csv(f\"./training_material/siamese-data/labels_{subset_save}.csv\", index=False)"
   ]
  },
  {
   "cell_type": "code",
   "execution_count": 25,
   "id": "68b48ab1",
   "metadata": {
    "pycharm": {
     "name": "#%%\n"
    }
   },
   "outputs": [
    {
     "data": {
      "text/html": [
       "<div>\n",
       "<style scoped>\n",
       "    .dataframe tbody tr th:only-of-type {\n",
       "        vertical-align: middle;\n",
       "    }\n",
       "\n",
       "    .dataframe tbody tr th {\n",
       "        vertical-align: top;\n",
       "    }\n",
       "\n",
       "    .dataframe thead th {\n",
       "        text-align: right;\n",
       "    }\n",
       "</style>\n",
       "<table border=\"1\" class=\"dataframe\">\n",
       "  <thead>\n",
       "    <tr style=\"text-align: right;\">\n",
       "      <th></th>\n",
       "      <th>comment_id</th>\n",
       "      <th>comment</th>\n",
       "      <th>full_comment</th>\n",
       "      <th>topic</th>\n",
       "      <th>domain</th>\n",
       "    </tr>\n",
       "  </thead>\n",
       "  <tbody>\n",
       "    <tr>\n",
       "      <th>0</th>\n",
       "      <td>comment_0_0</td>\n",
       "      <td>very champagne &lt;SEP&gt; positive</td>\n",
       "      <td>I like the champagne   very friendly staff .</td>\n",
       "      <td>drink -&gt; alcohol</td>\n",
       "      <td>hotel</td>\n",
       "    </tr>\n",
       "    <tr>\n",
       "      <th>1</th>\n",
       "      <td>comment_0_1</td>\n",
       "      <td>very martinis &lt;SEP&gt; positive</td>\n",
       "      <td>Drinks specials for martinis were   very good .</td>\n",
       "      <td>drink -&gt; alcohol</td>\n",
       "      <td>restaurant</td>\n",
       "    </tr>\n",
       "    <tr>\n",
       "      <th>2</th>\n",
       "      <td>comment_0_2</td>\n",
       "      <td>a little too strong cocktail &lt;SEP&gt; negative</td>\n",
       "      <td>The cocktail was also a little too strong for my liking , but I can see other people enjoying it .</td>\n",
       "      <td>drink -&gt; alcohol</td>\n",
       "      <td>restaurant</td>\n",
       "    </tr>\n",
       "    <tr>\n",
       "      <th>3</th>\n",
       "      <td>comment_0_3</td>\n",
       "      <td>above average wine list &lt;SEP&gt; positive</td>\n",
       "      <td>Wine list was above average .</td>\n",
       "      <td>drink -&gt; alcohol</td>\n",
       "      <td>restaurant</td>\n",
       "    </tr>\n",
       "    <tr>\n",
       "      <th>4</th>\n",
       "      <td>comment_0_4</td>\n",
       "      <td>absolute knockout pineapple martini &lt;SEP&gt; positive</td>\n",
       "      <td>The Pineapple Martini was an absolute knockout ! ! !</td>\n",
       "      <td>drink -&gt; alcohol</td>\n",
       "      <td>restaurant</td>\n",
       "    </tr>\n",
       "    <tr>\n",
       "      <th>...</th>\n",
       "      <td>...</td>\n",
       "      <td>...</td>\n",
       "      <td>...</td>\n",
       "      <td>...</td>\n",
       "      <td>...</td>\n",
       "    </tr>\n",
       "    <tr>\n",
       "      <th>658</th>\n",
       "      <td>comment_2_262</td>\n",
       "      <td>wonderful stayed &lt;SEP&gt; positive</td>\n",
       "      <td>Stayed a week , and it was wonderful !</td>\n",
       "      <td>wait-time</td>\n",
       "      <td>hotel</td>\n",
       "    </tr>\n",
       "    <tr>\n",
       "      <th>659</th>\n",
       "      <td>comment_2_263</td>\n",
       "      <td>worst spend 50 &lt;SEP&gt; negative</td>\n",
       "      <td>51$. Worst spend 50 dollars of my life .</td>\n",
       "      <td>wait-time</td>\n",
       "      <td>restaurant</td>\n",
       "    </tr>\n",
       "    <tr>\n",
       "      <th>660</th>\n",
       "      <td>comment_2_264</td>\n",
       "      <td>worth visit &lt;SEP&gt; positive</td>\n",
       "      <td>Definitely worth a visit .</td>\n",
       "      <td>wait-time</td>\n",
       "      <td>restaurant</td>\n",
       "    </tr>\n",
       "    <tr>\n",
       "      <th>661</th>\n",
       "      <td>comment_2_265</td>\n",
       "      <td>worth wait &lt;SEP&gt; positive</td>\n",
       "      <td>So worth the wait ! !</td>\n",
       "      <td>wait-time</td>\n",
       "      <td>restaurant</td>\n",
       "    </tr>\n",
       "    <tr>\n",
       "      <th>662</th>\n",
       "      <td>comment_2_266</td>\n",
       "      <td>zero wait time &lt;SEP&gt; positive</td>\n",
       "      <td>I made reservations for 5 : 15 and got there at 5 with zero wait time ... perfect !</td>\n",
       "      <td>wait-time</td>\n",
       "      <td>restaurant</td>\n",
       "    </tr>\n",
       "  </tbody>\n",
       "</table>\n",
       "<p>663 rows × 5 columns</p>\n",
       "</div>"
      ],
      "text/plain": [
       "        comment_id                                             comment  \\\n",
       "0      comment_0_0                       very champagne <SEP> positive   \n",
       "1      comment_0_1                        very martinis <SEP> positive   \n",
       "2      comment_0_2         a little too strong cocktail <SEP> negative   \n",
       "3      comment_0_3              above average wine list <SEP> positive   \n",
       "4      comment_0_4  absolute knockout pineapple martini <SEP> positive   \n",
       "..             ...                                                 ...   \n",
       "658  comment_2_262                     wonderful stayed <SEP> positive   \n",
       "659  comment_2_263                       worst spend 50 <SEP> negative   \n",
       "660  comment_2_264                          worth visit <SEP> positive   \n",
       "661  comment_2_265                           worth wait <SEP> positive   \n",
       "662  comment_2_266                       zero wait time <SEP> positive   \n",
       "\n",
       "                                                                                              full_comment  \\\n",
       "0                                                             I like the champagne   very friendly staff .   \n",
       "1                                                          Drinks specials for martinis were   very good .   \n",
       "2    The cocktail was also a little too strong for my liking , but I can see other people enjoying it .      \n",
       "3                                                                          Wine list was above average .     \n",
       "4                                                     The Pineapple Martini was an absolute knockout ! ! !   \n",
       "..                                                                                                     ...   \n",
       "658                                                                 Stayed a week , and it was wonderful !   \n",
       "659                                                               51$. Worst spend 50 dollars of my life .   \n",
       "660                                                                             Definitely worth a visit .   \n",
       "661                                                                                  So worth the wait ! !   \n",
       "662                    I made reservations for 5 : 15 and got there at 5 with zero wait time ... perfect !   \n",
       "\n",
       "                topic      domain  \n",
       "0    drink -> alcohol       hotel  \n",
       "1    drink -> alcohol  restaurant  \n",
       "2    drink -> alcohol  restaurant  \n",
       "3    drink -> alcohol  restaurant  \n",
       "4    drink -> alcohol  restaurant  \n",
       "..                ...         ...  \n",
       "658         wait-time       hotel  \n",
       "659         wait-time  restaurant  \n",
       "660         wait-time  restaurant  \n",
       "661         wait-time  restaurant  \n",
       "662         wait-time  restaurant  \n",
       "\n",
       "[663 rows x 5 columns]"
      ]
     },
     "execution_count": 25,
     "metadata": {},
     "output_type": "execute_result"
    }
   ],
   "source": [
    "comments_df"
   ]
  },
  {
   "cell_type": "code",
   "execution_count": null,
   "id": "171d164a",
   "metadata": {
    "pycharm": {
     "name": "#%%\n"
    }
   },
   "outputs": [],
   "source": []
  }
 ],
 "metadata": {
  "kernelspec": {
   "display_name": "Python 3 (ipykernel)",
   "language": "python",
   "name": "python3"
  },
  "language_info": {
   "codemirror_mode": {
    "name": "ipython",
    "version": 3
   },
   "file_extension": ".py",
   "mimetype": "text/x-python",
   "name": "python",
   "nbconvert_exporter": "python",
   "pygments_lexer": "ipython3",
   "version": "3.9.12"
  },
  "toc": {
   "base_numbering": 1,
   "nav_menu": {},
   "number_sections": true,
   "sideBar": true,
   "skip_h1_title": false,
   "title_cell": "Table of Contents",
   "title_sidebar": "Contents",
   "toc_cell": false,
   "toc_position": {},
   "toc_section_display": true,
   "toc_window_display": true
  }
 },
 "nbformat": 4,
 "nbformat_minor": 5
}
