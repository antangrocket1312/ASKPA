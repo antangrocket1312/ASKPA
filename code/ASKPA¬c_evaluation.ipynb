{
 "cells": [
  {
   "cell_type": "markdown",
   "id": "7123e039",
   "metadata": {},
   "source": [
    "# Evaluation on Turk Crowdsourced Aspect-Opinion Pair (3) Manual KP Multi-Aspect"
   ]
  },
  {
   "cell_type": "code",
   "execution_count": 1,
   "id": "540877ca",
   "metadata": {},
   "outputs": [
    {
     "name": "stderr",
     "output_type": "stream",
     "text": [
      "/home/an/anaconda3/envs/deep_learning_env_2/lib/python3.9/site-packages/scipy/__init__.py:146: UserWarning: A NumPy version >=1.16.5 and <1.23.0 is required for this version of SciPy (detected version 1.23.5\n",
      "  warnings.warn(f\"A NumPy version >={np_minversion} and <{np_maxversion}\"\n",
      "2023-07-11 19:09:00.250175: I tensorflow/stream_executor/platform/default/dso_loader.cc:53] Successfully opened dynamic library libcudart.so.11.0\n",
      "2023-07-11 19:09:01.415939: I tensorflow/stream_executor/platform/default/dso_loader.cc:53] Successfully opened dynamic library libcuda.so.1\n",
      "2023-07-11 19:09:01.416311: I tensorflow/stream_executor/cuda/cuda_gpu_executor.cc:923] could not open file to read NUMA node: /sys/bus/pci/devices/0000:01:00.0/numa_node\n",
      "Your kernel may have been built without NUMA support.\n",
      "2023-07-11 19:09:01.416458: I tensorflow/core/common_runtime/gpu/gpu_device.cc:1733] Found device 0 with properties: \n",
      "pciBusID: 0000:01:00.0 name: NVIDIA GeForce RTX 3080 Ti computeCapability: 8.6\n",
      "coreClock: 1.77GHz coreCount: 80 deviceMemorySize: 12.00GiB deviceMemoryBandwidth: 849.46GiB/s\n",
      "2023-07-11 19:09:01.416507: I tensorflow/stream_executor/platform/default/dso_loader.cc:53] Successfully opened dynamic library libcudart.so.11.0\n",
      "2023-07-11 19:09:01.416541: I tensorflow/stream_executor/platform/default/dso_loader.cc:53] Successfully opened dynamic library libcublas.so.11\n",
      "2023-07-11 19:09:01.416553: I tensorflow/stream_executor/platform/default/dso_loader.cc:53] Successfully opened dynamic library libcublasLt.so.11\n",
      "2023-07-11 19:09:01.416567: I tensorflow/stream_executor/platform/default/dso_loader.cc:53] Successfully opened dynamic library libcufft.so.10\n",
      "2023-07-11 19:09:01.416579: I tensorflow/stream_executor/platform/default/dso_loader.cc:53] Successfully opened dynamic library libcurand.so.10\n",
      "2023-07-11 19:09:01.416600: I tensorflow/stream_executor/platform/default/dso_loader.cc:53] Successfully opened dynamic library libcusolver.so.11\n",
      "2023-07-11 19:09:01.416605: I tensorflow/stream_executor/platform/default/dso_loader.cc:53] Successfully opened dynamic library libcusparse.so.11\n",
      "2023-07-11 19:09:01.416626: I tensorflow/stream_executor/platform/default/dso_loader.cc:53] Successfully opened dynamic library libcudnn.so.8\n",
      "2023-07-11 19:09:01.416804: I tensorflow/stream_executor/cuda/cuda_gpu_executor.cc:923] could not open file to read NUMA node: /sys/bus/pci/devices/0000:01:00.0/numa_node\n",
      "Your kernel may have been built without NUMA support.\n",
      "2023-07-11 19:09:01.417022: I tensorflow/stream_executor/cuda/cuda_gpu_executor.cc:923] could not open file to read NUMA node: /sys/bus/pci/devices/0000:01:00.0/numa_node\n",
      "Your kernel may have been built without NUMA support.\n",
      "2023-07-11 19:09:01.417114: I tensorflow/core/common_runtime/gpu/gpu_device.cc:1871] Adding visible gpu devices: 0\n"
     ]
    }
   ],
   "source": [
    "import json\n",
    "import pandas as pd\n",
    "import numpy as np\n",
    "import ast\n",
    "import spacy\n",
    "import matplotlib.pyplot as plt\n",
    "\n",
    "pd.set_option('display.max_colwidth', None)"
   ]
  },
  {
   "cell_type": "code",
   "execution_count": 2,
   "id": "376abd8a",
   "metadata": {},
   "outputs": [],
   "source": [
    "from datasets import concatenate_datasets, load_dataset\n",
    "from datasets import Dataset, DatasetDict"
   ]
  },
  {
   "cell_type": "code",
   "execution_count": 3,
   "id": "0d9325e8",
   "metadata": {},
   "outputs": [],
   "source": [
    "from utils.track_1_kp_matching import *"
   ]
  },
  {
   "cell_type": "code",
   "execution_count": 4,
   "id": "cfe3553d",
   "metadata": {},
   "outputs": [],
   "source": [
    "from sentence_transformers import SentenceTransformer, InputExample, LoggingHandler, losses, models, util\n",
    "import torch"
   ]
  },
  {
   "cell_type": "code",
   "execution_count": 5,
   "id": "ceaa0387",
   "metadata": {},
   "outputs": [],
   "source": [
    "from datasets import concatenate_datasets, load_dataset\n",
    "from datasets import Dataset, DatasetDict\n",
    "from torch.utils.data import DataLoader"
   ]
  },
  {
   "cell_type": "markdown",
   "id": "f6573260",
   "metadata": {},
   "source": [
    "First with top 10 args per category labelling of test set"
   ]
  },
  {
   "cell_type": "markdown",
   "id": "69db8157",
   "metadata": {},
   "source": [
    "## Load Test dataset"
   ]
  },
  {
   "cell_type": "code",
   "execution_count": 6,
   "id": "a4007725",
   "metadata": {},
   "outputs": [],
   "source": [
    "df = pd.read_pickle(f\"../data/Evaluation/test_data.pkl\")"
   ]
  },
  {
   "cell_type": "code",
   "execution_count": 7,
   "id": "c557a03b",
   "metadata": {},
   "outputs": [
    {
     "data": {
      "text/html": [
       "<div>\n",
       "<style scoped>\n",
       "    .dataframe tbody tr th:only-of-type {\n",
       "        vertical-align: middle;\n",
       "    }\n",
       "\n",
       "    .dataframe tbody tr th {\n",
       "        vertical-align: top;\n",
       "    }\n",
       "\n",
       "    .dataframe thead th {\n",
       "        text-align: right;\n",
       "    }\n",
       "</style>\n",
       "<table border=\"1\" class=\"dataframe\">\n",
       "  <thead>\n",
       "    <tr style=\"text-align: right;\">\n",
       "      <th></th>\n",
       "      <th>HITId</th>\n",
       "      <th>comment_id</th>\n",
       "      <th>label</th>\n",
       "      <th>full_key_point</th>\n",
       "      <th>key_point_id</th>\n",
       "      <th>comment</th>\n",
       "      <th>full_comment</th>\n",
       "      <th>attributes</th>\n",
       "      <th>topic</th>\n",
       "      <th>isMultiAspect</th>\n",
       "      <th>...</th>\n",
       "      <th>old_key_point_id</th>\n",
       "      <th>key_point</th>\n",
       "      <th>aspects_x</th>\n",
       "      <th>opinions_x</th>\n",
       "      <th>opinion_aspect_pairs_x</th>\n",
       "      <th>sentiments_x</th>\n",
       "      <th>aspects_y</th>\n",
       "      <th>opinions_y</th>\n",
       "      <th>opinion_aspect_pairs_y</th>\n",
       "      <th>sentiments_y</th>\n",
       "    </tr>\n",
       "  </thead>\n",
       "  <tbody>\n",
       "    <tr>\n",
       "      <th>0</th>\n",
       "      <td>302U8RURJZ1WH0D09XZ8R7HSOP5NVW</td>\n",
       "      <td>arg_0_537</td>\n",
       "      <td>1</td>\n",
       "      <td>Terrible administration and management .</td>\n",
       "      <td>kp_0_2</td>\n",
       "      <td>[uninviting experience &lt;SEP&gt; negative, rude employees &lt;SEP&gt; negative]</td>\n",
       "      <td>Employees are rude and make the experience uninviting .</td>\n",
       "      <td>[restaurant -&gt; atmosphere, staff]</td>\n",
       "      <td>Arts &amp; Entertainment</td>\n",
       "      <td>True</td>\n",
       "      <td>...</td>\n",
       "      <td>kp_0_2</td>\n",
       "      <td>terrible administration &lt;SEP&gt; negative</td>\n",
       "      <td>[experience, employees]</td>\n",
       "      <td>[uninviting, rude]</td>\n",
       "      <td>[uninviting experience, rude employees]</td>\n",
       "      <td>[negative, negative]</td>\n",
       "      <td>administration</td>\n",
       "      <td>terrible</td>\n",
       "      <td>['terrible administration']</td>\n",
       "      <td>['negative']</td>\n",
       "    </tr>\n",
       "    <tr>\n",
       "      <th>1</th>\n",
       "      <td>302U8RURJZ1WH0D09XZ8R7HSOP5NVW</td>\n",
       "      <td>arg_0_537</td>\n",
       "      <td>1</td>\n",
       "      <td>Rude and Unprofessional staff .</td>\n",
       "      <td>kp_0_24</td>\n",
       "      <td>[uninviting experience &lt;SEP&gt; negative, rude employees &lt;SEP&gt; negative]</td>\n",
       "      <td>Employees are rude and make the experience uninviting .</td>\n",
       "      <td>[restaurant -&gt; atmosphere, staff]</td>\n",
       "      <td>Arts &amp; Entertainment</td>\n",
       "      <td>True</td>\n",
       "      <td>...</td>\n",
       "      <td>kp_0_24</td>\n",
       "      <td>unprofessional staff &lt;SEP&gt; negative</td>\n",
       "      <td>[experience, employees]</td>\n",
       "      <td>[uninviting, rude]</td>\n",
       "      <td>[uninviting experience, rude employees]</td>\n",
       "      <td>[negative, negative]</td>\n",
       "      <td>staff</td>\n",
       "      <td>unprofessional</td>\n",
       "      <td>['unprofessional staff']</td>\n",
       "      <td>['negative']</td>\n",
       "    </tr>\n",
       "    <tr>\n",
       "      <th>2</th>\n",
       "      <td>302U8RURJZ1WH0D09XZ8R7HSOP5NVW</td>\n",
       "      <td>arg_0_537</td>\n",
       "      <td>0</td>\n",
       "      <td>Great for conventions and concerts ! !</td>\n",
       "      <td>kp_0_4</td>\n",
       "      <td>[uninviting experience &lt;SEP&gt; negative, rude employees &lt;SEP&gt; negative]</td>\n",
       "      <td>Employees are rude and make the experience uninviting .</td>\n",
       "      <td>[restaurant -&gt; atmosphere, staff]</td>\n",
       "      <td>Arts &amp; Entertainment</td>\n",
       "      <td>True</td>\n",
       "      <td>...</td>\n",
       "      <td>kp_0_4</td>\n",
       "      <td>great for conventions &lt;SEP&gt; positive</td>\n",
       "      <td>[experience, employees]</td>\n",
       "      <td>[uninviting, rude]</td>\n",
       "      <td>[uninviting experience, rude employees]</td>\n",
       "      <td>[negative, negative]</td>\n",
       "      <td>conventions</td>\n",
       "      <td>great for</td>\n",
       "      <td>['great for conventions']</td>\n",
       "      <td>['positive']</td>\n",
       "    </tr>\n",
       "    <tr>\n",
       "      <th>3</th>\n",
       "      <td>302U8RURJZ1WH0D09XZ8R7HSOP5NVW</td>\n",
       "      <td>arg_0_537</td>\n",
       "      <td>0</td>\n",
       "      <td>Horrible customer service .</td>\n",
       "      <td>kp_0_5</td>\n",
       "      <td>[uninviting experience &lt;SEP&gt; negative, rude employees &lt;SEP&gt; negative]</td>\n",
       "      <td>Employees are rude and make the experience uninviting .</td>\n",
       "      <td>[restaurant -&gt; atmosphere, staff]</td>\n",
       "      <td>Arts &amp; Entertainment</td>\n",
       "      <td>True</td>\n",
       "      <td>...</td>\n",
       "      <td>kp_0_5</td>\n",
       "      <td>horrible customer service &lt;SEP&gt; negative</td>\n",
       "      <td>[experience, employees]</td>\n",
       "      <td>[uninviting, rude]</td>\n",
       "      <td>[uninviting experience, rude employees]</td>\n",
       "      <td>[negative, negative]</td>\n",
       "      <td>customer service</td>\n",
       "      <td>horrible</td>\n",
       "      <td>['horrible customer service']</td>\n",
       "      <td>['negative']</td>\n",
       "    </tr>\n",
       "    <tr>\n",
       "      <th>4</th>\n",
       "      <td>302U8RURJZ1WH0D09XZ8R7HSOP5NVW</td>\n",
       "      <td>arg_0_537</td>\n",
       "      <td>0</td>\n",
       "      <td>It had wonderful acoustics .</td>\n",
       "      <td>kp_0_0</td>\n",
       "      <td>[uninviting experience &lt;SEP&gt; negative, rude employees &lt;SEP&gt; negative]</td>\n",
       "      <td>Employees are rude and make the experience uninviting .</td>\n",
       "      <td>[restaurant -&gt; atmosphere, staff]</td>\n",
       "      <td>Arts &amp; Entertainment</td>\n",
       "      <td>True</td>\n",
       "      <td>...</td>\n",
       "      <td>kp_0_0</td>\n",
       "      <td>wonderful acoustics &lt;SEP&gt; positive</td>\n",
       "      <td>[experience, employees]</td>\n",
       "      <td>[uninviting, rude]</td>\n",
       "      <td>[uninviting experience, rude employees]</td>\n",
       "      <td>[negative, negative]</td>\n",
       "      <td>acoustics</td>\n",
       "      <td>wonderful</td>\n",
       "      <td>['wonderful acoustics']</td>\n",
       "      <td>['positive']</td>\n",
       "    </tr>\n",
       "    <tr>\n",
       "      <th>...</th>\n",
       "      <td>...</td>\n",
       "      <td>...</td>\n",
       "      <td>...</td>\n",
       "      <td>...</td>\n",
       "      <td>...</td>\n",
       "      <td>...</td>\n",
       "      <td>...</td>\n",
       "      <td>...</td>\n",
       "      <td>...</td>\n",
       "      <td>...</td>\n",
       "      <td>...</td>\n",
       "      <td>...</td>\n",
       "      <td>...</td>\n",
       "      <td>...</td>\n",
       "      <td>...</td>\n",
       "      <td>...</td>\n",
       "      <td>...</td>\n",
       "      <td>...</td>\n",
       "      <td>...</td>\n",
       "      <td>...</td>\n",
       "      <td>...</td>\n",
       "    </tr>\n",
       "    <tr>\n",
       "      <th>6794</th>\n",
       "      <td>3ZXV7Q5FJBOOUZUJKSLQTAKU1UIFC3</td>\n",
       "      <td>arg_4_6440</td>\n",
       "      <td>0</td>\n",
       "      <td>Great family owned restaurant .</td>\n",
       "      <td>kp_4_25</td>\n",
       "      <td>[friendly staff &lt;SEP&gt; positive]</td>\n",
       "      <td>The staff are friendly and attentive .</td>\n",
       "      <td>[staff]</td>\n",
       "      <td>Restaurants</td>\n",
       "      <td>False</td>\n",
       "      <td>...</td>\n",
       "      <td>kp_4_25</td>\n",
       "      <td>great family owned restaurant &lt;SEP&gt; positive</td>\n",
       "      <td>[staff]</td>\n",
       "      <td>[friendly]</td>\n",
       "      <td>[friendly staff]</td>\n",
       "      <td>[positive]</td>\n",
       "      <td>restaurant</td>\n",
       "      <td>great family owned</td>\n",
       "      <td>['great family owned restaurant']</td>\n",
       "      <td>['positive']</td>\n",
       "    </tr>\n",
       "    <tr>\n",
       "      <th>6795</th>\n",
       "      <td>3ZXV7Q5FJBOOUZUJKSLQTAKU1UIFC3</td>\n",
       "      <td>arg_4_6440</td>\n",
       "      <td>0</td>\n",
       "      <td>Worst service in the world !</td>\n",
       "      <td>kp_4_27</td>\n",
       "      <td>[friendly staff &lt;SEP&gt; positive]</td>\n",
       "      <td>The staff are friendly and attentive .</td>\n",
       "      <td>[staff]</td>\n",
       "      <td>Restaurants</td>\n",
       "      <td>False</td>\n",
       "      <td>...</td>\n",
       "      <td>kp_4_27</td>\n",
       "      <td>worst service &lt;SEP&gt; negative</td>\n",
       "      <td>[staff]</td>\n",
       "      <td>[friendly]</td>\n",
       "      <td>[friendly staff]</td>\n",
       "      <td>[positive]</td>\n",
       "      <td>service</td>\n",
       "      <td>worst</td>\n",
       "      <td>['worst service']</td>\n",
       "      <td>['negative']</td>\n",
       "    </tr>\n",
       "    <tr>\n",
       "      <th>6796</th>\n",
       "      <td>3ZXV7Q5FJBOOUZUJKSLQTAKU1UIFC3</td>\n",
       "      <td>arg_4_6440</td>\n",
       "      <td>0</td>\n",
       "      <td>Rude and inattentive staff .</td>\n",
       "      <td>kp_4_30</td>\n",
       "      <td>[friendly staff &lt;SEP&gt; positive]</td>\n",
       "      <td>The staff are friendly and attentive .</td>\n",
       "      <td>[staff]</td>\n",
       "      <td>Restaurants</td>\n",
       "      <td>False</td>\n",
       "      <td>...</td>\n",
       "      <td>kp_4_30</td>\n",
       "      <td>inattentive staff &lt;SEP&gt; negative</td>\n",
       "      <td>[staff]</td>\n",
       "      <td>[friendly]</td>\n",
       "      <td>[friendly staff]</td>\n",
       "      <td>[positive]</td>\n",
       "      <td>staff</td>\n",
       "      <td>inattentive</td>\n",
       "      <td>['inattentive staff']</td>\n",
       "      <td>['negative']</td>\n",
       "    </tr>\n",
       "    <tr>\n",
       "      <th>6797</th>\n",
       "      <td>3ZXV7Q5FJBOOUZUJKSLQTAKU1UIFC3</td>\n",
       "      <td>arg_4_6440</td>\n",
       "      <td>0</td>\n",
       "      <td>Great sushi and sashimi .</td>\n",
       "      <td>kp_4_31</td>\n",
       "      <td>[friendly staff &lt;SEP&gt; positive]</td>\n",
       "      <td>The staff are friendly and attentive .</td>\n",
       "      <td>[staff]</td>\n",
       "      <td>Restaurants</td>\n",
       "      <td>False</td>\n",
       "      <td>...</td>\n",
       "      <td>kp_4_31</td>\n",
       "      <td>great sushi &lt;SEP&gt; positive</td>\n",
       "      <td>[staff]</td>\n",
       "      <td>[friendly]</td>\n",
       "      <td>[friendly staff]</td>\n",
       "      <td>[positive]</td>\n",
       "      <td>sushi</td>\n",
       "      <td>great</td>\n",
       "      <td>['great sushi']</td>\n",
       "      <td>['positive']</td>\n",
       "    </tr>\n",
       "    <tr>\n",
       "      <th>6798</th>\n",
       "      <td>3ZXV7Q5FJBOOUZUJKSLQTAKU1UIFC3</td>\n",
       "      <td>arg_4_6440</td>\n",
       "      <td>0</td>\n",
       "      <td>Wait times are very long .</td>\n",
       "      <td>kp_4_32</td>\n",
       "      <td>[friendly staff &lt;SEP&gt; positive]</td>\n",
       "      <td>The staff are friendly and attentive .</td>\n",
       "      <td>[staff]</td>\n",
       "      <td>Restaurants</td>\n",
       "      <td>False</td>\n",
       "      <td>...</td>\n",
       "      <td>kp_4_32</td>\n",
       "      <td>very long wait times &lt;SEP&gt; negative</td>\n",
       "      <td>[staff]</td>\n",
       "      <td>[friendly]</td>\n",
       "      <td>[friendly staff]</td>\n",
       "      <td>[positive]</td>\n",
       "      <td>wait times</td>\n",
       "      <td>very long</td>\n",
       "      <td>['very long wait times']</td>\n",
       "      <td>['negative']</td>\n",
       "    </tr>\n",
       "  </tbody>\n",
       "</table>\n",
       "<p>6799 rows × 22 columns</p>\n",
       "</div>"
      ],
      "text/plain": [
       "                               HITId  comment_id  label  \\\n",
       "0     302U8RURJZ1WH0D09XZ8R7HSOP5NVW   arg_0_537      1   \n",
       "1     302U8RURJZ1WH0D09XZ8R7HSOP5NVW   arg_0_537      1   \n",
       "2     302U8RURJZ1WH0D09XZ8R7HSOP5NVW   arg_0_537      0   \n",
       "3     302U8RURJZ1WH0D09XZ8R7HSOP5NVW   arg_0_537      0   \n",
       "4     302U8RURJZ1WH0D09XZ8R7HSOP5NVW   arg_0_537      0   \n",
       "...                              ...         ...    ...   \n",
       "6794  3ZXV7Q5FJBOOUZUJKSLQTAKU1UIFC3  arg_4_6440      0   \n",
       "6795  3ZXV7Q5FJBOOUZUJKSLQTAKU1UIFC3  arg_4_6440      0   \n",
       "6796  3ZXV7Q5FJBOOUZUJKSLQTAKU1UIFC3  arg_4_6440      0   \n",
       "6797  3ZXV7Q5FJBOOUZUJKSLQTAKU1UIFC3  arg_4_6440      0   \n",
       "6798  3ZXV7Q5FJBOOUZUJKSLQTAKU1UIFC3  arg_4_6440      0   \n",
       "\n",
       "                                full_key_point key_point_id  \\\n",
       "0     Terrible administration and management .       kp_0_2   \n",
       "1              Rude and Unprofessional staff .      kp_0_24   \n",
       "2       Great for conventions and concerts ! !       kp_0_4   \n",
       "3                  Horrible customer service .       kp_0_5   \n",
       "4                 It had wonderful acoustics .       kp_0_0   \n",
       "...                                        ...          ...   \n",
       "6794           Great family owned restaurant .      kp_4_25   \n",
       "6795            Worst service in the world !        kp_4_27   \n",
       "6796              Rude and inattentive staff .      kp_4_30   \n",
       "6797                 Great sushi and sashimi .      kp_4_31   \n",
       "6798              Wait times are very long .        kp_4_32   \n",
       "\n",
       "                                                                    comment  \\\n",
       "0     [uninviting experience <SEP> negative, rude employees <SEP> negative]   \n",
       "1     [uninviting experience <SEP> negative, rude employees <SEP> negative]   \n",
       "2     [uninviting experience <SEP> negative, rude employees <SEP> negative]   \n",
       "3     [uninviting experience <SEP> negative, rude employees <SEP> negative]   \n",
       "4     [uninviting experience <SEP> negative, rude employees <SEP> negative]   \n",
       "...                                                                     ...   \n",
       "6794                                        [friendly staff <SEP> positive]   \n",
       "6795                                        [friendly staff <SEP> positive]   \n",
       "6796                                        [friendly staff <SEP> positive]   \n",
       "6797                                        [friendly staff <SEP> positive]   \n",
       "6798                                        [friendly staff <SEP> positive]   \n",
       "\n",
       "                                                 full_comment  \\\n",
       "0     Employees are rude and make the experience uninviting .   \n",
       "1     Employees are rude and make the experience uninviting .   \n",
       "2     Employees are rude and make the experience uninviting .   \n",
       "3     Employees are rude and make the experience uninviting .   \n",
       "4     Employees are rude and make the experience uninviting .   \n",
       "...                                                       ...   \n",
       "6794                   The staff are friendly and attentive .   \n",
       "6795                   The staff are friendly and attentive .   \n",
       "6796                   The staff are friendly and attentive .   \n",
       "6797                   The staff are friendly and attentive .   \n",
       "6798                   The staff are friendly and attentive .   \n",
       "\n",
       "                             attributes                 topic  isMultiAspect  \\\n",
       "0     [restaurant -> atmosphere, staff]  Arts & Entertainment           True   \n",
       "1     [restaurant -> atmosphere, staff]  Arts & Entertainment           True   \n",
       "2     [restaurant -> atmosphere, staff]  Arts & Entertainment           True   \n",
       "3     [restaurant -> atmosphere, staff]  Arts & Entertainment           True   \n",
       "4     [restaurant -> atmosphere, staff]  Arts & Entertainment           True   \n",
       "...                                 ...                   ...            ...   \n",
       "6794                            [staff]           Restaurants          False   \n",
       "6795                            [staff]           Restaurants          False   \n",
       "6796                            [staff]           Restaurants          False   \n",
       "6797                            [staff]           Restaurants          False   \n",
       "6798                            [staff]           Restaurants          False   \n",
       "\n",
       "      ...  old_key_point_id                                     key_point  \\\n",
       "0     ...            kp_0_2        terrible administration <SEP> negative   \n",
       "1     ...           kp_0_24           unprofessional staff <SEP> negative   \n",
       "2     ...            kp_0_4          great for conventions <SEP> positive   \n",
       "3     ...            kp_0_5      horrible customer service <SEP> negative   \n",
       "4     ...            kp_0_0            wonderful acoustics <SEP> positive   \n",
       "...   ...               ...                                           ...   \n",
       "6794  ...           kp_4_25  great family owned restaurant <SEP> positive   \n",
       "6795  ...           kp_4_27                  worst service <SEP> negative   \n",
       "6796  ...           kp_4_30              inattentive staff <SEP> negative   \n",
       "6797  ...           kp_4_31                    great sushi <SEP> positive   \n",
       "6798  ...           kp_4_32           very long wait times <SEP> negative   \n",
       "\n",
       "                    aspects_x          opinions_x  \\\n",
       "0     [experience, employees]  [uninviting, rude]   \n",
       "1     [experience, employees]  [uninviting, rude]   \n",
       "2     [experience, employees]  [uninviting, rude]   \n",
       "3     [experience, employees]  [uninviting, rude]   \n",
       "4     [experience, employees]  [uninviting, rude]   \n",
       "...                       ...                 ...   \n",
       "6794                  [staff]          [friendly]   \n",
       "6795                  [staff]          [friendly]   \n",
       "6796                  [staff]          [friendly]   \n",
       "6797                  [staff]          [friendly]   \n",
       "6798                  [staff]          [friendly]   \n",
       "\n",
       "                       opinion_aspect_pairs_x          sentiments_x  \\\n",
       "0     [uninviting experience, rude employees]  [negative, negative]   \n",
       "1     [uninviting experience, rude employees]  [negative, negative]   \n",
       "2     [uninviting experience, rude employees]  [negative, negative]   \n",
       "3     [uninviting experience, rude employees]  [negative, negative]   \n",
       "4     [uninviting experience, rude employees]  [negative, negative]   \n",
       "...                                       ...                   ...   \n",
       "6794                         [friendly staff]            [positive]   \n",
       "6795                         [friendly staff]            [positive]   \n",
       "6796                         [friendly staff]            [positive]   \n",
       "6797                         [friendly staff]            [positive]   \n",
       "6798                         [friendly staff]            [positive]   \n",
       "\n",
       "             aspects_y          opinions_y             opinion_aspect_pairs_y  \\\n",
       "0       administration            terrible        ['terrible administration']   \n",
       "1                staff      unprofessional           ['unprofessional staff']   \n",
       "2          conventions           great for          ['great for conventions']   \n",
       "3     customer service            horrible      ['horrible customer service']   \n",
       "4            acoustics           wonderful            ['wonderful acoustics']   \n",
       "...                ...                 ...                                ...   \n",
       "6794        restaurant  great family owned  ['great family owned restaurant']   \n",
       "6795           service               worst                  ['worst service']   \n",
       "6796             staff         inattentive              ['inattentive staff']   \n",
       "6797             sushi               great                    ['great sushi']   \n",
       "6798        wait times           very long           ['very long wait times']   \n",
       "\n",
       "      sentiments_y  \n",
       "0     ['negative']  \n",
       "1     ['negative']  \n",
       "2     ['positive']  \n",
       "3     ['negative']  \n",
       "4     ['positive']  \n",
       "...            ...  \n",
       "6794  ['positive']  \n",
       "6795  ['negative']  \n",
       "6796  ['negative']  \n",
       "6797  ['positive']  \n",
       "6798  ['negative']  \n",
       "\n",
       "[6799 rows x 22 columns]"
      ]
     },
     "execution_count": 7,
     "metadata": {},
     "output_type": "execute_result"
    }
   ],
   "source": [
    "df"
   ]
  },
  {
   "cell_type": "code",
   "execution_count": 8,
   "id": "e83139f0",
   "metadata": {},
   "outputs": [
    {
     "data": {
      "text/plain": [
       "0    6380\n",
       "1     419\n",
       "Name: label, dtype: int64"
      ]
     },
     "execution_count": 8,
     "metadata": {},
     "output_type": "execute_result"
    }
   ],
   "source": [
    "df['label'].value_counts()"
   ]
  },
  {
   "cell_type": "code",
   "execution_count": 9,
   "id": "71cd8414",
   "metadata": {},
   "outputs": [],
   "source": [
    "# df = df[df['topic'] == 'Hotels']\n",
    "# df = df[df['topic'] == 'Restaurants']\n",
    "# df = df[df['topic'] == 'Arts & Entertainment']\n",
    "# df = df[df['topic'] == 'Automotive']\n",
    "# df = df[df['topic'] == 'Beauty & Spas']"
   ]
  },
  {
   "cell_type": "code",
   "execution_count": 10,
   "id": "2d965e13",
   "metadata": {},
   "outputs": [],
   "source": [
    "# df = df[df['isMultiAspect'] == True]"
   ]
  },
  {
   "cell_type": "markdown",
   "id": "9b0c125e",
   "metadata": {},
   "source": [
    "### Multi-Aspect Configuration"
   ]
  },
  {
   "cell_type": "code",
   "execution_count": 11,
   "id": "f04216aa",
   "metadata": {},
   "outputs": [
    {
     "data": {
      "text/plain": [
       "240"
      ]
     },
     "execution_count": 11,
     "metadata": {},
     "output_type": "execute_result"
    }
   ],
   "source": [
    "len(df['full_comment'].unique())"
   ]
  },
  {
   "cell_type": "code",
   "execution_count": 12,
   "id": "fb2d0f84",
   "metadata": {},
   "outputs": [],
   "source": [
    "df['num_of_aspects'] = df['comment'].str.len()"
   ]
  },
  {
   "cell_type": "code",
   "execution_count": 13,
   "id": "3f33b5bf",
   "metadata": {},
   "outputs": [
    {
     "data": {
      "text/html": [
       "<div>\n",
       "<style scoped>\n",
       "    .dataframe tbody tr th:only-of-type {\n",
       "        vertical-align: middle;\n",
       "    }\n",
       "\n",
       "    .dataframe tbody tr th {\n",
       "        vertical-align: top;\n",
       "    }\n",
       "\n",
       "    .dataframe thead th {\n",
       "        text-align: right;\n",
       "    }\n",
       "</style>\n",
       "<table border=\"1\" class=\"dataframe\">\n",
       "  <thead>\n",
       "    <tr style=\"text-align: right;\">\n",
       "      <th></th>\n",
       "      <th>HITId</th>\n",
       "      <th>comment_id_sent</th>\n",
       "      <th>label</th>\n",
       "      <th>full_key_point</th>\n",
       "      <th>key_point_id</th>\n",
       "      <th>comment</th>\n",
       "      <th>full_comment</th>\n",
       "      <th>attributes</th>\n",
       "      <th>topic</th>\n",
       "      <th>isMultiAspect</th>\n",
       "      <th>...</th>\n",
       "      <th>aspects_x</th>\n",
       "      <th>opinions_x</th>\n",
       "      <th>opinion_aspect_pairs_x</th>\n",
       "      <th>sentiments_x</th>\n",
       "      <th>aspects_y</th>\n",
       "      <th>opinions_y</th>\n",
       "      <th>opinion_aspect_pairs_y</th>\n",
       "      <th>sentiments_y</th>\n",
       "      <th>num_of_aspects</th>\n",
       "      <th>comment_id</th>\n",
       "    </tr>\n",
       "  </thead>\n",
       "  <tbody>\n",
       "    <tr>\n",
       "      <th>0</th>\n",
       "      <td>302U8RURJZ1WH0D09XZ8R7HSOP5NVW</td>\n",
       "      <td>arg_0_537</td>\n",
       "      <td>1</td>\n",
       "      <td>Terrible administration and management .</td>\n",
       "      <td>kp_0_2</td>\n",
       "      <td>[uninviting experience &lt;SEP&gt; negative, rude employees &lt;SEP&gt; negative]</td>\n",
       "      <td>Employees are rude and make the experience uninviting .</td>\n",
       "      <td>[restaurant -&gt; atmosphere, staff]</td>\n",
       "      <td>Arts &amp; Entertainment</td>\n",
       "      <td>True</td>\n",
       "      <td>...</td>\n",
       "      <td>[experience, employees]</td>\n",
       "      <td>[uninviting, rude]</td>\n",
       "      <td>[uninviting experience, rude employees]</td>\n",
       "      <td>[negative, negative]</td>\n",
       "      <td>administration</td>\n",
       "      <td>terrible</td>\n",
       "      <td>['terrible administration']</td>\n",
       "      <td>['negative']</td>\n",
       "      <td>2</td>\n",
       "      <td>arg_0_537_2</td>\n",
       "    </tr>\n",
       "    <tr>\n",
       "      <th>1</th>\n",
       "      <td>302U8RURJZ1WH0D09XZ8R7HSOP5NVW</td>\n",
       "      <td>arg_0_537</td>\n",
       "      <td>1</td>\n",
       "      <td>Rude and Unprofessional staff .</td>\n",
       "      <td>kp_0_24</td>\n",
       "      <td>[uninviting experience &lt;SEP&gt; negative, rude employees &lt;SEP&gt; negative]</td>\n",
       "      <td>Employees are rude and make the experience uninviting .</td>\n",
       "      <td>[restaurant -&gt; atmosphere, staff]</td>\n",
       "      <td>Arts &amp; Entertainment</td>\n",
       "      <td>True</td>\n",
       "      <td>...</td>\n",
       "      <td>[experience, employees]</td>\n",
       "      <td>[uninviting, rude]</td>\n",
       "      <td>[uninviting experience, rude employees]</td>\n",
       "      <td>[negative, negative]</td>\n",
       "      <td>staff</td>\n",
       "      <td>unprofessional</td>\n",
       "      <td>['unprofessional staff']</td>\n",
       "      <td>['negative']</td>\n",
       "      <td>2</td>\n",
       "      <td>arg_0_537_2</td>\n",
       "    </tr>\n",
       "    <tr>\n",
       "      <th>2</th>\n",
       "      <td>302U8RURJZ1WH0D09XZ8R7HSOP5NVW</td>\n",
       "      <td>arg_0_537</td>\n",
       "      <td>0</td>\n",
       "      <td>Great for conventions and concerts ! !</td>\n",
       "      <td>kp_0_4</td>\n",
       "      <td>[uninviting experience &lt;SEP&gt; negative, rude employees &lt;SEP&gt; negative]</td>\n",
       "      <td>Employees are rude and make the experience uninviting .</td>\n",
       "      <td>[restaurant -&gt; atmosphere, staff]</td>\n",
       "      <td>Arts &amp; Entertainment</td>\n",
       "      <td>True</td>\n",
       "      <td>...</td>\n",
       "      <td>[experience, employees]</td>\n",
       "      <td>[uninviting, rude]</td>\n",
       "      <td>[uninviting experience, rude employees]</td>\n",
       "      <td>[negative, negative]</td>\n",
       "      <td>conventions</td>\n",
       "      <td>great for</td>\n",
       "      <td>['great for conventions']</td>\n",
       "      <td>['positive']</td>\n",
       "      <td>2</td>\n",
       "      <td>arg_0_537_2</td>\n",
       "    </tr>\n",
       "    <tr>\n",
       "      <th>3</th>\n",
       "      <td>302U8RURJZ1WH0D09XZ8R7HSOP5NVW</td>\n",
       "      <td>arg_0_537</td>\n",
       "      <td>0</td>\n",
       "      <td>Horrible customer service .</td>\n",
       "      <td>kp_0_5</td>\n",
       "      <td>[uninviting experience &lt;SEP&gt; negative, rude employees &lt;SEP&gt; negative]</td>\n",
       "      <td>Employees are rude and make the experience uninviting .</td>\n",
       "      <td>[restaurant -&gt; atmosphere, staff]</td>\n",
       "      <td>Arts &amp; Entertainment</td>\n",
       "      <td>True</td>\n",
       "      <td>...</td>\n",
       "      <td>[experience, employees]</td>\n",
       "      <td>[uninviting, rude]</td>\n",
       "      <td>[uninviting experience, rude employees]</td>\n",
       "      <td>[negative, negative]</td>\n",
       "      <td>customer service</td>\n",
       "      <td>horrible</td>\n",
       "      <td>['horrible customer service']</td>\n",
       "      <td>['negative']</td>\n",
       "      <td>2</td>\n",
       "      <td>arg_0_537_2</td>\n",
       "    </tr>\n",
       "    <tr>\n",
       "      <th>4</th>\n",
       "      <td>302U8RURJZ1WH0D09XZ8R7HSOP5NVW</td>\n",
       "      <td>arg_0_537</td>\n",
       "      <td>0</td>\n",
       "      <td>It had wonderful acoustics .</td>\n",
       "      <td>kp_0_0</td>\n",
       "      <td>[uninviting experience &lt;SEP&gt; negative, rude employees &lt;SEP&gt; negative]</td>\n",
       "      <td>Employees are rude and make the experience uninviting .</td>\n",
       "      <td>[restaurant -&gt; atmosphere, staff]</td>\n",
       "      <td>Arts &amp; Entertainment</td>\n",
       "      <td>True</td>\n",
       "      <td>...</td>\n",
       "      <td>[experience, employees]</td>\n",
       "      <td>[uninviting, rude]</td>\n",
       "      <td>[uninviting experience, rude employees]</td>\n",
       "      <td>[negative, negative]</td>\n",
       "      <td>acoustics</td>\n",
       "      <td>wonderful</td>\n",
       "      <td>['wonderful acoustics']</td>\n",
       "      <td>['positive']</td>\n",
       "      <td>2</td>\n",
       "      <td>arg_0_537_2</td>\n",
       "    </tr>\n",
       "    <tr>\n",
       "      <th>...</th>\n",
       "      <td>...</td>\n",
       "      <td>...</td>\n",
       "      <td>...</td>\n",
       "      <td>...</td>\n",
       "      <td>...</td>\n",
       "      <td>...</td>\n",
       "      <td>...</td>\n",
       "      <td>...</td>\n",
       "      <td>...</td>\n",
       "      <td>...</td>\n",
       "      <td>...</td>\n",
       "      <td>...</td>\n",
       "      <td>...</td>\n",
       "      <td>...</td>\n",
       "      <td>...</td>\n",
       "      <td>...</td>\n",
       "      <td>...</td>\n",
       "      <td>...</td>\n",
       "      <td>...</td>\n",
       "      <td>...</td>\n",
       "      <td>...</td>\n",
       "    </tr>\n",
       "    <tr>\n",
       "      <th>6794</th>\n",
       "      <td>3ZXV7Q5FJBOOUZUJKSLQTAKU1UIFC3</td>\n",
       "      <td>arg_4_6440</td>\n",
       "      <td>0</td>\n",
       "      <td>Great family owned restaurant .</td>\n",
       "      <td>kp_4_25</td>\n",
       "      <td>[friendly staff &lt;SEP&gt; positive]</td>\n",
       "      <td>The staff are friendly and attentive .</td>\n",
       "      <td>[staff]</td>\n",
       "      <td>Restaurants</td>\n",
       "      <td>False</td>\n",
       "      <td>...</td>\n",
       "      <td>[staff]</td>\n",
       "      <td>[friendly]</td>\n",
       "      <td>[friendly staff]</td>\n",
       "      <td>[positive]</td>\n",
       "      <td>restaurant</td>\n",
       "      <td>great family owned</td>\n",
       "      <td>['great family owned restaurant']</td>\n",
       "      <td>['positive']</td>\n",
       "      <td>1</td>\n",
       "      <td>arg_4_6440_1</td>\n",
       "    </tr>\n",
       "    <tr>\n",
       "      <th>6795</th>\n",
       "      <td>3ZXV7Q5FJBOOUZUJKSLQTAKU1UIFC3</td>\n",
       "      <td>arg_4_6440</td>\n",
       "      <td>0</td>\n",
       "      <td>Worst service in the world !</td>\n",
       "      <td>kp_4_27</td>\n",
       "      <td>[friendly staff &lt;SEP&gt; positive]</td>\n",
       "      <td>The staff are friendly and attentive .</td>\n",
       "      <td>[staff]</td>\n",
       "      <td>Restaurants</td>\n",
       "      <td>False</td>\n",
       "      <td>...</td>\n",
       "      <td>[staff]</td>\n",
       "      <td>[friendly]</td>\n",
       "      <td>[friendly staff]</td>\n",
       "      <td>[positive]</td>\n",
       "      <td>service</td>\n",
       "      <td>worst</td>\n",
       "      <td>['worst service']</td>\n",
       "      <td>['negative']</td>\n",
       "      <td>1</td>\n",
       "      <td>arg_4_6440_1</td>\n",
       "    </tr>\n",
       "    <tr>\n",
       "      <th>6796</th>\n",
       "      <td>3ZXV7Q5FJBOOUZUJKSLQTAKU1UIFC3</td>\n",
       "      <td>arg_4_6440</td>\n",
       "      <td>0</td>\n",
       "      <td>Rude and inattentive staff .</td>\n",
       "      <td>kp_4_30</td>\n",
       "      <td>[friendly staff &lt;SEP&gt; positive]</td>\n",
       "      <td>The staff are friendly and attentive .</td>\n",
       "      <td>[staff]</td>\n",
       "      <td>Restaurants</td>\n",
       "      <td>False</td>\n",
       "      <td>...</td>\n",
       "      <td>[staff]</td>\n",
       "      <td>[friendly]</td>\n",
       "      <td>[friendly staff]</td>\n",
       "      <td>[positive]</td>\n",
       "      <td>staff</td>\n",
       "      <td>inattentive</td>\n",
       "      <td>['inattentive staff']</td>\n",
       "      <td>['negative']</td>\n",
       "      <td>1</td>\n",
       "      <td>arg_4_6440_1</td>\n",
       "    </tr>\n",
       "    <tr>\n",
       "      <th>6797</th>\n",
       "      <td>3ZXV7Q5FJBOOUZUJKSLQTAKU1UIFC3</td>\n",
       "      <td>arg_4_6440</td>\n",
       "      <td>0</td>\n",
       "      <td>Great sushi and sashimi .</td>\n",
       "      <td>kp_4_31</td>\n",
       "      <td>[friendly staff &lt;SEP&gt; positive]</td>\n",
       "      <td>The staff are friendly and attentive .</td>\n",
       "      <td>[staff]</td>\n",
       "      <td>Restaurants</td>\n",
       "      <td>False</td>\n",
       "      <td>...</td>\n",
       "      <td>[staff]</td>\n",
       "      <td>[friendly]</td>\n",
       "      <td>[friendly staff]</td>\n",
       "      <td>[positive]</td>\n",
       "      <td>sushi</td>\n",
       "      <td>great</td>\n",
       "      <td>['great sushi']</td>\n",
       "      <td>['positive']</td>\n",
       "      <td>1</td>\n",
       "      <td>arg_4_6440_1</td>\n",
       "    </tr>\n",
       "    <tr>\n",
       "      <th>6798</th>\n",
       "      <td>3ZXV7Q5FJBOOUZUJKSLQTAKU1UIFC3</td>\n",
       "      <td>arg_4_6440</td>\n",
       "      <td>0</td>\n",
       "      <td>Wait times are very long .</td>\n",
       "      <td>kp_4_32</td>\n",
       "      <td>[friendly staff &lt;SEP&gt; positive]</td>\n",
       "      <td>The staff are friendly and attentive .</td>\n",
       "      <td>[staff]</td>\n",
       "      <td>Restaurants</td>\n",
       "      <td>False</td>\n",
       "      <td>...</td>\n",
       "      <td>[staff]</td>\n",
       "      <td>[friendly]</td>\n",
       "      <td>[friendly staff]</td>\n",
       "      <td>[positive]</td>\n",
       "      <td>wait times</td>\n",
       "      <td>very long</td>\n",
       "      <td>['very long wait times']</td>\n",
       "      <td>['negative']</td>\n",
       "      <td>1</td>\n",
       "      <td>arg_4_6440_1</td>\n",
       "    </tr>\n",
       "  </tbody>\n",
       "</table>\n",
       "<p>6799 rows × 24 columns</p>\n",
       "</div>"
      ],
      "text/plain": [
       "                               HITId comment_id_sent  label  \\\n",
       "0     302U8RURJZ1WH0D09XZ8R7HSOP5NVW       arg_0_537      1   \n",
       "1     302U8RURJZ1WH0D09XZ8R7HSOP5NVW       arg_0_537      1   \n",
       "2     302U8RURJZ1WH0D09XZ8R7HSOP5NVW       arg_0_537      0   \n",
       "3     302U8RURJZ1WH0D09XZ8R7HSOP5NVW       arg_0_537      0   \n",
       "4     302U8RURJZ1WH0D09XZ8R7HSOP5NVW       arg_0_537      0   \n",
       "...                              ...             ...    ...   \n",
       "6794  3ZXV7Q5FJBOOUZUJKSLQTAKU1UIFC3      arg_4_6440      0   \n",
       "6795  3ZXV7Q5FJBOOUZUJKSLQTAKU1UIFC3      arg_4_6440      0   \n",
       "6796  3ZXV7Q5FJBOOUZUJKSLQTAKU1UIFC3      arg_4_6440      0   \n",
       "6797  3ZXV7Q5FJBOOUZUJKSLQTAKU1UIFC3      arg_4_6440      0   \n",
       "6798  3ZXV7Q5FJBOOUZUJKSLQTAKU1UIFC3      arg_4_6440      0   \n",
       "\n",
       "                                full_key_point key_point_id  \\\n",
       "0     Terrible administration and management .       kp_0_2   \n",
       "1              Rude and Unprofessional staff .      kp_0_24   \n",
       "2       Great for conventions and concerts ! !       kp_0_4   \n",
       "3                  Horrible customer service .       kp_0_5   \n",
       "4                 It had wonderful acoustics .       kp_0_0   \n",
       "...                                        ...          ...   \n",
       "6794           Great family owned restaurant .      kp_4_25   \n",
       "6795            Worst service in the world !        kp_4_27   \n",
       "6796              Rude and inattentive staff .      kp_4_30   \n",
       "6797                 Great sushi and sashimi .      kp_4_31   \n",
       "6798              Wait times are very long .        kp_4_32   \n",
       "\n",
       "                                                                    comment  \\\n",
       "0     [uninviting experience <SEP> negative, rude employees <SEP> negative]   \n",
       "1     [uninviting experience <SEP> negative, rude employees <SEP> negative]   \n",
       "2     [uninviting experience <SEP> negative, rude employees <SEP> negative]   \n",
       "3     [uninviting experience <SEP> negative, rude employees <SEP> negative]   \n",
       "4     [uninviting experience <SEP> negative, rude employees <SEP> negative]   \n",
       "...                                                                     ...   \n",
       "6794                                        [friendly staff <SEP> positive]   \n",
       "6795                                        [friendly staff <SEP> positive]   \n",
       "6796                                        [friendly staff <SEP> positive]   \n",
       "6797                                        [friendly staff <SEP> positive]   \n",
       "6798                                        [friendly staff <SEP> positive]   \n",
       "\n",
       "                                                 full_comment  \\\n",
       "0     Employees are rude and make the experience uninviting .   \n",
       "1     Employees are rude and make the experience uninviting .   \n",
       "2     Employees are rude and make the experience uninviting .   \n",
       "3     Employees are rude and make the experience uninviting .   \n",
       "4     Employees are rude and make the experience uninviting .   \n",
       "...                                                       ...   \n",
       "6794                   The staff are friendly and attentive .   \n",
       "6795                   The staff are friendly and attentive .   \n",
       "6796                   The staff are friendly and attentive .   \n",
       "6797                   The staff are friendly and attentive .   \n",
       "6798                   The staff are friendly and attentive .   \n",
       "\n",
       "                             attributes                 topic  isMultiAspect  \\\n",
       "0     [restaurant -> atmosphere, staff]  Arts & Entertainment           True   \n",
       "1     [restaurant -> atmosphere, staff]  Arts & Entertainment           True   \n",
       "2     [restaurant -> atmosphere, staff]  Arts & Entertainment           True   \n",
       "3     [restaurant -> atmosphere, staff]  Arts & Entertainment           True   \n",
       "4     [restaurant -> atmosphere, staff]  Arts & Entertainment           True   \n",
       "...                                 ...                   ...            ...   \n",
       "6794                            [staff]           Restaurants          False   \n",
       "6795                            [staff]           Restaurants          False   \n",
       "6796                            [staff]           Restaurants          False   \n",
       "6797                            [staff]           Restaurants          False   \n",
       "6798                            [staff]           Restaurants          False   \n",
       "\n",
       "      ...                aspects_x          opinions_x  \\\n",
       "0     ...  [experience, employees]  [uninviting, rude]   \n",
       "1     ...  [experience, employees]  [uninviting, rude]   \n",
       "2     ...  [experience, employees]  [uninviting, rude]   \n",
       "3     ...  [experience, employees]  [uninviting, rude]   \n",
       "4     ...  [experience, employees]  [uninviting, rude]   \n",
       "...   ...                      ...                 ...   \n",
       "6794  ...                  [staff]          [friendly]   \n",
       "6795  ...                  [staff]          [friendly]   \n",
       "6796  ...                  [staff]          [friendly]   \n",
       "6797  ...                  [staff]          [friendly]   \n",
       "6798  ...                  [staff]          [friendly]   \n",
       "\n",
       "                       opinion_aspect_pairs_x          sentiments_x  \\\n",
       "0     [uninviting experience, rude employees]  [negative, negative]   \n",
       "1     [uninviting experience, rude employees]  [negative, negative]   \n",
       "2     [uninviting experience, rude employees]  [negative, negative]   \n",
       "3     [uninviting experience, rude employees]  [negative, negative]   \n",
       "4     [uninviting experience, rude employees]  [negative, negative]   \n",
       "...                                       ...                   ...   \n",
       "6794                         [friendly staff]            [positive]   \n",
       "6795                         [friendly staff]            [positive]   \n",
       "6796                         [friendly staff]            [positive]   \n",
       "6797                         [friendly staff]            [positive]   \n",
       "6798                         [friendly staff]            [positive]   \n",
       "\n",
       "             aspects_y          opinions_y             opinion_aspect_pairs_y  \\\n",
       "0       administration            terrible        ['terrible administration']   \n",
       "1                staff      unprofessional           ['unprofessional staff']   \n",
       "2          conventions           great for          ['great for conventions']   \n",
       "3     customer service            horrible      ['horrible customer service']   \n",
       "4            acoustics           wonderful            ['wonderful acoustics']   \n",
       "...                ...                 ...                                ...   \n",
       "6794        restaurant  great family owned  ['great family owned restaurant']   \n",
       "6795           service               worst                  ['worst service']   \n",
       "6796             staff         inattentive              ['inattentive staff']   \n",
       "6797             sushi               great                    ['great sushi']   \n",
       "6798        wait times           very long           ['very long wait times']   \n",
       "\n",
       "      sentiments_y num_of_aspects    comment_id  \n",
       "0     ['negative']              2   arg_0_537_2  \n",
       "1     ['negative']              2   arg_0_537_2  \n",
       "2     ['positive']              2   arg_0_537_2  \n",
       "3     ['negative']              2   arg_0_537_2  \n",
       "4     ['positive']              2   arg_0_537_2  \n",
       "...            ...            ...           ...  \n",
       "6794  ['positive']              1  arg_4_6440_1  \n",
       "6795  ['negative']              1  arg_4_6440_1  \n",
       "6796  ['negative']              1  arg_4_6440_1  \n",
       "6797  ['positive']              1  arg_4_6440_1  \n",
       "6798  ['negative']              1  arg_4_6440_1  \n",
       "\n",
       "[6799 rows x 24 columns]"
      ]
     },
     "execution_count": 13,
     "metadata": {},
     "output_type": "execute_result"
    }
   ],
   "source": [
    "df = df.rename(columns={'comment_id': 'comment_id_sent'})\n",
    "df['comment_id'] = df['comment_id_sent'] + \"_\" + df['num_of_aspects'].astype(str)\n",
    "df"
   ]
  },
  {
   "cell_type": "code",
   "execution_count": 14,
   "id": "f7720ec3",
   "metadata": {},
   "outputs": [
    {
     "data": {
      "text/plain": [
       "0       2\n",
       "1       2\n",
       "2       2\n",
       "3       2\n",
       "4       2\n",
       "       ..\n",
       "6794    1\n",
       "6795    1\n",
       "6796    1\n",
       "6797    1\n",
       "6798    1\n",
       "Name: num_of_aspects, Length: 6799, dtype: int64"
      ]
     },
     "execution_count": 14,
     "metadata": {},
     "output_type": "execute_result"
    }
   ],
   "source": [
    "df['num_of_aspects']"
   ]
  },
  {
   "cell_type": "code",
   "execution_count": 15,
   "id": "ae2402f1",
   "metadata": {},
   "outputs": [
    {
     "data": {
      "text/plain": [
       "Index(['HITId', 'comment_id_sent', 'label', 'full_key_point', 'key_point_id',\n",
       "       'comment', 'full_comment', 'attributes', 'topic', 'isMultiAspect',\n",
       "       'predicted_WA', 'num_of_token', 'old_key_point_id', 'key_point',\n",
       "       'aspects_x', 'opinions_x', 'opinion_aspect_pairs_x', 'sentiments_x',\n",
       "       'aspects_y', 'opinions_y', 'opinion_aspect_pairs_y', 'sentiments_y',\n",
       "       'num_of_aspects', 'comment_id'],\n",
       "      dtype='object')"
      ]
     },
     "execution_count": 15,
     "metadata": {},
     "output_type": "execute_result"
    }
   ],
   "source": [
    "df.columns"
   ]
  },
  {
   "cell_type": "code",
   "execution_count": 16,
   "id": "357cd6e3",
   "metadata": {},
   "outputs": [],
   "source": [
    "def prepare_comment_kp_label_input(df):\n",
    "    comment_df = df[['comment_id', 'topic', 'full_comment', 'num_of_aspects',\n",
    "                'aspects_x', 'opinions_x', 'opinion_aspect_pairs_x', 'sentiments_x', 'attributes']]\n",
    "    comment_df = comment_df.drop_duplicates(subset=['comment_id']).reset_index(drop=True)\n",
    "    comment_df.columns = [col.replace(\"_x\", \"\") for col in comment_df.columns]\n",
    "    \n",
    "    kp_df = df[['key_point_id', 'topic', 'full_key_point',\n",
    "           'aspects_y', 'opinions_y', 'opinion_aspect_pairs_y', 'sentiments_y', 'attributes']]\n",
    "    kp_df = kp_df.drop_duplicates(subset=['key_point_id']).reset_index(drop=True)\n",
    "    kp_df = kp_df.rename(columns={'full_key_point': 'key_point'})\n",
    "    kp_df.columns = [col.replace(\"_y\", \"\") for col in kp_df.columns]\n",
    "    kp_df['opinion_aspect_pairs'] = kp_df['opinion_aspect_pairs'].apply(lambda x: ast.literal_eval(x))\n",
    "    kp_df['sentiments'] = kp_df['sentiments'].apply(lambda x: ast.literal_eval(x))\n",
    "    \n",
    "    labels_df = df[['comment_id', 'key_point_id', 'label']]\n",
    "    \n",
    "    return comment_df, kp_df, labels_df"
   ]
  },
  {
   "cell_type": "code",
   "execution_count": null,
   "id": "4352867f",
   "metadata": {},
   "outputs": [],
   "source": []
  },
  {
   "cell_type": "markdown",
   "id": "5c6f7651",
   "metadata": {},
   "source": [
    "## Merging"
   ]
  },
  {
   "cell_type": "code",
   "execution_count": 37,
   "id": "1b1d4dd0",
   "metadata": {},
   "outputs": [],
   "source": [
    "def comment_kp_heuristic_match(df):\n",
    "    comment_df, kp_df, labels_df = prepare_comment_kp_label_input(df)\n",
    "    \n",
    "    comment_df = comment_df.explode(['aspects', 'opinions', 'opinion_aspect_pairs', 'sentiments', 'attributes'])\n",
    "    kp_df = kp_df.explode(['opinion_aspect_pairs', 'sentiments'])\n",
    "    \n",
    "    # Matching based on ABSA predictions of comment and KPs\n",
    "    # Should not include attribute during matching to not favouring our apporach during evaluation, because other baselines don't\n",
    "    # use attribute as well during the matching\n",
    "    sent_kp_df = comment_df.astype(str).merge(kp_df.astype(str), how='left', on=['topic']).dropna(subset=['key_point']) \n",
    "    sent_kp_df = sent_kp_df.reset_index(drop=True)\n",
    "    # Label the matching/non-matching pairs\n",
    "    sent_kp_df.loc[\n",
    "        (sent_kp_df['aspects_x'] == sent_kp_df['aspects_y']) & (sent_kp_df['sentiments_x'] == sent_kp_df['sentiments_y']),\n",
    "        'score'\n",
    "    ] = 1\n",
    "    sent_kp_df.loc[\n",
    "        (sent_kp_df['sentiments_x'] != sent_kp_df['sentiments_y']),\n",
    "        'score'\n",
    "    ] = 0\n",
    "    sent_kp_df = implicit_aspects_matching(sent_kp_df)\n",
    "    \n",
    "    new_sent_kp_df = sent_kp_df.groupby(['topic', 'comment_id', 'opinion_aspect_pairs_x']).apply(select_best_kp_per_opinion).reset_index(drop=True)\n",
    "    new_sent_kp_df = new_sent_kp_df.drop_duplicates(subset=['comment_id', 'key_point_id'])\n",
    "    \n",
    "    return new_sent_kp_df"
   ]
  },
  {
   "cell_type": "code",
   "execution_count": 38,
   "id": "4f116e16",
   "metadata": {},
   "outputs": [],
   "source": [
    "def select_best_kp_per_opinion(grp):\n",
    "    best_match = grp.sort_values(by=['score'], ascending=False)\n",
    "    best_match = best_match.iloc[0]\n",
    "    return best_match"
   ]
  },
  {
   "cell_type": "markdown",
   "id": "15285e11",
   "metadata": {},
   "source": [
    "Comment/KP matching on implicit aspects"
   ]
  },
  {
   "cell_type": "code",
   "execution_count": 39,
   "id": "87cf39eb",
   "metadata": {},
   "outputs": [
    {
     "data": {
      "text/plain": [
       "True"
      ]
     },
     "execution_count": 39,
     "metadata": {},
     "output_type": "execute_result"
    }
   ],
   "source": [
    "import spacy\n",
    "spacy.require_gpu()"
   ]
  },
  {
   "cell_type": "code",
   "execution_count": 40,
   "id": "dd2a1844",
   "metadata": {},
   "outputs": [],
   "source": [
    "def implicit_aspects_matching(sent_kp_df):\n",
    "    sent_kp_df['predicted_by_cosine'] = False\n",
    "    \n",
    "    implicit_match_analyze_mask = pd.isnull(sent_kp_df['score'])\n",
    "    sent_kp_df[implicit_match_analyze_mask] = sent_kp_df[implicit_match_analyze_mask].apply(calculate_aspects_semantic_similarity, axis=1)\n",
    "    \n",
    "    return sent_kp_df"
   ]
  },
  {
   "cell_type": "code",
   "execution_count": 41,
   "id": "adcf5e7a",
   "metadata": {},
   "outputs": [],
   "source": [
    "unfound_tokens = []\n",
    "def calculate_aspects_semantic_similarity(row):\n",
    "    import warnings\n",
    "    warnings.filterwarnings(\"ignore\")\n",
    "    nlp = spacy.load('en_core_web_md')\n",
    "    tokens = nlp(row['aspects_x'] + \" | \" + row['aspects_y'])\n",
    "    sep_index = [token.i for token in tokens if token.text == '|'][0]\n",
    "    token1, token2 = tokens[:sep_index], tokens[sep_index+1:]\n",
    "    row['aspects_x_len'] = len(token1)\n",
    "    row['aspects_y_len'] = len(token2)\n",
    "    warnings.filterwarnings(\"error\")\n",
    "    try:\n",
    "        print(token2.similarity(token1))\n",
    "        row['score'] = token2.similarity(token1)\n",
    "    except:\n",
    "        row['score'] = 0\n",
    "    row['predicted_by_cosine'] = True\n",
    "    \n",
    "    return row"
   ]
  },
  {
   "cell_type": "code",
   "execution_count": 42,
   "id": "e2ddb651",
   "metadata": {},
   "outputs": [],
   "source": [
    "import nltk\n",
    "def label_implicit_matching_pair(row):\n",
    "    token1 = row['aspects_x'][0]\n",
    "    token2 = row['aspects_y'][0]\n",
    "    \n",
    "    # Best\n",
    "    if row['aspects_x_len'] >= row['aspects_y_len']:\n",
    "        if token2 in token1 and len(token1) > len(token2) and row['aspects_x_len'] > row['aspects_y_len']: # e.g. mexican food vs food\n",
    "            row['label'] = 1\n",
    "    return row"
   ]
  },
  {
   "cell_type": "code",
   "execution_count": null,
   "id": "3b3888d9",
   "metadata": {
    "scrolled": true
   },
   "outputs": [
    {
     "name": "stdout",
     "output_type": "stream",
     "text": [
      "0.4792397916316986\n",
      "0.40492796897888184\n",
      "0.6046743392944336\n",
      "0.322180837392807\n",
      "0.26104819774627686\n",
      "0.2026025801897049\n",
      "0.3452816307544708\n",
      "0.38468843698501587\n",
      "0.24648834764957428\n",
      "0.2080131620168686\n"
     ]
    }
   ],
   "source": [
    "new_sent_kp_df = comment_kp_heuristic_match(df)"
   ]
  },
  {
   "cell_type": "code",
   "execution_count": null,
   "id": "53991674",
   "metadata": {},
   "outputs": [],
   "source": []
  },
  {
   "cell_type": "code",
   "execution_count": 64,
   "id": "59ab357e",
   "metadata": {},
   "outputs": [],
   "source": [
    "merged_df = pd.merge(new_sent_kp_df, labels_df, how=\"left\", on=[\"comment_id\", \"key_point_id\"])\n",
    "merged_df.loc[merged_df['key_point_id'] == \"dummy_id\", 'label'] = 0\n",
    "merged_df[\"label_strict\"] = merged_df[\"label\"].fillna(0)\n",
    "merged_df[\"label_relaxed\"] = merged_df[\"label\"].fillna(1)"
   ]
  },
  {
   "cell_type": "code",
   "execution_count": 67,
   "id": "39076b7c",
   "metadata": {},
   "outputs": [],
   "source": [
    "def get_ap(df, label_column, top_percentile=0.5):\n",
    "    top = int(len(df)*top_percentile)\n",
    "    df = df.sort_values('score', ascending=False)\n",
    "    if top != 0:\n",
    "        df = df.head(top)\n",
    "    # after selecting top percentile candidates, we set the score for the dummy kp to 1, to prevent it from increasing the precision.\n",
    "    df.loc[df['key_point_id'] == \"dummy_id\", 'score'] = 0.99\n",
    "    return average_precision_score(y_true=df[label_column], y_score=df[\"score\"])\n",
    "\n",
    "def calc_mean_average_precision(df, label_column):\n",
    "    precisions = [get_ap(group, label_column) for _, group in df.groupby([\"topic\"])]\n",
    "    print(precisions)\n",
    "    return np.mean(precisions)\n",
    "\n",
    "def evaluate_predictions(merged_df):\n",
    "    mAP_strict = calc_mean_average_precision(merged_df, \"label_strict\")\n",
    "    mAP_relaxed = calc_mean_average_precision(merged_df, \"label_relaxed\")\n",
    "    return mAP_strict, mAP_relaxed"
   ]
  },
  {
   "cell_type": "code",
   "execution_count": 68,
   "id": "0ea02d18",
   "metadata": {},
   "outputs": [
    {
     "data": {
      "text/plain": [
       "[('Arts & Entertainment', 0.92),\n",
       " ('Automotive', 0.5822776003554035),\n",
       " ('Beauty & Spas', 0.8496957587866678),\n",
       " ('Hotels', 0.9538051289328429),\n",
       " ('Restaurants', 0.7765644827355906)]"
      ]
     },
     "execution_count": 68,
     "metadata": {},
     "output_type": "execute_result"
    }
   ],
   "source": [
    "[(t, get_ap(group, \"label_strict\")) for t, group in merged_df.groupby([\"topic\"])]"
   ]
  },
  {
   "cell_type": "code",
   "execution_count": 90,
   "id": "dae1795a",
   "metadata": {},
   "outputs": [
    {
     "data": {
      "text/plain": [
       "Index(['comment_id', 'topic', 'full_comment', 'num_of_aspects', 'aspects_x',\n",
       "       'opinions_x', 'opinion_aspect_pairs_x', 'sentiments_x', 'attributes_x',\n",
       "       'key_point_id', 'key_point', 'aspects_y', 'opinions_y',\n",
       "       'opinion_aspect_pairs_y', 'sentiments_y', 'attributes_y', 'score',\n",
       "       'predicted_by_cosine', 'label', 'label_strict', 'label_relaxed'],\n",
       "      dtype='object')"
      ]
     },
     "execution_count": 90,
     "metadata": {},
     "output_type": "execute_result"
    }
   ],
   "source": [
    "merged_df.columns"
   ]
  },
  {
   "cell_type": "markdown",
   "id": "bd5b3f11",
   "metadata": {
    "pycharm": {
     "name": "#%% md\n"
    }
   },
   "source": [
    "# Quantitative KP Coverage and Precision/Recall"
   ]
  },
  {
   "cell_type": "code",
   "execution_count": 102,
   "id": "2fcd62d6",
   "metadata": {},
   "outputs": [
    {
     "data": {
      "text/plain": [
       "Index(['comment_id', 'topic_x', 'full_comment', 'num_of_aspects', 'aspects_x',\n",
       "       'opinions_x', 'opinion_aspect_pairs_x', 'sentiments_x', 'attributes_x',\n",
       "       'key_point_id', 'key_point_x', 'aspects_y', 'opinions_y',\n",
       "       'opinion_aspect_pairs_y', 'sentiments_y', 'attributes_y', 'score',\n",
       "       'predicted_by_cosine', 'label', 'label_strict', 'label_relaxed',\n",
       "       'topic_y', 'key_point_y', 'aspects', 'opinions', 'opinion_aspect_pairs',\n",
       "       'sentiments', 'attributes'],\n",
       "      dtype='object')"
      ]
     },
     "execution_count": 102,
     "metadata": {},
     "output_type": "execute_result"
    }
   ],
   "source": [
    "merged_df[merged_df['topic'] == 'Arts & Entertainment'].merge(kp_df, on=['key_point_id']).columns"
   ]
  },
  {
   "cell_type": "code",
   "execution_count": 150,
   "id": "de2dd985",
   "metadata": {},
   "outputs": [],
   "source": [
    "from sklearn.metrics import recall_score, precision_score\n",
    "\n",
    "def get_top_kp_coverages(merged_df, df, category, top=None, selected_kps=[]):\n",
    "    comment_df, kp_df, labels_df = prepare_comment_kp_label_input(df)\n",
    "    kp_df = kp_df.drop(columns=['key_point'])\n",
    "\n",
    "    valid_df = df[(df['label'] == 1) & (df['topic'] == category)]\n",
    "    valid_kp = valid_df['full_key_point'].value_counts()\n",
    "    display(valid_kp)\n",
    "    \n",
    "    top_kp = merged_df[merged_df['topic'] == category].merge(kp_df, on=['key_point_id'])['key_point'].value_counts()\n",
    "    result = top_kp[top_kp.index.isin(valid_kp.index.tolist())]\n",
    "    if top != None:\n",
    "        result = result[result.index.isin(valid_kp.head(top).index)]\n",
    "    elif len(selected_kps) > 0:\n",
    "        result = result[result.index.isin(selected_kps)]\n",
    "    \n",
    "    if top != None:\n",
    "        valid_df = df[df['full_key_point'].isin(valid_kp.head(top).index)]\n",
    "    elif len(selected_kps) > 0:\n",
    "        valid_df = valid_df[valid_df['full_key_point'].isin(selected_kps)]\n",
    "    \n",
    "    pred_df = merged_df[merged_df['topic'] == category].merge(kp_df, on=['key_point_id'])\n",
    "    if top != None:\n",
    "        pred_df = pred_df[pred_df['key_point'].isin(valid_kp.head(top).index)]\n",
    "    elif len(selected_kps) > 0:\n",
    "        pred_df = pred_df[pred_df['key_point'].isin(selected_kps)]\n",
    "        \n",
    "    return valid_df, pred_df"
   ]
  },
  {
   "cell_type": "code",
   "execution_count": 151,
   "id": "1d34b3a5",
   "metadata": {},
   "outputs": [],
   "source": [
    "def calculate_precision_recall(valid_df, pred_df):\n",
    "    pred_df['pred_label'] = 1\n",
    "    \n",
    "    # Calculate Precision\n",
    "    new_valid_df = valid_df.merge(pred_df[['comment_id', 'key_point_id', 'pred_label']], how='right')\n",
    "    new_valid_df['label'] = new_valid_df['label'].fillna(0)\n",
    "    precision = precision_score(new_valid_df['label'], new_valid_df['pred_label'])\n",
    "\n",
    "    # Calculate Recall\n",
    "    new_valid_df = valid_df.merge(pred_df[['comment_id', 'key_point_id', 'pred_label']], how='left')\n",
    "    new_valid_df['pred_label'] = new_valid_df['pred_label'].fillna(0)\n",
    "    recall = recall_score(new_valid_df['label'], new_valid_df['pred_label'])\n",
    "    \n",
    "    return precision, recall"
   ]
  },
  {
   "cell_type": "code",
   "execution_count": 157,
   "id": "60f85350",
   "metadata": {},
   "outputs": [],
   "source": [
    "def generate_coverage_table(valid_df, pred_df): \n",
    "    coverage_compare_table = pred_df['key_point'].value_counts().reset_index()\n",
    "    coverage_compare_table.columns = ['Key Points', 'Predicted Coverage']\n",
    "    coverage_compare_table['Actual Coverage'] = valid_df['full_key_point'].value_counts().tolist()\n",
    "    return coverage_compare_table"
   ]
  },
  {
   "cell_type": "markdown",
   "id": "b7baee13",
   "metadata": {
    "pycharm": {
     "name": "#%% md\n"
    }
   },
   "source": [
    "## Arts & Entertainment"
   ]
  },
  {
   "cell_type": "code",
   "execution_count": 158,
   "id": "72850266",
   "metadata": {},
   "outputs": [
    {
     "data": {
      "text/plain": [
       "Friendly and helpful staff .                14\n",
       "Awesome service and employees .             10\n",
       "It had wonderful acoustics .                 9\n",
       "Superior customer service !                  8\n",
       "Seats are adequately comfortable .           4\n",
       "Horrible customer service .                  3\n",
       "Very talented musicians !                    2\n",
       "Worth the money .                            2\n",
       "lines were short and quick .                 2\n",
       "The acoustics are poor .                     2\n",
       "Terrible administration and management .     2\n",
       "Rude and Unprofessional staff .              2\n",
       "Great for conventions and concerts ! !       2\n",
       "Incredibly talented performers - wow !       2\n",
       "Parking was fast and FREE !                  1\n",
       "Front seats worth every penny !              1\n",
       "Awesome lighting , and decor .               1\n",
       "Nice employees ... not to pushy .            1\n",
       "This theatre was filthy .                    1\n",
       "Name: full_key_point, dtype: int64"
      ]
     },
     "metadata": {},
     "output_type": "display_data"
    }
   ],
   "source": [
    "selected_kps = ['Friendly and helpful staff .', 'Seats are adequately comfortable .   ', 'Horrible customer service .']\n",
    "valid_df, pred_df = get_top_kp_coverages(merged_df, df, 'Arts & Entertainment', None, selected_kps)"
   ]
  },
  {
   "cell_type": "code",
   "execution_count": 159,
   "id": "d545bf12",
   "metadata": {},
   "outputs": [
    {
     "data": {
      "text/html": [
       "<div>\n",
       "<style scoped>\n",
       "    .dataframe tbody tr th:only-of-type {\n",
       "        vertical-align: middle;\n",
       "    }\n",
       "\n",
       "    .dataframe tbody tr th {\n",
       "        vertical-align: top;\n",
       "    }\n",
       "\n",
       "    .dataframe thead th {\n",
       "        text-align: right;\n",
       "    }\n",
       "</style>\n",
       "<table border=\"1\" class=\"dataframe\">\n",
       "  <thead>\n",
       "    <tr style=\"text-align: right;\">\n",
       "      <th></th>\n",
       "      <th>Key Points</th>\n",
       "      <th>Predicted Coverage</th>\n",
       "      <th>Actual Coverage</th>\n",
       "    </tr>\n",
       "  </thead>\n",
       "  <tbody>\n",
       "    <tr>\n",
       "      <th>0</th>\n",
       "      <td>Friendly and helpful staff .</td>\n",
       "      <td>10</td>\n",
       "      <td>14</td>\n",
       "    </tr>\n",
       "    <tr>\n",
       "      <th>1</th>\n",
       "      <td>Seats are adequately comfortable .</td>\n",
       "      <td>4</td>\n",
       "      <td>4</td>\n",
       "    </tr>\n",
       "    <tr>\n",
       "      <th>2</th>\n",
       "      <td>Horrible customer service .</td>\n",
       "      <td>3</td>\n",
       "      <td>3</td>\n",
       "    </tr>\n",
       "  </tbody>\n",
       "</table>\n",
       "</div>"
      ],
      "text/plain": [
       "                              Key Points  Predicted Coverage  Actual Coverage\n",
       "0           Friendly and helpful staff .                  10               14\n",
       "1  Seats are adequately comfortable .                      4                4\n",
       "2            Horrible customer service .                   3                3"
      ]
     },
     "execution_count": 159,
     "metadata": {},
     "output_type": "execute_result"
    }
   ],
   "source": [
    "generate_coverage_table(valid_df, pred_df)"
   ]
  },
  {
   "cell_type": "code",
   "execution_count": 160,
   "id": "f3586a1a",
   "metadata": {},
   "outputs": [
    {
     "data": {
      "text/plain": [
       "(0.9411764705882353, 0.7619047619047619)"
      ]
     },
     "execution_count": 160,
     "metadata": {},
     "output_type": "execute_result"
    }
   ],
   "source": [
    "calculate_precision_recall(valid_df, pred_df)"
   ]
  },
  {
   "cell_type": "markdown",
   "id": "38d3216f",
   "metadata": {
    "pycharm": {
     "name": "#%% md\n"
    }
   },
   "source": [
    "## Automotive"
   ]
  },
  {
   "cell_type": "code",
   "execution_count": 161,
   "id": "bb25a812",
   "metadata": {},
   "outputs": [
    {
     "data": {
      "text/plain": [
       "They have excellent customer service .    29\n",
       "Very professional staff .                 13\n",
       "The employees here are wonderful !        13\n",
       "Very courteous staff .                    10\n",
       "FAST and FRIENDLY SERVICE ! ! !            6\n",
       "TERRIBLE CUSTOMER SERVICE !                5\n",
       "Their work is Impeccable .                 4\n",
       "The cashiers are always friendly .         3\n",
       "Store was clean and organized .            3\n",
       "Extremely poor service .                   2\n",
       "Prices were fair and reasonable .          2\n",
       "Over priced and overrated .                1\n",
       "Overall just poor quality .                1\n",
       "Unbeatable Professional Service !          1\n",
       "Name: full_key_point, dtype: int64"
      ]
     },
     "metadata": {},
     "output_type": "display_data"
    }
   ],
   "source": [
    "selected_kps = ['They have excellent customer service .', 'The employees here are wonderful !', 'Very professional staff .']\n",
    "valid_df, pred_df = get_top_kp_coverages(merged_df, df, 'Automotive', None, selected_kps)"
   ]
  },
  {
   "cell_type": "code",
   "execution_count": 162,
   "id": "a4291883",
   "metadata": {},
   "outputs": [
    {
     "ename": "ValueError",
     "evalue": "Length of values (3) does not match length of index (2)",
     "output_type": "error",
     "traceback": [
      "\u001b[0;31m---------------------------------------------------------------------------\u001b[0m",
      "\u001b[0;31mValueError\u001b[0m                                Traceback (most recent call last)",
      "Input \u001b[0;32mIn [162]\u001b[0m, in \u001b[0;36m<cell line: 1>\u001b[0;34m()\u001b[0m\n\u001b[0;32m----> 1\u001b[0m \u001b[43mgenerate_coverage_table\u001b[49m\u001b[43m(\u001b[49m\u001b[43mvalid_df\u001b[49m\u001b[43m,\u001b[49m\u001b[43m \u001b[49m\u001b[43mpred_df\u001b[49m\u001b[43m)\u001b[49m\n",
      "Input \u001b[0;32mIn [157]\u001b[0m, in \u001b[0;36mgenerate_coverage_table\u001b[0;34m(valid_df, pred_df)\u001b[0m\n\u001b[1;32m      2\u001b[0m coverage_compare_table \u001b[38;5;241m=\u001b[39m pred_df[\u001b[38;5;124m'\u001b[39m\u001b[38;5;124mkey_point\u001b[39m\u001b[38;5;124m'\u001b[39m]\u001b[38;5;241m.\u001b[39mvalue_counts()\u001b[38;5;241m.\u001b[39mreset_index()\n\u001b[1;32m      3\u001b[0m coverage_compare_table\u001b[38;5;241m.\u001b[39mcolumns \u001b[38;5;241m=\u001b[39m [\u001b[38;5;124m'\u001b[39m\u001b[38;5;124mKey Points\u001b[39m\u001b[38;5;124m'\u001b[39m, \u001b[38;5;124m'\u001b[39m\u001b[38;5;124mPredicted Coverage\u001b[39m\u001b[38;5;124m'\u001b[39m]\n\u001b[0;32m----> 4\u001b[0m coverage_compare_table[\u001b[38;5;124m'\u001b[39m\u001b[38;5;124mActual Coverage\u001b[39m\u001b[38;5;124m'\u001b[39m] \u001b[38;5;241m=\u001b[39m valid_df[\u001b[38;5;124m'\u001b[39m\u001b[38;5;124mfull_key_point\u001b[39m\u001b[38;5;124m'\u001b[39m]\u001b[38;5;241m.\u001b[39mvalue_counts()\u001b[38;5;241m.\u001b[39mtolist()\n\u001b[1;32m      5\u001b[0m \u001b[38;5;28;01mreturn\u001b[39;00m coverage_compare_table\n",
      "File \u001b[0;32m~/anaconda3/envs/deep_learning_env_2/lib/python3.9/site-packages/pandas/core/frame.py:3655\u001b[0m, in \u001b[0;36mDataFrame.__setitem__\u001b[0;34m(self, key, value)\u001b[0m\n\u001b[1;32m   3652\u001b[0m     \u001b[38;5;28mself\u001b[39m\u001b[38;5;241m.\u001b[39m_setitem_array([key], value)\n\u001b[1;32m   3653\u001b[0m \u001b[38;5;28;01melse\u001b[39;00m:\n\u001b[1;32m   3654\u001b[0m     \u001b[38;5;66;03m# set column\u001b[39;00m\n\u001b[0;32m-> 3655\u001b[0m     \u001b[38;5;28;43mself\u001b[39;49m\u001b[38;5;241;43m.\u001b[39;49m\u001b[43m_set_item\u001b[49m\u001b[43m(\u001b[49m\u001b[43mkey\u001b[49m\u001b[43m,\u001b[49m\u001b[43m \u001b[49m\u001b[43mvalue\u001b[49m\u001b[43m)\u001b[49m\n",
      "File \u001b[0;32m~/anaconda3/envs/deep_learning_env_2/lib/python3.9/site-packages/pandas/core/frame.py:3832\u001b[0m, in \u001b[0;36mDataFrame._set_item\u001b[0;34m(self, key, value)\u001b[0m\n\u001b[1;32m   3822\u001b[0m \u001b[38;5;28;01mdef\u001b[39;00m \u001b[38;5;21m_set_item\u001b[39m(\u001b[38;5;28mself\u001b[39m, key, value) \u001b[38;5;241m-\u001b[39m\u001b[38;5;241m>\u001b[39m \u001b[38;5;28;01mNone\u001b[39;00m:\n\u001b[1;32m   3823\u001b[0m     \u001b[38;5;124;03m\"\"\"\u001b[39;00m\n\u001b[1;32m   3824\u001b[0m \u001b[38;5;124;03m    Add series to DataFrame in specified column.\u001b[39;00m\n\u001b[1;32m   3825\u001b[0m \n\u001b[0;32m   (...)\u001b[0m\n\u001b[1;32m   3830\u001b[0m \u001b[38;5;124;03m    ensure homogeneity.\u001b[39;00m\n\u001b[1;32m   3831\u001b[0m \u001b[38;5;124;03m    \"\"\"\u001b[39;00m\n\u001b[0;32m-> 3832\u001b[0m     value \u001b[38;5;241m=\u001b[39m \u001b[38;5;28;43mself\u001b[39;49m\u001b[38;5;241;43m.\u001b[39;49m\u001b[43m_sanitize_column\u001b[49m\u001b[43m(\u001b[49m\u001b[43mvalue\u001b[49m\u001b[43m)\u001b[49m\n\u001b[1;32m   3834\u001b[0m     \u001b[38;5;28;01mif\u001b[39;00m (\n\u001b[1;32m   3835\u001b[0m         key \u001b[38;5;129;01min\u001b[39;00m \u001b[38;5;28mself\u001b[39m\u001b[38;5;241m.\u001b[39mcolumns\n\u001b[1;32m   3836\u001b[0m         \u001b[38;5;129;01mand\u001b[39;00m value\u001b[38;5;241m.\u001b[39mndim \u001b[38;5;241m==\u001b[39m \u001b[38;5;241m1\u001b[39m\n\u001b[1;32m   3837\u001b[0m         \u001b[38;5;129;01mand\u001b[39;00m \u001b[38;5;129;01mnot\u001b[39;00m is_extension_array_dtype(value)\n\u001b[1;32m   3838\u001b[0m     ):\n\u001b[1;32m   3839\u001b[0m         \u001b[38;5;66;03m# broadcast across multiple columns if necessary\u001b[39;00m\n\u001b[1;32m   3840\u001b[0m         \u001b[38;5;28;01mif\u001b[39;00m \u001b[38;5;129;01mnot\u001b[39;00m \u001b[38;5;28mself\u001b[39m\u001b[38;5;241m.\u001b[39mcolumns\u001b[38;5;241m.\u001b[39mis_unique \u001b[38;5;129;01mor\u001b[39;00m \u001b[38;5;28misinstance\u001b[39m(\u001b[38;5;28mself\u001b[39m\u001b[38;5;241m.\u001b[39mcolumns, MultiIndex):\n",
      "File \u001b[0;32m~/anaconda3/envs/deep_learning_env_2/lib/python3.9/site-packages/pandas/core/frame.py:4535\u001b[0m, in \u001b[0;36mDataFrame._sanitize_column\u001b[0;34m(self, value)\u001b[0m\n\u001b[1;32m   4532\u001b[0m     \u001b[38;5;28;01mreturn\u001b[39;00m _reindex_for_setitem(value, \u001b[38;5;28mself\u001b[39m\u001b[38;5;241m.\u001b[39mindex)\n\u001b[1;32m   4534\u001b[0m \u001b[38;5;28;01mif\u001b[39;00m is_list_like(value):\n\u001b[0;32m-> 4535\u001b[0m     \u001b[43mcom\u001b[49m\u001b[38;5;241;43m.\u001b[39;49m\u001b[43mrequire_length_match\u001b[49m\u001b[43m(\u001b[49m\u001b[43mvalue\u001b[49m\u001b[43m,\u001b[49m\u001b[43m \u001b[49m\u001b[38;5;28;43mself\u001b[39;49m\u001b[38;5;241;43m.\u001b[39;49m\u001b[43mindex\u001b[49m\u001b[43m)\u001b[49m\n\u001b[1;32m   4536\u001b[0m \u001b[38;5;28;01mreturn\u001b[39;00m sanitize_array(value, \u001b[38;5;28mself\u001b[39m\u001b[38;5;241m.\u001b[39mindex, copy\u001b[38;5;241m=\u001b[39m\u001b[38;5;28;01mTrue\u001b[39;00m, allow_2d\u001b[38;5;241m=\u001b[39m\u001b[38;5;28;01mTrue\u001b[39;00m)\n",
      "File \u001b[0;32m~/anaconda3/envs/deep_learning_env_2/lib/python3.9/site-packages/pandas/core/common.py:557\u001b[0m, in \u001b[0;36mrequire_length_match\u001b[0;34m(data, index)\u001b[0m\n\u001b[1;32m    553\u001b[0m \u001b[38;5;124;03m\"\"\"\u001b[39;00m\n\u001b[1;32m    554\u001b[0m \u001b[38;5;124;03mCheck the length of data matches the length of the index.\u001b[39;00m\n\u001b[1;32m    555\u001b[0m \u001b[38;5;124;03m\"\"\"\u001b[39;00m\n\u001b[1;32m    556\u001b[0m \u001b[38;5;28;01mif\u001b[39;00m \u001b[38;5;28mlen\u001b[39m(data) \u001b[38;5;241m!=\u001b[39m \u001b[38;5;28mlen\u001b[39m(index):\n\u001b[0;32m--> 557\u001b[0m     \u001b[38;5;28;01mraise\u001b[39;00m \u001b[38;5;167;01mValueError\u001b[39;00m(\n\u001b[1;32m    558\u001b[0m         \u001b[38;5;124m\"\u001b[39m\u001b[38;5;124mLength of values \u001b[39m\u001b[38;5;124m\"\u001b[39m\n\u001b[1;32m    559\u001b[0m         \u001b[38;5;124mf\u001b[39m\u001b[38;5;124m\"\u001b[39m\u001b[38;5;124m(\u001b[39m\u001b[38;5;132;01m{\u001b[39;00m\u001b[38;5;28mlen\u001b[39m(data)\u001b[38;5;132;01m}\u001b[39;00m\u001b[38;5;124m) \u001b[39m\u001b[38;5;124m\"\u001b[39m\n\u001b[1;32m    560\u001b[0m         \u001b[38;5;124m\"\u001b[39m\u001b[38;5;124mdoes not match length of index \u001b[39m\u001b[38;5;124m\"\u001b[39m\n\u001b[1;32m    561\u001b[0m         \u001b[38;5;124mf\u001b[39m\u001b[38;5;124m\"\u001b[39m\u001b[38;5;124m(\u001b[39m\u001b[38;5;132;01m{\u001b[39;00m\u001b[38;5;28mlen\u001b[39m(index)\u001b[38;5;132;01m}\u001b[39;00m\u001b[38;5;124m)\u001b[39m\u001b[38;5;124m\"\u001b[39m\n\u001b[1;32m    562\u001b[0m     )\n",
      "\u001b[0;31mValueError\u001b[0m: Length of values (3) does not match length of index (2)"
     ]
    }
   ],
   "source": [
    "generate_coverage_table(valid_df, pred_df)"
   ]
  },
  {
   "cell_type": "code",
   "execution_count": 163,
   "id": "210ea356",
   "metadata": {},
   "outputs": [
    {
     "data": {
      "text/plain": [
       "(0.8333333333333334, 0.18181818181818182)"
      ]
     },
     "execution_count": 163,
     "metadata": {},
     "output_type": "execute_result"
    }
   ],
   "source": [
    "calculate_precision_recall(valid_df, pred_df)"
   ]
  },
  {
   "cell_type": "markdown",
   "id": "bbd72073",
   "metadata": {
    "pycharm": {
     "name": "#%% md\n"
    }
   },
   "source": [
    "## Beauty & Spas"
   ]
  },
  {
   "cell_type": "code",
   "execution_count": 164,
   "id": "003881ef",
   "metadata": {},
   "outputs": [
    {
     "data": {
      "text/plain": [
       "Staff is friendly and accommodating .    18\n",
       "Amazing & professional service .         14\n",
       "Customer service- EXCELLENT !            13\n",
       "Very professionally run business .        9\n",
       "Artists are highly skilled .              7\n",
       "Super clean and friendly salon .          6\n",
       "Very neat and painless service .          3\n",
       "POOR CUSTOMER SERVICE .                   2\n",
       "Super comfy and great massage .           2\n",
       "Prices were fair and reasonable .         2\n",
       "This place is TERRIFIC .                  1\n",
       "Name: full_key_point, dtype: int64"
      ]
     },
     "metadata": {},
     "output_type": "display_data"
    }
   ],
   "source": [
    "selected_kps = ['Staff is friendly and accommodating .', 'Customer service- EXCELLENT !', 'Amazing & professional service .']\n",
    "valid_df, pred_df = get_top_kp_coverages(merged_df, df, \"Beauty & Spas\", None, selected_kps)"
   ]
  },
  {
   "cell_type": "code",
   "execution_count": 165,
   "id": "5e93814a",
   "metadata": {},
   "outputs": [
    {
     "data": {
      "text/html": [
       "<div>\n",
       "<style scoped>\n",
       "    .dataframe tbody tr th:only-of-type {\n",
       "        vertical-align: middle;\n",
       "    }\n",
       "\n",
       "    .dataframe tbody tr th {\n",
       "        vertical-align: top;\n",
       "    }\n",
       "\n",
       "    .dataframe thead th {\n",
       "        text-align: right;\n",
       "    }\n",
       "</style>\n",
       "<table border=\"1\" class=\"dataframe\">\n",
       "  <thead>\n",
       "    <tr style=\"text-align: right;\">\n",
       "      <th></th>\n",
       "      <th>Key Points</th>\n",
       "      <th>Predicted Coverage</th>\n",
       "      <th>Actual Coverage</th>\n",
       "    </tr>\n",
       "  </thead>\n",
       "  <tbody>\n",
       "    <tr>\n",
       "      <th>0</th>\n",
       "      <td>Staff is friendly and accommodating .</td>\n",
       "      <td>13</td>\n",
       "      <td>18</td>\n",
       "    </tr>\n",
       "    <tr>\n",
       "      <th>1</th>\n",
       "      <td>Customer service- EXCELLENT !</td>\n",
       "      <td>7</td>\n",
       "      <td>14</td>\n",
       "    </tr>\n",
       "    <tr>\n",
       "      <th>2</th>\n",
       "      <td>Amazing &amp; professional service .</td>\n",
       "      <td>3</td>\n",
       "      <td>13</td>\n",
       "    </tr>\n",
       "  </tbody>\n",
       "</table>\n",
       "</div>"
      ],
      "text/plain": [
       "                              Key Points  Predicted Coverage  Actual Coverage\n",
       "0  Staff is friendly and accommodating .                  13               18\n",
       "1          Customer service- EXCELLENT !                   7               14\n",
       "2       Amazing & professional service .                   3               13"
      ]
     },
     "execution_count": 165,
     "metadata": {},
     "output_type": "execute_result"
    }
   ],
   "source": [
    "generate_coverage_table(valid_df, pred_df)"
   ]
  },
  {
   "cell_type": "code",
   "execution_count": 166,
   "id": "fb40e62e",
   "metadata": {},
   "outputs": [
    {
     "data": {
      "text/plain": [
       "(0.8695652173913043, 0.4444444444444444)"
      ]
     },
     "execution_count": 166,
     "metadata": {},
     "output_type": "execute_result"
    }
   ],
   "source": [
    "calculate_precision_recall(valid_df, pred_df)"
   ]
  },
  {
   "cell_type": "markdown",
   "id": "1458f631",
   "metadata": {
    "pycharm": {
     "name": "#%% md\n"
    }
   },
   "source": [
    "## Hotels"
   ]
  },
  {
   "cell_type": "code",
   "execution_count": 167,
   "id": "3f5ea7e6",
   "metadata": {},
   "outputs": [
    {
     "data": {
      "text/plain": [
       "Friendly and helpful staff .              21\n",
       "Clean and comfortable rooms .             13\n",
       "Excellent customer service .               7\n",
       "The service is impeccable .                5\n",
       "Very peaceful and relaxing location .      4\n",
       "Great desk service , too .                 4\n",
       "Extremely poor service .                   3\n",
       "The beds are extremely comfortable .       2\n",
       "Pool area clean and refreshing .           2\n",
       "Price way overvalued .                     1\n",
       "The ambience is wonderfully peaceful .     1\n",
       "Horribly rude staff .                      1\n",
       "Front desk staff was inept .               1\n",
       "Room decor is outdated .                   1\n",
       "Wifi was very reliable .                   1\n",
       "Valet is convenient and fast .             1\n",
       "Parking is easy .                          1\n",
       "Restaurant service absolutely sucks .      1\n",
       "Beds were extremely uncomfortable .        1\n",
       "Great cocktail list too .                  1\n",
       "Name: full_key_point, dtype: int64"
      ]
     },
     "metadata": {},
     "output_type": "display_data"
    }
   ],
   "source": [
    "selected_kps = ['Friendly and helpful staff .', 'Clean and comfortable rooms .', 'The ambience is wonderfully peaceful .']\n",
    "valid_df, pred_df = get_top_kp_coverages(merged_df, df, 'Hotels', None, selected_kps)"
   ]
  },
  {
   "cell_type": "code",
   "execution_count": 168,
   "id": "666693af",
   "metadata": {},
   "outputs": [
    {
     "data": {
      "text/html": [
       "<div>\n",
       "<style scoped>\n",
       "    .dataframe tbody tr th:only-of-type {\n",
       "        vertical-align: middle;\n",
       "    }\n",
       "\n",
       "    .dataframe tbody tr th {\n",
       "        vertical-align: top;\n",
       "    }\n",
       "\n",
       "    .dataframe thead th {\n",
       "        text-align: right;\n",
       "    }\n",
       "</style>\n",
       "<table border=\"1\" class=\"dataframe\">\n",
       "  <thead>\n",
       "    <tr style=\"text-align: right;\">\n",
       "      <th></th>\n",
       "      <th>Key Points</th>\n",
       "      <th>Predicted Coverage</th>\n",
       "      <th>Actual Coverage</th>\n",
       "    </tr>\n",
       "  </thead>\n",
       "  <tbody>\n",
       "    <tr>\n",
       "      <th>0</th>\n",
       "      <td>Friendly and helpful staff .</td>\n",
       "      <td>16</td>\n",
       "      <td>21</td>\n",
       "    </tr>\n",
       "    <tr>\n",
       "      <th>1</th>\n",
       "      <td>Clean and comfortable rooms .</td>\n",
       "      <td>12</td>\n",
       "      <td>13</td>\n",
       "    </tr>\n",
       "    <tr>\n",
       "      <th>2</th>\n",
       "      <td>The ambience is wonderfully peaceful .</td>\n",
       "      <td>2</td>\n",
       "      <td>1</td>\n",
       "    </tr>\n",
       "  </tbody>\n",
       "</table>\n",
       "</div>"
      ],
      "text/plain": [
       "                               Key Points  Predicted Coverage  Actual Coverage\n",
       "0            Friendly and helpful staff .                  16               21\n",
       "1           Clean and comfortable rooms .                  12               13\n",
       "2  The ambience is wonderfully peaceful .                   2                1"
      ]
     },
     "execution_count": 168,
     "metadata": {},
     "output_type": "execute_result"
    }
   ],
   "source": [
    "generate_coverage_table(valid_df, pred_df)"
   ]
  },
  {
   "cell_type": "code",
   "execution_count": 169,
   "id": "304f69b0",
   "metadata": {
    "pycharm": {
     "name": "#%%\n"
    },
    "scrolled": true
   },
   "outputs": [
    {
     "data": {
      "text/plain": [
       "(0.9333333333333333, 0.8)"
      ]
     },
     "execution_count": 169,
     "metadata": {},
     "output_type": "execute_result"
    }
   ],
   "source": [
    "calculate_precision_recall(valid_df, pred_df)"
   ]
  },
  {
   "cell_type": "markdown",
   "id": "59a090a3",
   "metadata": {
    "pycharm": {
     "name": "#%% md\n"
    }
   },
   "source": [
    "## Restaurants"
   ]
  },
  {
   "cell_type": "code",
   "execution_count": 170,
   "id": "27665e83",
   "metadata": {},
   "outputs": [
    {
     "data": {
      "text/plain": [
       "Staff was courteous and accommodating .       19\n",
       "Customer Service is Excellent .               14\n",
       "Employees are friendly and attentive .        14\n",
       "Service was prompt and friendly .             11\n",
       "Delicious and expertly prepared food .         7\n",
       "Ambiance is casual and comfortable .           6\n",
       "Fresh food , using local produce .             5\n",
       "The service here was exceptional .             5\n",
       "Really delicious food , well balanced !        4\n",
       "Fantastic drink selection .                    3\n",
       "Generous sized portions .                      3\n",
       "The food is consistently EXCELLENT !           3\n",
       "AMAZING AUTHENTIC FLAVOR !                     3\n",
       "Plenty of coffees and teas .                   2\n",
       "Way over priced .                              2\n",
       "Great variety of menu items .                  2\n",
       "Prices are fair and reasonable .               2\n",
       "Great beer and wine selection .                1\n",
       "Lots of outdoor seating and                    1\n",
       "The quality has diminished significantly .     1\n",
       "Name: full_key_point, dtype: int64"
      ]
     },
     "metadata": {},
     "output_type": "display_data"
    }
   ],
   "source": [
    "selected_kps = ['Staff was courteous and accommodating .', \n",
    "                'Fresh food , using local produce .', 'The service here was exceptional .  ']\n",
    "valid_df, pred_df = get_top_kp_coverages(merged_df, df, 'Restaurants', None, selected_kps)"
   ]
  },
  {
   "cell_type": "code",
   "execution_count": 171,
   "id": "c2a83e48",
   "metadata": {},
   "outputs": [
    {
     "data": {
      "text/html": [
       "<div>\n",
       "<style scoped>\n",
       "    .dataframe tbody tr th:only-of-type {\n",
       "        vertical-align: middle;\n",
       "    }\n",
       "\n",
       "    .dataframe tbody tr th {\n",
       "        vertical-align: top;\n",
       "    }\n",
       "\n",
       "    .dataframe thead th {\n",
       "        text-align: right;\n",
       "    }\n",
       "</style>\n",
       "<table border=\"1\" class=\"dataframe\">\n",
       "  <thead>\n",
       "    <tr style=\"text-align: right;\">\n",
       "      <th></th>\n",
       "      <th>Key Points</th>\n",
       "      <th>Predicted Coverage</th>\n",
       "      <th>Actual Coverage</th>\n",
       "    </tr>\n",
       "  </thead>\n",
       "  <tbody>\n",
       "    <tr>\n",
       "      <th>0</th>\n",
       "      <td>Staff was courteous and accommodating .</td>\n",
       "      <td>11</td>\n",
       "      <td>19</td>\n",
       "    </tr>\n",
       "    <tr>\n",
       "      <th>1</th>\n",
       "      <td>Fresh food , using local produce .</td>\n",
       "      <td>8</td>\n",
       "      <td>5</td>\n",
       "    </tr>\n",
       "    <tr>\n",
       "      <th>2</th>\n",
       "      <td>The service here was exceptional .</td>\n",
       "      <td>5</td>\n",
       "      <td>5</td>\n",
       "    </tr>\n",
       "  </tbody>\n",
       "</table>\n",
       "</div>"
      ],
      "text/plain": [
       "                                Key Points  Predicted Coverage  \\\n",
       "0  Staff was courteous and accommodating .                  11   \n",
       "1       Fresh food , using local produce .                   8   \n",
       "2     The service here was exceptional .                     5   \n",
       "\n",
       "   Actual Coverage  \n",
       "0               19  \n",
       "1                5  \n",
       "2                5  "
      ]
     },
     "execution_count": 171,
     "metadata": {},
     "output_type": "execute_result"
    }
   ],
   "source": [
    "generate_coverage_table(valid_df, pred_df)"
   ]
  },
  {
   "cell_type": "code",
   "execution_count": 172,
   "id": "92923071",
   "metadata": {},
   "outputs": [
    {
     "data": {
      "text/plain": [
       "(0.75, 0.6206896551724138)"
      ]
     },
     "execution_count": 172,
     "metadata": {},
     "output_type": "execute_result"
    }
   ],
   "source": [
    "calculate_precision_recall(valid_df, pred_df)"
   ]
  },
  {
   "cell_type": "code",
   "execution_count": null,
   "id": "b1357d54",
   "metadata": {},
   "outputs": [],
   "source": []
  }
 ],
 "metadata": {
  "kernelspec": {
   "display_name": "Python 3 (ipykernel)",
   "language": "python",
   "name": "python3"
  },
  "language_info": {
   "codemirror_mode": {
    "name": "ipython",
    "version": 3
   },
   "file_extension": ".py",
   "mimetype": "text/x-python",
   "name": "python",
   "nbconvert_exporter": "python",
   "pygments_lexer": "ipython3",
   "version": "3.9.12"
  },
  "toc": {
   "base_numbering": 1,
   "nav_menu": {},
   "number_sections": true,
   "sideBar": true,
   "skip_h1_title": false,
   "title_cell": "Table of Contents",
   "title_sidebar": "Contents",
   "toc_cell": false,
   "toc_position": {
    "height": "calc(100% - 180px)",
    "left": "10px",
    "top": "150px",
    "width": "406.225px"
   },
   "toc_section_display": true,
   "toc_window_display": true
  }
 },
 "nbformat": 4,
 "nbformat_minor": 5
}
