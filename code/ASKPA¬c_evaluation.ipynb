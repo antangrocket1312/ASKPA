{
 "cells": [
  {
   "cell_type": "code",
   "execution_count": 1,
   "id": "540877ca",
   "metadata": {},
   "outputs": [
    {
     "name": "stderr",
     "output_type": "stream",
     "text": [
      "/home/an/anaconda3/envs/deep_learning_env_2/lib/python3.9/site-packages/scipy/__init__.py:146: UserWarning: A NumPy version >=1.16.5 and <1.23.0 is required for this version of SciPy (detected version 1.23.5\n",
      "  warnings.warn(f\"A NumPy version >={np_minversion} and <{np_maxversion}\"\n",
      "2023-07-12 08:49:45.778208: I tensorflow/stream_executor/platform/default/dso_loader.cc:53] Successfully opened dynamic library libcudart.so.11.0\n",
      "2023-07-12 08:49:46.832142: I tensorflow/stream_executor/platform/default/dso_loader.cc:53] Successfully opened dynamic library libcuda.so.1\n",
      "2023-07-12 08:49:46.833811: I tensorflow/stream_executor/cuda/cuda_gpu_executor.cc:923] could not open file to read NUMA node: /sys/bus/pci/devices/0000:01:00.0/numa_node\n",
      "Your kernel may have been built without NUMA support.\n",
      "2023-07-12 08:49:46.834003: I tensorflow/core/common_runtime/gpu/gpu_device.cc:1733] Found device 0 with properties: \n",
      "pciBusID: 0000:01:00.0 name: NVIDIA GeForce RTX 3080 Ti computeCapability: 8.6\n",
      "coreClock: 1.77GHz coreCount: 80 deviceMemorySize: 12.00GiB deviceMemoryBandwidth: 849.46GiB/s\n",
      "2023-07-12 08:49:46.834054: I tensorflow/stream_executor/platform/default/dso_loader.cc:53] Successfully opened dynamic library libcudart.so.11.0\n",
      "2023-07-12 08:49:46.834087: I tensorflow/stream_executor/platform/default/dso_loader.cc:53] Successfully opened dynamic library libcublas.so.11\n",
      "2023-07-12 08:49:46.834100: I tensorflow/stream_executor/platform/default/dso_loader.cc:53] Successfully opened dynamic library libcublasLt.so.11\n",
      "2023-07-12 08:49:46.834113: I tensorflow/stream_executor/platform/default/dso_loader.cc:53] Successfully opened dynamic library libcufft.so.10\n",
      "2023-07-12 08:49:46.834125: I tensorflow/stream_executor/platform/default/dso_loader.cc:53] Successfully opened dynamic library libcurand.so.10\n",
      "2023-07-12 08:49:46.834147: I tensorflow/stream_executor/platform/default/dso_loader.cc:53] Successfully opened dynamic library libcusolver.so.11\n",
      "2023-07-12 08:49:46.834153: I tensorflow/stream_executor/platform/default/dso_loader.cc:53] Successfully opened dynamic library libcusparse.so.11\n",
      "2023-07-12 08:49:46.834172: I tensorflow/stream_executor/platform/default/dso_loader.cc:53] Successfully opened dynamic library libcudnn.so.8\n",
      "2023-07-12 08:49:46.834396: I tensorflow/stream_executor/cuda/cuda_gpu_executor.cc:923] could not open file to read NUMA node: /sys/bus/pci/devices/0000:01:00.0/numa_node\n",
      "Your kernel may have been built without NUMA support.\n",
      "2023-07-12 08:49:46.834713: I tensorflow/stream_executor/cuda/cuda_gpu_executor.cc:923] could not open file to read NUMA node: /sys/bus/pci/devices/0000:01:00.0/numa_node\n",
      "Your kernel may have been built without NUMA support.\n",
      "2023-07-12 08:49:46.834822: I tensorflow/core/common_runtime/gpu/gpu_device.cc:1871] Adding visible gpu devices: 0\n"
     ]
    }
   ],
   "source": [
    "import json\n",
    "import pandas as pd\n",
    "import numpy as np\n",
    "import ast\n",
    "import spacy\n",
    "import matplotlib.pyplot as plt\n",
    "\n",
    "pd.set_option('display.max_colwidth', None)"
   ]
  },
  {
   "cell_type": "code",
   "execution_count": null,
   "id": "376abd8a",
   "metadata": {},
   "outputs": [],
   "source": [
    "from datasets import concatenate_datasets, load_dataset\n",
    "from datasets import Dataset, DatasetDict"
   ]
  },
  {
   "cell_type": "code",
   "execution_count": null,
   "id": "0d9325e8",
   "metadata": {},
   "outputs": [],
   "source": [
    "from utils.track_1_kp_matching import *"
   ]
  },
  {
   "cell_type": "code",
   "execution_count": null,
   "id": "cfe3553d",
   "metadata": {},
   "outputs": [],
   "source": [
    "from sentence_transformers import SentenceTransformer, InputExample, LoggingHandler, losses, models, util\n",
    "import torch"
   ]
  },
  {
   "cell_type": "code",
   "execution_count": null,
   "id": "ceaa0387",
   "metadata": {},
   "outputs": [],
   "source": [
    "from datasets import concatenate_datasets, load_dataset\n",
    "from datasets import Dataset, DatasetDict\n",
    "from torch.utils.data import DataLoader"
   ]
  },
  {
   "cell_type": "markdown",
   "id": "f6573260",
   "metadata": {},
   "source": [
    "First with top 10 args per category labelling of test set"
   ]
  },
  {
   "cell_type": "markdown",
   "id": "69db8157",
   "metadata": {},
   "source": [
    "# Load Test dataset"
   ]
  },
  {
   "cell_type": "code",
   "execution_count": null,
   "id": "a4007725",
   "metadata": {},
   "outputs": [],
   "source": [
    "df = pd.read_pickle(f\"../data/Evaluation/test_data.pkl\")"
   ]
  },
  {
   "cell_type": "code",
   "execution_count": null,
   "id": "c557a03b",
   "metadata": {},
   "outputs": [],
   "source": [
    "df"
   ]
  },
  {
   "cell_type": "code",
   "execution_count": null,
   "id": "e83139f0",
   "metadata": {},
   "outputs": [],
   "source": [
    "df['label'].value_counts()"
   ]
  },
  {
   "cell_type": "code",
   "execution_count": null,
   "id": "71cd8414",
   "metadata": {},
   "outputs": [],
   "source": [
    "# df = df[df['topic'] == 'Hotels']\n",
    "# df = df[df['topic'] == 'Restaurants']\n",
    "# df = df[df['topic'] == 'Arts & Entertainment']\n",
    "# df = df[df['topic'] == 'Automotive']\n",
    "# df = df[df['topic'] == 'Beauty & Spas']"
   ]
  },
  {
   "cell_type": "code",
   "execution_count": null,
   "id": "2d965e13",
   "metadata": {},
   "outputs": [],
   "source": [
    "# df = df[df['isMultiAspect'] == True]"
   ]
  },
  {
   "cell_type": "code",
   "execution_count": null,
   "id": "0d7a89eb",
   "metadata": {},
   "outputs": [],
   "source": [
    "def prepare_comment_kp_label_input(df):\n",
    "    df['num_of_aspects'] = df['comment'].str.len()\n",
    "    df = df.rename(columns={'comment_id': 'comment_id_sent'})\n",
    "    df['comment_id'] = df['comment_id_sent'] + \"_\" + df['num_of_aspects'].astype(str)\n",
    "    \n",
    "    comment_df = df[['comment_id', 'topic', 'full_comment', 'num_of_aspects',\n",
    "                'aspects_x', 'opinions_x', 'opinion_aspect_pairs_x', 'sentiments_x', 'attributes']]\n",
    "    comment_df = comment_df.drop_duplicates(subset=['comment_id']).reset_index(drop=True)\n",
    "    comment_df.columns = [col.replace(\"_x\", \"\") for col in comment_df.columns]\n",
    "    \n",
    "    kp_df = df[['key_point_id', 'topic', 'full_key_point',\n",
    "           'aspects_y', 'opinions_y', 'opinion_aspect_pairs_y', 'sentiments_y', 'attributes']]\n",
    "    kp_df = kp_df.drop_duplicates(subset=['key_point_id']).reset_index(drop=True)\n",
    "    kp_df = kp_df.rename(columns={'full_key_point': 'key_point'})\n",
    "    kp_df.columns = [col.replace(\"_y\", \"\") for col in kp_df.columns]\n",
    "    kp_df['opinion_aspect_pairs'] = kp_df['opinion_aspect_pairs'].apply(lambda x: ast.literal_eval(x))\n",
    "    kp_df['sentiments'] = kp_df['sentiments'].apply(lambda x: ast.literal_eval(x))\n",
    "    \n",
    "    labels_df = df[['comment_id', 'key_point_id', 'label']]\n",
    "    \n",
    "    return comment_df, kp_df, labels_df"
   ]
  },
  {
   "cell_type": "markdown",
   "id": "5c6f7651",
   "metadata": {},
   "source": [
    "# Comment-KP ABSA Matching"
   ]
  },
  {
   "cell_type": "code",
   "execution_count": null,
   "id": "39cc8d84",
   "metadata": {},
   "outputs": [],
   "source": [
    "def comment_kp_absa_match(comment_df, kp_df):    \n",
    "    comment_df = comment_df.explode(['aspects', 'opinions', 'opinion_aspect_pairs', 'sentiments', 'attributes'])\n",
    "    kp_df = kp_df.explode(['opinion_aspect_pairs', 'sentiments'])\n",
    "    \n",
    "    # Matching based on ABSA predictions of comment and KPs\n",
    "    sent_kp_df = comment_df.astype(str).merge(kp_df.astype(str), how='left', on=['topic']).dropna(subset=['key_point'])\n",
    "    sent_kp_df = sent_kp_df.reset_index(drop=True)\n",
    "    # Label the matching/non-matching pairs\n",
    "    sent_kp_df.loc[\n",
    "        (sent_kp_df['aspects_x'] == sent_kp_df['aspects_y']) & (sent_kp_df['sentiments_x'] == sent_kp_df['sentiments_y']),\n",
    "        'score'\n",
    "    ] = 1\n",
    "    sent_kp_df.loc[\n",
    "        (sent_kp_df['sentiments_x'] != sent_kp_df['sentiments_y']),\n",
    "        'score'\n",
    "    ] = 0\n",
    "    sent_kp_df = implicit_aspects_matching(sent_kp_df)\n",
    "    \n",
    "    predictions_df = sent_kp_df.groupby(['topic', 'comment_id', 'opinion_aspect_pairs_x']).apply(select_best_kp_per_opinion).reset_index(drop=True)\n",
    "    predictions_df = predictions_df.drop_duplicates(subset=['comment_id', 'key_point_id'])\n",
    "    \n",
    "    return predictions_df"
   ]
  },
  {
   "cell_type": "code",
   "execution_count": null,
   "id": "9deeabb7",
   "metadata": {},
   "outputs": [],
   "source": [
    "def select_best_kp_per_opinion(grp):\n",
    "    best_match = grp.sort_values(by=['score'], ascending=False)\n",
    "    best_match = best_match.iloc[0]\n",
    "    return best_match"
   ]
  },
  {
   "cell_type": "markdown",
   "id": "ce0d8ca2",
   "metadata": {},
   "source": [
    "Comment/KP matching on implicit aspects"
   ]
  },
  {
   "cell_type": "code",
   "execution_count": null,
   "id": "37d389f7",
   "metadata": {},
   "outputs": [],
   "source": [
    "import spacy\n",
    "spacy.require_gpu()"
   ]
  },
  {
   "cell_type": "code",
   "execution_count": null,
   "id": "c7aaea0f",
   "metadata": {},
   "outputs": [],
   "source": [
    "def implicit_aspects_matching(sent_kp_df):\n",
    "    sent_kp_df['predicted_by_cosine'] = False\n",
    "    \n",
    "    implicit_match_analyze_mask = pd.isnull(sent_kp_df['score'])\n",
    "    sent_kp_df[implicit_match_analyze_mask] = sent_kp_df[implicit_match_analyze_mask].apply(calculate_aspects_semantic_similarity, axis=1)\n",
    "    \n",
    "    return sent_kp_df"
   ]
  },
  {
   "cell_type": "code",
   "execution_count": null,
   "id": "2fde2a94",
   "metadata": {},
   "outputs": [],
   "source": [
    "unfound_tokens = []\n",
    "def calculate_aspects_semantic_similarity(row):\n",
    "    import warnings\n",
    "    warnings.filterwarnings(\"ignore\")\n",
    "    nlp = spacy.load('en_core_web_md')\n",
    "    tokens = nlp(row['aspects_x'] + \" | \" + row['aspects_y'])\n",
    "    sep_index = [token.i for token in tokens if token.text == '|'][0]\n",
    "    token1, token2 = tokens[:sep_index], tokens[sep_index+1:]\n",
    "    row['aspects_x_len'] = len(token1)\n",
    "    row['aspects_y_len'] = len(token2)\n",
    "    warnings.filterwarnings(\"error\")\n",
    "    try:\n",
    "#         print(token2.similarity(token1))\n",
    "        row['score'] = token2.similarity(token1)\n",
    "    except:\n",
    "        row['score'] = 0\n",
    "    row['predicted_by_cosine'] = True\n",
    "    \n",
    "    return row"
   ]
  },
  {
   "cell_type": "code",
   "execution_count": null,
   "id": "e2ddb651",
   "metadata": {},
   "outputs": [],
   "source": [
    "import nltk\n",
    "def label_implicit_matching_pair(row):\n",
    "    token1 = row['aspects_x'][0]\n",
    "    token2 = row['aspects_y'][0]\n",
    "    \n",
    "    # Best\n",
    "    if row['aspects_x_len'] >= row['aspects_y_len']:\n",
    "        if token2 in token1 and len(token1) > len(token2) and row['aspects_x_len'] > row['aspects_y_len']: # e.g. mexican food vs food\n",
    "            row['label'] = 1\n",
    "    return row"
   ]
  },
  {
   "cell_type": "code",
   "execution_count": null,
   "id": "bfa4585c",
   "metadata": {},
   "outputs": [],
   "source": [
    "def do_eval(df):\n",
    "    comment_df, kp_df, labels_df = prepare_comment_kp_label_input(df)\n",
    "    predictions_df = comment_kp_absa_match(comment_df, kp_df)\n",
    "\n",
    "    merged_df = pd.merge(predictions_df, labels_df, how=\"left\", on=[\"comment_id\", \"key_point_id\"])\n",
    "    merged_df.loc[merged_df['key_point_id'] == \"dummy_id\", 'label'] = 0\n",
    "    merged_df[\"label_strict\"] = merged_df[\"label\"].fillna(0)\n",
    "    merged_df[\"label_relaxed\"] = merged_df[\"label\"].fillna(1)\n",
    "    \n",
    "    precisions = [(t, get_ap(group, \"label_strict\")) for t, group in merged_df.groupby([\"topic\"])]\n",
    "    \n",
    "    return merged_df, precisions"
   ]
  },
  {
   "cell_type": "markdown",
   "id": "cc66c75f",
   "metadata": {},
   "source": [
    "# Evaluation"
   ]
  },
  {
   "cell_type": "markdown",
   "id": "7183a233",
   "metadata": {
    "pycharm": {
     "name": "#%% md\n"
    }
   },
   "source": [
    "## All Comments in test data"
   ]
  },
  {
   "cell_type": "code",
   "execution_count": null,
   "id": "0ea02d18",
   "metadata": {},
   "outputs": [],
   "source": [
    "merged_df, precisions = do_eval(df)"
   ]
  },
  {
   "cell_type": "code",
   "execution_count": null,
   "id": "9232ccaa",
   "metadata": {},
   "outputs": [],
   "source": []
  },
  {
   "cell_type": "markdown",
   "id": "bd5b3f11",
   "metadata": {
    "pycharm": {
     "name": "#%% md\n"
    }
   },
   "source": [
    "# Quantitative KP Coverage and Precision/Recall"
   ]
  },
  {
   "cell_type": "code",
   "execution_count": 102,
   "id": "fb7a650c",
   "metadata": {},
   "outputs": [
    {
     "data": {
      "text/plain": [
       "Index(['comment_id', 'topic_x', 'full_comment', 'num_of_aspects', 'aspects_x',\n",
       "       'opinions_x', 'opinion_aspect_pairs_x', 'sentiments_x', 'attributes_x',\n",
       "       'key_point_id', 'key_point_x', 'aspects_y', 'opinions_y',\n",
       "       'opinion_aspect_pairs_y', 'sentiments_y', 'attributes_y', 'score',\n",
       "       'predicted_by_cosine', 'label', 'label_strict', 'label_relaxed',\n",
       "       'topic_y', 'key_point_y', 'aspects', 'opinions', 'opinion_aspect_pairs',\n",
       "       'sentiments', 'attributes'],\n",
       "      dtype='object')"
      ]
     },
     "execution_count": 102,
     "metadata": {},
     "output_type": "execute_result"
    }
   ],
   "source": [
    "merged_df[merged_df['topic'] == 'Arts & Entertainment'].merge(kp_df, on=['key_point_id']).columns"
   ]
  },
  {
   "cell_type": "code",
   "execution_count": 150,
   "id": "de2dd985",
   "metadata": {},
   "outputs": [],
   "source": [
    "from sklearn.metrics import recall_score, precision_score\n",
    "\n",
    "def get_top_kp_coverages(merged_df, df, category, top=None, selected_kps=[]):\n",
    "    comment_df, kp_df, labels_df = prepare_comment_kp_label_input(df)\n",
    "    kp_df = kp_df.drop(columns=['key_point'])\n",
    "\n",
    "    valid_df = df[(df['label'] == 1) & (df['topic'] == category)]\n",
    "    valid_kp = valid_df['full_key_point'].value_counts()\n",
    "    display(valid_kp)\n",
    "    \n",
    "    top_kp = merged_df[merged_df['topic'] == category].merge(kp_df, on=['key_point_id'])['key_point'].value_counts()\n",
    "    result = top_kp[top_kp.index.isin(valid_kp.index.tolist())]\n",
    "    if top != None:\n",
    "        result = result[result.index.isin(valid_kp.head(top).index)]\n",
    "    elif len(selected_kps) > 0:\n",
    "        result = result[result.index.isin(selected_kps)]\n",
    "    \n",
    "    if top != None:\n",
    "        valid_df = df[df['full_key_point'].isin(valid_kp.head(top).index)]\n",
    "    elif len(selected_kps) > 0:\n",
    "        valid_df = valid_df[valid_df['full_key_point'].isin(selected_kps)]\n",
    "    \n",
    "    pred_df = merged_df[merged_df['topic'] == category].merge(kp_df, on=['key_point_id'])\n",
    "    if top != None:\n",
    "        pred_df = pred_df[pred_df['key_point'].isin(valid_kp.head(top).index)]\n",
    "    elif len(selected_kps) > 0:\n",
    "        pred_df = pred_df[pred_df['key_point'].isin(selected_kps)]\n",
    "        \n",
    "    return valid_df, pred_df"
   ]
  },
  {
   "cell_type": "code",
   "execution_count": 151,
   "id": "1d34b3a5",
   "metadata": {},
   "outputs": [],
   "source": [
    "def calculate_precision_recall(valid_df, pred_df):\n",
    "    pred_df['pred_label'] = 1\n",
    "    \n",
    "    # Calculate Precision\n",
    "    new_valid_df = valid_df.merge(pred_df[['comment_id', 'key_point_id', 'pred_label']], how='right')\n",
    "    new_valid_df['label'] = new_valid_df['label'].fillna(0)\n",
    "    precision = precision_score(new_valid_df['label'], new_valid_df['pred_label'])\n",
    "\n",
    "    # Calculate Recall\n",
    "    new_valid_df = valid_df.merge(pred_df[['comment_id', 'key_point_id', 'pred_label']], how='left')\n",
    "    new_valid_df['pred_label'] = new_valid_df['pred_label'].fillna(0)\n",
    "    recall = recall_score(new_valid_df['label'], new_valid_df['pred_label'])\n",
    "    \n",
    "    return precision, recall"
   ]
  },
  {
   "cell_type": "code",
   "execution_count": 157,
   "id": "60f85350",
   "metadata": {},
   "outputs": [],
   "source": [
    "def generate_coverage_table(valid_df, pred_df): \n",
    "    coverage_compare_table = pred_df['key_point'].value_counts().reset_index()\n",
    "    coverage_compare_table.columns = ['Key Points', 'Predicted Coverage']\n",
    "    coverage_compare_table['Actual Coverage'] = valid_df['full_key_point'].value_counts().tolist()\n",
    "    return coverage_compare_table"
   ]
  },
  {
   "cell_type": "markdown",
   "id": "b7baee13",
   "metadata": {
    "pycharm": {
     "name": "#%% md\n"
    }
   },
   "source": [
    "## Arts & Entertainment"
   ]
  },
  {
   "cell_type": "code",
   "execution_count": 158,
   "id": "72850266",
   "metadata": {},
   "outputs": [
    {
     "data": {
      "text/plain": [
       "Friendly and helpful staff .                14\n",
       "Awesome service and employees .             10\n",
       "It had wonderful acoustics .                 9\n",
       "Superior customer service !                  8\n",
       "Seats are adequately comfortable .           4\n",
       "Horrible customer service .                  3\n",
       "Very talented musicians !                    2\n",
       "Worth the money .                            2\n",
       "lines were short and quick .                 2\n",
       "The acoustics are poor .                     2\n",
       "Terrible administration and management .     2\n",
       "Rude and Unprofessional staff .              2\n",
       "Great for conventions and concerts ! !       2\n",
       "Incredibly talented performers - wow !       2\n",
       "Parking was fast and FREE !                  1\n",
       "Front seats worth every penny !              1\n",
       "Awesome lighting , and decor .               1\n",
       "Nice employees ... not to pushy .            1\n",
       "This theatre was filthy .                    1\n",
       "Name: full_key_point, dtype: int64"
      ]
     },
     "metadata": {},
     "output_type": "display_data"
    }
   ],
   "source": [
    "selected_kps = ['Friendly and helpful staff .', 'Seats are adequately comfortable .   ', 'Horrible customer service .']\n",
    "valid_df, pred_df = get_top_kp_coverages(merged_df, df, 'Arts & Entertainment', None, selected_kps)"
   ]
  },
  {
   "cell_type": "code",
   "execution_count": 159,
   "id": "d545bf12",
   "metadata": {},
   "outputs": [
    {
     "data": {
      "text/html": [
       "<div>\n",
       "<style scoped>\n",
       "    .dataframe tbody tr th:only-of-type {\n",
       "        vertical-align: middle;\n",
       "    }\n",
       "\n",
       "    .dataframe tbody tr th {\n",
       "        vertical-align: top;\n",
       "    }\n",
       "\n",
       "    .dataframe thead th {\n",
       "        text-align: right;\n",
       "    }\n",
       "</style>\n",
       "<table border=\"1\" class=\"dataframe\">\n",
       "  <thead>\n",
       "    <tr style=\"text-align: right;\">\n",
       "      <th></th>\n",
       "      <th>Key Points</th>\n",
       "      <th>Predicted Coverage</th>\n",
       "      <th>Actual Coverage</th>\n",
       "    </tr>\n",
       "  </thead>\n",
       "  <tbody>\n",
       "    <tr>\n",
       "      <th>0</th>\n",
       "      <td>Friendly and helpful staff .</td>\n",
       "      <td>10</td>\n",
       "      <td>14</td>\n",
       "    </tr>\n",
       "    <tr>\n",
       "      <th>1</th>\n",
       "      <td>Seats are adequately comfortable .</td>\n",
       "      <td>4</td>\n",
       "      <td>4</td>\n",
       "    </tr>\n",
       "    <tr>\n",
       "      <th>2</th>\n",
       "      <td>Horrible customer service .</td>\n",
       "      <td>3</td>\n",
       "      <td>3</td>\n",
       "    </tr>\n",
       "  </tbody>\n",
       "</table>\n",
       "</div>"
      ],
      "text/plain": [
       "                              Key Points  Predicted Coverage  Actual Coverage\n",
       "0           Friendly and helpful staff .                  10               14\n",
       "1  Seats are adequately comfortable .                      4                4\n",
       "2            Horrible customer service .                   3                3"
      ]
     },
     "execution_count": 159,
     "metadata": {},
     "output_type": "execute_result"
    }
   ],
   "source": [
    "generate_coverage_table(valid_df, pred_df)"
   ]
  },
  {
   "cell_type": "code",
   "execution_count": 160,
   "id": "f3586a1a",
   "metadata": {},
   "outputs": [
    {
     "data": {
      "text/plain": [
       "(0.9411764705882353, 0.7619047619047619)"
      ]
     },
     "execution_count": 160,
     "metadata": {},
     "output_type": "execute_result"
    }
   ],
   "source": [
    "calculate_precision_recall(valid_df, pred_df)"
   ]
  },
  {
   "cell_type": "markdown",
   "id": "38d3216f",
   "metadata": {
    "pycharm": {
     "name": "#%% md\n"
    }
   },
   "source": [
    "## Automotive"
   ]
  },
  {
   "cell_type": "code",
   "execution_count": 161,
   "id": "bb25a812",
   "metadata": {},
   "outputs": [
    {
     "data": {
      "text/plain": [
       "They have excellent customer service .    29\n",
       "Very professional staff .                 13\n",
       "The employees here are wonderful !        13\n",
       "Very courteous staff .                    10\n",
       "FAST and FRIENDLY SERVICE ! ! !            6\n",
       "TERRIBLE CUSTOMER SERVICE !                5\n",
       "Their work is Impeccable .                 4\n",
       "The cashiers are always friendly .         3\n",
       "Store was clean and organized .            3\n",
       "Extremely poor service .                   2\n",
       "Prices were fair and reasonable .          2\n",
       "Over priced and overrated .                1\n",
       "Overall just poor quality .                1\n",
       "Unbeatable Professional Service !          1\n",
       "Name: full_key_point, dtype: int64"
      ]
     },
     "metadata": {},
     "output_type": "display_data"
    }
   ],
   "source": [
    "selected_kps = ['They have excellent customer service .', 'The employees here are wonderful !', 'Very professional staff .']\n",
    "valid_df, pred_df = get_top_kp_coverages(merged_df, df, 'Automotive', None, selected_kps)"
   ]
  },
  {
   "cell_type": "code",
   "execution_count": 162,
   "id": "a4291883",
   "metadata": {},
   "outputs": [
    {
     "ename": "ValueError",
     "evalue": "Length of values (3) does not match length of index (2)",
     "output_type": "error",
     "traceback": [
      "\u001b[0;31m---------------------------------------------------------------------------\u001b[0m",
      "\u001b[0;31mValueError\u001b[0m                                Traceback (most recent call last)",
      "Input \u001b[0;32mIn [162]\u001b[0m, in \u001b[0;36m<cell line: 1>\u001b[0;34m()\u001b[0m\n\u001b[0;32m----> 1\u001b[0m \u001b[43mgenerate_coverage_table\u001b[49m\u001b[43m(\u001b[49m\u001b[43mvalid_df\u001b[49m\u001b[43m,\u001b[49m\u001b[43m \u001b[49m\u001b[43mpred_df\u001b[49m\u001b[43m)\u001b[49m\n",
      "Input \u001b[0;32mIn [157]\u001b[0m, in \u001b[0;36mgenerate_coverage_table\u001b[0;34m(valid_df, pred_df)\u001b[0m\n\u001b[1;32m      2\u001b[0m coverage_compare_table \u001b[38;5;241m=\u001b[39m pred_df[\u001b[38;5;124m'\u001b[39m\u001b[38;5;124mkey_point\u001b[39m\u001b[38;5;124m'\u001b[39m]\u001b[38;5;241m.\u001b[39mvalue_counts()\u001b[38;5;241m.\u001b[39mreset_index()\n\u001b[1;32m      3\u001b[0m coverage_compare_table\u001b[38;5;241m.\u001b[39mcolumns \u001b[38;5;241m=\u001b[39m [\u001b[38;5;124m'\u001b[39m\u001b[38;5;124mKey Points\u001b[39m\u001b[38;5;124m'\u001b[39m, \u001b[38;5;124m'\u001b[39m\u001b[38;5;124mPredicted Coverage\u001b[39m\u001b[38;5;124m'\u001b[39m]\n\u001b[0;32m----> 4\u001b[0m coverage_compare_table[\u001b[38;5;124m'\u001b[39m\u001b[38;5;124mActual Coverage\u001b[39m\u001b[38;5;124m'\u001b[39m] \u001b[38;5;241m=\u001b[39m valid_df[\u001b[38;5;124m'\u001b[39m\u001b[38;5;124mfull_key_point\u001b[39m\u001b[38;5;124m'\u001b[39m]\u001b[38;5;241m.\u001b[39mvalue_counts()\u001b[38;5;241m.\u001b[39mtolist()\n\u001b[1;32m      5\u001b[0m \u001b[38;5;28;01mreturn\u001b[39;00m coverage_compare_table\n",
      "File \u001b[0;32m~/anaconda3/envs/deep_learning_env_2/lib/python3.9/site-packages/pandas/core/frame.py:3655\u001b[0m, in \u001b[0;36mDataFrame.__setitem__\u001b[0;34m(self, key, value)\u001b[0m\n\u001b[1;32m   3652\u001b[0m     \u001b[38;5;28mself\u001b[39m\u001b[38;5;241m.\u001b[39m_setitem_array([key], value)\n\u001b[1;32m   3653\u001b[0m \u001b[38;5;28;01melse\u001b[39;00m:\n\u001b[1;32m   3654\u001b[0m     \u001b[38;5;66;03m# set column\u001b[39;00m\n\u001b[0;32m-> 3655\u001b[0m     \u001b[38;5;28;43mself\u001b[39;49m\u001b[38;5;241;43m.\u001b[39;49m\u001b[43m_set_item\u001b[49m\u001b[43m(\u001b[49m\u001b[43mkey\u001b[49m\u001b[43m,\u001b[49m\u001b[43m \u001b[49m\u001b[43mvalue\u001b[49m\u001b[43m)\u001b[49m\n",
      "File \u001b[0;32m~/anaconda3/envs/deep_learning_env_2/lib/python3.9/site-packages/pandas/core/frame.py:3832\u001b[0m, in \u001b[0;36mDataFrame._set_item\u001b[0;34m(self, key, value)\u001b[0m\n\u001b[1;32m   3822\u001b[0m \u001b[38;5;28;01mdef\u001b[39;00m \u001b[38;5;21m_set_item\u001b[39m(\u001b[38;5;28mself\u001b[39m, key, value) \u001b[38;5;241m-\u001b[39m\u001b[38;5;241m>\u001b[39m \u001b[38;5;28;01mNone\u001b[39;00m:\n\u001b[1;32m   3823\u001b[0m     \u001b[38;5;124;03m\"\"\"\u001b[39;00m\n\u001b[1;32m   3824\u001b[0m \u001b[38;5;124;03m    Add series to DataFrame in specified column.\u001b[39;00m\n\u001b[1;32m   3825\u001b[0m \n\u001b[0;32m   (...)\u001b[0m\n\u001b[1;32m   3830\u001b[0m \u001b[38;5;124;03m    ensure homogeneity.\u001b[39;00m\n\u001b[1;32m   3831\u001b[0m \u001b[38;5;124;03m    \"\"\"\u001b[39;00m\n\u001b[0;32m-> 3832\u001b[0m     value \u001b[38;5;241m=\u001b[39m \u001b[38;5;28;43mself\u001b[39;49m\u001b[38;5;241;43m.\u001b[39;49m\u001b[43m_sanitize_column\u001b[49m\u001b[43m(\u001b[49m\u001b[43mvalue\u001b[49m\u001b[43m)\u001b[49m\n\u001b[1;32m   3834\u001b[0m     \u001b[38;5;28;01mif\u001b[39;00m (\n\u001b[1;32m   3835\u001b[0m         key \u001b[38;5;129;01min\u001b[39;00m \u001b[38;5;28mself\u001b[39m\u001b[38;5;241m.\u001b[39mcolumns\n\u001b[1;32m   3836\u001b[0m         \u001b[38;5;129;01mand\u001b[39;00m value\u001b[38;5;241m.\u001b[39mndim \u001b[38;5;241m==\u001b[39m \u001b[38;5;241m1\u001b[39m\n\u001b[1;32m   3837\u001b[0m         \u001b[38;5;129;01mand\u001b[39;00m \u001b[38;5;129;01mnot\u001b[39;00m is_extension_array_dtype(value)\n\u001b[1;32m   3838\u001b[0m     ):\n\u001b[1;32m   3839\u001b[0m         \u001b[38;5;66;03m# broadcast across multiple columns if necessary\u001b[39;00m\n\u001b[1;32m   3840\u001b[0m         \u001b[38;5;28;01mif\u001b[39;00m \u001b[38;5;129;01mnot\u001b[39;00m \u001b[38;5;28mself\u001b[39m\u001b[38;5;241m.\u001b[39mcolumns\u001b[38;5;241m.\u001b[39mis_unique \u001b[38;5;129;01mor\u001b[39;00m \u001b[38;5;28misinstance\u001b[39m(\u001b[38;5;28mself\u001b[39m\u001b[38;5;241m.\u001b[39mcolumns, MultiIndex):\n",
      "File \u001b[0;32m~/anaconda3/envs/deep_learning_env_2/lib/python3.9/site-packages/pandas/core/frame.py:4535\u001b[0m, in \u001b[0;36mDataFrame._sanitize_column\u001b[0;34m(self, value)\u001b[0m\n\u001b[1;32m   4532\u001b[0m     \u001b[38;5;28;01mreturn\u001b[39;00m _reindex_for_setitem(value, \u001b[38;5;28mself\u001b[39m\u001b[38;5;241m.\u001b[39mindex)\n\u001b[1;32m   4534\u001b[0m \u001b[38;5;28;01mif\u001b[39;00m is_list_like(value):\n\u001b[0;32m-> 4535\u001b[0m     \u001b[43mcom\u001b[49m\u001b[38;5;241;43m.\u001b[39;49m\u001b[43mrequire_length_match\u001b[49m\u001b[43m(\u001b[49m\u001b[43mvalue\u001b[49m\u001b[43m,\u001b[49m\u001b[43m \u001b[49m\u001b[38;5;28;43mself\u001b[39;49m\u001b[38;5;241;43m.\u001b[39;49m\u001b[43mindex\u001b[49m\u001b[43m)\u001b[49m\n\u001b[1;32m   4536\u001b[0m \u001b[38;5;28;01mreturn\u001b[39;00m sanitize_array(value, \u001b[38;5;28mself\u001b[39m\u001b[38;5;241m.\u001b[39mindex, copy\u001b[38;5;241m=\u001b[39m\u001b[38;5;28;01mTrue\u001b[39;00m, allow_2d\u001b[38;5;241m=\u001b[39m\u001b[38;5;28;01mTrue\u001b[39;00m)\n",
      "File \u001b[0;32m~/anaconda3/envs/deep_learning_env_2/lib/python3.9/site-packages/pandas/core/common.py:557\u001b[0m, in \u001b[0;36mrequire_length_match\u001b[0;34m(data, index)\u001b[0m\n\u001b[1;32m    553\u001b[0m \u001b[38;5;124;03m\"\"\"\u001b[39;00m\n\u001b[1;32m    554\u001b[0m \u001b[38;5;124;03mCheck the length of data matches the length of the index.\u001b[39;00m\n\u001b[1;32m    555\u001b[0m \u001b[38;5;124;03m\"\"\"\u001b[39;00m\n\u001b[1;32m    556\u001b[0m \u001b[38;5;28;01mif\u001b[39;00m \u001b[38;5;28mlen\u001b[39m(data) \u001b[38;5;241m!=\u001b[39m \u001b[38;5;28mlen\u001b[39m(index):\n\u001b[0;32m--> 557\u001b[0m     \u001b[38;5;28;01mraise\u001b[39;00m \u001b[38;5;167;01mValueError\u001b[39;00m(\n\u001b[1;32m    558\u001b[0m         \u001b[38;5;124m\"\u001b[39m\u001b[38;5;124mLength of values \u001b[39m\u001b[38;5;124m\"\u001b[39m\n\u001b[1;32m    559\u001b[0m         \u001b[38;5;124mf\u001b[39m\u001b[38;5;124m\"\u001b[39m\u001b[38;5;124m(\u001b[39m\u001b[38;5;132;01m{\u001b[39;00m\u001b[38;5;28mlen\u001b[39m(data)\u001b[38;5;132;01m}\u001b[39;00m\u001b[38;5;124m) \u001b[39m\u001b[38;5;124m\"\u001b[39m\n\u001b[1;32m    560\u001b[0m         \u001b[38;5;124m\"\u001b[39m\u001b[38;5;124mdoes not match length of index \u001b[39m\u001b[38;5;124m\"\u001b[39m\n\u001b[1;32m    561\u001b[0m         \u001b[38;5;124mf\u001b[39m\u001b[38;5;124m\"\u001b[39m\u001b[38;5;124m(\u001b[39m\u001b[38;5;132;01m{\u001b[39;00m\u001b[38;5;28mlen\u001b[39m(index)\u001b[38;5;132;01m}\u001b[39;00m\u001b[38;5;124m)\u001b[39m\u001b[38;5;124m\"\u001b[39m\n\u001b[1;32m    562\u001b[0m     )\n",
      "\u001b[0;31mValueError\u001b[0m: Length of values (3) does not match length of index (2)"
     ]
    }
   ],
   "source": [
    "generate_coverage_table(valid_df, pred_df)"
   ]
  },
  {
   "cell_type": "code",
   "execution_count": 163,
   "id": "210ea356",
   "metadata": {},
   "outputs": [
    {
     "data": {
      "text/plain": [
       "(0.8333333333333334, 0.18181818181818182)"
      ]
     },
     "execution_count": 163,
     "metadata": {},
     "output_type": "execute_result"
    }
   ],
   "source": [
    "calculate_precision_recall(valid_df, pred_df)"
   ]
  },
  {
   "cell_type": "markdown",
   "id": "bbd72073",
   "metadata": {
    "pycharm": {
     "name": "#%% md\n"
    }
   },
   "source": [
    "## Beauty & Spas"
   ]
  },
  {
   "cell_type": "code",
   "execution_count": 164,
   "id": "003881ef",
   "metadata": {},
   "outputs": [
    {
     "data": {
      "text/plain": [
       "Staff is friendly and accommodating .    18\n",
       "Amazing & professional service .         14\n",
       "Customer service- EXCELLENT !            13\n",
       "Very professionally run business .        9\n",
       "Artists are highly skilled .              7\n",
       "Super clean and friendly salon .          6\n",
       "Very neat and painless service .          3\n",
       "POOR CUSTOMER SERVICE .                   2\n",
       "Super comfy and great massage .           2\n",
       "Prices were fair and reasonable .         2\n",
       "This place is TERRIFIC .                  1\n",
       "Name: full_key_point, dtype: int64"
      ]
     },
     "metadata": {},
     "output_type": "display_data"
    }
   ],
   "source": [
    "selected_kps = ['Staff is friendly and accommodating .', 'Customer service- EXCELLENT !', 'Amazing & professional service .']\n",
    "valid_df, pred_df = get_top_kp_coverages(merged_df, df, \"Beauty & Spas\", None, selected_kps)"
   ]
  },
  {
   "cell_type": "code",
   "execution_count": 165,
   "id": "5e93814a",
   "metadata": {},
   "outputs": [
    {
     "data": {
      "text/html": [
       "<div>\n",
       "<style scoped>\n",
       "    .dataframe tbody tr th:only-of-type {\n",
       "        vertical-align: middle;\n",
       "    }\n",
       "\n",
       "    .dataframe tbody tr th {\n",
       "        vertical-align: top;\n",
       "    }\n",
       "\n",
       "    .dataframe thead th {\n",
       "        text-align: right;\n",
       "    }\n",
       "</style>\n",
       "<table border=\"1\" class=\"dataframe\">\n",
       "  <thead>\n",
       "    <tr style=\"text-align: right;\">\n",
       "      <th></th>\n",
       "      <th>Key Points</th>\n",
       "      <th>Predicted Coverage</th>\n",
       "      <th>Actual Coverage</th>\n",
       "    </tr>\n",
       "  </thead>\n",
       "  <tbody>\n",
       "    <tr>\n",
       "      <th>0</th>\n",
       "      <td>Staff is friendly and accommodating .</td>\n",
       "      <td>13</td>\n",
       "      <td>18</td>\n",
       "    </tr>\n",
       "    <tr>\n",
       "      <th>1</th>\n",
       "      <td>Customer service- EXCELLENT !</td>\n",
       "      <td>7</td>\n",
       "      <td>14</td>\n",
       "    </tr>\n",
       "    <tr>\n",
       "      <th>2</th>\n",
       "      <td>Amazing &amp; professional service .</td>\n",
       "      <td>3</td>\n",
       "      <td>13</td>\n",
       "    </tr>\n",
       "  </tbody>\n",
       "</table>\n",
       "</div>"
      ],
      "text/plain": [
       "                              Key Points  Predicted Coverage  Actual Coverage\n",
       "0  Staff is friendly and accommodating .                  13               18\n",
       "1          Customer service- EXCELLENT !                   7               14\n",
       "2       Amazing & professional service .                   3               13"
      ]
     },
     "execution_count": 165,
     "metadata": {},
     "output_type": "execute_result"
    }
   ],
   "source": [
    "generate_coverage_table(valid_df, pred_df)"
   ]
  },
  {
   "cell_type": "code",
   "execution_count": 166,
   "id": "fb40e62e",
   "metadata": {},
   "outputs": [
    {
     "data": {
      "text/plain": [
       "(0.8695652173913043, 0.4444444444444444)"
      ]
     },
     "execution_count": 166,
     "metadata": {},
     "output_type": "execute_result"
    }
   ],
   "source": [
    "calculate_precision_recall(valid_df, pred_df)"
   ]
  },
  {
   "cell_type": "markdown",
   "id": "1458f631",
   "metadata": {
    "pycharm": {
     "name": "#%% md\n"
    }
   },
   "source": [
    "## Hotels"
   ]
  },
  {
   "cell_type": "code",
   "execution_count": 167,
   "id": "3f5ea7e6",
   "metadata": {},
   "outputs": [
    {
     "data": {
      "text/plain": [
       "Friendly and helpful staff .              21\n",
       "Clean and comfortable rooms .             13\n",
       "Excellent customer service .               7\n",
       "The service is impeccable .                5\n",
       "Very peaceful and relaxing location .      4\n",
       "Great desk service , too .                 4\n",
       "Extremely poor service .                   3\n",
       "The beds are extremely comfortable .       2\n",
       "Pool area clean and refreshing .           2\n",
       "Price way overvalued .                     1\n",
       "The ambience is wonderfully peaceful .     1\n",
       "Horribly rude staff .                      1\n",
       "Front desk staff was inept .               1\n",
       "Room decor is outdated .                   1\n",
       "Wifi was very reliable .                   1\n",
       "Valet is convenient and fast .             1\n",
       "Parking is easy .                          1\n",
       "Restaurant service absolutely sucks .      1\n",
       "Beds were extremely uncomfortable .        1\n",
       "Great cocktail list too .                  1\n",
       "Name: full_key_point, dtype: int64"
      ]
     },
     "metadata": {},
     "output_type": "display_data"
    }
   ],
   "source": [
    "selected_kps = ['Friendly and helpful staff .', 'Clean and comfortable rooms .', 'The ambience is wonderfully peaceful .']\n",
    "valid_df, pred_df = get_top_kp_coverages(merged_df, df, 'Hotels', None, selected_kps)"
   ]
  },
  {
   "cell_type": "code",
   "execution_count": 168,
   "id": "666693af",
   "metadata": {},
   "outputs": [
    {
     "data": {
      "text/html": [
       "<div>\n",
       "<style scoped>\n",
       "    .dataframe tbody tr th:only-of-type {\n",
       "        vertical-align: middle;\n",
       "    }\n",
       "\n",
       "    .dataframe tbody tr th {\n",
       "        vertical-align: top;\n",
       "    }\n",
       "\n",
       "    .dataframe thead th {\n",
       "        text-align: right;\n",
       "    }\n",
       "</style>\n",
       "<table border=\"1\" class=\"dataframe\">\n",
       "  <thead>\n",
       "    <tr style=\"text-align: right;\">\n",
       "      <th></th>\n",
       "      <th>Key Points</th>\n",
       "      <th>Predicted Coverage</th>\n",
       "      <th>Actual Coverage</th>\n",
       "    </tr>\n",
       "  </thead>\n",
       "  <tbody>\n",
       "    <tr>\n",
       "      <th>0</th>\n",
       "      <td>Friendly and helpful staff .</td>\n",
       "      <td>16</td>\n",
       "      <td>21</td>\n",
       "    </tr>\n",
       "    <tr>\n",
       "      <th>1</th>\n",
       "      <td>Clean and comfortable rooms .</td>\n",
       "      <td>12</td>\n",
       "      <td>13</td>\n",
       "    </tr>\n",
       "    <tr>\n",
       "      <th>2</th>\n",
       "      <td>The ambience is wonderfully peaceful .</td>\n",
       "      <td>2</td>\n",
       "      <td>1</td>\n",
       "    </tr>\n",
       "  </tbody>\n",
       "</table>\n",
       "</div>"
      ],
      "text/plain": [
       "                               Key Points  Predicted Coverage  Actual Coverage\n",
       "0            Friendly and helpful staff .                  16               21\n",
       "1           Clean and comfortable rooms .                  12               13\n",
       "2  The ambience is wonderfully peaceful .                   2                1"
      ]
     },
     "execution_count": 168,
     "metadata": {},
     "output_type": "execute_result"
    }
   ],
   "source": [
    "generate_coverage_table(valid_df, pred_df)"
   ]
  },
  {
   "cell_type": "code",
   "execution_count": 169,
   "id": "304f69b0",
   "metadata": {
    "pycharm": {
     "name": "#%%\n"
    },
    "scrolled": true
   },
   "outputs": [
    {
     "data": {
      "text/plain": [
       "(0.9333333333333333, 0.8)"
      ]
     },
     "execution_count": 169,
     "metadata": {},
     "output_type": "execute_result"
    }
   ],
   "source": [
    "calculate_precision_recall(valid_df, pred_df)"
   ]
  },
  {
   "cell_type": "markdown",
   "id": "59a090a3",
   "metadata": {
    "pycharm": {
     "name": "#%% md\n"
    }
   },
   "source": [
    "## Restaurants"
   ]
  },
  {
   "cell_type": "code",
   "execution_count": 170,
   "id": "27665e83",
   "metadata": {},
   "outputs": [
    {
     "data": {
      "text/plain": [
       "Staff was courteous and accommodating .       19\n",
       "Customer Service is Excellent .               14\n",
       "Employees are friendly and attentive .        14\n",
       "Service was prompt and friendly .             11\n",
       "Delicious and expertly prepared food .         7\n",
       "Ambiance is casual and comfortable .           6\n",
       "Fresh food , using local produce .             5\n",
       "The service here was exceptional .             5\n",
       "Really delicious food , well balanced !        4\n",
       "Fantastic drink selection .                    3\n",
       "Generous sized portions .                      3\n",
       "The food is consistently EXCELLENT !           3\n",
       "AMAZING AUTHENTIC FLAVOR !                     3\n",
       "Plenty of coffees and teas .                   2\n",
       "Way over priced .                              2\n",
       "Great variety of menu items .                  2\n",
       "Prices are fair and reasonable .               2\n",
       "Great beer and wine selection .                1\n",
       "Lots of outdoor seating and                    1\n",
       "The quality has diminished significantly .     1\n",
       "Name: full_key_point, dtype: int64"
      ]
     },
     "metadata": {},
     "output_type": "display_data"
    }
   ],
   "source": [
    "selected_kps = ['Staff was courteous and accommodating .', \n",
    "                'Fresh food , using local produce .', 'The service here was exceptional .  ']\n",
    "valid_df, pred_df = get_top_kp_coverages(merged_df, df, 'Restaurants', None, selected_kps)"
   ]
  },
  {
   "cell_type": "code",
   "execution_count": 171,
   "id": "c2a83e48",
   "metadata": {},
   "outputs": [
    {
     "data": {
      "text/html": [
       "<div>\n",
       "<style scoped>\n",
       "    .dataframe tbody tr th:only-of-type {\n",
       "        vertical-align: middle;\n",
       "    }\n",
       "\n",
       "    .dataframe tbody tr th {\n",
       "        vertical-align: top;\n",
       "    }\n",
       "\n",
       "    .dataframe thead th {\n",
       "        text-align: right;\n",
       "    }\n",
       "</style>\n",
       "<table border=\"1\" class=\"dataframe\">\n",
       "  <thead>\n",
       "    <tr style=\"text-align: right;\">\n",
       "      <th></th>\n",
       "      <th>Key Points</th>\n",
       "      <th>Predicted Coverage</th>\n",
       "      <th>Actual Coverage</th>\n",
       "    </tr>\n",
       "  </thead>\n",
       "  <tbody>\n",
       "    <tr>\n",
       "      <th>0</th>\n",
       "      <td>Staff was courteous and accommodating .</td>\n",
       "      <td>11</td>\n",
       "      <td>19</td>\n",
       "    </tr>\n",
       "    <tr>\n",
       "      <th>1</th>\n",
       "      <td>Fresh food , using local produce .</td>\n",
       "      <td>8</td>\n",
       "      <td>5</td>\n",
       "    </tr>\n",
       "    <tr>\n",
       "      <th>2</th>\n",
       "      <td>The service here was exceptional .</td>\n",
       "      <td>5</td>\n",
       "      <td>5</td>\n",
       "    </tr>\n",
       "  </tbody>\n",
       "</table>\n",
       "</div>"
      ],
      "text/plain": [
       "                                Key Points  Predicted Coverage  \\\n",
       "0  Staff was courteous and accommodating .                  11   \n",
       "1       Fresh food , using local produce .                   8   \n",
       "2     The service here was exceptional .                     5   \n",
       "\n",
       "   Actual Coverage  \n",
       "0               19  \n",
       "1                5  \n",
       "2                5  "
      ]
     },
     "execution_count": 171,
     "metadata": {},
     "output_type": "execute_result"
    }
   ],
   "source": [
    "generate_coverage_table(valid_df, pred_df)"
   ]
  },
  {
   "cell_type": "code",
   "execution_count": 172,
   "id": "92923071",
   "metadata": {},
   "outputs": [
    {
     "data": {
      "text/plain": [
       "(0.75, 0.6206896551724138)"
      ]
     },
     "execution_count": 172,
     "metadata": {},
     "output_type": "execute_result"
    }
   ],
   "source": [
    "calculate_precision_recall(valid_df, pred_df)"
   ]
  },
  {
   "cell_type": "code",
   "execution_count": null,
   "id": "b1357d54",
   "metadata": {},
   "outputs": [],
   "source": []
  }
 ],
 "metadata": {
  "kernelspec": {
   "display_name": "Python 3 (ipykernel)",
   "language": "python",
   "name": "python3"
  },
  "language_info": {
   "codemirror_mode": {
    "name": "ipython",
    "version": 3
   },
   "file_extension": ".py",
   "mimetype": "text/x-python",
   "name": "python",
   "nbconvert_exporter": "python",
   "pygments_lexer": "ipython3",
   "version": "3.9.12"
  },
  "toc": {
   "base_numbering": 1,
   "nav_menu": {},
   "number_sections": true,
   "sideBar": true,
   "skip_h1_title": false,
   "title_cell": "Table of Contents",
   "title_sidebar": "Contents",
   "toc_cell": false,
   "toc_position": {
    "height": "730.545px",
    "left": "63px",
    "top": "110.318px",
    "width": "406.216px"
   },
   "toc_section_display": true,
   "toc_window_display": true
  }
 },
 "nbformat": 4,
 "nbformat_minor": 5
}
