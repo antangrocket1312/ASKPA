{
 "cells": [
  {
   "cell_type": "code",
   "execution_count": 1,
   "id": "540877ca",
   "metadata": {},
   "outputs": [],
   "source": [
    "import json\n",
    "import pandas as pd\n",
    "import numpy as np\n",
    "import ast\n",
    "# import spacy\n",
    "import matplotlib.pyplot as plt\n",
    "\n",
    "pd.set_option('display.max_colwidth', None)"
   ]
  },
  {
   "cell_type": "code",
   "execution_count": 2,
   "id": "376abd8a",
   "metadata": {},
   "outputs": [],
   "source": [
    "from datasets import concatenate_datasets, load_dataset\n",
    "from datasets import Dataset, DatasetDict"
   ]
  },
  {
   "cell_type": "code",
   "execution_count": 3,
   "id": "0d9325e8",
   "metadata": {},
   "outputs": [
    {
     "name": "stderr",
     "output_type": "stream",
     "text": [
      "/home/an/anaconda3/envs/deep_learning_env_2/lib/python3.9/site-packages/scipy/__init__.py:146: UserWarning: A NumPy version >=1.16.5 and <1.23.0 is required for this version of SciPy (detected version 1.23.5\n",
      "  warnings.warn(f\"A NumPy version >={np_minversion} and <{np_maxversion}\"\n"
     ]
    }
   ],
   "source": [
    "from utils.track_1_kp_matching import *"
   ]
  },
  {
   "cell_type": "code",
   "execution_count": 4,
   "id": "cfe3553d",
   "metadata": {},
   "outputs": [],
   "source": [
    "from sentence_transformers import SentenceTransformer, InputExample, LoggingHandler, losses, models, util\n",
    "import torch"
   ]
  },
  {
   "cell_type": "code",
   "execution_count": 5,
   "id": "ceaa0387",
   "metadata": {},
   "outputs": [],
   "source": [
    "from datasets import concatenate_datasets, load_dataset\n",
    "from datasets import Dataset, DatasetDict\n",
    "from torch.utils.data import DataLoader"
   ]
  },
  {
   "cell_type": "markdown",
   "id": "f6573260",
   "metadata": {},
   "source": [
    "First with top 10 args per category labelling of test set"
   ]
  },
  {
   "cell_type": "markdown",
   "id": "69db8157",
   "metadata": {},
   "source": [
    "# Load Test dataset"
   ]
  },
  {
   "cell_type": "code",
   "execution_count": 6,
   "id": "a4007725",
   "metadata": {},
   "outputs": [],
   "source": [
    "df = pd.read_pickle(f\"../data/Evaluation/test_data.pkl\")"
   ]
  },
  {
   "cell_type": "code",
   "execution_count": 7,
   "id": "c557a03b",
   "metadata": {},
   "outputs": [
    {
     "data": {
      "text/html": [
       "<div>\n",
       "<style scoped>\n",
       "    .dataframe tbody tr th:only-of-type {\n",
       "        vertical-align: middle;\n",
       "    }\n",
       "\n",
       "    .dataframe tbody tr th {\n",
       "        vertical-align: top;\n",
       "    }\n",
       "\n",
       "    .dataframe thead th {\n",
       "        text-align: right;\n",
       "    }\n",
       "</style>\n",
       "<table border=\"1\" class=\"dataframe\">\n",
       "  <thead>\n",
       "    <tr style=\"text-align: right;\">\n",
       "      <th></th>\n",
       "      <th>HITId</th>\n",
       "      <th>comment_id</th>\n",
       "      <th>label</th>\n",
       "      <th>full_key_point</th>\n",
       "      <th>key_point_id</th>\n",
       "      <th>comment</th>\n",
       "      <th>full_comment</th>\n",
       "      <th>attributes</th>\n",
       "      <th>topic</th>\n",
       "      <th>isMultiAspect</th>\n",
       "      <th>...</th>\n",
       "      <th>old_key_point_id</th>\n",
       "      <th>key_point</th>\n",
       "      <th>aspects_x</th>\n",
       "      <th>opinions_x</th>\n",
       "      <th>opinion_aspect_pairs_x</th>\n",
       "      <th>sentiments_x</th>\n",
       "      <th>aspects_y</th>\n",
       "      <th>opinions_y</th>\n",
       "      <th>opinion_aspect_pairs_y</th>\n",
       "      <th>sentiments_y</th>\n",
       "    </tr>\n",
       "  </thead>\n",
       "  <tbody>\n",
       "    <tr>\n",
       "      <th>0</th>\n",
       "      <td>302U8RURJZ1WH0D09XZ8R7HSOP5NVW</td>\n",
       "      <td>arg_0_537</td>\n",
       "      <td>1</td>\n",
       "      <td>Terrible administration and management .</td>\n",
       "      <td>kp_0_2</td>\n",
       "      <td>[uninviting experience &lt;SEP&gt; negative, rude employees &lt;SEP&gt; negative]</td>\n",
       "      <td>Employees are rude and make the experience uninviting .</td>\n",
       "      <td>[restaurant -&gt; atmosphere, staff]</td>\n",
       "      <td>Arts &amp; Entertainment</td>\n",
       "      <td>True</td>\n",
       "      <td>...</td>\n",
       "      <td>kp_0_2</td>\n",
       "      <td>terrible administration &lt;SEP&gt; negative</td>\n",
       "      <td>[experience, employees]</td>\n",
       "      <td>[uninviting, rude]</td>\n",
       "      <td>[uninviting experience, rude employees]</td>\n",
       "      <td>[negative, negative]</td>\n",
       "      <td>administration</td>\n",
       "      <td>terrible</td>\n",
       "      <td>['terrible administration']</td>\n",
       "      <td>['negative']</td>\n",
       "    </tr>\n",
       "    <tr>\n",
       "      <th>1</th>\n",
       "      <td>302U8RURJZ1WH0D09XZ8R7HSOP5NVW</td>\n",
       "      <td>arg_0_537</td>\n",
       "      <td>1</td>\n",
       "      <td>Rude and Unprofessional staff .</td>\n",
       "      <td>kp_0_24</td>\n",
       "      <td>[uninviting experience &lt;SEP&gt; negative, rude employees &lt;SEP&gt; negative]</td>\n",
       "      <td>Employees are rude and make the experience uninviting .</td>\n",
       "      <td>[restaurant -&gt; atmosphere, staff]</td>\n",
       "      <td>Arts &amp; Entertainment</td>\n",
       "      <td>True</td>\n",
       "      <td>...</td>\n",
       "      <td>kp_0_24</td>\n",
       "      <td>unprofessional staff &lt;SEP&gt; negative</td>\n",
       "      <td>[experience, employees]</td>\n",
       "      <td>[uninviting, rude]</td>\n",
       "      <td>[uninviting experience, rude employees]</td>\n",
       "      <td>[negative, negative]</td>\n",
       "      <td>staff</td>\n",
       "      <td>unprofessional</td>\n",
       "      <td>['unprofessional staff']</td>\n",
       "      <td>['negative']</td>\n",
       "    </tr>\n",
       "    <tr>\n",
       "      <th>2</th>\n",
       "      <td>302U8RURJZ1WH0D09XZ8R7HSOP5NVW</td>\n",
       "      <td>arg_0_537</td>\n",
       "      <td>0</td>\n",
       "      <td>Great for conventions and concerts ! !</td>\n",
       "      <td>kp_0_4</td>\n",
       "      <td>[uninviting experience &lt;SEP&gt; negative, rude employees &lt;SEP&gt; negative]</td>\n",
       "      <td>Employees are rude and make the experience uninviting .</td>\n",
       "      <td>[restaurant -&gt; atmosphere, staff]</td>\n",
       "      <td>Arts &amp; Entertainment</td>\n",
       "      <td>True</td>\n",
       "      <td>...</td>\n",
       "      <td>kp_0_4</td>\n",
       "      <td>great for conventions &lt;SEP&gt; positive</td>\n",
       "      <td>[experience, employees]</td>\n",
       "      <td>[uninviting, rude]</td>\n",
       "      <td>[uninviting experience, rude employees]</td>\n",
       "      <td>[negative, negative]</td>\n",
       "      <td>conventions</td>\n",
       "      <td>great for</td>\n",
       "      <td>['great for conventions']</td>\n",
       "      <td>['positive']</td>\n",
       "    </tr>\n",
       "    <tr>\n",
       "      <th>3</th>\n",
       "      <td>302U8RURJZ1WH0D09XZ8R7HSOP5NVW</td>\n",
       "      <td>arg_0_537</td>\n",
       "      <td>0</td>\n",
       "      <td>Horrible customer service .</td>\n",
       "      <td>kp_0_5</td>\n",
       "      <td>[uninviting experience &lt;SEP&gt; negative, rude employees &lt;SEP&gt; negative]</td>\n",
       "      <td>Employees are rude and make the experience uninviting .</td>\n",
       "      <td>[restaurant -&gt; atmosphere, staff]</td>\n",
       "      <td>Arts &amp; Entertainment</td>\n",
       "      <td>True</td>\n",
       "      <td>...</td>\n",
       "      <td>kp_0_5</td>\n",
       "      <td>horrible customer service &lt;SEP&gt; negative</td>\n",
       "      <td>[experience, employees]</td>\n",
       "      <td>[uninviting, rude]</td>\n",
       "      <td>[uninviting experience, rude employees]</td>\n",
       "      <td>[negative, negative]</td>\n",
       "      <td>customer service</td>\n",
       "      <td>horrible</td>\n",
       "      <td>['horrible customer service']</td>\n",
       "      <td>['negative']</td>\n",
       "    </tr>\n",
       "    <tr>\n",
       "      <th>4</th>\n",
       "      <td>302U8RURJZ1WH0D09XZ8R7HSOP5NVW</td>\n",
       "      <td>arg_0_537</td>\n",
       "      <td>0</td>\n",
       "      <td>It had wonderful acoustics .</td>\n",
       "      <td>kp_0_0</td>\n",
       "      <td>[uninviting experience &lt;SEP&gt; negative, rude employees &lt;SEP&gt; negative]</td>\n",
       "      <td>Employees are rude and make the experience uninviting .</td>\n",
       "      <td>[restaurant -&gt; atmosphere, staff]</td>\n",
       "      <td>Arts &amp; Entertainment</td>\n",
       "      <td>True</td>\n",
       "      <td>...</td>\n",
       "      <td>kp_0_0</td>\n",
       "      <td>wonderful acoustics &lt;SEP&gt; positive</td>\n",
       "      <td>[experience, employees]</td>\n",
       "      <td>[uninviting, rude]</td>\n",
       "      <td>[uninviting experience, rude employees]</td>\n",
       "      <td>[negative, negative]</td>\n",
       "      <td>acoustics</td>\n",
       "      <td>wonderful</td>\n",
       "      <td>['wonderful acoustics']</td>\n",
       "      <td>['positive']</td>\n",
       "    </tr>\n",
       "    <tr>\n",
       "      <th>...</th>\n",
       "      <td>...</td>\n",
       "      <td>...</td>\n",
       "      <td>...</td>\n",
       "      <td>...</td>\n",
       "      <td>...</td>\n",
       "      <td>...</td>\n",
       "      <td>...</td>\n",
       "      <td>...</td>\n",
       "      <td>...</td>\n",
       "      <td>...</td>\n",
       "      <td>...</td>\n",
       "      <td>...</td>\n",
       "      <td>...</td>\n",
       "      <td>...</td>\n",
       "      <td>...</td>\n",
       "      <td>...</td>\n",
       "      <td>...</td>\n",
       "      <td>...</td>\n",
       "      <td>...</td>\n",
       "      <td>...</td>\n",
       "      <td>...</td>\n",
       "    </tr>\n",
       "    <tr>\n",
       "      <th>6794</th>\n",
       "      <td>3ZXV7Q5FJBOOUZUJKSLQTAKU1UIFC3</td>\n",
       "      <td>arg_4_6440</td>\n",
       "      <td>0</td>\n",
       "      <td>Great family owned restaurant .</td>\n",
       "      <td>kp_4_25</td>\n",
       "      <td>[friendly staff &lt;SEP&gt; positive]</td>\n",
       "      <td>The staff are friendly and attentive .</td>\n",
       "      <td>[staff]</td>\n",
       "      <td>Restaurants</td>\n",
       "      <td>False</td>\n",
       "      <td>...</td>\n",
       "      <td>kp_4_25</td>\n",
       "      <td>great family owned restaurant &lt;SEP&gt; positive</td>\n",
       "      <td>[staff]</td>\n",
       "      <td>[friendly]</td>\n",
       "      <td>[friendly staff]</td>\n",
       "      <td>[positive]</td>\n",
       "      <td>restaurant</td>\n",
       "      <td>great family owned</td>\n",
       "      <td>['great family owned restaurant']</td>\n",
       "      <td>['positive']</td>\n",
       "    </tr>\n",
       "    <tr>\n",
       "      <th>6795</th>\n",
       "      <td>3ZXV7Q5FJBOOUZUJKSLQTAKU1UIFC3</td>\n",
       "      <td>arg_4_6440</td>\n",
       "      <td>0</td>\n",
       "      <td>Worst service in the world !</td>\n",
       "      <td>kp_4_27</td>\n",
       "      <td>[friendly staff &lt;SEP&gt; positive]</td>\n",
       "      <td>The staff are friendly and attentive .</td>\n",
       "      <td>[staff]</td>\n",
       "      <td>Restaurants</td>\n",
       "      <td>False</td>\n",
       "      <td>...</td>\n",
       "      <td>kp_4_27</td>\n",
       "      <td>worst service &lt;SEP&gt; negative</td>\n",
       "      <td>[staff]</td>\n",
       "      <td>[friendly]</td>\n",
       "      <td>[friendly staff]</td>\n",
       "      <td>[positive]</td>\n",
       "      <td>service</td>\n",
       "      <td>worst</td>\n",
       "      <td>['worst service']</td>\n",
       "      <td>['negative']</td>\n",
       "    </tr>\n",
       "    <tr>\n",
       "      <th>6796</th>\n",
       "      <td>3ZXV7Q5FJBOOUZUJKSLQTAKU1UIFC3</td>\n",
       "      <td>arg_4_6440</td>\n",
       "      <td>0</td>\n",
       "      <td>Rude and inattentive staff .</td>\n",
       "      <td>kp_4_30</td>\n",
       "      <td>[friendly staff &lt;SEP&gt; positive]</td>\n",
       "      <td>The staff are friendly and attentive .</td>\n",
       "      <td>[staff]</td>\n",
       "      <td>Restaurants</td>\n",
       "      <td>False</td>\n",
       "      <td>...</td>\n",
       "      <td>kp_4_30</td>\n",
       "      <td>inattentive staff &lt;SEP&gt; negative</td>\n",
       "      <td>[staff]</td>\n",
       "      <td>[friendly]</td>\n",
       "      <td>[friendly staff]</td>\n",
       "      <td>[positive]</td>\n",
       "      <td>staff</td>\n",
       "      <td>inattentive</td>\n",
       "      <td>['inattentive staff']</td>\n",
       "      <td>['negative']</td>\n",
       "    </tr>\n",
       "    <tr>\n",
       "      <th>6797</th>\n",
       "      <td>3ZXV7Q5FJBOOUZUJKSLQTAKU1UIFC3</td>\n",
       "      <td>arg_4_6440</td>\n",
       "      <td>0</td>\n",
       "      <td>Great sushi and sashimi .</td>\n",
       "      <td>kp_4_31</td>\n",
       "      <td>[friendly staff &lt;SEP&gt; positive]</td>\n",
       "      <td>The staff are friendly and attentive .</td>\n",
       "      <td>[staff]</td>\n",
       "      <td>Restaurants</td>\n",
       "      <td>False</td>\n",
       "      <td>...</td>\n",
       "      <td>kp_4_31</td>\n",
       "      <td>great sushi &lt;SEP&gt; positive</td>\n",
       "      <td>[staff]</td>\n",
       "      <td>[friendly]</td>\n",
       "      <td>[friendly staff]</td>\n",
       "      <td>[positive]</td>\n",
       "      <td>sushi</td>\n",
       "      <td>great</td>\n",
       "      <td>['great sushi']</td>\n",
       "      <td>['positive']</td>\n",
       "    </tr>\n",
       "    <tr>\n",
       "      <th>6798</th>\n",
       "      <td>3ZXV7Q5FJBOOUZUJKSLQTAKU1UIFC3</td>\n",
       "      <td>arg_4_6440</td>\n",
       "      <td>0</td>\n",
       "      <td>Wait times are very long .</td>\n",
       "      <td>kp_4_32</td>\n",
       "      <td>[friendly staff &lt;SEP&gt; positive]</td>\n",
       "      <td>The staff are friendly and attentive .</td>\n",
       "      <td>[staff]</td>\n",
       "      <td>Restaurants</td>\n",
       "      <td>False</td>\n",
       "      <td>...</td>\n",
       "      <td>kp_4_32</td>\n",
       "      <td>very long wait times &lt;SEP&gt; negative</td>\n",
       "      <td>[staff]</td>\n",
       "      <td>[friendly]</td>\n",
       "      <td>[friendly staff]</td>\n",
       "      <td>[positive]</td>\n",
       "      <td>wait times</td>\n",
       "      <td>very long</td>\n",
       "      <td>['very long wait times']</td>\n",
       "      <td>['negative']</td>\n",
       "    </tr>\n",
       "  </tbody>\n",
       "</table>\n",
       "<p>6799 rows × 22 columns</p>\n",
       "</div>"
      ],
      "text/plain": [
       "                               HITId  comment_id  label  \\\n",
       "0     302U8RURJZ1WH0D09XZ8R7HSOP5NVW   arg_0_537      1   \n",
       "1     302U8RURJZ1WH0D09XZ8R7HSOP5NVW   arg_0_537      1   \n",
       "2     302U8RURJZ1WH0D09XZ8R7HSOP5NVW   arg_0_537      0   \n",
       "3     302U8RURJZ1WH0D09XZ8R7HSOP5NVW   arg_0_537      0   \n",
       "4     302U8RURJZ1WH0D09XZ8R7HSOP5NVW   arg_0_537      0   \n",
       "...                              ...         ...    ...   \n",
       "6794  3ZXV7Q5FJBOOUZUJKSLQTAKU1UIFC3  arg_4_6440      0   \n",
       "6795  3ZXV7Q5FJBOOUZUJKSLQTAKU1UIFC3  arg_4_6440      0   \n",
       "6796  3ZXV7Q5FJBOOUZUJKSLQTAKU1UIFC3  arg_4_6440      0   \n",
       "6797  3ZXV7Q5FJBOOUZUJKSLQTAKU1UIFC3  arg_4_6440      0   \n",
       "6798  3ZXV7Q5FJBOOUZUJKSLQTAKU1UIFC3  arg_4_6440      0   \n",
       "\n",
       "                                full_key_point key_point_id  \\\n",
       "0     Terrible administration and management .       kp_0_2   \n",
       "1              Rude and Unprofessional staff .      kp_0_24   \n",
       "2       Great for conventions and concerts ! !       kp_0_4   \n",
       "3                  Horrible customer service .       kp_0_5   \n",
       "4                 It had wonderful acoustics .       kp_0_0   \n",
       "...                                        ...          ...   \n",
       "6794           Great family owned restaurant .      kp_4_25   \n",
       "6795            Worst service in the world !        kp_4_27   \n",
       "6796              Rude and inattentive staff .      kp_4_30   \n",
       "6797                 Great sushi and sashimi .      kp_4_31   \n",
       "6798              Wait times are very long .        kp_4_32   \n",
       "\n",
       "                                                                    comment  \\\n",
       "0     [uninviting experience <SEP> negative, rude employees <SEP> negative]   \n",
       "1     [uninviting experience <SEP> negative, rude employees <SEP> negative]   \n",
       "2     [uninviting experience <SEP> negative, rude employees <SEP> negative]   \n",
       "3     [uninviting experience <SEP> negative, rude employees <SEP> negative]   \n",
       "4     [uninviting experience <SEP> negative, rude employees <SEP> negative]   \n",
       "...                                                                     ...   \n",
       "6794                                        [friendly staff <SEP> positive]   \n",
       "6795                                        [friendly staff <SEP> positive]   \n",
       "6796                                        [friendly staff <SEP> positive]   \n",
       "6797                                        [friendly staff <SEP> positive]   \n",
       "6798                                        [friendly staff <SEP> positive]   \n",
       "\n",
       "                                                 full_comment  \\\n",
       "0     Employees are rude and make the experience uninviting .   \n",
       "1     Employees are rude and make the experience uninviting .   \n",
       "2     Employees are rude and make the experience uninviting .   \n",
       "3     Employees are rude and make the experience uninviting .   \n",
       "4     Employees are rude and make the experience uninviting .   \n",
       "...                                                       ...   \n",
       "6794                   The staff are friendly and attentive .   \n",
       "6795                   The staff are friendly and attentive .   \n",
       "6796                   The staff are friendly and attentive .   \n",
       "6797                   The staff are friendly and attentive .   \n",
       "6798                   The staff are friendly and attentive .   \n",
       "\n",
       "                             attributes                 topic  isMultiAspect  \\\n",
       "0     [restaurant -> atmosphere, staff]  Arts & Entertainment           True   \n",
       "1     [restaurant -> atmosphere, staff]  Arts & Entertainment           True   \n",
       "2     [restaurant -> atmosphere, staff]  Arts & Entertainment           True   \n",
       "3     [restaurant -> atmosphere, staff]  Arts & Entertainment           True   \n",
       "4     [restaurant -> atmosphere, staff]  Arts & Entertainment           True   \n",
       "...                                 ...                   ...            ...   \n",
       "6794                            [staff]           Restaurants          False   \n",
       "6795                            [staff]           Restaurants          False   \n",
       "6796                            [staff]           Restaurants          False   \n",
       "6797                            [staff]           Restaurants          False   \n",
       "6798                            [staff]           Restaurants          False   \n",
       "\n",
       "      ...  old_key_point_id                                     key_point  \\\n",
       "0     ...            kp_0_2        terrible administration <SEP> negative   \n",
       "1     ...           kp_0_24           unprofessional staff <SEP> negative   \n",
       "2     ...            kp_0_4          great for conventions <SEP> positive   \n",
       "3     ...            kp_0_5      horrible customer service <SEP> negative   \n",
       "4     ...            kp_0_0            wonderful acoustics <SEP> positive   \n",
       "...   ...               ...                                           ...   \n",
       "6794  ...           kp_4_25  great family owned restaurant <SEP> positive   \n",
       "6795  ...           kp_4_27                  worst service <SEP> negative   \n",
       "6796  ...           kp_4_30              inattentive staff <SEP> negative   \n",
       "6797  ...           kp_4_31                    great sushi <SEP> positive   \n",
       "6798  ...           kp_4_32           very long wait times <SEP> negative   \n",
       "\n",
       "                    aspects_x          opinions_x  \\\n",
       "0     [experience, employees]  [uninviting, rude]   \n",
       "1     [experience, employees]  [uninviting, rude]   \n",
       "2     [experience, employees]  [uninviting, rude]   \n",
       "3     [experience, employees]  [uninviting, rude]   \n",
       "4     [experience, employees]  [uninviting, rude]   \n",
       "...                       ...                 ...   \n",
       "6794                  [staff]          [friendly]   \n",
       "6795                  [staff]          [friendly]   \n",
       "6796                  [staff]          [friendly]   \n",
       "6797                  [staff]          [friendly]   \n",
       "6798                  [staff]          [friendly]   \n",
       "\n",
       "                       opinion_aspect_pairs_x          sentiments_x  \\\n",
       "0     [uninviting experience, rude employees]  [negative, negative]   \n",
       "1     [uninviting experience, rude employees]  [negative, negative]   \n",
       "2     [uninviting experience, rude employees]  [negative, negative]   \n",
       "3     [uninviting experience, rude employees]  [negative, negative]   \n",
       "4     [uninviting experience, rude employees]  [negative, negative]   \n",
       "...                                       ...                   ...   \n",
       "6794                         [friendly staff]            [positive]   \n",
       "6795                         [friendly staff]            [positive]   \n",
       "6796                         [friendly staff]            [positive]   \n",
       "6797                         [friendly staff]            [positive]   \n",
       "6798                         [friendly staff]            [positive]   \n",
       "\n",
       "             aspects_y          opinions_y             opinion_aspect_pairs_y  \\\n",
       "0       administration            terrible        ['terrible administration']   \n",
       "1                staff      unprofessional           ['unprofessional staff']   \n",
       "2          conventions           great for          ['great for conventions']   \n",
       "3     customer service            horrible      ['horrible customer service']   \n",
       "4            acoustics           wonderful            ['wonderful acoustics']   \n",
       "...                ...                 ...                                ...   \n",
       "6794        restaurant  great family owned  ['great family owned restaurant']   \n",
       "6795           service               worst                  ['worst service']   \n",
       "6796             staff         inattentive              ['inattentive staff']   \n",
       "6797             sushi               great                    ['great sushi']   \n",
       "6798        wait times           very long           ['very long wait times']   \n",
       "\n",
       "      sentiments_y  \n",
       "0     ['negative']  \n",
       "1     ['negative']  \n",
       "2     ['positive']  \n",
       "3     ['negative']  \n",
       "4     ['positive']  \n",
       "...            ...  \n",
       "6794  ['positive']  \n",
       "6795  ['negative']  \n",
       "6796  ['negative']  \n",
       "6797  ['positive']  \n",
       "6798  ['negative']  \n",
       "\n",
       "[6799 rows x 22 columns]"
      ]
     },
     "execution_count": 7,
     "metadata": {},
     "output_type": "execute_result"
    }
   ],
   "source": [
    "df"
   ]
  },
  {
   "cell_type": "code",
   "execution_count": 8,
   "id": "e83139f0",
   "metadata": {},
   "outputs": [
    {
     "data": {
      "text/plain": [
       "0    6380\n",
       "1     419\n",
       "Name: label, dtype: int64"
      ]
     },
     "execution_count": 8,
     "metadata": {},
     "output_type": "execute_result"
    }
   ],
   "source": [
    "df['label'].value_counts()"
   ]
  },
  {
   "cell_type": "code",
   "execution_count": 9,
   "id": "936a7294",
   "metadata": {},
   "outputs": [],
   "source": [
    "def prepare_comment_kp_label_input(df):\n",
    "    df['num_of_aspects'] = df['comment'].str.len()\n",
    "    df = df.rename(columns={'comment_id': 'comment_id_sent'})\n",
    "    df['comment_id'] = df['comment_id_sent'] + \"_\" + df['num_of_aspects'].astype(str)\n",
    "    \n",
    "    comment_df = df[['comment_id', 'topic', 'full_comment', 'num_of_aspects',\n",
    "                'aspects_x', 'opinions_x', 'opinion_aspect_pairs_x', 'sentiments_x', 'attributes']]\n",
    "    comment_df = comment_df.drop_duplicates(subset=['comment_id']).reset_index(drop=True)\n",
    "    comment_df.columns = [col.replace(\"_x\", \"\") for col in comment_df.columns]\n",
    "    \n",
    "    kp_df = df[['key_point_id', 'topic', 'full_key_point',\n",
    "           'aspects_y', 'opinions_y', 'opinion_aspect_pairs_y', 'sentiments_y', 'attributes']]\n",
    "    kp_df = kp_df.drop_duplicates(subset=['key_point_id']).reset_index(drop=True)\n",
    "    kp_df = kp_df.rename(columns={'full_key_point': 'key_point'})\n",
    "    kp_df.columns = [col.replace(\"_y\", \"\") for col in kp_df.columns]\n",
    "    kp_df['opinion_aspect_pairs'] = kp_df['opinion_aspect_pairs'].apply(lambda x: ast.literal_eval(x))\n",
    "    kp_df['sentiments'] = kp_df['sentiments'].apply(lambda x: ast.literal_eval(x))\n",
    "    \n",
    "    labels_df = df[['comment_id', 'key_point_id', 'label']]\n",
    "    \n",
    "    return comment_df, kp_df, labels_df"
   ]
  },
  {
   "cell_type": "markdown",
   "id": "5c6f7651",
   "metadata": {},
   "source": [
    "# Comment-KP ABSA Matching"
   ]
  },
  {
   "cell_type": "code",
   "execution_count": 10,
   "id": "60ab94d2",
   "metadata": {},
   "outputs": [
    {
     "name": "stderr",
     "output_type": "stream",
     "text": [
      "2023-07-12 11:38:21.470314: I tensorflow/stream_executor/platform/default/dso_loader.cc:53] Successfully opened dynamic library libcudart.so.11.0\n",
      "2023-07-12 11:38:22.424055: I tensorflow/stream_executor/platform/default/dso_loader.cc:53] Successfully opened dynamic library libcuda.so.1\n",
      "2023-07-12 11:38:22.424654: I tensorflow/stream_executor/cuda/cuda_gpu_executor.cc:923] could not open file to read NUMA node: /sys/bus/pci/devices/0000:01:00.0/numa_node\n",
      "Your kernel may have been built without NUMA support.\n",
      "2023-07-12 11:38:22.424883: I tensorflow/core/common_runtime/gpu/gpu_device.cc:1733] Found device 0 with properties: \n",
      "pciBusID: 0000:01:00.0 name: NVIDIA GeForce RTX 3080 Ti computeCapability: 8.6\n",
      "coreClock: 1.77GHz coreCount: 80 deviceMemorySize: 12.00GiB deviceMemoryBandwidth: 849.46GiB/s\n",
      "2023-07-12 11:38:22.424965: I tensorflow/stream_executor/platform/default/dso_loader.cc:53] Successfully opened dynamic library libcudart.so.11.0\n",
      "2023-07-12 11:38:22.425001: I tensorflow/stream_executor/platform/default/dso_loader.cc:53] Successfully opened dynamic library libcublas.so.11\n",
      "2023-07-12 11:38:22.425017: I tensorflow/stream_executor/platform/default/dso_loader.cc:53] Successfully opened dynamic library libcublasLt.so.11\n",
      "2023-07-12 11:38:22.425032: I tensorflow/stream_executor/platform/default/dso_loader.cc:53] Successfully opened dynamic library libcufft.so.10\n",
      "2023-07-12 11:38:22.425048: I tensorflow/stream_executor/platform/default/dso_loader.cc:53] Successfully opened dynamic library libcurand.so.10\n",
      "2023-07-12 11:38:22.425080: I tensorflow/stream_executor/platform/default/dso_loader.cc:53] Successfully opened dynamic library libcusolver.so.11\n",
      "2023-07-12 11:38:22.425087: I tensorflow/stream_executor/platform/default/dso_loader.cc:53] Successfully opened dynamic library libcusparse.so.11\n",
      "2023-07-12 11:38:22.425119: I tensorflow/stream_executor/platform/default/dso_loader.cc:53] Successfully opened dynamic library libcudnn.so.8\n",
      "2023-07-12 11:38:22.425364: I tensorflow/stream_executor/cuda/cuda_gpu_executor.cc:923] could not open file to read NUMA node: /sys/bus/pci/devices/0000:01:00.0/numa_node\n",
      "Your kernel may have been built without NUMA support.\n",
      "2023-07-12 11:38:22.425637: I tensorflow/stream_executor/cuda/cuda_gpu_executor.cc:923] could not open file to read NUMA node: /sys/bus/pci/devices/0000:01:00.0/numa_node\n",
      "Your kernel may have been built without NUMA support.\n",
      "2023-07-12 11:38:22.425728: I tensorflow/core/common_runtime/gpu/gpu_device.cc:1871] Adding visible gpu devices: 0\n",
      "/home/an/anaconda3/envs/deep_learning_env_2/lib/python3.9/site-packages/spacy/util.py:887: UserWarning: [W095] Model 'en_core_web_md' (3.4.0) was trained with spaCy v3.4 and may not be 100% compatible with the current version (3.5.2). If you see errors or degraded performance, download a newer compatible model or retrain your custom model with the current spaCy version. For more details and available updates, run: python -m spacy validate\n",
      "  warnings.warn(warn_msg)\n"
     ]
    }
   ],
   "source": [
    "import spacy\n",
    "nlp = spacy.load('en_core_web_md')"
   ]
  },
  {
   "cell_type": "code",
   "execution_count": 11,
   "id": "73b2f7a6",
   "metadata": {},
   "outputs": [],
   "source": [
    "def comment_kp_absa_match(comment_df, kp_df):    \n",
    "    comment_df = comment_df.explode(['aspects', 'opinions', 'opinion_aspect_pairs', 'sentiments', 'attributes'])\n",
    "    kp_df = kp_df.explode(['opinion_aspect_pairs', 'sentiments'])\n",
    "    \n",
    "    # Matching based on ABSA predictions of comment and KPs\n",
    "    sent_kp_df = comment_df.astype(str).merge(kp_df.astype(str), how='left', on=['topic']).dropna(subset=['key_point'])\n",
    "    sent_kp_df = sent_kp_df.reset_index(drop=True)\n",
    "    # Label the matching/non-matching pairs\n",
    "    sent_kp_df.loc[\n",
    "        (sent_kp_df['aspects_x'] == sent_kp_df['aspects_y']) & (sent_kp_df['sentiments_x'] == sent_kp_df['sentiments_y']),\n",
    "        'score'\n",
    "    ] = 1\n",
    "    sent_kp_df.loc[\n",
    "        (sent_kp_df['sentiments_x'] != sent_kp_df['sentiments_y']),\n",
    "        'score'\n",
    "    ] = 0\n",
    "    sent_kp_df = implicit_aspects_matching(sent_kp_df)\n",
    "    \n",
    "    predictions_df = sent_kp_df.groupby(['topic', 'comment_id', 'opinion_aspect_pairs_x']).apply(select_best_kp_per_opinion).reset_index(drop=True)\n",
    "    predictions_df = predictions_df.drop_duplicates(subset=['comment_id', 'key_point_id'])\n",
    "    \n",
    "    return predictions_df"
   ]
  },
  {
   "cell_type": "code",
   "execution_count": 12,
   "id": "3769a57c",
   "metadata": {},
   "outputs": [],
   "source": [
    "def select_best_kp_per_opinion(grp):\n",
    "    best_match = grp.sort_values(by=['score'], ascending=False)\n",
    "    best_match = best_match.iloc[0]\n",
    "    return best_match"
   ]
  },
  {
   "cell_type": "markdown",
   "id": "d2f7c943",
   "metadata": {},
   "source": [
    "Comment/KP matching on implicit aspects"
   ]
  },
  {
   "cell_type": "code",
   "execution_count": 13,
   "id": "88ecc7b4",
   "metadata": {},
   "outputs": [],
   "source": [
    "# import spacy\n",
    "# spacy.require_gpu()"
   ]
  },
  {
   "cell_type": "code",
   "execution_count": 14,
   "id": "6061e26c",
   "metadata": {},
   "outputs": [],
   "source": [
    "def implicit_aspects_matching(sent_kp_df):\n",
    "    sent_kp_df['predicted_by_cosine'] = False\n",
    "    \n",
    "    import warnings\n",
    "    warnings.filterwarnings(\"error\")\n",
    "    implicit_match_analyze_mask = pd.isnull(sent_kp_df['score'])\n",
    "    sent_kp_df[implicit_match_analyze_mask] = sent_kp_df[implicit_match_analyze_mask].apply(calculate_aspects_semantic_similarity, axis=1)\n",
    "    warnings.filterwarnings(\"ignore\")\n",
    "    \n",
    "    return sent_kp_df"
   ]
  },
  {
   "cell_type": "code",
   "execution_count": 15,
   "id": "4a244659",
   "metadata": {},
   "outputs": [],
   "source": [
    "unfound_tokens = []\n",
    "def calculate_aspects_semantic_similarity(row):\n",
    "    tokens = nlp(row['aspects_x'] + \" | \" + row['aspects_y'])\n",
    "    sep_index = [token.i for token in tokens if token.text == '|'][0]\n",
    "    token1, token2 = tokens[:sep_index], tokens[sep_index+1:]\n",
    "    row['aspects_x_len'] = len(token1)\n",
    "    row['aspects_y_len'] = len(token2)\n",
    "#     print(token1, token2)\n",
    "    try:\n",
    "        row['score'] = token2.similarity(token1)\n",
    "    except:\n",
    "#         display(row)\n",
    "#         unfound_tokens += [token1]\n",
    "        row['score'] = 0\n",
    "    row['predicted_by_cosine'] = True\n",
    "    \n",
    "    return row"
   ]
  },
  {
   "cell_type": "code",
   "execution_count": 16,
   "id": "e2ddb651",
   "metadata": {},
   "outputs": [],
   "source": [
    "import nltk\n",
    "def label_implicit_matching_pair(row):\n",
    "    token1 = row['aspects_x'][0]\n",
    "    token2 = row['aspects_y'][0]\n",
    "    \n",
    "    # Best\n",
    "    if row['aspects_x_len'] >= row['aspects_y_len']:\n",
    "        if token2 in token1 and len(token1) > len(token2) and row['aspects_x_len'] > row['aspects_y_len']: # e.g. mexican food vs food\n",
    "            row['label'] = 1\n",
    "    return row"
   ]
  },
  {
   "cell_type": "code",
   "execution_count": 17,
   "id": "768ae3d7",
   "metadata": {},
   "outputs": [],
   "source": [
    "def do_eval(df):\n",
    "    comment_df, kp_df, labels_df = prepare_comment_kp_label_input(df)\n",
    "    predictions_df = comment_kp_absa_match(comment_df, kp_df)\n",
    "\n",
    "    merged_df = pd.merge(predictions_df, labels_df, how=\"left\", on=[\"comment_id\", \"key_point_id\"])\n",
    "    merged_df.loc[merged_df['key_point_id'] == \"dummy_id\", 'label'] = 0\n",
    "    merged_df[\"label_strict\"] = merged_df[\"label\"].fillna(0)\n",
    "    merged_df[\"label_relaxed\"] = merged_df[\"label\"].fillna(1)\n",
    "    \n",
    "    precisions = [(t, get_ap(group, \"label_strict\")) for t, group in merged_df.groupby([\"topic\"])]\n",
    "    \n",
    "    return merged_df, precisions"
   ]
  },
  {
   "cell_type": "markdown",
   "id": "56217c49",
   "metadata": {},
   "source": [
    "# Evaluation"
   ]
  },
  {
   "cell_type": "markdown",
   "id": "7183a233",
   "metadata": {
    "pycharm": {
     "name": "#%% md\n"
    }
   },
   "source": [
    "## All Comments in test data"
   ]
  },
  {
   "cell_type": "code",
   "execution_count": 18,
   "id": "1d05ed22",
   "metadata": {},
   "outputs": [],
   "source": [
    "merged_df, precisions = do_eval(df)"
   ]
  },
  {
   "cell_type": "code",
   "execution_count": 19,
   "id": "3617da9f",
   "metadata": {},
   "outputs": [
    {
     "data": {
      "text/plain": [
       "[('Arts & Entertainment', 0.92),\n",
       " ('Automotive', 0.5822776003554035),\n",
       " ('Beauty & Spas', 0.8496957587866678),\n",
       " ('Hotels', 0.9538051289328429),\n",
       " ('Restaurants', 0.7765644827355906)]"
      ]
     },
     "execution_count": 19,
     "metadata": {},
     "output_type": "execute_result"
    }
   ],
   "source": [
    "precisions"
   ]
  },
  {
   "cell_type": "markdown",
   "id": "cfadafaa",
   "metadata": {
    "pycharm": {
     "name": "#%% md\n"
    }
   },
   "source": [
    "## Comments containing multiple opinions in test data"
   ]
  },
  {
   "cell_type": "code",
   "execution_count": 20,
   "id": "daa9cdca",
   "metadata": {},
   "outputs": [],
   "source": [
    "merged_df, precisions = do_eval(df[df['isMultiAspect'] == True])"
   ]
  },
  {
   "cell_type": "code",
   "execution_count": 21,
   "id": "a6d302ea",
   "metadata": {},
   "outputs": [
    {
     "data": {
      "text/plain": [
       "[('Arts & Entertainment', 0.8888888888888888),\n",
       " ('Automotive', 0.42857142857142855),\n",
       " ('Beauty & Spas', 0.823639455782313),\n",
       " ('Hotels', 0.879320987654321),\n",
       " ('Restaurants', 0.716017316017316)]"
      ]
     },
     "execution_count": 21,
     "metadata": {},
     "output_type": "execute_result"
    }
   ],
   "source": [
    "precisions"
   ]
  },
  {
   "cell_type": "markdown",
   "id": "bd5b3f11",
   "metadata": {
    "pycharm": {
     "name": "#%% md\n"
    }
   },
   "source": [
    "# Quantitative KP Coverage and Precision/Recall"
   ]
  },
  {
   "cell_type": "code",
   "execution_count": 22,
   "id": "25208c4e",
   "metadata": {},
   "outputs": [],
   "source": [
    "merged_df, precisions = do_eval(df)"
   ]
  },
  {
   "cell_type": "code",
   "execution_count": 23,
   "id": "de2dd985",
   "metadata": {},
   "outputs": [],
   "source": [
    "from sklearn.metrics import recall_score, precision_score\n",
    "\n",
    "def get_top_kp_coverages(merged_df, df, category, top=None, selected_kps=[]):\n",
    "    comment_df, kp_df, labels_df = prepare_comment_kp_label_input(df)\n",
    "    kp_df = kp_df.drop(columns=['key_point'])\n",
    "\n",
    "    valid_df = df[(df['label'] == 1) & (df['topic'] == category)]\n",
    "    valid_kp = valid_df['full_key_point'].value_counts()\n",
    "    \n",
    "    top_kp = merged_df[merged_df['topic'] == category].merge(kp_df, on=['key_point_id'])['key_point'].value_counts()\n",
    "    result = top_kp[top_kp.index.isin(valid_kp.index.tolist())]\n",
    "    if top != None:\n",
    "        result = result[result.index.isin(valid_kp.head(top).index)]\n",
    "    elif len(selected_kps) > 0:\n",
    "        result = result[result.index.isin(selected_kps)]\n",
    "    \n",
    "    if top != None:\n",
    "        valid_df = df[df['full_key_point'].isin(valid_kp.head(top).index)]\n",
    "    elif len(selected_kps) > 0:\n",
    "        valid_df = valid_df[valid_df['full_key_point'].isin(selected_kps)]\n",
    "    \n",
    "    pred_df = merged_df[merged_df['topic'] == category].merge(kp_df, on=['key_point_id'])\n",
    "    if top != None:\n",
    "        pred_df = pred_df[pred_df['key_point'].isin(valid_kp.head(top).index)]\n",
    "    elif len(selected_kps) > 0:\n",
    "        pred_df = pred_df[pred_df['key_point'].isin(selected_kps)]\n",
    "        \n",
    "    pred_df['comment_id'] = pred_df['comment_id'].apply(lambda x: \"_\".join(x.split(\"_\")[0:3]))\n",
    "        \n",
    "    return valid_df, pred_df"
   ]
  },
  {
   "cell_type": "code",
   "execution_count": 24,
   "id": "1d34b3a5",
   "metadata": {},
   "outputs": [],
   "source": [
    "def calculate_precision_recall(valid_df, pred_df):\n",
    "    pred_df['pred_label'] = 1\n",
    "    \n",
    "    # Calculate Precision\n",
    "    new_valid_df = valid_df.merge(pred_df[['comment_id', 'key_point_id', 'pred_label']], how='right')\n",
    "    new_valid_df['label'] = new_valid_df['label'].fillna(0)\n",
    "    precision = precision_score(new_valid_df['label'], new_valid_df['pred_label'])\n",
    "\n",
    "    # Calculate Recall\n",
    "    new_valid_df = valid_df.merge(pred_df[['comment_id', 'key_point_id', 'pred_label']], how='left')\n",
    "    new_valid_df['pred_label'] = new_valid_df['pred_label'].fillna(0)\n",
    "    recall = recall_score(new_valid_df['label'], new_valid_df['pred_label'])\n",
    "    \n",
    "    return precision, recall"
   ]
  },
  {
   "cell_type": "code",
   "execution_count": 25,
   "id": "53bdb089",
   "metadata": {},
   "outputs": [],
   "source": [
    "def generate_coverage_table(valid_df, pred_df):\n",
    "    coverage_compare_table = valid_df['full_key_point'].value_counts().reset_index()\n",
    "    coverage_compare_table = coverage_compare_table.rename(columns={'full_key_point': 'Actual Coverage'})\n",
    "    coverage_compare_table = coverage_compare_table.merge(pred_df['key_point'].value_counts().reset_index(), on='index', how='left')\n",
    "    coverage_compare_table = coverage_compare_table.rename(columns={'key_point': 'Predicted Coverage', 'index': 'Key Point'})\n",
    "    coverage_compare_table['Predicted Coverage'] = coverage_compare_table['Predicted Coverage'].fillna(0)\n",
    "    \n",
    "    return coverage_compare_table[['Key Point', 'Predicted Coverage', 'Actual Coverage']]"
   ]
  },
  {
   "cell_type": "markdown",
   "id": "b7baee13",
   "metadata": {
    "pycharm": {
     "name": "#%% md\n"
    }
   },
   "source": [
    "## Arts & Entertainment"
   ]
  },
  {
   "cell_type": "code",
   "execution_count": 26,
   "id": "72850266",
   "metadata": {},
   "outputs": [],
   "source": [
    "selected_kps = ['Friendly and helpful staff .', 'Seats are adequately comfortable .   ', 'Horrible customer service .']\n",
    "valid_df, pred_df = get_top_kp_coverages(merged_df, df, 'Arts & Entertainment', None, selected_kps)"
   ]
  },
  {
   "cell_type": "code",
   "execution_count": 27,
   "id": "d545bf12",
   "metadata": {},
   "outputs": [
    {
     "data": {
      "text/html": [
       "<div>\n",
       "<style scoped>\n",
       "    .dataframe tbody tr th:only-of-type {\n",
       "        vertical-align: middle;\n",
       "    }\n",
       "\n",
       "    .dataframe tbody tr th {\n",
       "        vertical-align: top;\n",
       "    }\n",
       "\n",
       "    .dataframe thead th {\n",
       "        text-align: right;\n",
       "    }\n",
       "</style>\n",
       "<table border=\"1\" class=\"dataframe\">\n",
       "  <thead>\n",
       "    <tr style=\"text-align: right;\">\n",
       "      <th></th>\n",
       "      <th>Key Point</th>\n",
       "      <th>Predicted Coverage</th>\n",
       "      <th>Actual Coverage</th>\n",
       "    </tr>\n",
       "  </thead>\n",
       "  <tbody>\n",
       "    <tr>\n",
       "      <th>0</th>\n",
       "      <td>Friendly and helpful staff .</td>\n",
       "      <td>10</td>\n",
       "      <td>14</td>\n",
       "    </tr>\n",
       "    <tr>\n",
       "      <th>1</th>\n",
       "      <td>Seats are adequately comfortable .</td>\n",
       "      <td>4</td>\n",
       "      <td>4</td>\n",
       "    </tr>\n",
       "    <tr>\n",
       "      <th>2</th>\n",
       "      <td>Horrible customer service .</td>\n",
       "      <td>3</td>\n",
       "      <td>3</td>\n",
       "    </tr>\n",
       "  </tbody>\n",
       "</table>\n",
       "</div>"
      ],
      "text/plain": [
       "                               Key Point  Predicted Coverage  Actual Coverage\n",
       "0           Friendly and helpful staff .                  10               14\n",
       "1  Seats are adequately comfortable .                      4                4\n",
       "2            Horrible customer service .                   3                3"
      ]
     },
     "execution_count": 27,
     "metadata": {},
     "output_type": "execute_result"
    }
   ],
   "source": [
    "generate_coverage_table(valid_df, pred_df)"
   ]
  },
  {
   "cell_type": "code",
   "execution_count": 28,
   "id": "f3586a1a",
   "metadata": {},
   "outputs": [
    {
     "data": {
      "text/plain": [
       "(0.9411764705882353, 0.7619047619047619)"
      ]
     },
     "execution_count": 28,
     "metadata": {},
     "output_type": "execute_result"
    }
   ],
   "source": [
    "calculate_precision_recall(valid_df, pred_df)"
   ]
  },
  {
   "cell_type": "markdown",
   "id": "38d3216f",
   "metadata": {
    "pycharm": {
     "name": "#%% md\n"
    }
   },
   "source": [
    "## Automotive"
   ]
  },
  {
   "cell_type": "code",
   "execution_count": 29,
   "id": "bb25a812",
   "metadata": {},
   "outputs": [],
   "source": [
    "selected_kps = ['They have excellent customer service .', 'The employees here are wonderful !', 'Very professional staff .']\n",
    "valid_df, pred_df = get_top_kp_coverages(merged_df, df, 'Automotive', None, selected_kps)"
   ]
  },
  {
   "cell_type": "code",
   "execution_count": 30,
   "id": "a4291883",
   "metadata": {},
   "outputs": [
    {
     "data": {
      "text/html": [
       "<div>\n",
       "<style scoped>\n",
       "    .dataframe tbody tr th:only-of-type {\n",
       "        vertical-align: middle;\n",
       "    }\n",
       "\n",
       "    .dataframe tbody tr th {\n",
       "        vertical-align: top;\n",
       "    }\n",
       "\n",
       "    .dataframe thead th {\n",
       "        text-align: right;\n",
       "    }\n",
       "</style>\n",
       "<table border=\"1\" class=\"dataframe\">\n",
       "  <thead>\n",
       "    <tr style=\"text-align: right;\">\n",
       "      <th></th>\n",
       "      <th>Key Point</th>\n",
       "      <th>Predicted Coverage</th>\n",
       "      <th>Actual Coverage</th>\n",
       "    </tr>\n",
       "  </thead>\n",
       "  <tbody>\n",
       "    <tr>\n",
       "      <th>0</th>\n",
       "      <td>They have excellent customer service .</td>\n",
       "      <td>10.0</td>\n",
       "      <td>29</td>\n",
       "    </tr>\n",
       "    <tr>\n",
       "      <th>1</th>\n",
       "      <td>Very professional staff .</td>\n",
       "      <td>0.0</td>\n",
       "      <td>13</td>\n",
       "    </tr>\n",
       "    <tr>\n",
       "      <th>2</th>\n",
       "      <td>The employees here are wonderful !</td>\n",
       "      <td>2.0</td>\n",
       "      <td>13</td>\n",
       "    </tr>\n",
       "  </tbody>\n",
       "</table>\n",
       "</div>"
      ],
      "text/plain": [
       "                                Key Point  Predicted Coverage  Actual Coverage\n",
       "0  They have excellent customer service .                10.0               29\n",
       "1               Very professional staff .                 0.0               13\n",
       "2      The employees here are wonderful !                 2.0               13"
      ]
     },
     "execution_count": 30,
     "metadata": {},
     "output_type": "execute_result"
    }
   ],
   "source": [
    "generate_coverage_table(valid_df, pred_df)"
   ]
  },
  {
   "cell_type": "code",
   "execution_count": 31,
   "id": "210ea356",
   "metadata": {},
   "outputs": [
    {
     "data": {
      "text/plain": [
       "(0.8333333333333334, 0.18181818181818182)"
      ]
     },
     "execution_count": 31,
     "metadata": {},
     "output_type": "execute_result"
    }
   ],
   "source": [
    "calculate_precision_recall(valid_df, pred_df)"
   ]
  },
  {
   "cell_type": "markdown",
   "id": "bbd72073",
   "metadata": {
    "pycharm": {
     "name": "#%% md\n"
    }
   },
   "source": [
    "## Beauty & Spas"
   ]
  },
  {
   "cell_type": "code",
   "execution_count": 32,
   "id": "003881ef",
   "metadata": {},
   "outputs": [],
   "source": [
    "selected_kps = ['Staff is friendly and accommodating .', 'Customer service- EXCELLENT !', 'Amazing & professional service .']\n",
    "valid_df, pred_df = get_top_kp_coverages(merged_df, df, \"Beauty & Spas\", None, selected_kps)"
   ]
  },
  {
   "cell_type": "code",
   "execution_count": 33,
   "id": "5e93814a",
   "metadata": {},
   "outputs": [
    {
     "data": {
      "text/html": [
       "<div>\n",
       "<style scoped>\n",
       "    .dataframe tbody tr th:only-of-type {\n",
       "        vertical-align: middle;\n",
       "    }\n",
       "\n",
       "    .dataframe tbody tr th {\n",
       "        vertical-align: top;\n",
       "    }\n",
       "\n",
       "    .dataframe thead th {\n",
       "        text-align: right;\n",
       "    }\n",
       "</style>\n",
       "<table border=\"1\" class=\"dataframe\">\n",
       "  <thead>\n",
       "    <tr style=\"text-align: right;\">\n",
       "      <th></th>\n",
       "      <th>Key Point</th>\n",
       "      <th>Predicted Coverage</th>\n",
       "      <th>Actual Coverage</th>\n",
       "    </tr>\n",
       "  </thead>\n",
       "  <tbody>\n",
       "    <tr>\n",
       "      <th>0</th>\n",
       "      <td>Staff is friendly and accommodating .</td>\n",
       "      <td>13</td>\n",
       "      <td>18</td>\n",
       "    </tr>\n",
       "    <tr>\n",
       "      <th>1</th>\n",
       "      <td>Amazing &amp; professional service .</td>\n",
       "      <td>3</td>\n",
       "      <td>14</td>\n",
       "    </tr>\n",
       "    <tr>\n",
       "      <th>2</th>\n",
       "      <td>Customer service- EXCELLENT !</td>\n",
       "      <td>7</td>\n",
       "      <td>13</td>\n",
       "    </tr>\n",
       "  </tbody>\n",
       "</table>\n",
       "</div>"
      ],
      "text/plain": [
       "                               Key Point  Predicted Coverage  Actual Coverage\n",
       "0  Staff is friendly and accommodating .                  13               18\n",
       "1       Amazing & professional service .                   3               14\n",
       "2          Customer service- EXCELLENT !                   7               13"
      ]
     },
     "execution_count": 33,
     "metadata": {},
     "output_type": "execute_result"
    }
   ],
   "source": [
    "generate_coverage_table(valid_df, pred_df)"
   ]
  },
  {
   "cell_type": "code",
   "execution_count": 34,
   "id": "fb40e62e",
   "metadata": {},
   "outputs": [
    {
     "data": {
      "text/plain": [
       "(0.8695652173913043, 0.4444444444444444)"
      ]
     },
     "execution_count": 34,
     "metadata": {},
     "output_type": "execute_result"
    }
   ],
   "source": [
    "calculate_precision_recall(valid_df, pred_df)"
   ]
  },
  {
   "cell_type": "markdown",
   "id": "1458f631",
   "metadata": {
    "pycharm": {
     "name": "#%% md\n"
    }
   },
   "source": [
    "## Hotels"
   ]
  },
  {
   "cell_type": "code",
   "execution_count": 35,
   "id": "3f5ea7e6",
   "metadata": {},
   "outputs": [],
   "source": [
    "selected_kps = ['Friendly and helpful staff .', 'Clean and comfortable rooms .', 'The ambience is wonderfully peaceful .']\n",
    "valid_df, pred_df = get_top_kp_coverages(merged_df, df, 'Hotels', None, selected_kps)"
   ]
  },
  {
   "cell_type": "code",
   "execution_count": 36,
   "id": "666693af",
   "metadata": {},
   "outputs": [
    {
     "data": {
      "text/html": [
       "<div>\n",
       "<style scoped>\n",
       "    .dataframe tbody tr th:only-of-type {\n",
       "        vertical-align: middle;\n",
       "    }\n",
       "\n",
       "    .dataframe tbody tr th {\n",
       "        vertical-align: top;\n",
       "    }\n",
       "\n",
       "    .dataframe thead th {\n",
       "        text-align: right;\n",
       "    }\n",
       "</style>\n",
       "<table border=\"1\" class=\"dataframe\">\n",
       "  <thead>\n",
       "    <tr style=\"text-align: right;\">\n",
       "      <th></th>\n",
       "      <th>Key Point</th>\n",
       "      <th>Predicted Coverage</th>\n",
       "      <th>Actual Coverage</th>\n",
       "    </tr>\n",
       "  </thead>\n",
       "  <tbody>\n",
       "    <tr>\n",
       "      <th>0</th>\n",
       "      <td>Friendly and helpful staff .</td>\n",
       "      <td>16</td>\n",
       "      <td>21</td>\n",
       "    </tr>\n",
       "    <tr>\n",
       "      <th>1</th>\n",
       "      <td>Clean and comfortable rooms .</td>\n",
       "      <td>12</td>\n",
       "      <td>13</td>\n",
       "    </tr>\n",
       "    <tr>\n",
       "      <th>2</th>\n",
       "      <td>The ambience is wonderfully peaceful .</td>\n",
       "      <td>2</td>\n",
       "      <td>1</td>\n",
       "    </tr>\n",
       "  </tbody>\n",
       "</table>\n",
       "</div>"
      ],
      "text/plain": [
       "                                Key Point  Predicted Coverage  Actual Coverage\n",
       "0            Friendly and helpful staff .                  16               21\n",
       "1           Clean and comfortable rooms .                  12               13\n",
       "2  The ambience is wonderfully peaceful .                   2                1"
      ]
     },
     "execution_count": 36,
     "metadata": {},
     "output_type": "execute_result"
    }
   ],
   "source": [
    "generate_coverage_table(valid_df, pred_df)"
   ]
  },
  {
   "cell_type": "code",
   "execution_count": 37,
   "id": "304f69b0",
   "metadata": {
    "pycharm": {
     "name": "#%%\n"
    },
    "scrolled": true
   },
   "outputs": [
    {
     "data": {
      "text/plain": [
       "(0.9333333333333333, 0.8)"
      ]
     },
     "execution_count": 37,
     "metadata": {},
     "output_type": "execute_result"
    }
   ],
   "source": [
    "calculate_precision_recall(valid_df, pred_df)"
   ]
  },
  {
   "cell_type": "markdown",
   "id": "59a090a3",
   "metadata": {
    "pycharm": {
     "name": "#%% md\n"
    }
   },
   "source": [
    "## Restaurants"
   ]
  },
  {
   "cell_type": "code",
   "execution_count": 38,
   "id": "27665e83",
   "metadata": {},
   "outputs": [],
   "source": [
    "selected_kps = ['Staff was courteous and accommodating .', \n",
    "                'Fresh food , using local produce .', 'The service here was exceptional .  ']\n",
    "valid_df, pred_df = get_top_kp_coverages(merged_df, df, 'Restaurants', None, selected_kps)"
   ]
  },
  {
   "cell_type": "code",
   "execution_count": 39,
   "id": "c2a83e48",
   "metadata": {},
   "outputs": [
    {
     "data": {
      "text/html": [
       "<div>\n",
       "<style scoped>\n",
       "    .dataframe tbody tr th:only-of-type {\n",
       "        vertical-align: middle;\n",
       "    }\n",
       "\n",
       "    .dataframe tbody tr th {\n",
       "        vertical-align: top;\n",
       "    }\n",
       "\n",
       "    .dataframe thead th {\n",
       "        text-align: right;\n",
       "    }\n",
       "</style>\n",
       "<table border=\"1\" class=\"dataframe\">\n",
       "  <thead>\n",
       "    <tr style=\"text-align: right;\">\n",
       "      <th></th>\n",
       "      <th>Key Point</th>\n",
       "      <th>Predicted Coverage</th>\n",
       "      <th>Actual Coverage</th>\n",
       "    </tr>\n",
       "  </thead>\n",
       "  <tbody>\n",
       "    <tr>\n",
       "      <th>0</th>\n",
       "      <td>Staff was courteous and accommodating .</td>\n",
       "      <td>11</td>\n",
       "      <td>19</td>\n",
       "    </tr>\n",
       "    <tr>\n",
       "      <th>1</th>\n",
       "      <td>Fresh food , using local produce .</td>\n",
       "      <td>8</td>\n",
       "      <td>5</td>\n",
       "    </tr>\n",
       "    <tr>\n",
       "      <th>2</th>\n",
       "      <td>The service here was exceptional .</td>\n",
       "      <td>5</td>\n",
       "      <td>5</td>\n",
       "    </tr>\n",
       "  </tbody>\n",
       "</table>\n",
       "</div>"
      ],
      "text/plain": [
       "                                 Key Point  Predicted Coverage  \\\n",
       "0  Staff was courteous and accommodating .                  11   \n",
       "1       Fresh food , using local produce .                   8   \n",
       "2     The service here was exceptional .                     5   \n",
       "\n",
       "   Actual Coverage  \n",
       "0               19  \n",
       "1                5  \n",
       "2                5  "
      ]
     },
     "execution_count": 39,
     "metadata": {},
     "output_type": "execute_result"
    }
   ],
   "source": [
    "generate_coverage_table(valid_df, pred_df)"
   ]
  },
  {
   "cell_type": "code",
   "execution_count": 40,
   "id": "92923071",
   "metadata": {},
   "outputs": [
    {
     "data": {
      "text/plain": [
       "(0.75, 0.6206896551724138)"
      ]
     },
     "execution_count": 40,
     "metadata": {},
     "output_type": "execute_result"
    }
   ],
   "source": [
    "calculate_precision_recall(valid_df, pred_df)"
   ]
  },
  {
   "cell_type": "code",
   "execution_count": null,
   "id": "b1357d54",
   "metadata": {},
   "outputs": [],
   "source": []
  }
 ],
 "metadata": {
  "kernelspec": {
   "display_name": "Python 3 (ipykernel)",
   "language": "python",
   "name": "python3"
  },
  "language_info": {
   "codemirror_mode": {
    "name": "ipython",
    "version": 3
   },
   "file_extension": ".py",
   "mimetype": "text/x-python",
   "name": "python",
   "nbconvert_exporter": "python",
   "pygments_lexer": "ipython3",
   "version": "3.9.12"
  },
  "toc": {
   "base_numbering": 1,
   "nav_menu": {},
   "number_sections": true,
   "sideBar": true,
   "skip_h1_title": false,
   "title_cell": "Table of Contents",
   "title_sidebar": "Contents",
   "toc_cell": false,
   "toc_position": {
    "height": "730.545px",
    "left": "63px",
    "top": "110.318px",
    "width": "406.216px"
   },
   "toc_section_display": true,
   "toc_window_display": true
  }
 },
 "nbformat": 4,
 "nbformat_minor": 5
}
