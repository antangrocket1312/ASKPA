{
 "cells": [
  {
   "cell_type": "code",
   "execution_count": 1,
   "id": "ce931368",
   "metadata": {
    "pycharm": {
     "name": "#%%\n"
    }
   },
   "outputs": [],
   "source": [
    "import torch\n",
    "torch.cuda.empty_cache()"
   ]
  },
  {
   "cell_type": "code",
   "execution_count": 2,
   "id": "85f9856c",
   "metadata": {
    "pycharm": {
     "name": "#%%\n"
    }
   },
   "outputs": [],
   "source": [
    "import json\n",
    "import pandas as pd\n",
    "import numpy as np\n",
    "# import spacy\n",
    "import matplotlib.pyplot as plt\n",
    "import os\n",
    "\n",
    "pd.set_option('display.max_colwidth', None)"
   ]
  },
  {
   "cell_type": "code",
   "execution_count": 3,
   "id": "212e92fb",
   "metadata": {
    "pycharm": {
     "name": "#%%\n"
    }
   },
   "outputs": [],
   "source": [
    "from datasets import concatenate_datasets, load_dataset\n",
    "from datasets import Dataset, DatasetDict"
   ]
  },
  {
   "cell_type": "code",
   "execution_count": 4,
   "id": "a5b3543d",
   "metadata": {},
   "outputs": [],
   "source": [
    "from utils.comment_kp_split import *"
   ]
  },
  {
   "cell_type": "markdown",
   "id": "fe0421ec",
   "metadata": {
    "pycharm": {
     "name": "#%% md\n"
    }
   },
   "source": [
    "# Read Data"
   ]
  },
  {
   "cell_type": "code",
   "execution_count": 5,
   "id": "be48cd32",
   "metadata": {
    "pycharm": {
     "name": "#%%\n"
    }
   },
   "outputs": [],
   "source": [
    "rev_kp_dataset_df = pd.read_pickle(\"../data/training/train_data.pkl\")"
   ]
  },
  {
   "cell_type": "code",
   "execution_count": 6,
   "id": "3ba34012",
   "metadata": {
    "pycharm": {
     "name": "#%%\n"
    }
   },
   "outputs": [
    {
     "data": {
      "text/html": [
       "<div>\n",
       "<style scoped>\n",
       "    .dataframe tbody tr th:only-of-type {\n",
       "        vertical-align: middle;\n",
       "    }\n",
       "\n",
       "    .dataframe tbody tr th {\n",
       "        vertical-align: top;\n",
       "    }\n",
       "\n",
       "    .dataframe thead th {\n",
       "        text-align: right;\n",
       "    }\n",
       "</style>\n",
       "<table border=\"1\" class=\"dataframe\">\n",
       "  <thead>\n",
       "    <tr style=\"text-align: right;\">\n",
       "      <th></th>\n",
       "      <th>index</th>\n",
       "      <th>level_1</th>\n",
       "      <th>domain</th>\n",
       "      <th>categories_list</th>\n",
       "      <th>categories</th>\n",
       "      <th>name</th>\n",
       "      <th>business_id</th>\n",
       "      <th>sentences</th>\n",
       "      <th>opinions_x</th>\n",
       "      <th>aspects_x</th>\n",
       "      <th>...</th>\n",
       "      <th>opinion_phrases_y</th>\n",
       "      <th>key_point</th>\n",
       "      <th>predicted_WA_y</th>\n",
       "      <th>label</th>\n",
       "      <th>aspects_similarity</th>\n",
       "      <th>aspects_x_len</th>\n",
       "      <th>aspects_y_len</th>\n",
       "      <th>id_pair</th>\n",
       "      <th>sentiments_x</th>\n",
       "      <th>sentiments_y</th>\n",
       "    </tr>\n",
       "  </thead>\n",
       "  <tbody>\n",
       "    <tr>\n",
       "      <th>1</th>\n",
       "      <td>487383</td>\n",
       "      <td>2</td>\n",
       "      <td>Hotels</td>\n",
       "      <td>['Event Planning &amp; Services', 'Venues &amp; Event Spaces', 'Hotels', 'Hotels &amp; Travel']</td>\n",
       "      <td>Event Planning &amp; Services, Venues &amp; Event Spaces, Hotels, Hotels &amp; Travel</td>\n",
       "      <td>Sheraton Centre Toronto Hotel</td>\n",
       "      <td>M7FOXsuEuRbwEfxUrNKv5w</td>\n",
       "      <td>Free WiFi in lobby</td>\n",
       "      <td>[free]</td>\n",
       "      <td>[wifi]</td>\n",
       "      <td>...</td>\n",
       "      <td>[very fast wifi]</td>\n",
       "      <td>Wifi was very fast ~ 20MBps .</td>\n",
       "      <td>0.5944222211837769</td>\n",
       "      <td>1.0</td>\n",
       "      <td>NaN</td>\n",
       "      <td>NaN</td>\n",
       "      <td>NaN</td>\n",
       "      <td>487383_2##702558_5</td>\n",
       "      <td>[positive]</td>\n",
       "      <td>[positive]</td>\n",
       "    </tr>\n",
       "    <tr>\n",
       "      <th>3</th>\n",
       "      <td>487385</td>\n",
       "      <td>0</td>\n",
       "      <td>Hotels</td>\n",
       "      <td>['Event Planning &amp; Services', 'Venues &amp; Event Spaces', 'Hotels', 'Hotels &amp; Travel']</td>\n",
       "      <td>Event Planning &amp; Services, Venues &amp; Event Spaces, Hotels, Hotels &amp; Travel</td>\n",
       "      <td>Sheraton Centre Toronto Hotel</td>\n",
       "      <td>M7FOXsuEuRbwEfxUrNKv5w</td>\n",
       "      <td>Been staying at this hotel for years now and still enjoy the place .</td>\n",
       "      <td>[enjoy]</td>\n",
       "      <td>[place]</td>\n",
       "      <td>...</td>\n",
       "      <td>[family friendly place]</td>\n",
       "      <td>Relaxed , quiet , family friendly place .</td>\n",
       "      <td>0.5604457855224609</td>\n",
       "      <td>1.0</td>\n",
       "      <td>NaN</td>\n",
       "      <td>NaN</td>\n",
       "      <td>NaN</td>\n",
       "      <td>487385_0##777430_1</td>\n",
       "      <td>[positive]</td>\n",
       "      <td>[positive]</td>\n",
       "    </tr>\n",
       "    <tr>\n",
       "      <th>4</th>\n",
       "      <td>487385</td>\n",
       "      <td>0</td>\n",
       "      <td>Hotels</td>\n",
       "      <td>['Event Planning &amp; Services', 'Venues &amp; Event Spaces', 'Hotels', 'Hotels &amp; Travel']</td>\n",
       "      <td>Event Planning &amp; Services, Venues &amp; Event Spaces, Hotels, Hotels &amp; Travel</td>\n",
       "      <td>Sheraton Centre Toronto Hotel</td>\n",
       "      <td>M7FOXsuEuRbwEfxUrNKv5w</td>\n",
       "      <td>Been staying at this hotel for years now and still enjoy the place .</td>\n",
       "      <td>[enjoy]</td>\n",
       "      <td>[place]</td>\n",
       "      <td>...</td>\n",
       "      <td>[family oriented place]</td>\n",
       "      <td>Definitely a family oriented place .</td>\n",
       "      <td>0.43907630443573</td>\n",
       "      <td>1.0</td>\n",
       "      <td>NaN</td>\n",
       "      <td>NaN</td>\n",
       "      <td>NaN</td>\n",
       "      <td>487385_0##511294_4</td>\n",
       "      <td>[positive]</td>\n",
       "      <td>[positive]</td>\n",
       "    </tr>\n",
       "    <tr>\n",
       "      <th>27</th>\n",
       "      <td>487386</td>\n",
       "      <td>3</td>\n",
       "      <td>Hotels</td>\n",
       "      <td>['Event Planning &amp; Services', 'Venues &amp; Event Spaces', 'Hotels', 'Hotels &amp; Travel']</td>\n",
       "      <td>Event Planning &amp; Services, Venues &amp; Event Spaces, Hotels, Hotels &amp; Travel</td>\n",
       "      <td>Sheraton Centre Toronto Hotel</td>\n",
       "      <td>M7FOXsuEuRbwEfxUrNKv5w</td>\n",
       "      <td>Staff was friendly .</td>\n",
       "      <td>[friendly]</td>\n",
       "      <td>[staff]</td>\n",
       "      <td>...</td>\n",
       "      <td>[above and beyond staff]</td>\n",
       "      <td>Staff goes above and beyond .</td>\n",
       "      <td>0.5060063004493713</td>\n",
       "      <td>1.0</td>\n",
       "      <td>NaN</td>\n",
       "      <td>NaN</td>\n",
       "      <td>NaN</td>\n",
       "      <td>487386_3##922097_1</td>\n",
       "      <td>[positive]</td>\n",
       "      <td>[positive]</td>\n",
       "    </tr>\n",
       "    <tr>\n",
       "      <th>28</th>\n",
       "      <td>487386</td>\n",
       "      <td>3</td>\n",
       "      <td>Hotels</td>\n",
       "      <td>['Event Planning &amp; Services', 'Venues &amp; Event Spaces', 'Hotels', 'Hotels &amp; Travel']</td>\n",
       "      <td>Event Planning &amp; Services, Venues &amp; Event Spaces, Hotels, Hotels &amp; Travel</td>\n",
       "      <td>Sheraton Centre Toronto Hotel</td>\n",
       "      <td>M7FOXsuEuRbwEfxUrNKv5w</td>\n",
       "      <td>Staff was friendly .</td>\n",
       "      <td>[friendly]</td>\n",
       "      <td>[staff]</td>\n",
       "      <td>...</td>\n",
       "      <td>[amazing staff]</td>\n",
       "      <td>Amazing staff &amp; customer service .</td>\n",
       "      <td>0.5119611024856567</td>\n",
       "      <td>1.0</td>\n",
       "      <td>NaN</td>\n",
       "      <td>NaN</td>\n",
       "      <td>NaN</td>\n",
       "      <td>487386_3##884704_1</td>\n",
       "      <td>[positive]</td>\n",
       "      <td>[positive]</td>\n",
       "    </tr>\n",
       "    <tr>\n",
       "      <th>...</th>\n",
       "      <td>...</td>\n",
       "      <td>...</td>\n",
       "      <td>...</td>\n",
       "      <td>...</td>\n",
       "      <td>...</td>\n",
       "      <td>...</td>\n",
       "      <td>...</td>\n",
       "      <td>...</td>\n",
       "      <td>...</td>\n",
       "      <td>...</td>\n",
       "      <td>...</td>\n",
       "      <td>...</td>\n",
       "      <td>...</td>\n",
       "      <td>...</td>\n",
       "      <td>...</td>\n",
       "      <td>...</td>\n",
       "      <td>...</td>\n",
       "      <td>...</td>\n",
       "      <td>...</td>\n",
       "      <td>...</td>\n",
       "      <td>...</td>\n",
       "    </tr>\n",
       "    <tr>\n",
       "      <th>50051</th>\n",
       "      <td>880945</td>\n",
       "      <td>1</td>\n",
       "      <td>Arts &amp; Entertainment</td>\n",
       "      <td>['Performing Arts', 'Arts &amp; Entertainment']</td>\n",
       "      <td>Performing Arts, Arts &amp; Entertainment</td>\n",
       "      <td>Rock of Ages</td>\n",
       "      <td>_F3AMoo_zdl-he384ISQbw</td>\n",
       "      <td>Ushers are all standby to guide you to the seats .</td>\n",
       "      <td>[standby]</td>\n",
       "      <td>[ushers]</td>\n",
       "      <td>...</td>\n",
       "      <td>[friendly and attentive concessions]</td>\n",
       "      <td>Concessions are friendly and attentive .</td>\n",
       "      <td>0.48531198501586914</td>\n",
       "      <td>0.0</td>\n",
       "      <td>NaN</td>\n",
       "      <td>NaN</td>\n",
       "      <td>NaN</td>\n",
       "      <td>880945_1##999990_2</td>\n",
       "      <td>[negative]</td>\n",
       "      <td>[positive]</td>\n",
       "    </tr>\n",
       "    <tr>\n",
       "      <th>50052</th>\n",
       "      <td>929246</td>\n",
       "      <td>2</td>\n",
       "      <td>Arts &amp; Entertainment</td>\n",
       "      <td>['Cinema', 'Arts &amp; Entertainment']</td>\n",
       "      <td>Cinema, Arts &amp; Entertainment</td>\n",
       "      <td>Cinemark Mesa 16</td>\n",
       "      <td>lqCJiHlxzRpuYt-u_XQUvg</td>\n",
       "      <td>Management was horrible and I 'm beyond disappointed with how rude and unprofessional they were !</td>\n",
       "      <td>[horrible]</td>\n",
       "      <td>[management]</td>\n",
       "      <td>...</td>\n",
       "      <td>[friendly and attentive concessions]</td>\n",
       "      <td>Concessions are friendly and attentive .</td>\n",
       "      <td>0.48531198501586914</td>\n",
       "      <td>0.0</td>\n",
       "      <td>NaN</td>\n",
       "      <td>NaN</td>\n",
       "      <td>NaN</td>\n",
       "      <td>929246_2##999990_2</td>\n",
       "      <td>[negative]</td>\n",
       "      <td>[positive]</td>\n",
       "    </tr>\n",
       "    <tr>\n",
       "      <th>50053</th>\n",
       "      <td>901588</td>\n",
       "      <td>0</td>\n",
       "      <td>Arts &amp; Entertainment</td>\n",
       "      <td>['Casinos', 'Nightlife', 'Arts &amp; Entertainment', 'Bars', 'Adult Entertainment']</td>\n",
       "      <td>Casinos, Nightlife, Arts &amp; Entertainment, Bars, Adult Entertainment</td>\n",
       "      <td>Playboy Club</td>\n",
       "      <td>3g8zzg_5__kXMUM-8F6V1w</td>\n",
       "      <td>Sexy dealers .</td>\n",
       "      <td>[sexy]</td>\n",
       "      <td>[dealers]</td>\n",
       "      <td>...</td>\n",
       "      <td>[friendly and attentive concessions]</td>\n",
       "      <td>Concessions are friendly and attentive .</td>\n",
       "      <td>0.48531198501586914</td>\n",
       "      <td>0.0</td>\n",
       "      <td>NaN</td>\n",
       "      <td>NaN</td>\n",
       "      <td>NaN</td>\n",
       "      <td>901588_0##999990_2</td>\n",
       "      <td>[positive]</td>\n",
       "      <td>[positive]</td>\n",
       "    </tr>\n",
       "    <tr>\n",
       "      <th>50054</th>\n",
       "      <td>842226</td>\n",
       "      <td>3</td>\n",
       "      <td>Arts &amp; Entertainment</td>\n",
       "      <td>['Arts &amp; Entertainment', 'Arcades', 'Active Life', 'Venues &amp; Event Spaces', 'Party &amp; Event Planning', 'Amusement Parks', 'Event Planning &amp; Services', 'Mini Golf', 'Laser Tag']</td>\n",
       "      <td>Arts &amp; Entertainment, Arcades, Active Life, Venues &amp; Event Spaces, Party &amp; Event Planning, Amusement Parks, Event Planning &amp; Services, Mini Golf, Laser Tag</td>\n",
       "      <td>King Putt Mini</td>\n",
       "      <td>EH3yMY64M0AQNpPj3EERWQ</td>\n",
       "      <td>Their staff is freaking awesome .</td>\n",
       "      <td>[freaking awesome]</td>\n",
       "      <td>[staff]</td>\n",
       "      <td>...</td>\n",
       "      <td>[friendly and attentive concessions]</td>\n",
       "      <td>Concessions are friendly and attentive .</td>\n",
       "      <td>0.48531198501586914</td>\n",
       "      <td>0.0</td>\n",
       "      <td>NaN</td>\n",
       "      <td>NaN</td>\n",
       "      <td>NaN</td>\n",
       "      <td>842226_3##999990_2</td>\n",
       "      <td>[positive]</td>\n",
       "      <td>[positive]</td>\n",
       "    </tr>\n",
       "    <tr>\n",
       "      <th>50055</th>\n",
       "      <td>995970</td>\n",
       "      <td>2</td>\n",
       "      <td>Arts &amp; Entertainment</td>\n",
       "      <td>['Amusement Parks', 'Arts &amp; Entertainment', 'Race Tracks', 'Racing Experience', 'Go Karts', 'Active Life']</td>\n",
       "      <td>Amusement Parks, Arts &amp; Entertainment, Race Tracks, Racing Experience, Go Karts, Active Life</td>\n",
       "      <td>Gene Woods Racing Experience</td>\n",
       "      <td>cth3pA7Mj_v2Ka9GeOd0Ng</td>\n",
       "      <td>They offered us water to keep cool and the staff was very entertaining .</td>\n",
       "      <td>[very entertaining]</td>\n",
       "      <td>[staff]</td>\n",
       "      <td>...</td>\n",
       "      <td>[friendly and attentive concessions]</td>\n",
       "      <td>Concessions are friendly and attentive .</td>\n",
       "      <td>0.48531198501586914</td>\n",
       "      <td>0.0</td>\n",
       "      <td>NaN</td>\n",
       "      <td>NaN</td>\n",
       "      <td>NaN</td>\n",
       "      <td>995970_2##999990_2</td>\n",
       "      <td>[positive]</td>\n",
       "      <td>[positive]</td>\n",
       "    </tr>\n",
       "  </tbody>\n",
       "</table>\n",
       "<p>58289 rows × 31 columns</p>\n",
       "</div>"
      ],
      "text/plain": [
       "        index level_1                domain  \\\n",
       "1      487383       2                Hotels   \n",
       "3      487385       0                Hotels   \n",
       "4      487385       0                Hotels   \n",
       "27     487386       3                Hotels   \n",
       "28     487386       3                Hotels   \n",
       "...       ...     ...                   ...   \n",
       "50051  880945       1  Arts & Entertainment   \n",
       "50052  929246       2  Arts & Entertainment   \n",
       "50053  901588       0  Arts & Entertainment   \n",
       "50054  842226       3  Arts & Entertainment   \n",
       "50055  995970       2  Arts & Entertainment   \n",
       "\n",
       "                                                                                                                                                                       categories_list  \\\n",
       "1                                                                                                  ['Event Planning & Services', 'Venues & Event Spaces', 'Hotels', 'Hotels & Travel']   \n",
       "3                                                                                                  ['Event Planning & Services', 'Venues & Event Spaces', 'Hotels', 'Hotels & Travel']   \n",
       "4                                                                                                  ['Event Planning & Services', 'Venues & Event Spaces', 'Hotels', 'Hotels & Travel']   \n",
       "27                                                                                                 ['Event Planning & Services', 'Venues & Event Spaces', 'Hotels', 'Hotels & Travel']   \n",
       "28                                                                                                 ['Event Planning & Services', 'Venues & Event Spaces', 'Hotels', 'Hotels & Travel']   \n",
       "...                                                                                                                                                                                ...   \n",
       "50051                                                                                                                                      ['Performing Arts', 'Arts & Entertainment']   \n",
       "50052                                                                                                                                               ['Cinema', 'Arts & Entertainment']   \n",
       "50053                                                                                                  ['Casinos', 'Nightlife', 'Arts & Entertainment', 'Bars', 'Adult Entertainment']   \n",
       "50054  ['Arts & Entertainment', 'Arcades', 'Active Life', 'Venues & Event Spaces', 'Party & Event Planning', 'Amusement Parks', 'Event Planning & Services', 'Mini Golf', 'Laser Tag']   \n",
       "50055                                                                       ['Amusement Parks', 'Arts & Entertainment', 'Race Tracks', 'Racing Experience', 'Go Karts', 'Active Life']   \n",
       "\n",
       "                                                                                                                                                        categories  \\\n",
       "1                                                                                        Event Planning & Services, Venues & Event Spaces, Hotels, Hotels & Travel   \n",
       "3                                                                                        Event Planning & Services, Venues & Event Spaces, Hotels, Hotels & Travel   \n",
       "4                                                                                        Event Planning & Services, Venues & Event Spaces, Hotels, Hotels & Travel   \n",
       "27                                                                                       Event Planning & Services, Venues & Event Spaces, Hotels, Hotels & Travel   \n",
       "28                                                                                       Event Planning & Services, Venues & Event Spaces, Hotels, Hotels & Travel   \n",
       "...                                                                                                                                                            ...   \n",
       "50051                                                                                                                        Performing Arts, Arts & Entertainment   \n",
       "50052                                                                                                                                 Cinema, Arts & Entertainment   \n",
       "50053                                                                                          Casinos, Nightlife, Arts & Entertainment, Bars, Adult Entertainment   \n",
       "50054  Arts & Entertainment, Arcades, Active Life, Venues & Event Spaces, Party & Event Planning, Amusement Parks, Event Planning & Services, Mini Golf, Laser Tag   \n",
       "50055                                                                 Amusement Parks, Arts & Entertainment, Race Tracks, Racing Experience, Go Karts, Active Life   \n",
       "\n",
       "                                name             business_id  \\\n",
       "1      Sheraton Centre Toronto Hotel  M7FOXsuEuRbwEfxUrNKv5w   \n",
       "3      Sheraton Centre Toronto Hotel  M7FOXsuEuRbwEfxUrNKv5w   \n",
       "4      Sheraton Centre Toronto Hotel  M7FOXsuEuRbwEfxUrNKv5w   \n",
       "27     Sheraton Centre Toronto Hotel  M7FOXsuEuRbwEfxUrNKv5w   \n",
       "28     Sheraton Centre Toronto Hotel  M7FOXsuEuRbwEfxUrNKv5w   \n",
       "...                              ...                     ...   \n",
       "50051                   Rock of Ages  _F3AMoo_zdl-he384ISQbw   \n",
       "50052               Cinemark Mesa 16  lqCJiHlxzRpuYt-u_XQUvg   \n",
       "50053                   Playboy Club  3g8zzg_5__kXMUM-8F6V1w   \n",
       "50054                 King Putt Mini  EH3yMY64M0AQNpPj3EERWQ   \n",
       "50055   Gene Woods Racing Experience  cth3pA7Mj_v2Ka9GeOd0Ng   \n",
       "\n",
       "                                                                                               sentences  \\\n",
       "1                                                                                     Free WiFi in lobby   \n",
       "3                                 Been staying at this hotel for years now and still enjoy the place .     \n",
       "4                                 Been staying at this hotel for years now and still enjoy the place .     \n",
       "27                                                                                  Staff was friendly .   \n",
       "28                                                                                  Staff was friendly .   \n",
       "...                                                                                                  ...   \n",
       "50051                                                 Ushers are all standby to guide you to the seats .   \n",
       "50052  Management was horrible and I 'm beyond disappointed with how rude and unprofessional they were !   \n",
       "50053                                                                                     Sexy dealers .   \n",
       "50054                                                                  Their staff is freaking awesome .   \n",
       "50055                           They offered us water to keep cool and the staff was very entertaining .   \n",
       "\n",
       "                opinions_x     aspects_x  ...  \\\n",
       "1                   [free]        [wifi]  ...   \n",
       "3                  [enjoy]       [place]  ...   \n",
       "4                  [enjoy]       [place]  ...   \n",
       "27              [friendly]       [staff]  ...   \n",
       "28              [friendly]       [staff]  ...   \n",
       "...                    ...           ...  ...   \n",
       "50051            [standby]      [ushers]  ...   \n",
       "50052           [horrible]  [management]  ...   \n",
       "50053               [sexy]     [dealers]  ...   \n",
       "50054   [freaking awesome]       [staff]  ...   \n",
       "50055  [very entertaining]       [staff]  ...   \n",
       "\n",
       "                          opinion_phrases_y  \\\n",
       "1                          [very fast wifi]   \n",
       "3                   [family friendly place]   \n",
       "4                   [family oriented place]   \n",
       "27                 [above and beyond staff]   \n",
       "28                          [amazing staff]   \n",
       "...                                     ...   \n",
       "50051  [friendly and attentive concessions]   \n",
       "50052  [friendly and attentive concessions]   \n",
       "50053  [friendly and attentive concessions]   \n",
       "50054  [friendly and attentive concessions]   \n",
       "50055  [friendly and attentive concessions]   \n",
       "\n",
       "                                       key_point       predicted_WA_y label  \\\n",
       "1                  Wifi was very fast ~ 20MBps .   0.5944222211837769   1.0   \n",
       "3      Relaxed , quiet , family friendly place .   0.5604457855224609   1.0   \n",
       "4           Definitely a family oriented place .     0.43907630443573   1.0   \n",
       "27                 Staff goes above and beyond .   0.5060063004493713   1.0   \n",
       "28            Amazing staff & customer service .   0.5119611024856567   1.0   \n",
       "...                                          ...                  ...   ...   \n",
       "50051   Concessions are friendly and attentive .  0.48531198501586914   0.0   \n",
       "50052   Concessions are friendly and attentive .  0.48531198501586914   0.0   \n",
       "50053   Concessions are friendly and attentive .  0.48531198501586914   0.0   \n",
       "50054   Concessions are friendly and attentive .  0.48531198501586914   0.0   \n",
       "50055   Concessions are friendly and attentive .  0.48531198501586914   0.0   \n",
       "\n",
       "      aspects_similarity aspects_x_len aspects_y_len             id_pair  \\\n",
       "1                    NaN           NaN           NaN  487383_2##702558_5   \n",
       "3                    NaN           NaN           NaN  487385_0##777430_1   \n",
       "4                    NaN           NaN           NaN  487385_0##511294_4   \n",
       "27                   NaN           NaN           NaN  487386_3##922097_1   \n",
       "28                   NaN           NaN           NaN  487386_3##884704_1   \n",
       "...                  ...           ...           ...                 ...   \n",
       "50051                NaN           NaN           NaN  880945_1##999990_2   \n",
       "50052                NaN           NaN           NaN  929246_2##999990_2   \n",
       "50053                NaN           NaN           NaN  901588_0##999990_2   \n",
       "50054                NaN           NaN           NaN  842226_3##999990_2   \n",
       "50055                NaN           NaN           NaN  995970_2##999990_2   \n",
       "\n",
       "      sentiments_x sentiments_y  \n",
       "1       [positive]   [positive]  \n",
       "3       [positive]   [positive]  \n",
       "4       [positive]   [positive]  \n",
       "27      [positive]   [positive]  \n",
       "28      [positive]   [positive]  \n",
       "...            ...          ...  \n",
       "50051   [negative]   [positive]  \n",
       "50052   [negative]   [positive]  \n",
       "50053   [positive]   [positive]  \n",
       "50054   [positive]   [positive]  \n",
       "50055   [positive]   [positive]  \n",
       "\n",
       "[58289 rows x 31 columns]"
      ]
     },
     "execution_count": 6,
     "metadata": {},
     "output_type": "execute_result"
    }
   ],
   "source": [
    "rev_kp_dataset_df"
   ]
  },
  {
   "cell_type": "code",
   "execution_count": 7,
   "id": "d2278d99",
   "metadata": {
    "pycharm": {
     "name": "#%%\n"
    }
   },
   "outputs": [],
   "source": [
    "rev_kp_dataset_df = rev_kp_dataset_df.rename(columns={'attributes': 'topic', 'sentences': 'text'})\n",
    "rev_kp_dataset_df['topic'] = rev_kp_dataset_df['topic'].apply(lambda x: ','.join(x))"
   ]
  },
  {
   "cell_type": "markdown",
   "id": "65a51c73",
   "metadata": {
    "pycharm": {
     "name": "#%% md\n"
    }
   },
   "source": [
    "# Prepare Contrastive Input"
   ]
  },
  {
   "cell_type": "code",
   "execution_count": 8,
   "id": "eee39e8f",
   "metadata": {
    "pycharm": {
     "name": "#%%\n"
    }
   },
   "outputs": [],
   "source": [
    "rev_kp_dataset_df = rev_kp_dataset_df.rename(columns={'text': 'full_comment', 'key_point': 'full_keypoint'})"
   ]
  },
  {
   "cell_type": "code",
   "execution_count": 9,
   "id": "708ad724",
   "metadata": {
    "pycharm": {
     "name": "#%%\n"
    }
   },
   "outputs": [],
   "source": [
    "def prepare_contrastive_input(row):\n",
    "    return row.iloc[0][0] + ' <SEP> ' + row.iloc[1][0]"
   ]
  },
  {
   "cell_type": "code",
   "execution_count": 10,
   "id": "703882f2",
   "metadata": {
    "pycharm": {
     "name": "#%%\n"
    }
   },
   "outputs": [
    {
     "data": {
      "text/html": [
       "<div>\n",
       "<style scoped>\n",
       "    .dataframe tbody tr th:only-of-type {\n",
       "        vertical-align: middle;\n",
       "    }\n",
       "\n",
       "    .dataframe tbody tr th {\n",
       "        vertical-align: top;\n",
       "    }\n",
       "\n",
       "    .dataframe thead th {\n",
       "        text-align: right;\n",
       "    }\n",
       "</style>\n",
       "<table border=\"1\" class=\"dataframe\">\n",
       "  <thead>\n",
       "    <tr style=\"text-align: right;\">\n",
       "      <th></th>\n",
       "      <th>comment</th>\n",
       "      <th>keypoint</th>\n",
       "    </tr>\n",
       "  </thead>\n",
       "  <tbody>\n",
       "    <tr>\n",
       "      <th>1</th>\n",
       "      <td>free wifi &lt;SEP&gt; positive</td>\n",
       "      <td>very fast wifi &lt;SEP&gt; positive</td>\n",
       "    </tr>\n",
       "    <tr>\n",
       "      <th>3</th>\n",
       "      <td>enjoy place &lt;SEP&gt; positive</td>\n",
       "      <td>family friendly place &lt;SEP&gt; positive</td>\n",
       "    </tr>\n",
       "    <tr>\n",
       "      <th>4</th>\n",
       "      <td>enjoy place &lt;SEP&gt; positive</td>\n",
       "      <td>family oriented place &lt;SEP&gt; positive</td>\n",
       "    </tr>\n",
       "    <tr>\n",
       "      <th>27</th>\n",
       "      <td>friendly staff &lt;SEP&gt; positive</td>\n",
       "      <td>above and beyond staff &lt;SEP&gt; positive</td>\n",
       "    </tr>\n",
       "    <tr>\n",
       "      <th>28</th>\n",
       "      <td>friendly staff &lt;SEP&gt; positive</td>\n",
       "      <td>amazing staff &lt;SEP&gt; positive</td>\n",
       "    </tr>\n",
       "    <tr>\n",
       "      <th>...</th>\n",
       "      <td>...</td>\n",
       "      <td>...</td>\n",
       "    </tr>\n",
       "    <tr>\n",
       "      <th>50051</th>\n",
       "      <td>standby ushers &lt;SEP&gt; negative</td>\n",
       "      <td>friendly and attentive concessions &lt;SEP&gt; positive</td>\n",
       "    </tr>\n",
       "    <tr>\n",
       "      <th>50052</th>\n",
       "      <td>horrible management &lt;SEP&gt; negative</td>\n",
       "      <td>friendly and attentive concessions &lt;SEP&gt; positive</td>\n",
       "    </tr>\n",
       "    <tr>\n",
       "      <th>50053</th>\n",
       "      <td>sexy dealers &lt;SEP&gt; positive</td>\n",
       "      <td>friendly and attentive concessions &lt;SEP&gt; positive</td>\n",
       "    </tr>\n",
       "    <tr>\n",
       "      <th>50054</th>\n",
       "      <td>freaking awesome staff &lt;SEP&gt; positive</td>\n",
       "      <td>friendly and attentive concessions &lt;SEP&gt; positive</td>\n",
       "    </tr>\n",
       "    <tr>\n",
       "      <th>50055</th>\n",
       "      <td>very entertaining staff &lt;SEP&gt; positive</td>\n",
       "      <td>friendly and attentive concessions &lt;SEP&gt; positive</td>\n",
       "    </tr>\n",
       "  </tbody>\n",
       "</table>\n",
       "<p>58289 rows × 2 columns</p>\n",
       "</div>"
      ],
      "text/plain": [
       "                                      comment  \\\n",
       "1                    free wifi <SEP> positive   \n",
       "3                  enjoy place <SEP> positive   \n",
       "4                  enjoy place <SEP> positive   \n",
       "27              friendly staff <SEP> positive   \n",
       "28              friendly staff <SEP> positive   \n",
       "...                                       ...   \n",
       "50051           standby ushers <SEP> negative   \n",
       "50052      horrible management <SEP> negative   \n",
       "50053             sexy dealers <SEP> positive   \n",
       "50054   freaking awesome staff <SEP> positive   \n",
       "50055  very entertaining staff <SEP> positive   \n",
       "\n",
       "                                                keypoint  \n",
       "1                          very fast wifi <SEP> positive  \n",
       "3                   family friendly place <SEP> positive  \n",
       "4                   family oriented place <SEP> positive  \n",
       "27                 above and beyond staff <SEP> positive  \n",
       "28                          amazing staff <SEP> positive  \n",
       "...                                                  ...  \n",
       "50051  friendly and attentive concessions <SEP> positive  \n",
       "50052  friendly and attentive concessions <SEP> positive  \n",
       "50053  friendly and attentive concessions <SEP> positive  \n",
       "50054  friendly and attentive concessions <SEP> positive  \n",
       "50055  friendly and attentive concessions <SEP> positive  \n",
       "\n",
       "[58289 rows x 2 columns]"
      ]
     },
     "execution_count": 10,
     "metadata": {},
     "output_type": "execute_result"
    }
   ],
   "source": [
    "rev_kp_dataset_df['comment'] = rev_kp_dataset_df[['opinion_phrases_x', 'sentiments_x']].apply(prepare_contrastive_input, axis=1)\n",
    "rev_kp_dataset_df['keypoint'] = rev_kp_dataset_df[['opinion_phrases_y', 'sentiments_y']].apply(prepare_contrastive_input, axis=1)\n",
    "rev_kp_dataset_df[['comment', 'keypoint']]"
   ]
  },
  {
   "cell_type": "markdown",
   "id": "fa66b8b1",
   "metadata": {},
   "source": [
    "# Business Category Split"
   ]
  },
  {
   "cell_type": "markdown",
   "id": "a1e048c7",
   "metadata": {},
   "source": [
    "Create train/val split set on each category. Train on full, val on part of train"
   ]
  },
  {
   "cell_type": "code",
   "execution_count": 11,
   "id": "2922602a",
   "metadata": {},
   "outputs": [
    {
     "data": {
      "text/plain": [
       "Index(['index', 'level_1', 'domain', 'categories_list', 'categories', 'name',\n",
       "       'business_id', 'full_comment', 'opinions_x', 'aspects_x',\n",
       "       'opinion_phrases_x', 'sid', 'topic', 'opinion_aspect_pos', 'aspect_pos',\n",
       "       'num_of_token', 'predicted_WA_x', 'id_x', 'id_y', 'aspects_y',\n",
       "       'opinions_y', 'opinion_phrases_y', 'full_keypoint', 'predicted_WA_y',\n",
       "       'label', 'aspects_similarity', 'aspects_x_len', 'aspects_y_len',\n",
       "       'id_pair', 'sentiments_x', 'sentiments_y', 'comment', 'keypoint'],\n",
       "      dtype='object')"
      ]
     },
     "execution_count": 11,
     "metadata": {},
     "output_type": "execute_result"
    }
   ],
   "source": [
    "rev_kp_dataset_df.columns"
   ]
  },
  {
   "cell_type": "code",
   "execution_count": 12,
   "id": "c1ad404e",
   "metadata": {},
   "outputs": [],
   "source": [
    "dataset = Dataset.from_pandas(rev_kp_dataset_df[['topic', 'full_comment', 'full_keypoint', 'comment', 'keypoint', 'domain', 'predicted_WA_x', 'predicted_WA_y',\n",
    "                                                 'label']]).shuffle(seed=42)"
   ]
  },
  {
   "cell_type": "code",
   "execution_count": 13,
   "id": "b4cec3e9",
   "metadata": {},
   "outputs": [
    {
     "name": "stderr",
     "output_type": "stream",
     "text": [
      "/home/an/anaconda3/envs/deep_learning_env_2/lib/python3.9/site-packages/scipy/__init__.py:146: UserWarning: A NumPy version >=1.16.5 and <1.23.0 is required for this version of SciPy (detected version 1.23.5\n",
      "  warnings.warn(f\"A NumPy version >={np_minversion} and <{np_maxversion}\"\n"
     ]
    },
    {
     "name": "stdout",
     "output_type": "stream",
     "text": [
      "VAL CLASSES:  2\n",
      "13\n",
      "2\n"
     ]
    }
   ],
   "source": [
    "from sklearn.model_selection import KFold, GroupKFold\n",
    "from sklearn.model_selection import GroupShuffleSplit, ShuffleSplit\n",
    "\n",
    "k = 6\n",
    "groups = dataset['topic']\n",
    "gss = GroupShuffleSplit(n_splits=1, train_size=0.85, random_state=32)\n",
    "\n",
    "for train_idx, val_idx in gss.split(dataset, groups=groups):\n",
    "    dataset.set_format(\"pandas\")\n",
    "    d = dataset[val_idx][:]\n",
    "    print(\"VAL CLASSES: \", len(d['topic'].unique()))\n",
    "    dataset.set_format(None)\n",
    "    \n",
    "    # Define data loaders for training and testing data in this fold\n",
    "    train_dataset = dataset\n",
    "    val_dataset = Dataset.from_dict(dataset[val_idx])\n",
    "    \n",
    "    train_dataset.set_format(\"pandas\")\n",
    "    d = train_dataset[:]\n",
    "    print(len(d['topic'].unique()))\n",
    "    train_dataset.set_format(None)\n",
    "\n",
    "    val_dataset.set_format(\"pandas\")\n",
    "    d = val_dataset[:]\n",
    "    print(len(d['topic'].unique()))\n",
    "    val_dataset.set_format(None)"
   ]
  },
  {
   "cell_type": "code",
   "execution_count": 14,
   "id": "1b947f96",
   "metadata": {},
   "outputs": [],
   "source": [
    "full_datasets = DatasetDict({\n",
    "        \"train\": train_dataset,\n",
    "        \"valid\": val_dataset})"
   ]
  },
  {
   "cell_type": "markdown",
   "id": "0bbf79b4",
   "metadata": {},
   "source": [
    "Create datasets on each business category"
   ]
  },
  {
   "cell_type": "markdown",
   "id": "de78ea8f",
   "metadata": {},
   "source": [
    "## In-Catgegory Split"
   ]
  },
  {
   "cell_type": "code",
   "execution_count": 15,
   "id": "9ec4112b",
   "metadata": {},
   "outputs": [
    {
     "data": {
      "application/vnd.jupyter.widget-view+json": {
       "model_id": "6277f5b7cf1447f4b2de7e4e708b3fa1",
       "version_major": 2,
       "version_minor": 0
      },
      "text/plain": [
       "  0%|          | 0/59 [00:00<?, ?ba/s]"
      ]
     },
     "metadata": {},
     "output_type": "display_data"
    },
    {
     "data": {
      "application/vnd.jupyter.widget-view+json": {
       "model_id": "426c4f5c3ef149e2b600ce6e36140805",
       "version_major": 2,
       "version_minor": 0
      },
      "text/plain": [
       "  0%|          | 0/2 [00:00<?, ?ba/s]"
      ]
     },
     "metadata": {},
     "output_type": "display_data"
    },
    {
     "data": {
      "application/vnd.jupyter.widget-view+json": {
       "model_id": "236dfe45ed8147e68d36d89d3c57f015",
       "version_major": 2,
       "version_minor": 0
      },
      "text/plain": [
       "  0%|          | 0/59 [00:00<?, ?ba/s]"
      ]
     },
     "metadata": {},
     "output_type": "display_data"
    },
    {
     "data": {
      "application/vnd.jupyter.widget-view+json": {
       "model_id": "0c253495211a4c35a9c0fad2c28ca3b8",
       "version_major": 2,
       "version_minor": 0
      },
      "text/plain": [
       "  0%|          | 0/2 [00:00<?, ?ba/s]"
      ]
     },
     "metadata": {},
     "output_type": "display_data"
    },
    {
     "data": {
      "application/vnd.jupyter.widget-view+json": {
       "model_id": "b514706770e24e83844940aec716b15c",
       "version_major": 2,
       "version_minor": 0
      },
      "text/plain": [
       "  0%|          | 0/59 [00:00<?, ?ba/s]"
      ]
     },
     "metadata": {},
     "output_type": "display_data"
    },
    {
     "data": {
      "application/vnd.jupyter.widget-view+json": {
       "model_id": "aa892d39a0574878a0cacb3fb807ff9f",
       "version_major": 2,
       "version_minor": 0
      },
      "text/plain": [
       "  0%|          | 0/2 [00:00<?, ?ba/s]"
      ]
     },
     "metadata": {},
     "output_type": "display_data"
    },
    {
     "data": {
      "application/vnd.jupyter.widget-view+json": {
       "model_id": "00368324cfc64ed69bee51f9fe166f0f",
       "version_major": 2,
       "version_minor": 0
      },
      "text/plain": [
       "  0%|          | 0/59 [00:00<?, ?ba/s]"
      ]
     },
     "metadata": {},
     "output_type": "display_data"
    },
    {
     "data": {
      "application/vnd.jupyter.widget-view+json": {
       "model_id": "ecdc0bd4fd0447f6ac20b5ef94ed6077",
       "version_major": 2,
       "version_minor": 0
      },
      "text/plain": [
       "  0%|          | 0/2 [00:00<?, ?ba/s]"
      ]
     },
     "metadata": {},
     "output_type": "display_data"
    },
    {
     "data": {
      "application/vnd.jupyter.widget-view+json": {
       "model_id": "e12e6a3788a74b6fb909fdd138992e04",
       "version_major": 2,
       "version_minor": 0
      },
      "text/plain": [
       "  0%|          | 0/59 [00:00<?, ?ba/s]"
      ]
     },
     "metadata": {},
     "output_type": "display_data"
    },
    {
     "data": {
      "application/vnd.jupyter.widget-view+json": {
       "model_id": "9358df7909c94a698ad0f05647129242",
       "version_major": 2,
       "version_minor": 0
      },
      "text/plain": [
       "  0%|          | 0/2 [00:00<?, ?ba/s]"
      ]
     },
     "metadata": {},
     "output_type": "display_data"
    }
   ],
   "source": [
    "domain_datasets = DatasetDict()\n",
    "for domain in rev_kp_dataset_df['domain'].unique():\n",
    "    domain_datasets[domain] = full_datasets.filter(lambda examples: examples['domain'] == domain)"
   ]
  },
  {
   "cell_type": "code",
   "execution_count": 16,
   "id": "96c03d2d",
   "metadata": {},
   "outputs": [],
   "source": [
    "from sklearn.model_selection import KFold, GroupKFold\n",
    "from sklearn.model_selection import GroupShuffleSplit, ShuffleSplit\n",
    "\n",
    "for domain in domain_datasets.keys():\n",
    "    domain_dataset = domain_datasets[domain]\n",
    "    if len(domain_dataset['valid']) == 0:\n",
    "        groups = domain_dataset['train']['topic']\n",
    "        gss = GroupShuffleSplit(n_splits=1, train_size=0.85, random_state=32)\n",
    "        for train_idx, val_idx in gss.split(domain_dataset['train'], groups=groups):\n",
    "            domain_dataset['train'].set_format(None)\n",
    "            new_val_dataset = Dataset.from_dict(domain_dataset['train'][val_idx])\n",
    "            domain_dataset['valid'] = new_val_dataset"
   ]
  },
  {
   "cell_type": "code",
   "execution_count": 17,
   "id": "1ebc7793",
   "metadata": {},
   "outputs": [
    {
     "data": {
      "text/plain": [
       "DatasetDict({\n",
       "    Hotels: DatasetDict({\n",
       "        train: Dataset({\n",
       "            features: ['topic', 'full_comment', 'full_keypoint', 'comment', 'keypoint', 'domain', 'predicted_WA_x', 'predicted_WA_y', 'label', '__index_level_0__'],\n",
       "            num_rows: 14562\n",
       "        })\n",
       "        valid: Dataset({\n",
       "            features: ['topic', 'full_comment', 'full_keypoint', 'comment', 'keypoint', 'domain', 'predicted_WA_x', 'predicted_WA_y', 'label', '__index_level_0__'],\n",
       "            num_rows: 519\n",
       "        })\n",
       "    })\n",
       "    Arts & Entertainment: DatasetDict({\n",
       "        train: Dataset({\n",
       "            features: ['topic', 'full_comment', 'full_keypoint', 'comment', 'keypoint', 'domain', 'predicted_WA_x', 'predicted_WA_y', 'label', '__index_level_0__'],\n",
       "            num_rows: 8539\n",
       "        })\n",
       "        valid: Dataset({\n",
       "            features: ['topic', 'full_comment', 'full_keypoint', 'comment', 'keypoint', 'domain', 'predicted_WA_x', 'predicted_WA_y', 'label', '__index_level_0__'],\n",
       "            num_rows: 550\n",
       "        })\n",
       "    })\n",
       "    Beauty & Spas: DatasetDict({\n",
       "        train: Dataset({\n",
       "            features: ['topic', 'full_comment', 'full_keypoint', 'comment', 'keypoint', 'domain', 'predicted_WA_x', 'predicted_WA_y', 'label', '__index_level_0__'],\n",
       "            num_rows: 7995\n",
       "        })\n",
       "        valid: Dataset({\n",
       "            features: ['topic', 'full_comment', 'full_keypoint', 'comment', 'keypoint', 'domain', 'predicted_WA_x', 'predicted_WA_y', 'label', '__index_level_0__'],\n",
       "            num_rows: 829\n",
       "        })\n",
       "    })\n",
       "    Automotive: DatasetDict({\n",
       "        train: Dataset({\n",
       "            features: ['topic', 'full_comment', 'full_keypoint', 'comment', 'keypoint', 'domain', 'predicted_WA_x', 'predicted_WA_y', 'label', '__index_level_0__'],\n",
       "            num_rows: 6564\n",
       "        })\n",
       "        valid: Dataset({\n",
       "            features: ['topic', 'full_comment', 'full_keypoint', 'comment', 'keypoint', 'domain', 'predicted_WA_x', 'predicted_WA_y', 'label', '__index_level_0__'],\n",
       "            num_rows: 4\n",
       "        })\n",
       "    })\n",
       "    Restaurants: DatasetDict({\n",
       "        train: Dataset({\n",
       "            features: ['topic', 'full_comment', 'full_keypoint', 'comment', 'keypoint', 'domain', 'predicted_WA_x', 'predicted_WA_y', 'label', '__index_level_0__'],\n",
       "            num_rows: 20629\n",
       "        })\n",
       "        valid: Dataset({\n",
       "            features: ['topic', 'full_comment', 'full_keypoint', 'comment', 'keypoint', 'domain', 'predicted_WA_x', 'predicted_WA_y', 'label', '__index_level_0__'],\n",
       "            num_rows: 495\n",
       "        })\n",
       "    })\n",
       "})"
      ]
     },
     "execution_count": 17,
     "metadata": {},
     "output_type": "execute_result"
    }
   ],
   "source": [
    "domain_datasets"
   ]
  },
  {
   "cell_type": "code",
   "execution_count": 18,
   "id": "f6d59814",
   "metadata": {},
   "outputs": [],
   "source": [
    "for domain in rev_kp_dataset_df.domain.unique():\n",
    "    \n",
    "    datasets = domain_datasets[domain]\n",
    "    contrastive_datasets = datasets\n",
    "    \n",
    "    contrastive_datasets.set_format(\"pandas\")\n",
    "    training_df = contrastive_datasets['train'][:]\n",
    "    valid_df = contrastive_datasets['valid'][:]\n",
    "    \n",
    "    outdir = f'./training_material/siamese-data/in-category/{domain}'\n",
    "    if not os.path.exists(outdir):\n",
    "        os.mkdir(outdir)\n",
    "    \n",
    "    df = training_df[training_df['domain'] == domain].copy()\n",
    "    # df['keypoint'] = df.apply(lambda x: x['topic'] + ' <SEP> ' + x['key_point'], axis=1)\n",
    "    df['label'] = df.label.apply(lambda x: int(x))\n",
    "    df[['comment', 'keypoint', 'domain', 'label']].to_csv(f'{outdir}/training_df_contrastive.csv')\n",
    "\n",
    "    df = valid_df[valid_df['domain'] == domain].copy()\n",
    "    # df['keypoint'] = df.apply(lambda x: x['topic'] + ' <SEP> ' + x['key_point'], axis=1)\n",
    "    df['label'] = df.label.apply(lambda x: int(x))\n",
    "    df[['comment', 'keypoint', 'domain', 'label']].to_csv(f'{outdir}/valid_df_contrastive.csv')"
   ]
  },
  {
   "cell_type": "markdown",
   "id": "f19e5c0b",
   "metadata": {
    "pycharm": {
     "name": "#%% md\n"
    }
   },
   "source": [
    "### Create separate sets of comments/KPs"
   ]
  },
  {
   "cell_type": "code",
   "execution_count": 19,
   "id": "a1adea96",
   "metadata": {},
   "outputs": [
    {
     "data": {
      "application/vnd.jupyter.widget-view+json": {
       "model_id": "4ca63b2cb32f4d7792adeb16854a9e9d",
       "version_major": 2,
       "version_minor": 0
      },
      "text/plain": [
       "  0%|          | 0/15 [00:00<?, ?ba/s]"
      ]
     },
     "metadata": {},
     "output_type": "display_data"
    },
    {
     "data": {
      "application/vnd.jupyter.widget-view+json": {
       "model_id": "87e57e971dac4fa4aa4696a044d23606",
       "version_major": 2,
       "version_minor": 0
      },
      "text/plain": [
       "  0%|          | 0/1 [00:00<?, ?ba/s]"
      ]
     },
     "metadata": {},
     "output_type": "display_data"
    },
    {
     "data": {
      "application/vnd.jupyter.widget-view+json": {
       "model_id": "4352882dfb8e4eb18739617f52ac68e6",
       "version_major": 2,
       "version_minor": 0
      },
      "text/plain": [
       "  0%|          | 0/9 [00:00<?, ?ba/s]"
      ]
     },
     "metadata": {},
     "output_type": "display_data"
    },
    {
     "data": {
      "application/vnd.jupyter.widget-view+json": {
       "model_id": "130ae309bea5436ea09434ea415bd910",
       "version_major": 2,
       "version_minor": 0
      },
      "text/plain": [
       "  0%|          | 0/1 [00:00<?, ?ba/s]"
      ]
     },
     "metadata": {},
     "output_type": "display_data"
    },
    {
     "data": {
      "application/vnd.jupyter.widget-view+json": {
       "model_id": "cca9c8d7bc0c43f3ab19726cd5f0b82c",
       "version_major": 2,
       "version_minor": 0
      },
      "text/plain": [
       "  0%|          | 0/8 [00:00<?, ?ba/s]"
      ]
     },
     "metadata": {},
     "output_type": "display_data"
    },
    {
     "data": {
      "application/vnd.jupyter.widget-view+json": {
       "model_id": "b64e77acb81d4f869a5b3b29b69020aa",
       "version_major": 2,
       "version_minor": 0
      },
      "text/plain": [
       "  0%|          | 0/1 [00:00<?, ?ba/s]"
      ]
     },
     "metadata": {},
     "output_type": "display_data"
    },
    {
     "data": {
      "application/vnd.jupyter.widget-view+json": {
       "model_id": "1b7dc1bd90564d1db79349bda7604afe",
       "version_major": 2,
       "version_minor": 0
      },
      "text/plain": [
       "  0%|          | 0/7 [00:00<?, ?ba/s]"
      ]
     },
     "metadata": {},
     "output_type": "display_data"
    },
    {
     "data": {
      "application/vnd.jupyter.widget-view+json": {
       "model_id": "a9af3e481e3a495f8724e48993e8704a",
       "version_major": 2,
       "version_minor": 0
      },
      "text/plain": [
       "  0%|          | 0/1 [00:00<?, ?ba/s]"
      ]
     },
     "metadata": {},
     "output_type": "display_data"
    },
    {
     "data": {
      "application/vnd.jupyter.widget-view+json": {
       "model_id": "cd50773733234858b93059dbc9dfed12",
       "version_major": 2,
       "version_minor": 0
      },
      "text/plain": [
       "  0%|          | 0/21 [00:00<?, ?ba/s]"
      ]
     },
     "metadata": {},
     "output_type": "display_data"
    },
    {
     "data": {
      "application/vnd.jupyter.widget-view+json": {
       "model_id": "cf0887e5a0d14bd293aab51aeb2c498d",
       "version_major": 2,
       "version_minor": 0
      },
      "text/plain": [
       "  0%|          | 0/1 [00:00<?, ?ba/s]"
      ]
     },
     "metadata": {},
     "output_type": "display_data"
    }
   ],
   "source": [
    "for domain in rev_kp_dataset_df['domain'].unique():\n",
    "    datasets = domain_datasets[domain]\n",
    "    contrastive_datasets = datasets\n",
    "    contrastive_datasets.set_format(\"pandas\")\n",
    "    contrastive_datasets = contrastive_datasets.rename_columns({'full_keypoint': 'full_key_point', 'keypoint': 'key_point'})\n",
    "    \n",
    "    i = 0\n",
    "    curr_topic = \"\"\n",
    "    sub_datasets = contrastive_datasets.filter(lambda examples: examples['domain'] == domain)\n",
    "    outdir = f'./training_material/siamese-data/in-category/{domain}'\n",
    "    if not os.path.exists(outdir):\n",
    "        os.mkdir(outdir)\n",
    "    \n",
    "    for subset, subset_save in zip(['train', 'valid'], ['train', 'dev']):\n",
    "        comments_df, keypoints_df, labels_df = create_arg_kp_label_df(sub_datasets, subset)\n",
    "        comments_df.to_csv(f\"{outdir}/comments_{subset_save}.csv\", index=False)\n",
    "        keypoints_df.to_csv(f\"{outdir}/key_points_{subset_save}.csv\", index=False)\n",
    "        labels_df.to_csv(f\"{outdir}/labels_{subset_save}.csv\", index=False)"
   ]
  },
  {
   "cell_type": "markdown",
   "id": "6dc9a77d",
   "metadata": {},
   "source": [
    "## Out-of-Category Split"
   ]
  },
  {
   "cell_type": "code",
   "execution_count": 20,
   "id": "da311810",
   "metadata": {},
   "outputs": [
    {
     "data": {
      "application/vnd.jupyter.widget-view+json": {
       "model_id": "cd13b0b2646541a8a481a472732f0abb",
       "version_major": 2,
       "version_minor": 0
      },
      "text/plain": [
       "  0%|          | 0/59 [00:00<?, ?ba/s]"
      ]
     },
     "metadata": {},
     "output_type": "display_data"
    },
    {
     "data": {
      "application/vnd.jupyter.widget-view+json": {
       "model_id": "c145ccef95124e73b2798a8f3354f598",
       "version_major": 2,
       "version_minor": 0
      },
      "text/plain": [
       "  0%|          | 0/2 [00:00<?, ?ba/s]"
      ]
     },
     "metadata": {},
     "output_type": "display_data"
    },
    {
     "data": {
      "application/vnd.jupyter.widget-view+json": {
       "model_id": "946b7387fa3a407b9f92affd2875e2e1",
       "version_major": 2,
       "version_minor": 0
      },
      "text/plain": [
       "  0%|          | 0/59 [00:00<?, ?ba/s]"
      ]
     },
     "metadata": {},
     "output_type": "display_data"
    },
    {
     "data": {
      "application/vnd.jupyter.widget-view+json": {
       "model_id": "a382670431a043fd90b166fe8dbc0fc5",
       "version_major": 2,
       "version_minor": 0
      },
      "text/plain": [
       "  0%|          | 0/2 [00:00<?, ?ba/s]"
      ]
     },
     "metadata": {},
     "output_type": "display_data"
    },
    {
     "data": {
      "application/vnd.jupyter.widget-view+json": {
       "model_id": "d0fdc81928e84b398e78e62b3fd6ca78",
       "version_major": 2,
       "version_minor": 0
      },
      "text/plain": [
       "  0%|          | 0/59 [00:00<?, ?ba/s]"
      ]
     },
     "metadata": {},
     "output_type": "display_data"
    },
    {
     "data": {
      "application/vnd.jupyter.widget-view+json": {
       "model_id": "ab5d045990b348ad93fd389208610d3b",
       "version_major": 2,
       "version_minor": 0
      },
      "text/plain": [
       "  0%|          | 0/2 [00:00<?, ?ba/s]"
      ]
     },
     "metadata": {},
     "output_type": "display_data"
    },
    {
     "data": {
      "application/vnd.jupyter.widget-view+json": {
       "model_id": "e82f76ae006d464e8ce9bc796732c2d7",
       "version_major": 2,
       "version_minor": 0
      },
      "text/plain": [
       "  0%|          | 0/59 [00:00<?, ?ba/s]"
      ]
     },
     "metadata": {},
     "output_type": "display_data"
    },
    {
     "data": {
      "application/vnd.jupyter.widget-view+json": {
       "model_id": "8855da0d21c24b699bfbfa750e0e7435",
       "version_major": 2,
       "version_minor": 0
      },
      "text/plain": [
       "  0%|          | 0/2 [00:00<?, ?ba/s]"
      ]
     },
     "metadata": {},
     "output_type": "display_data"
    },
    {
     "data": {
      "application/vnd.jupyter.widget-view+json": {
       "model_id": "e0deffaa467843e08fc33e8853fb68f8",
       "version_major": 2,
       "version_minor": 0
      },
      "text/plain": [
       "  0%|          | 0/59 [00:00<?, ?ba/s]"
      ]
     },
     "metadata": {},
     "output_type": "display_data"
    },
    {
     "data": {
      "application/vnd.jupyter.widget-view+json": {
       "model_id": "8bd3d06746914a9da1d7bd5f2dc78776",
       "version_major": 2,
       "version_minor": 0
      },
      "text/plain": [
       "  0%|          | 0/2 [00:00<?, ?ba/s]"
      ]
     },
     "metadata": {},
     "output_type": "display_data"
    }
   ],
   "source": [
    "domain_datasets = DatasetDict()\n",
    "for domain in rev_kp_dataset_df['domain'].unique():\n",
    "    domain_datasets[domain] = full_datasets.filter(lambda examples: examples['domain'] != domain)"
   ]
  },
  {
   "cell_type": "code",
   "execution_count": 21,
   "id": "cdaef919",
   "metadata": {},
   "outputs": [],
   "source": [
    "for domain in rev_kp_dataset_df.domain.unique():\n",
    "    \n",
    "    datasets = domain_datasets[domain]\n",
    "    contrastive_datasets = datasets\n",
    "    \n",
    "    contrastive_datasets.set_format(\"pandas\")\n",
    "    training_df = contrastive_datasets['train'][:]\n",
    "    valid_df = contrastive_datasets['valid'][:]\n",
    "    \n",
    "    outdir = f'./training_material/siamese-data/out-of-category/{domain}'\n",
    "    if not os.path.exists(outdir):\n",
    "        os.mkdir(outdir)\n",
    "    \n",
    "    df = training_df[training_df['domain'] != domain].copy()\n",
    "    df['label'] = df.label.apply(lambda x: int(x))\n",
    "    df[['comment', 'keypoint', 'domain', 'label']].to_csv(f'{outdir}/training_df_contrastive.csv')\n",
    "\n",
    "    df = valid_df[valid_df['domain'] != domain].copy()\n",
    "    df['label'] = df.label.apply(lambda x: int(x))\n",
    "    df[['comment', 'keypoint', 'domain', 'label']].to_csv(f'{outdir}/valid_df_contrastive.csv')"
   ]
  },
  {
   "cell_type": "markdown",
   "id": "79f5e77f",
   "metadata": {
    "pycharm": {
     "name": "#%% md\n"
    }
   },
   "source": [
    "### Create separate sets of comments/KPs"
   ]
  },
  {
   "cell_type": "code",
   "execution_count": 22,
   "id": "8509249c",
   "metadata": {},
   "outputs": [
    {
     "data": {
      "application/vnd.jupyter.widget-view+json": {
       "model_id": "aec80af4aea049c68e23254ae19edd88",
       "version_major": 2,
       "version_minor": 0
      },
      "text/plain": [
       "  0%|          | 0/44 [00:00<?, ?ba/s]"
      ]
     },
     "metadata": {},
     "output_type": "display_data"
    },
    {
     "data": {
      "application/vnd.jupyter.widget-view+json": {
       "model_id": "7948238dbac84733a79dc2fed5db86e6",
       "version_major": 2,
       "version_minor": 0
      },
      "text/plain": [
       "  0%|          | 0/2 [00:00<?, ?ba/s]"
      ]
     },
     "metadata": {},
     "output_type": "display_data"
    },
    {
     "data": {
      "application/vnd.jupyter.widget-view+json": {
       "model_id": "198626874dc647b79ae92711cc3bfc98",
       "version_major": 2,
       "version_minor": 0
      },
      "text/plain": [
       "  0%|          | 0/50 [00:00<?, ?ba/s]"
      ]
     },
     "metadata": {},
     "output_type": "display_data"
    },
    {
     "data": {
      "application/vnd.jupyter.widget-view+json": {
       "model_id": "5d10ecbd40eb472f80ed6dde8372894b",
       "version_major": 2,
       "version_minor": 0
      },
      "text/plain": [
       "  0%|          | 0/2 [00:00<?, ?ba/s]"
      ]
     },
     "metadata": {},
     "output_type": "display_data"
    },
    {
     "data": {
      "application/vnd.jupyter.widget-view+json": {
       "model_id": "e2f8d8ff72a148158b1ba9d5cfaca606",
       "version_major": 2,
       "version_minor": 0
      },
      "text/plain": [
       "  0%|          | 0/51 [00:00<?, ?ba/s]"
      ]
     },
     "metadata": {},
     "output_type": "display_data"
    },
    {
     "data": {
      "application/vnd.jupyter.widget-view+json": {
       "model_id": "57d3ebefa8594d17ae77985ee7274cc8",
       "version_major": 2,
       "version_minor": 0
      },
      "text/plain": [
       "  0%|          | 0/2 [00:00<?, ?ba/s]"
      ]
     },
     "metadata": {},
     "output_type": "display_data"
    },
    {
     "data": {
      "application/vnd.jupyter.widget-view+json": {
       "model_id": "b7eb4aa196b5449aa5ee9f6ebcb68a6b",
       "version_major": 2,
       "version_minor": 0
      },
      "text/plain": [
       "  0%|          | 0/52 [00:00<?, ?ba/s]"
      ]
     },
     "metadata": {},
     "output_type": "display_data"
    },
    {
     "data": {
      "application/vnd.jupyter.widget-view+json": {
       "model_id": "baa2e0111a7f4efc8bcba642893070dd",
       "version_major": 2,
       "version_minor": 0
      },
      "text/plain": [
       "  0%|          | 0/2 [00:00<?, ?ba/s]"
      ]
     },
     "metadata": {},
     "output_type": "display_data"
    },
    {
     "data": {
      "application/vnd.jupyter.widget-view+json": {
       "model_id": "86ae87ce71874cbb8bb091348eb84b82",
       "version_major": 2,
       "version_minor": 0
      },
      "text/plain": [
       "  0%|          | 0/38 [00:00<?, ?ba/s]"
      ]
     },
     "metadata": {},
     "output_type": "display_data"
    },
    {
     "data": {
      "application/vnd.jupyter.widget-view+json": {
       "model_id": "ba39a49d26fd45398747720032b7ec8d",
       "version_major": 2,
       "version_minor": 0
      },
      "text/plain": [
       "  0%|          | 0/2 [00:00<?, ?ba/s]"
      ]
     },
     "metadata": {},
     "output_type": "display_data"
    }
   ],
   "source": [
    "for domain in rev_kp_dataset_df['domain'].unique():\n",
    "    datasets = domain_datasets[domain]\n",
    "    contrastive_datasets = datasets\n",
    "    contrastive_datasets.set_format(\"pandas\")\n",
    "    contrastive_datasets = contrastive_datasets.rename_columns({'full_keypoint': 'full_key_point', 'keypoint': 'key_point'})\n",
    "    \n",
    "    i = 0\n",
    "    curr_topic = \"\"\n",
    "    sub_datasets = contrastive_datasets.filter(lambda examples: examples['domain'] != domain)\n",
    "    outdir = f'./training_material/siamese-data/out-of-category/{domain}'\n",
    "    if not os.path.exists(outdir):\n",
    "        os.mkdir(outdir)\n",
    "    \n",
    "    for subset, subset_save in zip(['train', 'valid'], ['train', 'dev']):\n",
    "        comments_df, keypoints_df, labels_df = create_arg_kp_label_df(sub_datasets, subset)\n",
    "        comments_df.to_csv(f\"{outdir}/comments_{subset_save}.csv\", index=False)\n",
    "        keypoints_df.to_csv(f\"{outdir}/key_points_{subset_save}.csv\", index=False)    \n",
    "        labels_df.to_csv(f\"{outdir}/labels_{subset_save}.csv\", index=False)    "
   ]
  },
  {
   "cell_type": "code",
   "execution_count": null,
   "id": "1e915b63",
   "metadata": {},
   "outputs": [],
   "source": []
  }
 ],
 "metadata": {
  "kernelspec": {
   "display_name": "Python 3 (ipykernel)",
   "language": "python",
   "name": "python3"
  },
  "language_info": {
   "codemirror_mode": {
    "name": "ipython",
    "version": 3
   },
   "file_extension": ".py",
   "mimetype": "text/x-python",
   "name": "python",
   "nbconvert_exporter": "python",
   "pygments_lexer": "ipython3",
   "version": "3.9.12"
  },
  "toc": {
   "base_numbering": 1,
   "nav_menu": {},
   "number_sections": true,
   "sideBar": true,
   "skip_h1_title": false,
   "title_cell": "Table of Contents",
   "title_sidebar": "Contents",
   "toc_cell": false,
   "toc_position": {
    "height": "calc(100% - 180px)",
    "left": "10px",
    "top": "150px",
    "width": "372.364px"
   },
   "toc_section_display": true,
   "toc_window_display": true
  }
 },
 "nbformat": 4,
 "nbformat_minor": 5
}
