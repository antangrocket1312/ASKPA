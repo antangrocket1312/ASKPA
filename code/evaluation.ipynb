{
 "cells": [
  {
   "cell_type": "code",
   "execution_count": 1,
   "id": "ce931368",
   "metadata": {
    "pycharm": {
     "name": "#%%\n"
    }
   },
   "outputs": [],
   "source": [
    "import torch\n",
    "torch.cuda.empty_cache()"
   ]
  },
  {
   "cell_type": "code",
   "execution_count": 2,
   "id": "85f9856c",
   "metadata": {
    "pycharm": {
     "name": "#%%\n"
    }
   },
   "outputs": [],
   "source": [
    "import json\n",
    "import pandas as pd\n",
    "import numpy as np\n",
    "import matplotlib.pyplot as plt"
   ]
  },
  {
   "cell_type": "code",
   "execution_count": 3,
   "id": "abe7ad13",
   "metadata": {
    "pycharm": {
     "name": "#%%\n"
    }
   },
   "outputs": [],
   "source": [
    "from sentence_transformers import SentenceTransformer, InputExample, LoggingHandler, losses, models, util\n",
    "import torch"
   ]
  },
  {
   "cell_type": "code",
   "execution_count": 4,
   "id": "7dd5f01a",
   "metadata": {
    "pycharm": {
     "name": "#%%\n"
    }
   },
   "outputs": [],
   "source": [
    "from datasets import concatenate_datasets, load_dataset\n",
    "from datasets import Dataset, DatasetDict"
   ]
  },
  {
   "cell_type": "code",
   "execution_count": 5,
   "id": "bcd1f974",
   "metadata": {},
   "outputs": [],
   "source": [
    "pd.set_option('display.max_colwidth', None)"
   ]
  },
  {
   "cell_type": "markdown",
   "id": "d7fc77e6",
   "metadata": {
    "pycharm": {
     "name": "#%% md\n"
    }
   },
   "source": [
    "# Load Test dataset"
   ]
  },
  {
   "cell_type": "markdown",
   "id": "3a6aea93",
   "metadata": {
    "pycharm": {
     "name": "#%% md\n"
    }
   },
   "source": [
    "Load data with different agreement score for positive labels"
   ]
  },
  {
   "cell_type": "code",
   "execution_count": 6,
   "id": "7a39cc7b",
   "metadata": {
    "pycharm": {
     "name": "#%%\n"
    }
   },
   "outputs": [],
   "source": [
    "agreement_scores = [0.3, 0.4, 0.5, 0.6]"
   ]
  },
  {
   "cell_type": "code",
   "execution_count": 7,
   "id": "f0a210c1",
   "metadata": {
    "pycharm": {
     "name": "#%%\n"
    }
   },
   "outputs": [],
   "source": [
    "dfs = {}"
   ]
  },
  {
   "cell_type": "code",
   "execution_count": 8,
   "id": "76e521c3",
   "metadata": {
    "pycharm": {
     "name": "#%%\n"
    }
   },
   "outputs": [
    {
     "name": "stdout",
     "output_type": "stream",
     "text": [
      "##########\n",
      "AGREEMENT SCORE FOR POSITIVE LABEL: 0.3\n",
      "0    4850\n",
      "1     190\n",
      "Name: label, dtype: int64\n",
      "\n",
      "##########\n",
      "AGREEMENT SCORE FOR POSITIVE LABEL: 0.4\n",
      "0    4912\n",
      "1     128\n",
      "Name: label, dtype: int64\n",
      "\n",
      "##########\n",
      "AGREEMENT SCORE FOR POSITIVE LABEL: 0.5\n",
      "0    4969\n",
      "1      71\n",
      "Name: label, dtype: int64\n",
      "\n",
      "##########\n",
      "AGREEMENT SCORE FOR POSITIVE LABEL: 0.6\n",
      "0    4969\n",
      "1      71\n",
      "Name: label, dtype: int64\n",
      "\n"
     ]
    }
   ],
   "source": [
    "for score in agreement_scores:\n",
    "    df = pd.read_pickle(f\"../data/Evaluation/test_data_agreement_{score}.pkl\")\n",
    "    dfs[score] = df\n",
    "    \n",
    "    print(\"##########\")\n",
    "    print(f\"AGREEMENT SCORE FOR POSITIVE LABEL: {score}\")\n",
    "    print(df['label'].value_counts())\n",
    "    print()"
   ]
  },
  {
   "cell_type": "code",
   "execution_count": 9,
   "id": "e0d540c2",
   "metadata": {
    "pycharm": {
     "name": "#%%\n"
    }
   },
   "outputs": [
    {
     "data": {
      "text/html": [
       "<div>\n",
       "<style scoped>\n",
       "    .dataframe tbody tr th:only-of-type {\n",
       "        vertical-align: middle;\n",
       "    }\n",
       "\n",
       "    .dataframe tbody tr th {\n",
       "        vertical-align: top;\n",
       "    }\n",
       "\n",
       "    .dataframe thead th {\n",
       "        text-align: right;\n",
       "    }\n",
       "</style>\n",
       "<table border=\"1\" class=\"dataframe\">\n",
       "  <thead>\n",
       "    <tr style=\"text-align: right;\">\n",
       "      <th></th>\n",
       "      <th>comment_id</th>\n",
       "      <th>label</th>\n",
       "      <th>key_point_id</th>\n",
       "      <th>comment</th>\n",
       "      <th>full_comment</th>\n",
       "      <th>attributes</th>\n",
       "      <th>topic</th>\n",
       "      <th>isMultiAspect</th>\n",
       "      <th>key_point</th>\n",
       "      <th>full_key_point</th>\n",
       "    </tr>\n",
       "  </thead>\n",
       "  <tbody>\n",
       "    <tr>\n",
       "      <th>0</th>\n",
       "      <td>comment_1_12626</td>\n",
       "      <td>1</td>\n",
       "      <td>kp_1_11</td>\n",
       "      <td>[quick and courteous service &lt;SEP&gt; positive]</td>\n",
       "      <td>The service was quick and courteous .</td>\n",
       "      <td>[staff]</td>\n",
       "      <td>restaurant</td>\n",
       "      <td>False</td>\n",
       "      <td>generous servings &lt;SEP&gt; positive</td>\n",
       "      <td>Servings were generous .</td>\n",
       "    </tr>\n",
       "    <tr>\n",
       "      <th>1</th>\n",
       "      <td>comment_1_13411</td>\n",
       "      <td>0</td>\n",
       "      <td>kp_1_11</td>\n",
       "      <td>[always courteous and friendly waitstaff &lt;SEP&gt; positive]</td>\n",
       "      <td>Their waitstaff are always courteous and friendly .</td>\n",
       "      <td>[staff]</td>\n",
       "      <td>restaurant</td>\n",
       "      <td>False</td>\n",
       "      <td>generous servings &lt;SEP&gt; positive</td>\n",
       "      <td>Servings were generous .</td>\n",
       "    </tr>\n",
       "    <tr>\n",
       "      <th>2</th>\n",
       "      <td>comment_1_4972</td>\n",
       "      <td>0</td>\n",
       "      <td>kp_1_11</td>\n",
       "      <td>[overwhelmed waiters &lt;SEP&gt; negative]</td>\n",
       "      <td>I just wish they would be better staffed because the waiters seem overwhelmed .</td>\n",
       "      <td>[staff]</td>\n",
       "      <td>restaurant</td>\n",
       "      <td>False</td>\n",
       "      <td>generous servings &lt;SEP&gt; positive</td>\n",
       "      <td>Servings were generous .</td>\n",
       "    </tr>\n",
       "    <tr>\n",
       "      <th>3</th>\n",
       "      <td>comment_1_10784</td>\n",
       "      <td>0</td>\n",
       "      <td>kp_1_11</td>\n",
       "      <td>[fresh food &lt;SEP&gt; positive]</td>\n",
       "      <td>The food is fresh and innovative without being pretentious .</td>\n",
       "      <td>[food -&gt; quality]</td>\n",
       "      <td>restaurant</td>\n",
       "      <td>False</td>\n",
       "      <td>generous servings &lt;SEP&gt; positive</td>\n",
       "      <td>Servings were generous .</td>\n",
       "    </tr>\n",
       "    <tr>\n",
       "      <th>4</th>\n",
       "      <td>comment_1_6045</td>\n",
       "      <td>0</td>\n",
       "      <td>kp_1_11</td>\n",
       "      <td>[lovely setting &lt;SEP&gt; positive, attentive staff &lt;SEP&gt; positive]</td>\n",
       "      <td>It is a lovely setting with friendly and attentive staff .</td>\n",
       "      <td>[restaurant -&gt; atmosphere, staff]</td>\n",
       "      <td>restaurant</td>\n",
       "      <td>True</td>\n",
       "      <td>generous servings &lt;SEP&gt; positive</td>\n",
       "      <td>Servings were generous .</td>\n",
       "    </tr>\n",
       "    <tr>\n",
       "      <th>...</th>\n",
       "      <td>...</td>\n",
       "      <td>...</td>\n",
       "      <td>...</td>\n",
       "      <td>...</td>\n",
       "      <td>...</td>\n",
       "      <td>...</td>\n",
       "      <td>...</td>\n",
       "      <td>...</td>\n",
       "      <td>...</td>\n",
       "      <td>...</td>\n",
       "    </tr>\n",
       "    <tr>\n",
       "      <th>5035</th>\n",
       "      <td>comment_0_5900</td>\n",
       "      <td>0</td>\n",
       "      <td>kp_0_1</td>\n",
       "      <td>[damp pool area &lt;SEP&gt; negative]</td>\n",
       "      <td>The pool area is damp and suffocating .</td>\n",
       "      <td>[restaurant -&gt; atmosphere]</td>\n",
       "      <td>hotel</td>\n",
       "      <td>False</td>\n",
       "      <td>clean washrooms &lt;SEP&gt; positive</td>\n",
       "      <td>Washrooms clean and modern .</td>\n",
       "    </tr>\n",
       "    <tr>\n",
       "      <th>5036</th>\n",
       "      <td>comment_0_4308</td>\n",
       "      <td>0</td>\n",
       "      <td>kp_0_1</td>\n",
       "      <td>[well appointed rooms &lt;SEP&gt; positive]</td>\n",
       "      <td>Rooms are well appointed and well maintained .</td>\n",
       "      <td>[restaurant -&gt; atmosphere]</td>\n",
       "      <td>hotel</td>\n",
       "      <td>False</td>\n",
       "      <td>clean washrooms &lt;SEP&gt; positive</td>\n",
       "      <td>Washrooms clean and modern .</td>\n",
       "    </tr>\n",
       "    <tr>\n",
       "      <th>5037</th>\n",
       "      <td>comment_0_7934</td>\n",
       "      <td>0</td>\n",
       "      <td>kp_0_1</td>\n",
       "      <td>[worst customer service &lt;SEP&gt; negative]</td>\n",
       "      <td>Worst customer service I 've ever experienced .</td>\n",
       "      <td>[staff]</td>\n",
       "      <td>hotel</td>\n",
       "      <td>False</td>\n",
       "      <td>clean washrooms &lt;SEP&gt; positive</td>\n",
       "      <td>Washrooms clean and modern .</td>\n",
       "    </tr>\n",
       "    <tr>\n",
       "      <th>5038</th>\n",
       "      <td>comment_0_4495</td>\n",
       "      <td>0</td>\n",
       "      <td>kp_0_1</td>\n",
       "      <td>[slow service &lt;SEP&gt; negative, mediocre food &lt;SEP&gt; negative]</td>\n",
       "      <td>Slow service and mediocre food .</td>\n",
       "      <td>[wait-time, food -&gt; quality]</td>\n",
       "      <td>hotel</td>\n",
       "      <td>True</td>\n",
       "      <td>clean washrooms &lt;SEP&gt; positive</td>\n",
       "      <td>Washrooms clean and modern .</td>\n",
       "    </tr>\n",
       "    <tr>\n",
       "      <th>5039</th>\n",
       "      <td>comment_0_3948</td>\n",
       "      <td>0</td>\n",
       "      <td>kp_0_1</td>\n",
       "      <td>[awesome view &lt;SEP&gt; positive]</td>\n",
       "      <td>Panoramic suites have an awesome view and even a washer &amp; dryer .</td>\n",
       "      <td>[restaurant -&gt; atmosphere]</td>\n",
       "      <td>hotel</td>\n",
       "      <td>False</td>\n",
       "      <td>clean washrooms &lt;SEP&gt; positive</td>\n",
       "      <td>Washrooms clean and modern .</td>\n",
       "    </tr>\n",
       "  </tbody>\n",
       "</table>\n",
       "<p>5040 rows × 10 columns</p>\n",
       "</div>"
      ],
      "text/plain": [
       "           comment_id  label key_point_id  \\\n",
       "0     comment_1_12626      1      kp_1_11   \n",
       "1     comment_1_13411      0      kp_1_11   \n",
       "2      comment_1_4972      0      kp_1_11   \n",
       "3     comment_1_10784      0      kp_1_11   \n",
       "4      comment_1_6045      0      kp_1_11   \n",
       "...               ...    ...          ...   \n",
       "5035   comment_0_5900      0       kp_0_1   \n",
       "5036   comment_0_4308      0       kp_0_1   \n",
       "5037   comment_0_7934      0       kp_0_1   \n",
       "5038   comment_0_4495      0       kp_0_1   \n",
       "5039   comment_0_3948      0       kp_0_1   \n",
       "\n",
       "                                                              comment  \\\n",
       "0                        [quick and courteous service <SEP> positive]   \n",
       "1            [always courteous and friendly waitstaff <SEP> positive]   \n",
       "2                                [overwhelmed waiters <SEP> negative]   \n",
       "3                                         [fresh food <SEP> positive]   \n",
       "4     [lovely setting <SEP> positive, attentive staff <SEP> positive]   \n",
       "...                                                               ...   \n",
       "5035                                  [damp pool area <SEP> negative]   \n",
       "5036                            [well appointed rooms <SEP> positive]   \n",
       "5037                          [worst customer service <SEP> negative]   \n",
       "5038      [slow service <SEP> negative, mediocre food <SEP> negative]   \n",
       "5039                                    [awesome view <SEP> positive]   \n",
       "\n",
       "                                                                         full_comment  \\\n",
       "0                                               The service was quick and courteous .   \n",
       "1                                 Their waitstaff are always courteous and friendly .   \n",
       "2     I just wish they would be better staffed because the waiters seem overwhelmed .   \n",
       "3                        The food is fresh and innovative without being pretentious .   \n",
       "4                          It is a lovely setting with friendly and attentive staff .   \n",
       "...                                                                               ...   \n",
       "5035                                          The pool area is damp and suffocating .   \n",
       "5036                                   Rooms are well appointed and well maintained .   \n",
       "5037                                  Worst customer service I 've ever experienced .   \n",
       "5038                                                 Slow service and mediocre food .   \n",
       "5039              Panoramic suites have an awesome view and even a washer & dryer .     \n",
       "\n",
       "                             attributes       topic  isMultiAspect  \\\n",
       "0                               [staff]  restaurant          False   \n",
       "1                               [staff]  restaurant          False   \n",
       "2                               [staff]  restaurant          False   \n",
       "3                     [food -> quality]  restaurant          False   \n",
       "4     [restaurant -> atmosphere, staff]  restaurant           True   \n",
       "...                                 ...         ...            ...   \n",
       "5035         [restaurant -> atmosphere]       hotel          False   \n",
       "5036         [restaurant -> atmosphere]       hotel          False   \n",
       "5037                            [staff]       hotel          False   \n",
       "5038       [wait-time, food -> quality]       hotel           True   \n",
       "5039         [restaurant -> atmosphere]       hotel          False   \n",
       "\n",
       "                             key_point                full_key_point  \n",
       "0     generous servings <SEP> positive    Servings were generous .    \n",
       "1     generous servings <SEP> positive    Servings were generous .    \n",
       "2     generous servings <SEP> positive    Servings were generous .    \n",
       "3     generous servings <SEP> positive    Servings were generous .    \n",
       "4     generous servings <SEP> positive    Servings were generous .    \n",
       "...                                ...                           ...  \n",
       "5035    clean washrooms <SEP> positive  Washrooms clean and modern .  \n",
       "5036    clean washrooms <SEP> positive  Washrooms clean and modern .  \n",
       "5037    clean washrooms <SEP> positive  Washrooms clean and modern .  \n",
       "5038    clean washrooms <SEP> positive  Washrooms clean and modern .  \n",
       "5039    clean washrooms <SEP> positive  Washrooms clean and modern .  \n",
       "\n",
       "[5040 rows x 10 columns]"
      ]
     },
     "execution_count": 9,
     "metadata": {},
     "output_type": "execute_result"
    }
   ],
   "source": [
    "dfs[0.3]"
   ]
  },
  {
   "cell_type": "markdown",
   "id": "b066b986",
   "metadata": {
    "pycharm": {
     "name": "#%% md\n"
    }
   },
   "source": [
    "# Evaluation"
   ]
  },
  {
   "cell_type": "markdown",
   "id": "6475164c",
   "metadata": {
    "pycharm": {
     "name": "#%% md\n"
    }
   },
   "source": [
    "## Mean Average Precision"
   ]
  },
  {
   "cell_type": "code",
   "execution_count": 10,
   "id": "313e7a62",
   "metadata": {
    "pycharm": {
     "name": "#%%\n"
    }
   },
   "outputs": [],
   "source": [
    "def match_comment_with_keypoints(result, kp_dict, comment_dict):\n",
    "    \n",
    "    for comment, comment_embedding in comment_dict.items():\n",
    "        result[comment] = {}\n",
    "        for kp, kp_embedding in kp_dict.items():\n",
    "            result[comment][kp] = util.pytorch_cos_sim(comment_embedding, kp_embedding).item()\n",
    "        \n",
    "        #Applying softmax\n",
    "        kp_scores = list(result[comment].items())\n",
    "        kp_ids, kp_scores = zip(*kp_scores)\n",
    "        result[comment] = {kp_id:score for kp_id, score in zip(kp_ids, kp_scores)}\n",
    "        \n",
    "\n",
    "    return result\n",
    "\n",
    "def predict(model, comment_df, keypoint_df, output_path, append_topic=False):\n",
    "    comment_keypoints = {}\n",
    "    for topic in comment_df.topic.unique():\n",
    "        for stance in [-1, 1]:\n",
    "            topic_keypoints_ids = keypoint_df[(keypoint_df.topic==topic) & (keypoint_df.stance==stance)]['key_point_id'].tolist()\n",
    "            topic_keypoints = keypoint_df[(keypoint_df.topic==topic) & (keypoint_df.stance==stance)]['key_point'].tolist()\n",
    "            if append_topic:\n",
    "                topic_keypoints = [topic + ' <SEP> ' + x for x in topic_keypoints]\n",
    "                \n",
    "            topic_keypoints_embeddings = model.encode(topic_keypoints)\n",
    "            topic_kp_embed = dict(zip(topic_keypoints_ids, topic_keypoints_embeddings))\n",
    "\n",
    "            topic_comments_ids = comment_df[(comment_df.topic==topic) & (comment_df.stance==stance)]['comment_id'].tolist()\n",
    "            topic_comments = comment_df[(comment_df.topic==topic) & (comment_df.stance==stance)]['comment'].tolist()\n",
    "            topic_comments_embeddings = model.encode(topic_comments)\n",
    "            topic_comment_embed= dict(zip(topic_comments_ids, topic_comments_embeddings))\n",
    "\n",
    "            comment_keypoints = match_comment_with_keypoints(comment_keypoints, topic_kp_embed, topic_comment_embed)\n",
    "    \n",
    "    json.dump(comment_keypoints, open(output_path, 'w'))\n",
    "    \n",
    "    return comment_keypoints"
   ]
  },
  {
   "cell_type": "code",
   "execution_count": 11,
   "id": "d0008536",
   "metadata": {
    "pycharm": {
     "name": "#%%\n"
    }
   },
   "outputs": [],
   "source": [
    "from KeyPointEvaluator import *"
   ]
  },
  {
   "cell_type": "code",
   "execution_count": 12,
   "id": "6bebfb70",
   "metadata": {
    "pycharm": {
     "name": "#%%\n"
    }
   },
   "outputs": [],
   "source": [
    "def get_predictions(preds, labels_df, comment_df):\n",
    "    comment_df = comment_df[[\"comment_id\", \"comment_id_sent\", \"topic\"]]\n",
    "    predictions_df = load_predictions(preds)\n",
    "    #make sure each comment_id has a prediction\n",
    "    predictions_df = pd.merge(comment_df, predictions_df, how=\"left\", on=\"comment_id\")\n",
    "    predictions_df = predictions_df.rename(columns={'comment_id': 'comment_id_new', 'comment_id_sent': 'comment_id'})\n",
    "\n",
    "    #handle comments with no matching key point\n",
    "    predictions_df[\"key_point_id\"] = predictions_df[\"key_point_id\"].fillna(\"dummy_id\")\n",
    "    predictions_df[\"score\"] = predictions_df[\"score\"].fillna(0)\n",
    "\n",
    "    #merge predicted comment-KP pair with the gold labels\n",
    "    merged_df = pd.merge(predictions_df, labels_df, how=\"left\", on=[\"comment_id\", \"key_point_id\"])\n",
    "\n",
    "    merged_df.loc[merged_df['key_point_id'] == \"dummy_id\", 'label'] = 0\n",
    "    merged_df[\"label_strict\"] = merged_df[\"label\"].fillna(0)\n",
    "    merged_df[\"label_relaxed\"] = merged_df[\"label\"].fillna(1)\n",
    "    return merged_df\n"
   ]
  },
  {
   "cell_type": "code",
   "execution_count": 13,
   "id": "079ecdc0",
   "metadata": {
    "pycharm": {
     "name": "#%%\n"
    }
   },
   "outputs": [],
   "source": [
    "def prepare_comment_kp_label_input(df):\n",
    "    comment_df = df[['comment_id', 'topic', 'comment', 'full_comment', 'isMultiAspect']]\\\n",
    "        .drop_duplicates(subset=['comment_id']).reset_index(drop=True)\n",
    "    comment_df = comment_df.explode(['comment'])\n",
    "    comment_df = comment_df.groupby(['comment_id']).apply(lambda x: x.reset_index(drop=True).reset_index()).reset_index(drop=True)\n",
    "    comment_df = comment_df.rename(columns={'comment_id': 'comment_id_sent'})\n",
    "    comment_df['comment_id'] = comment_df['comment_id_sent'] + \"_\" + comment_df['index'].astype(str)\n",
    "    \n",
    "    kp_df = df[['key_point_id', 'topic', 'key_point', 'full_key_point']].drop_duplicates(subset=['key_point_id']).reset_index(drop=True)        \n",
    "    \n",
    "    labels_df = df[['comment_id', 'key_point_id', 'label']]\n",
    "    \n",
    "    return comment_df, kp_df, labels_df"
   ]
  },
  {
   "cell_type": "markdown",
   "id": "04bee077",
   "metadata": {
    "pycharm": {
     "name": "#%% md\n"
    }
   },
   "source": [
    "Perform Evaluation"
   ]
  },
  {
   "cell_type": "code",
   "execution_count": 14,
   "id": "0ead60c0",
   "metadata": {
    "pycharm": {
     "name": "#%%\n"
    }
   },
   "outputs": [],
   "source": [
    "models_path = './training_material/siamese-models/roberta-large-yelp-pretrained-contrastive-10-epochs-2023-02-15_23-31-51/'\n",
    "pred_output_path = './training_material/inference-results/'"
   ]
  },
  {
   "cell_type": "code",
   "execution_count": 15,
   "id": "efa6b1c8",
   "metadata": {
    "pycharm": {
     "name": "#%%\n"
    }
   },
   "outputs": [],
   "source": [
    "model = SentenceTransformer(models_path)"
   ]
  },
  {
   "cell_type": "code",
   "execution_count": 16,
   "id": "45def4b0",
   "metadata": {
    "pycharm": {
     "name": "#%%\n"
    }
   },
   "outputs": [],
   "source": [
    "def do_eval(df):\n",
    "    comment_df, kp_df, labels_df = prepare_comment_kp_label_input(df)\n",
    "    append_topic = False\n",
    "    \n",
    "    #Perform prediction on the validation/test dataframes\n",
    "    preds = perform_preds(model, comment_df, kp_df, append_topic)\n",
    "\n",
    "    # Get the best predicted KP for every review sentence\n",
    "    merged_df = get_predictions(preds, labels_df, comment_df)\n",
    "    merged_df = merged_df.drop_duplicates(subset=['comment_id', 'key_point_id'])\n",
    "\n",
    "    #Perform evaluation\n",
    "    mAP_strict, mAP_relaxed = evaluate_predictions(merged_df)\n",
    "\n",
    "    print(f\"mAP strict= {mAP_strict} ; mAP relaxed = {mAP_relaxed}\")\n",
    "\n",
    "    logger.info(\"mAP strict:   \\t{:.2f}\".format(mAP_strict*100))\n",
    "    logger.info(\"mAP relaxed:   \\t{:.2f}\".format(mAP_relaxed*100))\n",
    "    \n",
    "    return merged_df"
   ]
  },
  {
   "cell_type": "code",
   "execution_count": 17,
   "id": "4d174379",
   "metadata": {
    "pycharm": {
     "name": "#%%\n"
    }
   },
   "outputs": [
    {
     "name": "stdout",
     "output_type": "stream",
     "text": [
      "########## EVALUATION RESULTS ##########\n",
      "##########\n",
      "AGREEMENT SCORE FOR POSITIVE LABEL: 0.3\n",
      "[('Hotel AP', 0.9570323447167297), ('Restaurant AP', 0.7685450784655687)]\n",
      "[('Hotel AP', 0.9570323447167297), ('Restaurant AP', 0.7685450784655687)]\n",
      "mAP strict= 0.8627887115911492 ; mAP relaxed = 0.8627887115911492\n",
      "\n",
      "##########\n",
      "AGREEMENT SCORE FOR POSITIVE LABEL: 0.4\n",
      "[('Hotel AP', 0.937393025297412), ('Restaurant AP', 0.7279593165613089)]\n",
      "[('Hotel AP', 0.937393025297412), ('Restaurant AP', 0.7279593165613089)]\n",
      "mAP strict= 0.8326761709293604 ; mAP relaxed = 0.8326761709293604\n",
      "\n",
      "##########\n",
      "AGREEMENT SCORE FOR POSITIVE LABEL: 0.5\n",
      "[('Hotel AP', 0.7587330655913238), ('Restaurant AP', 0.4725415968537123)]\n",
      "[('Hotel AP', 0.7587330655913238), ('Restaurant AP', 0.4725415968537123)]\n",
      "mAP strict= 0.6156373312225181 ; mAP relaxed = 0.6156373312225181\n",
      "\n",
      "##########\n",
      "AGREEMENT SCORE FOR POSITIVE LABEL: 0.6\n",
      "[('Hotel AP', 0.7587330655913238), ('Restaurant AP', 0.4725415968537123)]\n",
      "[('Hotel AP', 0.7587330655913238), ('Restaurant AP', 0.4725415968537123)]\n",
      "mAP strict= 0.6156373312225181 ; mAP relaxed = 0.6156373312225181\n",
      "\n"
     ]
    }
   ],
   "source": [
    "print(\"########## EVALUATION RESULTS ##########\")\n",
    "for score in agreement_scores:\n",
    "    print(\"##########\")\n",
    "    print(f\"AGREEMENT SCORE FOR POSITIVE LABEL: {score}\")\n",
    "    do_eval(dfs[score])\n",
    "    print()"
   ]
  },
  {
   "cell_type": "markdown",
   "id": "bd5b3f11",
   "metadata": {
    "pycharm": {
     "name": "#%% md\n"
    }
   },
   "source": [
    "## Quantitative Coverage and Accuracy"
   ]
  },
  {
   "cell_type": "code",
   "execution_count": 18,
   "id": "0cdceebd",
   "metadata": {},
   "outputs": [
    {
     "name": "stdout",
     "output_type": "stream",
     "text": [
      "[('Hotel AP', 0.9570323447167297), ('Restaurant AP', 0.7685450784655687)]\n",
      "[('Hotel AP', 0.9570323447167297), ('Restaurant AP', 0.7685450784655687)]\n",
      "mAP strict= 0.8627887115911492 ; mAP relaxed = 0.8627887115911492\n"
     ]
    }
   ],
   "source": [
    "df = dfs[0.3]\n",
    "comment_df, kp_df, labels_df = prepare_comment_kp_label_input(dfs[0.3])\n",
    "merged_df = do_eval(dfs[0.3])"
   ]
  },
  {
   "cell_type": "markdown",
   "id": "1458f631",
   "metadata": {},
   "source": [
    "### Hotel"
   ]
  },
  {
   "cell_type": "markdown",
   "id": "fe3b65d2",
   "metadata": {},
   "source": [
    "Select Key points that are found to be common with ground truth in the prediction results"
   ]
  },
  {
   "cell_type": "code",
   "execution_count": 19,
   "id": "57ef91c1",
   "metadata": {},
   "outputs": [],
   "source": [
    "selected_kps = [\"Friendly and courteous staff .  \",  \n",
    "    \"Clean and comfortable rooms .\",\n",
    "    \"Outstanding service .\",\n",
    "    \"Great front desk customer service .\",\n",
    "    \"Parking is easy .\",\n",
    "    \"Beds were comfortable .\"\n",
    "]"
   ]
  },
  {
   "cell_type": "code",
   "execution_count": 20,
   "id": "298a851a",
   "metadata": {},
   "outputs": [],
   "source": [
    "actual_pair_df = df[(df['label'] == 1) & (df['comment_id'].str.startswith('comment_0'))]\n",
    "actual_kp_df = actual_pair_df['full_key_point'].value_counts()\n",
    "actual_pair_df = actual_pair_df[actual_pair_df['full_key_point'].isin(selected_kps)]"
   ]
  },
  {
   "cell_type": "code",
   "execution_count": 21,
   "id": "e18df860",
   "metadata": {},
   "outputs": [],
   "source": [
    "hotel_pred_df = merged_df[merged_df['comment_id'].str.startswith('comment_0')].merge(kp_df, on=['key_point_id'])\n",
    "hotel_pred_df = hotel_pred_df[hotel_pred_df['full_key_point'].isin(selected_kps)]\n",
    "hotel_pred_df['pred_label'] = 1"
   ]
  },
  {
   "cell_type": "code",
   "execution_count": 22,
   "id": "304f69b0",
   "metadata": {
    "scrolled": true
   },
   "outputs": [
    {
     "data": {
      "text/html": [
       "<div>\n",
       "<style scoped>\n",
       "    .dataframe tbody tr th:only-of-type {\n",
       "        vertical-align: middle;\n",
       "    }\n",
       "\n",
       "    .dataframe tbody tr th {\n",
       "        vertical-align: top;\n",
       "    }\n",
       "\n",
       "    .dataframe thead th {\n",
       "        text-align: right;\n",
       "    }\n",
       "</style>\n",
       "<table border=\"1\" class=\"dataframe\">\n",
       "  <thead>\n",
       "    <tr style=\"text-align: right;\">\n",
       "      <th></th>\n",
       "      <th>Key Points</th>\n",
       "      <th>Predicted Coverage</th>\n",
       "      <th>Actual Coverage</th>\n",
       "    </tr>\n",
       "  </thead>\n",
       "  <tbody>\n",
       "    <tr>\n",
       "      <th>0</th>\n",
       "      <td>Friendly and courteous staff .</td>\n",
       "      <td>15</td>\n",
       "      <td>18</td>\n",
       "    </tr>\n",
       "    <tr>\n",
       "      <th>1</th>\n",
       "      <td>Clean and comfortable rooms .</td>\n",
       "      <td>8</td>\n",
       "      <td>9</td>\n",
       "    </tr>\n",
       "    <tr>\n",
       "      <th>2</th>\n",
       "      <td>Outstanding service .</td>\n",
       "      <td>6</td>\n",
       "      <td>8</td>\n",
       "    </tr>\n",
       "    <tr>\n",
       "      <th>3</th>\n",
       "      <td>Great front desk customer service .</td>\n",
       "      <td>6</td>\n",
       "      <td>4</td>\n",
       "    </tr>\n",
       "    <tr>\n",
       "      <th>4</th>\n",
       "      <td>Parking is easy .</td>\n",
       "      <td>3</td>\n",
       "      <td>3</td>\n",
       "    </tr>\n",
       "    <tr>\n",
       "      <th>5</th>\n",
       "      <td>Beds were comfortable .</td>\n",
       "      <td>3</td>\n",
       "      <td>2</td>\n",
       "    </tr>\n",
       "  </tbody>\n",
       "</table>\n",
       "</div>"
      ],
      "text/plain": [
       "                            Key Points  Predicted Coverage  Actual Coverage\n",
       "0     Friendly and courteous staff .                    15               18\n",
       "1        Clean and comfortable rooms .                   8                9\n",
       "2                Outstanding service .                   6                8\n",
       "3  Great front desk customer service .                   6                4\n",
       "4                    Parking is easy .                   3                3\n",
       "5              Beds were comfortable .                   3                2"
      ]
     },
     "execution_count": 22,
     "metadata": {},
     "output_type": "execute_result"
    }
   ],
   "source": [
    "coverage_compare_table = hotel_pred_df['full_key_point'].value_counts().reset_index()\n",
    "coverage_compare_table.columns = ['Key Points', 'Predicted Coverage']\n",
    "coverage_compare_table['Actual Coverage'] = actual_pair_df['full_key_point'].value_counts().tolist()\n",
    "coverage_compare_table"
   ]
  },
  {
   "cell_type": "code",
   "execution_count": 23,
   "id": "0348a83e",
   "metadata": {},
   "outputs": [],
   "source": [
    "merged_pair_df = actual_pair_df.merge(hotel_pred_df[['comment_id', 'key_point_id', 'pred_label']], how='left')\n",
    "merged_pair_df['pred_label'] = merged_pair_df['pred_label'].fillna(0)"
   ]
  },
  {
   "cell_type": "code",
   "execution_count": 24,
   "id": "ddb33892",
   "metadata": {
    "scrolled": true
   },
   "outputs": [
    {
     "data": {
      "text/plain": [
       "0.7045454545454546"
      ]
     },
     "execution_count": 24,
     "metadata": {},
     "output_type": "execute_result"
    }
   ],
   "source": [
    "from sklearn.metrics import accuracy_score\n",
    "accuracy_score(merged_pair_df['label'], merged_pair_df['pred_label'])"
   ]
  },
  {
   "cell_type": "markdown",
   "id": "5326f964",
   "metadata": {},
   "source": [
    "### Restaurant"
   ]
  },
  {
   "cell_type": "code",
   "execution_count": 25,
   "id": "e377d5a4",
   "metadata": {},
   "outputs": [],
   "source": [
    "selected_kps = [\n",
    "    \"Ambiance is casual and comfortable .\",\n",
    "    \"Extremely polite and knowledgeable staff !\",\n",
    "    \"Prices were extremely reasonable .  \",\n",
    "    \"Great beer selection\",\n",
    "    \"Over priced for the quality .  \",\n",
    "    \"Good selection of coffee choices .\"\n",
    "]"
   ]
  },
  {
   "cell_type": "code",
   "execution_count": 26,
   "id": "e1ae1f1f",
   "metadata": {},
   "outputs": [],
   "source": [
    "actual_pair_df = df[(df['label'] == 1) & (df['comment_id'].str.startswith('comment_1'))]\n",
    "actual_kp_df = actual_pair_df['full_key_point'].value_counts()\n",
    "actual_pair_df = actual_pair_df[actual_pair_df['full_key_point'].isin(selected_kps)]"
   ]
  },
  {
   "cell_type": "code",
   "execution_count": 27,
   "id": "53b4edce",
   "metadata": {},
   "outputs": [],
   "source": [
    "hotel_pred_df = merged_df[merged_df['comment_id'].str.startswith('comment_1')].merge(kp_df, on=['key_point_id'])\n",
    "hotel_pred_df = hotel_pred_df[hotel_pred_df['full_key_point'].isin(selected_kps)]\n",
    "hotel_pred_df['pred_label'] = 1"
   ]
  },
  {
   "cell_type": "code",
   "execution_count": 28,
   "id": "ebf2612c",
   "metadata": {
    "scrolled": true
   },
   "outputs": [
    {
     "data": {
      "text/html": [
       "<div>\n",
       "<style scoped>\n",
       "    .dataframe tbody tr th:only-of-type {\n",
       "        vertical-align: middle;\n",
       "    }\n",
       "\n",
       "    .dataframe tbody tr th {\n",
       "        vertical-align: top;\n",
       "    }\n",
       "\n",
       "    .dataframe thead th {\n",
       "        text-align: right;\n",
       "    }\n",
       "</style>\n",
       "<table border=\"1\" class=\"dataframe\">\n",
       "  <thead>\n",
       "    <tr style=\"text-align: right;\">\n",
       "      <th></th>\n",
       "      <th>Key Points</th>\n",
       "      <th>Predicted Coverage</th>\n",
       "      <th>Actual Coverage</th>\n",
       "    </tr>\n",
       "  </thead>\n",
       "  <tbody>\n",
       "    <tr>\n",
       "      <th>0</th>\n",
       "      <td>Ambiance is casual and comfortable .</td>\n",
       "      <td>13</td>\n",
       "      <td>10</td>\n",
       "    </tr>\n",
       "    <tr>\n",
       "      <th>1</th>\n",
       "      <td>Extremely polite and knowledgeable staff !</td>\n",
       "      <td>6</td>\n",
       "      <td>10</td>\n",
       "    </tr>\n",
       "    <tr>\n",
       "      <th>2</th>\n",
       "      <td>Prices were extremely reasonable .</td>\n",
       "      <td>3</td>\n",
       "      <td>4</td>\n",
       "    </tr>\n",
       "    <tr>\n",
       "      <th>3</th>\n",
       "      <td>Great beer selection</td>\n",
       "      <td>2</td>\n",
       "      <td>1</td>\n",
       "    </tr>\n",
       "    <tr>\n",
       "      <th>4</th>\n",
       "      <td>Over priced for the quality .</td>\n",
       "      <td>1</td>\n",
       "      <td>1</td>\n",
       "    </tr>\n",
       "    <tr>\n",
       "      <th>5</th>\n",
       "      <td>Good selection of coffee choices .</td>\n",
       "      <td>1</td>\n",
       "      <td>1</td>\n",
       "    </tr>\n",
       "  </tbody>\n",
       "</table>\n",
       "</div>"
      ],
      "text/plain": [
       "                                   Key Points  Predicted Coverage  \\\n",
       "0        Ambiance is casual and comfortable .                  13   \n",
       "1  Extremely polite and knowledgeable staff !                   6   \n",
       "2        Prices were extremely reasonable .                     3   \n",
       "3                        Great beer selection                   2   \n",
       "4             Over priced for the quality .                     1   \n",
       "5          Good selection of coffee choices .                   1   \n",
       "\n",
       "   Actual Coverage  \n",
       "0               10  \n",
       "1               10  \n",
       "2                4  \n",
       "3                1  \n",
       "4                1  \n",
       "5                1  "
      ]
     },
     "execution_count": 28,
     "metadata": {},
     "output_type": "execute_result"
    }
   ],
   "source": [
    "coverage_compare_table = hotel_pred_df['full_key_point'].value_counts().reset_index()\n",
    "coverage_compare_table.columns = ['Key Points', 'Predicted Coverage']\n",
    "coverage_compare_table['Actual Coverage'] = actual_pair_df['full_key_point'].value_counts().tolist()\n",
    "coverage_compare_table"
   ]
  },
  {
   "cell_type": "code",
   "execution_count": 29,
   "id": "bef48548",
   "metadata": {},
   "outputs": [],
   "source": [
    "merged_pair_df = actual_pair_df.merge(hotel_pred_df[['comment_id', 'key_point_id', 'pred_label']], how='left')\n",
    "merged_pair_df['pred_label'] = merged_pair_df['pred_label'].fillna(0)"
   ]
  },
  {
   "cell_type": "code",
   "execution_count": 30,
   "id": "63e31fd8",
   "metadata": {
    "scrolled": true
   },
   "outputs": [
    {
     "data": {
      "text/plain": [
       "0.5925925925925926"
      ]
     },
     "execution_count": 30,
     "metadata": {},
     "output_type": "execute_result"
    }
   ],
   "source": [
    " from sklearn.metrics import accuracy_score\n",
    "accuracy_score(merged_pair_df['label'], merged_pair_df['pred_label'])"
   ]
  },
  {
   "cell_type": "code",
   "execution_count": null,
   "id": "9737b2db",
   "metadata": {
    "pycharm": {
     "name": "#%%\n"
    }
   },
   "outputs": [],
   "source": []
  }
 ],
 "metadata": {
  "kernelspec": {
   "display_name": "Python 3 (ipykernel)",
   "language": "python",
   "name": "python3"
  },
  "language_info": {
   "codemirror_mode": {
    "name": "ipython",
    "version": 3
   },
   "file_extension": ".py",
   "mimetype": "text/x-python",
   "name": "python",
   "nbconvert_exporter": "python",
   "pygments_lexer": "ipython3",
   "version": "3.9.12"
  },
  "toc": {
   "base_numbering": 1,
   "nav_menu": {},
   "number_sections": true,
   "sideBar": true,
   "skip_h1_title": false,
   "title_cell": "Table of Contents",
   "title_sidebar": "Contents",
   "toc_cell": false,
   "toc_position": {},
   "toc_section_display": true,
   "toc_window_display": true
  }
 },
 "nbformat": 4,
 "nbformat_minor": 5
}
