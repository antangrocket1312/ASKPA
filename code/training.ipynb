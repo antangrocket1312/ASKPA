{
 "cells": [
  {
   "cell_type": "markdown",
   "id": "12f0cb37",
   "metadata": {
    "pycharm": {
     "name": "#%% md\n"
    }
   },
   "source": [
    "## Training"
   ]
  },
  {
   "cell_type": "code",
   "execution_count": 68,
   "id": "4150b2e0",
   "metadata": {
    "pycharm": {
     "name": "#%%\n"
    }
   },
   "outputs": [],
   "source": [
    "# %autoreload\n",
    "\n",
    "import sys\n",
    "import os\n",
    "\n",
    "# os.environ['CUDA_VISIBLE_DEVICES'] = '5'\n",
    "# sys.path.insert(0, \"../src-py\")\n",
    "\n",
    "import training_script"
   ]
  },
  {
   "cell_type": "code",
   "execution_count": 69,
   "id": "2cc248be",
   "metadata": {
    "pycharm": {
     "name": "#%%\n"
    },
    "scrolled": true,
    "tags": []
   },
   "outputs": [
    {
     "name": "stderr",
     "output_type": "stream",
     "text": [
      "Some weights of the model checkpoint at ./model/roberta-large-finetuned-yelp/checkpoint-134060/ were not used when initializing RobertaModel: ['lm_head.layer_norm.weight', 'lm_head.dense.bias', 'lm_head.bias', 'lm_head.dense.weight', 'lm_head.layer_norm.bias']\n",
      "- This IS expected if you are initializing RobertaModel from the checkpoint of a model trained on another task or with another architecture (e.g. initializing a BertForSequenceClassification model from a BertForPreTraining model).\n",
      "- This IS NOT expected if you are initializing RobertaModel from the checkpoint of a model that you expect to be exactly identical (initializing a BertForSequenceClassification model from a BertForSequenceClassification model).\n",
      "Some weights of RobertaModel were not initialized from the model checkpoint at ./model/roberta-large-finetuned-yelp/checkpoint-134060/ and are newly initialized: ['roberta.pooler.dense.bias', 'roberta.pooler.dense.weight']\n",
      "You should probably TRAIN this model on a down-stream task to be able to use it for predictions and inference.\n"
     ]
    },
    {
     "name": "stdout",
     "output_type": "stream",
     "text": [
      "2023-02-15 23:31:54 - Use pytorch device: cuda\n",
      "2023-02-15 23:31:54 - Read Triplet train dataset\n"
     ]
    },
    {
     "name": "stderr",
     "output_type": "stream",
     "text": [
      "2023-02-15 23:31:55.798073: I tensorflow/stream_executor/platform/default/dso_loader.cc:53] Successfully opened dynamic library libcudart.so.11.0\n"
     ]
    },
    {
     "data": {
      "application/vnd.jupyter.widget-view+json": {
       "model_id": "ce83d1b49c9343cbbad979df780db47a",
       "version_major": 2,
       "version_minor": 0
      },
      "text/plain": [
       "Epoch:   0%|          | 0/10 [00:00<?, ?it/s]"
      ]
     },
     "metadata": {},
     "output_type": "display_data"
    },
    {
     "data": {
      "application/vnd.jupyter.widget-view+json": {
       "model_id": "c06c526e96724b729e9a487d1c002ef7",
       "version_major": 2,
       "version_minor": 0
      },
      "text/plain": [
       "Iteration:   0%|          | 0/4259 [00:00<?, ?it/s]"
      ]
     },
     "metadata": {},
     "output_type": "display_data"
    },
    {
     "name": "stdout",
     "output_type": "stream",
     "text": [
      "2023-02-15 23:33:12 - TripletEvaluator: Evaluating the model on dev dataset in epoch 0 after 500 steps:\n"
     ]
    },
    {
     "name": "stderr",
     "output_type": "stream",
     "text": [
      "/home/an/anaconda3/envs/deep_learning_env_2/lib/python3.9/site-packages/sklearn/metrics/_ranking.py:891: UserWarning: No positive class found in y_true, recall is set to one for all thresholds.\n",
      "  warnings.warn(\n",
      "/home/an/anaconda3/envs/deep_learning_env_2/lib/python3.9/site-packages/sklearn/metrics/_ranking.py:891: UserWarning: No positive class found in y_true, recall is set to one for all thresholds.\n",
      "  warnings.warn(\n"
     ]
    },
    {
     "name": "stdout",
     "output_type": "stream",
     "text": [
      "[0.9050820417260024, -0.0, 0.9593547317416937]\n",
      "[0.9191781154051211, -0.0, 0.9836181531716469]\n",
      "mAP strict= 0.621478924489232 ; mAP relaxed = 0.6342654228589226\n",
      "2023-02-15 23:33:13 - mAP strict:   \t62.15\n",
      "2023-02-15 23:33:13 - mAP relaxed:   \t63.43\n",
      "2023-02-15 23:33:13 - Save model to ./keypoint-analysis-sharedtask/siamese-models/aspect-opinion-3_1/new/roberta-large-yelp-pretrained-contrastive-10-epochs-2023-02-15_23-31-51\n",
      "2023-02-15 23:34:33 - TripletEvaluator: Evaluating the model on dev dataset in epoch 0 after 1000 steps:\n"
     ]
    },
    {
     "name": "stderr",
     "output_type": "stream",
     "text": [
      "/home/an/anaconda3/envs/deep_learning_env_2/lib/python3.9/site-packages/sklearn/metrics/_ranking.py:891: UserWarning: No positive class found in y_true, recall is set to one for all thresholds.\n",
      "  warnings.warn(\n",
      "/home/an/anaconda3/envs/deep_learning_env_2/lib/python3.9/site-packages/sklearn/metrics/_ranking.py:891: UserWarning: No positive class found in y_true, recall is set to one for all thresholds.\n",
      "  warnings.warn(\n"
     ]
    },
    {
     "name": "stdout",
     "output_type": "stream",
     "text": [
      "[0.8964736900768566, -0.0, 0.9472327015806049]\n",
      "[0.9619356023754065, -0.0, 0.9788787529095859]\n",
      "mAP strict= 0.6145687972191539 ; mAP relaxed = 0.6469381184283308\n",
      "2023-02-15 23:34:33 - mAP strict:   \t61.46\n",
      "2023-02-15 23:34:33 - mAP relaxed:   \t64.69\n",
      "2023-02-15 23:34:33 - Save model to ./keypoint-analysis-sharedtask/siamese-models/aspect-opinion-3_1/new/roberta-large-yelp-pretrained-contrastive-10-epochs-2023-02-15_23-31-51\n",
      "2023-02-15 23:35:53 - TripletEvaluator: Evaluating the model on dev dataset in epoch 0 after 1500 steps:\n"
     ]
    },
    {
     "name": "stderr",
     "output_type": "stream",
     "text": [
      "/home/an/anaconda3/envs/deep_learning_env_2/lib/python3.9/site-packages/sklearn/metrics/_ranking.py:891: UserWarning: No positive class found in y_true, recall is set to one for all thresholds.\n",
      "  warnings.warn(\n",
      "/home/an/anaconda3/envs/deep_learning_env_2/lib/python3.9/site-packages/sklearn/metrics/_ranking.py:891: UserWarning: No positive class found in y_true, recall is set to one for all thresholds.\n",
      "  warnings.warn(\n"
     ]
    },
    {
     "name": "stdout",
     "output_type": "stream",
     "text": [
      "[0.9283567357836173, -0.0, 0.9670886529344229]\n",
      "[0.9564931795639768, -0.0, 0.9772297571069688]\n",
      "mAP strict= 0.63181512957268 ; mAP relaxed = 0.6445743122236486\n",
      "2023-02-15 23:35:54 - mAP strict:   \t63.18\n",
      "2023-02-15 23:35:54 - mAP relaxed:   \t64.46\n",
      "2023-02-15 23:35:54 - Save model to ./keypoint-analysis-sharedtask/siamese-models/aspect-opinion-3_1/new/roberta-large-yelp-pretrained-contrastive-10-epochs-2023-02-15_23-31-51\n",
      "2023-02-15 23:37:13 - TripletEvaluator: Evaluating the model on dev dataset in epoch 0 after 2000 steps:\n"
     ]
    },
    {
     "name": "stderr",
     "output_type": "stream",
     "text": [
      "/home/an/anaconda3/envs/deep_learning_env_2/lib/python3.9/site-packages/sklearn/metrics/_ranking.py:891: UserWarning: No positive class found in y_true, recall is set to one for all thresholds.\n",
      "  warnings.warn(\n",
      "/home/an/anaconda3/envs/deep_learning_env_2/lib/python3.9/site-packages/sklearn/metrics/_ranking.py:891: UserWarning: No positive class found in y_true, recall is set to one for all thresholds.\n",
      "  warnings.warn(\n"
     ]
    },
    {
     "name": "stdout",
     "output_type": "stream",
     "text": [
      "[0.9154325832497261, -0.0, 0.9498733651994917]\n",
      "[0.9594276062689311, -0.0, 0.9644420836969227]\n",
      "mAP strict= 0.6217686494830726 ; mAP relaxed = 0.6412898966552846\n",
      "2023-02-15 23:37:14 - mAP strict:   \t62.18\n",
      "2023-02-15 23:37:14 - mAP relaxed:   \t64.13\n",
      "2023-02-15 23:38:28 - TripletEvaluator: Evaluating the model on dev dataset in epoch 0 after 2500 steps:\n"
     ]
    },
    {
     "name": "stderr",
     "output_type": "stream",
     "text": [
      "/home/an/anaconda3/envs/deep_learning_env_2/lib/python3.9/site-packages/sklearn/metrics/_ranking.py:891: UserWarning: No positive class found in y_true, recall is set to one for all thresholds.\n",
      "  warnings.warn(\n",
      "/home/an/anaconda3/envs/deep_learning_env_2/lib/python3.9/site-packages/sklearn/metrics/_ranking.py:891: UserWarning: No positive class found in y_true, recall is set to one for all thresholds.\n",
      "  warnings.warn(\n"
     ]
    },
    {
     "name": "stdout",
     "output_type": "stream",
     "text": [
      "[0.8129640700242138, -0.0, 0.9661223366729652]\n",
      "[0.8683349559556899, -0.0, 0.9834223062541696]\n",
      "mAP strict= 0.593028802232393 ; mAP relaxed = 0.6172524207366198\n",
      "2023-02-15 23:38:29 - mAP strict:   \t59.30\n",
      "2023-02-15 23:38:29 - mAP relaxed:   \t61.73\n",
      "2023-02-15 23:39:42 - TripletEvaluator: Evaluating the model on dev dataset in epoch 0 after 3000 steps:\n"
     ]
    },
    {
     "name": "stderr",
     "output_type": "stream",
     "text": [
      "/home/an/anaconda3/envs/deep_learning_env_2/lib/python3.9/site-packages/sklearn/metrics/_ranking.py:891: UserWarning: No positive class found in y_true, recall is set to one for all thresholds.\n",
      "  warnings.warn(\n",
      "/home/an/anaconda3/envs/deep_learning_env_2/lib/python3.9/site-packages/sklearn/metrics/_ranking.py:891: UserWarning: No positive class found in y_true, recall is set to one for all thresholds.\n",
      "  warnings.warn(\n"
     ]
    },
    {
     "name": "stdout",
     "output_type": "stream",
     "text": [
      "[0.8571171877487858, -0.0, 0.983694202107193]\n",
      "[0.933978050274445, -0.0, 0.983694202107193]\n",
      "mAP strict= 0.6136037966186596 ; mAP relaxed = 0.6392240841272127\n",
      "2023-02-15 23:39:43 - mAP strict:   \t61.36\n",
      "2023-02-15 23:39:43 - mAP relaxed:   \t63.92\n",
      "2023-02-15 23:40:58 - TripletEvaluator: Evaluating the model on dev dataset in epoch 0 after 3500 steps:\n"
     ]
    },
    {
     "name": "stderr",
     "output_type": "stream",
     "text": [
      "/home/an/anaconda3/envs/deep_learning_env_2/lib/python3.9/site-packages/sklearn/metrics/_ranking.py:891: UserWarning: No positive class found in y_true, recall is set to one for all thresholds.\n",
      "  warnings.warn(\n",
      "/home/an/anaconda3/envs/deep_learning_env_2/lib/python3.9/site-packages/sklearn/metrics/_ranking.py:891: UserWarning: No positive class found in y_true, recall is set to one for all thresholds.\n",
      "  warnings.warn(\n"
     ]
    },
    {
     "name": "stdout",
     "output_type": "stream",
     "text": [
      "[0.8606048432420859, -0.0, 0.9390082008899794]\n",
      "[0.9099071810416474, -0.0, 0.939286479021449]\n",
      "mAP strict= 0.5998710147106884 ; mAP relaxed = 0.6163978866876988\n",
      "2023-02-15 23:40:59 - mAP strict:   \t59.99\n",
      "2023-02-15 23:40:59 - mAP relaxed:   \t61.64\n",
      "2023-02-15 23:42:18 - TripletEvaluator: Evaluating the model on dev dataset in epoch 0 after 4000 steps:\n"
     ]
    },
    {
     "name": "stderr",
     "output_type": "stream",
     "text": [
      "/home/an/anaconda3/envs/deep_learning_env_2/lib/python3.9/site-packages/sklearn/metrics/_ranking.py:891: UserWarning: No positive class found in y_true, recall is set to one for all thresholds.\n",
      "  warnings.warn(\n",
      "/home/an/anaconda3/envs/deep_learning_env_2/lib/python3.9/site-packages/sklearn/metrics/_ranking.py:891: UserWarning: No positive class found in y_true, recall is set to one for all thresholds.\n",
      "  warnings.warn(\n"
     ]
    },
    {
     "name": "stdout",
     "output_type": "stream",
     "text": [
      "[0.875733534314759, -0.0, 0.921959882843683]\n",
      "[0.9325864244979987, -0.0, 0.925989984606756]\n",
      "mAP strict= 0.599231139052814 ; mAP relaxed = 0.619525469701585\n",
      "2023-02-15 23:42:19 - mAP strict:   \t59.92\n",
      "2023-02-15 23:42:19 - mAP relaxed:   \t61.95\n",
      "2023-02-15 23:42:58 - TripletEvaluator: Evaluating the model on dev dataset after epoch 0:\n",
      "[0.7008905958441362, -0.0, 0.88895262679721]\n",
      "[0.84057347663408, -0.0, 0.8970823538703607]\n",
      "mAP strict= 0.5299477408804487 ; mAP relaxed = 0.5792186101681469\n",
      "2023-02-15 23:42:59 - mAP strict:   \t52.99\n",
      "2023-02-15 23:42:59 - mAP relaxed:   \t57.92\n"
     ]
    },
    {
     "name": "stderr",
     "output_type": "stream",
     "text": [
      "/home/an/anaconda3/envs/deep_learning_env_2/lib/python3.9/site-packages/sklearn/metrics/_ranking.py:891: UserWarning: No positive class found in y_true, recall is set to one for all thresholds.\n",
      "  warnings.warn(\n",
      "/home/an/anaconda3/envs/deep_learning_env_2/lib/python3.9/site-packages/sklearn/metrics/_ranking.py:891: UserWarning: No positive class found in y_true, recall is set to one for all thresholds.\n",
      "  warnings.warn(\n"
     ]
    },
    {
     "data": {
      "application/vnd.jupyter.widget-view+json": {
       "model_id": "07109c1e7ddd407fa5cc5e047e798093",
       "version_major": 2,
       "version_minor": 0
      },
      "text/plain": [
       "Iteration:   0%|          | 0/4259 [00:00<?, ?it/s]"
      ]
     },
     "metadata": {},
     "output_type": "display_data"
    },
    {
     "name": "stdout",
     "output_type": "stream",
     "text": [
      "2023-02-15 23:44:20 - TripletEvaluator: Evaluating the model on dev dataset in epoch 1 after 500 steps:\n"
     ]
    },
    {
     "name": "stderr",
     "output_type": "stream",
     "text": [
      "/home/an/anaconda3/envs/deep_learning_env_2/lib/python3.9/site-packages/sklearn/metrics/_ranking.py:891: UserWarning: No positive class found in y_true, recall is set to one for all thresholds.\n",
      "  warnings.warn(\n",
      "/home/an/anaconda3/envs/deep_learning_env_2/lib/python3.9/site-packages/sklearn/metrics/_ranking.py:891: UserWarning: No positive class found in y_true, recall is set to one for all thresholds.\n",
      "  warnings.warn(\n"
     ]
    },
    {
     "name": "stdout",
     "output_type": "stream",
     "text": [
      "[0.9202625258594381, -0.0, 0.8887447998903983]\n",
      "[0.9718181127803744, -0.0, 0.8967184717784707]\n",
      "mAP strict= 0.6030024419166121 ; mAP relaxed = 0.6228455281862817\n",
      "2023-02-15 23:44:21 - mAP strict:   \t60.30\n",
      "2023-02-15 23:44:21 - mAP relaxed:   \t62.28\n",
      "2023-02-15 23:45:40 - TripletEvaluator: Evaluating the model on dev dataset in epoch 1 after 1000 steps:\n"
     ]
    },
    {
     "name": "stderr",
     "output_type": "stream",
     "text": [
      "/home/an/anaconda3/envs/deep_learning_env_2/lib/python3.9/site-packages/sklearn/metrics/_ranking.py:891: UserWarning: No positive class found in y_true, recall is set to one for all thresholds.\n",
      "  warnings.warn(\n",
      "/home/an/anaconda3/envs/deep_learning_env_2/lib/python3.9/site-packages/sklearn/metrics/_ranking.py:891: UserWarning: No positive class found in y_true, recall is set to one for all thresholds.\n",
      "  warnings.warn(\n"
     ]
    },
    {
     "name": "stdout",
     "output_type": "stream",
     "text": [
      "[0.9360184624518417, -0.0, 0.9418818741159982]\n",
      "[0.9694119581566694, -0.0, 0.9489146195609186]\n",
      "mAP strict= 0.6259667788559466 ; mAP relaxed = 0.6394421925725293\n",
      "2023-02-15 23:45:41 - mAP strict:   \t62.60\n",
      "2023-02-15 23:45:41 - mAP relaxed:   \t63.94\n",
      "2023-02-15 23:47:01 - TripletEvaluator: Evaluating the model on dev dataset in epoch 1 after 1500 steps:\n"
     ]
    },
    {
     "name": "stderr",
     "output_type": "stream",
     "text": [
      "/home/an/anaconda3/envs/deep_learning_env_2/lib/python3.9/site-packages/sklearn/metrics/_ranking.py:891: UserWarning: No positive class found in y_true, recall is set to one for all thresholds.\n",
      "  warnings.warn(\n",
      "/home/an/anaconda3/envs/deep_learning_env_2/lib/python3.9/site-packages/sklearn/metrics/_ranking.py:891: UserWarning: No positive class found in y_true, recall is set to one for all thresholds.\n",
      "  warnings.warn(\n"
     ]
    },
    {
     "name": "stdout",
     "output_type": "stream",
     "text": [
      "[0.8072806544782919, -0.0, 0.9665545991213562]\n",
      "[0.8666155487783733, -0.0, 0.9811466599935099]\n",
      "mAP strict= 0.5912784178665493 ; mAP relaxed = 0.6159207362572944\n",
      "2023-02-15 23:47:01 - mAP strict:   \t59.13\n",
      "2023-02-15 23:47:01 - mAP relaxed:   \t61.59\n",
      "2023-02-15 23:48:21 - TripletEvaluator: Evaluating the model on dev dataset in epoch 1 after 2000 steps:\n"
     ]
    },
    {
     "name": "stderr",
     "output_type": "stream",
     "text": [
      "/home/an/anaconda3/envs/deep_learning_env_2/lib/python3.9/site-packages/sklearn/metrics/_ranking.py:891: UserWarning: No positive class found in y_true, recall is set to one for all thresholds.\n",
      "  warnings.warn(\n",
      "/home/an/anaconda3/envs/deep_learning_env_2/lib/python3.9/site-packages/sklearn/metrics/_ranking.py:891: UserWarning: No positive class found in y_true, recall is set to one for all thresholds.\n",
      "  warnings.warn(\n"
     ]
    },
    {
     "name": "stdout",
     "output_type": "stream",
     "text": [
      "[0.8131481279888295, -0.0, 0.9763490599723503]\n",
      "[0.8835837907704204, -0.0, 0.9915224839207736]\n",
      "mAP strict= 0.5964990626537267 ; mAP relaxed = 0.6250354248970647\n",
      "2023-02-15 23:48:22 - mAP strict:   \t59.65\n",
      "2023-02-15 23:48:22 - mAP relaxed:   \t62.50\n",
      "2023-02-15 23:49:41 - TripletEvaluator: Evaluating the model on dev dataset in epoch 1 after 2500 steps:\n"
     ]
    },
    {
     "name": "stderr",
     "output_type": "stream",
     "text": [
      "/home/an/anaconda3/envs/deep_learning_env_2/lib/python3.9/site-packages/sklearn/metrics/_ranking.py:891: UserWarning: No positive class found in y_true, recall is set to one for all thresholds.\n",
      "  warnings.warn(\n",
      "/home/an/anaconda3/envs/deep_learning_env_2/lib/python3.9/site-packages/sklearn/metrics/_ranking.py:891: UserWarning: No positive class found in y_true, recall is set to one for all thresholds.\n",
      "  warnings.warn(\n"
     ]
    },
    {
     "name": "stdout",
     "output_type": "stream",
     "text": [
      "[0.7534731916823704, -0.0, 0.878169903241968]\n",
      "[0.816917026019443, -0.0, 0.8903494217287273]\n",
      "mAP strict= 0.5438810316414461 ; mAP relaxed = 0.5690888159160568\n",
      "2023-02-15 23:49:42 - mAP strict:   \t54.39\n",
      "2023-02-15 23:49:42 - mAP relaxed:   \t56.91\n",
      "2023-02-15 23:51:03 - TripletEvaluator: Evaluating the model on dev dataset in epoch 1 after 3000 steps:\n"
     ]
    },
    {
     "name": "stderr",
     "output_type": "stream",
     "text": [
      "/home/an/anaconda3/envs/deep_learning_env_2/lib/python3.9/site-packages/sklearn/metrics/_ranking.py:891: UserWarning: No positive class found in y_true, recall is set to one for all thresholds.\n",
      "  warnings.warn(\n",
      "/home/an/anaconda3/envs/deep_learning_env_2/lib/python3.9/site-packages/sklearn/metrics/_ranking.py:891: UserWarning: No positive class found in y_true, recall is set to one for all thresholds.\n",
      "  warnings.warn(\n"
     ]
    },
    {
     "name": "stdout",
     "output_type": "stream",
     "text": [
      "[0.023969200198708396, -0.0, 0.18498822605965465]\n",
      "[0.46340409677521643, -0.0, 0.3685737073985922]\n",
      "mAP strict= 0.06965247541945435 ; mAP relaxed = 0.2773259347246029\n",
      "2023-02-15 23:51:04 - mAP strict:   \t6.97\n",
      "2023-02-15 23:51:04 - mAP relaxed:   \t27.73\n",
      "2023-02-15 23:52:21 - TripletEvaluator: Evaluating the model on dev dataset in epoch 1 after 3500 steps:\n"
     ]
    },
    {
     "name": "stderr",
     "output_type": "stream",
     "text": [
      "/home/an/anaconda3/envs/deep_learning_env_2/lib/python3.9/site-packages/sklearn/metrics/_ranking.py:891: UserWarning: No positive class found in y_true, recall is set to one for all thresholds.\n",
      "  warnings.warn(\n",
      "/home/an/anaconda3/envs/deep_learning_env_2/lib/python3.9/site-packages/sklearn/metrics/_ranking.py:891: UserWarning: No positive class found in y_true, recall is set to one for all thresholds.\n",
      "  warnings.warn(\n",
      "/home/an/anaconda3/envs/deep_learning_env_2/lib/python3.9/site-packages/sklearn/metrics/_ranking.py:891: UserWarning: No positive class found in y_true, recall is set to one for all thresholds.\n",
      "  warnings.warn(\n"
     ]
    },
    {
     "name": "stdout",
     "output_type": "stream",
     "text": [
      "[-0.0, -0.0, 0.16068376068376067]\n",
      "[0.3669247715933389, -0.0, 0.263560157790927]\n",
      "mAP strict= 0.053561253561253554 ; mAP relaxed = 0.21016164312808863\n",
      "2023-02-15 23:52:22 - mAP strict:   \t5.36\n",
      "2023-02-15 23:52:22 - mAP relaxed:   \t21.02\n",
      "2023-02-15 23:53:37 - TripletEvaluator: Evaluating the model on dev dataset in epoch 1 after 4000 steps:\n"
     ]
    },
    {
     "name": "stderr",
     "output_type": "stream",
     "text": [
      "/home/an/anaconda3/envs/deep_learning_env_2/lib/python3.9/site-packages/sklearn/metrics/_ranking.py:891: UserWarning: No positive class found in y_true, recall is set to one for all thresholds.\n",
      "  warnings.warn(\n",
      "/home/an/anaconda3/envs/deep_learning_env_2/lib/python3.9/site-packages/sklearn/metrics/_ranking.py:891: UserWarning: No positive class found in y_true, recall is set to one for all thresholds.\n",
      "  warnings.warn(\n"
     ]
    },
    {
     "name": "stdout",
     "output_type": "stream",
     "text": [
      "[0.04918032786885246, -0.0, 0.1454497408619749]\n",
      "[0.3649058894960534, -0.0, 0.2986862714041849]\n",
      "mAP strict= 0.06487668957694245 ; mAP relaxed = 0.2211973869667461\n",
      "2023-02-15 23:53:37 - mAP strict:   \t6.49\n",
      "2023-02-15 23:53:37 - mAP relaxed:   \t22.12\n",
      "2023-02-15 23:54:19 - TripletEvaluator: Evaluating the model on dev dataset after epoch 1:\n",
      "[0.03656047015156202, -0.0, 0.2263139034878165]\n",
      "[0.35716053201360964, -0.0, 0.3537851037851038]\n",
      "mAP strict= 0.08762479121312616 ; mAP relaxed = 0.23698187859957112\n",
      "2023-02-15 23:54:19 - mAP strict:   \t8.76\n",
      "2023-02-15 23:54:19 - mAP relaxed:   \t23.70\n"
     ]
    },
    {
     "name": "stderr",
     "output_type": "stream",
     "text": [
      "/home/an/anaconda3/envs/deep_learning_env_2/lib/python3.9/site-packages/sklearn/metrics/_ranking.py:891: UserWarning: No positive class found in y_true, recall is set to one for all thresholds.\n",
      "  warnings.warn(\n",
      "/home/an/anaconda3/envs/deep_learning_env_2/lib/python3.9/site-packages/sklearn/metrics/_ranking.py:891: UserWarning: No positive class found in y_true, recall is set to one for all thresholds.\n",
      "  warnings.warn(\n"
     ]
    },
    {
     "data": {
      "application/vnd.jupyter.widget-view+json": {
       "model_id": "d5c568078736478eb541dd010e17aa2b",
       "version_major": 2,
       "version_minor": 0
      },
      "text/plain": [
       "Iteration:   0%|          | 0/4259 [00:00<?, ?it/s]"
      ]
     },
     "metadata": {},
     "output_type": "display_data"
    },
    {
     "name": "stdout",
     "output_type": "stream",
     "text": [
      "2023-02-15 23:55:40 - TripletEvaluator: Evaluating the model on dev dataset in epoch 2 after 500 steps:\n"
     ]
    },
    {
     "name": "stderr",
     "output_type": "stream",
     "text": [
      "/home/an/anaconda3/envs/deep_learning_env_2/lib/python3.9/site-packages/sklearn/metrics/_ranking.py:891: UserWarning: No positive class found in y_true, recall is set to one for all thresholds.\n",
      "  warnings.warn(\n",
      "/home/an/anaconda3/envs/deep_learning_env_2/lib/python3.9/site-packages/sklearn/metrics/_ranking.py:891: UserWarning: No positive class found in y_true, recall is set to one for all thresholds.\n",
      "  warnings.warn(\n"
     ]
    },
    {
     "name": "stdout",
     "output_type": "stream",
     "text": [
      "[0.067992941712204, -0.0, 0.08750971250971251]\n",
      "[0.4176867030965392, -0.0, 0.32537220843672454]\n",
      "mAP strict= 0.05183421807397217 ; mAP relaxed = 0.24768630384442125\n",
      "2023-02-15 23:55:40 - mAP strict:   \t5.18\n",
      "2023-02-15 23:55:40 - mAP relaxed:   \t24.77\n",
      "2023-02-15 23:57:00 - TripletEvaluator: Evaluating the model on dev dataset in epoch 2 after 1000 steps:\n"
     ]
    },
    {
     "name": "stderr",
     "output_type": "stream",
     "text": [
      "/home/an/anaconda3/envs/deep_learning_env_2/lib/python3.9/site-packages/sklearn/metrics/_ranking.py:891: UserWarning: No positive class found in y_true, recall is set to one for all thresholds.\n",
      "  warnings.warn(\n",
      "/home/an/anaconda3/envs/deep_learning_env_2/lib/python3.9/site-packages/sklearn/metrics/_ranking.py:891: UserWarning: No positive class found in y_true, recall is set to one for all thresholds.\n",
      "  warnings.warn(\n"
     ]
    },
    {
     "name": "stdout",
     "output_type": "stream",
     "text": [
      "[0.045454545454545456, -0.0, 0.09826866681705392]\n",
      "[0.3360082540410409, -0.0, 0.2829358514842386]\n",
      "mAP strict= 0.047907737423866455 ; mAP relaxed = 0.20631470184175985\n",
      "2023-02-15 23:57:00 - mAP strict:   \t4.79\n",
      "2023-02-15 23:57:00 - mAP relaxed:   \t20.63\n",
      "2023-02-15 23:58:19 - TripletEvaluator: Evaluating the model on dev dataset in epoch 2 after 1500 steps:\n"
     ]
    },
    {
     "name": "stderr",
     "output_type": "stream",
     "text": [
      "/home/an/anaconda3/envs/deep_learning_env_2/lib/python3.9/site-packages/sklearn/metrics/_ranking.py:891: UserWarning: No positive class found in y_true, recall is set to one for all thresholds.\n",
      "  warnings.warn(\n",
      "/home/an/anaconda3/envs/deep_learning_env_2/lib/python3.9/site-packages/sklearn/metrics/_ranking.py:891: UserWarning: No positive class found in y_true, recall is set to one for all thresholds.\n",
      "  warnings.warn(\n"
     ]
    },
    {
     "name": "stdout",
     "output_type": "stream",
     "text": [
      "[0.02631578947368421, -0.0, 0.252011877011877]\n",
      "[0.3640996519401548, -0.0, 0.3467042217042217]\n",
      "mAP strict= 0.09277588882852039 ; mAP relaxed = 0.2369346245481255\n",
      "2023-02-15 23:58:19 - mAP strict:   \t9.28\n",
      "2023-02-15 23:58:19 - mAP relaxed:   \t23.69\n",
      "2023-02-15 23:59:36 - TripletEvaluator: Evaluating the model on dev dataset in epoch 2 after 2000 steps:\n"
     ]
    },
    {
     "name": "stderr",
     "output_type": "stream",
     "text": [
      "/home/an/anaconda3/envs/deep_learning_env_2/lib/python3.9/site-packages/sklearn/metrics/_ranking.py:891: UserWarning: No positive class found in y_true, recall is set to one for all thresholds.\n",
      "  warnings.warn(\n",
      "/home/an/anaconda3/envs/deep_learning_env_2/lib/python3.9/site-packages/sklearn/metrics/_ranking.py:891: UserWarning: No positive class found in y_true, recall is set to one for all thresholds.\n",
      "  warnings.warn(\n"
     ]
    },
    {
     "name": "stdout",
     "output_type": "stream",
     "text": [
      "[0.03278688524590164, -0.0, 0.10576923076923077]\n",
      "[0.36065573770491804, -0.0, 0.2692307692307692]\n",
      "mAP strict= 0.046185372005044134 ; mAP relaxed = 0.20996216897856243\n",
      "2023-02-15 23:59:37 - mAP strict:   \t4.62\n",
      "2023-02-15 23:59:37 - mAP relaxed:   \t21.00\n",
      "2023-02-16 00:00:57 - TripletEvaluator: Evaluating the model on dev dataset in epoch 2 after 2500 steps:\n"
     ]
    },
    {
     "name": "stderr",
     "output_type": "stream",
     "text": [
      "/home/an/anaconda3/envs/deep_learning_env_2/lib/python3.9/site-packages/sklearn/metrics/_ranking.py:891: UserWarning: No positive class found in y_true, recall is set to one for all thresholds.\n",
      "  warnings.warn(\n",
      "/home/an/anaconda3/envs/deep_learning_env_2/lib/python3.9/site-packages/sklearn/metrics/_ranking.py:891: UserWarning: No positive class found in y_true, recall is set to one for all thresholds.\n",
      "  warnings.warn(\n"
     ]
    },
    {
     "name": "stdout",
     "output_type": "stream",
     "text": [
      "[0.04998698933125163, -0.0, 0.12842809364548494]\n",
      "[0.35833430221292095, -0.0, 0.2743072145246058]\n",
      "mAP strict= 0.05947169432557886 ; mAP relaxed = 0.2108805055791756\n",
      "2023-02-16 00:00:57 - mAP strict:   \t5.95\n",
      "2023-02-16 00:00:57 - mAP relaxed:   \t21.09\n",
      "2023-02-16 00:02:12 - TripletEvaluator: Evaluating the model on dev dataset in epoch 2 after 3000 steps:\n"
     ]
    },
    {
     "name": "stderr",
     "output_type": "stream",
     "text": [
      "/home/an/anaconda3/envs/deep_learning_env_2/lib/python3.9/site-packages/sklearn/metrics/_ranking.py:891: UserWarning: No positive class found in y_true, recall is set to one for all thresholds.\n",
      "  warnings.warn(\n",
      "/home/an/anaconda3/envs/deep_learning_env_2/lib/python3.9/site-packages/sklearn/metrics/_ranking.py:891: UserWarning: No positive class found in y_true, recall is set to one for all thresholds.\n",
      "  warnings.warn(\n"
     ]
    },
    {
     "name": "stdout",
     "output_type": "stream",
     "text": [
      "[0.08805620608899298, -0.0, 0.10576923076923077]\n",
      "[0.34147429463588713, -0.0, 0.25961538461538464]\n",
      "mAP strict= 0.06460847895274124 ; mAP relaxed = 0.2003632264170906\n",
      "2023-02-16 00:02:12 - mAP strict:   \t6.46\n",
      "2023-02-16 00:02:12 - mAP relaxed:   \t20.04\n",
      "2023-02-16 00:03:26 - TripletEvaluator: Evaluating the model on dev dataset in epoch 2 after 3500 steps:\n"
     ]
    },
    {
     "name": "stderr",
     "output_type": "stream",
     "text": [
      "/home/an/anaconda3/envs/deep_learning_env_2/lib/python3.9/site-packages/sklearn/metrics/_ranking.py:891: UserWarning: No positive class found in y_true, recall is set to one for all thresholds.\n",
      "  warnings.warn(\n",
      "/home/an/anaconda3/envs/deep_learning_env_2/lib/python3.9/site-packages/sklearn/metrics/_ranking.py:891: UserWarning: No positive class found in y_true, recall is set to one for all thresholds.\n",
      "  warnings.warn(\n"
     ]
    },
    {
     "name": "stdout",
     "output_type": "stream",
     "text": [
      "[0.037438048036599315, -0.0, 0.19230769230769232]\n",
      "[0.3980215929461961, -0.0, 0.3173076923076923]\n",
      "mAP strict= 0.07658191344809721 ; mAP relaxed = 0.23844309508462946\n",
      "2023-02-16 00:03:27 - mAP strict:   \t7.66\n",
      "2023-02-16 00:03:27 - mAP relaxed:   \t23.84\n",
      "2023-02-16 00:04:41 - TripletEvaluator: Evaluating the model on dev dataset in epoch 2 after 4000 steps:\n"
     ]
    },
    {
     "name": "stderr",
     "output_type": "stream",
     "text": [
      "/home/an/anaconda3/envs/deep_learning_env_2/lib/python3.9/site-packages/sklearn/metrics/_ranking.py:891: UserWarning: No positive class found in y_true, recall is set to one for all thresholds.\n",
      "  warnings.warn(\n",
      "/home/an/anaconda3/envs/deep_learning_env_2/lib/python3.9/site-packages/sklearn/metrics/_ranking.py:891: UserWarning: No positive class found in y_true, recall is set to one for all thresholds.\n",
      "  warnings.warn(\n"
     ]
    },
    {
     "name": "stdout",
     "output_type": "stream",
     "text": [
      "[0.13043478260869565, -0.0, 0.16367521367521365]\n",
      "[0.3909944528804736, -0.0, 0.28964862298195637]\n",
      "mAP strict= 0.09803666542796978 ; mAP relaxed = 0.22688102528747667\n",
      "2023-02-16 00:04:42 - mAP strict:   \t9.80\n",
      "2023-02-16 00:04:42 - mAP relaxed:   \t22.69\n",
      "2023-02-16 00:05:20 - TripletEvaluator: Evaluating the model on dev dataset after epoch 2:\n",
      "[0.06093933734523069, -0.0, 0.08653846153846154]\n",
      "[0.3736723952536362, -0.0, 0.25]\n",
      "mAP strict= 0.049159266294564075 ; mAP relaxed = 0.20789079841787875\n",
      "2023-02-16 00:05:21 - mAP strict:   \t4.92\n",
      "2023-02-16 00:05:21 - mAP relaxed:   \t20.79\n"
     ]
    },
    {
     "name": "stderr",
     "output_type": "stream",
     "text": [
      "/home/an/anaconda3/envs/deep_learning_env_2/lib/python3.9/site-packages/sklearn/metrics/_ranking.py:891: UserWarning: No positive class found in y_true, recall is set to one for all thresholds.\n",
      "  warnings.warn(\n",
      "/home/an/anaconda3/envs/deep_learning_env_2/lib/python3.9/site-packages/sklearn/metrics/_ranking.py:891: UserWarning: No positive class found in y_true, recall is set to one for all thresholds.\n",
      "  warnings.warn(\n"
     ]
    },
    {
     "data": {
      "application/vnd.jupyter.widget-view+json": {
       "model_id": "cad6eda2ee0c4ef99a6628c153d78b53",
       "version_major": 2,
       "version_minor": 0
      },
      "text/plain": [
       "Iteration:   0%|          | 0/4259 [00:00<?, ?it/s]"
      ]
     },
     "metadata": {},
     "output_type": "display_data"
    },
    {
     "name": "stdout",
     "output_type": "stream",
     "text": [
      "2023-02-16 00:06:36 - TripletEvaluator: Evaluating the model on dev dataset in epoch 3 after 500 steps:\n"
     ]
    },
    {
     "name": "stderr",
     "output_type": "stream",
     "text": [
      "/home/an/anaconda3/envs/deep_learning_env_2/lib/python3.9/site-packages/sklearn/metrics/_ranking.py:891: UserWarning: No positive class found in y_true, recall is set to one for all thresholds.\n",
      "  warnings.warn(\n",
      "/home/an/anaconda3/envs/deep_learning_env_2/lib/python3.9/site-packages/sklearn/metrics/_ranking.py:891: UserWarning: No positive class found in y_true, recall is set to one for all thresholds.\n",
      "  warnings.warn(\n"
     ]
    },
    {
     "name": "stdout",
     "output_type": "stream",
     "text": [
      "[0.04601873536299766, -0.0, 0.1395104895104895]\n",
      "[0.4072740046838408, -0.0, 0.2325174825174825]\n",
      "mAP strict= 0.06184307495782906 ; mAP relaxed = 0.21326382906710775\n",
      "2023-02-16 00:06:36 - mAP strict:   \t6.18\n",
      "2023-02-16 00:06:36 - mAP relaxed:   \t21.33\n",
      "2023-02-16 00:07:51 - TripletEvaluator: Evaluating the model on dev dataset in epoch 3 after 1000 steps:\n"
     ]
    },
    {
     "name": "stderr",
     "output_type": "stream",
     "text": [
      "/home/an/anaconda3/envs/deep_learning_env_2/lib/python3.9/site-packages/sklearn/metrics/_ranking.py:891: UserWarning: No positive class found in y_true, recall is set to one for all thresholds.\n",
      "  warnings.warn(\n",
      "/home/an/anaconda3/envs/deep_learning_env_2/lib/python3.9/site-packages/sklearn/metrics/_ranking.py:891: UserWarning: No positive class found in y_true, recall is set to one for all thresholds.\n",
      "  warnings.warn(\n"
     ]
    },
    {
     "name": "stdout",
     "output_type": "stream",
     "text": [
      "[0.12271662763466043, -0.0, 0.18824786324786325]\n",
      "[0.38801136080522197, -0.0, 0.2929487179487179]\n",
      "mAP strict= 0.10365483029417455 ; mAP relaxed = 0.22698669291797993\n",
      "2023-02-16 00:07:51 - mAP strict:   \t10.37\n",
      "2023-02-16 00:07:51 - mAP relaxed:   \t22.70\n",
      "2023-02-16 00:09:07 - TripletEvaluator: Evaluating the model on dev dataset in epoch 3 after 1500 steps:\n"
     ]
    },
    {
     "name": "stderr",
     "output_type": "stream",
     "text": [
      "/home/an/anaconda3/envs/deep_learning_env_2/lib/python3.9/site-packages/sklearn/metrics/_ranking.py:891: UserWarning: No positive class found in y_true, recall is set to one for all thresholds.\n",
      "  warnings.warn(\n",
      "/home/an/anaconda3/envs/deep_learning_env_2/lib/python3.9/site-packages/sklearn/metrics/_ranking.py:891: UserWarning: No positive class found in y_true, recall is set to one for all thresholds.\n",
      "  warnings.warn(\n"
     ]
    },
    {
     "name": "stdout",
     "output_type": "stream",
     "text": [
      "[0.05737704918032787, -0.0, 0.0673076923076923]\n",
      "[0.3841413789094291, -0.0, 0.2980769230769231]\n",
      "mAP strict= 0.04156158049600672 ; mAP relaxed = 0.2274061006621174\n",
      "2023-02-16 00:09:08 - mAP strict:   \t4.16\n",
      "2023-02-16 00:09:08 - mAP relaxed:   \t22.74\n",
      "2023-02-16 00:10:22 - TripletEvaluator: Evaluating the model on dev dataset in epoch 3 after 2000 steps:\n"
     ]
    },
    {
     "name": "stderr",
     "output_type": "stream",
     "text": [
      "/home/an/anaconda3/envs/deep_learning_env_2/lib/python3.9/site-packages/sklearn/metrics/_ranking.py:891: UserWarning: No positive class found in y_true, recall is set to one for all thresholds.\n",
      "  warnings.warn(\n",
      "/home/an/anaconda3/envs/deep_learning_env_2/lib/python3.9/site-packages/sklearn/metrics/_ranking.py:891: UserWarning: No positive class found in y_true, recall is set to one for all thresholds.\n",
      "  warnings.warn(\n"
     ]
    },
    {
     "name": "stdout",
     "output_type": "stream",
     "text": [
      "[0.03278688524590164, -0.0, 0.0673076923076923]\n",
      "[0.4098360655737705, -0.0, 0.20192307692307693]\n",
      "mAP strict= 0.03336485918453131 ; mAP relaxed = 0.2039197141656158\n",
      "2023-02-16 00:10:22 - mAP strict:   \t3.34\n",
      "2023-02-16 00:10:22 - mAP relaxed:   \t20.39\n",
      "2023-02-16 00:11:36 - TripletEvaluator: Evaluating the model on dev dataset in epoch 3 after 2500 steps:\n"
     ]
    },
    {
     "name": "stderr",
     "output_type": "stream",
     "text": [
      "/home/an/anaconda3/envs/deep_learning_env_2/lib/python3.9/site-packages/sklearn/metrics/_ranking.py:891: UserWarning: No positive class found in y_true, recall is set to one for all thresholds.\n",
      "  warnings.warn(\n",
      "/home/an/anaconda3/envs/deep_learning_env_2/lib/python3.9/site-packages/sklearn/metrics/_ranking.py:891: UserWarning: No positive class found in y_true, recall is set to one for all thresholds.\n",
      "  warnings.warn(\n"
     ]
    },
    {
     "name": "stdout",
     "output_type": "stream",
     "text": [
      "[0.1639810868821352, -0.0, 0.16837989376352547]\n",
      "[0.3872424697007306, -0.0, 0.3201226309921962]\n",
      "mAP strict= 0.11078699354855355 ; mAP relaxed = 0.23578836689764227\n",
      "2023-02-16 00:11:37 - mAP strict:   \t11.08\n",
      "2023-02-16 00:11:37 - mAP relaxed:   \t23.58\n",
      "2023-02-16 00:12:52 - TripletEvaluator: Evaluating the model on dev dataset in epoch 3 after 3000 steps:\n"
     ]
    },
    {
     "name": "stderr",
     "output_type": "stream",
     "text": [
      "/home/an/anaconda3/envs/deep_learning_env_2/lib/python3.9/site-packages/sklearn/metrics/_ranking.py:891: UserWarning: No positive class found in y_true, recall is set to one for all thresholds.\n",
      "  warnings.warn(\n",
      "/home/an/anaconda3/envs/deep_learning_env_2/lib/python3.9/site-packages/sklearn/metrics/_ranking.py:891: UserWarning: No positive class found in y_true, recall is set to one for all thresholds.\n",
      "  warnings.warn(\n"
     ]
    },
    {
     "name": "stdout",
     "output_type": "stream",
     "text": [
      "[0.040983606557377046, -0.0, 0.12956585667853274]\n",
      "[0.3360655737704918, -0.0, 0.2911047184966563]\n",
      "mAP strict= 0.05684982107863659 ; mAP relaxed = 0.20905676408904936\n",
      "2023-02-16 00:12:52 - mAP strict:   \t5.68\n",
      "2023-02-16 00:12:52 - mAP relaxed:   \t20.91\n",
      "2023-02-16 00:14:07 - TripletEvaluator: Evaluating the model on dev dataset in epoch 3 after 3500 steps:\n"
     ]
    },
    {
     "name": "stderr",
     "output_type": "stream",
     "text": [
      "/home/an/anaconda3/envs/deep_learning_env_2/lib/python3.9/site-packages/sklearn/metrics/_ranking.py:891: UserWarning: No positive class found in y_true, recall is set to one for all thresholds.\n",
      "  warnings.warn(\n",
      "/home/an/anaconda3/envs/deep_learning_env_2/lib/python3.9/site-packages/sklearn/metrics/_ranking.py:891: UserWarning: No positive class found in y_true, recall is set to one for all thresholds.\n",
      "  warnings.warn(\n"
     ]
    },
    {
     "name": "stdout",
     "output_type": "stream",
     "text": [
      "[0.044642857142857144, -0.0, 0.19067103109656303]\n",
      "[0.4283912808502972, -0.0, 0.2555919258046918]\n",
      "mAP strict= 0.0784379627464734 ; mAP relaxed = 0.22799440221832967\n",
      "2023-02-16 00:14:08 - mAP strict:   \t7.84\n",
      "2023-02-16 00:14:08 - mAP relaxed:   \t22.80\n",
      "2023-02-16 00:15:22 - TripletEvaluator: Evaluating the model on dev dataset in epoch 3 after 4000 steps:\n"
     ]
    },
    {
     "name": "stderr",
     "output_type": "stream",
     "text": [
      "/home/an/anaconda3/envs/deep_learning_env_2/lib/python3.9/site-packages/sklearn/metrics/_ranking.py:891: UserWarning: No positive class found in y_true, recall is set to one for all thresholds.\n",
      "  warnings.warn(\n",
      "/home/an/anaconda3/envs/deep_learning_env_2/lib/python3.9/site-packages/sklearn/metrics/_ranking.py:891: UserWarning: No positive class found in y_true, recall is set to one for all thresholds.\n",
      "  warnings.warn(\n"
     ]
    },
    {
     "name": "stdout",
     "output_type": "stream",
     "text": [
      "[0.13114754098360656, -0.0, 0.2012820512820513]\n",
      "[0.3524590163934426, -0.0, 0.2953296703296703]\n",
      "mAP strict= 0.1108098640885526 ; mAP relaxed = 0.21592956224103763\n",
      "2023-02-16 00:15:23 - mAP strict:   \t11.08\n",
      "2023-02-16 00:15:23 - mAP relaxed:   \t21.59\n",
      "2023-02-16 00:16:01 - TripletEvaluator: Evaluating the model on dev dataset after epoch 3:\n",
      "[0.10655737704918032, -0.0, 0.027633402633402637]\n",
      "[0.4426229508196721, -0.0, 0.19012474012474015]\n",
      "mAP strict= 0.044730259894194324 ; mAP relaxed = 0.21091589698147076\n",
      "2023-02-16 00:16:02 - mAP strict:   \t4.47\n",
      "2023-02-16 00:16:02 - mAP relaxed:   \t21.09\n"
     ]
    },
    {
     "name": "stderr",
     "output_type": "stream",
     "text": [
      "/home/an/anaconda3/envs/deep_learning_env_2/lib/python3.9/site-packages/sklearn/metrics/_ranking.py:891: UserWarning: No positive class found in y_true, recall is set to one for all thresholds.\n",
      "  warnings.warn(\n",
      "/home/an/anaconda3/envs/deep_learning_env_2/lib/python3.9/site-packages/sklearn/metrics/_ranking.py:891: UserWarning: No positive class found in y_true, recall is set to one for all thresholds.\n",
      "  warnings.warn(\n"
     ]
    },
    {
     "data": {
      "application/vnd.jupyter.widget-view+json": {
       "model_id": "e05d4ccf59ac4ff4a8c1d079ab22d9f8",
       "version_major": 2,
       "version_minor": 0
      },
      "text/plain": [
       "Iteration:   0%|          | 0/4259 [00:00<?, ?it/s]"
      ]
     },
     "metadata": {},
     "output_type": "display_data"
    },
    {
     "name": "stdout",
     "output_type": "stream",
     "text": [
      "2023-02-16 00:17:16 - TripletEvaluator: Evaluating the model on dev dataset in epoch 4 after 500 steps:\n"
     ]
    },
    {
     "name": "stderr",
     "output_type": "stream",
     "text": [
      "/home/an/anaconda3/envs/deep_learning_env_2/lib/python3.9/site-packages/sklearn/metrics/_ranking.py:891: UserWarning: No positive class found in y_true, recall is set to one for all thresholds.\n",
      "  warnings.warn(\n",
      "/home/an/anaconda3/envs/deep_learning_env_2/lib/python3.9/site-packages/sklearn/metrics/_ranking.py:891: UserWarning: No positive class found in y_true, recall is set to one for all thresholds.\n",
      "  warnings.warn(\n"
     ]
    },
    {
     "name": "stdout",
     "output_type": "stream",
     "text": [
      "[0.05521331839934833, -0.0, 0.21121378621378623]\n",
      "[0.36388251882611794, -0.0, 0.2855015673981191]\n",
      "mAP strict= 0.08880903487104486 ; mAP relaxed = 0.21646136207474567\n",
      "2023-02-16 00:17:16 - mAP strict:   \t8.88\n",
      "2023-02-16 00:17:16 - mAP relaxed:   \t21.65\n",
      "2023-02-16 00:18:31 - TripletEvaluator: Evaluating the model on dev dataset in epoch 4 after 1000 steps:\n"
     ]
    },
    {
     "name": "stderr",
     "output_type": "stream",
     "text": [
      "/home/an/anaconda3/envs/deep_learning_env_2/lib/python3.9/site-packages/sklearn/metrics/_ranking.py:891: UserWarning: No positive class found in y_true, recall is set to one for all thresholds.\n",
      "  warnings.warn(\n",
      "/home/an/anaconda3/envs/deep_learning_env_2/lib/python3.9/site-packages/sklearn/metrics/_ranking.py:891: UserWarning: No positive class found in y_true, recall is set to one for all thresholds.\n",
      "  warnings.warn(\n"
     ]
    },
    {
     "name": "stdout",
     "output_type": "stream",
     "text": [
      "[0.12828282828282828, -0.0, 0.09615384615384616]\n",
      "[0.36116099014939473, -0.0, 0.27486737400530503]\n",
      "mAP strict= 0.07481222481222481 ; mAP relaxed = 0.21200945471823326\n",
      "2023-02-16 00:18:31 - mAP strict:   \t7.48\n",
      "2023-02-16 00:18:31 - mAP relaxed:   \t21.20\n",
      "2023-02-16 00:19:46 - TripletEvaluator: Evaluating the model on dev dataset in epoch 4 after 1500 steps:\n"
     ]
    },
    {
     "name": "stderr",
     "output_type": "stream",
     "text": [
      "/home/an/anaconda3/envs/deep_learning_env_2/lib/python3.9/site-packages/sklearn/metrics/_ranking.py:891: UserWarning: No positive class found in y_true, recall is set to one for all thresholds.\n",
      "  warnings.warn(\n",
      "/home/an/anaconda3/envs/deep_learning_env_2/lib/python3.9/site-packages/sklearn/metrics/_ranking.py:891: UserWarning: No positive class found in y_true, recall is set to one for all thresholds.\n",
      "  warnings.warn(\n"
     ]
    },
    {
     "name": "stdout",
     "output_type": "stream",
     "text": [
      "[0.01639344262295082, -0.0, 0.2055668016194332]\n",
      "[0.3719669032198084, -0.0, 0.35912087912087914]\n",
      "mAP strict= 0.07398674808079467 ; mAP relaxed = 0.24369592744689586\n",
      "2023-02-16 00:19:47 - mAP strict:   \t7.40\n",
      "2023-02-16 00:19:47 - mAP relaxed:   \t24.37\n",
      "2023-02-16 00:21:01 - TripletEvaluator: Evaluating the model on dev dataset in epoch 4 after 2000 steps:\n"
     ]
    },
    {
     "name": "stderr",
     "output_type": "stream",
     "text": [
      "/home/an/anaconda3/envs/deep_learning_env_2/lib/python3.9/site-packages/sklearn/metrics/_ranking.py:891: UserWarning: No positive class found in y_true, recall is set to one for all thresholds.\n",
      "  warnings.warn(\n",
      "/home/an/anaconda3/envs/deep_learning_env_2/lib/python3.9/site-packages/sklearn/metrics/_ranking.py:891: UserWarning: No positive class found in y_true, recall is set to one for all thresholds.\n",
      "  warnings.warn(\n"
     ]
    },
    {
     "name": "stdout",
     "output_type": "stream",
     "text": [
      "[0.03702555014030424, -0.0, 0.06]\n",
      "[0.3880181410919116, -0.0, 0.32]\n",
      "mAP strict= 0.032341850046768074 ; mAP relaxed = 0.23600604703063718\n",
      "2023-02-16 00:21:02 - mAP strict:   \t3.23\n",
      "2023-02-16 00:21:02 - mAP relaxed:   \t23.60\n",
      "2023-02-16 00:22:16 - TripletEvaluator: Evaluating the model on dev dataset in epoch 4 after 2500 steps:\n"
     ]
    },
    {
     "name": "stderr",
     "output_type": "stream",
     "text": [
      "/home/an/anaconda3/envs/deep_learning_env_2/lib/python3.9/site-packages/sklearn/metrics/_ranking.py:891: UserWarning: No positive class found in y_true, recall is set to one for all thresholds.\n",
      "  warnings.warn(\n",
      "/home/an/anaconda3/envs/deep_learning_env_2/lib/python3.9/site-packages/sklearn/metrics/_ranking.py:891: UserWarning: No positive class found in y_true, recall is set to one for all thresholds.\n",
      "  warnings.warn(\n"
     ]
    },
    {
     "name": "stdout",
     "output_type": "stream",
     "text": [
      "[0.14457949696833594, -0.0, 0.050603318250377075]\n",
      "[0.37750977327827606, -0.0, 0.2682126696832579]\n",
      "mAP strict= 0.06506093840623767 ; mAP relaxed = 0.21524081432051134\n",
      "2023-02-16 00:22:17 - mAP strict:   \t6.51\n",
      "2023-02-16 00:22:17 - mAP relaxed:   \t21.52\n",
      "2023-02-16 00:23:33 - TripletEvaluator: Evaluating the model on dev dataset in epoch 4 after 3000 steps:\n"
     ]
    },
    {
     "name": "stderr",
     "output_type": "stream",
     "text": [
      "/home/an/anaconda3/envs/deep_learning_env_2/lib/python3.9/site-packages/sklearn/metrics/_ranking.py:891: UserWarning: No positive class found in y_true, recall is set to one for all thresholds.\n",
      "  warnings.warn(\n",
      "/home/an/anaconda3/envs/deep_learning_env_2/lib/python3.9/site-packages/sklearn/metrics/_ranking.py:891: UserWarning: No positive class found in y_true, recall is set to one for all thresholds.\n",
      "  warnings.warn(\n"
     ]
    },
    {
     "name": "stdout",
     "output_type": "stream",
     "text": [
      "[0.197622345647467, -0.0, 0.22981857332661382]\n",
      "[0.4209341169192701, -0.0, 0.35111771789853985]\n",
      "mAP strict= 0.1424803063246936 ; mAP relaxed = 0.25735061160593664\n",
      "2023-02-16 00:23:33 - mAP strict:   \t14.25\n",
      "2023-02-16 00:23:33 - mAP relaxed:   \t25.74\n",
      "2023-02-16 00:24:50 - TripletEvaluator: Evaluating the model on dev dataset in epoch 4 after 3500 steps:\n"
     ]
    },
    {
     "name": "stderr",
     "output_type": "stream",
     "text": [
      "/home/an/anaconda3/envs/deep_learning_env_2/lib/python3.9/site-packages/sklearn/metrics/_ranking.py:891: UserWarning: No positive class found in y_true, recall is set to one for all thresholds.\n",
      "  warnings.warn(\n",
      "/home/an/anaconda3/envs/deep_learning_env_2/lib/python3.9/site-packages/sklearn/metrics/_ranking.py:891: UserWarning: No positive class found in y_true, recall is set to one for all thresholds.\n",
      "  warnings.warn(\n"
     ]
    },
    {
     "name": "stdout",
     "output_type": "stream",
     "text": [
      "[0.08727556596409056, -0.0, 0.10563751317175973]\n",
      "[0.4167723783502472, -0.0, 0.2463666470515785]\n",
      "mAP strict= 0.0643043597119501 ; mAP relaxed = 0.22104634180060856\n",
      "2023-02-16 00:24:50 - mAP strict:   \t6.43\n",
      "2023-02-16 00:24:50 - mAP relaxed:   \t22.10\n",
      "2023-02-16 00:26:08 - TripletEvaluator: Evaluating the model on dev dataset in epoch 4 after 4000 steps:\n"
     ]
    },
    {
     "name": "stderr",
     "output_type": "stream",
     "text": [
      "/home/an/anaconda3/envs/deep_learning_env_2/lib/python3.9/site-packages/sklearn/metrics/_ranking.py:891: UserWarning: No positive class found in y_true, recall is set to one for all thresholds.\n",
      "  warnings.warn(\n",
      "/home/an/anaconda3/envs/deep_learning_env_2/lib/python3.9/site-packages/sklearn/metrics/_ranking.py:891: UserWarning: No positive class found in y_true, recall is set to one for all thresholds.\n",
      "  warnings.warn(\n"
     ]
    },
    {
     "name": "stdout",
     "output_type": "stream",
     "text": [
      "[0.1126463700234192, -0.0, 0.10327172827172827]\n",
      "[0.4217523074803692, -0.0, 0.2774475524475524]\n",
      "mAP strict= 0.07197269943171582 ; mAP relaxed = 0.2330666199759739\n",
      "2023-02-16 00:26:08 - mAP strict:   \t7.20\n",
      "2023-02-16 00:26:08 - mAP relaxed:   \t23.31\n",
      "2023-02-16 00:26:49 - TripletEvaluator: Evaluating the model on dev dataset after epoch 4:\n",
      "[0.023639819434545024, -0.0, 0.08653846153846154]\n",
      "[0.41105488239486815, -0.0, 0.347165991902834]\n",
      "mAP strict= 0.03672609365766885 ; mAP relaxed = 0.2527402914325674\n",
      "2023-02-16 00:26:49 - mAP strict:   \t3.67\n",
      "2023-02-16 00:26:49 - mAP relaxed:   \t25.27\n"
     ]
    },
    {
     "name": "stderr",
     "output_type": "stream",
     "text": [
      "/home/an/anaconda3/envs/deep_learning_env_2/lib/python3.9/site-packages/sklearn/metrics/_ranking.py:891: UserWarning: No positive class found in y_true, recall is set to one for all thresholds.\n",
      "  warnings.warn(\n",
      "/home/an/anaconda3/envs/deep_learning_env_2/lib/python3.9/site-packages/sklearn/metrics/_ranking.py:891: UserWarning: No positive class found in y_true, recall is set to one for all thresholds.\n",
      "  warnings.warn(\n"
     ]
    },
    {
     "data": {
      "application/vnd.jupyter.widget-view+json": {
       "model_id": "16dc9c6798a3422e8cf1e6d96dc829f8",
       "version_major": 2,
       "version_minor": 0
      },
      "text/plain": [
       "Iteration:   0%|          | 0/4259 [00:00<?, ?it/s]"
      ]
     },
     "metadata": {},
     "output_type": "display_data"
    },
    {
     "name": "stdout",
     "output_type": "stream",
     "text": [
      "2023-02-16 00:28:07 - TripletEvaluator: Evaluating the model on dev dataset in epoch 5 after 500 steps:\n"
     ]
    },
    {
     "name": "stderr",
     "output_type": "stream",
     "text": [
      "/home/an/anaconda3/envs/deep_learning_env_2/lib/python3.9/site-packages/sklearn/metrics/_ranking.py:891: UserWarning: No positive class found in y_true, recall is set to one for all thresholds.\n",
      "  warnings.warn(\n",
      "/home/an/anaconda3/envs/deep_learning_env_2/lib/python3.9/site-packages/sklearn/metrics/_ranking.py:891: UserWarning: No positive class found in y_true, recall is set to one for all thresholds.\n",
      "  warnings.warn(\n"
     ]
    },
    {
     "name": "stdout",
     "output_type": "stream",
     "text": [
      "[0.06137544982007197, -0.0, 0.07002479687664873]\n",
      "[0.381511031950856, -0.0, 0.3065971264895996]\n",
      "mAP strict= 0.043800082232240224 ; mAP relaxed = 0.22936938614681854\n",
      "2023-02-16 00:28:07 - mAP strict:   \t4.38\n",
      "2023-02-16 00:28:07 - mAP relaxed:   \t22.94\n",
      "2023-02-16 00:29:25 - TripletEvaluator: Evaluating the model on dev dataset in epoch 5 after 1000 steps:\n"
     ]
    },
    {
     "name": "stderr",
     "output_type": "stream",
     "text": [
      "/home/an/anaconda3/envs/deep_learning_env_2/lib/python3.9/site-packages/sklearn/metrics/_ranking.py:891: UserWarning: No positive class found in y_true, recall is set to one for all thresholds.\n",
      "  warnings.warn(\n",
      "/home/an/anaconda3/envs/deep_learning_env_2/lib/python3.9/site-packages/sklearn/metrics/_ranking.py:891: UserWarning: No positive class found in y_true, recall is set to one for all thresholds.\n",
      "  warnings.warn(\n"
     ]
    },
    {
     "name": "stdout",
     "output_type": "stream",
     "text": [
      "[0.07174660999797611, -0.0, 0.12621885157096424]\n",
      "[0.41537340619307833, -0.0, 0.2478331527627302]\n",
      "mAP strict= 0.06598848718964678 ; mAP relaxed = 0.2210688529852695\n",
      "2023-02-16 00:29:26 - mAP strict:   \t6.60\n",
      "2023-02-16 00:29:26 - mAP relaxed:   \t22.11\n",
      "2023-02-16 00:30:42 - TripletEvaluator: Evaluating the model on dev dataset in epoch 5 after 1500 steps:\n"
     ]
    },
    {
     "name": "stderr",
     "output_type": "stream",
     "text": [
      "/home/an/anaconda3/envs/deep_learning_env_2/lib/python3.9/site-packages/sklearn/metrics/_ranking.py:891: UserWarning: No positive class found in y_true, recall is set to one for all thresholds.\n",
      "  warnings.warn(\n",
      "/home/an/anaconda3/envs/deep_learning_env_2/lib/python3.9/site-packages/sklearn/metrics/_ranking.py:891: UserWarning: No positive class found in y_true, recall is set to one for all thresholds.\n",
      "  warnings.warn(\n"
     ]
    },
    {
     "name": "stdout",
     "output_type": "stream",
     "text": [
      "[0.05361344537815127, -0.0, 0.1058974358974359]\n",
      "[0.3950257386326896, -0.0, 0.2799221611721611]\n",
      "mAP strict= 0.05317029375852905 ; mAP relaxed = 0.22498263326828358\n",
      "2023-02-16 00:30:43 - mAP strict:   \t5.32\n",
      "2023-02-16 00:30:43 - mAP relaxed:   \t22.50\n",
      "2023-02-16 00:31:57 - TripletEvaluator: Evaluating the model on dev dataset in epoch 5 after 2000 steps:\n"
     ]
    },
    {
     "name": "stderr",
     "output_type": "stream",
     "text": [
      "/home/an/anaconda3/envs/deep_learning_env_2/lib/python3.9/site-packages/sklearn/metrics/_ranking.py:891: UserWarning: No positive class found in y_true, recall is set to one for all thresholds.\n",
      "  warnings.warn(\n",
      "/home/an/anaconda3/envs/deep_learning_env_2/lib/python3.9/site-packages/sklearn/metrics/_ranking.py:891: UserWarning: No positive class found in y_true, recall is set to one for all thresholds.\n",
      "  warnings.warn(\n"
     ]
    },
    {
     "name": "stdout",
     "output_type": "stream",
     "text": [
      "[0.07907884465261514, -0.0, 0.028846153846153848]\n",
      "[0.47824517991545523, -0.0, 0.2986352357320099]\n",
      "mAP strict= 0.03597499949958966 ; mAP relaxed = 0.25896013854915506\n",
      "2023-02-16 00:31:58 - mAP strict:   \t3.60\n",
      "2023-02-16 00:31:58 - mAP relaxed:   \t25.90\n",
      "2023-02-16 00:33:13 - TripletEvaluator: Evaluating the model on dev dataset in epoch 5 after 2500 steps:\n"
     ]
    },
    {
     "name": "stderr",
     "output_type": "stream",
     "text": [
      "/home/an/anaconda3/envs/deep_learning_env_2/lib/python3.9/site-packages/sklearn/metrics/_ranking.py:891: UserWarning: No positive class found in y_true, recall is set to one for all thresholds.\n",
      "  warnings.warn(\n",
      "/home/an/anaconda3/envs/deep_learning_env_2/lib/python3.9/site-packages/sklearn/metrics/_ranking.py:891: UserWarning: No positive class found in y_true, recall is set to one for all thresholds.\n",
      "  warnings.warn(\n"
     ]
    },
    {
     "name": "stdout",
     "output_type": "stream",
     "text": [
      "[0.04727963886909005, -0.0, 0.055424226935854845]\n",
      "[0.37957416478367023, -0.0, 0.24530411449016098]\n",
      "mAP strict= 0.034234621934981634 ; mAP relaxed = 0.20829275975794373\n",
      "2023-02-16 00:33:14 - mAP strict:   \t3.42\n",
      "2023-02-16 00:33:14 - mAP relaxed:   \t20.83\n",
      "2023-02-16 00:34:29 - TripletEvaluator: Evaluating the model on dev dataset in epoch 5 after 3000 steps:\n"
     ]
    },
    {
     "name": "stderr",
     "output_type": "stream",
     "text": [
      "/home/an/anaconda3/envs/deep_learning_env_2/lib/python3.9/site-packages/sklearn/metrics/_ranking.py:891: UserWarning: No positive class found in y_true, recall is set to one for all thresholds.\n",
      "  warnings.warn(\n",
      "/home/an/anaconda3/envs/deep_learning_env_2/lib/python3.9/site-packages/sklearn/metrics/_ranking.py:891: UserWarning: No positive class found in y_true, recall is set to one for all thresholds.\n",
      "  warnings.warn(\n"
     ]
    },
    {
     "name": "stdout",
     "output_type": "stream",
     "text": [
      "[0.01639344262295082, -0.0, 0.06060606060606061]\n",
      "[0.3798518952207477, -0.0, 0.22674501424501425]\n",
      "mAP strict= 0.025666501076337143 ; mAP relaxed = 0.20219896982192065\n",
      "2023-02-16 00:34:29 - mAP strict:   \t2.57\n",
      "2023-02-16 00:34:29 - mAP relaxed:   \t20.22\n",
      "2023-02-16 00:35:47 - TripletEvaluator: Evaluating the model on dev dataset in epoch 5 after 3500 steps:\n"
     ]
    },
    {
     "name": "stderr",
     "output_type": "stream",
     "text": [
      "/home/an/anaconda3/envs/deep_learning_env_2/lib/python3.9/site-packages/sklearn/metrics/_ranking.py:891: UserWarning: No positive class found in y_true, recall is set to one for all thresholds.\n",
      "  warnings.warn(\n",
      "/home/an/anaconda3/envs/deep_learning_env_2/lib/python3.9/site-packages/sklearn/metrics/_ranking.py:891: UserWarning: No positive class found in y_true, recall is set to one for all thresholds.\n",
      "  warnings.warn(\n"
     ]
    },
    {
     "name": "stdout",
     "output_type": "stream",
     "text": [
      "[0.040983606557377046, -0.0, 0.19828700711053654]\n",
      "[0.36065573770491804, -0.0, 0.30869581083053566]\n",
      "mAP strict= 0.07975687122263786 ; mAP relaxed = 0.22311718284515125\n",
      "2023-02-16 00:35:48 - mAP strict:   \t7.98\n",
      "2023-02-16 00:35:48 - mAP relaxed:   \t22.31\n",
      "2023-02-16 00:37:06 - TripletEvaluator: Evaluating the model on dev dataset in epoch 5 after 4000 steps:\n"
     ]
    },
    {
     "name": "stderr",
     "output_type": "stream",
     "text": [
      "/home/an/anaconda3/envs/deep_learning_env_2/lib/python3.9/site-packages/sklearn/metrics/_ranking.py:891: UserWarning: No positive class found in y_true, recall is set to one for all thresholds.\n",
      "  warnings.warn(\n",
      "/home/an/anaconda3/envs/deep_learning_env_2/lib/python3.9/site-packages/sklearn/metrics/_ranking.py:891: UserWarning: No positive class found in y_true, recall is set to one for all thresholds.\n",
      "  warnings.warn(\n"
     ]
    },
    {
     "name": "stdout",
     "output_type": "stream",
     "text": [
      "[0.04371584699453552, -0.0, 0.11332417582417582]\n",
      "[0.3442622950819672, -0.0, 0.2807408109132247]\n",
      "mAP strict= 0.052346674272903786 ; mAP relaxed = 0.20833436866506397\n",
      "2023-02-16 00:37:07 - mAP strict:   \t5.23\n",
      "2023-02-16 00:37:07 - mAP relaxed:   \t20.83\n",
      "2023-02-16 00:37:47 - TripletEvaluator: Evaluating the model on dev dataset after epoch 5:\n",
      "[0.06263763151455835, -0.0, 0.06609566903684551]\n",
      "[0.47590159136813526, -0.0, 0.33935035552682613]\n",
      "mAP strict= 0.04291110018380129 ; mAP relaxed = 0.27175064896498713\n",
      "2023-02-16 00:37:47 - mAP strict:   \t4.29\n",
      "2023-02-16 00:37:47 - mAP relaxed:   \t27.18\n"
     ]
    },
    {
     "name": "stderr",
     "output_type": "stream",
     "text": [
      "/home/an/anaconda3/envs/deep_learning_env_2/lib/python3.9/site-packages/sklearn/metrics/_ranking.py:891: UserWarning: No positive class found in y_true, recall is set to one for all thresholds.\n",
      "  warnings.warn(\n",
      "/home/an/anaconda3/envs/deep_learning_env_2/lib/python3.9/site-packages/sklearn/metrics/_ranking.py:891: UserWarning: No positive class found in y_true, recall is set to one for all thresholds.\n",
      "  warnings.warn(\n"
     ]
    },
    {
     "data": {
      "application/vnd.jupyter.widget-view+json": {
       "model_id": "191e35bea4eb4c06929a1fd155814be5",
       "version_major": 2,
       "version_minor": 0
      },
      "text/plain": [
       "Iteration:   0%|          | 0/4259 [00:00<?, ?it/s]"
      ]
     },
     "metadata": {},
     "output_type": "display_data"
    },
    {
     "name": "stdout",
     "output_type": "stream",
     "text": [
      "2023-02-16 00:39:05 - TripletEvaluator: Evaluating the model on dev dataset in epoch 6 after 500 steps:\n"
     ]
    },
    {
     "name": "stderr",
     "output_type": "stream",
     "text": [
      "/home/an/anaconda3/envs/deep_learning_env_2/lib/python3.9/site-packages/sklearn/metrics/_ranking.py:891: UserWarning: No positive class found in y_true, recall is set to one for all thresholds.\n",
      "  warnings.warn(\n",
      "/home/an/anaconda3/envs/deep_learning_env_2/lib/python3.9/site-packages/sklearn/metrics/_ranking.py:891: UserWarning: No positive class found in y_true, recall is set to one for all thresholds.\n",
      "  warnings.warn(\n"
     ]
    },
    {
     "name": "stdout",
     "output_type": "stream",
     "text": [
      "[0.01639344262295082, -0.0, 0.11030904579291675]\n",
      "[0.3481382640742153, -0.0, 0.2628500531726338]\n",
      "mAP strict= 0.04223416280528919 ; mAP relaxed = 0.20366277241561637\n",
      "2023-02-16 00:39:06 - mAP strict:   \t4.22\n",
      "2023-02-16 00:39:06 - mAP relaxed:   \t20.37\n",
      "2023-02-16 00:40:23 - TripletEvaluator: Evaluating the model on dev dataset in epoch 6 after 1000 steps:\n"
     ]
    },
    {
     "name": "stderr",
     "output_type": "stream",
     "text": [
      "/home/an/anaconda3/envs/deep_learning_env_2/lib/python3.9/site-packages/sklearn/metrics/_ranking.py:891: UserWarning: No positive class found in y_true, recall is set to one for all thresholds.\n",
      "  warnings.warn(\n",
      "/home/an/anaconda3/envs/deep_learning_env_2/lib/python3.9/site-packages/sklearn/metrics/_ranking.py:891: UserWarning: No positive class found in y_true, recall is set to one for all thresholds.\n",
      "  warnings.warn(\n"
     ]
    },
    {
     "name": "stdout",
     "output_type": "stream",
     "text": [
      "[0.05737704918032787, -0.0, 0.07792207792207792]\n",
      "[0.30221533008418255, -0.0, 0.28217948717948715]\n",
      "mAP strict= 0.045099709034135266 ; mAP relaxed = 0.19479827242122325\n",
      "2023-02-16 00:40:24 - mAP strict:   \t4.51\n",
      "2023-02-16 00:40:24 - mAP relaxed:   \t19.48\n",
      "2023-02-16 00:41:41 - TripletEvaluator: Evaluating the model on dev dataset in epoch 6 after 1500 steps:\n"
     ]
    },
    {
     "name": "stderr",
     "output_type": "stream",
     "text": [
      "/home/an/anaconda3/envs/deep_learning_env_2/lib/python3.9/site-packages/sklearn/metrics/_ranking.py:891: UserWarning: No positive class found in y_true, recall is set to one for all thresholds.\n",
      "  warnings.warn(\n",
      "/home/an/anaconda3/envs/deep_learning_env_2/lib/python3.9/site-packages/sklearn/metrics/_ranking.py:891: UserWarning: No positive class found in y_true, recall is set to one for all thresholds.\n",
      "  warnings.warn(\n"
     ]
    },
    {
     "name": "stdout",
     "output_type": "stream",
     "text": [
      "[0.14285714285714285, -0.0, 0.14507134656388387]\n",
      "[0.35630645700903313, -0.0, 0.3195668678937817]\n",
      "mAP strict= 0.09597616314034224 ; mAP relaxed = 0.22529110830093826\n",
      "2023-02-16 00:41:41 - mAP strict:   \t9.60\n",
      "2023-02-16 00:41:41 - mAP relaxed:   \t22.53\n",
      "2023-02-16 00:42:59 - TripletEvaluator: Evaluating the model on dev dataset in epoch 6 after 2000 steps:\n"
     ]
    },
    {
     "name": "stderr",
     "output_type": "stream",
     "text": [
      "/home/an/anaconda3/envs/deep_learning_env_2/lib/python3.9/site-packages/sklearn/metrics/_ranking.py:891: UserWarning: No positive class found in y_true, recall is set to one for all thresholds.\n",
      "  warnings.warn(\n",
      "/home/an/anaconda3/envs/deep_learning_env_2/lib/python3.9/site-packages/sklearn/metrics/_ranking.py:891: UserWarning: No positive class found in y_true, recall is set to one for all thresholds.\n",
      "  warnings.warn(\n"
     ]
    },
    {
     "name": "stdout",
     "output_type": "stream",
     "text": [
      "[0.047058823529411764, -0.0, 0.12974312012773553]\n",
      "[0.4241475409836066, -0.0, 0.24609279609279608]\n",
      "mAP strict= 0.0589339812190491 ; mAP relaxed = 0.2234134456921342\n",
      "2023-02-16 00:42:59 - mAP strict:   \t5.89\n",
      "2023-02-16 00:42:59 - mAP relaxed:   \t22.34\n",
      "2023-02-16 00:44:17 - TripletEvaluator: Evaluating the model on dev dataset in epoch 6 after 2500 steps:\n"
     ]
    },
    {
     "name": "stderr",
     "output_type": "stream",
     "text": [
      "/home/an/anaconda3/envs/deep_learning_env_2/lib/python3.9/site-packages/sklearn/metrics/_ranking.py:891: UserWarning: No positive class found in y_true, recall is set to one for all thresholds.\n",
      "  warnings.warn(\n",
      "/home/an/anaconda3/envs/deep_learning_env_2/lib/python3.9/site-packages/sklearn/metrics/_ranking.py:891: UserWarning: No positive class found in y_true, recall is set to one for all thresholds.\n",
      "  warnings.warn(\n"
     ]
    },
    {
     "name": "stdout",
     "output_type": "stream",
     "text": [
      "[0.03, -0.0, 0.17793317793317792]\n",
      "[0.3577160053852855, -0.0, 0.256986531986532]\n",
      "mAP strict= 0.06931105931105931 ; mAP relaxed = 0.20490084579060583\n",
      "2023-02-16 00:44:17 - mAP strict:   \t6.93\n",
      "2023-02-16 00:44:17 - mAP relaxed:   \t20.49\n",
      "2023-02-16 00:45:36 - TripletEvaluator: Evaluating the model on dev dataset in epoch 6 after 3000 steps:\n"
     ]
    },
    {
     "name": "stderr",
     "output_type": "stream",
     "text": [
      "/home/an/anaconda3/envs/deep_learning_env_2/lib/python3.9/site-packages/sklearn/metrics/_ranking.py:891: UserWarning: No positive class found in y_true, recall is set to one for all thresholds.\n",
      "  warnings.warn(\n",
      "/home/an/anaconda3/envs/deep_learning_env_2/lib/python3.9/site-packages/sklearn/metrics/_ranking.py:891: UserWarning: No positive class found in y_true, recall is set to one for all thresholds.\n",
      "  warnings.warn(\n"
     ]
    },
    {
     "name": "stdout",
     "output_type": "stream",
     "text": [
      "[0.04408632027415023, -0.0, 0.15705610179294388]\n",
      "[0.3874894326438195, -0.0, 0.26967032967032967]\n",
      "mAP strict= 0.0670474740223647 ; mAP relaxed = 0.2190532541047164\n",
      "2023-02-16 00:45:37 - mAP strict:   \t6.70\n",
      "2023-02-16 00:45:37 - mAP relaxed:   \t21.91\n",
      "2023-02-16 00:46:56 - TripletEvaluator: Evaluating the model on dev dataset in epoch 6 after 3500 steps:\n"
     ]
    },
    {
     "name": "stderr",
     "output_type": "stream",
     "text": [
      "/home/an/anaconda3/envs/deep_learning_env_2/lib/python3.9/site-packages/sklearn/metrics/_ranking.py:891: UserWarning: No positive class found in y_true, recall is set to one for all thresholds.\n",
      "  warnings.warn(\n",
      "/home/an/anaconda3/envs/deep_learning_env_2/lib/python3.9/site-packages/sklearn/metrics/_ranking.py:891: UserWarning: No positive class found in y_true, recall is set to one for all thresholds.\n",
      "  warnings.warn(\n"
     ]
    },
    {
     "name": "stdout",
     "output_type": "stream",
     "text": [
      "[0.17649273803119958, -0.0, 0.16346153846153846]\n",
      "[0.5049082363240336, -0.0, 0.33540723981900455]\n",
      "mAP strict= 0.113318092164246 ; mAP relaxed = 0.28010515871434605\n",
      "2023-02-16 00:46:57 - mAP strict:   \t11.33\n",
      "2023-02-16 00:46:57 - mAP relaxed:   \t28.01\n",
      "2023-02-16 00:48:17 - TripletEvaluator: Evaluating the model on dev dataset in epoch 6 after 4000 steps:\n"
     ]
    },
    {
     "name": "stderr",
     "output_type": "stream",
     "text": [
      "/home/an/anaconda3/envs/deep_learning_env_2/lib/python3.9/site-packages/sklearn/metrics/_ranking.py:891: UserWarning: No positive class found in y_true, recall is set to one for all thresholds.\n",
      "  warnings.warn(\n",
      "/home/an/anaconda3/envs/deep_learning_env_2/lib/python3.9/site-packages/sklearn/metrics/_ranking.py:891: UserWarning: No positive class found in y_true, recall is set to one for all thresholds.\n",
      "  warnings.warn(\n"
     ]
    },
    {
     "name": "stdout",
     "output_type": "stream",
     "text": [
      "[0.034575260804769, -0.0, 0.13764568764568763]\n",
      "[0.3425273600385374, -0.0, 0.2951267482517483]\n",
      "mAP strict= 0.05740698281681888 ; mAP relaxed = 0.21255136943009523\n",
      "2023-02-16 00:48:18 - mAP strict:   \t5.74\n",
      "2023-02-16 00:48:18 - mAP relaxed:   \t21.26\n",
      "2023-02-16 00:48:59 - TripletEvaluator: Evaluating the model on dev dataset after epoch 6:\n",
      "[0.07194899817850638, -0.0, 0.1165158371040724]\n",
      "[0.3672555669090389, -0.0, 0.2723940003351768]\n",
      "mAP strict= 0.0628216117608596 ; mAP relaxed = 0.21321652241473857\n",
      "2023-02-16 00:48:59 - mAP strict:   \t6.28\n",
      "2023-02-16 00:48:59 - mAP relaxed:   \t21.32\n"
     ]
    },
    {
     "name": "stderr",
     "output_type": "stream",
     "text": [
      "/home/an/anaconda3/envs/deep_learning_env_2/lib/python3.9/site-packages/sklearn/metrics/_ranking.py:891: UserWarning: No positive class found in y_true, recall is set to one for all thresholds.\n",
      "  warnings.warn(\n",
      "/home/an/anaconda3/envs/deep_learning_env_2/lib/python3.9/site-packages/sklearn/metrics/_ranking.py:891: UserWarning: No positive class found in y_true, recall is set to one for all thresholds.\n",
      "  warnings.warn(\n"
     ]
    },
    {
     "data": {
      "application/vnd.jupyter.widget-view+json": {
       "model_id": "75fffc7933294a209f14664aa2af8ab9",
       "version_major": 2,
       "version_minor": 0
      },
      "text/plain": [
       "Iteration:   0%|          | 0/4259 [00:00<?, ?it/s]"
      ]
     },
     "metadata": {},
     "output_type": "display_data"
    },
    {
     "name": "stdout",
     "output_type": "stream",
     "text": [
      "2023-02-16 00:50:19 - TripletEvaluator: Evaluating the model on dev dataset in epoch 7 after 500 steps:\n"
     ]
    },
    {
     "name": "stderr",
     "output_type": "stream",
     "text": [
      "/home/an/anaconda3/envs/deep_learning_env_2/lib/python3.9/site-packages/sklearn/metrics/_ranking.py:891: UserWarning: No positive class found in y_true, recall is set to one for all thresholds.\n",
      "  warnings.warn(\n",
      "/home/an/anaconda3/envs/deep_learning_env_2/lib/python3.9/site-packages/sklearn/metrics/_ranking.py:891: UserWarning: No positive class found in y_true, recall is set to one for all thresholds.\n",
      "  warnings.warn(\n"
     ]
    },
    {
     "name": "stdout",
     "output_type": "stream",
     "text": [
      "[0.061224489795918366, -0.0, 0.04807692307692308]\n",
      "[0.36945612172167513, -0.0, 0.21588628762541806]\n",
      "mAP strict= 0.03643380429094715 ; mAP relaxed = 0.19511413644903106\n",
      "2023-02-16 00:50:20 - mAP strict:   \t3.64\n",
      "2023-02-16 00:50:20 - mAP relaxed:   \t19.51\n",
      "2023-02-16 00:51:39 - TripletEvaluator: Evaluating the model on dev dataset in epoch 7 after 1000 steps:\n"
     ]
    },
    {
     "name": "stderr",
     "output_type": "stream",
     "text": [
      "/home/an/anaconda3/envs/deep_learning_env_2/lib/python3.9/site-packages/sklearn/metrics/_ranking.py:891: UserWarning: No positive class found in y_true, recall is set to one for all thresholds.\n",
      "  warnings.warn(\n",
      "/home/an/anaconda3/envs/deep_learning_env_2/lib/python3.9/site-packages/sklearn/metrics/_ranking.py:891: UserWarning: No positive class found in y_true, recall is set to one for all thresholds.\n",
      "  warnings.warn(\n"
     ]
    },
    {
     "name": "stdout",
     "output_type": "stream",
     "text": [
      "[0.04363778298204528, -0.0, 0.12753793825222395]\n",
      "[0.3731546534825223, -0.0, 0.30803413176685057]\n",
      "mAP strict= 0.057058573744756404 ; mAP relaxed = 0.22706292841645762\n",
      "2023-02-16 00:51:39 - mAP strict:   \t5.71\n",
      "2023-02-16 00:51:39 - mAP relaxed:   \t22.71\n",
      "2023-02-16 00:52:57 - TripletEvaluator: Evaluating the model on dev dataset in epoch 7 after 1500 steps:\n"
     ]
    },
    {
     "name": "stderr",
     "output_type": "stream",
     "text": [
      "/home/an/anaconda3/envs/deep_learning_env_2/lib/python3.9/site-packages/sklearn/metrics/_ranking.py:891: UserWarning: No positive class found in y_true, recall is set to one for all thresholds.\n",
      "  warnings.warn(\n",
      "/home/an/anaconda3/envs/deep_learning_env_2/lib/python3.9/site-packages/sklearn/metrics/_ranking.py:891: UserWarning: No positive class found in y_true, recall is set to one for all thresholds.\n",
      "  warnings.warn(\n"
     ]
    },
    {
     "name": "stdout",
     "output_type": "stream",
     "text": [
      "[0.11097099621689785, -0.0, 0.11907484407484407]\n",
      "[0.4373770491803279, -0.0, 0.36929803106273695]\n",
      "mAP strict= 0.07668194676391397 ; mAP relaxed = 0.268891693414355\n",
      "2023-02-16 00:52:58 - mAP strict:   \t7.67\n",
      "2023-02-16 00:52:58 - mAP relaxed:   \t26.89\n",
      "2023-02-16 00:54:18 - TripletEvaluator: Evaluating the model on dev dataset in epoch 7 after 2000 steps:\n"
     ]
    },
    {
     "name": "stderr",
     "output_type": "stream",
     "text": [
      "/home/an/anaconda3/envs/deep_learning_env_2/lib/python3.9/site-packages/sklearn/metrics/_ranking.py:891: UserWarning: No positive class found in y_true, recall is set to one for all thresholds.\n",
      "  warnings.warn(\n",
      "/home/an/anaconda3/envs/deep_learning_env_2/lib/python3.9/site-packages/sklearn/metrics/_ranking.py:891: UserWarning: No positive class found in y_true, recall is set to one for all thresholds.\n",
      "  warnings.warn(\n"
     ]
    },
    {
     "name": "stdout",
     "output_type": "stream",
     "text": [
      "[0.04331320103537532, -0.0, 0.14844720496894412]\n",
      "[0.3482887546735691, -0.0, 0.26538461538461533]\n",
      "mAP strict= 0.06392013533477314 ; mAP relaxed = 0.2045577900193948\n",
      "2023-02-16 00:54:19 - mAP strict:   \t6.39\n",
      "2023-02-16 00:54:19 - mAP relaxed:   \t20.46\n",
      "2023-02-16 00:55:37 - TripletEvaluator: Evaluating the model on dev dataset in epoch 7 after 2500 steps:\n"
     ]
    },
    {
     "name": "stderr",
     "output_type": "stream",
     "text": [
      "/home/an/anaconda3/envs/deep_learning_env_2/lib/python3.9/site-packages/sklearn/metrics/_ranking.py:891: UserWarning: No positive class found in y_true, recall is set to one for all thresholds.\n",
      "  warnings.warn(\n",
      "/home/an/anaconda3/envs/deep_learning_env_2/lib/python3.9/site-packages/sklearn/metrics/_ranking.py:891: UserWarning: No positive class found in y_true, recall is set to one for all thresholds.\n",
      "  warnings.warn(\n"
     ]
    },
    {
     "name": "stdout",
     "output_type": "stream",
     "text": [
      "[0.00819672131147541, -0.0, 0.10989010989010989]\n",
      "[0.3181528853660001, -0.0, 0.26956043956043957]\n",
      "mAP strict= 0.0393622770671951 ; mAP relaxed = 0.19590444164214657\n",
      "2023-02-16 00:55:38 - mAP strict:   \t3.94\n",
      "2023-02-16 00:55:38 - mAP relaxed:   \t19.59\n",
      "2023-02-16 00:56:56 - TripletEvaluator: Evaluating the model on dev dataset in epoch 7 after 3000 steps:\n"
     ]
    },
    {
     "name": "stderr",
     "output_type": "stream",
     "text": [
      "/home/an/anaconda3/envs/deep_learning_env_2/lib/python3.9/site-packages/sklearn/metrics/_ranking.py:891: UserWarning: No positive class found in y_true, recall is set to one for all thresholds.\n",
      "  warnings.warn(\n",
      "/home/an/anaconda3/envs/deep_learning_env_2/lib/python3.9/site-packages/sklearn/metrics/_ranking.py:891: UserWarning: No positive class found in y_true, recall is set to one for all thresholds.\n",
      "  warnings.warn(\n"
     ]
    },
    {
     "name": "stdout",
     "output_type": "stream",
     "text": [
      "[0.053763440860215055, -0.0, 0.19505494505494506]\n",
      "[0.40241886518988584, -0.0, 0.2812776304155614]\n",
      "mAP strict= 0.08293946197172004 ; mAP relaxed = 0.2278988318684824\n",
      "2023-02-16 00:56:56 - mAP strict:   \t8.29\n",
      "2023-02-16 00:56:56 - mAP relaxed:   \t22.79\n",
      "2023-02-16 00:58:17 - TripletEvaluator: Evaluating the model on dev dataset in epoch 7 after 3500 steps:\n"
     ]
    },
    {
     "name": "stderr",
     "output_type": "stream",
     "text": [
      "/home/an/anaconda3/envs/deep_learning_env_2/lib/python3.9/site-packages/sklearn/metrics/_ranking.py:891: UserWarning: No positive class found in y_true, recall is set to one for all thresholds.\n",
      "  warnings.warn(\n",
      "/home/an/anaconda3/envs/deep_learning_env_2/lib/python3.9/site-packages/sklearn/metrics/_ranking.py:891: UserWarning: No positive class found in y_true, recall is set to one for all thresholds.\n",
      "  warnings.warn(\n"
     ]
    },
    {
     "name": "stdout",
     "output_type": "stream",
     "text": [
      "[0.02036169659120479, -0.0, 0.0673076923076923]\n",
      "[0.3400050832380226, -0.0, 0.25961538461538464]\n",
      "mAP strict= 0.029223129632965698 ; mAP relaxed = 0.19987348928446905\n",
      "2023-02-16 00:58:17 - mAP strict:   \t2.92\n",
      "2023-02-16 00:58:17 - mAP relaxed:   \t19.99\n",
      "2023-02-16 00:59:38 - TripletEvaluator: Evaluating the model on dev dataset in epoch 7 after 4000 steps:\n"
     ]
    },
    {
     "name": "stderr",
     "output_type": "stream",
     "text": [
      "/home/an/anaconda3/envs/deep_learning_env_2/lib/python3.9/site-packages/sklearn/metrics/_ranking.py:891: UserWarning: No positive class found in y_true, recall is set to one for all thresholds.\n",
      "  warnings.warn(\n",
      "/home/an/anaconda3/envs/deep_learning_env_2/lib/python3.9/site-packages/sklearn/metrics/_ranking.py:891: UserWarning: No positive class found in y_true, recall is set to one for all thresholds.\n",
      "  warnings.warn(\n"
     ]
    },
    {
     "name": "stdout",
     "output_type": "stream",
     "text": [
      "[0.03792349726775956, -0.0, 0.0721850613154961]\n",
      "[0.4220546448087432, -0.0, 0.32847707847707847]\n",
      "mAP strict= 0.03670285286108522 ; mAP relaxed = 0.2501772410952739\n",
      "2023-02-16 00:59:38 - mAP strict:   \t3.67\n",
      "2023-02-16 00:59:38 - mAP relaxed:   \t25.02\n",
      "2023-02-16 01:00:19 - TripletEvaluator: Evaluating the model on dev dataset after epoch 7:\n",
      "[-0.0, -0.0, 0.11783960720130934]\n",
      "[0.36431273644388407, -0.0, 0.26329787234042556]\n",
      "mAP strict= 0.03927986906710312 ; mAP relaxed = 0.20920353626143653\n",
      "2023-02-16 01:00:20 - mAP strict:   \t3.93\n",
      "2023-02-16 01:00:20 - mAP relaxed:   \t20.92\n"
     ]
    },
    {
     "name": "stderr",
     "output_type": "stream",
     "text": [
      "/home/an/anaconda3/envs/deep_learning_env_2/lib/python3.9/site-packages/sklearn/metrics/_ranking.py:891: UserWarning: No positive class found in y_true, recall is set to one for all thresholds.\n",
      "  warnings.warn(\n",
      "/home/an/anaconda3/envs/deep_learning_env_2/lib/python3.9/site-packages/sklearn/metrics/_ranking.py:891: UserWarning: No positive class found in y_true, recall is set to one for all thresholds.\n",
      "  warnings.warn(\n",
      "/home/an/anaconda3/envs/deep_learning_env_2/lib/python3.9/site-packages/sklearn/metrics/_ranking.py:891: UserWarning: No positive class found in y_true, recall is set to one for all thresholds.\n",
      "  warnings.warn(\n"
     ]
    },
    {
     "data": {
      "application/vnd.jupyter.widget-view+json": {
       "model_id": "b16051a7d64e434a83410c3c87fa9c1a",
       "version_major": 2,
       "version_minor": 0
      },
      "text/plain": [
       "Iteration:   0%|          | 0/4259 [00:00<?, ?it/s]"
      ]
     },
     "metadata": {},
     "output_type": "display_data"
    },
    {
     "name": "stdout",
     "output_type": "stream",
     "text": [
      "2023-02-16 01:01:38 - TripletEvaluator: Evaluating the model on dev dataset in epoch 8 after 500 steps:\n"
     ]
    },
    {
     "name": "stderr",
     "output_type": "stream",
     "text": [
      "/home/an/anaconda3/envs/deep_learning_env_2/lib/python3.9/site-packages/sklearn/metrics/_ranking.py:891: UserWarning: No positive class found in y_true, recall is set to one for all thresholds.\n",
      "  warnings.warn(\n",
      "/home/an/anaconda3/envs/deep_learning_env_2/lib/python3.9/site-packages/sklearn/metrics/_ranking.py:891: UserWarning: No positive class found in y_true, recall is set to one for all thresholds.\n",
      "  warnings.warn(\n"
     ]
    },
    {
     "name": "stdout",
     "output_type": "stream",
     "text": [
      "[0.040983606557377046, -0.0, 0.19829059829059828]\n",
      "[0.4344262295081967, -0.0, 0.3312217194570136]\n",
      "mAP strict= 0.07975806828265844 ; mAP relaxed = 0.2552159829884035\n",
      "2023-02-16 01:01:39 - mAP strict:   \t7.98\n",
      "2023-02-16 01:01:39 - mAP relaxed:   \t25.52\n",
      "2023-02-16 01:02:55 - TripletEvaluator: Evaluating the model on dev dataset in epoch 8 after 1000 steps:\n"
     ]
    },
    {
     "name": "stderr",
     "output_type": "stream",
     "text": [
      "/home/an/anaconda3/envs/deep_learning_env_2/lib/python3.9/site-packages/sklearn/metrics/_ranking.py:891: UserWarning: No positive class found in y_true, recall is set to one for all thresholds.\n",
      "  warnings.warn(\n",
      "/home/an/anaconda3/envs/deep_learning_env_2/lib/python3.9/site-packages/sklearn/metrics/_ranking.py:891: UserWarning: No positive class found in y_true, recall is set to one for all thresholds.\n",
      "  warnings.warn(\n"
     ]
    },
    {
     "name": "stdout",
     "output_type": "stream",
     "text": [
      "[0.08764903129657227, -0.0, 0.08516799292661362]\n",
      "[0.3567622950819673, -0.0, 0.23823165340406718]\n",
      "mAP strict= 0.057605674741061964 ; mAP relaxed = 0.1983313161620115\n",
      "2023-02-16 01:02:56 - mAP strict:   \t5.76\n",
      "2023-02-16 01:02:56 - mAP relaxed:   \t19.83\n",
      "2023-02-16 01:04:13 - TripletEvaluator: Evaluating the model on dev dataset in epoch 8 after 1500 steps:\n"
     ]
    },
    {
     "name": "stderr",
     "output_type": "stream",
     "text": [
      "/home/an/anaconda3/envs/deep_learning_env_2/lib/python3.9/site-packages/sklearn/metrics/_ranking.py:891: UserWarning: No positive class found in y_true, recall is set to one for all thresholds.\n",
      "  warnings.warn(\n",
      "/home/an/anaconda3/envs/deep_learning_env_2/lib/python3.9/site-packages/sklearn/metrics/_ranking.py:891: UserWarning: No positive class found in y_true, recall is set to one for all thresholds.\n",
      "  warnings.warn(\n"
     ]
    },
    {
     "name": "stdout",
     "output_type": "stream",
     "text": [
      "[0.08043032786885246, -0.0, 0.17934280434280436]\n",
      "[0.39203096539162113, -0.0, 0.30411902286902287]\n",
      "mAP strict= 0.08659104407055228 ; mAP relaxed = 0.23204999608688134\n",
      "2023-02-16 01:04:14 - mAP strict:   \t8.66\n",
      "2023-02-16 01:04:14 - mAP relaxed:   \t23.20\n",
      "2023-02-16 01:05:31 - TripletEvaluator: Evaluating the model on dev dataset in epoch 8 after 2000 steps:\n"
     ]
    },
    {
     "name": "stderr",
     "output_type": "stream",
     "text": [
      "/home/an/anaconda3/envs/deep_learning_env_2/lib/python3.9/site-packages/sklearn/metrics/_ranking.py:891: UserWarning: No positive class found in y_true, recall is set to one for all thresholds.\n",
      "  warnings.warn(\n",
      "/home/an/anaconda3/envs/deep_learning_env_2/lib/python3.9/site-packages/sklearn/metrics/_ranking.py:891: UserWarning: No positive class found in y_true, recall is set to one for all thresholds.\n",
      "  warnings.warn(\n"
     ]
    },
    {
     "name": "stdout",
     "output_type": "stream",
     "text": [
      "[0.09364869871260537, -0.0, 0.07980769230769232]\n",
      "[0.4095314937910104, -0.0, 0.21931438127090302]\n",
      "mAP strict= 0.0578187970067659 ; mAP relaxed = 0.2096152916873045\n",
      "2023-02-16 01:05:32 - mAP strict:   \t5.78\n",
      "2023-02-16 01:05:32 - mAP relaxed:   \t20.96\n",
      "2023-02-16 01:06:52 - TripletEvaluator: Evaluating the model on dev dataset in epoch 8 after 2500 steps:\n"
     ]
    },
    {
     "name": "stderr",
     "output_type": "stream",
     "text": [
      "/home/an/anaconda3/envs/deep_learning_env_2/lib/python3.9/site-packages/sklearn/metrics/_ranking.py:891: UserWarning: No positive class found in y_true, recall is set to one for all thresholds.\n",
      "  warnings.warn(\n",
      "/home/an/anaconda3/envs/deep_learning_env_2/lib/python3.9/site-packages/sklearn/metrics/_ranking.py:891: UserWarning: No positive class found in y_true, recall is set to one for all thresholds.\n",
      "  warnings.warn(\n"
     ]
    },
    {
     "name": "stdout",
     "output_type": "stream",
     "text": [
      "[0.04112021857923497, -0.0, 0.11652477956825782]\n",
      "[0.35489187303801883, -0.0, 0.2546989966555184]\n",
      "mAP strict= 0.05254833271583093 ; mAP relaxed = 0.20319695656451242\n",
      "2023-02-16 01:06:53 - mAP strict:   \t5.25\n",
      "2023-02-16 01:06:53 - mAP relaxed:   \t20.32\n",
      "2023-02-16 01:08:12 - TripletEvaluator: Evaluating the model on dev dataset in epoch 8 after 3000 steps:\n"
     ]
    },
    {
     "name": "stderr",
     "output_type": "stream",
     "text": [
      "/home/an/anaconda3/envs/deep_learning_env_2/lib/python3.9/site-packages/sklearn/metrics/_ranking.py:891: UserWarning: No positive class found in y_true, recall is set to one for all thresholds.\n",
      "  warnings.warn(\n",
      "/home/an/anaconda3/envs/deep_learning_env_2/lib/python3.9/site-packages/sklearn/metrics/_ranking.py:891: UserWarning: No positive class found in y_true, recall is set to one for all thresholds.\n",
      "  warnings.warn(\n"
     ]
    },
    {
     "name": "stdout",
     "output_type": "stream",
     "text": [
      "[0.08299893972759154, -0.0, 0.13873626373626374]\n",
      "[0.384473690147102, -0.0, 0.26397802197802195]\n",
      "mAP strict= 0.07391173448795176 ; mAP relaxed = 0.21615057070837462\n",
      "2023-02-16 01:08:12 - mAP strict:   \t7.39\n",
      "2023-02-16 01:08:12 - mAP relaxed:   \t21.62\n",
      "2023-02-16 01:09:30 - TripletEvaluator: Evaluating the model on dev dataset in epoch 8 after 3500 steps:\n"
     ]
    },
    {
     "name": "stderr",
     "output_type": "stream",
     "text": [
      "/home/an/anaconda3/envs/deep_learning_env_2/lib/python3.9/site-packages/sklearn/metrics/_ranking.py:891: UserWarning: No positive class found in y_true, recall is set to one for all thresholds.\n",
      "  warnings.warn(\n",
      "/home/an/anaconda3/envs/deep_learning_env_2/lib/python3.9/site-packages/sklearn/metrics/_ranking.py:891: UserWarning: No positive class found in y_true, recall is set to one for all thresholds.\n",
      "  warnings.warn(\n"
     ]
    },
    {
     "name": "stdout",
     "output_type": "stream",
     "text": [
      "[0.045286885245901645, -0.0, 0.18269230769230768]\n",
      "[0.32594774590163933, -0.0, 0.28846153846153844]\n",
      "mAP strict= 0.07599306431273645 ; mAP relaxed = 0.20480309478772593\n",
      "2023-02-16 01:09:30 - mAP strict:   \t7.60\n",
      "2023-02-16 01:09:30 - mAP relaxed:   \t20.48\n",
      "2023-02-16 01:10:49 - TripletEvaluator: Evaluating the model on dev dataset in epoch 8 after 4000 steps:\n"
     ]
    },
    {
     "name": "stderr",
     "output_type": "stream",
     "text": [
      "/home/an/anaconda3/envs/deep_learning_env_2/lib/python3.9/site-packages/sklearn/metrics/_ranking.py:891: UserWarning: No positive class found in y_true, recall is set to one for all thresholds.\n",
      "  warnings.warn(\n",
      "/home/an/anaconda3/envs/deep_learning_env_2/lib/python3.9/site-packages/sklearn/metrics/_ranking.py:891: UserWarning: No positive class found in y_true, recall is set to one for all thresholds.\n",
      "  warnings.warn(\n"
     ]
    },
    {
     "name": "stdout",
     "output_type": "stream",
     "text": [
      "[0.05467483336335796, -0.0, 0.17363433667781492]\n",
      "[0.4178506375227687, -0.0, 0.2995819397993311]\n",
      "mAP strict= 0.07610305668039095 ; mAP relaxed = 0.23914419244069993\n",
      "2023-02-16 01:10:50 - mAP strict:   \t7.61\n",
      "2023-02-16 01:10:50 - mAP relaxed:   \t23.91\n",
      "2023-02-16 01:11:31 - TripletEvaluator: Evaluating the model on dev dataset after epoch 8:\n",
      "[0.07377049180327869, -0.0, 0.14423076923076922]\n",
      "[0.4262295081967213, -0.0, 0.3173076923076923]\n",
      "mAP strict= 0.0726670870113493 ; mAP relaxed = 0.2478457335014712\n",
      "2023-02-16 01:11:32 - mAP strict:   \t7.27\n",
      "2023-02-16 01:11:32 - mAP relaxed:   \t24.78\n"
     ]
    },
    {
     "name": "stderr",
     "output_type": "stream",
     "text": [
      "/home/an/anaconda3/envs/deep_learning_env_2/lib/python3.9/site-packages/sklearn/metrics/_ranking.py:891: UserWarning: No positive class found in y_true, recall is set to one for all thresholds.\n",
      "  warnings.warn(\n",
      "/home/an/anaconda3/envs/deep_learning_env_2/lib/python3.9/site-packages/sklearn/metrics/_ranking.py:891: UserWarning: No positive class found in y_true, recall is set to one for all thresholds.\n",
      "  warnings.warn(\n"
     ]
    },
    {
     "data": {
      "application/vnd.jupyter.widget-view+json": {
       "model_id": "62ef55eaa32647b7a28ffa94fdbab5c8",
       "version_major": 2,
       "version_minor": 0
      },
      "text/plain": [
       "Iteration:   0%|          | 0/4259 [00:00<?, ?it/s]"
      ]
     },
     "metadata": {},
     "output_type": "display_data"
    },
    {
     "name": "stdout",
     "output_type": "stream",
     "text": [
      "2023-02-16 01:12:51 - TripletEvaluator: Evaluating the model on dev dataset in epoch 9 after 500 steps:\n"
     ]
    },
    {
     "name": "stderr",
     "output_type": "stream",
     "text": [
      "/home/an/anaconda3/envs/deep_learning_env_2/lib/python3.9/site-packages/sklearn/metrics/_ranking.py:891: UserWarning: No positive class found in y_true, recall is set to one for all thresholds.\n",
      "  warnings.warn(\n",
      "/home/an/anaconda3/envs/deep_learning_env_2/lib/python3.9/site-packages/sklearn/metrics/_ranking.py:891: UserWarning: No positive class found in y_true, recall is set to one for all thresholds.\n",
      "  warnings.warn(\n"
     ]
    },
    {
     "name": "stdout",
     "output_type": "stream",
     "text": [
      "[0.08196721311475409, -0.0, 0.16346153846153846]\n",
      "[0.3896412449512949, -0.0, 0.2980769230769231]\n",
      "mAP strict= 0.08180958385876419 ; mAP relaxed = 0.22923938934273932\n",
      "2023-02-16 01:12:52 - mAP strict:   \t8.18\n",
      "2023-02-16 01:12:52 - mAP relaxed:   \t22.92\n",
      "2023-02-16 01:14:13 - TripletEvaluator: Evaluating the model on dev dataset in epoch 9 after 1000 steps:\n"
     ]
    },
    {
     "name": "stderr",
     "output_type": "stream",
     "text": [
      "/home/an/anaconda3/envs/deep_learning_env_2/lib/python3.9/site-packages/sklearn/metrics/_ranking.py:891: UserWarning: No positive class found in y_true, recall is set to one for all thresholds.\n",
      "  warnings.warn(\n",
      "/home/an/anaconda3/envs/deep_learning_env_2/lib/python3.9/site-packages/sklearn/metrics/_ranking.py:891: UserWarning: No positive class found in y_true, recall is set to one for all thresholds.\n",
      "  warnings.warn(\n"
     ]
    },
    {
     "name": "stdout",
     "output_type": "stream",
     "text": [
      "[0.09345794392523364, -0.0, 0.14726107226107227]\n",
      "[0.4004423279960061, -0.0, 0.3385962995337995]\n",
      "mAP strict= 0.08023967206210197 ; mAP relaxed = 0.24634620917660185\n",
      "2023-02-16 01:14:13 - mAP strict:   \t8.02\n",
      "2023-02-16 01:14:13 - mAP relaxed:   \t24.63\n",
      "2023-02-16 01:15:28 - TripletEvaluator: Evaluating the model on dev dataset in epoch 9 after 1500 steps:\n"
     ]
    },
    {
     "name": "stderr",
     "output_type": "stream",
     "text": [
      "/home/an/anaconda3/envs/deep_learning_env_2/lib/python3.9/site-packages/sklearn/metrics/_ranking.py:891: UserWarning: No positive class found in y_true, recall is set to one for all thresholds.\n",
      "  warnings.warn(\n",
      "/home/an/anaconda3/envs/deep_learning_env_2/lib/python3.9/site-packages/sklearn/metrics/_ranking.py:891: UserWarning: No positive class found in y_true, recall is set to one for all thresholds.\n",
      "  warnings.warn(\n"
     ]
    },
    {
     "name": "stdout",
     "output_type": "stream",
     "text": [
      "[0.03278688524590164, -0.0, 0.179745177423196]\n",
      "[0.41704918032786886, -0.0, 0.31070889894419307]\n",
      "mAP strict= 0.07084402088969922 ; mAP relaxed = 0.24258602642402063\n",
      "2023-02-16 01:15:29 - mAP strict:   \t7.08\n",
      "2023-02-16 01:15:29 - mAP relaxed:   \t24.26\n",
      "2023-02-16 01:16:44 - TripletEvaluator: Evaluating the model on dev dataset in epoch 9 after 2000 steps:\n"
     ]
    },
    {
     "name": "stderr",
     "output_type": "stream",
     "text": [
      "/home/an/anaconda3/envs/deep_learning_env_2/lib/python3.9/site-packages/sklearn/metrics/_ranking.py:891: UserWarning: No positive class found in y_true, recall is set to one for all thresholds.\n",
      "  warnings.warn(\n",
      "/home/an/anaconda3/envs/deep_learning_env_2/lib/python3.9/site-packages/sklearn/metrics/_ranking.py:891: UserWarning: No positive class found in y_true, recall is set to one for all thresholds.\n",
      "  warnings.warn(\n"
     ]
    },
    {
     "name": "stdout",
     "output_type": "stream",
     "text": [
      "[0.12110776990978757, -0.0, 0.15961538461538463]\n",
      "[0.3661011120027513, -0.0, 0.2642857142857143]\n",
      "mAP strict= 0.09357438484172408 ; mAP relaxed = 0.21012894209615518\n",
      "2023-02-16 01:16:44 - mAP strict:   \t9.36\n",
      "2023-02-16 01:16:44 - mAP relaxed:   \t21.01\n",
      "2023-02-16 01:17:59 - TripletEvaluator: Evaluating the model on dev dataset in epoch 9 after 2500 steps:\n"
     ]
    },
    {
     "name": "stderr",
     "output_type": "stream",
     "text": [
      "/home/an/anaconda3/envs/deep_learning_env_2/lib/python3.9/site-packages/sklearn/metrics/_ranking.py:891: UserWarning: No positive class found in y_true, recall is set to one for all thresholds.\n",
      "  warnings.warn(\n",
      "/home/an/anaconda3/envs/deep_learning_env_2/lib/python3.9/site-packages/sklearn/metrics/_ranking.py:891: UserWarning: No positive class found in y_true, recall is set to one for all thresholds.\n",
      "  warnings.warn(\n"
     ]
    },
    {
     "name": "stdout",
     "output_type": "stream",
     "text": [
      "[0.06611570247933884, -0.0, 0.21425518925518924]\n",
      "[0.35549198802822973, -0.0, 0.31780397022332507]\n",
      "mAP strict= 0.09345696391150937 ; mAP relaxed = 0.2244319860838516\n",
      "2023-02-16 01:17:59 - mAP strict:   \t9.35\n",
      "2023-02-16 01:17:59 - mAP relaxed:   \t22.44\n",
      "2023-02-16 01:19:14 - TripletEvaluator: Evaluating the model on dev dataset in epoch 9 after 3000 steps:\n"
     ]
    },
    {
     "name": "stderr",
     "output_type": "stream",
     "text": [
      "/home/an/anaconda3/envs/deep_learning_env_2/lib/python3.9/site-packages/sklearn/metrics/_ranking.py:891: UserWarning: No positive class found in y_true, recall is set to one for all thresholds.\n",
      "  warnings.warn(\n",
      "/home/an/anaconda3/envs/deep_learning_env_2/lib/python3.9/site-packages/sklearn/metrics/_ranking.py:891: UserWarning: No positive class found in y_true, recall is set to one for all thresholds.\n",
      "  warnings.warn(\n"
     ]
    },
    {
     "name": "stdout",
     "output_type": "stream",
     "text": [
      "[0.11227024341778441, -0.0, 0.12637362637362637]\n",
      "[0.3391526506280605, -0.0, 0.2615486365486366]\n",
      "mAP strict= 0.07954795659713693 ; mAP relaxed = 0.20023376239223234\n",
      "2023-02-16 01:19:14 - mAP strict:   \t7.95\n",
      "2023-02-16 01:19:14 - mAP relaxed:   \t20.02\n",
      "2023-02-16 01:20:30 - TripletEvaluator: Evaluating the model on dev dataset in epoch 9 after 3500 steps:\n"
     ]
    },
    {
     "name": "stderr",
     "output_type": "stream",
     "text": [
      "/home/an/anaconda3/envs/deep_learning_env_2/lib/python3.9/site-packages/sklearn/metrics/_ranking.py:891: UserWarning: No positive class found in y_true, recall is set to one for all thresholds.\n",
      "  warnings.warn(\n",
      "/home/an/anaconda3/envs/deep_learning_env_2/lib/python3.9/site-packages/sklearn/metrics/_ranking.py:891: UserWarning: No positive class found in y_true, recall is set to one for all thresholds.\n",
      "  warnings.warn(\n"
     ]
    },
    {
     "name": "stdout",
     "output_type": "stream",
     "text": [
      "[0.09731743666169895, -0.0, 0.08653846153846154]\n",
      "[0.4667660208643815, -0.0, 0.24392712550607287]\n",
      "mAP strict= 0.0612852994000535 ; mAP relaxed = 0.23689771545681815\n",
      "2023-02-16 01:20:30 - mAP strict:   \t6.13\n",
      "2023-02-16 01:20:30 - mAP relaxed:   \t23.69\n",
      "2023-02-16 01:21:44 - TripletEvaluator: Evaluating the model on dev dataset in epoch 9 after 4000 steps:\n"
     ]
    },
    {
     "name": "stderr",
     "output_type": "stream",
     "text": [
      "/home/an/anaconda3/envs/deep_learning_env_2/lib/python3.9/site-packages/sklearn/metrics/_ranking.py:891: UserWarning: No positive class found in y_true, recall is set to one for all thresholds.\n",
      "  warnings.warn(\n",
      "/home/an/anaconda3/envs/deep_learning_env_2/lib/python3.9/site-packages/sklearn/metrics/_ranking.py:891: UserWarning: No positive class found in y_true, recall is set to one for all thresholds.\n",
      "  warnings.warn(\n"
     ]
    },
    {
     "name": "stdout",
     "output_type": "stream",
     "text": [
      "[0.09290137913088733, -0.0, 0.09907764649143959]\n",
      "[0.44436245268289815, -0.0, 0.2406631299734748]\n",
      "mAP strict= 0.06399300854077565 ; mAP relaxed = 0.22834186088545763\n",
      "2023-02-16 01:21:45 - mAP strict:   \t6.40\n",
      "2023-02-16 01:21:45 - mAP relaxed:   \t22.83\n",
      "2023-02-16 01:22:23 - TripletEvaluator: Evaluating the model on dev dataset after epoch 9:\n",
      "[0.0963855421686747, -0.0, 0.07874493927125506]\n",
      "[0.41595891763776416, -0.0, 0.259946949602122]\n",
      "mAP strict= 0.05837682714664325 ; mAP relaxed = 0.2253019557466287\n",
      "2023-02-16 01:22:23 - mAP strict:   \t5.84\n",
      "2023-02-16 01:22:23 - mAP relaxed:   \t22.53\n"
     ]
    },
    {
     "name": "stderr",
     "output_type": "stream",
     "text": [
      "/home/an/anaconda3/envs/deep_learning_env_2/lib/python3.9/site-packages/sklearn/metrics/_ranking.py:891: UserWarning: No positive class found in y_true, recall is set to one for all thresholds.\n",
      "  warnings.warn(\n",
      "/home/an/anaconda3/envs/deep_learning_env_2/lib/python3.9/site-packages/sklearn/metrics/_ranking.py:891: UserWarning: No positive class found in y_true, recall is set to one for all thresholds.\n",
      "  warnings.warn(\n"
     ]
    }
   ],
   "source": [
    "# Train, evaluate on Rev-KP\n",
    "training_script.train_model('./training_material/siamese-data/',\n",
    "                           './training_material/siamese-data/',\n",
    "                           'dev',\n",
    "                           './model/siamese-models/',\n",
    "                           'quangantang/roberta-large-pretrained-yelp',\n",
    "                           model_suffix='contrastive-10-epochs',\n",
    "                           data_file_suffix='contrastive',\n",
    "                           num_epochs=10, max_seq_length=128, add_special_token=True, train_batch_size=16, loss='ContrastiveLoss')\n"
   ]
  },
  {
   "cell_type": "code",
   "execution_count": null,
   "id": "34eceb87",
   "metadata": {
    "pycharm": {
     "name": "#%%\n"
    }
   },
   "outputs": [],
   "source": []
  }
 ],
 "metadata": {
  "kernelspec": {
   "display_name": "Python 3 (ipykernel)",
   "language": "python",
   "name": "python3"
  },
  "language_info": {
   "codemirror_mode": {
    "name": "ipython",
    "version": 3
   },
   "file_extension": ".py",
   "mimetype": "text/x-python",
   "name": "python",
   "nbconvert_exporter": "python",
   "pygments_lexer": "ipython3",
   "version": "3.9.12"
  },
  "toc": {
   "base_numbering": 1,
   "nav_menu": {},
   "number_sections": true,
   "sideBar": true,
   "skip_h1_title": false,
   "title_cell": "Table of Contents",
   "title_sidebar": "Contents",
   "toc_cell": false,
   "toc_position": {},
   "toc_section_display": true,
   "toc_window_display": false
  }
 },
 "nbformat": 4,
 "nbformat_minor": 5
}