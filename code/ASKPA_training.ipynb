{
 "cells": [
  {
   "cell_type": "markdown",
   "id": "12f0cb37",
   "metadata": {
    "pycharm": {
     "name": "#%% md\n"
    }
   },
   "source": [
    "# Import"
   ]
  },
  {
   "cell_type": "code",
   "execution_count": 1,
   "id": "4150b2e0",
   "metadata": {
    "pycharm": {
     "name": "#%%\n"
    }
   },
   "outputs": [
    {
     "name": "stderr",
     "output_type": "stream",
     "text": [
      "/home/an/anaconda3/envs/deep_learning_env_2/lib/python3.9/site-packages/scipy/__init__.py:146: UserWarning: A NumPy version >=1.16.5 and <1.23.0 is required for this version of SciPy (detected version 1.23.5\n",
      "  warnings.warn(f\"A NumPy version >={np_minversion} and <{np_maxversion}\"\n"
     ]
    }
   ],
   "source": [
    "# %autoreload\n",
    "import pandas as pd\n",
    "import sys\n",
    "import os\n",
    "\n",
    "# os.environ['CUDA_VISIBLE_DEVICES'] = '5'\n",
    "# sys.path.insert(0, \"../src-py\")\n",
    "\n",
    "from utils.training_script import *"
   ]
  },
  {
   "cell_type": "code",
   "execution_count": 2,
   "id": "4af11802",
   "metadata": {},
   "outputs": [],
   "source": [
    "rev_kp_dataset_df = pd.read_pickle(\"../data/training/train_data.pkl\")"
   ]
  },
  {
   "cell_type": "markdown",
   "id": "424b3e4e",
   "metadata": {},
   "source": [
    "# In-category Training"
   ]
  },
  {
   "cell_type": "code",
   "execution_count": 3,
   "id": "d384c84d",
   "metadata": {},
   "outputs": [],
   "source": [
    "for domain in rev_kp_dataset_df['domain'].unique():\n",
    "    model_out_dir = f\"./model/ASKPA/in-category/{domain}/\"\n",
    "    if not os.path.exists(model_out_dir):\n",
    "        os.mkdir(model_out_dir)"
   ]
  },
  {
   "cell_type": "markdown",
   "id": "7cb18309",
   "metadata": {},
   "source": [
    "## Arts & Entertainment"
   ]
  },
  {
   "cell_type": "code",
   "execution_count": 69,
   "id": "9d4a105f",
   "metadata": {},
   "outputs": [
    {
     "name": "stderr",
     "output_type": "stream",
     "text": [
      "Some weights of the model checkpoint at ./model/roberta-large-finetuned-yelp/checkpoint-134060/ were not used when initializing RobertaModel: ['lm_head.dense.weight', 'lm_head.layer_norm.weight', 'lm_head.bias', 'lm_head.layer_norm.bias', 'lm_head.dense.bias']\n",
      "- This IS expected if you are initializing RobertaModel from the checkpoint of a model trained on another task or with another architecture (e.g. initializing a BertForSequenceClassification model from a BertForPreTraining model).\n",
      "- This IS NOT expected if you are initializing RobertaModel from the checkpoint of a model that you expect to be exactly identical (initializing a BertForSequenceClassification model from a BertForSequenceClassification model).\n",
      "Some weights of RobertaModel were not initialized from the model checkpoint at ./model/roberta-large-finetuned-yelp/checkpoint-134060/ and are newly initialized: ['roberta.pooler.dense.weight', 'roberta.pooler.dense.bias']\n",
      "You should probably TRAIN this model on a down-stream task to be able to use it for predictions and inference.\n"
     ]
    },
    {
     "name": "stdout",
     "output_type": "stream",
     "text": [
      "2023-04-20 20:31:20 - Use pytorch device: cuda\n",
      "2023-04-20 20:31:20 - Read Triplet train dataset\n"
     ]
    },
    {
     "data": {
      "application/vnd.jupyter.widget-view+json": {
       "model_id": "c20183fbfd75453daee1e82429309fd9",
       "version_major": 2,
       "version_minor": 0
      },
      "text/plain": [
       "Epoch:   0%|          | 0/10 [00:00<?, ?it/s]"
      ]
     },
     "metadata": {},
     "output_type": "display_data"
    },
    {
     "data": {
      "application/vnd.jupyter.widget-view+json": {
       "model_id": "d6e72a9ba75a4a5b9167fdcc46e1cf36",
       "version_major": 2,
       "version_minor": 0
      },
      "text/plain": [
       "Iteration:   0%|          | 0/478 [00:00<?, ?it/s]"
      ]
     },
     "metadata": {},
     "output_type": "display_data"
    },
    {
     "name": "stdout",
     "output_type": "stream",
     "text": [
      "2023-04-20 20:32:34 - TripletEvaluator: Evaluating the model on dev dataset after epoch 0:\n",
      "[0.04471697965018104, 0.9924648786717752]\n",
      "[0.04471697965018104, 0.9774278676988037]\n",
      "mAP strict= 0.5185909291609782 ; mAP relaxed = 0.5110724236744923\n",
      "2023-04-20 20:32:34 - mAP strict:   \t51.86\n",
      "2023-04-20 20:32:34 - mAP relaxed:   \t51.11\n",
      "2023-04-20 20:32:35 - Save model to ./keypoint-analysis-sharedtask/siamese-models/aspect-opinion-6_1/domain/Arts & Entertainment/roberta-large-yelp-pretrained-contrastive-10-epochs-2023-04-20_20-31-15\n"
     ]
    },
    {
     "data": {
      "application/vnd.jupyter.widget-view+json": {
       "model_id": "d2dd94b14c5c42b0b66a238140d15a98",
       "version_major": 2,
       "version_minor": 0
      },
      "text/plain": [
       "Iteration:   0%|          | 0/478 [00:00<?, ?it/s]"
      ]
     },
     "metadata": {},
     "output_type": "display_data"
    },
    {
     "name": "stdout",
     "output_type": "stream",
     "text": [
      "2023-04-20 20:33:48 - TripletEvaluator: Evaluating the model on dev dataset after epoch 1:\n",
      "[0.09849624060150376, 1.0]\n",
      "[0.09849624060150376, 0.939247618291712]\n",
      "mAP strict= 0.5492481203007519 ; mAP relaxed = 0.5188719294466079\n",
      "2023-04-20 20:33:49 - mAP strict:   \t54.92\n",
      "2023-04-20 20:33:49 - mAP relaxed:   \t51.89\n",
      "2023-04-20 20:33:49 - Save model to ./keypoint-analysis-sharedtask/siamese-models/aspect-opinion-6_1/domain/Arts & Entertainment/roberta-large-yelp-pretrained-contrastive-10-epochs-2023-04-20_20-31-15\n"
     ]
    },
    {
     "data": {
      "application/vnd.jupyter.widget-view+json": {
       "model_id": "477531857f7641218d20ceacb315e4c6",
       "version_major": 2,
       "version_minor": 0
      },
      "text/plain": [
       "Iteration:   0%|          | 0/478 [00:00<?, ?it/s]"
      ]
     },
     "metadata": {},
     "output_type": "display_data"
    },
    {
     "name": "stdout",
     "output_type": "stream",
     "text": [
      "2023-04-20 20:35:03 - TripletEvaluator: Evaluating the model on dev dataset after epoch 2:\n",
      "[0.34444444444444444, 0.993167996565187]\n",
      "[0.34444444444444444, 0.993167996565187]\n",
      "mAP strict= 0.6688062205048158 ; mAP relaxed = 0.6688062205048158\n",
      "2023-04-20 20:35:04 - mAP strict:   \t66.88\n",
      "2023-04-20 20:35:04 - mAP relaxed:   \t66.88\n",
      "2023-04-20 20:35:04 - Save model to ./keypoint-analysis-sharedtask/siamese-models/aspect-opinion-6_1/domain/Arts & Entertainment/roberta-large-yelp-pretrained-contrastive-10-epochs-2023-04-20_20-31-15\n"
     ]
    },
    {
     "data": {
      "application/vnd.jupyter.widget-view+json": {
       "model_id": "2054acd5a92d43abb2529c3b0e1c1b43",
       "version_major": 2,
       "version_minor": 0
      },
      "text/plain": [
       "Iteration:   0%|          | 0/478 [00:00<?, ?it/s]"
      ]
     },
     "metadata": {},
     "output_type": "display_data"
    },
    {
     "name": "stdout",
     "output_type": "stream",
     "text": [
      "2023-04-20 20:36:18 - TripletEvaluator: Evaluating the model on dev dataset after epoch 3:\n",
      "[0.1603174603174603, 0.985174199041459]\n",
      "[0.1603174603174603, 0.9617541121009027]\n",
      "mAP strict= 0.5727458296794596 ; mAP relaxed = 0.5610357862091815\n",
      "2023-04-20 20:36:19 - mAP strict:   \t57.27\n",
      "2023-04-20 20:36:19 - mAP relaxed:   \t56.10\n"
     ]
    },
    {
     "data": {
      "application/vnd.jupyter.widget-view+json": {
       "model_id": "0839127ae8f940438d57f5d2fa81a520",
       "version_major": 2,
       "version_minor": 0
      },
      "text/plain": [
       "Iteration:   0%|          | 0/478 [00:00<?, ?it/s]"
      ]
     },
     "metadata": {},
     "output_type": "display_data"
    },
    {
     "name": "stdout",
     "output_type": "stream",
     "text": [
      "2023-04-20 20:37:31 - TripletEvaluator: Evaluating the model on dev dataset after epoch 4:\n",
      "[0.13992673992673993, 0.9960739794711697]\n",
      "[0.13992673992673993, 0.9622000471479384]\n",
      "mAP strict= 0.5680003596989548 ; mAP relaxed = 0.5510633935373391\n",
      "2023-04-20 20:37:31 - mAP strict:   \t56.80\n",
      "2023-04-20 20:37:31 - mAP relaxed:   \t55.11\n"
     ]
    },
    {
     "data": {
      "application/vnd.jupyter.widget-view+json": {
       "model_id": "0969853a6ad548e49342186a8ea86804",
       "version_major": 2,
       "version_minor": 0
      },
      "text/plain": [
       "Iteration:   0%|          | 0/478 [00:00<?, ?it/s]"
      ]
     },
     "metadata": {},
     "output_type": "display_data"
    },
    {
     "name": "stdout",
     "output_type": "stream",
     "text": [
      "2023-04-20 20:38:43 - TripletEvaluator: Evaluating the model on dev dataset after epoch 5:\n",
      "[0.07191323692992213, 0.692483259227819]\n",
      "[0.07191323692992213, 0.6719562254770225]\n",
      "mAP strict= 0.38219824807887054 ; mAP relaxed = 0.3719347312034723\n",
      "2023-04-20 20:38:44 - mAP strict:   \t38.22\n",
      "2023-04-20 20:38:44 - mAP relaxed:   \t37.19\n"
     ]
    },
    {
     "data": {
      "application/vnd.jupyter.widget-view+json": {
       "model_id": "c3c85d0576364e51b747e53423702c6d",
       "version_major": 2,
       "version_minor": 0
      },
      "text/plain": [
       "Iteration:   0%|          | 0/478 [00:00<?, ?it/s]"
      ]
     },
     "metadata": {},
     "output_type": "display_data"
    },
    {
     "name": "stdout",
     "output_type": "stream",
     "text": [
      "2023-04-20 20:39:55 - TripletEvaluator: Evaluating the model on dev dataset after epoch 6:\n",
      "[0.10360623781676413, 0.6727390501655207]\n",
      "[0.10360623781676413, 0.7380574612613496]\n",
      "mAP strict= 0.38817264399114243 ; mAP relaxed = 0.4208318495390569\n",
      "2023-04-20 20:39:55 - mAP strict:   \t38.82\n",
      "2023-04-20 20:39:55 - mAP relaxed:   \t42.08\n"
     ]
    },
    {
     "data": {
      "application/vnd.jupyter.widget-view+json": {
       "model_id": "c703eb1d38a640c5b76ae7e432f6c480",
       "version_major": 2,
       "version_minor": 0
      },
      "text/plain": [
       "Iteration:   0%|          | 0/478 [00:00<?, ?it/s]"
      ]
     },
     "metadata": {},
     "output_type": "display_data"
    },
    {
     "name": "stdout",
     "output_type": "stream",
     "text": [
      "2023-04-20 20:41:06 - TripletEvaluator: Evaluating the model on dev dataset after epoch 7:\n",
      "[0.09947089947089947, 0.9973055065647658]\n",
      "[0.09947089947089947, 0.9411264917275989]\n",
      "mAP strict= 0.5483882030178326 ; mAP relaxed = 0.5202986955992491\n",
      "2023-04-20 20:41:07 - mAP strict:   \t54.84\n",
      "2023-04-20 20:41:07 - mAP relaxed:   \t52.03\n"
     ]
    },
    {
     "data": {
      "application/vnd.jupyter.widget-view+json": {
       "model_id": "0085e025f35f4b30a72e472a9384ec47",
       "version_major": 2,
       "version_minor": 0
      },
      "text/plain": [
       "Iteration:   0%|          | 0/478 [00:00<?, ?it/s]"
      ]
     },
     "metadata": {},
     "output_type": "display_data"
    },
    {
     "name": "stdout",
     "output_type": "stream",
     "text": [
      "2023-04-20 20:42:18 - TripletEvaluator: Evaluating the model on dev dataset after epoch 8:\n",
      "[0.09044795783926218, 0.9946494780466684]\n",
      "[0.09044795783926218, 0.9719467952226573]\n",
      "mAP strict= 0.5425487179429653 ; mAP relaxed = 0.5311973765309597\n",
      "2023-04-20 20:42:19 - mAP strict:   \t54.25\n",
      "2023-04-20 20:42:19 - mAP relaxed:   \t53.12\n"
     ]
    },
    {
     "data": {
      "application/vnd.jupyter.widget-view+json": {
       "model_id": "6c17f7882dbb43829bd0558fcff37640",
       "version_major": 2,
       "version_minor": 0
      },
      "text/plain": [
       "Iteration:   0%|          | 0/478 [00:00<?, ?it/s]"
      ]
     },
     "metadata": {},
     "output_type": "display_data"
    },
    {
     "name": "stdout",
     "output_type": "stream",
     "text": [
      "2023-04-20 20:43:31 - TripletEvaluator: Evaluating the model on dev dataset after epoch 9:\n",
      "[0.08027972027972029, 0.9946494780466684]\n",
      "[0.08027972027972029, 0.973210789444398]\n",
      "mAP strict= 0.5374645991631943 ; mAP relaxed = 0.5267452548620591\n",
      "2023-04-20 20:43:31 - mAP strict:   \t53.75\n",
      "2023-04-20 20:43:31 - mAP relaxed:   \t52.67\n"
     ]
    }
   ],
   "source": [
    "domain = \"Arts & Entertainment\"\n",
    "# Train, evaluate on Rev-KP\n",
    "train_model(f'./training_material/siamese-data/in-category/{domain}/',\n",
    "            f'./training_material/siamese-data/in-category/{domain}/',\n",
    "            'dev',\n",
    "            f'./model/ASKPA/in-category/{domain}/',\n",
    "            './model/roberta-large-pretrained-yelp/checkpoint-134060/',\n",
    "            model_suffix='contrastive-10-epochs',\n",
    "            data_file_suffix='contrastive',\n",
    "            num_epochs=10, max_seq_length=128, add_special_token=True, train_batch_size=16, loss='ContrastiveLoss')"
   ]
  },
  {
   "cell_type": "markdown",
   "id": "bca168e7",
   "metadata": {},
   "source": [
    "## Automotive"
   ]
  },
  {
   "cell_type": "code",
   "execution_count": 69,
   "id": "291cdec0",
   "metadata": {},
   "outputs": [
    {
     "name": "stderr",
     "output_type": "stream",
     "text": [
      "Some weights of the model checkpoint at ./model/roberta-large-finetuned-yelp/checkpoint-134060/ were not used when initializing RobertaModel: ['lm_head.dense.weight', 'lm_head.layer_norm.bias', 'lm_head.bias', 'lm_head.dense.bias', 'lm_head.layer_norm.weight']\n",
      "- This IS expected if you are initializing RobertaModel from the checkpoint of a model trained on another task or with another architecture (e.g. initializing a BertForSequenceClassification model from a BertForPreTraining model).\n",
      "- This IS NOT expected if you are initializing RobertaModel from the checkpoint of a model that you expect to be exactly identical (initializing a BertForSequenceClassification model from a BertForSequenceClassification model).\n",
      "Some weights of RobertaModel were not initialized from the model checkpoint at ./model/roberta-large-finetuned-yelp/checkpoint-134060/ and are newly initialized: ['roberta.pooler.dense.weight', 'roberta.pooler.dense.bias']\n",
      "You should probably TRAIN this model on a down-stream task to be able to use it for predictions and inference.\n"
     ]
    },
    {
     "name": "stdout",
     "output_type": "stream",
     "text": [
      "2023-04-20 21:14:18 - Use pytorch device: cuda\n",
      "2023-04-20 21:14:18 - Read Triplet train dataset\n"
     ]
    },
    {
     "data": {
      "application/vnd.jupyter.widget-view+json": {
       "model_id": "5942122c602142a39f63a9d4904eb42a",
       "version_major": 2,
       "version_minor": 0
      },
      "text/plain": [
       "Epoch:   0%|          | 0/10 [00:00<?, ?it/s]"
      ]
     },
     "metadata": {},
     "output_type": "display_data"
    },
    {
     "data": {
      "application/vnd.jupyter.widget-view+json": {
       "model_id": "68ec60ee80c74be7a73f25c937e0a029",
       "version_major": 2,
       "version_minor": 0
      },
      "text/plain": [
       "Iteration:   0%|          | 0/383 [00:00<?, ?it/s]"
      ]
     },
     "metadata": {},
     "output_type": "display_data"
    },
    {
     "name": "stdout",
     "output_type": "stream",
     "text": [
      "2023-04-20 21:15:18 - TripletEvaluator: Evaluating the model on dev dataset after epoch 0:\n",
      "[-0.0, 0.3313643850601449]\n",
      "[-0.0, 0.4494471180950309]\n",
      "mAP strict= 0.16568219253007244 ; mAP relaxed = 0.22472355904751545\n",
      "2023-04-20 21:15:18 - mAP strict:   \t16.57\n",
      "2023-04-20 21:15:18 - mAP relaxed:   \t22.47\n",
      "2023-04-20 21:15:18 - Save model to ./keypoint-analysis-sharedtask/siamese-models/aspect-opinion-6_1/domain/Automotive/roberta-large-yelp-pretrained-contrastive-10-epochs-2023-04-20_21-14-13\n"
     ]
    },
    {
     "name": "stderr",
     "output_type": "stream",
     "text": [
      "/home/an/anaconda3/envs/deep_learning_env_2/lib/python3.9/site-packages/sklearn/metrics/_ranking.py:891: UserWarning: No positive class found in y_true, recall is set to one for all thresholds.\n",
      "  warnings.warn(\n",
      "/home/an/anaconda3/envs/deep_learning_env_2/lib/python3.9/site-packages/sklearn/metrics/_ranking.py:891: UserWarning: No positive class found in y_true, recall is set to one for all thresholds.\n",
      "  warnings.warn(\n"
     ]
    },
    {
     "data": {
      "application/vnd.jupyter.widget-view+json": {
       "model_id": "8a4168376ace471188be42554a9161b4",
       "version_major": 2,
       "version_minor": 0
      },
      "text/plain": [
       "Iteration:   0%|          | 0/383 [00:00<?, ?it/s]"
      ]
     },
     "metadata": {},
     "output_type": "display_data"
    },
    {
     "name": "stdout",
     "output_type": "stream",
     "text": [
      "2023-04-20 21:16:17 - TripletEvaluator: Evaluating the model on dev dataset after epoch 1:\n",
      "[-0.0, 0.23483034381010381]\n",
      "[-0.0, 0.26769407640645676]\n",
      "mAP strict= 0.11741517190505191 ; mAP relaxed = 0.13384703820322838\n",
      "2023-04-20 21:16:18 - mAP strict:   \t11.74\n",
      "2023-04-20 21:16:18 - mAP relaxed:   \t13.38\n"
     ]
    },
    {
     "name": "stderr",
     "output_type": "stream",
     "text": [
      "/home/an/anaconda3/envs/deep_learning_env_2/lib/python3.9/site-packages/sklearn/metrics/_ranking.py:891: UserWarning: No positive class found in y_true, recall is set to one for all thresholds.\n",
      "  warnings.warn(\n",
      "/home/an/anaconda3/envs/deep_learning_env_2/lib/python3.9/site-packages/sklearn/metrics/_ranking.py:891: UserWarning: No positive class found in y_true, recall is set to one for all thresholds.\n",
      "  warnings.warn(\n"
     ]
    },
    {
     "data": {
      "application/vnd.jupyter.widget-view+json": {
       "model_id": "c5d63354e9804cee82501cf1dc2d83c0",
       "version_major": 2,
       "version_minor": 0
      },
      "text/plain": [
       "Iteration:   0%|          | 0/383 [00:00<?, ?it/s]"
      ]
     },
     "metadata": {},
     "output_type": "display_data"
    },
    {
     "name": "stdout",
     "output_type": "stream",
     "text": [
      "2023-04-20 21:17:14 - TripletEvaluator: Evaluating the model on dev dataset after epoch 2:\n",
      "[-0.0, 0.21152790824898904]\n",
      "[-0.0, 0.24390460710839607]\n",
      "mAP strict= 0.10576395412449452 ; mAP relaxed = 0.12195230355419803\n",
      "2023-04-20 21:17:14 - mAP strict:   \t10.58\n",
      "2023-04-20 21:17:14 - mAP relaxed:   \t12.20\n"
     ]
    },
    {
     "name": "stderr",
     "output_type": "stream",
     "text": [
      "/home/an/anaconda3/envs/deep_learning_env_2/lib/python3.9/site-packages/sklearn/metrics/_ranking.py:891: UserWarning: No positive class found in y_true, recall is set to one for all thresholds.\n",
      "  warnings.warn(\n",
      "/home/an/anaconda3/envs/deep_learning_env_2/lib/python3.9/site-packages/sklearn/metrics/_ranking.py:891: UserWarning: No positive class found in y_true, recall is set to one for all thresholds.\n",
      "  warnings.warn(\n"
     ]
    },
    {
     "data": {
      "application/vnd.jupyter.widget-view+json": {
       "model_id": "f86e78d6b7a544c2982a12d3a9a6cb19",
       "version_major": 2,
       "version_minor": 0
      },
      "text/plain": [
       "Iteration:   0%|          | 0/383 [00:00<?, ?it/s]"
      ]
     },
     "metadata": {},
     "output_type": "display_data"
    },
    {
     "name": "stdout",
     "output_type": "stream",
     "text": [
      "2023-04-20 21:18:12 - TripletEvaluator: Evaluating the model on dev dataset after epoch 3:\n",
      "[-0.0, 0.18462173728012699]\n",
      "[-0.0, 0.19963604586092656]\n",
      "mAP strict= 0.09231086864006349 ; mAP relaxed = 0.09981802293046328\n",
      "2023-04-20 21:18:12 - mAP strict:   \t9.23\n",
      "2023-04-20 21:18:12 - mAP relaxed:   \t9.98\n"
     ]
    },
    {
     "name": "stderr",
     "output_type": "stream",
     "text": [
      "/home/an/anaconda3/envs/deep_learning_env_2/lib/python3.9/site-packages/sklearn/metrics/_ranking.py:891: UserWarning: No positive class found in y_true, recall is set to one for all thresholds.\n",
      "  warnings.warn(\n",
      "/home/an/anaconda3/envs/deep_learning_env_2/lib/python3.9/site-packages/sklearn/metrics/_ranking.py:891: UserWarning: No positive class found in y_true, recall is set to one for all thresholds.\n",
      "  warnings.warn(\n"
     ]
    },
    {
     "data": {
      "application/vnd.jupyter.widget-view+json": {
       "model_id": "d8179740bfcc46d39a6abec0d8aaa9ce",
       "version_major": 2,
       "version_minor": 0
      },
      "text/plain": [
       "Iteration:   0%|          | 0/383 [00:00<?, ?it/s]"
      ]
     },
     "metadata": {},
     "output_type": "display_data"
    },
    {
     "name": "stdout",
     "output_type": "stream",
     "text": [
      "2023-04-20 21:19:10 - TripletEvaluator: Evaluating the model on dev dataset after epoch 4:\n",
      "[-0.0, 0.16342945851699986]\n",
      "[-0.0, 0.19284314212046091]\n",
      "mAP strict= 0.08171472925849993 ; mAP relaxed = 0.09642157106023046\n",
      "2023-04-20 21:19:10 - mAP strict:   \t8.17\n",
      "2023-04-20 21:19:10 - mAP relaxed:   \t9.64\n"
     ]
    },
    {
     "name": "stderr",
     "output_type": "stream",
     "text": [
      "/home/an/anaconda3/envs/deep_learning_env_2/lib/python3.9/site-packages/sklearn/metrics/_ranking.py:891: UserWarning: No positive class found in y_true, recall is set to one for all thresholds.\n",
      "  warnings.warn(\n",
      "/home/an/anaconda3/envs/deep_learning_env_2/lib/python3.9/site-packages/sklearn/metrics/_ranking.py:891: UserWarning: No positive class found in y_true, recall is set to one for all thresholds.\n",
      "  warnings.warn(\n"
     ]
    },
    {
     "data": {
      "application/vnd.jupyter.widget-view+json": {
       "model_id": "23ba5e7e405a4abc9a4a5a91c6428255",
       "version_major": 2,
       "version_minor": 0
      },
      "text/plain": [
       "Iteration:   0%|          | 0/383 [00:00<?, ?it/s]"
      ]
     },
     "metadata": {},
     "output_type": "display_data"
    },
    {
     "name": "stdout",
     "output_type": "stream",
     "text": [
      "2023-04-20 21:20:07 - TripletEvaluator: Evaluating the model on dev dataset after epoch 5:\n",
      "[-0.0, 0.3330828944473109]\n",
      "[-0.0, 0.336385458532659]\n",
      "mAP strict= 0.16654144722365544 ; mAP relaxed = 0.1681927292663295\n",
      "2023-04-20 21:20:08 - mAP strict:   \t16.65\n",
      "2023-04-20 21:20:08 - mAP relaxed:   \t16.82\n"
     ]
    },
    {
     "name": "stderr",
     "output_type": "stream",
     "text": [
      "/home/an/anaconda3/envs/deep_learning_env_2/lib/python3.9/site-packages/sklearn/metrics/_ranking.py:891: UserWarning: No positive class found in y_true, recall is set to one for all thresholds.\n",
      "  warnings.warn(\n",
      "/home/an/anaconda3/envs/deep_learning_env_2/lib/python3.9/site-packages/sklearn/metrics/_ranking.py:891: UserWarning: No positive class found in y_true, recall is set to one for all thresholds.\n",
      "  warnings.warn(\n"
     ]
    },
    {
     "data": {
      "application/vnd.jupyter.widget-view+json": {
       "model_id": "5d056f66b0c34e1fa1042badfb62007d",
       "version_major": 2,
       "version_minor": 0
      },
      "text/plain": [
       "Iteration:   0%|          | 0/383 [00:00<?, ?it/s]"
      ]
     },
     "metadata": {},
     "output_type": "display_data"
    },
    {
     "name": "stdout",
     "output_type": "stream",
     "text": [
      "2023-04-20 21:21:05 - TripletEvaluator: Evaluating the model on dev dataset after epoch 6:\n",
      "[-0.0, 0.18515560821577107]\n",
      "[-0.0, 0.19997224127742386]\n",
      "mAP strict= 0.09257780410788553 ; mAP relaxed = 0.09998612063871193\n",
      "2023-04-20 21:21:05 - mAP strict:   \t9.26\n",
      "2023-04-20 21:21:05 - mAP relaxed:   \t10.00\n"
     ]
    },
    {
     "name": "stderr",
     "output_type": "stream",
     "text": [
      "/home/an/anaconda3/envs/deep_learning_env_2/lib/python3.9/site-packages/sklearn/metrics/_ranking.py:891: UserWarning: No positive class found in y_true, recall is set to one for all thresholds.\n",
      "  warnings.warn(\n",
      "/home/an/anaconda3/envs/deep_learning_env_2/lib/python3.9/site-packages/sklearn/metrics/_ranking.py:891: UserWarning: No positive class found in y_true, recall is set to one for all thresholds.\n",
      "  warnings.warn(\n"
     ]
    },
    {
     "data": {
      "application/vnd.jupyter.widget-view+json": {
       "model_id": "6d84db073ea4481b838052898156b53f",
       "version_major": 2,
       "version_minor": 0
      },
      "text/plain": [
       "Iteration:   0%|          | 0/383 [00:00<?, ?it/s]"
      ]
     },
     "metadata": {},
     "output_type": "display_data"
    },
    {
     "name": "stdout",
     "output_type": "stream",
     "text": [
      "2023-04-20 21:22:01 - TripletEvaluator: Evaluating the model on dev dataset after epoch 7:\n",
      "[-0.0, 0.17635568464866697]\n",
      "[-0.0, 0.19085361278448615]\n",
      "mAP strict= 0.08817784232433348 ; mAP relaxed = 0.09542680639224307\n",
      "2023-04-20 21:22:02 - mAP strict:   \t8.82\n",
      "2023-04-20 21:22:02 - mAP relaxed:   \t9.54\n"
     ]
    },
    {
     "name": "stderr",
     "output_type": "stream",
     "text": [
      "/home/an/anaconda3/envs/deep_learning_env_2/lib/python3.9/site-packages/sklearn/metrics/_ranking.py:891: UserWarning: No positive class found in y_true, recall is set to one for all thresholds.\n",
      "  warnings.warn(\n",
      "/home/an/anaconda3/envs/deep_learning_env_2/lib/python3.9/site-packages/sklearn/metrics/_ranking.py:891: UserWarning: No positive class found in y_true, recall is set to one for all thresholds.\n",
      "  warnings.warn(\n"
     ]
    },
    {
     "data": {
      "application/vnd.jupyter.widget-view+json": {
       "model_id": "0276b30a0a0f468381c85248ae001de3",
       "version_major": 2,
       "version_minor": 0
      },
      "text/plain": [
       "Iteration:   0%|          | 0/383 [00:00<?, ?it/s]"
      ]
     },
     "metadata": {},
     "output_type": "display_data"
    },
    {
     "name": "stdout",
     "output_type": "stream",
     "text": [
      "2023-04-20 21:22:59 - TripletEvaluator: Evaluating the model on dev dataset after epoch 8:\n",
      "[-0.0, 0.16521945362169344]\n",
      "[-0.0, 0.17940201732657798]\n",
      "mAP strict= 0.08260972681084672 ; mAP relaxed = 0.08970100866328899\n",
      "2023-04-20 21:22:59 - mAP strict:   \t8.26\n",
      "2023-04-20 21:22:59 - mAP relaxed:   \t8.97\n"
     ]
    },
    {
     "name": "stderr",
     "output_type": "stream",
     "text": [
      "/home/an/anaconda3/envs/deep_learning_env_2/lib/python3.9/site-packages/sklearn/metrics/_ranking.py:891: UserWarning: No positive class found in y_true, recall is set to one for all thresholds.\n",
      "  warnings.warn(\n",
      "/home/an/anaconda3/envs/deep_learning_env_2/lib/python3.9/site-packages/sklearn/metrics/_ranking.py:891: UserWarning: No positive class found in y_true, recall is set to one for all thresholds.\n",
      "  warnings.warn(\n"
     ]
    },
    {
     "data": {
      "application/vnd.jupyter.widget-view+json": {
       "model_id": "ac52ba105db94e18852f05108274f68e",
       "version_major": 2,
       "version_minor": 0
      },
      "text/plain": [
       "Iteration:   0%|          | 0/383 [00:00<?, ?it/s]"
      ]
     },
     "metadata": {},
     "output_type": "display_data"
    },
    {
     "name": "stdout",
     "output_type": "stream",
     "text": [
      "2023-04-20 21:23:56 - TripletEvaluator: Evaluating the model on dev dataset after epoch 9:\n",
      "[-0.0, 0.16474290823852666]\n",
      "[-0.0, 0.17945585116118432]\n",
      "mAP strict= 0.08237145411926333 ; mAP relaxed = 0.08972792558059216\n",
      "2023-04-20 21:23:57 - mAP strict:   \t8.24\n",
      "2023-04-20 21:23:57 - mAP relaxed:   \t8.97\n"
     ]
    },
    {
     "name": "stderr",
     "output_type": "stream",
     "text": [
      "/home/an/anaconda3/envs/deep_learning_env_2/lib/python3.9/site-packages/sklearn/metrics/_ranking.py:891: UserWarning: No positive class found in y_true, recall is set to one for all thresholds.\n",
      "  warnings.warn(\n",
      "/home/an/anaconda3/envs/deep_learning_env_2/lib/python3.9/site-packages/sklearn/metrics/_ranking.py:891: UserWarning: No positive class found in y_true, recall is set to one for all thresholds.\n",
      "  warnings.warn(\n"
     ]
    }
   ],
   "source": [
    "domain = \"Automotive\"\n",
    "# Train, evaluate on Rev-KP\n",
    "train_model(f'./training_material/siamese-data/in-category/{domain}/',\n",
    "            f'./training_material/siamese-data/in-category/{domain}/',\n",
    "            'dev',\n",
    "            f'./model/ASKPA/in-category/{domain}/',\n",
    "            './model/roberta-large-pretrained-yelp/checkpoint-134060/',\n",
    "            model_suffix='contrastive-10-epochs',\n",
    "            data_file_suffix='contrastive',\n",
    "            num_epochs=10, max_seq_length=128, add_special_token=True, train_batch_size=16, loss='ContrastiveLoss')"
   ]
  },
  {
   "cell_type": "markdown",
   "id": "ec13b235",
   "metadata": {},
   "source": [
    "## Beauty & Spas"
   ]
  },
  {
   "cell_type": "code",
   "execution_count": 69,
   "id": "927a08cc",
   "metadata": {
    "scrolled": true
   },
   "outputs": [
    {
     "name": "stderr",
     "output_type": "stream",
     "text": [
      "Some weights of the model checkpoint at ./model/roberta-large-finetuned-yelp/checkpoint-134060/ were not used when initializing RobertaModel: ['lm_head.bias', 'lm_head.dense.weight', 'lm_head.layer_norm.weight', 'lm_head.dense.bias', 'lm_head.layer_norm.bias']\n",
      "- This IS expected if you are initializing RobertaModel from the checkpoint of a model trained on another task or with another architecture (e.g. initializing a BertForSequenceClassification model from a BertForPreTraining model).\n",
      "- This IS NOT expected if you are initializing RobertaModel from the checkpoint of a model that you expect to be exactly identical (initializing a BertForSequenceClassification model from a BertForSequenceClassification model).\n",
      "Some weights of RobertaModel were not initialized from the model checkpoint at ./model/roberta-large-finetuned-yelp/checkpoint-134060/ and are newly initialized: ['roberta.pooler.dense.bias', 'roberta.pooler.dense.weight']\n",
      "You should probably TRAIN this model on a down-stream task to be able to use it for predictions and inference.\n"
     ]
    },
    {
     "name": "stdout",
     "output_type": "stream",
     "text": [
      "2023-04-23 03:34:15 - Use pytorch device: cuda\n",
      "2023-04-23 03:34:15 - Read Triplet train dataset\n"
     ]
    },
    {
     "data": {
      "application/vnd.jupyter.widget-view+json": {
       "model_id": "a9fd370a7ad84b1898d512adbff421ef",
       "version_major": 2,
       "version_minor": 0
      },
      "text/plain": [
       "Epoch:   0%|          | 0/10 [00:00<?, ?it/s]"
      ]
     },
     "metadata": {},
     "output_type": "display_data"
    },
    {
     "data": {
      "application/vnd.jupyter.widget-view+json": {
       "model_id": "ba9e18dfaa054ed2a6baa33658ec1f2e",
       "version_major": 2,
       "version_minor": 0
      },
      "text/plain": [
       "Iteration:   0%|          | 0/448 [00:00<?, ?it/s]"
      ]
     },
     "metadata": {},
     "output_type": "display_data"
    },
    {
     "name": "stdout",
     "output_type": "stream",
     "text": [
      "2023-04-23 03:35:24 - TripletEvaluator: Evaluating the model on dev dataset after epoch 0:\n",
      "[0.2640309759272259, 0.6339285714285714]\n",
      "[0.4663471476258852, 0.6339285714285714]\n",
      "mAP strict= 0.44897977367789865 ; mAP relaxed = 0.5501378595272283\n",
      "2023-04-23 03:35:24 - mAP strict:   \t44.90\n",
      "2023-04-23 03:35:24 - mAP relaxed:   \t55.01\n",
      "2023-04-23 03:35:25 - Save model to ./keypoint-analysis-sharedtask/siamese-models/aspect-opinion-6_1/domain/Beauty & Spas/roberta-large-yelp-pretrained-contrastive-10-epochs-2023-04-23_03-34-10\n"
     ]
    },
    {
     "data": {
      "application/vnd.jupyter.widget-view+json": {
       "model_id": "2168681cb0cb4621ba8bf61bed119431",
       "version_major": 2,
       "version_minor": 0
      },
      "text/plain": [
       "Iteration:   0%|          | 0/448 [00:00<?, ?it/s]"
      ]
     },
     "metadata": {},
     "output_type": "display_data"
    },
    {
     "name": "stdout",
     "output_type": "stream",
     "text": [
      "2023-04-23 03:36:35 - TripletEvaluator: Evaluating the model on dev dataset after epoch 1:\n",
      "[0.7560477983554907, 0.8166666666666667]\n",
      "[0.8962519967133369, 0.8166666666666667]\n",
      "mAP strict= 0.7863572325110787 ; mAP relaxed = 0.8564593316900018\n",
      "2023-04-23 03:36:35 - mAP strict:   \t78.64\n",
      "2023-04-23 03:36:35 - mAP relaxed:   \t85.65\n",
      "2023-04-23 03:36:35 - Save model to ./keypoint-analysis-sharedtask/siamese-models/aspect-opinion-6_1/domain/Beauty & Spas/roberta-large-yelp-pretrained-contrastive-10-epochs-2023-04-23_03-34-10\n"
     ]
    },
    {
     "data": {
      "application/vnd.jupyter.widget-view+json": {
       "model_id": "1e772cc0c40a47da8b314b6fb8b74e7c",
       "version_major": 2,
       "version_minor": 0
      },
      "text/plain": [
       "Iteration:   0%|          | 0/448 [00:00<?, ?it/s]"
      ]
     },
     "metadata": {},
     "output_type": "display_data"
    },
    {
     "name": "stdout",
     "output_type": "stream",
     "text": [
      "2023-04-23 03:37:45 - TripletEvaluator: Evaluating the model on dev dataset after epoch 2:\n",
      "[0.459334946099652, 0.6659090909090909]\n",
      "[0.45708890326847407, 0.6659090909090909]\n",
      "mAP strict= 0.5626220185043714 ; mAP relaxed = 0.5614989970887825\n",
      "2023-04-23 03:37:45 - mAP strict:   \t56.26\n",
      "2023-04-23 03:37:45 - mAP relaxed:   \t56.15\n"
     ]
    },
    {
     "data": {
      "application/vnd.jupyter.widget-view+json": {
       "model_id": "4adb1c0c393d4522ab1f88cef4ddf4a3",
       "version_major": 2,
       "version_minor": 0
      },
      "text/plain": [
       "Iteration:   0%|          | 0/448 [00:00<?, ?it/s]"
      ]
     },
     "metadata": {},
     "output_type": "display_data"
    },
    {
     "name": "stdout",
     "output_type": "stream",
     "text": [
      "2023-04-23 03:38:53 - TripletEvaluator: Evaluating the model on dev dataset after epoch 3:\n",
      "[0.6376717032967033, 0.6833333333333333]\n",
      "[0.5523683681834753, 0.6833333333333333]\n",
      "mAP strict= 0.6605025183150184 ; mAP relaxed = 0.6178508507584044\n",
      "2023-04-23 03:38:53 - mAP strict:   \t66.05\n",
      "2023-04-23 03:38:53 - mAP relaxed:   \t61.79\n"
     ]
    },
    {
     "data": {
      "application/vnd.jupyter.widget-view+json": {
       "model_id": "25a4916ce3e44f11a285c4acc5533f0f",
       "version_major": 2,
       "version_minor": 0
      },
      "text/plain": [
       "Iteration:   0%|          | 0/448 [00:00<?, ?it/s]"
      ]
     },
     "metadata": {},
     "output_type": "display_data"
    },
    {
     "name": "stdout",
     "output_type": "stream",
     "text": [
      "2023-04-23 03:40:01 - TripletEvaluator: Evaluating the model on dev dataset after epoch 4:\n",
      "[0.11701111019442839, 0.7321428571428572]\n",
      "[0.3831318990534619, 0.7321428571428572]\n",
      "mAP strict= 0.4245769836686428 ; mAP relaxed = 0.5576373780981596\n",
      "2023-04-23 03:40:02 - mAP strict:   \t42.46\n",
      "2023-04-23 03:40:02 - mAP relaxed:   \t55.76\n"
     ]
    },
    {
     "data": {
      "application/vnd.jupyter.widget-view+json": {
       "model_id": "4bbb72c6113f48309d9fa8a203caebdb",
       "version_major": 2,
       "version_minor": 0
      },
      "text/plain": [
       "Iteration:   0%|          | 0/448 [00:00<?, ?it/s]"
      ]
     },
     "metadata": {},
     "output_type": "display_data"
    },
    {
     "name": "stdout",
     "output_type": "stream",
     "text": [
      "2023-04-23 03:41:09 - TripletEvaluator: Evaluating the model on dev dataset after epoch 5:\n",
      "[0.6178712827875094, 1.0]\n",
      "[0.6358280193032515, 1.0]\n",
      "mAP strict= 0.8089356413937547 ; mAP relaxed = 0.8179140096516258\n",
      "2023-04-23 03:41:10 - mAP strict:   \t80.89\n",
      "2023-04-23 03:41:10 - mAP relaxed:   \t81.79\n"
     ]
    },
    {
     "data": {
      "application/vnd.jupyter.widget-view+json": {
       "model_id": "e96f3ce7e2df4f568941c5f7eef4e4ac",
       "version_major": 2,
       "version_minor": 0
      },
      "text/plain": [
       "Iteration:   0%|          | 0/448 [00:00<?, ?it/s]"
      ]
     },
     "metadata": {},
     "output_type": "display_data"
    },
    {
     "name": "stdout",
     "output_type": "stream",
     "text": [
      "2023-04-23 03:42:17 - TripletEvaluator: Evaluating the model on dev dataset after epoch 6:\n",
      "[0.47594047321298294, 1.0]\n",
      "[0.5115913794575807, 1.0]\n",
      "mAP strict= 0.7379702366064915 ; mAP relaxed = 0.7557956897287903\n",
      "2023-04-23 03:42:18 - mAP strict:   \t73.80\n",
      "2023-04-23 03:42:18 - mAP relaxed:   \t75.58\n"
     ]
    },
    {
     "data": {
      "application/vnd.jupyter.widget-view+json": {
       "model_id": "124d1fbfff7343bc97febcf5591860ff",
       "version_major": 2,
       "version_minor": 0
      },
      "text/plain": [
       "Iteration:   0%|          | 0/448 [00:00<?, ?it/s]"
      ]
     },
     "metadata": {},
     "output_type": "display_data"
    },
    {
     "name": "stdout",
     "output_type": "stream",
     "text": [
      "2023-04-23 03:43:26 - TripletEvaluator: Evaluating the model on dev dataset after epoch 7:\n",
      "[0.24203888065150034, 1.0]\n",
      "[0.4216630179050417, 1.0]\n",
      "mAP strict= 0.6210194403257502 ; mAP relaxed = 0.7108315089525208\n",
      "2023-04-23 03:43:26 - mAP strict:   \t62.10\n",
      "2023-04-23 03:43:26 - mAP relaxed:   \t71.08\n"
     ]
    },
    {
     "data": {
      "application/vnd.jupyter.widget-view+json": {
       "model_id": "98baa23800c347e1b2383513a903c56c",
       "version_major": 2,
       "version_minor": 0
      },
      "text/plain": [
       "Iteration:   0%|          | 0/448 [00:00<?, ?it/s]"
      ]
     },
     "metadata": {},
     "output_type": "display_data"
    },
    {
     "name": "stdout",
     "output_type": "stream",
     "text": [
      "2023-04-23 03:44:35 - TripletEvaluator: Evaluating the model on dev dataset after epoch 8:\n",
      "[0.24926327771222923, 1.0]\n",
      "[0.42887384532278217, 1.0]\n",
      "mAP strict= 0.6246316388561146 ; mAP relaxed = 0.7144369226613911\n",
      "2023-04-23 03:44:35 - mAP strict:   \t62.46\n",
      "2023-04-23 03:44:35 - mAP relaxed:   \t71.44\n"
     ]
    },
    {
     "data": {
      "application/vnd.jupyter.widget-view+json": {
       "model_id": "53f206fe759947ed9f62f05ccb992e6b",
       "version_major": 2,
       "version_minor": 0
      },
      "text/plain": [
       "Iteration:   0%|          | 0/448 [00:00<?, ?it/s]"
      ]
     },
     "metadata": {},
     "output_type": "display_data"
    },
    {
     "name": "stdout",
     "output_type": "stream",
     "text": [
      "2023-04-23 03:45:42 - TripletEvaluator: Evaluating the model on dev dataset after epoch 9:\n",
      "[0.2414596280607535, 1.0]\n",
      "[0.41809450741496124, 1.0]\n",
      "mAP strict= 0.6207298140303767 ; mAP relaxed = 0.7090472537074806\n",
      "2023-04-23 03:45:43 - mAP strict:   \t62.07\n",
      "2023-04-23 03:45:43 - mAP relaxed:   \t70.90\n"
     ]
    }
   ],
   "source": [
    "domain = \"Beauty & Spas\"\n",
    "# Train, evaluate on Rev-KP\n",
    "train_model(f'./training_material/siamese-data/in-category/{domain}/',\n",
    "            f'./training_material/siamese-data/in-category/{domain}/',\n",
    "            'dev',\n",
    "            f'./model/ASKPA/in-category/{domain}/',\n",
    "            './model/roberta-large-pretrained-yelp/checkpoint-134060/',\n",
    "            model_suffix='contrastive-10-epochs',\n",
    "            data_file_suffix='contrastive',\n",
    "            num_epochs=10, max_seq_length=128, add_special_token=True, train_batch_size=16, loss='ContrastiveLoss')"
   ]
  },
  {
   "cell_type": "markdown",
   "id": "14170327",
   "metadata": {},
   "source": [
    "## Hotels"
   ]
  },
  {
   "cell_type": "code",
   "execution_count": null,
   "id": "33572688",
   "metadata": {},
   "outputs": [],
   "source": [
    "domain = \"Hotels\"\n",
    "# Train, evaluate on Rev-KP\n",
    "train_model(f'./training_material/siamese-data/in-category/{domain}/',\n",
    "            f'./training_material/siamese-data/in-category/{domain}/',\n",
    "            'dev',\n",
    "            f'./model/ASKPA/in-category/{domain}/',\n",
    "            './model/roberta-large-pretrained-yelp/checkpoint-134060/',\n",
    "            model_suffix='contrastive-10-epochs',\n",
    "            data_file_suffix='contrastive',\n",
    "            num_epochs=10, max_seq_length=128, add_special_token=True, train_batch_size=16, loss='ContrastiveLoss')"
   ]
  },
  {
   "cell_type": "markdown",
   "id": "822eeda5",
   "metadata": {},
   "source": [
    "## Restaurants"
   ]
  },
  {
   "cell_type": "code",
   "execution_count": 68,
   "id": "5e9895bf",
   "metadata": {},
   "outputs": [
    {
     "name": "stderr",
     "output_type": "stream",
     "text": [
      "Some weights of the model checkpoint at ./model/roberta-large-finetuned-yelp/checkpoint-134060/ were not used when initializing RobertaModel: ['lm_head.layer_norm.weight', 'lm_head.layer_norm.bias', 'lm_head.dense.weight', 'lm_head.bias', 'lm_head.dense.bias']\n",
      "- This IS expected if you are initializing RobertaModel from the checkpoint of a model trained on another task or with another architecture (e.g. initializing a BertForSequenceClassification model from a BertForPreTraining model).\n",
      "- This IS NOT expected if you are initializing RobertaModel from the checkpoint of a model that you expect to be exactly identical (initializing a BertForSequenceClassification model from a BertForSequenceClassification model).\n",
      "Some weights of RobertaModel were not initialized from the model checkpoint at ./model/roberta-large-finetuned-yelp/checkpoint-134060/ and are newly initialized: ['roberta.pooler.dense.bias', 'roberta.pooler.dense.weight']\n",
      "You should probably TRAIN this model on a down-stream task to be able to use it for predictions and inference.\n"
     ]
    },
    {
     "name": "stdout",
     "output_type": "stream",
     "text": [
      "2023-05-29 11:43:15 - Use pytorch device: cuda\n",
      "2023-05-29 11:43:15 - Read Triplet train dataset\n"
     ]
    },
    {
     "name": "stderr",
     "output_type": "stream",
     "text": [
      "2023-05-29 11:43:16.606425: I tensorflow/stream_executor/platform/default/dso_loader.cc:53] Successfully opened dynamic library libcudart.so.11.0\n"
     ]
    },
    {
     "data": {
      "application/vnd.jupyter.widget-view+json": {
       "model_id": "ac0b4064f87d46c4a428dcf7df2aafe2",
       "version_major": 2,
       "version_minor": 0
      },
      "text/plain": [
       "Epoch:   0%|          | 0/10 [00:00<?, ?it/s]"
      ]
     },
     "metadata": {},
     "output_type": "display_data"
    },
    {
     "data": {
      "application/vnd.jupyter.widget-view+json": {
       "model_id": "7f530f7eed29424d962156c8aafae61b",
       "version_major": 2,
       "version_minor": 0
      },
      "text/plain": [
       "Iteration:   0%|          | 0/1259 [00:00<?, ?it/s]"
      ]
     },
     "metadata": {},
     "output_type": "display_data"
    },
    {
     "name": "stdout",
     "output_type": "stream",
     "text": [
      "2023-05-29 11:44:33 - TripletEvaluator: Evaluating the model on dev dataset in epoch 0 after 500 steps:\n",
      "[0.513601381174975, 0.7857142857142858]\n",
      "[0.6208452156369029, 0.7857142857142858]\n",
      "mAP strict= 0.6496578334446304 ; mAP relaxed = 0.7032797506755943\n",
      "2023-05-29 11:44:33 - mAP strict:   \t64.97\n",
      "2023-05-29 11:44:33 - mAP relaxed:   \t70.33\n",
      "2023-05-29 11:44:33 - Save model to ./keypoint-analysis-sharedtask/siamese-models/aspect-opinion-6_1/domain/Restaurants/roberta-large-yelp-pretrained-contrastive-10-epochs-2023-05-29_11-43-11\n",
      "2023-05-29 11:45:51 - TripletEvaluator: Evaluating the model on dev dataset in epoch 0 after 1000 steps:\n",
      "[0.6392269289350421, 0.8333333333333333]\n",
      "[0.7558133900673265, 0.8333333333333333]\n",
      "mAP strict= 0.7362801311341877 ; mAP relaxed = 0.7945733617003299\n",
      "2023-05-29 11:45:51 - mAP strict:   \t73.63\n",
      "2023-05-29 11:45:51 - mAP relaxed:   \t79.46\n",
      "2023-05-29 11:45:51 - Save model to ./keypoint-analysis-sharedtask/siamese-models/aspect-opinion-6_1/domain/Restaurants/roberta-large-yelp-pretrained-contrastive-10-epochs-2023-05-29_11-43-11\n",
      "2023-05-29 11:46:32 - TripletEvaluator: Evaluating the model on dev dataset after epoch 0:\n",
      "[0.8333123040019161, 0.5845547309833024]\n",
      "[0.8967904793407337, 0.5845547309833024]\n",
      "mAP strict= 0.7089335174926092 ; mAP relaxed = 0.740672605162018\n",
      "2023-05-29 11:46:33 - mAP strict:   \t70.89\n",
      "2023-05-29 11:46:33 - mAP relaxed:   \t74.07\n"
     ]
    },
    {
     "data": {
      "application/vnd.jupyter.widget-view+json": {
       "model_id": "8d16412fc0dd48a4af2126531f3b9ed6",
       "version_major": 2,
       "version_minor": 0
      },
      "text/plain": [
       "Iteration:   0%|          | 0/1259 [00:00<?, ?it/s]"
      ]
     },
     "metadata": {},
     "output_type": "display_data"
    },
    {
     "name": "stdout",
     "output_type": "stream",
     "text": [
      "2023-05-29 11:47:49 - TripletEvaluator: Evaluating the model on dev dataset in epoch 1 after 500 steps:\n",
      "[0.8681084987111582, 0.8385281385281385]\n",
      "[0.8635787304329676, 0.8385281385281385]\n",
      "mAP strict= 0.8533183186196484 ; mAP relaxed = 0.851053434480553\n",
      "2023-05-29 11:47:49 - mAP strict:   \t85.33\n",
      "2023-05-29 11:47:49 - mAP relaxed:   \t85.11\n",
      "2023-05-29 11:47:49 - Save model to ./keypoint-analysis-sharedtask/siamese-models/aspect-opinion-6_1/domain/Restaurants/roberta-large-yelp-pretrained-contrastive-10-epochs-2023-05-29_11-43-11\n",
      "2023-05-29 11:49:07 - TripletEvaluator: Evaluating the model on dev dataset in epoch 1 after 1000 steps:\n",
      "[0.8599498134221729, 0.8809523809523809]\n",
      "[0.9588501742160277, 0.8809523809523809]\n",
      "mAP strict= 0.870451097187277 ; mAP relaxed = 0.9199012775842044\n",
      "2023-05-29 11:49:08 - mAP strict:   \t87.05\n",
      "2023-05-29 11:49:08 - mAP relaxed:   \t91.99\n",
      "2023-05-29 11:49:08 - Save model to ./keypoint-analysis-sharedtask/siamese-models/aspect-opinion-6_1/domain/Restaurants/roberta-large-yelp-pretrained-contrastive-10-epochs-2023-05-29_11-43-11\n",
      "2023-05-29 11:49:49 - TripletEvaluator: Evaluating the model on dev dataset after epoch 1:\n",
      "[0.9080762246009922, 0.6024737167594311]\n",
      "[0.9656954887218043, 0.6024737167594311]\n",
      "mAP strict= 0.7552749706802117 ; mAP relaxed = 0.7840846027406176\n",
      "2023-05-29 11:49:49 - mAP strict:   \t75.53\n",
      "2023-05-29 11:49:49 - mAP relaxed:   \t78.41\n"
     ]
    },
    {
     "data": {
      "application/vnd.jupyter.widget-view+json": {
       "model_id": "d5a3a1e1d3714ccf846739b06ce094d7",
       "version_major": 2,
       "version_minor": 0
      },
      "text/plain": [
       "Iteration:   0%|          | 0/1259 [00:00<?, ?it/s]"
      ]
     },
     "metadata": {},
     "output_type": "display_data"
    },
    {
     "name": "stdout",
     "output_type": "stream",
     "text": [
      "2023-05-29 11:51:05 - TripletEvaluator: Evaluating the model on dev dataset in epoch 2 after 500 steps:\n",
      "[0.824784505233492, 0.5400492364778079]\n",
      "[0.9453103047031544, 0.5400492364778079]\n",
      "mAP strict= 0.68241687085565 ; mAP relaxed = 0.7426797705904811\n",
      "2023-05-29 11:51:05 - mAP strict:   \t68.24\n",
      "2023-05-29 11:51:05 - mAP relaxed:   \t74.27\n",
      "2023-05-29 11:52:20 - TripletEvaluator: Evaluating the model on dev dataset in epoch 2 after 1000 steps:\n",
      "[0.6992492859067645, 0.4661306947021233]\n",
      "[0.7211791926060919, 0.4661306947021233]\n",
      "mAP strict= 0.5826899903044439 ; mAP relaxed = 0.5936549436541076\n",
      "2023-05-29 11:52:20 - mAP strict:   \t58.27\n",
      "2023-05-29 11:52:20 - mAP relaxed:   \t59.37\n",
      "2023-05-29 11:52:59 - TripletEvaluator: Evaluating the model on dev dataset after epoch 2:\n",
      "[0.8265875591687442, 0.848051948051948]\n",
      "[0.8337059701375953, 0.848051948051948]\n",
      "mAP strict= 0.837319753610346 ; mAP relaxed = 0.8408789590947716\n",
      "2023-05-29 11:52:59 - mAP strict:   \t83.73\n",
      "2023-05-29 11:52:59 - mAP relaxed:   \t84.09\n"
     ]
    },
    {
     "data": {
      "application/vnd.jupyter.widget-view+json": {
       "model_id": "f338bdf35b894c1d9905d595a1a4316d",
       "version_major": 2,
       "version_minor": 0
      },
      "text/plain": [
       "Iteration:   0%|          | 0/1259 [00:00<?, ?it/s]"
      ]
     },
     "metadata": {},
     "output_type": "display_data"
    },
    {
     "name": "stdout",
     "output_type": "stream",
     "text": [
      "2023-05-29 11:54:13 - TripletEvaluator: Evaluating the model on dev dataset in epoch 3 after 500 steps:\n",
      "[0.8212712052777478, 0.6185374149659864]\n",
      "[0.865765654911637, 0.6185374149659864]\n",
      "mAP strict= 0.7199043101218671 ; mAP relaxed = 0.7421515349388117\n",
      "2023-05-29 11:54:13 - mAP strict:   \t71.99\n",
      "2023-05-29 11:54:13 - mAP relaxed:   \t74.22\n",
      "2023-05-29 11:55:29 - TripletEvaluator: Evaluating the model on dev dataset in epoch 3 after 1000 steps:\n",
      "[0.631804812192343, 0.7254329004329005]\n",
      "[0.7357514093411661, 0.7254329004329005]\n",
      "mAP strict= 0.6786188563126218 ; mAP relaxed = 0.7305921548870333\n",
      "2023-05-29 11:55:29 - mAP strict:   \t67.86\n",
      "2023-05-29 11:55:29 - mAP relaxed:   \t73.06\n",
      "2023-05-29 11:56:08 - TripletEvaluator: Evaluating the model on dev dataset after epoch 3:\n",
      "[0.6189957307557792, 0.6014739229024944]\n",
      "[0.6200572446829471, 0.6014739229024944]\n",
      "mAP strict= 0.6102348268291368 ; mAP relaxed = 0.6107655837927207\n",
      "2023-05-29 11:56:08 - mAP strict:   \t61.02\n",
      "2023-05-29 11:56:08 - mAP relaxed:   \t61.08\n"
     ]
    },
    {
     "data": {
      "application/vnd.jupyter.widget-view+json": {
       "model_id": "39ffc4eb502e4754b299670de41c00aa",
       "version_major": 2,
       "version_minor": 0
      },
      "text/plain": [
       "Iteration:   0%|          | 0/1259 [00:00<?, ?it/s]"
      ]
     },
     "metadata": {},
     "output_type": "display_data"
    },
    {
     "name": "stdout",
     "output_type": "stream",
     "text": [
      "2023-05-29 11:57:23 - TripletEvaluator: Evaluating the model on dev dataset in epoch 4 after 500 steps:\n",
      "[0.6547480451784161, 0.8801587301587301]\n",
      "[0.6925018061385748, 0.8801587301587301]\n",
      "mAP strict= 0.7674533876685732 ; mAP relaxed = 0.7863302681486525\n",
      "2023-05-29 11:57:23 - mAP strict:   \t76.75\n",
      "2023-05-29 11:57:23 - mAP relaxed:   \t78.63\n",
      "2023-05-29 11:58:38 - TripletEvaluator: Evaluating the model on dev dataset in epoch 4 after 1000 steps:\n",
      "[0.37777820559844444, 0.9095238095238096]\n",
      "[0.3931400128278123, 0.9095238095238096]\n",
      "mAP strict= 0.643651007561127 ; mAP relaxed = 0.6513319111758109\n",
      "2023-05-29 11:58:38 - mAP strict:   \t64.37\n",
      "2023-05-29 11:58:38 - mAP relaxed:   \t65.13\n",
      "2023-05-29 11:59:17 - TripletEvaluator: Evaluating the model on dev dataset after epoch 4:\n",
      "[0.6134045769222973, 0.9087301587301586]\n",
      "[0.6263650544357449, 0.9087301587301586]\n",
      "mAP strict= 0.761067367826228 ; mAP relaxed = 0.7675476065829517\n",
      "2023-05-29 11:59:17 - mAP strict:   \t76.11\n",
      "2023-05-29 11:59:17 - mAP relaxed:   \t76.75\n"
     ]
    },
    {
     "data": {
      "application/vnd.jupyter.widget-view+json": {
       "model_id": "50d9226b4efd4f78a755deaf183c3077",
       "version_major": 2,
       "version_minor": 0
      },
      "text/plain": [
       "Iteration:   0%|          | 0/1259 [00:00<?, ?it/s]"
      ]
     },
     "metadata": {},
     "output_type": "display_data"
    },
    {
     "name": "stdout",
     "output_type": "stream",
     "text": [
      "2023-05-29 12:00:31 - TripletEvaluator: Evaluating the model on dev dataset in epoch 5 after 500 steps:\n",
      "[0.6415771342338152, 0.7857142857142858]\n",
      "[0.675215789726009, 0.7857142857142858]\n",
      "mAP strict= 0.7136457099740505 ; mAP relaxed = 0.7304650377201474\n",
      "2023-05-29 12:00:31 - mAP strict:   \t71.36\n",
      "2023-05-29 12:00:31 - mAP relaxed:   \t73.05\n",
      "2023-05-29 12:01:45 - TripletEvaluator: Evaluating the model on dev dataset in epoch 5 after 1000 steps:\n",
      "[0.7888886582945271, 0.7545918367346939]\n",
      "[0.7888886582945271, 0.7545918367346939]\n",
      "mAP strict= 0.7717402475146105 ; mAP relaxed = 0.7717402475146105\n",
      "2023-05-29 12:01:45 - mAP strict:   \t77.17\n",
      "2023-05-29 12:01:45 - mAP relaxed:   \t77.17\n",
      "2023-05-29 12:02:24 - TripletEvaluator: Evaluating the model on dev dataset after epoch 5:\n",
      "[0.8182939138398442, 0.8210884353741497]\n",
      "[0.8411709922015205, 0.8210884353741497]\n",
      "mAP strict= 0.8196911746069969 ; mAP relaxed = 0.8311297137878351\n",
      "2023-05-29 12:02:24 - mAP strict:   \t81.97\n",
      "2023-05-29 12:02:24 - mAP relaxed:   \t83.11\n"
     ]
    },
    {
     "data": {
      "application/vnd.jupyter.widget-view+json": {
       "model_id": "37cc27d1835d45908e73184fe0638690",
       "version_major": 2,
       "version_minor": 0
      },
      "text/plain": [
       "Iteration:   0%|          | 0/1259 [00:00<?, ?it/s]"
      ]
     },
     "metadata": {},
     "output_type": "display_data"
    },
    {
     "name": "stdout",
     "output_type": "stream",
     "text": [
      "2023-05-29 12:03:38 - TripletEvaluator: Evaluating the model on dev dataset in epoch 6 after 500 steps:\n",
      "[0.6137394173315939, 0.8010204081632653]\n",
      "[0.6508643919696087, 0.8010204081632653]\n",
      "mAP strict= 0.7073799127474296 ; mAP relaxed = 0.725942400066437\n",
      "2023-05-29 12:03:38 - mAP strict:   \t70.74\n",
      "2023-05-29 12:03:38 - mAP relaxed:   \t72.59\n",
      "2023-05-29 12:04:52 - TripletEvaluator: Evaluating the model on dev dataset in epoch 6 after 1000 steps:\n",
      "[0.5960242605730556, 0.7687074829931972]\n",
      "[0.6326487332454902, 0.7687074829931972]\n",
      "mAP strict= 0.6823658717831265 ; mAP relaxed = 0.7006781081193437\n",
      "2023-05-29 12:04:52 - mAP strict:   \t68.24\n",
      "2023-05-29 12:04:52 - mAP relaxed:   \t70.07\n",
      "2023-05-29 12:05:30 - TripletEvaluator: Evaluating the model on dev dataset after epoch 6:\n",
      "[0.5870499015986966, 0.6239022881880024]\n",
      "[0.6009010949189046, 0.6239022881880024]\n",
      "mAP strict= 0.6054760948933495 ; mAP relaxed = 0.6124016915534536\n",
      "2023-05-29 12:05:30 - mAP strict:   \t60.55\n",
      "2023-05-29 12:05:30 - mAP relaxed:   \t61.24\n"
     ]
    },
    {
     "data": {
      "application/vnd.jupyter.widget-view+json": {
       "model_id": "508d22ed0d2b481c93246ae4c9e72f5f",
       "version_major": 2,
       "version_minor": 0
      },
      "text/plain": [
       "Iteration:   0%|          | 0/1259 [00:00<?, ?it/s]"
      ]
     },
     "metadata": {},
     "output_type": "display_data"
    },
    {
     "name": "stdout",
     "output_type": "stream",
     "text": [
      "2023-05-29 12:06:44 - TripletEvaluator: Evaluating the model on dev dataset in epoch 7 after 500 steps:\n",
      "[0.5941675713141127, 0.633256029684601]\n",
      "[0.6212085492406552, 0.633256029684601]\n",
      "mAP strict= 0.6137118004993569 ; mAP relaxed = 0.6272322894626281\n",
      "2023-05-29 12:06:44 - mAP strict:   \t61.37\n",
      "2023-05-29 12:06:44 - mAP relaxed:   \t62.72\n",
      "2023-05-29 12:07:59 - TripletEvaluator: Evaluating the model on dev dataset in epoch 7 after 1000 steps:\n",
      "[0.5962202574097305, 0.7766233766233765]\n",
      "[0.6195318463786184, 0.7766233766233765]\n",
      "mAP strict= 0.6864218170165535 ; mAP relaxed = 0.6980776115009975\n",
      "2023-05-29 12:07:59 - mAP strict:   \t68.64\n",
      "2023-05-29 12:07:59 - mAP relaxed:   \t69.81\n",
      "2023-05-29 12:08:38 - TripletEvaluator: Evaluating the model on dev dataset after epoch 7:\n",
      "[0.5849131494619445, 0.7953308596165738]\n",
      "[0.5971224174560166, 0.7953308596165738]\n",
      "mAP strict= 0.6901220045392591 ; mAP relaxed = 0.6962266385362952\n",
      "2023-05-29 12:08:38 - mAP strict:   \t69.01\n",
      "2023-05-29 12:08:38 - mAP relaxed:   \t69.62\n"
     ]
    },
    {
     "data": {
      "application/vnd.jupyter.widget-view+json": {
       "model_id": "8bd407cc4898413db7833ae7a629e8b1",
       "version_major": 2,
       "version_minor": 0
      },
      "text/plain": [
       "Iteration:   0%|          | 0/1259 [00:00<?, ?it/s]"
      ]
     },
     "metadata": {},
     "output_type": "display_data"
    },
    {
     "name": "stdout",
     "output_type": "stream",
     "text": [
      "2023-05-29 12:09:52 - TripletEvaluator: Evaluating the model on dev dataset in epoch 8 after 500 steps:\n",
      "[0.6335321510943754, 0.7766233766233765]\n",
      "[0.6772080458670456, 0.7766233766233765]\n",
      "mAP strict= 0.705077763858876 ; mAP relaxed = 0.7269157112452111\n",
      "2023-05-29 12:09:52 - mAP strict:   \t70.51\n",
      "2023-05-29 12:09:52 - mAP relaxed:   \t72.69\n",
      "2023-05-29 12:11:06 - TripletEvaluator: Evaluating the model on dev dataset in epoch 8 after 1000 steps:\n",
      "[0.6453781172806963, 0.7919294990723562]\n",
      "[0.6969613187364931, 0.7919294990723562]\n",
      "mAP strict= 0.7186538081765262 ; mAP relaxed = 0.7444454089044247\n",
      "2023-05-29 12:11:06 - mAP strict:   \t71.87\n",
      "2023-05-29 12:11:06 - mAP relaxed:   \t74.44\n",
      "2023-05-29 12:11:44 - TripletEvaluator: Evaluating the model on dev dataset after epoch 8:\n",
      "[0.6481524241869031, 0.8395485466914039]\n",
      "[0.6929041096310058, 0.8395485466914039]\n",
      "mAP strict= 0.7438504854391534 ; mAP relaxed = 0.7662263281612048\n",
      "2023-05-29 12:11:44 - mAP strict:   \t74.39\n",
      "2023-05-29 12:11:44 - mAP relaxed:   \t76.62\n"
     ]
    },
    {
     "data": {
      "application/vnd.jupyter.widget-view+json": {
       "model_id": "0f27c60bacc7411f9d75553e46b4908b",
       "version_major": 2,
       "version_minor": 0
      },
      "text/plain": [
       "Iteration:   0%|          | 0/1259 [00:00<?, ?it/s]"
      ]
     },
     "metadata": {},
     "output_type": "display_data"
    },
    {
     "name": "stdout",
     "output_type": "stream",
     "text": [
      "2023-05-29 12:13:00 - TripletEvaluator: Evaluating the model on dev dataset in epoch 9 after 500 steps:\n",
      "[0.6213667918538759, 0.7919294990723562]\n",
      "[0.6715261279361303, 0.7919294990723562]\n",
      "mAP strict= 0.706648145463116 ; mAP relaxed = 0.7317278135042433\n",
      "2023-05-29 12:13:00 - mAP strict:   \t70.66\n",
      "2023-05-29 12:13:00 - mAP relaxed:   \t73.17\n",
      "2023-05-29 12:14:16 - TripletEvaluator: Evaluating the model on dev dataset in epoch 9 after 1000 steps:\n",
      "[0.6223117205633739, 0.7919294990723562]\n",
      "[0.6653614787484331, 0.7919294990723562]\n",
      "mAP strict= 0.7071206098178651 ; mAP relaxed = 0.7286454889103946\n",
      "2023-05-29 12:14:16 - mAP strict:   \t70.71\n",
      "2023-05-29 12:14:16 - mAP relaxed:   \t72.86\n",
      "2023-05-29 12:14:55 - TripletEvaluator: Evaluating the model on dev dataset after epoch 9:\n",
      "[0.6246628346971279, 0.7919294990723562]\n",
      "[0.6678042161827493, 0.7919294990723562]\n",
      "mAP strict= 0.7082961668847421 ; mAP relaxed = 0.7298668576275528\n",
      "2023-05-29 12:14:55 - mAP strict:   \t70.83\n",
      "2023-05-29 12:14:55 - mAP relaxed:   \t72.99\n"
     ]
    }
   ],
   "source": [
    "domain = \"Restaurants\"\n",
    "# Train, evaluate on Rev-KP\n",
    "train_model(f'./training_material/siamese-data/in-category/{domain}/',\n",
    "            f'./training_material/siamese-data/in-category/{domain}/',\n",
    "            'dev',\n",
    "            f'./model/ASKPA/in-category/{domain}/',\n",
    "            './model/roberta-large-pretrained-yelp/checkpoint-134060/',\n",
    "            model_suffix='contrastive-10-epochs',\n",
    "            data_file_suffix='contrastive',\n",
    "            num_epochs=10, max_seq_length=128, add_special_token=True, train_batch_size=16, loss='ContrastiveLoss')"
   ]
  },
  {
   "cell_type": "markdown",
   "id": "8261f70a",
   "metadata": {},
   "source": [
    "# Out-of-category Training"
   ]
  },
  {
   "cell_type": "code",
   "execution_count": 4,
   "id": "9006c258",
   "metadata": {},
   "outputs": [],
   "source": [
    "for domain in rev_kp_dataset_df['domain'].unique():\n",
    "    model_out_dir = f\"./model/ASKPA/out-of-category/{domain}/\"\n",
    "    if not os.path.exists(model_out_dir):\n",
    "        os.mkdir(model_out_dir)"
   ]
  },
  {
   "cell_type": "markdown",
   "id": "2b1f18b2",
   "metadata": {},
   "source": [
    "## Arts & Entertainment"
   ]
  },
  {
   "cell_type": "code",
   "execution_count": 69,
   "id": "87402ec7",
   "metadata": {},
   "outputs": [
    {
     "name": "stderr",
     "output_type": "stream",
     "text": [
      "Some weights of the model checkpoint at ./model/roberta-large-finetuned-yelp/checkpoint-134060/ were not used when initializing RobertaModel: ['lm_head.layer_norm.weight', 'lm_head.layer_norm.bias', 'lm_head.dense.bias', 'lm_head.bias', 'lm_head.dense.weight']\n",
      "- This IS expected if you are initializing RobertaModel from the checkpoint of a model trained on another task or with another architecture (e.g. initializing a BertForSequenceClassification model from a BertForPreTraining model).\n",
      "- This IS NOT expected if you are initializing RobertaModel from the checkpoint of a model that you expect to be exactly identical (initializing a BertForSequenceClassification model from a BertForSequenceClassification model).\n",
      "Some weights of RobertaModel were not initialized from the model checkpoint at ./model/roberta-large-finetuned-yelp/checkpoint-134060/ and are newly initialized: ['roberta.pooler.dense.weight', 'roberta.pooler.dense.bias']\n",
      "You should probably TRAIN this model on a down-stream task to be able to use it for predictions and inference.\n"
     ]
    },
    {
     "name": "stdout",
     "output_type": "stream",
     "text": [
      "2023-05-01 23:46:28 - Use pytorch device: cuda\n",
      "2023-05-01 23:46:28 - Read Triplet train dataset\n"
     ]
    },
    {
     "data": {
      "application/vnd.jupyter.widget-view+json": {
       "model_id": "9b7b037e8da84856925acb2c0473c79c",
       "version_major": 2,
       "version_minor": 0
      },
      "text/plain": [
       "Epoch:   0%|          | 0/10 [00:00<?, ?it/s]"
      ]
     },
     "metadata": {},
     "output_type": "display_data"
    },
    {
     "data": {
      "application/vnd.jupyter.widget-view+json": {
       "model_id": "be911001bfac4cb78006bb29da8f0bf3",
       "version_major": 2,
       "version_minor": 0
      },
      "text/plain": [
       "Iteration:   0%|          | 0/3110 [00:00<?, ?it/s]"
      ]
     },
     "metadata": {},
     "output_type": "display_data"
    },
    {
     "name": "stdout",
     "output_type": "stream",
     "text": [
      "2023-05-01 23:47:44 - TripletEvaluator: Evaluating the model on dev dataset in epoch 0 after 500 steps:\n",
      "[0.46923817766799863, 0.5340747467450009]\n",
      "[0.5249046911105351, 0.5223938558111978]\n",
      "mAP strict= 0.5016564622064997 ; mAP relaxed = 0.5236492734608664\n",
      "2023-05-01 23:47:44 - mAP strict:   \t50.17\n",
      "2023-05-01 23:47:44 - mAP relaxed:   \t52.36\n",
      "2023-05-01 23:47:45 - Save model to ./keypoint-analysis-sharedtask/siamese-models/aspect-opinion-6_1/domain/new/leave_one_out/Arts & Entertainment/roberta-large-yelp-pretrained-contrastive-10-epochs-2023-05-01_23-46-24\n",
      "2023-05-01 23:49:01 - TripletEvaluator: Evaluating the model on dev dataset in epoch 0 after 1000 steps:\n",
      "[0.6153073675666715, 0.6586194003632024]\n",
      "[0.7266257724628359, 0.7423442926814952]\n",
      "mAP strict= 0.6369633839649369 ; mAP relaxed = 0.7344850325721655\n",
      "2023-05-01 23:49:01 - mAP strict:   \t63.70\n",
      "2023-05-01 23:49:01 - mAP relaxed:   \t73.45\n",
      "2023-05-01 23:49:01 - Save model to ./keypoint-analysis-sharedtask/siamese-models/aspect-opinion-6_1/domain/new/leave_one_out/Arts & Entertainment/roberta-large-yelp-pretrained-contrastive-10-epochs-2023-05-01_23-46-24\n",
      "2023-05-01 23:50:19 - TripletEvaluator: Evaluating the model on dev dataset in epoch 0 after 1500 steps:\n",
      "[0.5037116288124818, 0.6702080398417234]\n",
      "[0.617918490143093, 0.8524329856135937]\n",
      "mAP strict= 0.5869598343271025 ; mAP relaxed = 0.7351757378783433\n",
      "2023-05-01 23:50:19 - mAP strict:   \t58.70\n",
      "2023-05-01 23:50:19 - mAP relaxed:   \t73.52\n",
      "2023-05-01 23:51:34 - TripletEvaluator: Evaluating the model on dev dataset in epoch 0 after 2000 steps:\n",
      "[0.7184780436325118, 0.7732579608012133]\n",
      "[0.7506543756038718, 0.8482020088941378]\n",
      "mAP strict= 0.7458680022168626 ; mAP relaxed = 0.7994281922490047\n",
      "2023-05-01 23:51:34 - mAP strict:   \t74.59\n",
      "2023-05-01 23:51:34 - mAP relaxed:   \t79.94\n",
      "2023-05-01 23:51:34 - Save model to ./keypoint-analysis-sharedtask/siamese-models/aspect-opinion-6_1/domain/new/leave_one_out/Arts & Entertainment/roberta-large-yelp-pretrained-contrastive-10-epochs-2023-05-01_23-46-24\n",
      "2023-05-01 23:52:52 - TripletEvaluator: Evaluating the model on dev dataset in epoch 0 after 2500 steps:\n",
      "[0.8680157242629603, 0.771763381151263]\n",
      "[0.918584639748093, 0.8079874887388792]\n",
      "mAP strict= 0.8198895527071116 ; mAP relaxed = 0.8632860642434861\n",
      "2023-05-01 23:52:52 - mAP strict:   \t81.99\n",
      "2023-05-01 23:52:52 - mAP relaxed:   \t86.33\n",
      "2023-05-01 23:52:52 - Save model to ./keypoint-analysis-sharedtask/siamese-models/aspect-opinion-6_1/domain/new/leave_one_out/Arts & Entertainment/roberta-large-yelp-pretrained-contrastive-10-epochs-2023-05-01_23-46-24\n",
      "2023-05-01 23:54:09 - TripletEvaluator: Evaluating the model on dev dataset in epoch 0 after 3000 steps:\n",
      "[0.6794786865022457, 0.5793793778598667]\n",
      "[0.7991391801524672, 0.8214130264372951]\n",
      "mAP strict= 0.6294290321810563 ; mAP relaxed = 0.8102761032948811\n",
      "2023-05-01 23:54:09 - mAP strict:   \t62.94\n",
      "2023-05-01 23:54:09 - mAP relaxed:   \t81.03\n",
      "2023-05-01 23:54:25 - TripletEvaluator: Evaluating the model on dev dataset after epoch 0:\n",
      "[0.7077686294202647, 0.7416029026034247]\n",
      "[0.753898523116554, 0.7759097641018098]\n",
      "mAP strict= 0.7246857660118446 ; mAP relaxed = 0.7649041436091819\n",
      "2023-05-01 23:54:26 - mAP strict:   \t72.47\n",
      "2023-05-01 23:54:26 - mAP relaxed:   \t76.49\n"
     ]
    },
    {
     "data": {
      "application/vnd.jupyter.widget-view+json": {
       "model_id": "061570597d85441582bff5210eedc5a7",
       "version_major": 2,
       "version_minor": 0
      },
      "text/plain": [
       "Iteration:   0%|          | 0/3110 [00:00<?, ?it/s]"
      ]
     },
     "metadata": {},
     "output_type": "display_data"
    },
    {
     "name": "stdout",
     "output_type": "stream",
     "text": [
      "2023-05-01 23:55:39 - TripletEvaluator: Evaluating the model on dev dataset in epoch 1 after 500 steps:\n",
      "[0.24406830914183852, 0.5899081854964208]\n",
      "[0.24406830914183852, 0.7404892867265758]\n",
      "mAP strict= 0.41698824731912965 ; mAP relaxed = 0.49227879793420715\n",
      "2023-05-01 23:55:40 - mAP strict:   \t41.70\n",
      "2023-05-01 23:55:40 - mAP relaxed:   \t49.23\n",
      "2023-05-01 23:56:54 - TripletEvaluator: Evaluating the model on dev dataset in epoch 1 after 1000 steps:\n",
      "[0.9585757291422317, 0.5431592258601188]\n",
      "[0.9654237474564151, 0.7297082009810625]\n",
      "mAP strict= 0.7508674775011752 ; mAP relaxed = 0.8475659742187388\n",
      "2023-05-01 23:56:54 - mAP strict:   \t75.09\n",
      "2023-05-01 23:56:54 - mAP relaxed:   \t84.76\n",
      "2023-05-01 23:58:08 - TripletEvaluator: Evaluating the model on dev dataset in epoch 1 after 1500 steps:\n",
      "[0.9354557585517336, 0.633123840034972]\n",
      "[0.9657425842131726, 0.8060859113837819]\n",
      "mAP strict= 0.7842897992933529 ; mAP relaxed = 0.8859142477984773\n",
      "2023-05-01 23:58:09 - mAP strict:   \t78.43\n",
      "2023-05-01 23:58:09 - mAP relaxed:   \t88.59\n",
      "2023-05-01 23:59:23 - TripletEvaluator: Evaluating the model on dev dataset in epoch 1 after 2000 steps:\n",
      "[0.9529135338345862, 0.8437551053434644]\n",
      "[0.9404017857142859, 0.8649765241263759]\n",
      "mAP strict= 0.8983343195890253 ; mAP relaxed = 0.9026891549203309\n",
      "2023-05-01 23:59:23 - mAP strict:   \t89.83\n",
      "2023-05-01 23:59:23 - mAP relaxed:   \t90.27\n",
      "2023-05-01 23:59:23 - Save model to ./keypoint-analysis-sharedtask/siamese-models/aspect-opinion-6_1/domain/new/leave_one_out/Arts & Entertainment/roberta-large-yelp-pretrained-contrastive-10-epochs-2023-05-01_23-46-24\n",
      "2023-05-02 00:00:39 - TripletEvaluator: Evaluating the model on dev dataset in epoch 1 after 2500 steps:\n",
      "[0.9284799597817002, 0.9128977640007052]\n",
      "[0.9273616146148629, 0.792621816006304]\n",
      "mAP strict= 0.9206888618912027 ; mAP relaxed = 0.8599917153105834\n",
      "2023-05-02 00:00:39 - mAP strict:   \t92.07\n",
      "2023-05-02 00:00:39 - mAP relaxed:   \t86.00\n",
      "2023-05-02 00:01:53 - TripletEvaluator: Evaluating the model on dev dataset in epoch 1 after 3000 steps:\n",
      "[0.9871378539979021, 0.8841513416960987]\n",
      "[0.9928160919540229, 0.9168327649169494]\n",
      "mAP strict= 0.9356445978470004 ; mAP relaxed = 0.9548244284354861\n",
      "2023-05-02 00:01:53 - mAP strict:   \t93.56\n",
      "2023-05-02 00:01:53 - mAP relaxed:   \t95.48\n",
      "2023-05-02 00:01:53 - Save model to ./keypoint-analysis-sharedtask/siamese-models/aspect-opinion-6_1/domain/new/leave_one_out/Arts & Entertainment/roberta-large-yelp-pretrained-contrastive-10-epochs-2023-05-01_23-46-24\n",
      "2023-05-02 00:02:12 - TripletEvaluator: Evaluating the model on dev dataset after epoch 1:\n",
      "[0.9658366711272237, 0.7749941563854102]\n",
      "[0.9804032210085432, 0.856499912336352]\n",
      "mAP strict= 0.8704154137563169 ; mAP relaxed = 0.9184515666724475\n",
      "2023-05-02 00:02:12 - mAP strict:   \t87.04\n",
      "2023-05-02 00:02:12 - mAP relaxed:   \t91.85\n"
     ]
    },
    {
     "data": {
      "application/vnd.jupyter.widget-view+json": {
       "model_id": "ae2c72720b3246b38fcaa35618721ef7",
       "version_major": 2,
       "version_minor": 0
      },
      "text/plain": [
       "Iteration:   0%|          | 0/3110 [00:00<?, ?it/s]"
      ]
     },
     "metadata": {},
     "output_type": "display_data"
    },
    {
     "name": "stdout",
     "output_type": "stream",
     "text": [
      "2023-05-02 00:03:27 - TripletEvaluator: Evaluating the model on dev dataset in epoch 2 after 500 steps:\n",
      "[0.9869950615292231, 0.7665433127817028]\n",
      "[0.9937930975480382, 0.9057491335777276]\n",
      "mAP strict= 0.876769187155463 ; mAP relaxed = 0.949771115562883\n",
      "2023-05-02 00:03:27 - mAP strict:   \t87.68\n",
      "2023-05-02 00:03:27 - mAP relaxed:   \t94.98\n",
      "2023-05-02 00:04:41 - TripletEvaluator: Evaluating the model on dev dataset in epoch 2 after 1000 steps:\n",
      "[0.9862318840579709, 0.8553788486246144]\n",
      "[0.983386752136752, 0.8170202536455278]\n",
      "mAP strict= 0.9208053663412927 ; mAP relaxed = 0.9002035028911399\n",
      "2023-05-02 00:04:41 - mAP strict:   \t92.08\n",
      "2023-05-02 00:04:41 - mAP relaxed:   \t90.02\n",
      "2023-05-02 00:05:54 - TripletEvaluator: Evaluating the model on dev dataset in epoch 2 after 1500 steps:\n",
      "[0.8431512087346167, 0.5563309398191242]\n",
      "[0.8435836741068538, 0.6595743117337125]\n",
      "mAP strict= 0.6997410742768704 ; mAP relaxed = 0.7515789929202832\n",
      "2023-05-02 00:05:55 - mAP strict:   \t69.97\n",
      "2023-05-02 00:05:55 - mAP relaxed:   \t75.16\n",
      "2023-05-02 00:07:07 - TripletEvaluator: Evaluating the model on dev dataset in epoch 2 after 2000 steps:\n",
      "[0.9806052180602318, 0.5058724630814183]\n",
      "[0.9928160919540229, 0.7790864612184898]\n",
      "mAP strict= 0.743238840570825 ; mAP relaxed = 0.8859512765862563\n",
      "2023-05-02 00:07:08 - mAP strict:   \t74.32\n",
      "2023-05-02 00:07:08 - mAP relaxed:   \t88.60\n",
      "2023-05-02 00:08:20 - TripletEvaluator: Evaluating the model on dev dataset in epoch 2 after 2500 steps:\n",
      "[0.9372307012601784, 0.7203065857753357]\n",
      "[0.9492591262517915, 0.839961015201883]\n",
      "mAP strict= 0.828768643517757 ; mAP relaxed = 0.8946100707268373\n",
      "2023-05-02 00:08:21 - mAP strict:   \t82.88\n",
      "2023-05-02 00:08:21 - mAP relaxed:   \t89.46\n",
      "2023-05-02 00:09:34 - TripletEvaluator: Evaluating the model on dev dataset in epoch 2 after 3000 steps:\n",
      "[0.9766766503817542, 0.7866416891716815]\n",
      "[0.9866312458517834, 0.880935861506586]\n",
      "mAP strict= 0.8816591697767179 ; mAP relaxed = 0.9337835536791848\n",
      "2023-05-02 00:09:34 - mAP strict:   \t88.17\n",
      "2023-05-02 00:09:34 - mAP relaxed:   \t93.38\n",
      "2023-05-02 00:09:50 - TripletEvaluator: Evaluating the model on dev dataset after epoch 2:\n",
      "[0.9064850710856522, 0.860107151835093]\n",
      "[0.9173906314824927, 0.8590259840235873]\n",
      "mAP strict= 0.8832961114603726 ; mAP relaxed = 0.88820830775304\n",
      "2023-05-02 00:09:50 - mAP strict:   \t88.33\n",
      "2023-05-02 00:09:50 - mAP relaxed:   \t88.82\n"
     ]
    },
    {
     "data": {
      "application/vnd.jupyter.widget-view+json": {
       "model_id": "30c8a4ffd55e42d7a770d19a429705ad",
       "version_major": 2,
       "version_minor": 0
      },
      "text/plain": [
       "Iteration:   0%|          | 0/3110 [00:00<?, ?it/s]"
      ]
     },
     "metadata": {},
     "output_type": "display_data"
    },
    {
     "name": "stdout",
     "output_type": "stream",
     "text": [
      "2023-05-02 00:11:05 - TripletEvaluator: Evaluating the model on dev dataset in epoch 3 after 500 steps:\n",
      "[0.9399201684910012, 0.8160643866797117]\n",
      "[0.9512828272496884, 0.9177456209619191]\n",
      "mAP strict= 0.8779922775853565 ; mAP relaxed = 0.9345142241058038\n",
      "2023-05-02 00:11:05 - mAP strict:   \t87.80\n",
      "2023-05-02 00:11:05 - mAP relaxed:   \t93.45\n",
      "2023-05-02 00:12:19 - TripletEvaluator: Evaluating the model on dev dataset in epoch 3 after 1000 steps:\n",
      "[0.8907304039094042, 0.7463781469755735]\n",
      "[0.8821880656512742, 0.8537223201359664]\n",
      "mAP strict= 0.8185542754424888 ; mAP relaxed = 0.8679551928936202\n",
      "2023-05-02 00:12:19 - mAP strict:   \t81.86\n",
      "2023-05-02 00:12:19 - mAP relaxed:   \t86.80\n",
      "2023-05-02 00:13:32 - TripletEvaluator: Evaluating the model on dev dataset in epoch 3 after 1500 steps:\n",
      "[0.9461211045217953, 0.43717113403989]\n",
      "[0.9505321138548274, 0.7891993434557932]\n",
      "mAP strict= 0.6916461192808426 ; mAP relaxed = 0.8698657286553103\n",
      "2023-05-02 00:13:32 - mAP strict:   \t69.16\n",
      "2023-05-02 00:13:32 - mAP relaxed:   \t86.99\n",
      "2023-05-02 00:14:45 - TripletEvaluator: Evaluating the model on dev dataset in epoch 3 after 2000 steps:\n",
      "[0.9905847020024713, 0.8318249016054867]\n",
      "[0.9983333333333332, 0.9525827303103911]\n",
      "mAP strict= 0.911204801803979 ; mAP relaxed = 0.9754580318218622\n",
      "2023-05-02 00:14:45 - mAP strict:   \t91.12\n",
      "2023-05-02 00:14:45 - mAP relaxed:   \t97.55\n",
      "2023-05-02 00:15:58 - TripletEvaluator: Evaluating the model on dev dataset in epoch 3 after 2500 steps:\n",
      "[0.9445870050278812, 0.6429586963826182]\n",
      "[0.9905913978494623, 0.8638160573201601]\n",
      "mAP strict= 0.7937728507052497 ; mAP relaxed = 0.9272037275848112\n",
      "2023-05-02 00:15:59 - mAP strict:   \t79.38\n",
      "2023-05-02 00:15:59 - mAP relaxed:   \t92.72\n",
      "2023-05-02 00:17:12 - TripletEvaluator: Evaluating the model on dev dataset in epoch 3 after 3000 steps:\n",
      "[0.9828511686635255, 0.6778634648041639]\n",
      "[0.9950587606837606, 0.8887943718988571]\n",
      "mAP strict= 0.8303573167338447 ; mAP relaxed = 0.9419265662913089\n",
      "2023-05-02 00:17:13 - mAP strict:   \t83.04\n",
      "2023-05-02 00:17:13 - mAP relaxed:   \t94.19\n",
      "2023-05-02 00:17:29 - TripletEvaluator: Evaluating the model on dev dataset after epoch 3:\n",
      "[0.9781864927823479, 0.673492098059572]\n",
      "[0.9953703703703702, 0.8899954614232299]\n",
      "mAP strict= 0.8258392954209599 ; mAP relaxed = 0.9426829158968001\n",
      "2023-05-02 00:17:29 - mAP strict:   \t82.58\n",
      "2023-05-02 00:17:29 - mAP relaxed:   \t94.27\n"
     ]
    },
    {
     "data": {
      "application/vnd.jupyter.widget-view+json": {
       "model_id": "7d5bca0683f447de93d3280332c212eb",
       "version_major": 2,
       "version_minor": 0
      },
      "text/plain": [
       "Iteration:   0%|          | 0/3110 [00:00<?, ?it/s]"
      ]
     },
     "metadata": {},
     "output_type": "display_data"
    },
    {
     "name": "stdout",
     "output_type": "stream",
     "text": [
      "2023-05-02 00:18:41 - TripletEvaluator: Evaluating the model on dev dataset in epoch 4 after 500 steps:\n",
      "[0.9845839979010806, 0.7316145122305202]\n",
      "[0.9805967016922392, 0.847973570876735]\n",
      "mAP strict= 0.8580992550658004 ; mAP relaxed = 0.914285136284487\n",
      "2023-05-02 00:18:42 - mAP strict:   \t85.81\n",
      "2023-05-02 00:18:42 - mAP relaxed:   \t91.43\n",
      "2023-05-02 00:19:55 - TripletEvaluator: Evaluating the model on dev dataset in epoch 4 after 1000 steps:\n",
      "[0.9452351825578809, 0.854676636834397]\n",
      "[0.986366127833519, 0.9104067775410895]\n",
      "mAP strict= 0.8999559096961389 ; mAP relaxed = 0.9483864526873043\n",
      "2023-05-02 00:19:55 - mAP strict:   \t90.00\n",
      "2023-05-02 00:19:55 - mAP relaxed:   \t94.84\n",
      "2023-05-02 00:21:09 - TripletEvaluator: Evaluating the model on dev dataset in epoch 4 after 1500 steps:\n",
      "[0.9788723888226767, 0.8827813912953233]\n",
      "[0.9910799808429118, 0.9228992693589316]\n",
      "mAP strict= 0.930826890059 ; mAP relaxed = 0.9569896251009218\n",
      "2023-05-02 00:21:10 - mAP strict:   \t93.08\n",
      "2023-05-02 00:21:10 - mAP relaxed:   \t95.70\n",
      "2023-05-02 00:22:23 - TripletEvaluator: Evaluating the model on dev dataset in epoch 4 after 2000 steps:\n",
      "[0.9766766503817542, 0.8235044532585732]\n",
      "[0.9888242283079238, 0.889822475778492]\n",
      "mAP strict= 0.9000905518201637 ; mAP relaxed = 0.9393233520432079\n",
      "2023-05-02 00:22:24 - mAP strict:   \t90.01\n",
      "2023-05-02 00:22:24 - mAP relaxed:   \t93.93\n",
      "2023-05-02 00:23:37 - TripletEvaluator: Evaluating the model on dev dataset in epoch 4 after 2500 steps:\n",
      "[0.9318981394287772, 0.6489097222772089]\n",
      "[0.9967948717948716, 0.7729863367966577]\n",
      "mAP strict= 0.7904039308529931 ; mAP relaxed = 0.8848906042957647\n",
      "2023-05-02 00:23:37 - mAP strict:   \t79.04\n",
      "2023-05-02 00:23:37 - mAP relaxed:   \t88.49\n",
      "2023-05-02 00:24:50 - TripletEvaluator: Evaluating the model on dev dataset in epoch 4 after 3000 steps:\n",
      "[0.9877891261062088, 0.7357907525767432]\n",
      "[0.9999999999999998, 0.8546211613634509]\n",
      "mAP strict= 0.8617899393414761 ; mAP relaxed = 0.9273105806817253\n",
      "2023-05-02 00:24:50 - mAP strict:   \t86.18\n",
      "2023-05-02 00:24:50 - mAP relaxed:   \t92.73\n",
      "2023-05-02 00:25:06 - TripletEvaluator: Evaluating the model on dev dataset after epoch 4:\n",
      "[0.9485608245697231, 0.8157946692074981]\n",
      "[0.9999999999999998, 0.8784369521064238]\n",
      "mAP strict= 0.8821777468886106 ; mAP relaxed = 0.9392184760532118\n",
      "2023-05-02 00:25:06 - mAP strict:   \t88.22\n",
      "2023-05-02 00:25:06 - mAP relaxed:   \t93.92\n"
     ]
    },
    {
     "data": {
      "application/vnd.jupyter.widget-view+json": {
       "model_id": "013112ea72fb488a983e5304710f40cd",
       "version_major": 2,
       "version_minor": 0
      },
      "text/plain": [
       "Iteration:   0%|          | 0/3110 [00:00<?, ?it/s]"
      ]
     },
     "metadata": {},
     "output_type": "display_data"
    },
    {
     "name": "stdout",
     "output_type": "stream",
     "text": [
      "2023-05-02 00:26:22 - TripletEvaluator: Evaluating the model on dev dataset in epoch 5 after 500 steps:\n",
      "[0.948306994938136, 0.752417100443416]\n",
      "[0.9603950376962055, 0.8419574467712573]\n",
      "mAP strict= 0.8503620476907761 ; mAP relaxed = 0.9011762422337314\n",
      "2023-05-02 00:26:22 - mAP strict:   \t85.04\n",
      "2023-05-02 00:26:22 - mAP relaxed:   \t90.12\n",
      "2023-05-02 00:27:36 - TripletEvaluator: Evaluating the model on dev dataset in epoch 5 after 1000 steps:\n",
      "[0.9825851964504834, 0.6555359160053205]\n",
      "[0.9947856280193236, 0.8471798790579717]\n",
      "mAP strict= 0.8190605562279019 ; mAP relaxed = 0.9209827535386477\n",
      "2023-05-02 00:27:36 - mAP strict:   \t81.91\n",
      "2023-05-02 00:27:36 - mAP relaxed:   \t92.10\n",
      "2023-05-02 00:28:50 - TripletEvaluator: Evaluating the model on dev dataset in epoch 5 after 1500 steps:\n",
      "[0.98544782599603, 0.7471435543914535]\n",
      "[0.9842640431227385, 0.8306702688570815]\n",
      "mAP strict= 0.8662956901937418 ; mAP relaxed = 0.90746715598991\n",
      "2023-05-02 00:28:51 - mAP strict:   \t86.63\n",
      "2023-05-02 00:28:51 - mAP relaxed:   \t90.75\n",
      "2023-05-02 00:30:03 - TripletEvaluator: Evaluating the model on dev dataset in epoch 5 after 2000 steps:\n",
      "[0.9766766503817542, 0.6871490080589345]\n",
      "[0.9888242283079238, 0.8745073828815185]\n",
      "mAP strict= 0.8319128292203444 ; mAP relaxed = 0.9316658055947211\n",
      "2023-05-02 00:30:04 - mAP strict:   \t83.19\n",
      "2023-05-02 00:30:04 - mAP relaxed:   \t93.17\n",
      "2023-05-02 00:31:16 - TripletEvaluator: Evaluating the model on dev dataset in epoch 5 after 2500 steps:\n",
      "[0.9787361469492599, 0.793674352178609]\n",
      "[0.9909075616412572, 0.8928263531739308]\n",
      "mAP strict= 0.8862052495639345 ; mAP relaxed = 0.941866957407594\n",
      "2023-05-02 00:31:17 - mAP strict:   \t88.62\n",
      "2023-05-02 00:31:17 - mAP relaxed:   \t94.19\n",
      "2023-05-02 00:32:30 - TripletEvaluator: Evaluating the model on dev dataset in epoch 5 after 3000 steps:\n",
      "[0.9810244764687108, 0.8023587335068312]\n",
      "[0.9909075616412572, 0.8815176059473994]\n",
      "mAP strict= 0.891691604987771 ; mAP relaxed = 0.9362125837943283\n",
      "2023-05-02 00:32:31 - mAP strict:   \t89.17\n",
      "2023-05-02 00:32:31 - mAP relaxed:   \t93.62\n",
      "2023-05-02 00:32:47 - TripletEvaluator: Evaluating the model on dev dataset after epoch 5:\n",
      "[0.982991350174715, 0.8298319245669791]\n",
      "[0.9928916886253841, 0.8885080766246363]\n",
      "mAP strict= 0.9064116373708471 ; mAP relaxed = 0.9406998826250101\n",
      "2023-05-02 00:32:47 - mAP strict:   \t90.64\n",
      "2023-05-02 00:32:47 - mAP relaxed:   \t94.07\n"
     ]
    },
    {
     "data": {
      "application/vnd.jupyter.widget-view+json": {
       "model_id": "b8e07c62b7fb4803b3a60236600373fb",
       "version_major": 2,
       "version_minor": 0
      },
      "text/plain": [
       "Iteration:   0%|          | 0/3110 [00:00<?, ?it/s]"
      ]
     },
     "metadata": {},
     "output_type": "display_data"
    },
    {
     "name": "stdout",
     "output_type": "stream",
     "text": [
      "2023-05-02 00:34:01 - TripletEvaluator: Evaluating the model on dev dataset in epoch 6 after 500 steps:\n",
      "[0.9787361469492599, 0.6054000388443113]\n",
      "[0.9909075616412572, 0.8728336659086173]\n",
      "mAP strict= 0.7920680928967856 ; mAP relaxed = 0.9318706137749373\n",
      "2023-05-02 00:34:01 - mAP strict:   \t79.21\n",
      "2023-05-02 00:34:01 - mAP relaxed:   \t93.19\n",
      "2023-05-02 00:35:15 - TripletEvaluator: Evaluating the model on dev dataset in epoch 6 after 1000 steps:\n",
      "[0.9766766503817542, 0.8051621090883399]\n",
      "[0.9888242283079238, 0.9267680161628693]\n",
      "mAP strict= 0.890919379735047 ; mAP relaxed = 0.9577961222353966\n",
      "2023-05-02 00:35:15 - mAP strict:   \t89.09\n",
      "2023-05-02 00:35:15 - mAP relaxed:   \t95.78\n",
      "2023-05-02 00:36:27 - TripletEvaluator: Evaluating the model on dev dataset in epoch 6 after 1500 steps:\n",
      "[0.9766766503817542, 0.818767879231939]\n",
      "[0.9866312458517834, 0.9504901622922102]\n",
      "mAP strict= 0.8977222648068466 ; mAP relaxed = 0.9685607040719968\n",
      "2023-05-02 00:36:28 - mAP strict:   \t89.77\n",
      "2023-05-02 00:36:28 - mAP relaxed:   \t96.86\n",
      "2023-05-02 00:37:40 - TripletEvaluator: Evaluating the model on dev dataset in epoch 6 after 2000 steps:\n",
      "[0.9395078454127743, 0.7719685718893846]\n",
      "[0.9909075616412572, 0.9008129640542918]\n",
      "mAP strict= 0.8557382086510794 ; mAP relaxed = 0.9458602628477745\n",
      "2023-05-02 00:37:41 - mAP strict:   \t85.57\n",
      "2023-05-02 00:37:41 - mAP relaxed:   \t94.59\n",
      "2023-05-02 00:38:54 - TripletEvaluator: Evaluating the model on dev dataset in epoch 6 after 2500 steps:\n",
      "[0.9510602823102824, 0.734652513880455]\n",
      "[0.9999999999999998, 0.8932529963848236]\n",
      "mAP strict= 0.8428563980953687 ; mAP relaxed = 0.9466264981924117\n",
      "2023-05-02 00:38:55 - mAP strict:   \t84.29\n",
      "2023-05-02 00:38:55 - mAP relaxed:   \t94.66\n",
      "2023-05-02 00:40:08 - TripletEvaluator: Evaluating the model on dev dataset in epoch 6 after 3000 steps:\n",
      "[0.8133292301261051, 0.7692379515908928]\n",
      "[0.8653881822999471, 0.879902559148196]\n",
      "mAP strict= 0.791283590858499 ; mAP relaxed = 0.8726453707240716\n",
      "2023-05-02 00:40:08 - mAP strict:   \t79.13\n",
      "2023-05-02 00:40:08 - mAP relaxed:   \t87.26\n",
      "2023-05-02 00:40:25 - TripletEvaluator: Evaluating the model on dev dataset after epoch 6:\n",
      "[0.7771800227560249, 0.7969527687452475]\n",
      "[0.8264731204166224, 0.8791304877109634]\n",
      "mAP strict= 0.7870663957506362 ; mAP relaxed = 0.8528018040637928\n",
      "2023-05-02 00:40:25 - mAP strict:   \t78.71\n",
      "2023-05-02 00:40:25 - mAP relaxed:   \t85.28\n"
     ]
    },
    {
     "data": {
      "application/vnd.jupyter.widget-view+json": {
       "model_id": "a0ac2ff3936b453cad15bcbc35529682",
       "version_major": 2,
       "version_minor": 0
      },
      "text/plain": [
       "Iteration:   0%|          | 0/3110 [00:00<?, ?it/s]"
      ]
     },
     "metadata": {},
     "output_type": "display_data"
    },
    {
     "name": "stdout",
     "output_type": "stream",
     "text": [
      "2023-05-02 00:41:38 - TripletEvaluator: Evaluating the model on dev dataset in epoch 7 after 500 steps:\n",
      "[0.8793061661846302, 0.8721152707801314]\n",
      "[0.9999999999999998, 0.9063085469474128]\n",
      "mAP strict= 0.8757107184823808 ; mAP relaxed = 0.9531542734737063\n",
      "2023-05-02 00:41:38 - mAP strict:   \t87.57\n",
      "2023-05-02 00:41:38 - mAP relaxed:   \t95.32\n",
      "2023-05-02 00:42:51 - TripletEvaluator: Evaluating the model on dev dataset in epoch 7 after 1000 steps:\n",
      "[0.8793061661846302, 0.9188764752619243]\n",
      "[0.9999999999999998, 0.9281042313543291]\n",
      "mAP strict= 0.8990913207232772 ; mAP relaxed = 0.9640521156771644\n",
      "2023-05-02 00:42:51 - mAP strict:   \t89.91\n",
      "2023-05-02 00:42:51 - mAP relaxed:   \t96.41\n",
      "2023-05-02 00:44:03 - TripletEvaluator: Evaluating the model on dev dataset in epoch 7 after 1500 steps:\n",
      "[0.8793061661846302, 0.8760166957225781]\n",
      "[0.9999999999999998, 0.9278984360512894]\n",
      "mAP strict= 0.8776614309536042 ; mAP relaxed = 0.9639492180256446\n",
      "2023-05-02 00:44:03 - mAP strict:   \t87.77\n",
      "2023-05-02 00:44:03 - mAP relaxed:   \t96.39\n",
      "2023-05-02 00:45:16 - TripletEvaluator: Evaluating the model on dev dataset in epoch 7 after 2000 steps:\n",
      "[0.8793061661846302, 0.9019452769452772]\n",
      "[0.9999999999999998, 0.9343275688173762]\n",
      "mAP strict= 0.8906257215649537 ; mAP relaxed = 0.967163784408688\n",
      "2023-05-02 00:45:17 - mAP strict:   \t89.06\n",
      "2023-05-02 00:45:17 - mAP relaxed:   \t96.72\n",
      "2023-05-02 00:46:31 - TripletEvaluator: Evaluating the model on dev dataset in epoch 7 after 2500 steps:\n",
      "[0.9485608245697231, 0.8242046848132375]\n",
      "[0.9999999999999998, 0.9376557989894103]\n",
      "mAP strict= 0.8863827546914803 ; mAP relaxed = 0.968827899494705\n",
      "2023-05-02 00:46:31 - mAP strict:   \t88.64\n",
      "2023-05-02 00:46:31 - mAP relaxed:   \t96.88\n",
      "2023-05-02 00:47:44 - TripletEvaluator: Evaluating the model on dev dataset in epoch 7 after 3000 steps:\n",
      "[0.9485608245697231, 0.8291026783673843]\n",
      "[0.9999999999999998, 0.900916944217537]\n",
      "mAP strict= 0.8888317514685538 ; mAP relaxed = 0.9504584721087683\n",
      "2023-05-02 00:47:44 - mAP strict:   \t88.88\n",
      "2023-05-02 00:47:44 - mAP relaxed:   \t95.05\n",
      "2023-05-02 00:48:00 - TripletEvaluator: Evaluating the model on dev dataset after epoch 7:\n",
      "[0.9485608245697231, 0.7886508303787714]\n",
      "[0.9999999999999998, 0.9098883133465794]\n",
      "mAP strict= 0.8686058274742472 ; mAP relaxed = 0.9549441566732896\n",
      "2023-05-02 00:48:00 - mAP strict:   \t86.86\n",
      "2023-05-02 00:48:00 - mAP relaxed:   \t95.49\n"
     ]
    },
    {
     "data": {
      "application/vnd.jupyter.widget-view+json": {
       "model_id": "060fd860abf34e31a99a3eebfcab17e3",
       "version_major": 2,
       "version_minor": 0
      },
      "text/plain": [
       "Iteration:   0%|          | 0/3110 [00:00<?, ?it/s]"
      ]
     },
     "metadata": {},
     "output_type": "display_data"
    },
    {
     "name": "stdout",
     "output_type": "stream",
     "text": [
      "2023-05-02 00:49:13 - TripletEvaluator: Evaluating the model on dev dataset in epoch 8 after 500 steps:\n",
      "[0.9351032676339054, 0.8330393666790725]\n",
      "[0.9999999999999998, 0.9174564099534779]\n",
      "mAP strict= 0.8840713171564889 ; mAP relaxed = 0.9587282049767388\n",
      "2023-05-02 00:49:13 - mAP strict:   \t88.41\n",
      "2023-05-02 00:49:13 - mAP relaxed:   \t95.87\n",
      "2023-05-02 00:50:28 - TripletEvaluator: Evaluating the model on dev dataset in epoch 8 after 1000 steps:\n",
      "[0.9485608245697231, 0.8390179361200123]\n",
      "[0.9999999999999998, 0.893816079262298]\n",
      "mAP strict= 0.8937893803448678 ; mAP relaxed = 0.9469080396311489\n",
      "2023-05-02 00:50:28 - mAP strict:   \t89.38\n",
      "2023-05-02 00:50:28 - mAP relaxed:   \t94.69\n",
      "2023-05-02 00:51:42 - TripletEvaluator: Evaluating the model on dev dataset in epoch 8 after 1500 steps:\n",
      "[0.9485608245697231, 0.7852462176424113]\n",
      "[0.9999999999999998, 0.8921374246290997]\n",
      "mAP strict= 0.8669035211060672 ; mAP relaxed = 0.9460687123145497\n",
      "2023-05-02 00:51:42 - mAP strict:   \t86.69\n",
      "2023-05-02 00:51:42 - mAP relaxed:   \t94.61\n",
      "2023-05-02 00:52:56 - TripletEvaluator: Evaluating the model on dev dataset in epoch 8 after 2000 steps:\n",
      "[0.9485608245697231, 0.811592034123568]\n",
      "[0.9999999999999998, 0.9051465150890733]\n",
      "mAP strict= 0.8800764293466455 ; mAP relaxed = 0.9525732575445365\n",
      "2023-05-02 00:52:56 - mAP strict:   \t88.01\n",
      "2023-05-02 00:52:56 - mAP relaxed:   \t95.26\n",
      "2023-05-02 00:54:09 - TripletEvaluator: Evaluating the model on dev dataset in epoch 8 after 2500 steps:\n",
      "[0.9485608245697231, 0.8196747047563205]\n",
      "[0.9999999999999998, 0.9016802059743162]\n",
      "mAP strict= 0.8841177646630218 ; mAP relaxed = 0.950840102987158\n",
      "2023-05-02 00:54:09 - mAP strict:   \t88.41\n",
      "2023-05-02 00:54:09 - mAP relaxed:   \t95.08\n",
      "2023-05-02 00:55:26 - TripletEvaluator: Evaluating the model on dev dataset in epoch 8 after 3000 steps:\n",
      "[0.9423496444454995, 0.7297666510569492]\n",
      "[0.9999999999999998, 0.8891164148514964]\n",
      "mAP strict= 0.8360581477512243 ; mAP relaxed = 0.9445582074257481\n",
      "2023-05-02 00:55:27 - mAP strict:   \t83.61\n",
      "2023-05-02 00:55:27 - mAP relaxed:   \t94.46\n",
      "2023-05-02 00:55:42 - TripletEvaluator: Evaluating the model on dev dataset after epoch 8:\n",
      "[0.9423496444454995, 0.7526833177236159]\n",
      "[0.9999999999999998, 0.889244624153724]\n",
      "mAP strict= 0.8475164810845577 ; mAP relaxed = 0.9446223120768619\n",
      "2023-05-02 00:55:43 - mAP strict:   \t84.75\n",
      "2023-05-02 00:55:43 - mAP relaxed:   \t94.46\n"
     ]
    },
    {
     "data": {
      "application/vnd.jupyter.widget-view+json": {
       "model_id": "332c8af2713542a3acbe440cee6972cd",
       "version_major": 2,
       "version_minor": 0
      },
      "text/plain": [
       "Iteration:   0%|          | 0/3110 [00:00<?, ?it/s]"
      ]
     },
     "metadata": {},
     "output_type": "display_data"
    },
    {
     "name": "stdout",
     "output_type": "stream",
     "text": [
      "2023-05-02 00:56:58 - TripletEvaluator: Evaluating the model on dev dataset in epoch 9 after 500 steps:\n",
      "[0.9423496444454995, 0.7130999843902824]\n",
      "[0.9999999999999998, 0.902470628786689]\n",
      "mAP strict= 0.827724814417891 ; mAP relaxed = 0.9512353143933444\n",
      "2023-05-02 00:56:58 - mAP strict:   \t82.77\n",
      "2023-05-02 00:56:58 - mAP relaxed:   \t95.12\n",
      "2023-05-02 00:58:11 - TripletEvaluator: Evaluating the model on dev dataset in epoch 9 after 1000 steps:\n",
      "[0.9485608245697231, 0.7095912124604578]\n",
      "[0.9999999999999998, 0.915232191602509]\n",
      "mAP strict= 0.8290760185150905 ; mAP relaxed = 0.9576160958012544\n",
      "2023-05-02 00:58:11 - mAP strict:   \t82.91\n",
      "2023-05-02 00:58:11 - mAP relaxed:   \t95.76\n",
      "2023-05-02 00:59:26 - TripletEvaluator: Evaluating the model on dev dataset in epoch 9 after 1500 steps:\n",
      "[0.9485608245697231, 0.805834452936529]\n",
      "[0.9999999999999998, 0.9152665491097272]\n",
      "mAP strict= 0.8771976387531261 ; mAP relaxed = 0.9576332745548635\n",
      "2023-05-02 00:59:26 - mAP strict:   \t87.72\n",
      "2023-05-02 00:59:26 - mAP relaxed:   \t95.76\n",
      "2023-05-02 01:00:40 - TripletEvaluator: Evaluating the model on dev dataset in epoch 9 after 2000 steps:\n",
      "[0.9485608245697231, 0.8083112331222876]\n",
      "[0.9999999999999998, 0.915624459307083]\n",
      "mAP strict= 0.8784360288460054 ; mAP relaxed = 0.9578122296535414\n",
      "2023-05-02 01:00:40 - mAP strict:   \t87.84\n",
      "2023-05-02 01:00:40 - mAP relaxed:   \t95.78\n",
      "2023-05-02 01:01:54 - TripletEvaluator: Evaluating the model on dev dataset in epoch 9 after 2500 steps:\n",
      "[0.9485608245697231, 0.8108511753445559]\n",
      "[0.9999999999999998, 0.9109235428140993]\n",
      "mAP strict= 0.8797059999571395 ; mAP relaxed = 0.9554617714070495\n",
      "2023-05-02 01:01:54 - mAP strict:   \t87.97\n",
      "2023-05-02 01:01:54 - mAP relaxed:   \t95.55\n",
      "2023-05-02 01:03:09 - TripletEvaluator: Evaluating the model on dev dataset in epoch 9 after 3000 steps:\n",
      "[0.9485608245697231, 0.8133279555303142]\n",
      "[0.9999999999999998, 0.9119121656419935]\n",
      "mAP strict= 0.8809443900500187 ; mAP relaxed = 0.9559560828209966\n",
      "2023-05-02 01:03:10 - mAP strict:   \t88.09\n",
      "2023-05-02 01:03:10 - mAP relaxed:   \t95.60\n",
      "2023-05-02 01:03:26 - TripletEvaluator: Evaluating the model on dev dataset after epoch 9:\n",
      "[0.9485608245697231, 0.8133279555303142]\n",
      "[0.9999999999999998, 0.9119121656419935]\n",
      "mAP strict= 0.8809443900500187 ; mAP relaxed = 0.9559560828209966\n",
      "2023-05-02 01:03:26 - mAP strict:   \t88.09\n",
      "2023-05-02 01:03:26 - mAP relaxed:   \t95.60\n"
     ]
    }
   ],
   "source": [
    "domain = \"Arts & Entertainment\"\n",
    "# Train, evaluate on Rev-KP\n",
    "train_model(f'./training_material/siamese-data/out-of-category/{domain}/',\n",
    "            f'./training_material/siamese-data/out-of-category/{domain}/',\n",
    "            'dev',\n",
    "            f'./model/ASKPA/out-of-category/{domain}/',\n",
    "            './model/roberta-large-pretrained-yelp/checkpoint-134060/',\n",
    "            model_suffix='contrastive-10-epochs',\n",
    "            data_file_suffix='contrastive',\n",
    "            num_epochs=10, max_seq_length=128, add_special_token=True, train_batch_size=16, loss='ContrastiveLoss')"
   ]
  },
  {
   "cell_type": "markdown",
   "id": "e2d74830",
   "metadata": {},
   "source": [
    "## Automotive"
   ]
  },
  {
   "cell_type": "code",
   "execution_count": 69,
   "id": "a582ec99",
   "metadata": {},
   "outputs": [
    {
     "name": "stderr",
     "output_type": "stream",
     "text": [
      "Some weights of the model checkpoint at ./model/roberta-large-finetuned-yelp/checkpoint-134060/ were not used when initializing RobertaModel: ['lm_head.layer_norm.weight', 'lm_head.bias', 'lm_head.layer_norm.bias', 'lm_head.dense.bias', 'lm_head.dense.weight']\n",
      "- This IS expected if you are initializing RobertaModel from the checkpoint of a model trained on another task or with another architecture (e.g. initializing a BertForSequenceClassification model from a BertForPreTraining model).\n",
      "- This IS NOT expected if you are initializing RobertaModel from the checkpoint of a model that you expect to be exactly identical (initializing a BertForSequenceClassification model from a BertForSequenceClassification model).\n",
      "Some weights of RobertaModel were not initialized from the model checkpoint at ./model/roberta-large-finetuned-yelp/checkpoint-134060/ and are newly initialized: ['roberta.pooler.dense.weight', 'roberta.pooler.dense.bias']\n",
      "You should probably TRAIN this model on a down-stream task to be able to use it for predictions and inference.\n"
     ]
    },
    {
     "name": "stdout",
     "output_type": "stream",
     "text": [
      "2023-05-03 14:45:34 - Use pytorch device: cuda\n",
      "2023-05-03 14:45:34 - Read Triplet train dataset\n"
     ]
    },
    {
     "data": {
      "application/vnd.jupyter.widget-view+json": {
       "model_id": "598735308bca4ea682e10d0ba18584d3",
       "version_major": 2,
       "version_minor": 0
      },
      "text/plain": [
       "Epoch:   0%|          | 0/10 [00:00<?, ?it/s]"
      ]
     },
     "metadata": {},
     "output_type": "display_data"
    },
    {
     "data": {
      "application/vnd.jupyter.widget-view+json": {
       "model_id": "8582c2cfb28d4cd1985dfc050f9ba6dc",
       "version_major": 2,
       "version_minor": 0
      },
      "text/plain": [
       "Iteration:   0%|          | 0/3233 [00:00<?, ?it/s]"
      ]
     },
     "metadata": {},
     "output_type": "display_data"
    },
    {
     "name": "stdout",
     "output_type": "stream",
     "text": [
      "2023-05-03 14:46:51 - TripletEvaluator: Evaluating the model on dev dataset in epoch 0 after 500 steps:\n",
      "[0.4293798858174956, 0.6339059507928101]\n",
      "[0.7166736375058622, 0.7709156761703495]\n",
      "mAP strict= 0.5316429183051529 ; mAP relaxed = 0.7437946568381059\n",
      "2023-05-03 14:46:51 - mAP strict:   \t53.16\n",
      "2023-05-03 14:46:51 - mAP relaxed:   \t74.38\n",
      "2023-05-03 14:46:51 - Save model to ./keypoint-analysis-sharedtask/siamese-models/aspect-opinion-6_1/domain/new/leave_one_out/Automotive/roberta-large-yelp-pretrained-contrastive-10-epochs-2023-05-03_14-45-30\n",
      "2023-05-03 14:48:08 - TripletEvaluator: Evaluating the model on dev dataset in epoch 0 after 1000 steps:\n",
      "[0.5724240947895212, 0.7441606904638437]\n",
      "[0.7911659446624336, 0.9397145545877499]\n",
      "mAP strict= 0.6582923926266824 ; mAP relaxed = 0.8654402496250917\n",
      "2023-05-03 14:48:08 - mAP strict:   \t65.83\n",
      "2023-05-03 14:48:08 - mAP relaxed:   \t86.54\n",
      "2023-05-03 14:48:08 - Save model to ./keypoint-analysis-sharedtask/siamese-models/aspect-opinion-6_1/domain/new/leave_one_out/Automotive/roberta-large-yelp-pretrained-contrastive-10-epochs-2023-05-03_14-45-30\n",
      "2023-05-03 14:49:25 - TripletEvaluator: Evaluating the model on dev dataset in epoch 0 after 1500 steps:\n",
      "[0.8222922652945128, 0.7672162753018377]\n",
      "[0.923048896774989, 0.937086407215557]\n",
      "mAP strict= 0.7947542702981752 ; mAP relaxed = 0.9300676519952731\n",
      "2023-05-03 14:49:26 - mAP strict:   \t79.48\n",
      "2023-05-03 14:49:26 - mAP relaxed:   \t93.01\n",
      "2023-05-03 14:49:26 - Save model to ./keypoint-analysis-sharedtask/siamese-models/aspect-opinion-6_1/domain/new/leave_one_out/Automotive/roberta-large-yelp-pretrained-contrastive-10-epochs-2023-05-03_14-45-30\n",
      "2023-05-03 14:50:42 - TripletEvaluator: Evaluating the model on dev dataset in epoch 0 after 2000 steps:\n",
      "[0.9003856865489952, 0.7149725804079454]\n",
      "[0.9272241234115287, 0.9271499385701093]\n",
      "mAP strict= 0.8076791334784703 ; mAP relaxed = 0.927187030990819\n",
      "2023-05-03 14:50:43 - mAP strict:   \t80.77\n",
      "2023-05-03 14:50:43 - mAP relaxed:   \t92.72\n",
      "2023-05-03 14:50:43 - Save model to ./keypoint-analysis-sharedtask/siamese-models/aspect-opinion-6_1/domain/new/leave_one_out/Automotive/roberta-large-yelp-pretrained-contrastive-10-epochs-2023-05-03_14-45-30\n",
      "2023-05-03 14:52:01 - TripletEvaluator: Evaluating the model on dev dataset in epoch 0 after 2500 steps:\n",
      "[0.7919854925354868, 0.6904594274963516]\n",
      "[0.9077562379458602, 0.9557028261642436]\n",
      "mAP strict= 0.7412224600159192 ; mAP relaxed = 0.9317295320550519\n",
      "2023-05-03 14:52:01 - mAP strict:   \t74.12\n",
      "2023-05-03 14:52:01 - mAP relaxed:   \t93.17\n",
      "2023-05-03 14:53:16 - TripletEvaluator: Evaluating the model on dev dataset in epoch 0 after 3000 steps:\n",
      "[0.7566627411188513, 0.6787066406653525]\n",
      "[0.8766938614831826, 0.9814544207106841]\n",
      "mAP strict= 0.717684690892102 ; mAP relaxed = 0.9290741410969334\n",
      "2023-05-03 14:53:16 - mAP strict:   \t71.77\n",
      "2023-05-03 14:53:16 - mAP relaxed:   \t92.91\n",
      "2023-05-03 14:53:51 - TripletEvaluator: Evaluating the model on dev dataset after epoch 0:\n",
      "[0.8000804029561371, 0.765354945844658]\n",
      "[0.8135356970493756, 0.9750197800514002]\n",
      "mAP strict= 0.7827176744003976 ; mAP relaxed = 0.894277738550388\n",
      "2023-05-03 14:53:51 - mAP strict:   \t78.27\n",
      "2023-05-03 14:53:51 - mAP relaxed:   \t89.43\n"
     ]
    },
    {
     "data": {
      "application/vnd.jupyter.widget-view+json": {
       "model_id": "796d1b9e237b4766b0e347a0bea95429",
       "version_major": 2,
       "version_minor": 0
      },
      "text/plain": [
       "Iteration:   0%|          | 0/3233 [00:00<?, ?it/s]"
      ]
     },
     "metadata": {},
     "output_type": "display_data"
    },
    {
     "name": "stdout",
     "output_type": "stream",
     "text": [
      "2023-05-03 14:55:05 - TripletEvaluator: Evaluating the model on dev dataset in epoch 1 after 500 steps:\n",
      "[0.5421220553299695, 0.8569333700329838]\n",
      "[0.8712474191476357, 0.8957846897142753]\n",
      "mAP strict= 0.6995277126814766 ; mAP relaxed = 0.8835160544309555\n",
      "2023-05-03 14:55:05 - mAP strict:   \t69.95\n",
      "2023-05-03 14:55:05 - mAP relaxed:   \t88.35\n",
      "2023-05-03 14:56:20 - TripletEvaluator: Evaluating the model on dev dataset in epoch 1 after 1000 steps:\n",
      "[0.7466628854166469, 0.9349926852170297]\n",
      "[0.94452444124172, 0.9716193422024899]\n",
      "mAP strict= 0.8408277853168383 ; mAP relaxed = 0.9580718917221049\n",
      "2023-05-03 14:56:21 - mAP strict:   \t84.08\n",
      "2023-05-03 14:56:21 - mAP relaxed:   \t95.81\n",
      "2023-05-03 14:56:21 - Save model to ./keypoint-analysis-sharedtask/siamese-models/aspect-opinion-6_1/domain/new/leave_one_out/Automotive/roberta-large-yelp-pretrained-contrastive-10-epochs-2023-05-03_14-45-30\n",
      "2023-05-03 14:57:38 - TripletEvaluator: Evaluating the model on dev dataset in epoch 1 after 1500 steps:\n",
      "[0.7803076311165786, 0.8102349385111958]\n",
      "[0.9097252477545059, 0.9528137759728913]\n",
      "mAP strict= 0.7952712848138872 ; mAP relaxed = 0.9312695118636987\n",
      "2023-05-03 14:57:38 - mAP strict:   \t79.53\n",
      "2023-05-03 14:57:38 - mAP relaxed:   \t93.13\n",
      "2023-05-03 14:58:53 - TripletEvaluator: Evaluating the model on dev dataset in epoch 1 after 2000 steps:\n",
      "[0.8323507083150303, 0.8088670873447303]\n",
      "[0.8227168038702445, 0.9523396196483167]\n",
      "mAP strict= 0.8206088978298803 ; mAP relaxed = 0.8875282117592806\n",
      "2023-05-03 14:58:54 - mAP strict:   \t82.06\n",
      "2023-05-03 14:58:54 - mAP relaxed:   \t88.75\n",
      "2023-05-03 15:00:08 - TripletEvaluator: Evaluating the model on dev dataset in epoch 1 after 2500 steps:\n",
      "[0.8508922541759034, 0.58998084148761]\n",
      "[0.8959494483649507, 0.9176678169345311]\n",
      "mAP strict= 0.7204365478317567 ; mAP relaxed = 0.9068086326497409\n",
      "2023-05-03 15:00:08 - mAP strict:   \t72.04\n",
      "2023-05-03 15:00:08 - mAP relaxed:   \t90.68\n",
      "2023-05-03 15:01:22 - TripletEvaluator: Evaluating the model on dev dataset in epoch 1 after 3000 steps:\n",
      "[0.8567051220071553, 0.646708715516091]\n",
      "[0.8297921893326257, 0.9827508396823019]\n",
      "mAP strict= 0.7517069187616232 ; mAP relaxed = 0.9062715145074638\n",
      "2023-05-03 15:01:22 - mAP strict:   \t75.17\n",
      "2023-05-03 15:01:22 - mAP relaxed:   \t90.63\n",
      "2023-05-03 15:01:56 - TripletEvaluator: Evaluating the model on dev dataset after epoch 1:\n",
      "[0.015384615384615385, 0.041496062992125986]\n",
      "[0.5974358974358973, 0.6739872877336116]\n",
      "mAP strict= 0.028440339188370686 ; mAP relaxed = 0.6357115925847545\n",
      "2023-05-03 15:01:56 - mAP strict:   \t2.84\n",
      "2023-05-03 15:01:56 - mAP relaxed:   \t63.57\n"
     ]
    },
    {
     "data": {
      "application/vnd.jupyter.widget-view+json": {
       "model_id": "a23cdd871d9b48739da986e2415b0527",
       "version_major": 2,
       "version_minor": 0
      },
      "text/plain": [
       "Iteration:   0%|          | 0/3233 [00:00<?, ?it/s]"
      ]
     },
     "metadata": {},
     "output_type": "display_data"
    },
    {
     "name": "stdout",
     "output_type": "stream",
     "text": [
      "2023-05-03 15:03:09 - TripletEvaluator: Evaluating the model on dev dataset in epoch 2 after 500 steps:\n",
      "[0.05084745762711865, 0.05751524003048006]\n",
      "[0.5979284369114878, 0.734717636101939]\n",
      "mAP strict= 0.05418134882879935 ; mAP relaxed = 0.6663230365067134\n",
      "2023-05-03 15:03:10 - mAP strict:   \t5.42\n",
      "2023-05-03 15:03:10 - mAP relaxed:   \t66.63\n",
      "2023-05-03 15:04:24 - TripletEvaluator: Evaluating the model on dev dataset in epoch 2 after 1000 steps:\n"
     ]
    },
    {
     "name": "stderr",
     "output_type": "stream",
     "text": [
      "/home/an/anaconda3/envs/deep_learning_env_2/lib/python3.9/site-packages/sklearn/metrics/_ranking.py:891: UserWarning: No positive class found in y_true, recall is set to one for all thresholds.\n",
      "  warnings.warn(\n"
     ]
    },
    {
     "name": "stdout",
     "output_type": "stream",
     "text": [
      "[-0.0, 0.007874015748031496]\n",
      "[0.3201465201465202, 0.7272326647898887]\n",
      "mAP strict= 0.003937007874015748 ; mAP relaxed = 0.5236895924682045\n",
      "2023-05-03 15:04:24 - mAP strict:   \t0.39\n",
      "2023-05-03 15:04:24 - mAP relaxed:   \t52.37\n",
      "2023-05-03 15:05:39 - TripletEvaluator: Evaluating the model on dev dataset in epoch 2 after 1500 steps:\n",
      "[0.06153846153846154, 0.041100144172119324]\n",
      "[0.4323312702623048, 0.7117032025926338]\n",
      "mAP strict= 0.05131930285529043 ; mAP relaxed = 0.5720172364274693\n",
      "2023-05-03 15:05:39 - mAP strict:   \t5.13\n",
      "2023-05-03 15:05:39 - mAP relaxed:   \t57.20\n",
      "2023-05-03 15:06:52 - TripletEvaluator: Evaluating the model on dev dataset in epoch 2 after 2000 steps:\n"
     ]
    },
    {
     "name": "stderr",
     "output_type": "stream",
     "text": [
      "/home/an/anaconda3/envs/deep_learning_env_2/lib/python3.9/site-packages/sklearn/metrics/_ranking.py:891: UserWarning: No positive class found in y_true, recall is set to one for all thresholds.\n",
      "  warnings.warn(\n"
     ]
    },
    {
     "name": "stdout",
     "output_type": "stream",
     "text": [
      "[-0.0, 0.02]\n",
      "[0.26671429705485433, 0.6188047647890168]\n",
      "mAP strict= 0.01 ; mAP relaxed = 0.44275953092193554\n",
      "2023-05-03 15:06:52 - mAP strict:   \t1.00\n",
      "2023-05-03 15:06:52 - mAP relaxed:   \t44.28\n",
      "2023-05-03 15:08:07 - TripletEvaluator: Evaluating the model on dev dataset in epoch 2 after 2500 steps:\n",
      "[0.10615384615384615, 0.03315491462443599]\n",
      "[0.5316043956043955, 0.629425816155003]\n",
      "mAP strict= 0.06965438038914107 ; mAP relaxed = 0.5805151058796993\n",
      "2023-05-03 15:08:07 - mAP strict:   \t6.97\n",
      "2023-05-03 15:08:07 - mAP relaxed:   \t58.05\n",
      "2023-05-03 15:09:21 - TripletEvaluator: Evaluating the model on dev dataset in epoch 2 after 3000 steps:\n"
     ]
    },
    {
     "name": "stderr",
     "output_type": "stream",
     "text": [
      "/home/an/anaconda3/envs/deep_learning_env_2/lib/python3.9/site-packages/sklearn/metrics/_ranking.py:891: UserWarning: No positive class found in y_true, recall is set to one for all thresholds.\n",
      "  warnings.warn(\n"
     ]
    },
    {
     "name": "stdout",
     "output_type": "stream",
     "text": [
      "[-0.0, 0.07743277373347199]\n",
      "[0.5636174636174636, 0.6383999060231557]\n",
      "mAP strict= 0.038716386866735994 ; mAP relaxed = 0.6010086848203096\n",
      "2023-05-03 15:09:21 - mAP strict:   \t3.87\n",
      "2023-05-03 15:09:21 - mAP relaxed:   \t60.10\n",
      "2023-05-03 15:09:55 - TripletEvaluator: Evaluating the model on dev dataset after epoch 2:\n",
      "[0.09230769230769231, 0.11023622047244094]\n",
      "[0.5663817663817664, 0.6423368953880765]\n",
      "mAP strict= 0.10127195639006663 ; mAP relaxed = 0.6043593308849214\n",
      "2023-05-03 15:09:56 - mAP strict:   \t10.13\n",
      "2023-05-03 15:09:56 - mAP relaxed:   \t60.44\n"
     ]
    },
    {
     "data": {
      "application/vnd.jupyter.widget-view+json": {
       "model_id": "9f1384064eeb4689b8cc735c1973b563",
       "version_major": 2,
       "version_minor": 0
      },
      "text/plain": [
       "Iteration:   0%|          | 0/3233 [00:00<?, ?it/s]"
      ]
     },
     "metadata": {},
     "output_type": "display_data"
    },
    {
     "name": "stdout",
     "output_type": "stream",
     "text": [
      "2023-05-03 15:11:10 - TripletEvaluator: Evaluating the model on dev dataset in epoch 3 after 500 steps:\n"
     ]
    },
    {
     "name": "stderr",
     "output_type": "stream",
     "text": [
      "/home/an/anaconda3/envs/deep_learning_env_2/lib/python3.9/site-packages/sklearn/metrics/_ranking.py:891: UserWarning: No positive class found in y_true, recall is set to one for all thresholds.\n",
      "  warnings.warn(\n"
     ]
    },
    {
     "name": "stdout",
     "output_type": "stream",
     "text": [
      "[0.015384615384615385, -0.0]\n",
      "[0.46282051282051284, 0.5949209249561509]\n",
      "mAP strict= 0.007692307692307693 ; mAP relaxed = 0.5288707188883319\n",
      "2023-05-03 15:11:11 - mAP strict:   \t0.77\n",
      "2023-05-03 15:11:11 - mAP relaxed:   \t52.89\n",
      "2023-05-03 15:12:23 - TripletEvaluator: Evaluating the model on dev dataset in epoch 3 after 1000 steps:\n",
      "[0.046153846153846156, 0.007874015748031496]\n",
      "[0.426868466219379, 0.6861004740638099]\n",
      "mAP strict= 0.027013930950938826 ; mAP relaxed = 0.5564844701415945\n",
      "2023-05-03 15:12:24 - mAP strict:   \t2.70\n",
      "2023-05-03 15:12:24 - mAP relaxed:   \t55.65\n",
      "2023-05-03 15:13:39 - TripletEvaluator: Evaluating the model on dev dataset in epoch 3 after 1500 steps:\n",
      "[0.024818577648766327, 0.017489400363416112]\n",
      "[0.6289308176100629, 0.6790394413368013]\n",
      "mAP strict= 0.02115398900609122 ; mAP relaxed = 0.653985129473432\n",
      "2023-05-03 15:13:39 - mAP strict:   \t2.12\n",
      "2023-05-03 15:13:39 - mAP relaxed:   \t65.40\n",
      "2023-05-03 15:14:52 - TripletEvaluator: Evaluating the model on dev dataset in epoch 3 after 2000 steps:\n",
      "[0.015384615384615385, 0.057888597258676]\n",
      "[0.4823717948717949, 0.6693980325630028]\n",
      "mAP strict= 0.03663660632164569 ; mAP relaxed = 0.5758849137173988\n",
      "2023-05-03 15:14:52 - mAP strict:   \t3.66\n",
      "2023-05-03 15:14:52 - mAP relaxed:   \t57.59\n",
      "2023-05-03 15:16:06 - TripletEvaluator: Evaluating the model on dev dataset in epoch 3 after 2500 steps:\n"
     ]
    },
    {
     "name": "stderr",
     "output_type": "stream",
     "text": [
      "/home/an/anaconda3/envs/deep_learning_env_2/lib/python3.9/site-packages/sklearn/metrics/_ranking.py:891: UserWarning: No positive class found in y_true, recall is set to one for all thresholds.\n",
      "  warnings.warn(\n"
     ]
    },
    {
     "name": "stdout",
     "output_type": "stream",
     "text": [
      "[-0.0, 0.02963692038495188]\n",
      "[0.587847897525317, 0.7328939219676192]\n",
      "mAP strict= 0.01481846019247594 ; mAP relaxed = 0.6603709097464681\n",
      "2023-05-03 15:16:07 - mAP strict:   \t1.48\n",
      "2023-05-03 15:16:07 - mAP relaxed:   \t66.04\n",
      "2023-05-03 15:17:20 - TripletEvaluator: Evaluating the model on dev dataset in epoch 3 after 3000 steps:\n",
      "[0.037058538945331405, 0.07225426608907928]\n",
      "[0.36966618287373004, 0.6696515329200872]\n",
      "mAP strict= 0.05465640251720534 ; mAP relaxed = 0.5196588578969086\n",
      "2023-05-03 15:17:21 - mAP strict:   \t5.47\n",
      "2023-05-03 15:17:21 - mAP relaxed:   \t51.97\n",
      "2023-05-03 15:17:55 - TripletEvaluator: Evaluating the model on dev dataset after epoch 3:\n",
      "[0.046153846153846156, 0.031496062992125984]\n",
      "[0.3866629606467005, 0.7216097987751531]\n",
      "mAP strict= 0.03882495457298607 ; mAP relaxed = 0.5541363797109268\n",
      "2023-05-03 15:17:55 - mAP strict:   \t3.88\n",
      "2023-05-03 15:17:55 - mAP relaxed:   \t55.41\n"
     ]
    },
    {
     "data": {
      "application/vnd.jupyter.widget-view+json": {
       "model_id": "fde3fee9eafe4d6da663bb14d6715a5f",
       "version_major": 2,
       "version_minor": 0
      },
      "text/plain": [
       "Iteration:   0%|          | 0/3233 [00:00<?, ?it/s]"
      ]
     },
     "metadata": {},
     "output_type": "display_data"
    },
    {
     "name": "stdout",
     "output_type": "stream",
     "text": [
      "2023-05-03 15:19:08 - TripletEvaluator: Evaluating the model on dev dataset in epoch 4 after 500 steps:\n",
      "[0.043589743589743594, 0.043617275113338114]\n",
      "[0.5451923076923078, 0.6741728791661574]\n",
      "mAP strict= 0.04360350935154085 ; mAP relaxed = 0.6096825934292326\n",
      "2023-05-03 15:19:08 - mAP strict:   \t4.36\n",
      "2023-05-03 15:19:08 - mAP relaxed:   \t60.97\n",
      "2023-05-03 15:20:22 - TripletEvaluator: Evaluating the model on dev dataset in epoch 4 after 1000 steps:\n",
      "[0.09523809523809523, 0.023809523809523808]\n",
      "[0.5706563706563706, 0.6508267791827226]\n",
      "mAP strict= 0.05952380952380952 ; mAP relaxed = 0.6107415749195466\n",
      "2023-05-03 15:20:22 - mAP strict:   \t5.95\n",
      "2023-05-03 15:20:22 - mAP relaxed:   \t61.07\n",
      "2023-05-03 15:21:37 - TripletEvaluator: Evaluating the model on dev dataset in epoch 4 after 1500 steps:\n",
      "[0.03870573870573871, 0.025007290755322254]\n",
      "[0.30969030969030964, 0.689890326209224]\n",
      "mAP strict= 0.03185651473053048 ; mAP relaxed = 0.4997903179497668\n",
      "2023-05-03 15:21:38 - mAP strict:   \t3.19\n",
      "2023-05-03 15:21:38 - mAP relaxed:   \t49.98\n",
      "2023-05-03 15:22:52 - TripletEvaluator: Evaluating the model on dev dataset in epoch 4 after 2000 steps:\n",
      "[0.10041862899005757, 0.05439537449123208]\n",
      "[0.334844037949628, 0.6569793843235863]\n",
      "mAP strict= 0.07740700174064483 ; mAP relaxed = 0.49591171113660715\n",
      "2023-05-03 15:22:53 - mAP strict:   \t7.74\n",
      "2023-05-03 15:22:53 - mAP relaxed:   \t49.59\n",
      "2023-05-03 15:24:07 - TripletEvaluator: Evaluating the model on dev dataset in epoch 4 after 2500 steps:\n",
      "[0.05454545454545454, 0.06528871391076116]\n",
      "[0.6633122974586391, 0.7512225445503524]\n",
      "mAP strict= 0.05991708422810785 ; mAP relaxed = 0.7072674210044958\n",
      "2023-05-03 15:24:08 - mAP strict:   \t5.99\n",
      "2023-05-03 15:24:08 - mAP relaxed:   \t70.73\n",
      "2023-05-03 15:25:22 - TripletEvaluator: Evaluating the model on dev dataset in epoch 4 after 3000 steps:\n",
      "[0.06538461538461539, 0.07534618517512898]\n",
      "[0.4669975186104219, 0.7064206153778935]\n",
      "mAP strict= 0.07036540027987218 ; mAP relaxed = 0.5867090669941577\n",
      "2023-05-03 15:25:23 - mAP strict:   \t7.04\n",
      "2023-05-03 15:25:23 - mAP relaxed:   \t58.67\n",
      "2023-05-03 15:25:57 - TripletEvaluator: Evaluating the model on dev dataset after epoch 4:\n",
      "[0.046153846153846156, 0.03937007874015748]\n",
      "[0.3567611336032389, 0.6161646752197933]\n",
      "mAP strict= 0.04276196244700182 ; mAP relaxed = 0.48646290441151613\n",
      "2023-05-03 15:25:58 - mAP strict:   \t4.28\n",
      "2023-05-03 15:25:58 - mAP relaxed:   \t48.65\n"
     ]
    },
    {
     "data": {
      "application/vnd.jupyter.widget-view+json": {
       "model_id": "778127a65ef244cface5b2298e1091f3",
       "version_major": 2,
       "version_minor": 0
      },
      "text/plain": [
       "Iteration:   0%|          | 0/3233 [00:00<?, ?it/s]"
      ]
     },
     "metadata": {},
     "output_type": "display_data"
    },
    {
     "name": "stdout",
     "output_type": "stream",
     "text": [
      "2023-05-03 15:27:12 - TripletEvaluator: Evaluating the model on dev dataset in epoch 5 after 500 steps:\n",
      "[0.06153846153846154, 0.047244094488188976]\n",
      "[0.46794871794871795, 0.6512102653834937]\n",
      "mAP strict= 0.05439127801332526 ; mAP relaxed = 0.5595794916661059\n",
      "2023-05-03 15:27:13 - mAP strict:   \t5.44\n",
      "2023-05-03 15:27:13 - mAP relaxed:   \t55.96\n",
      "2023-05-03 15:28:28 - TripletEvaluator: Evaluating the model on dev dataset in epoch 5 after 1000 steps:\n"
     ]
    },
    {
     "name": "stderr",
     "output_type": "stream",
     "text": [
      "/home/an/anaconda3/envs/deep_learning_env_2/lib/python3.9/site-packages/sklearn/metrics/_ranking.py:891: UserWarning: No positive class found in y_true, recall is set to one for all thresholds.\n",
      "  warnings.warn(\n"
     ]
    },
    {
     "name": "stdout",
     "output_type": "stream",
     "text": [
      "[-0.0, 0.019501922724775682]\n",
      "[0.35, 0.6710406411236899]\n",
      "mAP strict= 0.009750961362387841 ; mAP relaxed = 0.5105203205618449\n",
      "2023-05-03 15:28:28 - mAP strict:   \t0.98\n",
      "2023-05-03 15:28:28 - mAP relaxed:   \t51.05\n",
      "2023-05-03 15:29:43 - TripletEvaluator: Evaluating the model on dev dataset in epoch 5 after 1500 steps:\n",
      "[0.06153846153846154, 0.031914893617021274]\n",
      "[0.3680911680911681, 0.7123054713847634]\n",
      "mAP strict= 0.046726677577741405 ; mAP relaxed = 0.5401983197379657\n",
      "2023-05-03 15:29:43 - mAP strict:   \t4.67\n",
      "2023-05-03 15:29:43 - mAP relaxed:   \t54.02\n",
      "2023-05-03 15:30:57 - TripletEvaluator: Evaluating the model on dev dataset in epoch 5 after 2000 steps:\n",
      "[0.040870240870240875, 0.013826396700412448]\n",
      "[0.396969696969697, 0.6886639170103737]\n",
      "mAP strict= 0.02734831878532666 ; mAP relaxed = 0.5428168069900353\n",
      "2023-05-03 15:30:58 - mAP strict:   \t2.73\n",
      "2023-05-03 15:30:58 - mAP relaxed:   \t54.28\n",
      "2023-05-03 15:32:12 - TripletEvaluator: Evaluating the model on dev dataset in epoch 5 after 2500 steps:\n",
      "[0.015384615384615385, 0.024]\n",
      "[0.4123456790123457, 0.6170743101556749]\n",
      "mAP strict= 0.019692307692307693 ; mAP relaxed = 0.5147099945840103\n",
      "2023-05-03 15:32:12 - mAP strict:   \t1.97\n",
      "2023-05-03 15:32:12 - mAP relaxed:   \t51.47\n",
      "2023-05-03 15:33:27 - TripletEvaluator: Evaluating the model on dev dataset in epoch 5 after 3000 steps:\n",
      "[0.015384615384615385, 0.013157894736842105]\n",
      "[0.4025641025641026, 0.5620469034737637]\n",
      "mAP strict= 0.014271255060728745 ; mAP relaxed = 0.48230550301893316\n",
      "2023-05-03 15:33:27 - mAP strict:   \t1.43\n",
      "2023-05-03 15:33:27 - mAP relaxed:   \t48.23\n",
      "2023-05-03 15:34:02 - TripletEvaluator: Evaluating the model on dev dataset after epoch 5:\n",
      "[0.03076923076923077, 0.02413417834965751]\n",
      "[0.32725752508361206, 0.6547659456634852]\n",
      "mAP strict= 0.02745170455944414 ; mAP relaxed = 0.49101173537354864\n",
      "2023-05-03 15:34:03 - mAP strict:   \t2.75\n",
      "2023-05-03 15:34:03 - mAP relaxed:   \t49.10\n"
     ]
    },
    {
     "data": {
      "application/vnd.jupyter.widget-view+json": {
       "model_id": "2331a05e31f54a7cb6ba3f6f5df55ec1",
       "version_major": 2,
       "version_minor": 0
      },
      "text/plain": [
       "Iteration:   0%|          | 0/3233 [00:00<?, ?it/s]"
      ]
     },
     "metadata": {},
     "output_type": "display_data"
    },
    {
     "name": "stdout",
     "output_type": "stream",
     "text": [
      "2023-05-03 15:35:17 - TripletEvaluator: Evaluating the model on dev dataset in epoch 6 after 500 steps:\n"
     ]
    },
    {
     "name": "stderr",
     "output_type": "stream",
     "text": [
      "/home/an/anaconda3/envs/deep_learning_env_2/lib/python3.9/site-packages/sklearn/metrics/_ranking.py:891: UserWarning: No positive class found in y_true, recall is set to one for all thresholds.\n",
      "  warnings.warn(\n"
     ]
    },
    {
     "name": "stdout",
     "output_type": "stream",
     "text": [
      "[-0.0, 0.031496062992125984]\n",
      "[0.33752913752913755, 0.6932879553738648]\n",
      "mAP strict= 0.015748031496062992 ; mAP relaxed = 0.5154085464515011\n",
      "2023-05-03 15:35:18 - mAP strict:   \t1.57\n",
      "2023-05-03 15:35:18 - mAP relaxed:   \t51.54\n",
      "2023-05-03 15:36:32 - TripletEvaluator: Evaluating the model on dev dataset in epoch 6 after 1000 steps:\n",
      "[0.07692307692307693, 0.04391005178406753]\n",
      "[0.42670203359858533, 0.6301286834527141]\n",
      "mAP strict= 0.06041656435357223 ; mAP relaxed = 0.5284153585256497\n",
      "2023-05-03 15:36:33 - mAP strict:   \t6.04\n",
      "2023-05-03 15:36:33 - mAP relaxed:   \t52.84\n",
      "2023-05-03 15:37:47 - TripletEvaluator: Evaluating the model on dev dataset in epoch 6 after 1500 steps:\n",
      "[0.046153846153846156, 0.0412691060676239]\n",
      "[0.46153846153846156, 0.6439279788462778]\n",
      "mAP strict= 0.04371147611073503 ; mAP relaxed = 0.5527332201923697\n",
      "2023-05-03 15:37:47 - mAP strict:   \t4.37\n",
      "2023-05-03 15:37:47 - mAP relaxed:   \t55.27\n",
      "2023-05-03 15:39:02 - TripletEvaluator: Evaluating the model on dev dataset in epoch 6 after 2000 steps:\n",
      "[0.11282051282051284, 0.0791151106111736]\n",
      "[0.5379953379953379, 0.6181310669499646]\n",
      "mAP strict= 0.09596781171584322 ; mAP relaxed = 0.5780632024726513\n",
      "2023-05-03 15:39:02 - mAP strict:   \t9.60\n",
      "2023-05-03 15:39:02 - mAP relaxed:   \t57.81\n",
      "2023-05-03 15:40:16 - TripletEvaluator: Evaluating the model on dev dataset in epoch 6 after 2500 steps:\n",
      "[0.015384615384615385, 0.02241469816272966]\n",
      "[0.5399698340874812, 0.7677342234394614]\n",
      "mAP strict= 0.018899656773672523 ; mAP relaxed = 0.6538520287634713\n",
      "2023-05-03 15:40:17 - mAP strict:   \t1.89\n",
      "2023-05-03 15:40:17 - mAP relaxed:   \t65.39\n",
      "2023-05-03 15:41:30 - TripletEvaluator: Evaluating the model on dev dataset in epoch 6 after 3000 steps:\n"
     ]
    },
    {
     "name": "stderr",
     "output_type": "stream",
     "text": [
      "/home/an/anaconda3/envs/deep_learning_env_2/lib/python3.9/site-packages/sklearn/metrics/_ranking.py:891: UserWarning: No positive class found in y_true, recall is set to one for all thresholds.\n",
      "  warnings.warn(\n"
     ]
    },
    {
     "name": "stdout",
     "output_type": "stream",
     "text": [
      "[-0.0, 0.06806649168853893]\n",
      "[0.27788951286404595, 0.6374771335401257]\n",
      "mAP strict= 0.034033245844269464 ; mAP relaxed = 0.4576833232020858\n",
      "2023-05-03 15:41:31 - mAP strict:   \t3.40\n",
      "2023-05-03 15:41:31 - mAP relaxed:   \t45.77\n",
      "2023-05-03 15:42:05 - TripletEvaluator: Evaluating the model on dev dataset after epoch 6:\n",
      "[0.03076923076923077, 0.023622047244094488]\n",
      "[0.5141025641025642, 0.651366373320982]\n",
      "mAP strict= 0.02719563900666263 ; mAP relaxed = 0.582734468711773\n",
      "2023-05-03 15:42:05 - mAP strict:   \t2.72\n",
      "2023-05-03 15:42:05 - mAP relaxed:   \t58.27\n"
     ]
    },
    {
     "data": {
      "application/vnd.jupyter.widget-view+json": {
       "model_id": "e34bae5c80854124853b8c6d41ede074",
       "version_major": 2,
       "version_minor": 0
      },
      "text/plain": [
       "Iteration:   0%|          | 0/3233 [00:00<?, ?it/s]"
      ]
     },
     "metadata": {},
     "output_type": "display_data"
    },
    {
     "name": "stdout",
     "output_type": "stream",
     "text": [
      "2023-05-03 15:43:18 - TripletEvaluator: Evaluating the model on dev dataset in epoch 7 after 500 steps:\n",
      "[0.07692307692307693, 0.0759514435695538]\n",
      "[0.45256410256410257, 0.6786587021449906]\n",
      "mAP strict= 0.07643726024631536 ; mAP relaxed = 0.5656114023545465\n",
      "2023-05-03 15:43:19 - mAP strict:   \t7.64\n",
      "2023-05-03 15:43:19 - mAP relaxed:   \t56.56\n",
      "2023-05-03 15:44:33 - TripletEvaluator: Evaluating the model on dev dataset in epoch 7 after 1000 steps:\n",
      "[0.046153846153846156, 0.03750364537766113]\n",
      "[0.4649097287584495, 0.7158512489309623]\n",
      "mAP strict= 0.04182874576575364 ; mAP relaxed = 0.590380488844706\n",
      "2023-05-03 15:44:33 - mAP strict:   \t4.18\n",
      "2023-05-03 15:44:33 - mAP relaxed:   \t59.04\n",
      "2023-05-03 15:45:48 - TripletEvaluator: Evaluating the model on dev dataset in epoch 7 after 1500 steps:\n",
      "[0.05457875457875458, 0.03584388907908251]\n",
      "[0.4908424908424909, 0.5892571037315988]\n",
      "mAP strict= 0.045211321828918544 ; mAP relaxed = 0.5400497972870448\n",
      "2023-05-03 15:45:48 - mAP strict:   \t4.52\n",
      "2023-05-03 15:45:48 - mAP relaxed:   \t54.00\n",
      "2023-05-03 15:47:03 - TripletEvaluator: Evaluating the model on dev dataset in epoch 7 after 2000 steps:\n"
     ]
    },
    {
     "name": "stderr",
     "output_type": "stream",
     "text": [
      "/home/an/anaconda3/envs/deep_learning_env_2/lib/python3.9/site-packages/sklearn/metrics/_ranking.py:891: UserWarning: No positive class found in y_true, recall is set to one for all thresholds.\n",
      "  warnings.warn(\n"
     ]
    },
    {
     "name": "stdout",
     "output_type": "stream",
     "text": [
      "[-0.0, 0.031496062992125984]\n",
      "[0.38461538461538464, 0.7086614173228346]\n",
      "mAP strict= 0.015748031496062992 ; mAP relaxed = 0.5466384009691097\n",
      "2023-05-03 15:47:03 - mAP strict:   \t1.57\n",
      "2023-05-03 15:47:03 - mAP relaxed:   \t54.66\n",
      "2023-05-03 15:48:17 - TripletEvaluator: Evaluating the model on dev dataset in epoch 7 after 2500 steps:\n",
      "[0.15337519623233908, 0.023622047244094488]\n",
      "[0.49399038461538464, 0.5980161570712752]\n",
      "mAP strict= 0.08849862173821679 ; mAP relaxed = 0.5460032708433299\n",
      "2023-05-03 15:48:17 - mAP strict:   \t8.85\n",
      "2023-05-03 15:48:17 - mAP relaxed:   \t54.60\n",
      "2023-05-03 15:49:31 - TripletEvaluator: Evaluating the model on dev dataset in epoch 7 after 3000 steps:\n",
      "[0.135632183908046, 0.027943153447282505]\n",
      "[0.46698610992270617, 0.658409555255784]\n",
      "mAP strict= 0.08178766867766425 ; mAP relaxed = 0.5626978325892451\n",
      "2023-05-03 15:49:31 - mAP strict:   \t8.18\n",
      "2023-05-03 15:49:31 - mAP relaxed:   \t56.27\n",
      "2023-05-03 15:50:05 - TripletEvaluator: Evaluating the model on dev dataset after epoch 7:\n",
      "[0.03076923076923077, 0.2736220472440945]\n",
      "[0.5076923076923077, 0.6037090758392044]\n",
      "mAP strict= 0.15219563900666264 ; mAP relaxed = 0.5557006917657561\n",
      "2023-05-03 15:50:06 - mAP strict:   \t15.22\n",
      "2023-05-03 15:50:06 - mAP relaxed:   \t55.57\n"
     ]
    },
    {
     "data": {
      "application/vnd.jupyter.widget-view+json": {
       "model_id": "b3c2325fc2cf4371857faaa75c4c0403",
       "version_major": 2,
       "version_minor": 0
      },
      "text/plain": [
       "Iteration:   0%|          | 0/3233 [00:00<?, ?it/s]"
      ]
     },
     "metadata": {},
     "output_type": "display_data"
    },
    {
     "name": "stdout",
     "output_type": "stream",
     "text": [
      "2023-05-03 15:51:19 - TripletEvaluator: Evaluating the model on dev dataset in epoch 8 after 500 steps:\n",
      "[0.20056980056980056, 0.03677994198093659]\n",
      "[0.3136363636363636, 0.6160459955829972]\n",
      "mAP strict= 0.11867487127536858 ; mAP relaxed = 0.4648411796096804\n",
      "2023-05-03 15:51:20 - mAP strict:   \t11.87\n",
      "2023-05-03 15:51:20 - mAP relaxed:   \t46.48\n",
      "2023-05-03 15:52:34 - TripletEvaluator: Evaluating the model on dev dataset in epoch 8 after 1000 steps:\n",
      "[0.09230769230769231, 0.047244094488188976]\n",
      "[0.5628551628551629, 0.6166070150322118]\n",
      "mAP strict= 0.06977589339794064 ; mAP relaxed = 0.5897310889436873\n",
      "2023-05-03 15:52:35 - mAP strict:   \t6.98\n",
      "2023-05-03 15:52:35 - mAP relaxed:   \t58.97\n",
      "2023-05-03 15:53:49 - TripletEvaluator: Evaluating the model on dev dataset in epoch 8 after 1500 steps:\n",
      "[0.053098290598290604, 0.007874015748031496]\n",
      "[0.6062678062678063, 0.5945114455629755]\n",
      "mAP strict= 0.03048615317316105 ; mAP relaxed = 0.6003896259153909\n",
      "2023-05-03 15:53:49 - mAP strict:   \t3.05\n",
      "2023-05-03 15:53:49 - mAP relaxed:   \t60.04\n",
      "2023-05-03 15:55:02 - TripletEvaluator: Evaluating the model on dev dataset in epoch 8 after 2000 steps:\n",
      "[0.015384615384615385, 0.022579898100972672]\n",
      "[0.35384615384615387, 0.7089420483339237]\n",
      "mAP strict= 0.01898225674279403 ; mAP relaxed = 0.5313941010900388\n",
      "2023-05-03 15:55:02 - mAP strict:   \t1.90\n",
      "2023-05-03 15:55:02 - mAP relaxed:   \t53.14\n",
      "2023-05-03 15:56:16 - TripletEvaluator: Evaluating the model on dev dataset in epoch 8 after 2500 steps:\n",
      "[0.015384615384615385, 0.023622047244094488]\n",
      "[0.4946386946386946, 0.7055488084418456]\n",
      "mAP strict= 0.019503331314354937 ; mAP relaxed = 0.6000937515402701\n",
      "2023-05-03 15:56:17 - mAP strict:   \t1.95\n",
      "2023-05-03 15:56:17 - mAP relaxed:   \t60.01\n",
      "2023-05-03 15:57:30 - TripletEvaluator: Evaluating the model on dev dataset in epoch 8 after 3000 steps:\n",
      "[0.015384615384615385, 0.09956255468066491]\n",
      "[0.3283833813245578, 0.6068544316575812]\n",
      "mAP strict= 0.05747358503264015 ; mAP relaxed = 0.4676189064910695\n",
      "2023-05-03 15:57:31 - mAP strict:   \t5.75\n",
      "2023-05-03 15:57:31 - mAP relaxed:   \t46.76\n",
      "2023-05-03 15:58:05 - TripletEvaluator: Evaluating the model on dev dataset after epoch 8:\n",
      "[-0.0, 0.04508331807361289]\n",
      "[0.2985576923076923, 0.6986887613702063]\n",
      "mAP strict= 0.022541659036806445 ; mAP relaxed = 0.49862322683894933\n",
      "2023-05-03 15:58:06 - mAP strict:   \t2.25\n",
      "2023-05-03 15:58:06 - mAP relaxed:   \t49.86\n"
     ]
    },
    {
     "name": "stderr",
     "output_type": "stream",
     "text": [
      "/home/an/anaconda3/envs/deep_learning_env_2/lib/python3.9/site-packages/sklearn/metrics/_ranking.py:891: UserWarning: No positive class found in y_true, recall is set to one for all thresholds.\n",
      "  warnings.warn(\n"
     ]
    },
    {
     "data": {
      "application/vnd.jupyter.widget-view+json": {
       "model_id": "54fca449bbe04aba81b5fc4d8eab1577",
       "version_major": 2,
       "version_minor": 0
      },
      "text/plain": [
       "Iteration:   0%|          | 0/3233 [00:00<?, ?it/s]"
      ]
     },
     "metadata": {},
     "output_type": "display_data"
    },
    {
     "name": "stdout",
     "output_type": "stream",
     "text": [
      "2023-05-03 15:59:19 - TripletEvaluator: Evaluating the model on dev dataset in epoch 9 after 500 steps:\n",
      "[0.046153846153846156, 0.08287401574803151]\n",
      "[0.6175824175824176, 0.7675111263266006]\n",
      "mAP strict= 0.06451393095093882 ; mAP relaxed = 0.6925467719545091\n",
      "2023-05-03 15:59:20 - mAP strict:   \t6.45\n",
      "2023-05-03 15:59:20 - mAP relaxed:   \t69.25\n",
      "2023-05-03 16:00:34 - TripletEvaluator: Evaluating the model on dev dataset in epoch 9 after 1000 steps:\n",
      "[0.03333333333333333, 0.05511811023622047]\n",
      "[0.37435897435897436, 0.6653080129689671]\n",
      "mAP strict= 0.044225721784776906 ; mAP relaxed = 0.5198334936639708\n",
      "2023-05-03 16:00:34 - mAP strict:   \t4.42\n",
      "2023-05-03 16:00:34 - mAP relaxed:   \t51.98\n",
      "2023-05-03 16:01:48 - TripletEvaluator: Evaluating the model on dev dataset in epoch 9 after 1500 steps:\n",
      "[0.015384615384615385, 0.03673680134245515]\n",
      "[0.47841191066997524, 0.6505369066199065]\n",
      "mAP strict= 0.026060708363535266 ; mAP relaxed = 0.5644744086449409\n",
      "2023-05-03 16:01:48 - mAP strict:   \t2.61\n",
      "2023-05-03 16:01:48 - mAP relaxed:   \t56.45\n",
      "2023-05-03 16:03:02 - TripletEvaluator: Evaluating the model on dev dataset in epoch 9 after 2000 steps:\n",
      "[0.03076923076923077, 0.035313040138275395]\n",
      "[0.5384615384615384, 0.7216322884276352]\n",
      "mAP strict= 0.03304113545375308 ; mAP relaxed = 0.6300469134445867\n",
      "2023-05-03 16:03:02 - mAP strict:   \t3.30\n",
      "2023-05-03 16:03:02 - mAP relaxed:   \t63.00\n",
      "2023-05-03 16:04:16 - TripletEvaluator: Evaluating the model on dev dataset in epoch 9 after 2500 steps:\n",
      "[0.05417771883289125, 0.015748031496062992]\n",
      "[0.3841791924550545, 0.6548719536246935]\n",
      "mAP strict= 0.03496287516447712 ; mAP relaxed = 0.519525573039874\n",
      "2023-05-03 16:04:17 - mAP strict:   \t3.50\n",
      "2023-05-03 16:04:17 - mAP relaxed:   \t51.95\n",
      "2023-05-03 16:05:31 - TripletEvaluator: Evaluating the model on dev dataset in epoch 9 after 3000 steps:\n",
      "[0.07692307692307693, 0.04395604395604396]\n",
      "[0.4807692307692308, 0.5872619920485648]\n",
      "mAP strict= 0.06043956043956045 ; mAP relaxed = 0.5340156114088978\n",
      "2023-05-03 16:05:32 - mAP strict:   \t6.04\n",
      "2023-05-03 16:05:32 - mAP relaxed:   \t53.40\n",
      "2023-05-03 16:06:06 - TripletEvaluator: Evaluating the model on dev dataset after epoch 9:\n",
      "[0.046153846153846156, 0.022210933310755514]\n",
      "[0.5846153846153846, 0.6574208465877249]\n",
      "mAP strict= 0.03418238973230084 ; mAP relaxed = 0.6210181156015548\n",
      "2023-05-03 16:06:06 - mAP strict:   \t3.42\n",
      "2023-05-03 16:06:06 - mAP relaxed:   \t62.10\n"
     ]
    }
   ],
   "source": [
    "domain = \"Automotive\"\n",
    "# Train, evaluate on Rev-KP\n",
    "train_model(f'./training_material/siamese-data/out-of-category/{domain}/',\n",
    "            f'./training_material/siamese-data/out-of-category/{domain}/',\n",
    "            'dev',\n",
    "            f'./model/ASKPA/out-of-category/{domain}/',\n",
    "            './model/roberta-large-pretrained-yelp/checkpoint-134060/',\n",
    "            model_suffix='contrastive-10-epochs',\n",
    "            data_file_suffix='contrastive',\n",
    "            num_epochs=10, max_seq_length=128, add_special_token=True, train_batch_size=16, loss='ContrastiveLoss')"
   ]
  },
  {
   "cell_type": "markdown",
   "id": "c5dccc36",
   "metadata": {},
   "source": [
    "## Beauty & Spas"
   ]
  },
  {
   "cell_type": "code",
   "execution_count": 69,
   "id": "21e29145",
   "metadata": {},
   "outputs": [
    {
     "name": "stderr",
     "output_type": "stream",
     "text": [
      "Some weights of the model checkpoint at ./model/roberta-large-finetuned-yelp/checkpoint-134060/ were not used when initializing RobertaModel: ['lm_head.layer_norm.bias', 'lm_head.dense.weight', 'lm_head.bias', 'lm_head.layer_norm.weight', 'lm_head.dense.bias']\n",
      "- This IS expected if you are initializing RobertaModel from the checkpoint of a model trained on another task or with another architecture (e.g. initializing a BertForSequenceClassification model from a BertForPreTraining model).\n",
      "- This IS NOT expected if you are initializing RobertaModel from the checkpoint of a model that you expect to be exactly identical (initializing a BertForSequenceClassification model from a BertForSequenceClassification model).\n",
      "Some weights of RobertaModel were not initialized from the model checkpoint at ./model/roberta-large-finetuned-yelp/checkpoint-134060/ and are newly initialized: ['roberta.pooler.dense.bias', 'roberta.pooler.dense.weight']\n",
      "You should probably TRAIN this model on a down-stream task to be able to use it for predictions and inference.\n"
     ]
    },
    {
     "name": "stdout",
     "output_type": "stream",
     "text": [
      "2023-05-04 03:45:35 - Use pytorch device: cuda\n",
      "2023-05-04 03:45:35 - Read Triplet train dataset\n"
     ]
    },
    {
     "data": {
      "application/vnd.jupyter.widget-view+json": {
       "model_id": "5f7e4832279f4c3095038a79e19af6c3",
       "version_major": 2,
       "version_minor": 0
      },
      "text/plain": [
       "Epoch:   0%|          | 0/10 [00:00<?, ?it/s]"
      ]
     },
     "metadata": {},
     "output_type": "display_data"
    },
    {
     "data": {
      "application/vnd.jupyter.widget-view+json": {
       "model_id": "e32739efaf774799af7239f6328bd17d",
       "version_major": 2,
       "version_minor": 0
      },
      "text/plain": [
       "Iteration:   0%|          | 0/3144 [00:00<?, ?it/s]"
      ]
     },
     "metadata": {},
     "output_type": "display_data"
    },
    {
     "name": "stdout",
     "output_type": "stream",
     "text": [
      "2023-05-04 03:46:52 - TripletEvaluator: Evaluating the model on dev dataset in epoch 0 after 500 steps:\n",
      "[0.5255867492801817, 0.6525871155558585]\n",
      "[0.8268434811710225, 0.7628265699794214]\n",
      "mAP strict= 0.5890869324180201 ; mAP relaxed = 0.7948350255752219\n",
      "2023-05-04 03:46:52 - mAP strict:   \t58.91\n",
      "2023-05-04 03:46:52 - mAP relaxed:   \t79.48\n",
      "2023-05-04 03:46:52 - Save model to ./keypoint-analysis-sharedtask/siamese-models/aspect-opinion-6_1/domain/new/leave_one_out/Beauty & Spas/roberta-large-yelp-pretrained-contrastive-10-epochs-2023-05-04_03-45-31\n",
      "2023-05-04 03:48:09 - TripletEvaluator: Evaluating the model on dev dataset in epoch 0 after 1000 steps:\n",
      "[0.6923620887770188, 0.7593085210012722]\n",
      "[0.8095024532996365, 0.9370820429593967]\n",
      "mAP strict= 0.7258353048891455 ; mAP relaxed = 0.8732922481295167\n",
      "2023-05-04 03:48:10 - mAP strict:   \t72.58\n",
      "2023-05-04 03:48:10 - mAP relaxed:   \t87.33\n",
      "2023-05-04 03:48:10 - Save model to ./keypoint-analysis-sharedtask/siamese-models/aspect-opinion-6_1/domain/new/leave_one_out/Beauty & Spas/roberta-large-yelp-pretrained-contrastive-10-epochs-2023-05-04_03-45-31\n",
      "2023-05-04 03:49:26 - TripletEvaluator: Evaluating the model on dev dataset in epoch 0 after 1500 steps:\n",
      "[0.6562548382134944, 0.6032715583430843]\n",
      "[0.7199471234201609, 0.9409575600730775]\n",
      "mAP strict= 0.6297631982782894 ; mAP relaxed = 0.8304523417466192\n",
      "2023-05-04 03:49:27 - mAP strict:   \t62.98\n",
      "2023-05-04 03:49:27 - mAP relaxed:   \t83.05\n",
      "2023-05-04 03:50:41 - TripletEvaluator: Evaluating the model on dev dataset in epoch 0 after 2000 steps:\n",
      "[0.9471607016238937, 0.7542023381609505]\n",
      "[0.9098736478574322, 0.9585027384137155]\n",
      "mAP strict= 0.850681519892422 ; mAP relaxed = 0.9341881931355738\n",
      "2023-05-04 03:50:41 - mAP strict:   \t85.07\n",
      "2023-05-04 03:50:41 - mAP relaxed:   \t93.42\n",
      "2023-05-04 03:50:41 - Save model to ./keypoint-analysis-sharedtask/siamese-models/aspect-opinion-6_1/domain/new/leave_one_out/Beauty & Spas/roberta-large-yelp-pretrained-contrastive-10-epochs-2023-05-04_03-45-31\n",
      "2023-05-04 03:51:59 - TripletEvaluator: Evaluating the model on dev dataset in epoch 0 after 2500 steps:\n",
      "[0.8005306798674543, 0.7749798708086003]\n",
      "[0.9469530220830685, 0.9523592084693813]\n",
      "mAP strict= 0.7877552753380272 ; mAP relaxed = 0.9496561152762248\n",
      "2023-05-04 03:52:00 - mAP strict:   \t78.78\n",
      "2023-05-04 03:52:00 - mAP relaxed:   \t94.97\n",
      "2023-05-04 03:53:15 - TripletEvaluator: Evaluating the model on dev dataset in epoch 0 after 3000 steps:\n",
      "[0.7612597076659036, 0.7853378782719562]\n",
      "[0.9594356792477973, 0.9590275728417753]\n",
      "mAP strict= 0.7732987929689299 ; mAP relaxed = 0.9592316260447863\n",
      "2023-05-04 03:53:15 - mAP strict:   \t77.33\n",
      "2023-05-04 03:53:15 - mAP relaxed:   \t95.92\n",
      "2023-05-04 03:53:37 - TripletEvaluator: Evaluating the model on dev dataset after epoch 0:\n",
      "[0.4747128861334079, 0.5156725144697247]\n",
      "[0.7353280570197508, 0.5991811351736694]\n",
      "mAP strict= 0.4951927003015663 ; mAP relaxed = 0.6672545960967101\n",
      "2023-05-04 03:53:37 - mAP strict:   \t49.52\n",
      "2023-05-04 03:53:37 - mAP relaxed:   \t66.73\n"
     ]
    },
    {
     "data": {
      "application/vnd.jupyter.widget-view+json": {
       "model_id": "ac9d45f12b894c3fb855f08d04914ce3",
       "version_major": 2,
       "version_minor": 0
      },
      "text/plain": [
       "Iteration:   0%|          | 0/3144 [00:00<?, ?it/s]"
      ]
     },
     "metadata": {},
     "output_type": "display_data"
    },
    {
     "name": "stdout",
     "output_type": "stream",
     "text": [
      "2023-05-04 03:54:51 - TripletEvaluator: Evaluating the model on dev dataset in epoch 1 after 500 steps:\n",
      "[0.9408804828787394, 0.45775968095840847]\n",
      "[0.9390915369037938, 0.9946290636921686]\n",
      "mAP strict= 0.6993200819185739 ; mAP relaxed = 0.9668603002979812\n",
      "2023-05-04 03:54:51 - mAP strict:   \t69.93\n",
      "2023-05-04 03:54:51 - mAP relaxed:   \t96.69\n",
      "2023-05-04 03:56:05 - TripletEvaluator: Evaluating the model on dev dataset in epoch 1 after 1000 steps:\n",
      "[0.9668844698707184, 0.8924398273080745]\n",
      "[0.9606664255305782, 0.9346903657632145]\n",
      "mAP strict= 0.9296621485893964 ; mAP relaxed = 0.9476783956468964\n",
      "2023-05-04 03:56:06 - mAP strict:   \t92.97\n",
      "2023-05-04 03:56:06 - mAP relaxed:   \t94.77\n",
      "2023-05-04 03:56:06 - Save model to ./keypoint-analysis-sharedtask/siamese-models/aspect-opinion-6_1/domain/new/leave_one_out/Beauty & Spas/roberta-large-yelp-pretrained-contrastive-10-epochs-2023-05-04_03-45-31\n",
      "2023-05-04 03:57:22 - TripletEvaluator: Evaluating the model on dev dataset in epoch 1 after 1500 steps:\n",
      "[0.9811306648263168, 0.8314042688428269]\n",
      "[0.93570308311901, 0.9549833106126346]\n",
      "mAP strict= 0.9062674668345718 ; mAP relaxed = 0.9453431968658224\n",
      "2023-05-04 03:57:23 - mAP strict:   \t90.63\n",
      "2023-05-04 03:57:23 - mAP relaxed:   \t94.53\n",
      "2023-05-04 03:58:37 - TripletEvaluator: Evaluating the model on dev dataset in epoch 1 after 2000 steps:\n",
      "[0.9412347843263456, 0.6827544209159089]\n",
      "[0.9382023557055631, 0.9460368057417807]\n",
      "mAP strict= 0.8119946026211272 ; mAP relaxed = 0.942119580723672\n",
      "2023-05-04 03:58:38 - mAP strict:   \t81.20\n",
      "2023-05-04 03:58:38 - mAP relaxed:   \t94.21\n",
      "2023-05-04 03:59:52 - TripletEvaluator: Evaluating the model on dev dataset in epoch 1 after 2500 steps:\n",
      "[0.08376068376068377, 0.03636363636363636]\n",
      "[0.6928443649373881, 0.6380906619807255]\n",
      "mAP strict= 0.060062160062160065 ; mAP relaxed = 0.6654675134590569\n",
      "2023-05-04 03:59:52 - mAP strict:   \t6.01\n",
      "2023-05-04 03:59:52 - mAP relaxed:   \t66.55\n",
      "2023-05-04 04:01:06 - TripletEvaluator: Evaluating the model on dev dataset in epoch 1 after 3000 steps:\n",
      "[0.027579737335834898, 0.06201550387596899]\n",
      "[0.4639462163852408, 0.7650643849338048]\n",
      "mAP strict= 0.04479762060590194 ; mAP relaxed = 0.6145053006595228\n",
      "2023-05-04 04:01:07 - mAP strict:   \t4.48\n",
      "2023-05-04 04:01:07 - mAP relaxed:   \t61.45\n",
      "2023-05-04 04:01:28 - TripletEvaluator: Evaluating the model on dev dataset after epoch 1:\n",
      "[0.03076923076923077, 0.05219638242894057]\n",
      "[0.43766578249336874, 0.6663102557248508]\n",
      "mAP strict= 0.04148280659908567 ; mAP relaxed = 0.5519880191091098\n",
      "2023-05-04 04:01:28 - mAP strict:   \t4.15\n",
      "2023-05-04 04:01:28 - mAP relaxed:   \t55.20\n"
     ]
    },
    {
     "data": {
      "application/vnd.jupyter.widget-view+json": {
       "model_id": "5dc7a9605f2f4e549dc28110de42f3bf",
       "version_major": 2,
       "version_minor": 0
      },
      "text/plain": [
       "Iteration:   0%|          | 0/3144 [00:00<?, ?it/s]"
      ]
     },
     "metadata": {},
     "output_type": "display_data"
    },
    {
     "name": "stdout",
     "output_type": "stream",
     "text": [
      "2023-05-04 04:02:43 - TripletEvaluator: Evaluating the model on dev dataset in epoch 2 after 500 steps:\n"
     ]
    },
    {
     "name": "stderr",
     "output_type": "stream",
     "text": [
      "/home/an/anaconda3/envs/deep_learning_env_2/lib/python3.9/site-packages/sklearn/metrics/_ranking.py:891: UserWarning: No positive class found in y_true, recall is set to one for all thresholds.\n",
      "  warnings.warn(\n"
     ]
    },
    {
     "name": "stdout",
     "output_type": "stream",
     "text": [
      "[-0.0, 0.05047988187523071]\n",
      "[0.4445633314054367, 0.6836512498911245]\n",
      "mAP strict= 0.025239940937615356 ; mAP relaxed = 0.5641072906482806\n",
      "2023-05-04 04:02:43 - mAP strict:   \t2.52\n",
      "2023-05-04 04:02:43 - mAP relaxed:   \t56.41\n",
      "2023-05-04 04:03:57 - TripletEvaluator: Evaluating the model on dev dataset in epoch 2 after 1000 steps:\n",
      "[0.023449131513647643, 0.034022394487510765]\n",
      "[0.3361689502643219, 0.6557548021543539]\n",
      "mAP strict= 0.028735763000579204 ; mAP relaxed = 0.4959618762093379\n",
      "2023-05-04 04:03:57 - mAP strict:   \t2.87\n",
      "2023-05-04 04:03:57 - mAP relaxed:   \t49.60\n",
      "2023-05-04 04:05:12 - TripletEvaluator: Evaluating the model on dev dataset in epoch 2 after 1500 steps:\n",
      "[0.039541160593792174, 0.015503875968992248]\n",
      "[0.43097165991902836, 0.5882147228536458]\n",
      "mAP strict= 0.02752251828139221 ; mAP relaxed = 0.5095931913863371\n",
      "2023-05-04 04:05:12 - mAP strict:   \t2.75\n",
      "2023-05-04 04:05:12 - mAP relaxed:   \t50.96\n",
      "2023-05-04 04:06:25 - TripletEvaluator: Evaluating the model on dev dataset in epoch 2 after 2000 steps:\n",
      "[0.1, 0.031128875968992248]\n",
      "[0.4397877984084881, 0.6617654692691031]\n",
      "mAP strict= 0.06556443798449613 ; mAP relaxed = 0.5507766338387956\n",
      "2023-05-04 04:06:26 - mAP strict:   \t6.56\n",
      "2023-05-04 04:06:26 - mAP relaxed:   \t55.08\n",
      "2023-05-04 04:07:39 - TripletEvaluator: Evaluating the model on dev dataset in epoch 2 after 2500 steps:\n"
     ]
    },
    {
     "name": "stderr",
     "output_type": "stream",
     "text": [
      "/home/an/anaconda3/envs/deep_learning_env_2/lib/python3.9/site-packages/sklearn/metrics/_ranking.py:891: UserWarning: No positive class found in y_true, recall is set to one for all thresholds.\n",
      "  warnings.warn(\n"
     ]
    },
    {
     "name": "stdout",
     "output_type": "stream",
     "text": [
      "[-0.0, 0.023255813953488372]\n",
      "[0.4755074645079933, 0.8138912029647853]\n",
      "mAP strict= 0.011627906976744186 ; mAP relaxed = 0.6446993337363893\n",
      "2023-05-04 04:07:39 - mAP strict:   \t1.16\n",
      "2023-05-04 04:07:39 - mAP relaxed:   \t64.47\n",
      "2023-05-04 04:08:54 - TripletEvaluator: Evaluating the model on dev dataset in epoch 2 after 3000 steps:\n",
      "[0.07692307692307693, 0.04434108527131783]\n",
      "[0.4307692307692308, 0.7020327304048234]\n",
      "mAP strict= 0.06063208109719738 ; mAP relaxed = 0.5664009805870271\n",
      "2023-05-04 04:08:54 - mAP strict:   \t6.06\n",
      "2023-05-04 04:08:54 - mAP relaxed:   \t56.64\n",
      "2023-05-04 04:09:16 - TripletEvaluator: Evaluating the model on dev dataset after epoch 2:\n",
      "[-0.0, 0.017699115044247787]\n",
      "[0.5841634276416885, 0.6815102558825546]\n",
      "mAP strict= 0.008849557522123894 ; mAP relaxed = 0.6328368417621215\n",
      "2023-05-04 04:09:16 - mAP strict:   \t0.88\n",
      "2023-05-04 04:09:16 - mAP relaxed:   \t63.28\n"
     ]
    },
    {
     "name": "stderr",
     "output_type": "stream",
     "text": [
      "/home/an/anaconda3/envs/deep_learning_env_2/lib/python3.9/site-packages/sklearn/metrics/_ranking.py:891: UserWarning: No positive class found in y_true, recall is set to one for all thresholds.\n",
      "  warnings.warn(\n"
     ]
    },
    {
     "data": {
      "application/vnd.jupyter.widget-view+json": {
       "model_id": "7f8931c658d34644b0e3c9a499b56a3d",
       "version_major": 2,
       "version_minor": 0
      },
      "text/plain": [
       "Iteration:   0%|          | 0/3144 [00:00<?, ?it/s]"
      ]
     },
     "metadata": {},
     "output_type": "display_data"
    },
    {
     "name": "stdout",
     "output_type": "stream",
     "text": [
      "2023-05-04 04:10:30 - TripletEvaluator: Evaluating the model on dev dataset in epoch 3 after 500 steps:\n",
      "[0.015384615384615385, 0.031007751937984496]\n",
      "[0.6530583214793741, 0.6921311246892643]\n",
      "mAP strict= 0.02319618366129994 ; mAP relaxed = 0.6725947230843192\n",
      "2023-05-04 04:10:30 - mAP strict:   \t2.32\n",
      "2023-05-04 04:10:30 - mAP relaxed:   \t67.26\n",
      "2023-05-04 04:11:44 - TripletEvaluator: Evaluating the model on dev dataset in epoch 3 after 1000 steps:\n",
      "[0.051255886970172686, 0.015503875968992248]\n",
      "[0.6860152767129511, 0.680259433117139]\n",
      "mAP strict= 0.03337988146958247 ; mAP relaxed = 0.683137354915045\n",
      "2023-05-04 04:11:44 - mAP strict:   \t3.34\n",
      "2023-05-04 04:11:44 - mAP relaxed:   \t68.31\n",
      "2023-05-04 04:12:58 - TripletEvaluator: Evaluating the model on dev dataset in epoch 3 after 1500 steps:\n",
      "[0.03743589743589744, 0.031007751937984496]\n",
      "[0.5207239819004525, 0.774391351744186]\n",
      "mAP strict= 0.03422182468694097 ; mAP relaxed = 0.6475576668223193\n",
      "2023-05-04 04:12:58 - mAP strict:   \t3.42\n",
      "2023-05-04 04:12:58 - mAP relaxed:   \t64.76\n",
      "2023-05-04 04:14:12 - TripletEvaluator: Evaluating the model on dev dataset in epoch 3 after 2000 steps:\n",
      "[0.16666666666666666, 0.0901094067843202]\n",
      "[0.381980056980057, 0.6446216685585664]\n",
      "mAP strict= 0.12838803672549343 ; mAP relaxed = 0.5133008627693116\n",
      "2023-05-04 04:14:12 - mAP strict:   \t12.84\n",
      "2023-05-04 04:14:12 - mAP relaxed:   \t51.33\n",
      "2023-05-04 04:15:27 - TripletEvaluator: Evaluating the model on dev dataset in epoch 3 after 2500 steps:\n",
      "[0.031746031746031744, 0.048572659037775315]\n",
      "[0.5162526709401709, 0.5235937649535841]\n",
      "mAP strict= 0.04015934539190353 ; mAP relaxed = 0.5199232179468776\n",
      "2023-05-04 04:15:27 - mAP strict:   \t4.02\n",
      "2023-05-04 04:15:27 - mAP relaxed:   \t51.99\n",
      "2023-05-04 04:16:41 - TripletEvaluator: Evaluating the model on dev dataset in epoch 3 after 3000 steps:\n",
      "[0.015384615384615385, 0.023255813953488372]\n",
      "[0.47766749379652607, 0.6426132066553223]\n",
      "mAP strict= 0.01932021466905188 ; mAP relaxed = 0.5601403502259241\n",
      "2023-05-04 04:16:42 - mAP strict:   \t1.93\n",
      "2023-05-04 04:16:42 - mAP relaxed:   \t56.01\n",
      "2023-05-04 04:17:04 - TripletEvaluator: Evaluating the model on dev dataset after epoch 3:\n",
      "[0.043478260869565216, 0.03875968992248062]\n",
      "[0.49102564102564106, 0.6356589147286822]\n",
      "mAP strict= 0.04111897539602292 ; mAP relaxed = 0.5633422778771616\n",
      "2023-05-04 04:17:04 - mAP strict:   \t4.11\n",
      "2023-05-04 04:17:04 - mAP relaxed:   \t56.33\n"
     ]
    },
    {
     "data": {
      "application/vnd.jupyter.widget-view+json": {
       "model_id": "63beeda337f943b18ea098a852316580",
       "version_major": 2,
       "version_minor": 0
      },
      "text/plain": [
       "Iteration:   0%|          | 0/3144 [00:00<?, ?it/s]"
      ]
     },
     "metadata": {},
     "output_type": "display_data"
    },
    {
     "name": "stdout",
     "output_type": "stream",
     "text": [
      "2023-05-04 04:18:17 - TripletEvaluator: Evaluating the model on dev dataset in epoch 4 after 500 steps:\n",
      "[0.07464387464387465, 0.05208503531034983]\n",
      "[0.5608736942070275, 0.6458452950191923]\n",
      "mAP strict= 0.06336445497711224 ; mAP relaxed = 0.6033594946131099\n",
      "2023-05-04 04:18:18 - mAP strict:   \t6.34\n",
      "2023-05-04 04:18:18 - mAP relaxed:   \t60.34\n",
      "2023-05-04 04:19:31 - TripletEvaluator: Evaluating the model on dev dataset in epoch 4 after 1000 steps:\n",
      "[0.06, 0.031007751937984496]\n",
      "[0.3811076923076923, 0.6897756636128729]\n",
      "mAP strict= 0.04550387596899225 ; mAP relaxed = 0.5354416779602826\n",
      "2023-05-04 04:19:32 - mAP strict:   \t4.55\n",
      "2023-05-04 04:19:32 - mAP relaxed:   \t53.54\n",
      "2023-05-04 04:20:46 - TripletEvaluator: Evaluating the model on dev dataset in epoch 4 after 1500 steps:\n"
     ]
    },
    {
     "name": "stderr",
     "output_type": "stream",
     "text": [
      "/home/an/anaconda3/envs/deep_learning_env_2/lib/python3.9/site-packages/sklearn/metrics/_ranking.py:891: UserWarning: No positive class found in y_true, recall is set to one for all thresholds.\n",
      "  warnings.warn(\n"
     ]
    },
    {
     "name": "stdout",
     "output_type": "stream",
     "text": [
      "[-0.0, 0.023255813953488372]\n",
      "[0.28792116973935156, 0.6566369676834793]\n",
      "mAP strict= 0.011627906976744186 ; mAP relaxed = 0.47227906871141545\n",
      "2023-05-04 04:20:46 - mAP strict:   \t1.16\n",
      "2023-05-04 04:20:46 - mAP relaxed:   \t47.23\n",
      "2023-05-04 04:22:01 - TripletEvaluator: Evaluating the model on dev dataset in epoch 4 after 2000 steps:\n",
      "[0.043589743589743594, 0.03875968992248062]\n",
      "[0.3323717948717949, 0.6623897353648757]\n",
      "mAP strict= 0.041174716756112104 ; mAP relaxed = 0.4973807651183353\n",
      "2023-05-04 04:22:01 - mAP strict:   \t4.12\n",
      "2023-05-04 04:22:01 - mAP relaxed:   \t49.74\n",
      "2023-05-04 04:23:15 - TripletEvaluator: Evaluating the model on dev dataset in epoch 4 after 2500 steps:\n",
      "[0.026022913256955812, 0.029208194905869324]\n",
      "[0.3761178396072013, 0.6329237214639287]\n",
      "mAP strict= 0.027615554081412568 ; mAP relaxed = 0.504520780535565\n",
      "2023-05-04 04:23:16 - mAP strict:   \t2.76\n",
      "2023-05-04 04:23:16 - mAP relaxed:   \t50.45\n",
      "2023-05-04 04:24:29 - TripletEvaluator: Evaluating the model on dev dataset in epoch 4 after 3000 steps:\n",
      "[0.015384615384615385, 0.03875968992248062]\n",
      "[0.6072874493927126, 0.6627906976744186]\n",
      "mAP strict= 0.027072152653548003 ; mAP relaxed = 0.6350390735335656\n",
      "2023-05-04 04:24:30 - mAP strict:   \t2.71\n",
      "2023-05-04 04:24:30 - mAP relaxed:   \t63.50\n",
      "2023-05-04 04:24:51 - TripletEvaluator: Evaluating the model on dev dataset after epoch 4:\n",
      "[0.015384615384615385, 0.015503875968992248]\n",
      "[0.47533577533577537, 0.7209302325581395]\n",
      "mAP strict= 0.015444245676803817 ; mAP relaxed = 0.5981330039469575\n",
      "2023-05-04 04:24:51 - mAP strict:   \t1.54\n",
      "2023-05-04 04:24:51 - mAP relaxed:   \t59.81\n"
     ]
    },
    {
     "data": {
      "application/vnd.jupyter.widget-view+json": {
       "model_id": "7f358d4cc6bb4cbbb956d3de83973248",
       "version_major": 2,
       "version_minor": 0
      },
      "text/plain": [
       "Iteration:   0%|          | 0/3144 [00:00<?, ?it/s]"
      ]
     },
     "metadata": {},
     "output_type": "display_data"
    },
    {
     "name": "stdout",
     "output_type": "stream",
     "text": [
      "2023-05-04 04:26:06 - TripletEvaluator: Evaluating the model on dev dataset in epoch 5 after 500 steps:\n",
      "[0.015384615384615385, 0.017241379310344827]\n",
      "[0.5830455259026687, 0.7036302857194345]\n",
      "mAP strict= 0.016312997347480106 ; mAP relaxed = 0.6433379058110515\n",
      "2023-05-04 04:26:07 - mAP strict:   \t1.63\n",
      "2023-05-04 04:26:07 - mAP relaxed:   \t64.33\n",
      "2023-05-04 04:27:21 - TripletEvaluator: Evaluating the model on dev dataset in epoch 5 after 1000 steps:\n",
      "[0.03076923076923077, 0.02666666666666667]\n",
      "[0.47224388514711096, 0.6572556357480176]\n",
      "mAP strict= 0.02871794871794872 ; mAP relaxed = 0.5647497604475643\n",
      "2023-05-04 04:27:21 - mAP strict:   \t2.87\n",
      "2023-05-04 04:27:21 - mAP relaxed:   \t56.47\n",
      "2023-05-04 04:28:36 - TripletEvaluator: Evaluating the model on dev dataset in epoch 5 after 1500 steps:\n",
      "[0.07692307692307693, 0.03575581395348837]\n",
      "[0.4813895781637717, 0.6720930232558139]\n",
      "mAP strict= 0.05633944543828265 ; mAP relaxed = 0.5767413007097928\n",
      "2023-05-04 04:28:36 - mAP strict:   \t5.63\n",
      "2023-05-04 04:28:36 - mAP relaxed:   \t57.67\n",
      "2023-05-04 04:29:50 - TripletEvaluator: Evaluating the model on dev dataset in epoch 5 after 2000 steps:\n",
      "[0.03076923076923077, 0.007751937984496124]\n",
      "[0.5580041580041579, 0.6733926128590971]\n",
      "mAP strict= 0.019260584376863447 ; mAP relaxed = 0.6156983854316276\n",
      "2023-05-04 04:29:50 - mAP strict:   \t1.93\n",
      "2023-05-04 04:29:50 - mAP relaxed:   \t61.57\n",
      "2023-05-04 04:31:04 - TripletEvaluator: Evaluating the model on dev dataset in epoch 5 after 2500 steps:\n",
      "[0.015384615384615385, 0.03875968992248062]\n",
      "[0.692968142968143, 0.6477553454297641]\n",
      "mAP strict= 0.027072152653548003 ; mAP relaxed = 0.6703617441989536\n",
      "2023-05-04 04:31:04 - mAP strict:   \t2.71\n",
      "2023-05-04 04:31:04 - mAP relaxed:   \t67.04\n",
      "2023-05-04 04:32:19 - TripletEvaluator: Evaluating the model on dev dataset in epoch 5 after 3000 steps:\n",
      "[0.046153846153846156, 0.015503875968992248]\n",
      "[0.39743589743589747, 0.7127569935962252]\n",
      "mAP strict= 0.030828861061419202 ; mAP relaxed = 0.5550964455160614\n",
      "2023-05-04 04:32:19 - mAP strict:   \t3.08\n",
      "2023-05-04 04:32:19 - mAP relaxed:   \t55.51\n",
      "2023-05-04 04:32:41 - TripletEvaluator: Evaluating the model on dev dataset after epoch 5:\n",
      "[0.041528406234288585, 0.031007751937984496]\n",
      "[0.6781517860427473, 0.6589147286821705]\n",
      "mAP strict= 0.03626807908613654 ; mAP relaxed = 0.6685332573624589\n",
      "2023-05-04 04:32:41 - mAP strict:   \t3.63\n",
      "2023-05-04 04:32:41 - mAP relaxed:   \t66.85\n"
     ]
    },
    {
     "data": {
      "application/vnd.jupyter.widget-view+json": {
       "model_id": "a3445e4e488841abb9ddccd3240c196b",
       "version_major": 2,
       "version_minor": 0
      },
      "text/plain": [
       "Iteration:   0%|          | 0/3144 [00:00<?, ?it/s]"
      ]
     },
     "metadata": {},
     "output_type": "display_data"
    },
    {
     "name": "stdout",
     "output_type": "stream",
     "text": [
      "2023-05-04 04:33:55 - TripletEvaluator: Evaluating the model on dev dataset in epoch 6 after 500 steps:\n",
      "[0.06525198938992043, 0.043255813953488376]\n",
      "[0.49988632057597576, 0.7340095214020897]\n",
      "mAP strict= 0.0542539016717044 ; mAP relaxed = 0.6169479209890327\n",
      "2023-05-04 04:33:55 - mAP strict:   \t5.43\n",
      "2023-05-04 04:33:55 - mAP relaxed:   \t61.69\n",
      "2023-05-04 04:35:10 - TripletEvaluator: Evaluating the model on dev dataset in epoch 6 after 1000 steps:\n",
      "[0.0761954261954262, 0.023255813953488372]\n",
      "[0.3237897237897238, 0.7376635075299102]\n",
      "mAP strict= 0.049725620074457286 ; mAP relaxed = 0.5307266156598169\n",
      "2023-05-04 04:35:11 - mAP strict:   \t4.97\n",
      "2023-05-04 04:35:11 - mAP relaxed:   \t53.07\n",
      "2023-05-04 04:36:25 - TripletEvaluator: Evaluating the model on dev dataset in epoch 6 after 1500 steps:\n",
      "[0.046153846153846156, 0.05294041506666092]\n",
      "[0.5463675213675214, 0.7387294875666969]\n",
      "mAP strict= 0.04954713061025354 ; mAP relaxed = 0.6425485044671091\n",
      "2023-05-04 04:36:25 - mAP strict:   \t4.95\n",
      "2023-05-04 04:36:25 - mAP relaxed:   \t64.25\n",
      "2023-05-04 04:37:39 - TripletEvaluator: Evaluating the model on dev dataset in epoch 6 after 2000 steps:\n"
     ]
    },
    {
     "name": "stderr",
     "output_type": "stream",
     "text": [
      "/home/an/anaconda3/envs/deep_learning_env_2/lib/python3.9/site-packages/sklearn/metrics/_ranking.py:891: UserWarning: No positive class found in y_true, recall is set to one for all thresholds.\n",
      "  warnings.warn(\n"
     ]
    },
    {
     "name": "stdout",
     "output_type": "stream",
     "text": [
      "[-0.0, 0.015503875968992248]\n",
      "[0.6164816507770667, 0.6801924619085806]\n",
      "mAP strict= 0.007751937984496124 ; mAP relaxed = 0.6483370563428237\n",
      "2023-05-04 04:37:39 - mAP strict:   \t0.78\n",
      "2023-05-04 04:37:39 - mAP relaxed:   \t64.83\n",
      "2023-05-04 04:38:53 - TripletEvaluator: Evaluating the model on dev dataset in epoch 6 after 2500 steps:\n",
      "[0.09230769230769231, 0.015503875968992248]\n",
      "[0.4939005439005439, 0.6907593375616632]\n",
      "mAP strict= 0.05390578413834228 ; mAP relaxed = 0.5923299407311036\n",
      "2023-05-04 04:38:53 - mAP strict:   \t5.39\n",
      "2023-05-04 04:38:53 - mAP relaxed:   \t59.23\n",
      "2023-05-04 04:40:08 - TripletEvaluator: Evaluating the model on dev dataset in epoch 6 after 3000 steps:\n",
      "[0.03076923076923077, 0.06756756756756757]\n",
      "[0.48040865384615383, 0.6242708104574173]\n",
      "mAP strict= 0.04916839916839917 ; mAP relaxed = 0.5523397321517856\n",
      "2023-05-04 04:40:08 - mAP strict:   \t4.92\n",
      "2023-05-04 04:40:08 - mAP relaxed:   \t55.23\n",
      "2023-05-04 04:40:30 - TripletEvaluator: Evaluating the model on dev dataset after epoch 6:\n",
      "[0.015384615384615385, 0.04272794389073459]\n",
      "[0.5493796526054591, 0.7187868395670347]\n",
      "mAP strict= 0.029056279637674987 ; mAP relaxed = 0.6340832460862469\n",
      "2023-05-04 04:40:30 - mAP strict:   \t2.91\n",
      "2023-05-04 04:40:30 - mAP relaxed:   \t63.41\n"
     ]
    },
    {
     "data": {
      "application/vnd.jupyter.widget-view+json": {
       "model_id": "fa5b4dba78f344f49abd23d16fe2957d",
       "version_major": 2,
       "version_minor": 0
      },
      "text/plain": [
       "Iteration:   0%|          | 0/3144 [00:00<?, ?it/s]"
      ]
     },
     "metadata": {},
     "output_type": "display_data"
    },
    {
     "name": "stdout",
     "output_type": "stream",
     "text": [
      "2023-05-04 04:41:44 - TripletEvaluator: Evaluating the model on dev dataset in epoch 7 after 500 steps:\n"
     ]
    },
    {
     "name": "stderr",
     "output_type": "stream",
     "text": [
      "/home/an/anaconda3/envs/deep_learning_env_2/lib/python3.9/site-packages/sklearn/metrics/_ranking.py:891: UserWarning: No positive class found in y_true, recall is set to one for all thresholds.\n",
      "  warnings.warn(\n"
     ]
    },
    {
     "name": "stdout",
     "output_type": "stream",
     "text": [
      "[-0.0, 0.05767441860465117]\n",
      "[0.5503820253820254, 0.7006763778856803]\n",
      "mAP strict= 0.028837209302325584 ; mAP relaxed = 0.6255292016338528\n",
      "2023-05-04 04:41:44 - mAP strict:   \t2.88\n",
      "2023-05-04 04:41:44 - mAP relaxed:   \t62.55\n",
      "2023-05-04 04:42:58 - TripletEvaluator: Evaluating the model on dev dataset in epoch 7 after 1000 steps:\n",
      "[0.03076923076923077, 0.012751937984496125]\n",
      "[0.5032051282051282, 0.7224016149443838]\n",
      "mAP strict= 0.02176058437686345 ; mAP relaxed = 0.6128033715747561\n",
      "2023-05-04 04:42:58 - mAP strict:   \t2.18\n",
      "2023-05-04 04:42:58 - mAP relaxed:   \t61.28\n",
      "2023-05-04 04:44:13 - TripletEvaluator: Evaluating the model on dev dataset in epoch 7 after 1500 steps:\n",
      "[0.06153846153846154, 0.05957918050941306]\n",
      "[0.4307692307692308, 0.7074524312896406]\n",
      "mAP strict= 0.0605588210239373 ; mAP relaxed = 0.5691108310294357\n",
      "2023-05-04 04:44:13 - mAP strict:   \t6.06\n",
      "2023-05-04 04:44:13 - mAP relaxed:   \t56.91\n",
      "2023-05-04 04:45:27 - TripletEvaluator: Evaluating the model on dev dataset in epoch 7 after 2000 steps:\n",
      "[0.05615384615384616, 0.0423728813559322]\n",
      "[0.5567179487179488, 0.62718677158304]\n",
      "mAP strict= 0.04926336375488918 ; mAP relaxed = 0.5919523601504943\n",
      "2023-05-04 04:45:27 - mAP strict:   \t4.93\n",
      "2023-05-04 04:45:27 - mAP relaxed:   \t59.20\n",
      "2023-05-04 04:46:42 - TripletEvaluator: Evaluating the model on dev dataset in epoch 7 after 2500 steps:\n",
      "[0.07472527472527472, 0.04178999295278365]\n",
      "[0.3882417582417583, 0.7134122021801388]\n",
      "mAP strict= 0.05825763383902918 ; mAP relaxed = 0.5508269802109486\n",
      "2023-05-04 04:46:42 - mAP strict:   \t5.83\n",
      "2023-05-04 04:46:42 - mAP relaxed:   \t55.08\n",
      "2023-05-04 04:47:56 - TripletEvaluator: Evaluating the model on dev dataset in epoch 7 after 3000 steps:\n",
      "[0.015384615384615385, 0.05059159526723786]\n",
      "[0.3384615384615385, 0.6551699014979309]\n",
      "mAP strict= 0.03298810532592662 ; mAP relaxed = 0.49681571997973467\n",
      "2023-05-04 04:47:56 - mAP strict:   \t3.30\n",
      "2023-05-04 04:47:56 - mAP relaxed:   \t49.68\n",
      "2023-05-04 04:48:18 - TripletEvaluator: Evaluating the model on dev dataset after epoch 7:\n",
      "[0.05184331797235023, 0.04438257451686865]\n",
      "[0.43652959943282527, 0.6866085519459251]\n",
      "mAP strict= 0.04811294624460944 ; mAP relaxed = 0.5615690756893752\n",
      "2023-05-04 04:48:18 - mAP strict:   \t4.81\n",
      "2023-05-04 04:48:18 - mAP relaxed:   \t56.16\n"
     ]
    },
    {
     "data": {
      "application/vnd.jupyter.widget-view+json": {
       "model_id": "35f2fae317944cdf82dae7daa96c70bd",
       "version_major": 2,
       "version_minor": 0
      },
      "text/plain": [
       "Iteration:   0%|          | 0/3144 [00:00<?, ?it/s]"
      ]
     },
     "metadata": {},
     "output_type": "display_data"
    },
    {
     "name": "stdout",
     "output_type": "stream",
     "text": [
      "2023-05-04 04:49:32 - TripletEvaluator: Evaluating the model on dev dataset in epoch 8 after 500 steps:\n",
      "[0.07788461538461539, 0.028585271317829456]\n",
      "[0.44722222222222224, 0.667091884720861]\n",
      "mAP strict= 0.05323494335122242 ; mAP relaxed = 0.5571570534715417\n",
      "2023-05-04 04:49:32 - mAP strict:   \t5.32\n",
      "2023-05-04 04:49:32 - mAP relaxed:   \t55.72\n",
      "2023-05-04 04:50:46 - TripletEvaluator: Evaluating the model on dev dataset in epoch 8 after 1000 steps:\n",
      "[0.015384615384615385, 0.046511627906976744]\n",
      "[0.4, 0.7402276100940128]\n",
      "mAP strict= 0.030948121645796065 ; mAP relaxed = 0.5701138050470065\n",
      "2023-05-04 04:50:46 - mAP strict:   \t3.09\n",
      "2023-05-04 04:50:46 - mAP relaxed:   \t57.01\n",
      "2023-05-04 04:52:00 - TripletEvaluator: Evaluating the model on dev dataset in epoch 8 after 1500 steps:\n",
      "[0.022727272727272728, 0.015503875968992248]\n",
      "[0.43676151434772126, 0.6202028902287301]\n",
      "mAP strict= 0.019115574348132488 ; mAP relaxed = 0.5284822022882256\n",
      "2023-05-04 04:52:01 - mAP strict:   \t1.91\n",
      "2023-05-04 04:52:01 - mAP relaxed:   \t52.85\n",
      "2023-05-04 04:53:15 - TripletEvaluator: Evaluating the model on dev dataset in epoch 8 after 2000 steps:\n",
      "[0.06153846153846154, 0.007751937984496124]\n",
      "[0.41794871794871796, 0.6361824206587772]\n",
      "mAP strict= 0.03464519976147883 ; mAP relaxed = 0.5270655693037476\n",
      "2023-05-04 04:53:16 - mAP strict:   \t3.46\n",
      "2023-05-04 04:53:16 - mAP relaxed:   \t52.71\n",
      "2023-05-04 04:54:29 - TripletEvaluator: Evaluating the model on dev dataset in epoch 8 after 2500 steps:\n",
      "[0.1052947052947053, 0.023255813953488372]\n",
      "[0.3980833980833981, 0.776687661498708]\n",
      "mAP strict= 0.06427525962409683 ; mAP relaxed = 0.5873855297910531\n",
      "2023-05-04 04:54:29 - mAP strict:   \t6.43\n",
      "2023-05-04 04:54:29 - mAP relaxed:   \t58.74\n",
      "2023-05-04 04:55:44 - TripletEvaluator: Evaluating the model on dev dataset in epoch 8 after 3000 steps:\n",
      "[0.03076923076923077, 0.023255813953488372]\n",
      "[0.4429776674937965, 0.7532810254235291]\n",
      "mAP strict= 0.02701252236135957 ; mAP relaxed = 0.5981293464586628\n",
      "2023-05-04 04:55:44 - mAP strict:   \t2.70\n",
      "2023-05-04 04:55:44 - mAP relaxed:   \t59.81\n",
      "2023-05-04 04:56:08 - TripletEvaluator: Evaluating the model on dev dataset after epoch 8:\n",
      "[0.046153846153846156, 0.014418604651162792]\n",
      "[0.5269619269619269, 0.6673962608299133]\n",
      "mAP strict= 0.030286225402504474 ; mAP relaxed = 0.59717909389592\n",
      "2023-05-04 04:56:09 - mAP strict:   \t3.03\n",
      "2023-05-04 04:56:09 - mAP relaxed:   \t59.72\n"
     ]
    },
    {
     "data": {
      "application/vnd.jupyter.widget-view+json": {
       "model_id": "8a366d2ce7a44b93bcb6931d384fe501",
       "version_major": 2,
       "version_minor": 0
      },
      "text/plain": [
       "Iteration:   0%|          | 0/3144 [00:00<?, ?it/s]"
      ]
     },
     "metadata": {},
     "output_type": "display_data"
    },
    {
     "name": "stdout",
     "output_type": "stream",
     "text": [
      "2023-05-04 04:57:23 - TripletEvaluator: Evaluating the model on dev dataset in epoch 9 after 500 steps:\n",
      "[0.03076923076923077, 0.007751937984496124]\n",
      "[0.4, 0.6124031007751938]\n",
      "mAP strict= 0.019260584376863447 ; mAP relaxed = 0.506201550387597\n",
      "2023-05-04 04:57:24 - mAP strict:   \t1.93\n",
      "2023-05-04 04:57:24 - mAP relaxed:   \t50.62\n",
      "2023-05-04 04:58:38 - TripletEvaluator: Evaluating the model on dev dataset in epoch 9 after 1000 steps:\n",
      "[0.046153846153846156, 0.05426356589147287]\n",
      "[0.532967032967033, 0.7054263565891473]\n",
      "mAP strict= 0.05020870602265951 ; mAP relaxed = 0.6191966947780901\n",
      "2023-05-04 04:58:39 - mAP strict:   \t5.02\n",
      "2023-05-04 04:58:39 - mAP relaxed:   \t61.92\n",
      "2023-05-04 04:59:52 - TripletEvaluator: Evaluating the model on dev dataset in epoch 9 after 1500 steps:\n",
      "[0.062259615384615385, 0.007751937984496124]\n",
      "[0.3711301044634378, 0.7219277245782034]\n",
      "mAP strict= 0.035005776684555755 ; mAP relaxed = 0.5465289145208206\n",
      "2023-05-04 04:59:53 - mAP strict:   \t3.50\n",
      "2023-05-04 04:59:53 - mAP relaxed:   \t54.65\n",
      "2023-05-04 05:01:06 - TripletEvaluator: Evaluating the model on dev dataset in epoch 9 after 2000 steps:\n",
      "[0.046153846153846156, 0.046511627906976744]\n",
      "[0.5897435897435898, 0.7015503875968991]\n",
      "mAP strict= 0.04633273703041145 ; mAP relaxed = 0.6456469886702445\n",
      "2023-05-04 05:01:07 - mAP strict:   \t4.63\n",
      "2023-05-04 05:01:07 - mAP relaxed:   \t64.56\n",
      "2023-05-04 05:02:20 - TripletEvaluator: Evaluating the model on dev dataset in epoch 9 after 2500 steps:\n",
      "[0.03076923076923077, 0.06312292358803986]\n",
      "[0.3632478632478633, 0.660213082827357]\n",
      "mAP strict= 0.04694607717863532 ; mAP relaxed = 0.5117304730376102\n",
      "2023-05-04 05:02:20 - mAP strict:   \t4.69\n",
      "2023-05-04 05:02:20 - mAP relaxed:   \t51.17\n",
      "2023-05-04 05:03:36 - TripletEvaluator: Evaluating the model on dev dataset in epoch 9 after 3000 steps:\n",
      "[0.05854700854700855, 0.015503875968992248]\n",
      "[0.39842796092796096, 0.7307680538555691]\n",
      "mAP strict= 0.0370254422580004 ; mAP relaxed = 0.564598007391765\n",
      "2023-05-04 05:03:36 - mAP strict:   \t3.70\n",
      "2023-05-04 05:03:36 - mAP relaxed:   \t56.46\n",
      "2023-05-04 05:03:58 - TripletEvaluator: Evaluating the model on dev dataset after epoch 9:\n",
      "[0.015384615384615385, 0.038521168753726895]\n",
      "[0.4719602977667494, 0.7011205525740409]\n",
      "mAP strict= 0.02695289206917114 ; mAP relaxed = 0.5865404251703952\n",
      "2023-05-04 05:03:58 - mAP strict:   \t2.70\n",
      "2023-05-04 05:03:58 - mAP relaxed:   \t58.65\n"
     ]
    }
   ],
   "source": [
    "domain = \"Beauty & Spas\"\n",
    "# Train, evaluate on Rev-KP\n",
    "train_model(f'./training_material/siamese-data/out-of-category/{domain}/',\n",
    "            f'./training_material/siamese-data/out-of-category/{domain}/',\n",
    "            'dev',\n",
    "            f'./model/ASKPA/out-of-category/{domain}/',\n",
    "            './model/roberta-large-pretrained-yelp/checkpoint-134060/',\n",
    "            model_suffix='contrastive-10-epochs',\n",
    "            data_file_suffix='contrastive',\n",
    "            num_epochs=10, max_seq_length=128, add_special_token=True, train_batch_size=16, loss='ContrastiveLoss')\n"
   ]
  },
  {
   "cell_type": "markdown",
   "id": "107c74a1",
   "metadata": {},
   "source": [
    "## Hotels"
   ]
  },
  {
   "cell_type": "code",
   "execution_count": 69,
   "id": "f6e6b1cd",
   "metadata": {},
   "outputs": [
    {
     "name": "stderr",
     "output_type": "stream",
     "text": [
      "Some weights of the model checkpoint at ./model/roberta-large-finetuned-yelp/checkpoint-134060/ were not used when initializing RobertaModel: ['lm_head.dense.weight', 'lm_head.dense.bias', 'lm_head.bias', 'lm_head.layer_norm.weight', 'lm_head.layer_norm.bias']\n",
      "- This IS expected if you are initializing RobertaModel from the checkpoint of a model trained on another task or with another architecture (e.g. initializing a BertForSequenceClassification model from a BertForPreTraining model).\n",
      "- This IS NOT expected if you are initializing RobertaModel from the checkpoint of a model that you expect to be exactly identical (initializing a BertForSequenceClassification model from a BertForSequenceClassification model).\n",
      "Some weights of RobertaModel were not initialized from the model checkpoint at ./model/roberta-large-finetuned-yelp/checkpoint-134060/ and are newly initialized: ['roberta.pooler.dense.weight', 'roberta.pooler.dense.bias']\n",
      "You should probably TRAIN this model on a down-stream task to be able to use it for predictions and inference.\n"
     ]
    },
    {
     "name": "stdout",
     "output_type": "stream",
     "text": [
      "2023-05-01 21:07:05 - Use pytorch device: cuda\n",
      "2023-05-01 21:07:05 - Read Triplet train dataset\n"
     ]
    },
    {
     "data": {
      "application/vnd.jupyter.widget-view+json": {
       "model_id": "22cda35a664241b7b1abb63c8e7f7f95",
       "version_major": 2,
       "version_minor": 0
      },
      "text/plain": [
       "Epoch:   0%|          | 0/10 [00:00<?, ?it/s]"
      ]
     },
     "metadata": {},
     "output_type": "display_data"
    },
    {
     "data": {
      "application/vnd.jupyter.widget-view+json": {
       "model_id": "da9236fc100c4637a0013a1a87e60038",
       "version_major": 2,
       "version_minor": 0
      },
      "text/plain": [
       "Iteration:   0%|          | 0/2733 [00:00<?, ?it/s]"
      ]
     },
     "metadata": {},
     "output_type": "display_data"
    },
    {
     "name": "stdout",
     "output_type": "stream",
     "text": [
      "2023-05-01 21:08:21 - TripletEvaluator: Evaluating the model on dev dataset in epoch 0 after 500 steps:\n",
      "[0.43178022981640507, 0.7434017761678011]\n",
      "[0.716371696645102, 0.9364995740791785]\n",
      "mAP strict= 0.5875910029921031 ; mAP relaxed = 0.8264356353621403\n",
      "2023-05-01 21:08:21 - mAP strict:   \t58.76\n",
      "2023-05-01 21:08:21 - mAP relaxed:   \t82.64\n",
      "2023-05-01 21:08:21 - Save model to ./keypoint-analysis-sharedtask/siamese-models/aspect-opinion-6_1/domain/new/leave_one_out/Hotels/roberta-large-yelp-pretrained-contrastive-10-epochs-2023-05-01_21-07-02\n",
      "2023-05-01 21:09:39 - TripletEvaluator: Evaluating the model on dev dataset in epoch 0 after 1000 steps:\n",
      "[0.44261566807569475, 0.8506170300391628]\n",
      "[0.6858842280059075, 0.9582941935773235]\n",
      "mAP strict= 0.6466163490574288 ; mAP relaxed = 0.8220892107916156\n",
      "2023-05-01 21:09:39 - mAP strict:   \t64.66\n",
      "2023-05-01 21:09:39 - mAP relaxed:   \t82.21\n",
      "2023-05-01 21:09:39 - Save model to ./keypoint-analysis-sharedtask/siamese-models/aspect-opinion-6_1/domain/new/leave_one_out/Hotels/roberta-large-yelp-pretrained-contrastive-10-epochs-2023-05-01_21-07-02\n",
      "2023-05-01 21:10:57 - TripletEvaluator: Evaluating the model on dev dataset in epoch 0 after 1500 steps:\n",
      "[0.7987358863778105, 0.739196410012516]\n",
      "[0.8574770256051808, 0.9797729699649737]\n",
      "mAP strict= 0.7689661481951633 ; mAP relaxed = 0.9186249977850772\n",
      "2023-05-01 21:10:57 - mAP strict:   \t76.90\n",
      "2023-05-01 21:10:57 - mAP relaxed:   \t91.86\n",
      "2023-05-01 21:10:57 - Save model to ./keypoint-analysis-sharedtask/siamese-models/aspect-opinion-6_1/domain/new/leave_one_out/Hotels/roberta-large-yelp-pretrained-contrastive-10-epochs-2023-05-01_21-07-02\n",
      "2023-05-01 21:12:15 - TripletEvaluator: Evaluating the model on dev dataset in epoch 0 after 2000 steps:\n",
      "[0.9055809804021611, 0.7276825404071127]\n",
      "[0.9121157183488168, 0.9692082157693074]\n",
      "mAP strict= 0.8166317604046369 ; mAP relaxed = 0.9406619670590621\n",
      "2023-05-01 21:12:15 - mAP strict:   \t81.66\n",
      "2023-05-01 21:12:15 - mAP relaxed:   \t94.07\n",
      "2023-05-01 21:12:15 - Save model to ./keypoint-analysis-sharedtask/siamese-models/aspect-opinion-6_1/domain/new/leave_one_out/Hotels/roberta-large-yelp-pretrained-contrastive-10-epochs-2023-05-01_21-07-02\n",
      "2023-05-01 21:13:33 - TripletEvaluator: Evaluating the model on dev dataset in epoch 0 after 2500 steps:\n",
      "[0.9787703045437158, 0.8504556040953057]\n",
      "[0.9089250530996041, 0.9365136189248506]\n",
      "mAP strict= 0.9146129543195107 ; mAP relaxed = 0.9227193360122274\n",
      "2023-05-01 21:13:33 - mAP strict:   \t91.46\n",
      "2023-05-01 21:13:33 - mAP relaxed:   \t92.27\n",
      "2023-05-01 21:13:33 - Save model to ./keypoint-analysis-sharedtask/siamese-models/aspect-opinion-6_1/domain/new/leave_one_out/Hotels/roberta-large-yelp-pretrained-contrastive-10-epochs-2023-05-01_21-07-02\n",
      "2023-05-01 21:14:11 - TripletEvaluator: Evaluating the model on dev dataset after epoch 0:\n",
      "[0.8994708058192997, 0.4736176638521965]\n",
      "[0.9272558675526305, 0.9965078816091351]\n",
      "mAP strict= 0.6865442348357481 ; mAP relaxed = 0.9618818745808828\n",
      "2023-05-01 21:14:11 - mAP strict:   \t68.65\n",
      "2023-05-01 21:14:11 - mAP relaxed:   \t96.19\n"
     ]
    },
    {
     "data": {
      "application/vnd.jupyter.widget-view+json": {
       "model_id": "49543f58cc00435d93d87105f911fdfe",
       "version_major": 2,
       "version_minor": 0
      },
      "text/plain": [
       "Iteration:   0%|          | 0/2733 [00:00<?, ?it/s]"
      ]
     },
     "metadata": {},
     "output_type": "display_data"
    },
    {
     "name": "stdout",
     "output_type": "stream",
     "text": [
      "2023-05-01 21:15:25 - TripletEvaluator: Evaluating the model on dev dataset in epoch 1 after 500 steps:\n",
      "[0.8401581685666263, 0.8428824123001256]\n",
      "[0.9352030500120978, 0.9909858561522643]\n",
      "mAP strict= 0.841520290433376 ; mAP relaxed = 0.963094453082181\n",
      "2023-05-01 21:15:25 - mAP strict:   \t84.15\n",
      "2023-05-01 21:15:25 - mAP relaxed:   \t96.31\n",
      "2023-05-01 21:16:40 - TripletEvaluator: Evaluating the model on dev dataset in epoch 1 after 1000 steps:\n",
      "[0.7775352420779442, 0.9242176917182059]\n",
      "[0.8304447414788054, 0.9654713133712722]\n",
      "mAP strict= 0.8508764668980751 ; mAP relaxed = 0.8979580274250388\n",
      "2023-05-01 21:16:40 - mAP strict:   \t85.09\n",
      "2023-05-01 21:16:40 - mAP relaxed:   \t89.80\n",
      "2023-05-01 21:17:54 - TripletEvaluator: Evaluating the model on dev dataset in epoch 1 after 1500 steps:\n",
      "[0.7444594705302382, 0.9337233853849736]\n",
      "[0.8771526389972958, 0.9941488511958062]\n",
      "mAP strict= 0.8390914279576058 ; mAP relaxed = 0.935650745096551\n",
      "2023-05-01 21:17:54 - mAP strict:   \t83.91\n",
      "2023-05-01 21:17:54 - mAP relaxed:   \t93.57\n",
      "2023-05-01 21:19:09 - TripletEvaluator: Evaluating the model on dev dataset in epoch 1 after 2000 steps:\n",
      "[0.8310037377062622, 0.9177657747033493]\n",
      "[0.8976683454030441, 0.9577125646199866]\n",
      "mAP strict= 0.8743847562048057 ; mAP relaxed = 0.9276904550115153\n",
      "2023-05-01 21:19:09 - mAP strict:   \t87.44\n",
      "2023-05-01 21:19:09 - mAP relaxed:   \t92.77\n",
      "2023-05-01 21:20:23 - TripletEvaluator: Evaluating the model on dev dataset in epoch 1 after 2500 steps:\n",
      "[0.8576575483237809, 0.5244841625418779]\n",
      "[0.8656390053087503, 0.9198634092451348]\n",
      "mAP strict= 0.6910708554328294 ; mAP relaxed = 0.8927512072769426\n",
      "2023-05-01 21:20:23 - mAP strict:   \t69.11\n",
      "2023-05-01 21:20:23 - mAP relaxed:   \t89.28\n",
      "2023-05-01 21:20:58 - TripletEvaluator: Evaluating the model on dev dataset after epoch 1:\n",
      "[0.9127206546885611, 0.8857816475567468]\n",
      "[0.8989883827364623, 0.9567888329045486]\n",
      "mAP strict= 0.899251151122654 ; mAP relaxed = 0.9278886078205055\n",
      "2023-05-01 21:20:59 - mAP strict:   \t89.93\n",
      "2023-05-01 21:20:59 - mAP relaxed:   \t92.79\n"
     ]
    },
    {
     "data": {
      "application/vnd.jupyter.widget-view+json": {
       "model_id": "b4da886e49524d5194954f4bb1f490ca",
       "version_major": 2,
       "version_minor": 0
      },
      "text/plain": [
       "Iteration:   0%|          | 0/2733 [00:00<?, ?it/s]"
      ]
     },
     "metadata": {},
     "output_type": "display_data"
    },
    {
     "name": "stdout",
     "output_type": "stream",
     "text": [
      "2023-05-01 21:22:13 - TripletEvaluator: Evaluating the model on dev dataset in epoch 2 after 500 steps:\n",
      "[0.6995849840517543, 0.5039199731649544]\n",
      "[0.7945263803893123, 0.7891769575988598]\n",
      "mAP strict= 0.6017524786083543 ; mAP relaxed = 0.791851668994086\n",
      "2023-05-01 21:22:13 - mAP strict:   \t60.18\n",
      "2023-05-01 21:22:13 - mAP relaxed:   \t79.19\n",
      "2023-05-01 21:23:27 - TripletEvaluator: Evaluating the model on dev dataset in epoch 2 after 1000 steps:\n",
      "[0.9564636228251786, 0.12219259498671263]\n",
      "[0.8221740766878084, 0.4278275490900373]\n",
      "mAP strict= 0.5393281089059456 ; mAP relaxed = 0.6250008128889228\n",
      "2023-05-01 21:23:27 - mAP strict:   \t53.93\n",
      "2023-05-01 21:23:27 - mAP relaxed:   \t62.50\n",
      "2023-05-01 21:24:40 - TripletEvaluator: Evaluating the model on dev dataset in epoch 2 after 1500 steps:\n",
      "[0.8932059704368174, 0.7216702785608299]\n",
      "[0.929262030724919, 0.9842095460640659]\n",
      "mAP strict= 0.8074381244988236 ; mAP relaxed = 0.9567357883944925\n",
      "2023-05-01 21:24:40 - mAP strict:   \t80.74\n",
      "2023-05-01 21:24:40 - mAP relaxed:   \t95.67\n",
      "2023-05-01 21:25:53 - TripletEvaluator: Evaluating the model on dev dataset in epoch 2 after 2000 steps:\n",
      "[0.7636506722466894, 0.8962503286385701]\n",
      "[0.8550017395899276, 0.9684597204933285]\n",
      "mAP strict= 0.8299505004426297 ; mAP relaxed = 0.9117307300416281\n",
      "2023-05-01 21:25:53 - mAP strict:   \t83.00\n",
      "2023-05-01 21:25:53 - mAP relaxed:   \t91.17\n",
      "2023-05-01 21:27:05 - TripletEvaluator: Evaluating the model on dev dataset in epoch 2 after 2500 steps:\n",
      "[0.7126537959919848, 0.7750176818508108]\n",
      "[0.8629583653736798, 0.9682686632459284]\n",
      "mAP strict= 0.7438357389213978 ; mAP relaxed = 0.9156135143098041\n",
      "2023-05-01 21:27:06 - mAP strict:   \t74.38\n",
      "2023-05-01 21:27:06 - mAP relaxed:   \t91.56\n",
      "2023-05-01 21:27:40 - TripletEvaluator: Evaluating the model on dev dataset after epoch 2:\n",
      "[0.7573202329704569, 0.8256660752829307]\n",
      "[0.8972841428739271, 0.9817863790959032]\n",
      "mAP strict= 0.7914931541266939 ; mAP relaxed = 0.9395352609849151\n",
      "2023-05-01 21:27:40 - mAP strict:   \t79.15\n",
      "2023-05-01 21:27:40 - mAP relaxed:   \t93.95\n"
     ]
    },
    {
     "data": {
      "application/vnd.jupyter.widget-view+json": {
       "model_id": "6e15facb23c04121a1c820e90064bec4",
       "version_major": 2,
       "version_minor": 0
      },
      "text/plain": [
       "Iteration:   0%|          | 0/2733 [00:00<?, ?it/s]"
      ]
     },
     "metadata": {},
     "output_type": "display_data"
    },
    {
     "name": "stdout",
     "output_type": "stream",
     "text": [
      "2023-05-01 21:28:54 - TripletEvaluator: Evaluating the model on dev dataset in epoch 3 after 500 steps:\n",
      "[0.7619739281600253, 0.9172532040762799]\n",
      "[0.9029751993716442, 0.9651590563935498]\n",
      "mAP strict= 0.8396135661181525 ; mAP relaxed = 0.9340671278825969\n",
      "2023-05-01 21:28:54 - mAP strict:   \t83.96\n",
      "2023-05-01 21:28:54 - mAP relaxed:   \t93.41\n",
      "2023-05-01 21:30:06 - TripletEvaluator: Evaluating the model on dev dataset in epoch 3 after 1000 steps:\n",
      "[0.6213500434587276, 0.93064739356927]\n",
      "[0.9100013967200967, 0.9702852813717839]\n",
      "mAP strict= 0.7759987185139987 ; mAP relaxed = 0.9401433390459404\n",
      "2023-05-01 21:30:06 - mAP strict:   \t77.60\n",
      "2023-05-01 21:30:06 - mAP relaxed:   \t94.01\n",
      "2023-05-01 21:31:19 - TripletEvaluator: Evaluating the model on dev dataset in epoch 3 after 1500 steps:\n",
      "[0.7691913045166163, 0.910214170357498]\n",
      "[0.8958563255707761, 0.9988071504965947]\n",
      "mAP strict= 0.8397027374370571 ; mAP relaxed = 0.9473317380336854\n",
      "2023-05-01 21:31:19 - mAP strict:   \t83.97\n",
      "2023-05-01 21:31:19 - mAP relaxed:   \t94.73\n",
      "2023-05-01 21:32:32 - TripletEvaluator: Evaluating the model on dev dataset in epoch 3 after 2000 steps:\n",
      "[0.720790642361608, 0.6909301783451667]\n",
      "[0.9450033685629612, 0.9951979177127623]\n",
      "mAP strict= 0.7058604103533873 ; mAP relaxed = 0.9701006431378618\n",
      "2023-05-01 21:32:32 - mAP strict:   \t70.59\n",
      "2023-05-01 21:32:32 - mAP relaxed:   \t97.01\n",
      "2023-05-01 21:33:45 - TripletEvaluator: Evaluating the model on dev dataset in epoch 3 after 2500 steps:\n",
      "[0.6691995416312735, 0.7298667036668972]\n",
      "[0.8391932423928788, 0.9602546197645597]\n",
      "mAP strict= 0.6995331226490853 ; mAP relaxed = 0.8997239310787193\n",
      "2023-05-01 21:33:46 - mAP strict:   \t69.95\n",
      "2023-05-01 21:33:46 - mAP relaxed:   \t89.97\n",
      "2023-05-01 21:34:20 - TripletEvaluator: Evaluating the model on dev dataset after epoch 3:\n",
      "[0.826415423728967, 0.6444354146268049]\n",
      "[0.914240149197271, 0.957621357039573]\n",
      "mAP strict= 0.735425419177886 ; mAP relaxed = 0.935930753118422\n",
      "2023-05-01 21:34:20 - mAP strict:   \t73.54\n",
      "2023-05-01 21:34:20 - mAP relaxed:   \t93.59\n"
     ]
    },
    {
     "data": {
      "application/vnd.jupyter.widget-view+json": {
       "model_id": "e9b90366c9124ff48e540db50da89725",
       "version_major": 2,
       "version_minor": 0
      },
      "text/plain": [
       "Iteration:   0%|          | 0/2733 [00:00<?, ?it/s]"
      ]
     },
     "metadata": {},
     "output_type": "display_data"
    },
    {
     "name": "stdout",
     "output_type": "stream",
     "text": [
      "2023-05-01 21:35:34 - TripletEvaluator: Evaluating the model on dev dataset in epoch 4 after 500 steps:\n",
      "[0.6766951709079357, 0.7295089513131792]\n",
      "[0.9303003212017884, 0.9229925943511551]\n",
      "mAP strict= 0.7031020611105574 ; mAP relaxed = 0.9266464577764717\n",
      "2023-05-01 21:35:34 - mAP strict:   \t70.31\n",
      "2023-05-01 21:35:34 - mAP relaxed:   \t92.66\n",
      "2023-05-01 21:36:47 - TripletEvaluator: Evaluating the model on dev dataset in epoch 4 after 1000 steps:\n",
      "[0.8063268816346927, 0.8527378335819044]\n",
      "[0.8868609523282264, 0.9226964018821755]\n",
      "mAP strict= 0.8295323576082985 ; mAP relaxed = 0.9047786771052009\n",
      "2023-05-01 21:36:47 - mAP strict:   \t82.95\n",
      "2023-05-01 21:36:47 - mAP relaxed:   \t90.48\n",
      "2023-05-01 21:37:59 - TripletEvaluator: Evaluating the model on dev dataset in epoch 4 after 1500 steps:\n",
      "[0.8511978787241128, 0.8993450790627014]\n",
      "[0.9453857699684431, 0.9232240195854704]\n",
      "mAP strict= 0.8752714788934071 ; mAP relaxed = 0.9343048947769568\n",
      "2023-05-01 21:38:00 - mAP strict:   \t87.53\n",
      "2023-05-01 21:38:00 - mAP relaxed:   \t93.43\n",
      "2023-05-01 21:39:13 - TripletEvaluator: Evaluating the model on dev dataset in epoch 4 after 2000 steps:\n",
      "[0.8157624229342166, 0.8496040225304454]\n",
      "[0.9655839878446112, 0.985292373597172]\n",
      "mAP strict= 0.8326832227323311 ; mAP relaxed = 0.9754381807208916\n",
      "2023-05-01 21:39:14 - mAP strict:   \t83.27\n",
      "2023-05-01 21:39:14 - mAP relaxed:   \t97.54\n",
      "2023-05-01 21:40:27 - TripletEvaluator: Evaluating the model on dev dataset in epoch 4 after 2500 steps:\n",
      "[0.816346811028315, 0.8870148644825648]\n",
      "[0.9500583664529156, 0.9510043452823345]\n",
      "mAP strict= 0.8516808377554399 ; mAP relaxed = 0.950531355867625\n",
      "2023-05-01 21:40:27 - mAP strict:   \t85.17\n",
      "2023-05-01 21:40:27 - mAP relaxed:   \t95.05\n",
      "2023-05-01 21:41:01 - TripletEvaluator: Evaluating the model on dev dataset after epoch 4:\n",
      "[0.7348040516853975, 0.8594849253334211]\n",
      "[0.9733032354183806, 0.9798545335296927]\n",
      "mAP strict= 0.7971444885094093 ; mAP relaxed = 0.9765788844740366\n",
      "2023-05-01 21:41:02 - mAP strict:   \t79.71\n",
      "2023-05-01 21:41:02 - mAP relaxed:   \t97.66\n"
     ]
    },
    {
     "data": {
      "application/vnd.jupyter.widget-view+json": {
       "model_id": "9236b9f42d054baebb134ff757159c22",
       "version_major": 2,
       "version_minor": 0
      },
      "text/plain": [
       "Iteration:   0%|          | 0/2733 [00:00<?, ?it/s]"
      ]
     },
     "metadata": {},
     "output_type": "display_data"
    },
    {
     "name": "stdout",
     "output_type": "stream",
     "text": [
      "2023-05-01 21:42:14 - TripletEvaluator: Evaluating the model on dev dataset in epoch 5 after 500 steps:\n",
      "[0.7845650248003646, 0.8471806769313074]\n",
      "[0.9666784786112115, 0.9893667768295694]\n",
      "mAP strict= 0.8158728508658359 ; mAP relaxed = 0.9780226277203905\n",
      "2023-05-01 21:42:14 - mAP strict:   \t81.59\n",
      "2023-05-01 21:42:14 - mAP relaxed:   \t97.80\n",
      "2023-05-01 21:43:27 - TripletEvaluator: Evaluating the model on dev dataset in epoch 5 after 1000 steps:\n",
      "[0.7683758752575189, 0.8492790781213249]\n",
      "[0.9510905646852587, 0.9812122545975617]\n",
      "mAP strict= 0.8088274766894219 ; mAP relaxed = 0.9661514096414101\n",
      "2023-05-01 21:43:27 - mAP strict:   \t80.88\n",
      "2023-05-01 21:43:27 - mAP relaxed:   \t96.62\n",
      "2023-05-01 21:44:40 - TripletEvaluator: Evaluating the model on dev dataset in epoch 5 after 1500 steps:\n",
      "[0.8431850093610813, 0.8996049748148809]\n",
      "[0.8815668739527341, 0.9901612983199379]\n",
      "mAP strict= 0.8713949920879811 ; mAP relaxed = 0.9358640861363361\n",
      "2023-05-01 21:44:40 - mAP strict:   \t87.14\n",
      "2023-05-01 21:44:40 - mAP relaxed:   \t93.59\n",
      "2023-05-01 21:45:53 - TripletEvaluator: Evaluating the model on dev dataset in epoch 5 after 2000 steps:\n",
      "[0.7141273248578135, 0.8745733616729411]\n",
      "[0.9508221883909572, 0.9934639079488938]\n",
      "mAP strict= 0.7943503432653773 ; mAP relaxed = 0.9721430481699256\n",
      "2023-05-01 21:45:54 - mAP strict:   \t79.44\n",
      "2023-05-01 21:45:54 - mAP relaxed:   \t97.21\n",
      "2023-05-01 21:47:07 - TripletEvaluator: Evaluating the model on dev dataset in epoch 5 after 2500 steps:\n",
      "[0.803188602440064, 0.8674773334999631]\n",
      "[0.9637163890811271, 0.9737545094067037]\n",
      "mAP strict= 0.8353329679700136 ; mAP relaxed = 0.9687354492439154\n",
      "2023-05-01 21:47:07 - mAP strict:   \t83.53\n",
      "2023-05-01 21:47:07 - mAP relaxed:   \t96.87\n",
      "2023-05-01 21:47:41 - TripletEvaluator: Evaluating the model on dev dataset after epoch 5:\n",
      "[0.8047645343936064, 0.7478164768047294]\n",
      "[0.9608518528853814, 0.9659213807171443]\n",
      "mAP strict= 0.7762905055991679 ; mAP relaxed = 0.9633866168012628\n",
      "2023-05-01 21:47:41 - mAP strict:   \t77.63\n",
      "2023-05-01 21:47:41 - mAP relaxed:   \t96.34\n"
     ]
    },
    {
     "data": {
      "application/vnd.jupyter.widget-view+json": {
       "model_id": "7e95ee81aef645459f83f57d00f39f0e",
       "version_major": 2,
       "version_minor": 0
      },
      "text/plain": [
       "Iteration:   0%|          | 0/2733 [00:00<?, ?it/s]"
      ]
     },
     "metadata": {},
     "output_type": "display_data"
    },
    {
     "name": "stdout",
     "output_type": "stream",
     "text": [
      "2023-05-01 21:48:54 - TripletEvaluator: Evaluating the model on dev dataset in epoch 6 after 500 steps:\n",
      "[0.7574462365024306, 0.7666646737847973]\n",
      "[0.9248217431159537, 0.9856348756490162]\n",
      "mAP strict= 0.762055455143614 ; mAP relaxed = 0.9552283093824849\n",
      "2023-05-01 21:48:54 - mAP strict:   \t76.21\n",
      "2023-05-01 21:48:54 - mAP relaxed:   \t95.52\n",
      "2023-05-01 21:50:06 - TripletEvaluator: Evaluating the model on dev dataset in epoch 6 after 1000 steps:\n",
      "[0.7955444469577699, 0.8888998779114916]\n",
      "[0.9771116351018604, 0.9839187639159019]\n",
      "mAP strict= 0.8422221624346308 ; mAP relaxed = 0.9805151995088812\n",
      "2023-05-01 21:50:07 - mAP strict:   \t84.22\n",
      "2023-05-01 21:50:07 - mAP relaxed:   \t98.05\n",
      "2023-05-01 21:51:19 - TripletEvaluator: Evaluating the model on dev dataset in epoch 6 after 1500 steps:\n",
      "[0.7691270999949293, 0.9318582213203348]\n",
      "[0.9604701050010238, 0.9652034682188688]\n",
      "mAP strict= 0.8504926606576321 ; mAP relaxed = 0.9628367866099463\n",
      "2023-05-01 21:51:20 - mAP strict:   \t85.05\n",
      "2023-05-01 21:51:20 - mAP relaxed:   \t96.28\n",
      "2023-05-01 21:52:33 - TripletEvaluator: Evaluating the model on dev dataset in epoch 6 after 2000 steps:\n",
      "[0.8131024192639722, 0.9245879170554989]\n",
      "[0.97581433884463, 0.9858876938679442]\n",
      "mAP strict= 0.8688451681597356 ; mAP relaxed = 0.9808510163562871\n",
      "2023-05-01 21:52:34 - mAP strict:   \t86.88\n",
      "2023-05-01 21:52:34 - mAP relaxed:   \t98.09\n",
      "2023-05-01 21:52:34 - Save model to ./keypoint-analysis-sharedtask/siamese-models/aspect-opinion-6_1/domain/new/leave_one_out/Hotels/roberta-large-yelp-pretrained-contrastive-10-epochs-2023-05-01_21-07-02\n",
      "2023-05-01 21:53:48 - TripletEvaluator: Evaluating the model on dev dataset in epoch 6 after 2500 steps:\n",
      "[0.8188596045008453, 0.6740432914115078]\n",
      "[0.9501545928830242, 0.9616007683678569]\n",
      "mAP strict= 0.7464514479561766 ; mAP relaxed = 0.9558776806254405\n",
      "2023-05-01 21:53:49 - mAP strict:   \t74.65\n",
      "2023-05-01 21:53:49 - mAP relaxed:   \t95.59\n",
      "2023-05-01 21:54:23 - TripletEvaluator: Evaluating the model on dev dataset after epoch 6:\n",
      "[0.7642979376938277, 0.6917260883499959]\n",
      "[0.9647959976700299, 0.9803795530935355]\n",
      "mAP strict= 0.7280120130219119 ; mAP relaxed = 0.9725877753817826\n",
      "2023-05-01 21:54:23 - mAP strict:   \t72.80\n",
      "2023-05-01 21:54:23 - mAP relaxed:   \t97.26\n"
     ]
    },
    {
     "data": {
      "application/vnd.jupyter.widget-view+json": {
       "model_id": "6e23bf842c6e45cc86198ae341b969ab",
       "version_major": 2,
       "version_minor": 0
      },
      "text/plain": [
       "Iteration:   0%|          | 0/2733 [00:00<?, ?it/s]"
      ]
     },
     "metadata": {},
     "output_type": "display_data"
    },
    {
     "name": "stdout",
     "output_type": "stream",
     "text": [
      "2023-05-01 21:55:36 - TripletEvaluator: Evaluating the model on dev dataset in epoch 7 after 500 steps:\n",
      "[0.764478316029318, 0.9201664470313016]\n",
      "[0.9588456015068568, 0.9817200179043495]\n",
      "mAP strict= 0.8423223815303098 ; mAP relaxed = 0.9702828097056031\n",
      "2023-05-01 21:55:36 - mAP strict:   \t84.23\n",
      "2023-05-01 21:55:36 - mAP relaxed:   \t97.03\n",
      "2023-05-01 21:56:49 - TripletEvaluator: Evaluating the model on dev dataset in epoch 7 after 1000 steps:\n",
      "[0.7817506070946163, 0.9054222257913564]\n",
      "[0.9534444865964917, 0.9972573273231213]\n",
      "mAP strict= 0.8435864164429864 ; mAP relaxed = 0.9753509069598065\n",
      "2023-05-01 21:56:49 - mAP strict:   \t84.36\n",
      "2023-05-01 21:56:49 - mAP relaxed:   \t97.54\n",
      "2023-05-01 21:58:03 - TripletEvaluator: Evaluating the model on dev dataset in epoch 7 after 1500 steps:\n",
      "[0.7502201320940856, 0.9049097145258471]\n",
      "[0.9619102720764335, 0.9894667390795527]\n",
      "mAP strict= 0.8275649233099663 ; mAP relaxed = 0.9756885055779931\n",
      "2023-05-01 21:58:03 - mAP strict:   \t82.76\n",
      "2023-05-01 21:58:03 - mAP relaxed:   \t97.57\n",
      "2023-05-01 21:59:17 - TripletEvaluator: Evaluating the model on dev dataset in epoch 7 after 2000 steps:\n",
      "[0.7424838740981096, 0.9128545410691911]\n",
      "[0.9583622875082771, 0.9804280752149859]\n",
      "mAP strict= 0.8276692075836503 ; mAP relaxed = 0.9693951813616315\n",
      "2023-05-01 21:59:17 - mAP strict:   \t82.77\n",
      "2023-05-01 21:59:17 - mAP relaxed:   \t96.94\n",
      "2023-05-01 22:00:30 - TripletEvaluator: Evaluating the model on dev dataset in epoch 7 after 2500 steps:\n",
      "[0.7525558025071374, 0.8918071945451116]\n",
      "[0.9695592273964173, 0.9912305470694829]\n",
      "mAP strict= 0.8221814985261244 ; mAP relaxed = 0.9803948872329501\n",
      "2023-05-01 22:00:31 - mAP strict:   \t82.22\n",
      "2023-05-01 22:00:31 - mAP relaxed:   \t98.04\n",
      "2023-05-01 22:01:04 - TripletEvaluator: Evaluating the model on dev dataset after epoch 7:\n",
      "[0.7447815993060516, 0.9120555253220357]\n",
      "[0.9706040145829878, 0.9864336445133859]\n",
      "mAP strict= 0.8284185623140436 ; mAP relaxed = 0.9785188295481868\n",
      "2023-05-01 22:01:05 - mAP strict:   \t82.84\n",
      "2023-05-01 22:01:05 - mAP relaxed:   \t97.85\n"
     ]
    },
    {
     "data": {
      "application/vnd.jupyter.widget-view+json": {
       "model_id": "f825d92efd744428b2a96bcbba55a065",
       "version_major": 2,
       "version_minor": 0
      },
      "text/plain": [
       "Iteration:   0%|          | 0/2733 [00:00<?, ?it/s]"
      ]
     },
     "metadata": {},
     "output_type": "display_data"
    },
    {
     "name": "stdout",
     "output_type": "stream",
     "text": [
      "2023-05-01 22:02:18 - TripletEvaluator: Evaluating the model on dev dataset in epoch 8 after 500 steps:\n",
      "[0.7506491033890699, 0.8936297429748283]\n",
      "[0.9821904587546498, 0.9807142571637838]\n",
      "mAP strict= 0.8221394231819491 ; mAP relaxed = 0.9814523579592168\n",
      "2023-05-01 22:02:19 - mAP strict:   \t82.21\n",
      "2023-05-01 22:02:19 - mAP relaxed:   \t98.15\n",
      "2023-05-01 22:03:32 - TripletEvaluator: Evaluating the model on dev dataset in epoch 8 after 1000 steps:\n",
      "[0.7893328713371616, 0.8915489061898156]\n",
      "[0.9645848363714988, 0.994098887145207]\n",
      "mAP strict= 0.8404408887634887 ; mAP relaxed = 0.9793418617583529\n",
      "2023-05-01 22:03:32 - mAP strict:   \t84.04\n",
      "2023-05-01 22:03:32 - mAP relaxed:   \t97.93\n",
      "2023-05-01 22:04:46 - TripletEvaluator: Evaluating the model on dev dataset in epoch 8 after 1500 steps:\n",
      "[0.804787164101536, 0.8949943769565409]\n",
      "[0.956528858655518, 0.9834363907884645]\n",
      "mAP strict= 0.8498907705290384 ; mAP relaxed = 0.9699826247219911\n",
      "2023-05-01 22:04:46 - mAP strict:   \t84.99\n",
      "2023-05-01 22:04:46 - mAP relaxed:   \t97.00\n",
      "2023-05-01 22:05:59 - TripletEvaluator: Evaluating the model on dev dataset in epoch 8 after 2000 steps:\n",
      "[0.7956420695100045, 0.8949780891130266]\n",
      "[0.9742520455020591, 0.9885728314958218]\n",
      "mAP strict= 0.8453100793115156 ; mAP relaxed = 0.9814124384989404\n",
      "2023-05-01 22:06:00 - mAP strict:   \t84.53\n",
      "2023-05-01 22:06:00 - mAP relaxed:   \t98.14\n",
      "2023-05-01 22:07:12 - TripletEvaluator: Evaluating the model on dev dataset in epoch 8 after 2500 steps:\n",
      "[0.7606735772207333, 0.8891869517065711]\n",
      "[0.9689869535272052, 0.994035428650507]\n",
      "mAP strict= 0.8249302644636523 ; mAP relaxed = 0.9815111910888561\n",
      "2023-05-01 22:07:12 - mAP strict:   \t82.49\n",
      "2023-05-01 22:07:12 - mAP relaxed:   \t98.15\n",
      "2023-05-01 22:07:47 - TripletEvaluator: Evaluating the model on dev dataset after epoch 8:\n",
      "[0.755829108569075, 0.8905071151888968]\n",
      "[0.9648122905854574, 0.9894223940202689]\n",
      "mAP strict= 0.823168111878986 ; mAP relaxed = 0.9771173423028632\n",
      "2023-05-01 22:07:47 - mAP strict:   \t82.32\n",
      "2023-05-01 22:07:47 - mAP relaxed:   \t97.71\n"
     ]
    },
    {
     "data": {
      "application/vnd.jupyter.widget-view+json": {
       "model_id": "1832f7179c474cd2ba4eeebefce80648",
       "version_major": 2,
       "version_minor": 0
      },
      "text/plain": [
       "Iteration:   0%|          | 0/2733 [00:00<?, ?it/s]"
      ]
     },
     "metadata": {},
     "output_type": "display_data"
    },
    {
     "name": "stdout",
     "output_type": "stream",
     "text": [
      "2023-05-01 22:09:01 - TripletEvaluator: Evaluating the model on dev dataset in epoch 9 after 500 steps:\n",
      "[0.7506491033890699, 0.88601685030266]\n",
      "[0.9636068947801876, 0.9901404174711637]\n",
      "mAP strict= 0.8183329768458649 ; mAP relaxed = 0.9768736561256757\n",
      "2023-05-01 22:09:01 - mAP strict:   \t81.83\n",
      "2023-05-01 22:09:01 - mAP relaxed:   \t97.69\n",
      "2023-05-01 22:10:14 - TripletEvaluator: Evaluating the model on dev dataset in epoch 9 after 1000 steps:\n",
      "[0.7836350997293221, 0.881385801879305]\n",
      "[0.9678846319185542, 0.9924735980672692]\n",
      "mAP strict= 0.8325104508043135 ; mAP relaxed = 0.9801791149929118\n",
      "2023-05-01 22:10:15 - mAP strict:   \t83.25\n",
      "2023-05-01 22:10:15 - mAP relaxed:   \t98.02\n",
      "2023-05-01 22:11:29 - TripletEvaluator: Evaluating the model on dev dataset in epoch 9 after 1500 steps:\n",
      "[0.7805445157081506, 0.8925171396579679]\n",
      "[0.9635025520427009, 0.9884993862020042]\n",
      "mAP strict= 0.8365308276830592 ; mAP relaxed = 0.9760009691223526\n",
      "2023-05-01 22:11:29 - mAP strict:   \t83.65\n",
      "2023-05-01 22:11:29 - mAP relaxed:   \t97.60\n",
      "2023-05-01 22:12:42 - TripletEvaluator: Evaluating the model on dev dataset in epoch 9 after 2000 steps:\n",
      "[0.7675318476021836, 0.8948445798414402]\n",
      "[0.9665504913260062, 0.9913389962945813]\n",
      "mAP strict= 0.8311882137218118 ; mAP relaxed = 0.9789447438102938\n",
      "2023-05-01 22:12:42 - mAP strict:   \t83.12\n",
      "2023-05-01 22:12:42 - mAP relaxed:   \t97.89\n",
      "2023-05-01 22:13:54 - TripletEvaluator: Evaluating the model on dev dataset in epoch 9 after 2500 steps:\n",
      "[0.7632520351500683, 0.9003339853308456]\n",
      "[0.9654470787769139, 0.9933535258309092]\n",
      "mAP strict= 0.8317930102404569 ; mAP relaxed = 0.9794003023039115\n",
      "2023-05-01 22:13:55 - mAP strict:   \t83.18\n",
      "2023-05-01 22:13:55 - mAP relaxed:   \t97.94\n",
      "2023-05-01 22:14:29 - TripletEvaluator: Evaluating the model on dev dataset after epoch 9:\n",
      "[0.7632520351500683, 0.8949285799254403]\n",
      "[0.9659857849081098, 0.9933535258309092]\n",
      "mAP strict= 0.8290903075377543 ; mAP relaxed = 0.9796696553695095\n",
      "2023-05-01 22:14:30 - mAP strict:   \t82.91\n",
      "2023-05-01 22:14:30 - mAP relaxed:   \t97.97\n"
     ]
    }
   ],
   "source": [
    "domain = \"Hotels\"\n",
    "# Train, evaluate on Rev-KP\n",
    "train_model(f'./training_material/siamese-data/out-of-category/{domain}/',\n",
    "            f'./training_material/siamese-data/out-of-category/{domain}/',\n",
    "            'dev',\n",
    "            f'./model/ASKPA/out-of-category/{domain}/',\n",
    "            './model/roberta-large-pretrained-yelp/checkpoint-134060/',\n",
    "            model_suffix='contrastive-10-epochs',\n",
    "            data_file_suffix='contrastive',\n",
    "            num_epochs=10, max_seq_length=128, add_special_token=True, train_batch_size=16, loss='ContrastiveLoss')"
   ]
  },
  {
   "cell_type": "markdown",
   "id": "ca655ece",
   "metadata": {},
   "source": [
    "## Restaurants"
   ]
  },
  {
   "cell_type": "code",
   "execution_count": 69,
   "id": "b3fdf9e1",
   "metadata": {},
   "outputs": [
    {
     "name": "stderr",
     "output_type": "stream",
     "text": [
      "Some weights of the model checkpoint at ./model/roberta-large-finetuned-yelp/checkpoint-134060/ were not used when initializing RobertaModel: ['lm_head.dense.weight', 'lm_head.dense.bias', 'lm_head.bias', 'lm_head.layer_norm.bias', 'lm_head.layer_norm.weight']\n",
      "- This IS expected if you are initializing RobertaModel from the checkpoint of a model trained on another task or with another architecture (e.g. initializing a BertForSequenceClassification model from a BertForPreTraining model).\n",
      "- This IS NOT expected if you are initializing RobertaModel from the checkpoint of a model that you expect to be exactly identical (initializing a BertForSequenceClassification model from a BertForSequenceClassification model).\n",
      "Some weights of RobertaModel were not initialized from the model checkpoint at ./model/roberta-large-finetuned-yelp/checkpoint-134060/ and are newly initialized: ['roberta.pooler.dense.bias', 'roberta.pooler.dense.weight']\n",
      "You should probably TRAIN this model on a down-stream task to be able to use it for predictions and inference.\n"
     ]
    },
    {
     "name": "stdout",
     "output_type": "stream",
     "text": [
      "2023-05-28 15:56:41 - Use pytorch device: cuda\n",
      "2023-05-28 15:56:41 - Read Triplet train dataset\n"
     ]
    },
    {
     "name": "stderr",
     "output_type": "stream",
     "text": [
      "2023-05-28 15:56:42.493804: I tensorflow/stream_executor/platform/default/dso_loader.cc:53] Successfully opened dynamic library libcudart.so.11.0\n"
     ]
    },
    {
     "data": {
      "application/vnd.jupyter.widget-view+json": {
       "model_id": "4722dfd9c93e41f6b3369d2dedbf7405",
       "version_major": 2,
       "version_minor": 0
      },
      "text/plain": [
       "Epoch:   0%|          | 0/10 [00:00<?, ?it/s]"
      ]
     },
     "metadata": {},
     "output_type": "display_data"
    },
    {
     "data": {
      "application/vnd.jupyter.widget-view+json": {
       "model_id": "0977ee668da9431bb8f2d748906ca9db",
       "version_major": 2,
       "version_minor": 0
      },
      "text/plain": [
       "Iteration:   0%|          | 0/2354 [00:00<?, ?it/s]"
      ]
     },
     "metadata": {},
     "output_type": "display_data"
    },
    {
     "name": "stdout",
     "output_type": "stream",
     "text": [
      "2023-05-28 15:58:03 - TripletEvaluator: Evaluating the model on dev dataset in epoch 0 after 500 steps:\n",
      "[0.5833333333333333, 0.6140269930093262]\n",
      "[0.5833333333333333, 0.6989204601643206]\n",
      "mAP strict= 0.5986801631713297 ; mAP relaxed = 0.641126896748827\n",
      "2023-05-28 15:58:03 - mAP strict:   \t59.87\n",
      "2023-05-28 15:58:03 - mAP relaxed:   \t64.11\n",
      "2023-05-28 15:58:03 - Save model to ./keypoint-analysis-sharedtask/siamese-models/aspect-opinion-6_1/domain/new/leave_one_out/Restaurants/roberta-large-yelp-pretrained-contrastive-10-epochs-2023-05-28_15-56-37\n",
      "2023-05-28 15:59:20 - TripletEvaluator: Evaluating the model on dev dataset in epoch 0 after 1000 steps:\n",
      "[0.7222222222222222, 0.7763666877912451]\n",
      "[0.7222222222222222, 0.9413738380089642]\n",
      "mAP strict= 0.7492944550067336 ; mAP relaxed = 0.8317980301155932\n",
      "2023-05-28 15:59:20 - mAP strict:   \t74.93\n",
      "2023-05-28 15:59:20 - mAP relaxed:   \t83.18\n",
      "2023-05-28 15:59:20 - Save model to ./keypoint-analysis-sharedtask/siamese-models/aspect-opinion-6_1/domain/new/leave_one_out/Restaurants/roberta-large-yelp-pretrained-contrastive-10-epochs-2023-05-28_15-56-37\n",
      "2023-05-28 16:00:36 - TripletEvaluator: Evaluating the model on dev dataset in epoch 0 after 1500 steps:\n",
      "[0.4797979797979798, 0.7967744093390805]\n",
      "[0.4797979797979798, 0.9885731481373998]\n",
      "mAP strict= 0.6382861945685301 ; mAP relaxed = 0.7341855639676897\n",
      "2023-05-28 16:00:37 - mAP strict:   \t63.83\n",
      "2023-05-28 16:00:37 - mAP relaxed:   \t73.42\n",
      "2023-05-28 16:01:51 - TripletEvaluator: Evaluating the model on dev dataset in epoch 0 after 2000 steps:\n",
      "[0.7333333333333334, 0.7840061183644965]\n",
      "[0.7333333333333334, 0.9776699393692785]\n",
      "mAP strict= 0.758669725848915 ; mAP relaxed = 0.8555016363513059\n",
      "2023-05-28 16:01:51 - mAP strict:   \t75.87\n",
      "2023-05-28 16:01:51 - mAP relaxed:   \t85.55\n",
      "2023-05-28 16:01:51 - Save model to ./keypoint-analysis-sharedtask/siamese-models/aspect-opinion-6_1/domain/new/leave_one_out/Restaurants/roberta-large-yelp-pretrained-contrastive-10-epochs-2023-05-28_15-56-37\n",
      "2023-05-28 16:02:48 - TripletEvaluator: Evaluating the model on dev dataset after epoch 0:\n",
      "[0.7291666666666666, 0.8796948618860724]\n",
      "[0.7291666666666666, 0.9695256334956475]\n",
      "mAP strict= 0.8044307642763695 ; mAP relaxed = 0.849346150081157\n",
      "2023-05-28 16:02:48 - mAP strict:   \t80.44\n",
      "2023-05-28 16:02:48 - mAP relaxed:   \t84.93\n",
      "2023-05-28 16:02:48 - Save model to ./keypoint-analysis-sharedtask/siamese-models/aspect-opinion-6_1/domain/new/leave_one_out/Restaurants/roberta-large-yelp-pretrained-contrastive-10-epochs-2023-05-28_15-56-37\n"
     ]
    },
    {
     "data": {
      "application/vnd.jupyter.widget-view+json": {
       "model_id": "428e5fe6349d43fe9918815acb4461d8",
       "version_major": 2,
       "version_minor": 0
      },
      "text/plain": [
       "Iteration:   0%|          | 0/2354 [00:00<?, ?it/s]"
      ]
     },
     "metadata": {},
     "output_type": "display_data"
    },
    {
     "name": "stdout",
     "output_type": "stream",
     "text": [
      "2023-05-28 16:04:05 - TripletEvaluator: Evaluating the model on dev dataset in epoch 1 after 500 steps:\n",
      "[0.25757575757575757, 0.5208668597207455]\n",
      "[0.25757575757575757, 0.7130211791084033]\n",
      "mAP strict= 0.38922130864825155 ; mAP relaxed = 0.48529846834208046\n",
      "2023-05-28 16:04:06 - mAP strict:   \t38.92\n",
      "2023-05-28 16:04:06 - mAP relaxed:   \t48.53\n",
      "2023-05-28 16:05:20 - TripletEvaluator: Evaluating the model on dev dataset in epoch 1 after 1000 steps:\n",
      "[1.0, 0.8093510294852109]\n",
      "[1.0, 0.9061463330914443]\n",
      "mAP strict= 0.9046755147426054 ; mAP relaxed = 0.9530731665457222\n",
      "2023-05-28 16:05:20 - mAP strict:   \t90.47\n",
      "2023-05-28 16:05:20 - mAP relaxed:   \t95.31\n",
      "2023-05-28 16:05:20 - Save model to ./keypoint-analysis-sharedtask/siamese-models/aspect-opinion-6_1/domain/new/leave_one_out/Restaurants/roberta-large-yelp-pretrained-contrastive-10-epochs-2023-05-28_15-56-37\n",
      "2023-05-28 16:06:37 - TripletEvaluator: Evaluating the model on dev dataset in epoch 1 after 1500 steps:\n",
      "[1.0, 0.9096343873520898]\n",
      "[1.0, 0.967152757772094]\n",
      "mAP strict= 0.9548171936760449 ; mAP relaxed = 0.983576378886047\n",
      "2023-05-28 16:06:38 - mAP strict:   \t95.48\n",
      "2023-05-28 16:06:38 - mAP relaxed:   \t98.36\n",
      "2023-05-28 16:06:38 - Save model to ./keypoint-analysis-sharedtask/siamese-models/aspect-opinion-6_1/domain/new/leave_one_out/Restaurants/roberta-large-yelp-pretrained-contrastive-10-epochs-2023-05-28_15-56-37\n",
      "2023-05-28 16:07:54 - TripletEvaluator: Evaluating the model on dev dataset in epoch 1 after 2000 steps:\n",
      "[1.0, 0.929757784048721]\n",
      "[1.0, 0.9623860745775296]\n",
      "mAP strict= 0.9648788920243605 ; mAP relaxed = 0.9811930372887647\n",
      "2023-05-28 16:07:55 - mAP strict:   \t96.49\n",
      "2023-05-28 16:07:55 - mAP relaxed:   \t98.12\n",
      "2023-05-28 16:07:55 - Save model to ./keypoint-analysis-sharedtask/siamese-models/aspect-opinion-6_1/domain/new/leave_one_out/Restaurants/roberta-large-yelp-pretrained-contrastive-10-epochs-2023-05-28_15-56-37\n",
      "2023-05-28 16:08:50 - TripletEvaluator: Evaluating the model on dev dataset after epoch 1:\n",
      "[1.0, 0.912076594530144]\n",
      "[1.0, 0.9718879578105901]\n",
      "mAP strict= 0.9560382972650721 ; mAP relaxed = 0.9859439789052951\n",
      "2023-05-28 16:08:50 - mAP strict:   \t95.60\n",
      "2023-05-28 16:08:50 - mAP relaxed:   \t98.59\n"
     ]
    },
    {
     "data": {
      "application/vnd.jupyter.widget-view+json": {
       "model_id": "ca8b1fddd69c4ff2adb26159dcc5d24f",
       "version_major": 2,
       "version_minor": 0
      },
      "text/plain": [
       "Iteration:   0%|          | 0/2354 [00:00<?, ?it/s]"
      ]
     },
     "metadata": {},
     "output_type": "display_data"
    },
    {
     "name": "stdout",
     "output_type": "stream",
     "text": [
      "2023-05-28 16:10:05 - TripletEvaluator: Evaluating the model on dev dataset in epoch 2 after 500 steps:\n",
      "[1.0, 0.8619580955603974]\n",
      "[1.0, 0.9753847236151276]\n",
      "mAP strict= 0.9309790477801987 ; mAP relaxed = 0.9876923618075638\n",
      "2023-05-28 16:10:05 - mAP strict:   \t93.10\n",
      "2023-05-28 16:10:05 - mAP relaxed:   \t98.77\n",
      "2023-05-28 16:11:19 - TripletEvaluator: Evaluating the model on dev dataset in epoch 2 after 1000 steps:\n",
      "[1.0, 0.8655836090604774]\n",
      "[1.0, 0.9826522595552377]\n",
      "mAP strict= 0.9327918045302387 ; mAP relaxed = 0.9913261297776188\n",
      "2023-05-28 16:11:19 - mAP strict:   \t93.28\n",
      "2023-05-28 16:11:19 - mAP relaxed:   \t99.13\n",
      "2023-05-28 16:12:33 - TripletEvaluator: Evaluating the model on dev dataset in epoch 2 after 1500 steps:\n",
      "[1.0, 0.6786257336157516]\n",
      "[1.0, 0.9796873016954333]\n",
      "mAP strict= 0.8393128668078758 ; mAP relaxed = 0.9898436508477166\n",
      "2023-05-28 16:12:34 - mAP strict:   \t83.93\n",
      "2023-05-28 16:12:34 - mAP relaxed:   \t98.98\n",
      "2023-05-28 16:13:47 - TripletEvaluator: Evaluating the model on dev dataset in epoch 2 after 2000 steps:\n",
      "[1.0, 0.5528352136628427]\n",
      "[1.0, 0.9521578864470495]\n",
      "mAP strict= 0.7764176068314214 ; mAP relaxed = 0.9760789432235247\n",
      "2023-05-28 16:13:47 - mAP strict:   \t77.64\n",
      "2023-05-28 16:13:47 - mAP relaxed:   \t97.61\n",
      "2023-05-28 16:14:40 - TripletEvaluator: Evaluating the model on dev dataset after epoch 2:\n",
      "[1.0, 0.661152082572307]\n",
      "[1.0, 0.9734609678802042]\n",
      "mAP strict= 0.8305760412861535 ; mAP relaxed = 0.9867304839401021\n",
      "2023-05-28 16:14:40 - mAP strict:   \t83.06\n",
      "2023-05-28 16:14:40 - mAP relaxed:   \t98.67\n"
     ]
    },
    {
     "data": {
      "application/vnd.jupyter.widget-view+json": {
       "model_id": "3f2ee9d814a64909a7a2faad35c9c963",
       "version_major": 2,
       "version_minor": 0
      },
      "text/plain": [
       "Iteration:   0%|          | 0/2354 [00:00<?, ?it/s]"
      ]
     },
     "metadata": {},
     "output_type": "display_data"
    },
    {
     "name": "stdout",
     "output_type": "stream",
     "text": [
      "2023-05-28 16:15:53 - TripletEvaluator: Evaluating the model on dev dataset in epoch 3 after 500 steps:\n",
      "[1.0, 0.6220479747940568]\n",
      "[1.0, 0.7515395741130578]\n",
      "mAP strict= 0.8110239873970284 ; mAP relaxed = 0.8757697870565289\n",
      "2023-05-28 16:15:54 - mAP strict:   \t81.10\n",
      "2023-05-28 16:15:54 - mAP relaxed:   \t87.58\n",
      "2023-05-28 16:17:06 - TripletEvaluator: Evaluating the model on dev dataset in epoch 3 after 1000 steps:\n",
      "[1.0, 0.7617491221851787]\n",
      "[1.0, 0.9421267803702964]\n",
      "mAP strict= 0.8808745610925893 ; mAP relaxed = 0.9710633901851482\n",
      "2023-05-28 16:17:07 - mAP strict:   \t88.09\n",
      "2023-05-28 16:17:07 - mAP relaxed:   \t97.11\n",
      "2023-05-28 16:18:21 - TripletEvaluator: Evaluating the model on dev dataset in epoch 3 after 1500 steps:\n",
      "[1.0, 0.5615824114037377]\n",
      "[1.0, 0.8987976612069483]\n",
      "mAP strict= 0.7807912057018689 ; mAP relaxed = 0.9493988306034742\n",
      "2023-05-28 16:18:21 - mAP strict:   \t78.08\n",
      "2023-05-28 16:18:21 - mAP relaxed:   \t94.94\n",
      "2023-05-28 16:19:35 - TripletEvaluator: Evaluating the model on dev dataset in epoch 3 after 2000 steps:\n",
      "[1.0, 0.6340539066372882]\n",
      "[1.0, 0.8909288524182253]\n",
      "mAP strict= 0.8170269533186441 ; mAP relaxed = 0.9454644262091126\n",
      "2023-05-28 16:19:35 - mAP strict:   \t81.70\n",
      "2023-05-28 16:19:35 - mAP relaxed:   \t94.55\n",
      "2023-05-28 16:20:28 - TripletEvaluator: Evaluating the model on dev dataset after epoch 3:\n",
      "[1.0, 0.716467055483788]\n",
      "[1.0, 0.9860436471375823]\n",
      "mAP strict= 0.858233527741894 ; mAP relaxed = 0.9930218235687911\n",
      "2023-05-28 16:20:28 - mAP strict:   \t85.82\n",
      "2023-05-28 16:20:28 - mAP relaxed:   \t99.30\n"
     ]
    },
    {
     "data": {
      "application/vnd.jupyter.widget-view+json": {
       "model_id": "dbc3b8c6a0cc430cbfe6ecf82891afcf",
       "version_major": 2,
       "version_minor": 0
      },
      "text/plain": [
       "Iteration:   0%|          | 0/2354 [00:00<?, ?it/s]"
      ]
     },
     "metadata": {},
     "output_type": "display_data"
    },
    {
     "name": "stdout",
     "output_type": "stream",
     "text": [
      "2023-05-28 16:21:41 - TripletEvaluator: Evaluating the model on dev dataset in epoch 4 after 500 steps:\n",
      "[1.0, 0.9130654722064498]\n",
      "[1.0, 0.975703136097551]\n",
      "mAP strict= 0.956532736103225 ; mAP relaxed = 0.9878515680487755\n",
      "2023-05-28 16:21:42 - mAP strict:   \t95.65\n",
      "2023-05-28 16:21:42 - mAP relaxed:   \t98.79\n",
      "2023-05-28 16:22:56 - TripletEvaluator: Evaluating the model on dev dataset in epoch 4 after 1000 steps:\n",
      "[1.0, 0.9048141391537147]\n",
      "[1.0, 0.9825111742532152]\n",
      "mAP strict= 0.9524070695768574 ; mAP relaxed = 0.9912555871266076\n",
      "2023-05-28 16:22:56 - mAP strict:   \t95.24\n",
      "2023-05-28 16:22:56 - mAP relaxed:   \t99.13\n",
      "2023-05-28 16:24:09 - TripletEvaluator: Evaluating the model on dev dataset in epoch 4 after 1500 steps:\n",
      "[1.0, 0.7387067032063045]\n",
      "[1.0, 0.9697446392894853]\n",
      "mAP strict= 0.8693533516031522 ; mAP relaxed = 0.9848723196447426\n",
      "2023-05-28 16:24:10 - mAP strict:   \t86.94\n",
      "2023-05-28 16:24:10 - mAP relaxed:   \t98.49\n",
      "2023-05-28 16:25:23 - TripletEvaluator: Evaluating the model on dev dataset in epoch 4 after 2000 steps:\n",
      "[1.0, 0.6612360864914548]\n",
      "[1.0, 0.9007063748888517]\n",
      "mAP strict= 0.8306180432457274 ; mAP relaxed = 0.9503531874444259\n",
      "2023-05-28 16:25:24 - mAP strict:   \t83.06\n",
      "2023-05-28 16:25:24 - mAP relaxed:   \t95.04\n",
      "2023-05-28 16:26:16 - TripletEvaluator: Evaluating the model on dev dataset after epoch 4:\n",
      "[1.0, 0.5677799639116011]\n",
      "[1.0, 0.9821834345624515]\n",
      "mAP strict= 0.7838899819558005 ; mAP relaxed = 0.9910917172812257\n",
      "2023-05-28 16:26:17 - mAP strict:   \t78.39\n",
      "2023-05-28 16:26:17 - mAP relaxed:   \t99.11\n"
     ]
    },
    {
     "data": {
      "application/vnd.jupyter.widget-view+json": {
       "model_id": "2331fed786274fb38058fd425418f39e",
       "version_major": 2,
       "version_minor": 0
      },
      "text/plain": [
       "Iteration:   0%|          | 0/2354 [00:00<?, ?it/s]"
      ]
     },
     "metadata": {},
     "output_type": "display_data"
    },
    {
     "name": "stdout",
     "output_type": "stream",
     "text": [
      "2023-05-28 16:27:30 - TripletEvaluator: Evaluating the model on dev dataset in epoch 5 after 500 steps:\n",
      "[1.0, 0.6608065357676516]\n",
      "[1.0, 0.983568861698468]\n",
      "mAP strict= 0.8304032678838258 ; mAP relaxed = 0.9917844308492341\n",
      "2023-05-28 16:27:30 - mAP strict:   \t83.04\n",
      "2023-05-28 16:27:30 - mAP relaxed:   \t99.18\n",
      "2023-05-28 16:28:44 - TripletEvaluator: Evaluating the model on dev dataset in epoch 5 after 1000 steps:\n",
      "[1.0, 0.6551659088485132]\n",
      "[1.0, 0.9673531340756252]\n",
      "mAP strict= 0.8275829544242566 ; mAP relaxed = 0.9836765670378126\n",
      "2023-05-28 16:28:44 - mAP strict:   \t82.76\n",
      "2023-05-28 16:28:44 - mAP relaxed:   \t98.37\n",
      "2023-05-28 16:29:58 - TripletEvaluator: Evaluating the model on dev dataset in epoch 5 after 1500 steps:\n",
      "[1.0, 0.8950794266501596]\n",
      "[1.0, 0.976774526566017]\n",
      "mAP strict= 0.9475397133250798 ; mAP relaxed = 0.9883872632830085\n",
      "2023-05-28 16:29:58 - mAP strict:   \t94.75\n",
      "2023-05-28 16:29:58 - mAP relaxed:   \t98.84\n",
      "2023-05-28 16:31:12 - TripletEvaluator: Evaluating the model on dev dataset in epoch 5 after 2000 steps:\n",
      "[1.0, 0.6768949205583898]\n",
      "[1.0, 0.9816455602216473]\n",
      "mAP strict= 0.8384474602791949 ; mAP relaxed = 0.9908227801108236\n",
      "2023-05-28 16:31:12 - mAP strict:   \t83.84\n",
      "2023-05-28 16:31:12 - mAP relaxed:   \t99.08\n",
      "2023-05-28 16:32:05 - TripletEvaluator: Evaluating the model on dev dataset after epoch 5:\n",
      "[1.0, 0.6788516317006668]\n",
      "[1.0, 0.9817210138976223]\n",
      "mAP strict= 0.8394258158503334 ; mAP relaxed = 0.9908605069488112\n",
      "2023-05-28 16:32:05 - mAP strict:   \t83.94\n",
      "2023-05-28 16:32:05 - mAP relaxed:   \t99.09\n"
     ]
    },
    {
     "data": {
      "application/vnd.jupyter.widget-view+json": {
       "model_id": "fe5f03eef1fb4c27b0f7e5547c3b9522",
       "version_major": 2,
       "version_minor": 0
      },
      "text/plain": [
       "Iteration:   0%|          | 0/2354 [00:00<?, ?it/s]"
      ]
     },
     "metadata": {},
     "output_type": "display_data"
    },
    {
     "name": "stdout",
     "output_type": "stream",
     "text": [
      "2023-05-28 16:33:19 - TripletEvaluator: Evaluating the model on dev dataset in epoch 6 after 500 steps:\n",
      "[1.0, 0.7754665552948175]\n",
      "[1.0, 0.9797191470367701]\n",
      "mAP strict= 0.8877332776474087 ; mAP relaxed = 0.989859573518385\n",
      "2023-05-28 16:33:19 - mAP strict:   \t88.77\n",
      "2023-05-28 16:33:19 - mAP relaxed:   \t98.99\n",
      "2023-05-28 16:34:32 - TripletEvaluator: Evaluating the model on dev dataset in epoch 6 after 1000 steps:\n",
      "[1.0, 0.646065764317288]\n",
      "[1.0, 0.9788654650401207]\n",
      "mAP strict= 0.823032882158644 ; mAP relaxed = 0.9894327325200604\n",
      "2023-05-28 16:34:32 - mAP strict:   \t82.30\n",
      "2023-05-28 16:34:32 - mAP relaxed:   \t98.94\n",
      "2023-05-28 16:35:46 - TripletEvaluator: Evaluating the model on dev dataset in epoch 6 after 1500 steps:\n",
      "[1.0, 0.8524904073645357]\n",
      "[1.0, 0.9792424723415527]\n",
      "mAP strict= 0.9262452036822679 ; mAP relaxed = 0.9896212361707764\n",
      "2023-05-28 16:35:46 - mAP strict:   \t92.62\n",
      "2023-05-28 16:35:46 - mAP relaxed:   \t98.96\n",
      "2023-05-28 16:37:00 - TripletEvaluator: Evaluating the model on dev dataset in epoch 6 after 2000 steps:\n",
      "[1.0, 0.7916857928568156]\n",
      "[1.0, 0.9772243104018231]\n",
      "mAP strict= 0.8958428964284078 ; mAP relaxed = 0.9886121552009115\n",
      "2023-05-28 16:37:00 - mAP strict:   \t89.58\n",
      "2023-05-28 16:37:00 - mAP relaxed:   \t98.86\n",
      "2023-05-28 16:37:53 - TripletEvaluator: Evaluating the model on dev dataset after epoch 6:\n",
      "[1.0, 0.6325492464650417]\n",
      "[1.0, 0.97750983017815]\n",
      "mAP strict= 0.8162746232325209 ; mAP relaxed = 0.988754915089075\n",
      "2023-05-28 16:37:53 - mAP strict:   \t81.63\n",
      "2023-05-28 16:37:53 - mAP relaxed:   \t98.88\n"
     ]
    },
    {
     "data": {
      "application/vnd.jupyter.widget-view+json": {
       "model_id": "d30a2e2bce594240bac899c72a57b46d",
       "version_major": 2,
       "version_minor": 0
      },
      "text/plain": [
       "Iteration:   0%|          | 0/2354 [00:00<?, ?it/s]"
      ]
     },
     "metadata": {},
     "output_type": "display_data"
    },
    {
     "name": "stdout",
     "output_type": "stream",
     "text": [
      "2023-05-28 16:39:07 - TripletEvaluator: Evaluating the model on dev dataset in epoch 7 after 500 steps:\n",
      "[1.0, 0.7786197954250214]\n",
      "[1.0, 0.9752073828236587]\n",
      "mAP strict= 0.8893098977125107 ; mAP relaxed = 0.9876036914118294\n",
      "2023-05-28 16:39:07 - mAP strict:   \t88.93\n",
      "2023-05-28 16:39:07 - mAP relaxed:   \t98.76\n",
      "2023-05-28 16:40:21 - TripletEvaluator: Evaluating the model on dev dataset in epoch 7 after 1000 steps:\n",
      "[1.0, 0.7039245356979488]\n",
      "[1.0, 0.9712530256337959]\n",
      "mAP strict= 0.8519622678489744 ; mAP relaxed = 0.985626512816898\n",
      "2023-05-28 16:40:21 - mAP strict:   \t85.20\n",
      "2023-05-28 16:40:21 - mAP relaxed:   \t98.56\n",
      "2023-05-28 16:41:34 - TripletEvaluator: Evaluating the model on dev dataset in epoch 7 after 1500 steps:\n",
      "[1.0, 0.7920420733934668]\n",
      "[1.0, 0.970757166060541]\n",
      "mAP strict= 0.8960210366967334 ; mAP relaxed = 0.9853785830302705\n",
      "2023-05-28 16:41:34 - mAP strict:   \t89.60\n",
      "2023-05-28 16:41:34 - mAP relaxed:   \t98.54\n",
      "2023-05-28 16:42:49 - TripletEvaluator: Evaluating the model on dev dataset in epoch 7 after 2000 steps:\n",
      "[1.0, 0.8270848776472712]\n",
      "[1.0, 0.9862775116088629]\n",
      "mAP strict= 0.9135424388236356 ; mAP relaxed = 0.9931387558044315\n",
      "2023-05-28 16:42:49 - mAP strict:   \t91.35\n",
      "2023-05-28 16:42:49 - mAP relaxed:   \t99.31\n",
      "2023-05-28 16:43:41 - TripletEvaluator: Evaluating the model on dev dataset after epoch 7:\n",
      "[1.0, 0.6732290609799729]\n",
      "[1.0, 0.9938455593545891]\n",
      "mAP strict= 0.8366145304899865 ; mAP relaxed = 0.9969227796772946\n",
      "2023-05-28 16:43:41 - mAP strict:   \t83.66\n",
      "2023-05-28 16:43:41 - mAP relaxed:   \t99.69\n"
     ]
    },
    {
     "data": {
      "application/vnd.jupyter.widget-view+json": {
       "model_id": "2ee20ffb49c2498d8ec28f4ab3d1d8f2",
       "version_major": 2,
       "version_minor": 0
      },
      "text/plain": [
       "Iteration:   0%|          | 0/2354 [00:00<?, ?it/s]"
      ]
     },
     "metadata": {},
     "output_type": "display_data"
    },
    {
     "name": "stdout",
     "output_type": "stream",
     "text": [
      "2023-05-28 16:44:56 - TripletEvaluator: Evaluating the model on dev dataset in epoch 8 after 500 steps:\n",
      "[1.0, 0.8284324774863744]\n",
      "[1.0, 0.9692858749695326]\n",
      "mAP strict= 0.9142162387431871 ; mAP relaxed = 0.9846429374847663\n",
      "2023-05-28 16:44:56 - mAP strict:   \t91.42\n",
      "2023-05-28 16:44:56 - mAP relaxed:   \t98.46\n",
      "2023-05-28 16:46:09 - TripletEvaluator: Evaluating the model on dev dataset in epoch 8 after 1000 steps:\n",
      "[1.0, 0.6896376784015934]\n",
      "[1.0, 0.9754842669052681]\n",
      "mAP strict= 0.8448188392007967 ; mAP relaxed = 0.9877421334526341\n",
      "2023-05-28 16:46:09 - mAP strict:   \t84.48\n",
      "2023-05-28 16:46:09 - mAP relaxed:   \t98.77\n",
      "2023-05-28 16:47:22 - TripletEvaluator: Evaluating the model on dev dataset in epoch 8 after 1500 steps:\n",
      "[1.0, 0.8652724320572498]\n",
      "[1.0, 0.9645220562297968]\n",
      "mAP strict= 0.9326362160286249 ; mAP relaxed = 0.9822610281148985\n",
      "2023-05-28 16:47:23 - mAP strict:   \t93.26\n",
      "2023-05-28 16:47:23 - mAP relaxed:   \t98.23\n",
      "2023-05-28 16:48:36 - TripletEvaluator: Evaluating the model on dev dataset in epoch 8 after 2000 steps:\n",
      "[1.0, 0.8468352664591433]\n",
      "[1.0, 0.9762260714867643]\n",
      "mAP strict= 0.9234176332295716 ; mAP relaxed = 0.9881130357433822\n",
      "2023-05-28 16:48:36 - mAP strict:   \t92.34\n",
      "2023-05-28 16:48:36 - mAP relaxed:   \t98.81\n",
      "2023-05-28 16:49:29 - TripletEvaluator: Evaluating the model on dev dataset after epoch 8:\n",
      "[1.0, 0.8492568991366526]\n",
      "[1.0, 0.9736631296563031]\n",
      "mAP strict= 0.9246284495683263 ; mAP relaxed = 0.9868315648281516\n",
      "2023-05-28 16:49:29 - mAP strict:   \t92.46\n",
      "2023-05-28 16:49:29 - mAP relaxed:   \t98.68\n"
     ]
    },
    {
     "data": {
      "application/vnd.jupyter.widget-view+json": {
       "model_id": "66a2e8743ada4c66963f7837cbf14b35",
       "version_major": 2,
       "version_minor": 0
      },
      "text/plain": [
       "Iteration:   0%|          | 0/2354 [00:00<?, ?it/s]"
      ]
     },
     "metadata": {},
     "output_type": "display_data"
    },
    {
     "name": "stdout",
     "output_type": "stream",
     "text": [
      "2023-05-28 16:50:43 - TripletEvaluator: Evaluating the model on dev dataset in epoch 9 after 500 steps:\n",
      "[1.0, 0.8482613224968896]\n",
      "[1.0, 0.9721340633313602]\n",
      "mAP strict= 0.9241306612484448 ; mAP relaxed = 0.9860670316656801\n",
      "2023-05-28 16:50:43 - mAP strict:   \t92.41\n",
      "2023-05-28 16:50:43 - mAP relaxed:   \t98.61\n",
      "2023-05-28 16:51:56 - TripletEvaluator: Evaluating the model on dev dataset in epoch 9 after 1000 steps:\n",
      "[1.0, 0.8367620629092026]\n",
      "[1.0, 0.9840200659878413]\n",
      "mAP strict= 0.9183810314546013 ; mAP relaxed = 0.9920100329939207\n",
      "2023-05-28 16:51:57 - mAP strict:   \t91.84\n",
      "2023-05-28 16:51:57 - mAP relaxed:   \t99.20\n",
      "2023-05-28 16:53:10 - TripletEvaluator: Evaluating the model on dev dataset in epoch 9 after 1500 steps:\n",
      "[1.0, 0.840085511907695]\n",
      "[1.0, 0.9766887756938829]\n",
      "mAP strict= 0.9200427559538475 ; mAP relaxed = 0.9883443878469415\n",
      "2023-05-28 16:53:11 - mAP strict:   \t92.00\n",
      "2023-05-28 16:53:11 - mAP relaxed:   \t98.83\n",
      "2023-05-28 16:54:25 - TripletEvaluator: Evaluating the model on dev dataset in epoch 9 after 2000 steps:\n",
      "[1.0, 0.8419459887592389]\n",
      "[1.0, 0.9739577908386557]\n",
      "mAP strict= 0.9209729943796194 ; mAP relaxed = 0.9869788954193279\n",
      "2023-05-28 16:54:25 - mAP strict:   \t92.10\n",
      "2023-05-28 16:54:25 - mAP relaxed:   \t98.70\n",
      "2023-05-28 16:55:17 - TripletEvaluator: Evaluating the model on dev dataset after epoch 9:\n",
      "[1.0, 0.842291488999055]\n",
      "[1.0, 0.9760111282770079]\n",
      "mAP strict= 0.9211457444995275 ; mAP relaxed = 0.9880055641385039\n",
      "2023-05-28 16:55:17 - mAP strict:   \t92.11\n",
      "2023-05-28 16:55:17 - mAP relaxed:   \t98.80\n"
     ]
    }
   ],
   "source": [
    "domain = \"Restaurants\"\n",
    "# Train, evaluate on Rev-KP\n",
    "train_model(f'./training_material/siamese-data/out-of-category/{domain}/',\n",
    "            f'./training_material/siamese-data/out-of-category/{domain}/',\n",
    "            'dev',\n",
    "            f'./model/ASKPA/out-of-category/{domain}/',\n",
    "            './model/roberta-large-pretrained-yelp/checkpoint-134060/',\n",
    "            model_suffix='contrastive-10-epochs',\n",
    "            data_file_suffix='contrastive',\n",
    "            num_epochs=10, max_seq_length=128, add_special_token=True, train_batch_size=16, loss='ContrastiveLoss')"
   ]
  },
  {
   "cell_type": "code",
   "execution_count": null,
   "id": "707942ac",
   "metadata": {},
   "outputs": [],
   "source": []
  }
 ],
 "metadata": {
  "kernelspec": {
   "display_name": "Python 3 (ipykernel)",
   "language": "python",
   "name": "python3"
  },
  "language_info": {
   "codemirror_mode": {
    "name": "ipython",
    "version": 3
   },
   "file_extension": ".py",
   "mimetype": "text/x-python",
   "name": "python",
   "nbconvert_exporter": "python",
   "pygments_lexer": "ipython3",
   "version": "3.9.12"
  },
  "toc": {
   "base_numbering": 1,
   "nav_menu": {},
   "number_sections": true,
   "sideBar": true,
   "skip_h1_title": false,
   "title_cell": "Table of Contents",
   "title_sidebar": "Contents",
   "toc_cell": false,
   "toc_position": {},
   "toc_section_display": true,
   "toc_window_display": true
  }
 },
 "nbformat": 4,
 "nbformat_minor": 5
}
