{
 "cells": [
  {
   "cell_type": "code",
   "execution_count": 1,
   "id": "ce931368",
   "metadata": {
    "pycharm": {
     "name": "#%%\n"
    }
   },
   "outputs": [],
   "source": [
    "import torch\n",
    "torch.cuda.empty_cache()"
   ]
  },
  {
   "cell_type": "code",
   "execution_count": 2,
   "id": "85f9856c",
   "metadata": {
    "pycharm": {
     "name": "#%%\n"
    }
   },
   "outputs": [],
   "source": [
    "import json\n",
    "import pandas as pd\n",
    "import numpy as np\n",
    "import matplotlib.pyplot as plt"
   ]
  },
  {
   "cell_type": "code",
   "execution_count": 3,
   "id": "abe7ad13",
   "metadata": {
    "pycharm": {
     "name": "#%%\n"
    }
   },
   "outputs": [
    {
     "name": "stderr",
     "output_type": "stream",
     "text": [
      "/home/an/anaconda3/envs/deep_learning_env_2/lib/python3.9/site-packages/scipy/__init__.py:146: UserWarning: A NumPy version >=1.16.5 and <1.23.0 is required for this version of SciPy (detected version 1.23.5\n",
      "  warnings.warn(f\"A NumPy version >={np_minversion} and <{np_maxversion}\"\n"
     ]
    }
   ],
   "source": [
    "from sentence_transformers import SentenceTransformer, InputExample, LoggingHandler, losses, models, util\n",
    "import torch"
   ]
  },
  {
   "cell_type": "code",
   "execution_count": 4,
   "id": "7dd5f01a",
   "metadata": {
    "pycharm": {
     "name": "#%%\n"
    }
   },
   "outputs": [],
   "source": [
    "from datasets import concatenate_datasets, load_dataset\n",
    "from datasets import Dataset, DatasetDict\n",
    "from sklearn.metrics import recall_score, precision_score"
   ]
  },
  {
   "cell_type": "code",
   "execution_count": 5,
   "id": "638abf06",
   "metadata": {
    "pycharm": {
     "name": "#%%\n"
    }
   },
   "outputs": [],
   "source": [
    "pd.set_option('display.max_colwidth', None)"
   ]
  },
  {
   "cell_type": "markdown",
   "id": "d7fc77e6",
   "metadata": {
    "pycharm": {
     "name": "#%% md\n"
    }
   },
   "source": [
    "# Load Test dataset"
   ]
  },
  {
   "cell_type": "code",
   "execution_count": 6,
   "id": "76e521c3",
   "metadata": {
    "pycharm": {
     "name": "#%%\n"
    }
   },
   "outputs": [],
   "source": [
    "df = pd.read_pickle(f\"../data/Evaluation/test_data.pkl\")"
   ]
  },
  {
   "cell_type": "code",
   "execution_count": 7,
   "id": "e0d540c2",
   "metadata": {
    "pycharm": {
     "name": "#%%\n"
    }
   },
   "outputs": [
    {
     "data": {
      "text/html": [
       "<div>\n",
       "<style scoped>\n",
       "    .dataframe tbody tr th:only-of-type {\n",
       "        vertical-align: middle;\n",
       "    }\n",
       "\n",
       "    .dataframe tbody tr th {\n",
       "        vertical-align: top;\n",
       "    }\n",
       "\n",
       "    .dataframe thead th {\n",
       "        text-align: right;\n",
       "    }\n",
       "</style>\n",
       "<table border=\"1\" class=\"dataframe\">\n",
       "  <thead>\n",
       "    <tr style=\"text-align: right;\">\n",
       "      <th></th>\n",
       "      <th>HITId</th>\n",
       "      <th>comment_id</th>\n",
       "      <th>label</th>\n",
       "      <th>full_key_point</th>\n",
       "      <th>key_point_id</th>\n",
       "      <th>comment</th>\n",
       "      <th>full_comment</th>\n",
       "      <th>attributes</th>\n",
       "      <th>topic</th>\n",
       "      <th>isMultiAspect</th>\n",
       "      <th>...</th>\n",
       "      <th>old_key_point_id</th>\n",
       "      <th>key_point</th>\n",
       "      <th>aspects_x</th>\n",
       "      <th>opinions_x</th>\n",
       "      <th>opinion_aspect_pairs_x</th>\n",
       "      <th>sentiments_x</th>\n",
       "      <th>aspects_y</th>\n",
       "      <th>opinions_y</th>\n",
       "      <th>opinion_aspect_pairs_y</th>\n",
       "      <th>sentiments_y</th>\n",
       "    </tr>\n",
       "  </thead>\n",
       "  <tbody>\n",
       "    <tr>\n",
       "      <th>0</th>\n",
       "      <td>302U8RURJZ1WH0D09XZ8R7HSOP5NVW</td>\n",
       "      <td>arg_0_537</td>\n",
       "      <td>1</td>\n",
       "      <td>Terrible administration and management .</td>\n",
       "      <td>kp_0_2</td>\n",
       "      <td>[uninviting experience &lt;SEP&gt; negative, rude employees &lt;SEP&gt; negative]</td>\n",
       "      <td>Employees are rude and make the experience uninviting .</td>\n",
       "      <td>[restaurant -&gt; atmosphere, staff]</td>\n",
       "      <td>Arts &amp; Entertainment</td>\n",
       "      <td>True</td>\n",
       "      <td>...</td>\n",
       "      <td>kp_0_2</td>\n",
       "      <td>terrible administration &lt;SEP&gt; negative</td>\n",
       "      <td>[experience, employees]</td>\n",
       "      <td>[uninviting, rude]</td>\n",
       "      <td>[uninviting experience, rude employees]</td>\n",
       "      <td>[negative, negative]</td>\n",
       "      <td>administration</td>\n",
       "      <td>terrible</td>\n",
       "      <td>['terrible administration']</td>\n",
       "      <td>['negative']</td>\n",
       "    </tr>\n",
       "    <tr>\n",
       "      <th>1</th>\n",
       "      <td>302U8RURJZ1WH0D09XZ8R7HSOP5NVW</td>\n",
       "      <td>arg_0_537</td>\n",
       "      <td>1</td>\n",
       "      <td>Rude and Unprofessional staff .</td>\n",
       "      <td>kp_0_24</td>\n",
       "      <td>[uninviting experience &lt;SEP&gt; negative, rude employees &lt;SEP&gt; negative]</td>\n",
       "      <td>Employees are rude and make the experience uninviting .</td>\n",
       "      <td>[restaurant -&gt; atmosphere, staff]</td>\n",
       "      <td>Arts &amp; Entertainment</td>\n",
       "      <td>True</td>\n",
       "      <td>...</td>\n",
       "      <td>kp_0_24</td>\n",
       "      <td>unprofessional staff &lt;SEP&gt; negative</td>\n",
       "      <td>[experience, employees]</td>\n",
       "      <td>[uninviting, rude]</td>\n",
       "      <td>[uninviting experience, rude employees]</td>\n",
       "      <td>[negative, negative]</td>\n",
       "      <td>staff</td>\n",
       "      <td>unprofessional</td>\n",
       "      <td>['unprofessional staff']</td>\n",
       "      <td>['negative']</td>\n",
       "    </tr>\n",
       "    <tr>\n",
       "      <th>2</th>\n",
       "      <td>302U8RURJZ1WH0D09XZ8R7HSOP5NVW</td>\n",
       "      <td>arg_0_537</td>\n",
       "      <td>0</td>\n",
       "      <td>Great for conventions and concerts ! !</td>\n",
       "      <td>kp_0_4</td>\n",
       "      <td>[uninviting experience &lt;SEP&gt; negative, rude employees &lt;SEP&gt; negative]</td>\n",
       "      <td>Employees are rude and make the experience uninviting .</td>\n",
       "      <td>[restaurant -&gt; atmosphere, staff]</td>\n",
       "      <td>Arts &amp; Entertainment</td>\n",
       "      <td>True</td>\n",
       "      <td>...</td>\n",
       "      <td>kp_0_4</td>\n",
       "      <td>great for conventions &lt;SEP&gt; positive</td>\n",
       "      <td>[experience, employees]</td>\n",
       "      <td>[uninviting, rude]</td>\n",
       "      <td>[uninviting experience, rude employees]</td>\n",
       "      <td>[negative, negative]</td>\n",
       "      <td>conventions</td>\n",
       "      <td>great for</td>\n",
       "      <td>['great for conventions']</td>\n",
       "      <td>['positive']</td>\n",
       "    </tr>\n",
       "    <tr>\n",
       "      <th>3</th>\n",
       "      <td>302U8RURJZ1WH0D09XZ8R7HSOP5NVW</td>\n",
       "      <td>arg_0_537</td>\n",
       "      <td>0</td>\n",
       "      <td>Horrible customer service .</td>\n",
       "      <td>kp_0_5</td>\n",
       "      <td>[uninviting experience &lt;SEP&gt; negative, rude employees &lt;SEP&gt; negative]</td>\n",
       "      <td>Employees are rude and make the experience uninviting .</td>\n",
       "      <td>[restaurant -&gt; atmosphere, staff]</td>\n",
       "      <td>Arts &amp; Entertainment</td>\n",
       "      <td>True</td>\n",
       "      <td>...</td>\n",
       "      <td>kp_0_5</td>\n",
       "      <td>horrible customer service &lt;SEP&gt; negative</td>\n",
       "      <td>[experience, employees]</td>\n",
       "      <td>[uninviting, rude]</td>\n",
       "      <td>[uninviting experience, rude employees]</td>\n",
       "      <td>[negative, negative]</td>\n",
       "      <td>customer service</td>\n",
       "      <td>horrible</td>\n",
       "      <td>['horrible customer service']</td>\n",
       "      <td>['negative']</td>\n",
       "    </tr>\n",
       "    <tr>\n",
       "      <th>4</th>\n",
       "      <td>302U8RURJZ1WH0D09XZ8R7HSOP5NVW</td>\n",
       "      <td>arg_0_537</td>\n",
       "      <td>0</td>\n",
       "      <td>It had wonderful acoustics .</td>\n",
       "      <td>kp_0_0</td>\n",
       "      <td>[uninviting experience &lt;SEP&gt; negative, rude employees &lt;SEP&gt; negative]</td>\n",
       "      <td>Employees are rude and make the experience uninviting .</td>\n",
       "      <td>[restaurant -&gt; atmosphere, staff]</td>\n",
       "      <td>Arts &amp; Entertainment</td>\n",
       "      <td>True</td>\n",
       "      <td>...</td>\n",
       "      <td>kp_0_0</td>\n",
       "      <td>wonderful acoustics &lt;SEP&gt; positive</td>\n",
       "      <td>[experience, employees]</td>\n",
       "      <td>[uninviting, rude]</td>\n",
       "      <td>[uninviting experience, rude employees]</td>\n",
       "      <td>[negative, negative]</td>\n",
       "      <td>acoustics</td>\n",
       "      <td>wonderful</td>\n",
       "      <td>['wonderful acoustics']</td>\n",
       "      <td>['positive']</td>\n",
       "    </tr>\n",
       "    <tr>\n",
       "      <th>...</th>\n",
       "      <td>...</td>\n",
       "      <td>...</td>\n",
       "      <td>...</td>\n",
       "      <td>...</td>\n",
       "      <td>...</td>\n",
       "      <td>...</td>\n",
       "      <td>...</td>\n",
       "      <td>...</td>\n",
       "      <td>...</td>\n",
       "      <td>...</td>\n",
       "      <td>...</td>\n",
       "      <td>...</td>\n",
       "      <td>...</td>\n",
       "      <td>...</td>\n",
       "      <td>...</td>\n",
       "      <td>...</td>\n",
       "      <td>...</td>\n",
       "      <td>...</td>\n",
       "      <td>...</td>\n",
       "      <td>...</td>\n",
       "      <td>...</td>\n",
       "    </tr>\n",
       "    <tr>\n",
       "      <th>6794</th>\n",
       "      <td>3ZXV7Q5FJBOOUZUJKSLQTAKU1UIFC3</td>\n",
       "      <td>arg_4_6440</td>\n",
       "      <td>0</td>\n",
       "      <td>Great family owned restaurant .</td>\n",
       "      <td>kp_4_25</td>\n",
       "      <td>[friendly staff &lt;SEP&gt; positive]</td>\n",
       "      <td>The staff are friendly and attentive .</td>\n",
       "      <td>[staff]</td>\n",
       "      <td>Restaurants</td>\n",
       "      <td>False</td>\n",
       "      <td>...</td>\n",
       "      <td>kp_4_25</td>\n",
       "      <td>great family owned restaurant &lt;SEP&gt; positive</td>\n",
       "      <td>[staff]</td>\n",
       "      <td>[friendly]</td>\n",
       "      <td>[friendly staff]</td>\n",
       "      <td>[positive]</td>\n",
       "      <td>restaurant</td>\n",
       "      <td>great family owned</td>\n",
       "      <td>['great family owned restaurant']</td>\n",
       "      <td>['positive']</td>\n",
       "    </tr>\n",
       "    <tr>\n",
       "      <th>6795</th>\n",
       "      <td>3ZXV7Q5FJBOOUZUJKSLQTAKU1UIFC3</td>\n",
       "      <td>arg_4_6440</td>\n",
       "      <td>0</td>\n",
       "      <td>Worst service in the world !</td>\n",
       "      <td>kp_4_27</td>\n",
       "      <td>[friendly staff &lt;SEP&gt; positive]</td>\n",
       "      <td>The staff are friendly and attentive .</td>\n",
       "      <td>[staff]</td>\n",
       "      <td>Restaurants</td>\n",
       "      <td>False</td>\n",
       "      <td>...</td>\n",
       "      <td>kp_4_27</td>\n",
       "      <td>worst service &lt;SEP&gt; negative</td>\n",
       "      <td>[staff]</td>\n",
       "      <td>[friendly]</td>\n",
       "      <td>[friendly staff]</td>\n",
       "      <td>[positive]</td>\n",
       "      <td>service</td>\n",
       "      <td>worst</td>\n",
       "      <td>['worst service']</td>\n",
       "      <td>['negative']</td>\n",
       "    </tr>\n",
       "    <tr>\n",
       "      <th>6796</th>\n",
       "      <td>3ZXV7Q5FJBOOUZUJKSLQTAKU1UIFC3</td>\n",
       "      <td>arg_4_6440</td>\n",
       "      <td>0</td>\n",
       "      <td>Rude and inattentive staff .</td>\n",
       "      <td>kp_4_30</td>\n",
       "      <td>[friendly staff &lt;SEP&gt; positive]</td>\n",
       "      <td>The staff are friendly and attentive .</td>\n",
       "      <td>[staff]</td>\n",
       "      <td>Restaurants</td>\n",
       "      <td>False</td>\n",
       "      <td>...</td>\n",
       "      <td>kp_4_30</td>\n",
       "      <td>inattentive staff &lt;SEP&gt; negative</td>\n",
       "      <td>[staff]</td>\n",
       "      <td>[friendly]</td>\n",
       "      <td>[friendly staff]</td>\n",
       "      <td>[positive]</td>\n",
       "      <td>staff</td>\n",
       "      <td>inattentive</td>\n",
       "      <td>['inattentive staff']</td>\n",
       "      <td>['negative']</td>\n",
       "    </tr>\n",
       "    <tr>\n",
       "      <th>6797</th>\n",
       "      <td>3ZXV7Q5FJBOOUZUJKSLQTAKU1UIFC3</td>\n",
       "      <td>arg_4_6440</td>\n",
       "      <td>0</td>\n",
       "      <td>Great sushi and sashimi .</td>\n",
       "      <td>kp_4_31</td>\n",
       "      <td>[friendly staff &lt;SEP&gt; positive]</td>\n",
       "      <td>The staff are friendly and attentive .</td>\n",
       "      <td>[staff]</td>\n",
       "      <td>Restaurants</td>\n",
       "      <td>False</td>\n",
       "      <td>...</td>\n",
       "      <td>kp_4_31</td>\n",
       "      <td>great sushi &lt;SEP&gt; positive</td>\n",
       "      <td>[staff]</td>\n",
       "      <td>[friendly]</td>\n",
       "      <td>[friendly staff]</td>\n",
       "      <td>[positive]</td>\n",
       "      <td>sushi</td>\n",
       "      <td>great</td>\n",
       "      <td>['great sushi']</td>\n",
       "      <td>['positive']</td>\n",
       "    </tr>\n",
       "    <tr>\n",
       "      <th>6798</th>\n",
       "      <td>3ZXV7Q5FJBOOUZUJKSLQTAKU1UIFC3</td>\n",
       "      <td>arg_4_6440</td>\n",
       "      <td>0</td>\n",
       "      <td>Wait times are very long .</td>\n",
       "      <td>kp_4_32</td>\n",
       "      <td>[friendly staff &lt;SEP&gt; positive]</td>\n",
       "      <td>The staff are friendly and attentive .</td>\n",
       "      <td>[staff]</td>\n",
       "      <td>Restaurants</td>\n",
       "      <td>False</td>\n",
       "      <td>...</td>\n",
       "      <td>kp_4_32</td>\n",
       "      <td>very long wait times &lt;SEP&gt; negative</td>\n",
       "      <td>[staff]</td>\n",
       "      <td>[friendly]</td>\n",
       "      <td>[friendly staff]</td>\n",
       "      <td>[positive]</td>\n",
       "      <td>wait times</td>\n",
       "      <td>very long</td>\n",
       "      <td>['very long wait times']</td>\n",
       "      <td>['negative']</td>\n",
       "    </tr>\n",
       "  </tbody>\n",
       "</table>\n",
       "<p>6799 rows × 22 columns</p>\n",
       "</div>"
      ],
      "text/plain": [
       "                               HITId  comment_id  label  \\\n",
       "0     302U8RURJZ1WH0D09XZ8R7HSOP5NVW   arg_0_537      1   \n",
       "1     302U8RURJZ1WH0D09XZ8R7HSOP5NVW   arg_0_537      1   \n",
       "2     302U8RURJZ1WH0D09XZ8R7HSOP5NVW   arg_0_537      0   \n",
       "3     302U8RURJZ1WH0D09XZ8R7HSOP5NVW   arg_0_537      0   \n",
       "4     302U8RURJZ1WH0D09XZ8R7HSOP5NVW   arg_0_537      0   \n",
       "...                              ...         ...    ...   \n",
       "6794  3ZXV7Q5FJBOOUZUJKSLQTAKU1UIFC3  arg_4_6440      0   \n",
       "6795  3ZXV7Q5FJBOOUZUJKSLQTAKU1UIFC3  arg_4_6440      0   \n",
       "6796  3ZXV7Q5FJBOOUZUJKSLQTAKU1UIFC3  arg_4_6440      0   \n",
       "6797  3ZXV7Q5FJBOOUZUJKSLQTAKU1UIFC3  arg_4_6440      0   \n",
       "6798  3ZXV7Q5FJBOOUZUJKSLQTAKU1UIFC3  arg_4_6440      0   \n",
       "\n",
       "                                full_key_point key_point_id  \\\n",
       "0     Terrible administration and management .       kp_0_2   \n",
       "1              Rude and Unprofessional staff .      kp_0_24   \n",
       "2       Great for conventions and concerts ! !       kp_0_4   \n",
       "3                  Horrible customer service .       kp_0_5   \n",
       "4                 It had wonderful acoustics .       kp_0_0   \n",
       "...                                        ...          ...   \n",
       "6794           Great family owned restaurant .      kp_4_25   \n",
       "6795            Worst service in the world !        kp_4_27   \n",
       "6796              Rude and inattentive staff .      kp_4_30   \n",
       "6797                 Great sushi and sashimi .      kp_4_31   \n",
       "6798              Wait times are very long .        kp_4_32   \n",
       "\n",
       "                                                                    comment  \\\n",
       "0     [uninviting experience <SEP> negative, rude employees <SEP> negative]   \n",
       "1     [uninviting experience <SEP> negative, rude employees <SEP> negative]   \n",
       "2     [uninviting experience <SEP> negative, rude employees <SEP> negative]   \n",
       "3     [uninviting experience <SEP> negative, rude employees <SEP> negative]   \n",
       "4     [uninviting experience <SEP> negative, rude employees <SEP> negative]   \n",
       "...                                                                     ...   \n",
       "6794                                        [friendly staff <SEP> positive]   \n",
       "6795                                        [friendly staff <SEP> positive]   \n",
       "6796                                        [friendly staff <SEP> positive]   \n",
       "6797                                        [friendly staff <SEP> positive]   \n",
       "6798                                        [friendly staff <SEP> positive]   \n",
       "\n",
       "                                                 full_comment  \\\n",
       "0     Employees are rude and make the experience uninviting .   \n",
       "1     Employees are rude and make the experience uninviting .   \n",
       "2     Employees are rude and make the experience uninviting .   \n",
       "3     Employees are rude and make the experience uninviting .   \n",
       "4     Employees are rude and make the experience uninviting .   \n",
       "...                                                       ...   \n",
       "6794                   The staff are friendly and attentive .   \n",
       "6795                   The staff are friendly and attentive .   \n",
       "6796                   The staff are friendly and attentive .   \n",
       "6797                   The staff are friendly and attentive .   \n",
       "6798                   The staff are friendly and attentive .   \n",
       "\n",
       "                             attributes                 topic  isMultiAspect  \\\n",
       "0     [restaurant -> atmosphere, staff]  Arts & Entertainment           True   \n",
       "1     [restaurant -> atmosphere, staff]  Arts & Entertainment           True   \n",
       "2     [restaurant -> atmosphere, staff]  Arts & Entertainment           True   \n",
       "3     [restaurant -> atmosphere, staff]  Arts & Entertainment           True   \n",
       "4     [restaurant -> atmosphere, staff]  Arts & Entertainment           True   \n",
       "...                                 ...                   ...            ...   \n",
       "6794                            [staff]           Restaurants          False   \n",
       "6795                            [staff]           Restaurants          False   \n",
       "6796                            [staff]           Restaurants          False   \n",
       "6797                            [staff]           Restaurants          False   \n",
       "6798                            [staff]           Restaurants          False   \n",
       "\n",
       "      ...  old_key_point_id                                     key_point  \\\n",
       "0     ...            kp_0_2        terrible administration <SEP> negative   \n",
       "1     ...           kp_0_24           unprofessional staff <SEP> negative   \n",
       "2     ...            kp_0_4          great for conventions <SEP> positive   \n",
       "3     ...            kp_0_5      horrible customer service <SEP> negative   \n",
       "4     ...            kp_0_0            wonderful acoustics <SEP> positive   \n",
       "...   ...               ...                                           ...   \n",
       "6794  ...           kp_4_25  great family owned restaurant <SEP> positive   \n",
       "6795  ...           kp_4_27                  worst service <SEP> negative   \n",
       "6796  ...           kp_4_30              inattentive staff <SEP> negative   \n",
       "6797  ...           kp_4_31                    great sushi <SEP> positive   \n",
       "6798  ...           kp_4_32           very long wait times <SEP> negative   \n",
       "\n",
       "                    aspects_x          opinions_x  \\\n",
       "0     [experience, employees]  [uninviting, rude]   \n",
       "1     [experience, employees]  [uninviting, rude]   \n",
       "2     [experience, employees]  [uninviting, rude]   \n",
       "3     [experience, employees]  [uninviting, rude]   \n",
       "4     [experience, employees]  [uninviting, rude]   \n",
       "...                       ...                 ...   \n",
       "6794                  [staff]          [friendly]   \n",
       "6795                  [staff]          [friendly]   \n",
       "6796                  [staff]          [friendly]   \n",
       "6797                  [staff]          [friendly]   \n",
       "6798                  [staff]          [friendly]   \n",
       "\n",
       "                       opinion_aspect_pairs_x          sentiments_x  \\\n",
       "0     [uninviting experience, rude employees]  [negative, negative]   \n",
       "1     [uninviting experience, rude employees]  [negative, negative]   \n",
       "2     [uninviting experience, rude employees]  [negative, negative]   \n",
       "3     [uninviting experience, rude employees]  [negative, negative]   \n",
       "4     [uninviting experience, rude employees]  [negative, negative]   \n",
       "...                                       ...                   ...   \n",
       "6794                         [friendly staff]            [positive]   \n",
       "6795                         [friendly staff]            [positive]   \n",
       "6796                         [friendly staff]            [positive]   \n",
       "6797                         [friendly staff]            [positive]   \n",
       "6798                         [friendly staff]            [positive]   \n",
       "\n",
       "             aspects_y          opinions_y             opinion_aspect_pairs_y  \\\n",
       "0       administration            terrible        ['terrible administration']   \n",
       "1                staff      unprofessional           ['unprofessional staff']   \n",
       "2          conventions           great for          ['great for conventions']   \n",
       "3     customer service            horrible      ['horrible customer service']   \n",
       "4            acoustics           wonderful            ['wonderful acoustics']   \n",
       "...                ...                 ...                                ...   \n",
       "6794        restaurant  great family owned  ['great family owned restaurant']   \n",
       "6795           service               worst                  ['worst service']   \n",
       "6796             staff         inattentive              ['inattentive staff']   \n",
       "6797             sushi               great                    ['great sushi']   \n",
       "6798        wait times           very long           ['very long wait times']   \n",
       "\n",
       "      sentiments_y  \n",
       "0     ['negative']  \n",
       "1     ['negative']  \n",
       "2     ['positive']  \n",
       "3     ['negative']  \n",
       "4     ['positive']  \n",
       "...            ...  \n",
       "6794  ['positive']  \n",
       "6795  ['negative']  \n",
       "6796  ['negative']  \n",
       "6797  ['positive']  \n",
       "6798  ['negative']  \n",
       "\n",
       "[6799 rows x 22 columns]"
      ]
     },
     "execution_count": 7,
     "metadata": {},
     "output_type": "execute_result"
    }
   ],
   "source": [
    "df"
   ]
  },
  {
   "cell_type": "code",
   "execution_count": 8,
   "id": "491e1a6c",
   "metadata": {
    "pycharm": {
     "name": "#%%\n"
    }
   },
   "outputs": [
    {
     "data": {
      "text/plain": [
       "0    6380\n",
       "1     419\n",
       "Name: label, dtype: int64"
      ]
     },
     "execution_count": 8,
     "metadata": {},
     "output_type": "execute_result"
    }
   ],
   "source": [
    "df['label'].value_counts()"
   ]
  },
  {
   "cell_type": "markdown",
   "id": "b066b986",
   "metadata": {
    "pycharm": {
     "name": "#%% md\n"
    }
   },
   "source": [
    "# Evaluation"
   ]
  },
  {
   "cell_type": "code",
   "execution_count": 9,
   "id": "d0008536",
   "metadata": {
    "pycharm": {
     "name": "#%%\n"
    }
   },
   "outputs": [],
   "source": [
    "from utils.KeyPointEvaluator import *\n",
    "from utils.KeyPointEvaluatorRev import *"
   ]
  },
  {
   "cell_type": "code",
   "execution_count": 10,
   "id": "2fb1296a",
   "metadata": {},
   "outputs": [
    {
     "data": {
      "text/plain": [
       "<function utils.KeyPointEvaluator.load_predictions(preds)>"
      ]
     },
     "execution_count": 10,
     "metadata": {},
     "output_type": "execute_result"
    }
   ],
   "source": [
    "load_predictions"
   ]
  },
  {
   "cell_type": "code",
   "execution_count": 11,
   "id": "58f1cbee",
   "metadata": {},
   "outputs": [],
   "source": [
    "def get_model(base_model_dir, category):\n",
    "    models_dir = f'{base_model_dir}/{category}'\n",
    "    latest_checkpoint = os.listdir(models_dir)[-1]\n",
    "    models_path = f'{models_dir}/{latest_checkpoint}/'\n",
    "\n",
    "    return SentenceTransformer(models_path)"
   ]
  },
  {
   "cell_type": "code",
   "execution_count": 12,
   "id": "45def4b0",
   "metadata": {
    "pycharm": {
     "name": "#%%\n"
    }
   },
   "outputs": [],
   "source": [
    "def do_eval(df, model, in_category=True):\n",
    "    comment_df, kp_df, labels_df = prepare_comment_kp_label_input(df)\n",
    "    \n",
    "    #Perform prediction on the validation/test dataframes\n",
    "    preds = perform_preds(model, comment_df, kp_df, in_category)\n",
    "\n",
    "    # Get the best predicted KP for every review sentence\n",
    "    merged_df = get_predictions(preds, labels_df, comment_df)\n",
    "    merged_df = merged_df.drop_duplicates(subset=['comment_id', 'key_point_id'])\n",
    "    \n",
    "    precisions = calc_mean_average_precision(merged_df, \"label\")\n",
    "    \n",
    "    return merged_df, precisions"
   ]
  },
  {
   "cell_type": "markdown",
   "id": "b169cf61",
   "metadata": {
    "pycharm": {
     "name": "#%% md\n"
    }
   },
   "source": [
    "## In-category Evaluation"
   ]
  },
  {
   "cell_type": "markdown",
   "id": "7183a233",
   "metadata": {
    "pycharm": {
     "name": "#%% md\n"
    }
   },
   "source": [
    "### All Comments in test data"
   ]
  },
  {
   "cell_type": "code",
   "execution_count": 13,
   "id": "7cd76fb4",
   "metadata": {},
   "outputs": [
    {
     "name": "stdout",
     "output_type": "stream",
     "text": [
      "########## IN-CATEGORY EVALUATION ##########\n"
     ]
    },
    {
     "data": {
      "text/html": [
       "<div>\n",
       "<style scoped>\n",
       "    .dataframe tbody tr th:only-of-type {\n",
       "        vertical-align: middle;\n",
       "    }\n",
       "\n",
       "    .dataframe tbody tr th {\n",
       "        vertical-align: top;\n",
       "    }\n",
       "\n",
       "    .dataframe thead th {\n",
       "        text-align: right;\n",
       "    }\n",
       "</style>\n",
       "<table border=\"1\" class=\"dataframe\">\n",
       "  <thead>\n",
       "    <tr style=\"text-align: right;\">\n",
       "      <th></th>\n",
       "      <th>Business Category</th>\n",
       "      <th>Average Precision</th>\n",
       "    </tr>\n",
       "  </thead>\n",
       "  <tbody>\n",
       "    <tr>\n",
       "      <th>0</th>\n",
       "      <td>Arts &amp; Entertainment</td>\n",
       "      <td>1.0</td>\n",
       "    </tr>\n",
       "    <tr>\n",
       "      <th>1</th>\n",
       "      <td>Automotive</td>\n",
       "      <td>0.774513</td>\n",
       "    </tr>\n",
       "    <tr>\n",
       "      <th>2</th>\n",
       "      <td>Beauty &amp; Spas</td>\n",
       "      <td>0.977106</td>\n",
       "    </tr>\n",
       "    <tr>\n",
       "      <th>3</th>\n",
       "      <td>Hotels</td>\n",
       "      <td>0.988942</td>\n",
       "    </tr>\n",
       "    <tr>\n",
       "      <th>4</th>\n",
       "      <td>Restaurants</td>\n",
       "      <td>0.865774</td>\n",
       "    </tr>\n",
       "  </tbody>\n",
       "</table>\n",
       "</div>"
      ],
      "text/plain": [
       "      Business Category Average Precision\n",
       "0  Arts & Entertainment               1.0\n",
       "1            Automotive          0.774513\n",
       "2         Beauty & Spas          0.977106\n",
       "3                Hotels          0.988942\n",
       "4           Restaurants          0.865774"
      ]
     },
     "execution_count": 13,
     "metadata": {},
     "output_type": "execute_result"
    }
   ],
   "source": [
    "print(f\"########## IN-CATEGORY EVALUATION ##########\")\n",
    "perf = []\n",
    "for category in sorted(df['topic'].unique()):\n",
    "#     models_path = 'quangantang/roberta-large-askpa-kp-matching'\n",
    "#     pred_output_path = './training_material/inference-results/'\n",
    "    base_model_dir = f'./model/ASKPA/in-category/'\n",
    "    model = get_model(base_model_dir, category)\n",
    "    \n",
    "    merged_df, precisions = do_eval(df[df['topic'] == category], model)\n",
    "    del model\n",
    "    torch.cuda.empty_cache()\n",
    "    \n",
    "    perf += [pd.Series({'Business Category': category, 'Average Precision': precisions})]\n",
    "\n",
    "perf_df = pd.concat(perf, axis=1).T\n",
    "perf_df"
   ]
  },
  {
   "cell_type": "markdown",
   "id": "ffb5a8f1",
   "metadata": {
    "pycharm": {
     "name": "#%% md\n"
    }
   },
   "source": [
    "### Comments containing multiple opinions in test data"
   ]
  },
  {
   "cell_type": "code",
   "execution_count": 14,
   "id": "f14c9ac0",
   "metadata": {},
   "outputs": [
    {
     "name": "stdout",
     "output_type": "stream",
     "text": [
      "########## IN-CATEGORY EVALUATION ##########\n"
     ]
    },
    {
     "data": {
      "text/html": [
       "<div>\n",
       "<style scoped>\n",
       "    .dataframe tbody tr th:only-of-type {\n",
       "        vertical-align: middle;\n",
       "    }\n",
       "\n",
       "    .dataframe tbody tr th {\n",
       "        vertical-align: top;\n",
       "    }\n",
       "\n",
       "    .dataframe thead th {\n",
       "        text-align: right;\n",
       "    }\n",
       "</style>\n",
       "<table border=\"1\" class=\"dataframe\">\n",
       "  <thead>\n",
       "    <tr style=\"text-align: right;\">\n",
       "      <th></th>\n",
       "      <th>Business Category</th>\n",
       "      <th>Average Precision</th>\n",
       "    </tr>\n",
       "  </thead>\n",
       "  <tbody>\n",
       "    <tr>\n",
       "      <th>0</th>\n",
       "      <td>Arts &amp; Entertainment</td>\n",
       "      <td>1.0</td>\n",
       "    </tr>\n",
       "    <tr>\n",
       "      <th>1</th>\n",
       "      <td>Automotive</td>\n",
       "      <td>0.79619</td>\n",
       "    </tr>\n",
       "    <tr>\n",
       "      <th>2</th>\n",
       "      <td>Beauty &amp; Spas</td>\n",
       "      <td>0.942857</td>\n",
       "    </tr>\n",
       "    <tr>\n",
       "      <th>3</th>\n",
       "      <td>Hotels</td>\n",
       "      <td>0.926429</td>\n",
       "    </tr>\n",
       "    <tr>\n",
       "      <th>4</th>\n",
       "      <td>Restaurants</td>\n",
       "      <td>0.827243</td>\n",
       "    </tr>\n",
       "  </tbody>\n",
       "</table>\n",
       "</div>"
      ],
      "text/plain": [
       "      Business Category Average Precision\n",
       "0  Arts & Entertainment               1.0\n",
       "1            Automotive           0.79619\n",
       "2         Beauty & Spas          0.942857\n",
       "3                Hotels          0.926429\n",
       "4           Restaurants          0.827243"
      ]
     },
     "execution_count": 14,
     "metadata": {},
     "output_type": "execute_result"
    }
   ],
   "source": [
    "print(f\"########## IN-CATEGORY EVALUATION ##########\")\n",
    "perf = []\n",
    "for category in sorted(df['topic'].unique()):    \n",
    "    base_model_dir = f'./model/ASKPA/in-category/'\n",
    "    model = get_model(base_model_dir, category)\n",
    "    \n",
    "    merged_df, precisions = do_eval(df[(df['topic'] == category) & (df['isMultiAspect'] == True)], model)\n",
    "    del model\n",
    "    torch.cuda.empty_cache()\n",
    "    \n",
    "    perf += [pd.Series({'Business Category': category, 'Average Precision': precisions})]\n",
    "\n",
    "perf_df = pd.concat(perf, axis=1).T\n",
    "perf_df"
   ]
  },
  {
   "cell_type": "markdown",
   "id": "506d5c49",
   "metadata": {
    "pycharm": {
     "name": "#%% md\n"
    }
   },
   "source": [
    "## Out-of-category Evaluation"
   ]
  },
  {
   "cell_type": "markdown",
   "id": "8ec3945a",
   "metadata": {
    "pycharm": {
     "name": "#%% md\n"
    }
   },
   "source": [
    "### All Comments in test data"
   ]
  },
  {
   "cell_type": "code",
   "execution_count": 15,
   "id": "b211e907",
   "metadata": {},
   "outputs": [
    {
     "name": "stdout",
     "output_type": "stream",
     "text": [
      "########## OUT-OF-CATEGORY EVALUATION ##########\n"
     ]
    },
    {
     "data": {
      "text/html": [
       "<div>\n",
       "<style scoped>\n",
       "    .dataframe tbody tr th:only-of-type {\n",
       "        vertical-align: middle;\n",
       "    }\n",
       "\n",
       "    .dataframe tbody tr th {\n",
       "        vertical-align: top;\n",
       "    }\n",
       "\n",
       "    .dataframe thead th {\n",
       "        text-align: right;\n",
       "    }\n",
       "</style>\n",
       "<table border=\"1\" class=\"dataframe\">\n",
       "  <thead>\n",
       "    <tr style=\"text-align: right;\">\n",
       "      <th></th>\n",
       "      <th>Business Category</th>\n",
       "      <th>Average Precision</th>\n",
       "    </tr>\n",
       "  </thead>\n",
       "  <tbody>\n",
       "    <tr>\n",
       "      <th>0</th>\n",
       "      <td>Arts &amp; Entertainment</td>\n",
       "      <td>0.979641</td>\n",
       "    </tr>\n",
       "    <tr>\n",
       "      <th>1</th>\n",
       "      <td>Automotive</td>\n",
       "      <td>0.763807</td>\n",
       "    </tr>\n",
       "    <tr>\n",
       "      <th>2</th>\n",
       "      <td>Beauty &amp; Spas</td>\n",
       "      <td>0.939028</td>\n",
       "    </tr>\n",
       "    <tr>\n",
       "      <th>3</th>\n",
       "      <td>Hotels</td>\n",
       "      <td>0.983829</td>\n",
       "    </tr>\n",
       "    <tr>\n",
       "      <th>4</th>\n",
       "      <td>Restaurants</td>\n",
       "      <td>0.892744</td>\n",
       "    </tr>\n",
       "  </tbody>\n",
       "</table>\n",
       "</div>"
      ],
      "text/plain": [
       "      Business Category Average Precision\n",
       "0  Arts & Entertainment          0.979641\n",
       "1            Automotive          0.763807\n",
       "2         Beauty & Spas          0.939028\n",
       "3                Hotels          0.983829\n",
       "4           Restaurants          0.892744"
      ]
     },
     "execution_count": 15,
     "metadata": {},
     "output_type": "execute_result"
    }
   ],
   "source": [
    "print(f\"########## OUT-OF-CATEGORY EVALUATION ##########\")\n",
    "perf = []\n",
    "for category in sorted(df['topic'].unique()):    \n",
    "    base_model_dir = f'./model/ASKPA/out-of-category/'\n",
    "    model = get_model(base_model_dir, category)\n",
    "    \n",
    "    merged_df, precisions = do_eval(df[df['topic'] == category], model, in_category=False)\n",
    "    del model\n",
    "    torch.cuda.empty_cache()\n",
    "    \n",
    "    perf += [pd.Series({'Business Category': category, 'Average Precision': precisions})]\n",
    "\n",
    "perf_df = pd.concat(perf, axis=1).T\n",
    "perf_df"
   ]
  },
  {
   "cell_type": "markdown",
   "id": "cfadafaa",
   "metadata": {
    "pycharm": {
     "name": "#%% md\n"
    }
   },
   "source": [
    "### Comments containing multiple opinions in test data"
   ]
  },
  {
   "cell_type": "code",
   "execution_count": 16,
   "id": "673eaea7",
   "metadata": {},
   "outputs": [
    {
     "name": "stdout",
     "output_type": "stream",
     "text": [
      "########## OUT-OF-CATEGORY EVALUATION ##########\n"
     ]
    },
    {
     "data": {
      "text/html": [
       "<div>\n",
       "<style scoped>\n",
       "    .dataframe tbody tr th:only-of-type {\n",
       "        vertical-align: middle;\n",
       "    }\n",
       "\n",
       "    .dataframe tbody tr th {\n",
       "        vertical-align: top;\n",
       "    }\n",
       "\n",
       "    .dataframe thead th {\n",
       "        text-align: right;\n",
       "    }\n",
       "</style>\n",
       "<table border=\"1\" class=\"dataframe\">\n",
       "  <thead>\n",
       "    <tr style=\"text-align: right;\">\n",
       "      <th></th>\n",
       "      <th>Business Category</th>\n",
       "      <th>Average Precision</th>\n",
       "    </tr>\n",
       "  </thead>\n",
       "  <tbody>\n",
       "    <tr>\n",
       "      <th>0</th>\n",
       "      <td>Arts &amp; Entertainment</td>\n",
       "      <td>1.0</td>\n",
       "    </tr>\n",
       "    <tr>\n",
       "      <th>1</th>\n",
       "      <td>Automotive</td>\n",
       "      <td>0.642857</td>\n",
       "    </tr>\n",
       "    <tr>\n",
       "      <th>2</th>\n",
       "      <td>Beauty &amp; Spas</td>\n",
       "      <td>0.770833</td>\n",
       "    </tr>\n",
       "    <tr>\n",
       "      <th>3</th>\n",
       "      <td>Hotels</td>\n",
       "      <td>0.917582</td>\n",
       "    </tr>\n",
       "    <tr>\n",
       "      <th>4</th>\n",
       "      <td>Restaurants</td>\n",
       "      <td>0.77234</td>\n",
       "    </tr>\n",
       "  </tbody>\n",
       "</table>\n",
       "</div>"
      ],
      "text/plain": [
       "      Business Category Average Precision\n",
       "0  Arts & Entertainment               1.0\n",
       "1            Automotive          0.642857\n",
       "2         Beauty & Spas          0.770833\n",
       "3                Hotels          0.917582\n",
       "4           Restaurants           0.77234"
      ]
     },
     "execution_count": 16,
     "metadata": {},
     "output_type": "execute_result"
    }
   ],
   "source": [
    "print(f\"########## OUT-OF-CATEGORY EVALUATION ##########\")\n",
    "perf = []\n",
    "for category in sorted(df['topic'].unique()):    \n",
    "    base_model_dir = f'./model/ASKPA/out-of-category/'\n",
    "    model = get_model(base_model_dir, category)\n",
    "    \n",
    "    merged_df, precisions = do_eval(df[(df['topic'] == category) & (df['isMultiAspect'] == True)], model, in_category=False)\n",
    "    del model\n",
    "    torch.cuda.empty_cache()\n",
    "    \n",
    "    perf += [pd.Series({'Business Category': category, 'Average Precision': precisions})]\n",
    "\n",
    "perf_df = pd.concat(perf, axis=1).T\n",
    "perf_df"
   ]
  },
  {
   "cell_type": "code",
   "execution_count": 17,
   "id": "c78d7555",
   "metadata": {},
   "outputs": [
    {
     "data": {
      "text/html": [
       "<div>\n",
       "<style scoped>\n",
       "    .dataframe tbody tr th:only-of-type {\n",
       "        vertical-align: middle;\n",
       "    }\n",
       "\n",
       "    .dataframe tbody tr th {\n",
       "        vertical-align: top;\n",
       "    }\n",
       "\n",
       "    .dataframe thead th {\n",
       "        text-align: right;\n",
       "    }\n",
       "</style>\n",
       "<table border=\"1\" class=\"dataframe\">\n",
       "  <thead>\n",
       "    <tr style=\"text-align: right;\">\n",
       "      <th></th>\n",
       "      <th>comment_id_new</th>\n",
       "      <th>comment_id</th>\n",
       "      <th>topic</th>\n",
       "      <th>key_point_id</th>\n",
       "      <th>score</th>\n",
       "      <th>label</th>\n",
       "    </tr>\n",
       "  </thead>\n",
       "  <tbody>\n",
       "    <tr>\n",
       "      <th>0</th>\n",
       "      <td>arg_4_1456_0</td>\n",
       "      <td>arg_4_1456</td>\n",
       "      <td>Restaurants</td>\n",
       "      <td>kp_4_29</td>\n",
       "      <td>0.999401</td>\n",
       "      <td>1</td>\n",
       "    </tr>\n",
       "    <tr>\n",
       "      <th>1</th>\n",
       "      <td>arg_4_1456_1</td>\n",
       "      <td>arg_4_1456</td>\n",
       "      <td>Restaurants</td>\n",
       "      <td>kp_4_6</td>\n",
       "      <td>1.000000</td>\n",
       "      <td>1</td>\n",
       "    </tr>\n",
       "    <tr>\n",
       "      <th>2</th>\n",
       "      <td>arg_4_1766_0</td>\n",
       "      <td>arg_4_1766</td>\n",
       "      <td>Restaurants</td>\n",
       "      <td>kp_4_25</td>\n",
       "      <td>0.992791</td>\n",
       "      <td>0</td>\n",
       "    </tr>\n",
       "    <tr>\n",
       "      <th>4</th>\n",
       "      <td>arg_4_1766_1</td>\n",
       "      <td>arg_4_1766</td>\n",
       "      <td>Restaurants</td>\n",
       "      <td>kp_4_12</td>\n",
       "      <td>0.995837</td>\n",
       "      <td>0</td>\n",
       "    </tr>\n",
       "    <tr>\n",
       "      <th>6</th>\n",
       "      <td>arg_4_1829_0</td>\n",
       "      <td>arg_4_1829</td>\n",
       "      <td>Restaurants</td>\n",
       "      <td>kp_4_26</td>\n",
       "      <td>0.457310</td>\n",
       "      <td>0</td>\n",
       "    </tr>\n",
       "    <tr>\n",
       "      <th>7</th>\n",
       "      <td>arg_4_1829_1</td>\n",
       "      <td>arg_4_1829</td>\n",
       "      <td>Restaurants</td>\n",
       "      <td>kp_4_8</td>\n",
       "      <td>0.648316</td>\n",
       "      <td>0</td>\n",
       "    </tr>\n",
       "    <tr>\n",
       "      <th>8</th>\n",
       "      <td>arg_4_1973_0</td>\n",
       "      <td>arg_4_1973</td>\n",
       "      <td>Restaurants</td>\n",
       "      <td>kp_4_3</td>\n",
       "      <td>0.510202</td>\n",
       "      <td>0</td>\n",
       "    </tr>\n",
       "    <tr>\n",
       "      <th>9</th>\n",
       "      <td>arg_4_1973_1</td>\n",
       "      <td>arg_4_1973</td>\n",
       "      <td>Restaurants</td>\n",
       "      <td>kp_4_17</td>\n",
       "      <td>0.461653</td>\n",
       "      <td>1</td>\n",
       "    </tr>\n",
       "    <tr>\n",
       "      <th>10</th>\n",
       "      <td>arg_4_2015_0</td>\n",
       "      <td>arg_4_2015</td>\n",
       "      <td>Restaurants</td>\n",
       "      <td>kp_4_17</td>\n",
       "      <td>0.625933</td>\n",
       "      <td>0</td>\n",
       "    </tr>\n",
       "    <tr>\n",
       "      <th>11</th>\n",
       "      <td>arg_4_2015_1</td>\n",
       "      <td>arg_4_2015</td>\n",
       "      <td>Restaurants</td>\n",
       "      <td>kp_4_10</td>\n",
       "      <td>0.941599</td>\n",
       "      <td>1</td>\n",
       "    </tr>\n",
       "    <tr>\n",
       "      <th>12</th>\n",
       "      <td>arg_4_2015_2</td>\n",
       "      <td>arg_4_2015</td>\n",
       "      <td>Restaurants</td>\n",
       "      <td>kp_4_23</td>\n",
       "      <td>0.493392</td>\n",
       "      <td>0</td>\n",
       "    </tr>\n",
       "    <tr>\n",
       "      <th>13</th>\n",
       "      <td>arg_4_2500_0</td>\n",
       "      <td>arg_4_2500</td>\n",
       "      <td>Restaurants</td>\n",
       "      <td>kp_4_23</td>\n",
       "      <td>0.329514</td>\n",
       "      <td>0</td>\n",
       "    </tr>\n",
       "    <tr>\n",
       "      <th>14</th>\n",
       "      <td>arg_4_2500_1</td>\n",
       "      <td>arg_4_2500</td>\n",
       "      <td>Restaurants</td>\n",
       "      <td>kp_4_28</td>\n",
       "      <td>0.999552</td>\n",
       "      <td>1</td>\n",
       "    </tr>\n",
       "    <tr>\n",
       "      <th>15</th>\n",
       "      <td>arg_4_3679_0</td>\n",
       "      <td>arg_4_3679</td>\n",
       "      <td>Restaurants</td>\n",
       "      <td>kp_4_19</td>\n",
       "      <td>0.956712</td>\n",
       "      <td>1</td>\n",
       "    </tr>\n",
       "    <tr>\n",
       "      <th>17</th>\n",
       "      <td>arg_4_3904_0</td>\n",
       "      <td>arg_4_3904</td>\n",
       "      <td>Restaurants</td>\n",
       "      <td>kp_4_17</td>\n",
       "      <td>0.477611</td>\n",
       "      <td>0</td>\n",
       "    </tr>\n",
       "    <tr>\n",
       "      <th>18</th>\n",
       "      <td>arg_4_3904_1</td>\n",
       "      <td>arg_4_3904</td>\n",
       "      <td>Restaurants</td>\n",
       "      <td>kp_4_25</td>\n",
       "      <td>0.577263</td>\n",
       "      <td>0</td>\n",
       "    </tr>\n",
       "    <tr>\n",
       "      <th>19</th>\n",
       "      <td>arg_4_4718_0</td>\n",
       "      <td>arg_4_4718</td>\n",
       "      <td>Restaurants</td>\n",
       "      <td>kp_4_15</td>\n",
       "      <td>0.998674</td>\n",
       "      <td>0</td>\n",
       "    </tr>\n",
       "    <tr>\n",
       "      <th>20</th>\n",
       "      <td>arg_4_4718_1</td>\n",
       "      <td>arg_4_4718</td>\n",
       "      <td>Restaurants</td>\n",
       "      <td>kp_4_26</td>\n",
       "      <td>0.490645</td>\n",
       "      <td>0</td>\n",
       "    </tr>\n",
       "    <tr>\n",
       "      <th>21</th>\n",
       "      <td>arg_4_5407_0</td>\n",
       "      <td>arg_4_5407</td>\n",
       "      <td>Restaurants</td>\n",
       "      <td>kp_4_14</td>\n",
       "      <td>0.998840</td>\n",
       "      <td>0</td>\n",
       "    </tr>\n",
       "    <tr>\n",
       "      <th>22</th>\n",
       "      <td>arg_4_5407_1</td>\n",
       "      <td>arg_4_5407</td>\n",
       "      <td>Restaurants</td>\n",
       "      <td>kp_4_23</td>\n",
       "      <td>0.659720</td>\n",
       "      <td>0</td>\n",
       "    </tr>\n",
       "    <tr>\n",
       "      <th>23</th>\n",
       "      <td>arg_4_5992_0</td>\n",
       "      <td>arg_4_5992</td>\n",
       "      <td>Restaurants</td>\n",
       "      <td>kp_4_29</td>\n",
       "      <td>0.999933</td>\n",
       "      <td>1</td>\n",
       "    </tr>\n",
       "    <tr>\n",
       "      <th>24</th>\n",
       "      <td>arg_4_5992_1</td>\n",
       "      <td>arg_4_5992</td>\n",
       "      <td>Restaurants</td>\n",
       "      <td>kp_4_26</td>\n",
       "      <td>0.461319</td>\n",
       "      <td>0</td>\n",
       "    </tr>\n",
       "    <tr>\n",
       "      <th>25</th>\n",
       "      <td>arg_4_6064_0</td>\n",
       "      <td>arg_4_6064</td>\n",
       "      <td>Restaurants</td>\n",
       "      <td>kp_4_21</td>\n",
       "      <td>0.986458</td>\n",
       "      <td>1</td>\n",
       "    </tr>\n",
       "    <tr>\n",
       "      <th>26</th>\n",
       "      <td>arg_4_6064_1</td>\n",
       "      <td>arg_4_6064</td>\n",
       "      <td>Restaurants</td>\n",
       "      <td>kp_4_28</td>\n",
       "      <td>0.927920</td>\n",
       "      <td>1</td>\n",
       "    </tr>\n",
       "    <tr>\n",
       "      <th>27</th>\n",
       "      <td>arg_4_6122_0</td>\n",
       "      <td>arg_4_6122</td>\n",
       "      <td>Restaurants</td>\n",
       "      <td>kp_4_21</td>\n",
       "      <td>0.978737</td>\n",
       "      <td>1</td>\n",
       "    </tr>\n",
       "    <tr>\n",
       "      <th>28</th>\n",
       "      <td>arg_4_6122_1</td>\n",
       "      <td>arg_4_6122</td>\n",
       "      <td>Restaurants</td>\n",
       "      <td>kp_4_23</td>\n",
       "      <td>0.997137</td>\n",
       "      <td>1</td>\n",
       "    </tr>\n",
       "    <tr>\n",
       "      <th>29</th>\n",
       "      <td>arg_4_653_0</td>\n",
       "      <td>arg_4_653</td>\n",
       "      <td>Restaurants</td>\n",
       "      <td>kp_4_21</td>\n",
       "      <td>0.503485</td>\n",
       "      <td>0</td>\n",
       "    </tr>\n",
       "    <tr>\n",
       "      <th>30</th>\n",
       "      <td>arg_4_653_1</td>\n",
       "      <td>arg_4_653</td>\n",
       "      <td>Restaurants</td>\n",
       "      <td>kp_4_23</td>\n",
       "      <td>0.620395</td>\n",
       "      <td>0</td>\n",
       "    </tr>\n",
       "    <tr>\n",
       "      <th>31</th>\n",
       "      <td>arg_4_7180_0</td>\n",
       "      <td>arg_4_7180</td>\n",
       "      <td>Restaurants</td>\n",
       "      <td>kp_4_19</td>\n",
       "      <td>0.611827</td>\n",
       "      <td>0</td>\n",
       "    </tr>\n",
       "    <tr>\n",
       "      <th>32</th>\n",
       "      <td>arg_4_7180_1</td>\n",
       "      <td>arg_4_7180</td>\n",
       "      <td>Restaurants</td>\n",
       "      <td>kp_4_29</td>\n",
       "      <td>0.999796</td>\n",
       "      <td>1</td>\n",
       "    </tr>\n",
       "    <tr>\n",
       "      <th>33</th>\n",
       "      <td>arg_4_768_0</td>\n",
       "      <td>arg_4_768</td>\n",
       "      <td>Restaurants</td>\n",
       "      <td>kp_4_14</td>\n",
       "      <td>0.499864</td>\n",
       "      <td>0</td>\n",
       "    </tr>\n",
       "    <tr>\n",
       "      <th>34</th>\n",
       "      <td>arg_4_768_1</td>\n",
       "      <td>arg_4_768</td>\n",
       "      <td>Restaurants</td>\n",
       "      <td>kp_4_15</td>\n",
       "      <td>0.999645</td>\n",
       "      <td>0</td>\n",
       "    </tr>\n",
       "  </tbody>\n",
       "</table>\n",
       "</div>"
      ],
      "text/plain": [
       "   comment_id_new  comment_id        topic key_point_id     score  label\n",
       "0    arg_4_1456_0  arg_4_1456  Restaurants      kp_4_29  0.999401      1\n",
       "1    arg_4_1456_1  arg_4_1456  Restaurants       kp_4_6  1.000000      1\n",
       "2    arg_4_1766_0  arg_4_1766  Restaurants      kp_4_25  0.992791      0\n",
       "4    arg_4_1766_1  arg_4_1766  Restaurants      kp_4_12  0.995837      0\n",
       "6    arg_4_1829_0  arg_4_1829  Restaurants      kp_4_26  0.457310      0\n",
       "7    arg_4_1829_1  arg_4_1829  Restaurants       kp_4_8  0.648316      0\n",
       "8    arg_4_1973_0  arg_4_1973  Restaurants       kp_4_3  0.510202      0\n",
       "9    arg_4_1973_1  arg_4_1973  Restaurants      kp_4_17  0.461653      1\n",
       "10   arg_4_2015_0  arg_4_2015  Restaurants      kp_4_17  0.625933      0\n",
       "11   arg_4_2015_1  arg_4_2015  Restaurants      kp_4_10  0.941599      1\n",
       "12   arg_4_2015_2  arg_4_2015  Restaurants      kp_4_23  0.493392      0\n",
       "13   arg_4_2500_0  arg_4_2500  Restaurants      kp_4_23  0.329514      0\n",
       "14   arg_4_2500_1  arg_4_2500  Restaurants      kp_4_28  0.999552      1\n",
       "15   arg_4_3679_0  arg_4_3679  Restaurants      kp_4_19  0.956712      1\n",
       "17   arg_4_3904_0  arg_4_3904  Restaurants      kp_4_17  0.477611      0\n",
       "18   arg_4_3904_1  arg_4_3904  Restaurants      kp_4_25  0.577263      0\n",
       "19   arg_4_4718_0  arg_4_4718  Restaurants      kp_4_15  0.998674      0\n",
       "20   arg_4_4718_1  arg_4_4718  Restaurants      kp_4_26  0.490645      0\n",
       "21   arg_4_5407_0  arg_4_5407  Restaurants      kp_4_14  0.998840      0\n",
       "22   arg_4_5407_1  arg_4_5407  Restaurants      kp_4_23  0.659720      0\n",
       "23   arg_4_5992_0  arg_4_5992  Restaurants      kp_4_29  0.999933      1\n",
       "24   arg_4_5992_1  arg_4_5992  Restaurants      kp_4_26  0.461319      0\n",
       "25   arg_4_6064_0  arg_4_6064  Restaurants      kp_4_21  0.986458      1\n",
       "26   arg_4_6064_1  arg_4_6064  Restaurants      kp_4_28  0.927920      1\n",
       "27   arg_4_6122_0  arg_4_6122  Restaurants      kp_4_21  0.978737      1\n",
       "28   arg_4_6122_1  arg_4_6122  Restaurants      kp_4_23  0.997137      1\n",
       "29    arg_4_653_0   arg_4_653  Restaurants      kp_4_21  0.503485      0\n",
       "30    arg_4_653_1   arg_4_653  Restaurants      kp_4_23  0.620395      0\n",
       "31   arg_4_7180_0  arg_4_7180  Restaurants      kp_4_19  0.611827      0\n",
       "32   arg_4_7180_1  arg_4_7180  Restaurants      kp_4_29  0.999796      1\n",
       "33    arg_4_768_0   arg_4_768  Restaurants      kp_4_14  0.499864      0\n",
       "34    arg_4_768_1   arg_4_768  Restaurants      kp_4_15  0.999645      0"
      ]
     },
     "execution_count": 17,
     "metadata": {},
     "output_type": "execute_result"
    }
   ],
   "source": [
    "merged_df"
   ]
  },
  {
   "cell_type": "markdown",
   "id": "bd5b3f11",
   "metadata": {
    "pycharm": {
     "name": "#%% md\n"
    }
   },
   "source": [
    "# Quantitative KP Coverage and Precision/Recall"
   ]
  },
  {
   "cell_type": "code",
   "execution_count": 18,
   "id": "de2dd985",
   "metadata": {},
   "outputs": [],
   "source": [
    "from sklearn.metrics import recall_score, precision_score\n",
    "\n",
    "def get_top_kp_coverages(merged_df, df, category, top=None, selected_kps=[]):\n",
    "    comment_df, kp_df, labels_df = prepare_comment_kp_label_input(df)\n",
    "\n",
    "    valid_df = df[(df['label'] == 1) & (df['topic'] == category)]\n",
    "    valid_kp = valid_df['full_key_point'].value_counts()\n",
    "    \n",
    "    top_kp = merged_df[merged_df['topic'] == category].merge(kp_df, on=['key_point_id'])['full_key_point'].value_counts()\n",
    "    result = top_kp[top_kp.index.isin(valid_kp.index.tolist())]\n",
    "    if top != None:\n",
    "        result = result[result.index.isin(valid_kp.head(top).index)]\n",
    "    elif len(selected_kps) > 0:\n",
    "        result = result[result.index.isin(selected_kps)]\n",
    "    \n",
    "    if top != None:\n",
    "        valid_df = df[df['full_key_point'].isin(valid_kp.head(top).index)]\n",
    "    elif len(selected_kps) > 0:\n",
    "        valid_df = valid_df[valid_df['full_key_point'].isin(selected_kps)]\n",
    "    \n",
    "    pred_df = merged_df[merged_df['topic'] == category].merge(kp_df, on=['key_point_id'])\n",
    "    if top != None:\n",
    "        pred_df = pred_df[pred_df['full_key_point'].isin(valid_kp.head(top).index)]\n",
    "    elif len(selected_kps) > 0:\n",
    "        pred_df = pred_df[pred_df['full_key_point'].isin(selected_kps)]\n",
    "        \n",
    "    return valid_df, pred_df"
   ]
  },
  {
   "cell_type": "code",
   "execution_count": 19,
   "id": "1d34b3a5",
   "metadata": {},
   "outputs": [],
   "source": [
    "def calculate_precision_recall(valid_df, pred_df):\n",
    "    pred_df['pred_label'] = 1\n",
    "    \n",
    "    # Calculate Precision\n",
    "    new_valid_df = valid_df.merge(pred_df[['comment_id', 'key_point_id', 'pred_label']], how='right')\n",
    "    new_valid_df['label'] = new_valid_df['label'].fillna(0)\n",
    "    precision = precision_score(new_valid_df['label'], new_valid_df['pred_label'])\n",
    "\n",
    "    # Calculate Recall\n",
    "    new_valid_df = valid_df.merge(pred_df[['comment_id', 'key_point_id', 'pred_label']], how='left')\n",
    "    new_valid_df['pred_label'] = new_valid_df['pred_label'].fillna(0)\n",
    "    recall = recall_score(new_valid_df['label'], new_valid_df['pred_label'])\n",
    "    \n",
    "    return precision, recall"
   ]
  },
  {
   "cell_type": "code",
   "execution_count": 20,
   "id": "60f85350",
   "metadata": {},
   "outputs": [],
   "source": [
    "def generate_coverage_table(valid_df, pred_df): \n",
    "    coverage_compare_table = pred_df['full_key_point'].value_counts().reset_index()\n",
    "    coverage_compare_table.columns = ['Key Points', 'Predicted Coverage']\n",
    "    coverage_compare_table['Actual Coverage'] = valid_df['full_key_point'].value_counts().tolist()\n",
    "    return coverage_compare_table"
   ]
  },
  {
   "cell_type": "markdown",
   "id": "dda3c6b1",
   "metadata": {},
   "source": [
    "**Use only in-catgeory result to evaluate**"
   ]
  },
  {
   "cell_type": "markdown",
   "id": "b7baee13",
   "metadata": {
    "pycharm": {
     "name": "#%% md\n"
    }
   },
   "source": [
    "## Arts & Entertainment"
   ]
  },
  {
   "cell_type": "code",
   "execution_count": 21,
   "id": "a91e0b63",
   "metadata": {},
   "outputs": [],
   "source": [
    "category = \"Arts & Entertainment\""
   ]
  },
  {
   "cell_type": "code",
   "execution_count": 22,
   "id": "b9f4c3d6",
   "metadata": {},
   "outputs": [],
   "source": [
    "base_model_dir = f'./model/ASKPA/in-category/'\n",
    "model = get_model(base_model_dir, category)\n",
    "merged_df, precisions = do_eval(df[(df['topic'] == category)], model)\n",
    "del model\n",
    "torch.cuda.empty_cache()"
   ]
  },
  {
   "cell_type": "markdown",
   "id": "7e473019",
   "metadata": {
    "pycharm": {
     "name": "#%% md\n"
    }
   },
   "source": [
    "Calculate Precision/Recall of model performance on important KPs (top 3 KPs from the human annotation)"
   ]
  },
  {
   "cell_type": "code",
   "execution_count": 23,
   "id": "72850266",
   "metadata": {},
   "outputs": [],
   "source": [
    "selected_kps = ['Friendly and helpful staff .', 'Seats are adequately comfortable .   ', 'Horrible customer service .']\n",
    "valid_df, pred_df = get_top_kp_coverages(merged_df, df, 'Arts & Entertainment', None, selected_kps)"
   ]
  },
  {
   "cell_type": "code",
   "execution_count": 24,
   "id": "d545bf12",
   "metadata": {},
   "outputs": [
    {
     "data": {
      "text/html": [
       "<div>\n",
       "<style scoped>\n",
       "    .dataframe tbody tr th:only-of-type {\n",
       "        vertical-align: middle;\n",
       "    }\n",
       "\n",
       "    .dataframe tbody tr th {\n",
       "        vertical-align: top;\n",
       "    }\n",
       "\n",
       "    .dataframe thead th {\n",
       "        text-align: right;\n",
       "    }\n",
       "</style>\n",
       "<table border=\"1\" class=\"dataframe\">\n",
       "  <thead>\n",
       "    <tr style=\"text-align: right;\">\n",
       "      <th></th>\n",
       "      <th>Key Points</th>\n",
       "      <th>Predicted Coverage</th>\n",
       "      <th>Actual Coverage</th>\n",
       "    </tr>\n",
       "  </thead>\n",
       "  <tbody>\n",
       "    <tr>\n",
       "      <th>0</th>\n",
       "      <td>Friendly and helpful staff .</td>\n",
       "      <td>10</td>\n",
       "      <td>14</td>\n",
       "    </tr>\n",
       "    <tr>\n",
       "      <th>1</th>\n",
       "      <td>Seats are adequately comfortable .</td>\n",
       "      <td>4</td>\n",
       "      <td>4</td>\n",
       "    </tr>\n",
       "    <tr>\n",
       "      <th>2</th>\n",
       "      <td>Horrible customer service .</td>\n",
       "      <td>2</td>\n",
       "      <td>3</td>\n",
       "    </tr>\n",
       "  </tbody>\n",
       "</table>\n",
       "</div>"
      ],
      "text/plain": [
       "                              Key Points  Predicted Coverage  Actual Coverage\n",
       "0           Friendly and helpful staff .                  10               14\n",
       "1  Seats are adequately comfortable .                      4                4\n",
       "2            Horrible customer service .                   2                3"
      ]
     },
     "execution_count": 24,
     "metadata": {},
     "output_type": "execute_result"
    }
   ],
   "source": [
    "generate_coverage_table(valid_df, pred_df)"
   ]
  },
  {
   "cell_type": "code",
   "execution_count": 25,
   "id": "f3586a1a",
   "metadata": {},
   "outputs": [
    {
     "name": "stdout",
     "output_type": "stream",
     "text": [
      "Precision: 1.00\n",
      "Recall: 0.76\n"
     ]
    }
   ],
   "source": [
    "precision, recall = calculate_precision_recall(valid_df, pred_df)\n",
    "print(\"Precision: {:.2f}\".format(precision))\n",
    "print(\"Recall: {:.2f}\".format(recall))"
   ]
  },
  {
   "cell_type": "markdown",
   "id": "38d3216f",
   "metadata": {
    "pycharm": {
     "name": "#%% md\n"
    }
   },
   "source": [
    "## Automotive"
   ]
  },
  {
   "cell_type": "code",
   "execution_count": 26,
   "id": "b60417db",
   "metadata": {},
   "outputs": [],
   "source": [
    "category = \"Automotive\""
   ]
  },
  {
   "cell_type": "code",
   "execution_count": 27,
   "id": "7f6401b9",
   "metadata": {},
   "outputs": [],
   "source": [
    "base_model_dir = f'./model/ASKPA/in-category/'\n",
    "model = get_model(base_model_dir, category)\n",
    "merged_df, precisions = do_eval(df[(df['topic'] == category)], model)\n",
    "del model\n",
    "torch.cuda.empty_cache()"
   ]
  },
  {
   "cell_type": "markdown",
   "id": "6f654859",
   "metadata": {
    "pycharm": {
     "name": "#%% md\n"
    }
   },
   "source": [
    "Calculate Precision/Recall of model performance on important KPs (top 3 KPs from the human annotation)"
   ]
  },
  {
   "cell_type": "code",
   "execution_count": 28,
   "id": "bb25a812",
   "metadata": {},
   "outputs": [],
   "source": [
    "selected_kps = ['They have excellent customer service .', 'The employees here are wonderful !', 'Very professional staff .']\n",
    "valid_df, pred_df = get_top_kp_coverages(merged_df, df, 'Automotive', None, selected_kps)"
   ]
  },
  {
   "cell_type": "code",
   "execution_count": 29,
   "id": "a4291883",
   "metadata": {},
   "outputs": [
    {
     "data": {
      "text/html": [
       "<div>\n",
       "<style scoped>\n",
       "    .dataframe tbody tr th:only-of-type {\n",
       "        vertical-align: middle;\n",
       "    }\n",
       "\n",
       "    .dataframe tbody tr th {\n",
       "        vertical-align: top;\n",
       "    }\n",
       "\n",
       "    .dataframe thead th {\n",
       "        text-align: right;\n",
       "    }\n",
       "</style>\n",
       "<table border=\"1\" class=\"dataframe\">\n",
       "  <thead>\n",
       "    <tr style=\"text-align: right;\">\n",
       "      <th></th>\n",
       "      <th>Key Points</th>\n",
       "      <th>Predicted Coverage</th>\n",
       "      <th>Actual Coverage</th>\n",
       "    </tr>\n",
       "  </thead>\n",
       "  <tbody>\n",
       "    <tr>\n",
       "      <th>0</th>\n",
       "      <td>They have excellent customer service .</td>\n",
       "      <td>6</td>\n",
       "      <td>29</td>\n",
       "    </tr>\n",
       "    <tr>\n",
       "      <th>1</th>\n",
       "      <td>Very professional staff .</td>\n",
       "      <td>4</td>\n",
       "      <td>13</td>\n",
       "    </tr>\n",
       "    <tr>\n",
       "      <th>2</th>\n",
       "      <td>The employees here are wonderful !</td>\n",
       "      <td>3</td>\n",
       "      <td>13</td>\n",
       "    </tr>\n",
       "  </tbody>\n",
       "</table>\n",
       "</div>"
      ],
      "text/plain": [
       "                               Key Points  Predicted Coverage  Actual Coverage\n",
       "0  They have excellent customer service .                   6               29\n",
       "1               Very professional staff .                   4               13\n",
       "2      The employees here are wonderful !                   3               13"
      ]
     },
     "execution_count": 29,
     "metadata": {},
     "output_type": "execute_result"
    }
   ],
   "source": [
    "generate_coverage_table(valid_df, pred_df)"
   ]
  },
  {
   "cell_type": "code",
   "execution_count": 30,
   "id": "210ea356",
   "metadata": {},
   "outputs": [
    {
     "name": "stdout",
     "output_type": "stream",
     "text": [
      "Precision: 0.92\n",
      "Recall: 0.22\n"
     ]
    }
   ],
   "source": [
    "precision, recall = calculate_precision_recall(valid_df, pred_df)\n",
    "print(\"Precision: {:.2f}\".format(precision))\n",
    "print(\"Recall: {:.2f}\".format(recall))"
   ]
  },
  {
   "cell_type": "markdown",
   "id": "bbd72073",
   "metadata": {
    "pycharm": {
     "name": "#%% md\n"
    }
   },
   "source": [
    "## Beauty & Spas"
   ]
  },
  {
   "cell_type": "code",
   "execution_count": 31,
   "id": "926022da",
   "metadata": {},
   "outputs": [],
   "source": [
    "category = \"Beauty & Spas\""
   ]
  },
  {
   "cell_type": "code",
   "execution_count": 32,
   "id": "f9c3ea9d",
   "metadata": {},
   "outputs": [],
   "source": [
    "base_model_dir = f'./model/ASKPA/in-category/'\n",
    "model = get_model(base_model_dir, category)\n",
    "merged_df, precisions = do_eval(df[(df['topic'] == category)], model)\n",
    "del model\n",
    "torch.cuda.empty_cache()"
   ]
  },
  {
   "cell_type": "markdown",
   "id": "3d97b6ed",
   "metadata": {
    "pycharm": {
     "name": "#%% md\n"
    }
   },
   "source": [
    "Calculate Precision/Recall of model performance on important KPs (top 3 KPs from the human annotation)"
   ]
  },
  {
   "cell_type": "code",
   "execution_count": 33,
   "id": "003881ef",
   "metadata": {},
   "outputs": [],
   "source": [
    "selected_kps = ['Staff is friendly and accommodating .', 'Customer service- EXCELLENT !', 'Amazing & professional service .']\n",
    "valid_df, pred_df = get_top_kp_coverages(merged_df, df, \"Beauty & Spas\", None, selected_kps)"
   ]
  },
  {
   "cell_type": "code",
   "execution_count": 34,
   "id": "5e93814a",
   "metadata": {},
   "outputs": [
    {
     "data": {
      "text/html": [
       "<div>\n",
       "<style scoped>\n",
       "    .dataframe tbody tr th:only-of-type {\n",
       "        vertical-align: middle;\n",
       "    }\n",
       "\n",
       "    .dataframe tbody tr th {\n",
       "        vertical-align: top;\n",
       "    }\n",
       "\n",
       "    .dataframe thead th {\n",
       "        text-align: right;\n",
       "    }\n",
       "</style>\n",
       "<table border=\"1\" class=\"dataframe\">\n",
       "  <thead>\n",
       "    <tr style=\"text-align: right;\">\n",
       "      <th></th>\n",
       "      <th>Key Points</th>\n",
       "      <th>Predicted Coverage</th>\n",
       "      <th>Actual Coverage</th>\n",
       "    </tr>\n",
       "  </thead>\n",
       "  <tbody>\n",
       "    <tr>\n",
       "      <th>0</th>\n",
       "      <td>Staff is friendly and accommodating .</td>\n",
       "      <td>14</td>\n",
       "      <td>18</td>\n",
       "    </tr>\n",
       "    <tr>\n",
       "      <th>1</th>\n",
       "      <td>Customer service- EXCELLENT !</td>\n",
       "      <td>5</td>\n",
       "      <td>14</td>\n",
       "    </tr>\n",
       "    <tr>\n",
       "      <th>2</th>\n",
       "      <td>Amazing &amp; professional service .</td>\n",
       "      <td>3</td>\n",
       "      <td>13</td>\n",
       "    </tr>\n",
       "  </tbody>\n",
       "</table>\n",
       "</div>"
      ],
      "text/plain": [
       "                              Key Points  Predicted Coverage  Actual Coverage\n",
       "0  Staff is friendly and accommodating .                  14               18\n",
       "1          Customer service- EXCELLENT !                   5               14\n",
       "2       Amazing & professional service .                   3               13"
      ]
     },
     "execution_count": 34,
     "metadata": {},
     "output_type": "execute_result"
    }
   ],
   "source": [
    "generate_coverage_table(valid_df, pred_df)"
   ]
  },
  {
   "cell_type": "code",
   "execution_count": 35,
   "id": "fb40e62e",
   "metadata": {},
   "outputs": [
    {
     "name": "stdout",
     "output_type": "stream",
     "text": [
      "Precision: 0.91\n",
      "Recall: 0.44\n"
     ]
    }
   ],
   "source": [
    "precision, recall = calculate_precision_recall(valid_df, pred_df)\n",
    "print(\"Precision: {:.2f}\".format(precision))\n",
    "print(\"Recall: {:.2f}\".format(recall))"
   ]
  },
  {
   "cell_type": "markdown",
   "id": "1458f631",
   "metadata": {
    "pycharm": {
     "name": "#%% md\n"
    }
   },
   "source": [
    "## Hotels"
   ]
  },
  {
   "cell_type": "code",
   "execution_count": 36,
   "id": "d1f0bc63",
   "metadata": {},
   "outputs": [],
   "source": [
    "category = \"Hotels\""
   ]
  },
  {
   "cell_type": "code",
   "execution_count": 37,
   "id": "4c1c74cc",
   "metadata": {},
   "outputs": [],
   "source": [
    "base_model_dir = f'./model/ASKPA/in-category/'\n",
    "model = get_model(base_model_dir, category)\n",
    "merged_df, precisions = do_eval(df[(df['topic'] == category)], model)\n",
    "del model\n",
    "torch.cuda.empty_cache()"
   ]
  },
  {
   "cell_type": "markdown",
   "id": "fe3b65d2",
   "metadata": {
    "pycharm": {
     "name": "#%% md\n"
    }
   },
   "source": [
    "Calculate Precision/Recall of model performance on important KPs (top 3 KPs from the human annotation)"
   ]
  },
  {
   "cell_type": "code",
   "execution_count": 38,
   "id": "3f5ea7e6",
   "metadata": {},
   "outputs": [],
   "source": [
    "selected_kps = ['Friendly and helpful staff .', 'Clean and comfortable rooms .', 'The ambience is wonderfully peaceful .']\n",
    "valid_df, pred_df = get_top_kp_coverages(merged_df, df, 'Hotels', None, selected_kps)"
   ]
  },
  {
   "cell_type": "code",
   "execution_count": 39,
   "id": "666693af",
   "metadata": {},
   "outputs": [
    {
     "data": {
      "text/html": [
       "<div>\n",
       "<style scoped>\n",
       "    .dataframe tbody tr th:only-of-type {\n",
       "        vertical-align: middle;\n",
       "    }\n",
       "\n",
       "    .dataframe tbody tr th {\n",
       "        vertical-align: top;\n",
       "    }\n",
       "\n",
       "    .dataframe thead th {\n",
       "        text-align: right;\n",
       "    }\n",
       "</style>\n",
       "<table border=\"1\" class=\"dataframe\">\n",
       "  <thead>\n",
       "    <tr style=\"text-align: right;\">\n",
       "      <th></th>\n",
       "      <th>Key Points</th>\n",
       "      <th>Predicted Coverage</th>\n",
       "      <th>Actual Coverage</th>\n",
       "    </tr>\n",
       "  </thead>\n",
       "  <tbody>\n",
       "    <tr>\n",
       "      <th>0</th>\n",
       "      <td>Friendly and helpful staff .</td>\n",
       "      <td>19</td>\n",
       "      <td>21</td>\n",
       "    </tr>\n",
       "    <tr>\n",
       "      <th>1</th>\n",
       "      <td>Clean and comfortable rooms .</td>\n",
       "      <td>9</td>\n",
       "      <td>13</td>\n",
       "    </tr>\n",
       "    <tr>\n",
       "      <th>2</th>\n",
       "      <td>The ambience is wonderfully peaceful .</td>\n",
       "      <td>1</td>\n",
       "      <td>1</td>\n",
       "    </tr>\n",
       "  </tbody>\n",
       "</table>\n",
       "</div>"
      ],
      "text/plain": [
       "                               Key Points  Predicted Coverage  Actual Coverage\n",
       "0            Friendly and helpful staff .                  19               21\n",
       "1           Clean and comfortable rooms .                   9               13\n",
       "2  The ambience is wonderfully peaceful .                   1                1"
      ]
     },
     "execution_count": 39,
     "metadata": {},
     "output_type": "execute_result"
    }
   ],
   "source": [
    "generate_coverage_table(valid_df, pred_df)"
   ]
  },
  {
   "cell_type": "code",
   "execution_count": 40,
   "id": "304f69b0",
   "metadata": {
    "pycharm": {
     "name": "#%%\n"
    },
    "scrolled": true
   },
   "outputs": [
    {
     "name": "stdout",
     "output_type": "stream",
     "text": [
      "Precision: 0.93\n",
      "Recall: 0.77\n"
     ]
    }
   ],
   "source": [
    "precision, recall = calculate_precision_recall(valid_df, pred_df)\n",
    "print(\"Precision: {:.2f}\".format(precision))\n",
    "print(\"Recall: {:.2f}\".format(recall))"
   ]
  },
  {
   "cell_type": "markdown",
   "id": "59a090a3",
   "metadata": {
    "pycharm": {
     "name": "#%% md\n"
    }
   },
   "source": [
    "## Restaurants"
   ]
  },
  {
   "cell_type": "code",
   "execution_count": 41,
   "id": "2df7aec6",
   "metadata": {},
   "outputs": [],
   "source": [
    "category = \"Restaurants\""
   ]
  },
  {
   "cell_type": "code",
   "execution_count": 42,
   "id": "3d301d97",
   "metadata": {},
   "outputs": [],
   "source": [
    "base_model_dir = f'./model/ASKPA/in-category/'\n",
    "model = get_model(base_model_dir, category)\n",
    "merged_df, precisions = do_eval(df[(df['topic'] == category)], model)\n",
    "del model\n",
    "torch.cuda.empty_cache()"
   ]
  },
  {
   "cell_type": "markdown",
   "id": "373892d1",
   "metadata": {
    "pycharm": {
     "name": "#%% md\n"
    }
   },
   "source": [
    "Calculate Precision/Recall of model performance on important KPs (top 3 KPs from the human annotation)"
   ]
  },
  {
   "cell_type": "code",
   "execution_count": 43,
   "id": "27665e83",
   "metadata": {},
   "outputs": [],
   "source": [
    "selected_kps = ['Staff was courteous and accommodating .', \n",
    "                'Fresh food , using local produce .', 'The service here was exceptional .  ']\n",
    "valid_df, pred_df = get_top_kp_coverages(merged_df, df, 'Restaurants', None, selected_kps)"
   ]
  },
  {
   "cell_type": "code",
   "execution_count": 44,
   "id": "c2a83e48",
   "metadata": {},
   "outputs": [
    {
     "data": {
      "text/html": [
       "<div>\n",
       "<style scoped>\n",
       "    .dataframe tbody tr th:only-of-type {\n",
       "        vertical-align: middle;\n",
       "    }\n",
       "\n",
       "    .dataframe tbody tr th {\n",
       "        vertical-align: top;\n",
       "    }\n",
       "\n",
       "    .dataframe thead th {\n",
       "        text-align: right;\n",
       "    }\n",
       "</style>\n",
       "<table border=\"1\" class=\"dataframe\">\n",
       "  <thead>\n",
       "    <tr style=\"text-align: right;\">\n",
       "      <th></th>\n",
       "      <th>Key Points</th>\n",
       "      <th>Predicted Coverage</th>\n",
       "      <th>Actual Coverage</th>\n",
       "    </tr>\n",
       "  </thead>\n",
       "  <tbody>\n",
       "    <tr>\n",
       "      <th>0</th>\n",
       "      <td>Staff was courteous and accommodating .</td>\n",
       "      <td>10</td>\n",
       "      <td>19</td>\n",
       "    </tr>\n",
       "    <tr>\n",
       "      <th>1</th>\n",
       "      <td>The service here was exceptional .</td>\n",
       "      <td>5</td>\n",
       "      <td>5</td>\n",
       "    </tr>\n",
       "    <tr>\n",
       "      <th>2</th>\n",
       "      <td>Fresh food , using local produce .</td>\n",
       "      <td>2</td>\n",
       "      <td>5</td>\n",
       "    </tr>\n",
       "  </tbody>\n",
       "</table>\n",
       "</div>"
      ],
      "text/plain": [
       "                                Key Points  Predicted Coverage  \\\n",
       "0  Staff was courteous and accommodating .                  10   \n",
       "1     The service here was exceptional .                     5   \n",
       "2       Fresh food , using local produce .                   2   \n",
       "\n",
       "   Actual Coverage  \n",
       "0               19  \n",
       "1                5  \n",
       "2                5  "
      ]
     },
     "execution_count": 44,
     "metadata": {},
     "output_type": "execute_result"
    }
   ],
   "source": [
    "generate_coverage_table(valid_df, pred_df)"
   ]
  },
  {
   "cell_type": "code",
   "execution_count": 45,
   "id": "92923071",
   "metadata": {},
   "outputs": [
    {
     "name": "stdout",
     "output_type": "stream",
     "text": [
      "Precision: 0.88\n",
      "Recall: 0.52\n"
     ]
    }
   ],
   "source": [
    "precision, recall = calculate_precision_recall(valid_df, pred_df)\n",
    "print(\"Precision: {:.2f}\".format(precision))\n",
    "print(\"Recall: {:.2f}\".format(recall))"
   ]
  },
  {
   "cell_type": "code",
   "execution_count": null,
   "id": "fc9d4dcd",
   "metadata": {
    "pycharm": {
     "name": "#%%\n"
    }
   },
   "outputs": [],
   "source": []
  }
 ],
 "metadata": {
  "kernelspec": {
   "display_name": "Python 3 (ipykernel)",
   "language": "python",
   "name": "python3"
  },
  "language_info": {
   "codemirror_mode": {
    "name": "ipython",
    "version": 3
   },
   "file_extension": ".py",
   "mimetype": "text/x-python",
   "name": "python",
   "nbconvert_exporter": "python",
   "pygments_lexer": "ipython3",
   "version": "3.9.12"
  },
  "toc": {
   "base_numbering": 1,
   "nav_menu": {},
   "number_sections": true,
   "sideBar": true,
   "skip_h1_title": false,
   "title_cell": "Table of Contents",
   "title_sidebar": "Contents",
   "toc_cell": false,
   "toc_position": {},
   "toc_section_display": true,
   "toc_window_display": true
  }
 },
 "nbformat": 4,
 "nbformat_minor": 5
}
